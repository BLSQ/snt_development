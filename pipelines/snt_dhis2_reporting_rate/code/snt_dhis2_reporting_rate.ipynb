{
 "cells": [
  {
   "cell_type": "markdown",
   "id": "f5827740-2917-4504-9017-9ec7d408e5f4",
   "metadata": {},
   "source": [
    "Script structure:\n",
    "\n",
    "  0. Parameters: set back-up values for parameters, for when the notebook is run manually (_noy_ via pipeline)\n",
    "  1. Setup:\n",
    "        * Paths\n",
    "        * Utils functions\n",
    "  2. Load Data\n",
    "        * **Routine data** (DHIS2) already formatted & aggregated (output of pipeline XXX)\n",
    "        * **Reporting** (DHIS2) pre-computed, already formatted & aggregated (output of pipeline ???)\n",
    "        * **Shapes** (DHIS2) for plotting (this could be removed if we move the plots to \"report/EDA\" nb)\n",
    "  3. Calculate **Reportng Rate (RR)**\n",
    "        * \"**Dataset**\": using pre-computed reportings from DHIS2/SNIS (was: \"DHIS2\")\n",
    "        * \"**Data Element**\": using calculated expected nr of report (nr of active facilities) (was: \"CONF\")\n",
    "  4. **Export** reporting rate data to `.../data/dhis2/reporting_rate/` as .parquet (and .csv) files for **either**:\n",
    "        * dataset: \"XXX_reporting_rate_**dataset**.parquet\" **or**\n",
    "        * dataelement: \"XXX_reporting_rate_**dataelement**.parquet\""
   ]
  },
  {
   "cell_type": "markdown",
   "id": "cdd5409b-dc0e-45f4-ae4e-dffcdb25059b",
   "metadata": {},
   "source": [
    "-------------------\n",
    "**Naming harmonization to improve code readability**:"
   ]
  },
  {
   "cell_type": "markdown",
   "id": "96d5dffc-ff34-4a14-b2b7-1e71e6afad07",
   "metadata": {},
   "source": [
    "**Reporting Rate** data frames, based on different **methods**:\n",
    "* follwo this structure: `reporting_rate_<method>`. So:\n",
    "    * **Dataset** (using pre-computed reporting) : `reporting_rate_dataset`\n",
    "    * **Data Element** (Diallo 2025) : `reporting_rate_dataelement`"
   ]
  },
  {
   "cell_type": "markdown",
   "id": "5e8f5bf2-922a-468a-8a2c-8e56d7e652df",
   "metadata": {},
   "source": [
    "--------------------"
   ]
  },
  {
   "cell_type": "markdown",
   "id": "e962c5a4-6b09-4485-8d71-d842159118d3",
   "metadata": {},
   "source": [
    "### To Do:\n",
    "* For `DATAELEMENT_METHOD_DENOMINATOR == \"PYRAMID_OPEN_FACILITIES\"`: **add code** to count OPEN facilities () for **countries with \"normal\" pyramids** (i.e., when no mixing of facilities and admin levels ... !). Atm only code for Niger, which runs only if `COUNTRY_CODE == NER`. Should add similar (but simpler) code for the rest of the countries (i.e, `COUNTRY_CODE != NER`)\n",
    "* Check why Data Element **Denominator** `routine_active_facilities` is **calculated at `YEAR` (aggregated) instead of `MONTH`** ... possibly fix this to match granularity of other alternatives for denominator (which are calculated at MONTH level)\n",
    "* Modify **report notebook** and/or pipeline.py code so that it does not make the **pipeline FAIL** if `reporting_rate_dataset` or `reporting_rate_dataelement` is **not found** (which is now always the case since we only output 1 file at each run!!)"
   ]
  },
  {
   "cell_type": "markdown",
   "id": "0cdfdc73-bb9a-48a8-a26b-84ecbab2e0aa",
   "metadata": {},
   "source": [
    "----------------"
   ]
  },
  {
   "cell_type": "markdown",
   "id": "339f6d58-0965-40ef-b718-96195d2463f8",
   "metadata": {},
   "source": [
    "## Parameters"
   ]
  },
  {
   "cell_type": "markdown",
   "id": "dd6cd6f8-b91b-4902-8801-a60e11776f98",
   "metadata": {},
   "source": [
    "Set Default values **if _not_ provided by pipeline**<br>\n",
    "This makes the execution flexible and \"safe\": nb can be run manually from here or be executed via pipeline, without having to change anything in the code!"
   ]
  },
  {
   "cell_type": "code",
   "execution_count": null,
   "id": "93aac683-8828-4a42-b841-f16c7e8fbb07",
   "metadata": {},
   "outputs": [],
   "source": [
    "# Set BACKUP VALUE: root path - NEVER CHANGE THIS!\n",
    "if (!exists(\"SNT_ROOT_PATH\")) {\n",
    "  SNT_ROOT_PATH <- \"/home/hexa/workspace\" \n",
    "}\n",
    "\n",
    "\n",
    "# Choose to run either DataSet OR DataElement method\n",
    "if (!exists(\"REPORTING_RATE_METHOD\")) {\n",
    "  # REPORTING_RATE_METHOD <- \"DATASET\"  \n",
    "  REPORTING_RATE_METHOD <- \"DATAELEMENT\"\n",
    "}\n",
    "\n",
    "\n",
    "# Data Elemenet method: Choice of which INDICATORS to use to count the nr of reporting facilities \n",
    "# CONF\n",
    "if (!exists(\"DATAELEMENT_METHOD_NUMERATOR_CONF\")) {\n",
    "  DATAELEMENT_METHOD_NUMERATOR_CONF <- TRUE # FALSE\n",
    "}\n",
    "\n",
    "# SUSP\n",
    "if (!exists(\"DATAELEMENT_METHOD_NUMERATOR_SUSP\")) {\n",
    "  DATAELEMENT_METHOD_NUMERATOR_SUSP <- TRUE # FALSE\n",
    "}\n",
    "\n",
    "# TEST\n",
    "if (!exists(\"DATAELEMENT_METHOD_NUMERATOR_TEST\")) {\n",
    "  DATAELEMENT_METHOD_NUMERATOR_TEST <- TRUE # FALSE\n",
    "}\n",
    "\n",
    "\n",
    "\n",
    "# Data Elemenet RR. Choice: which df to use for nr of `EXPECTED_REPORTS` (DENOMINATOR) \n",
    "if (!exists(\"DATAELEMENT_METHOD_DENOMINATOR\")) {\n",
    "  DATAELEMENT_METHOD_DENOMINATOR <- \"ROUTINE_ACTIVE_FACILITIES\"   \n",
    "  # DATAELEMENT_METHOD_DENOMINATOR <- \"PYRAMID_OPEN_FACILITIES\" \n",
    "  # DATAELEMENT_METHOD_DENOMINATOR <- \"DHIS2_EXPECTED_REPORTS\" # ⚠️ only if `REPORTING_RATE_METHOD == \"DATASET\"` && DataSet is available!! ⚠️\n",
    "} \n"
   ]
  },
  {
   "cell_type": "markdown",
   "id": "af076158-1f5a-408d-8ce2-2f2101d0531c",
   "metadata": {},
   "source": [
    "## 1. Setup"
   ]
  },
  {
   "cell_type": "markdown",
   "id": "3ae826e4-f728-4c8d-81fb-0857234ac622",
   "metadata": {},
   "source": [
    "### 1.1. Paths"
   ]
  },
  {
   "cell_type": "code",
   "execution_count": null,
   "id": "b5f1b8ce-db82-4295-8e74-00b765cf0b9d",
   "metadata": {},
   "outputs": [],
   "source": [
    "# PROJECT PATHS\n",
    "CODE_PATH <- file.path(SNT_ROOT_PATH, 'code') # this is where we store snt_utils.r\n",
    "CONFIG_PATH <- file.path(SNT_ROOT_PATH, 'configuration') # .json config file\n",
    "DATA_PATH <- file.path(SNT_ROOT_PATH, 'data', 'dhis2')  "
   ]
  },
  {
   "cell_type": "markdown",
   "id": "22971de0-1431-4cbd-b8c1-3bd3e1609e0d",
   "metadata": {},
   "source": [
    "### 1.2. Utils functions"
   ]
  },
  {
   "cell_type": "code",
   "execution_count": null,
   "id": "1784fd43-03f3-478b-8148-4b478317ea21",
   "metadata": {},
   "outputs": [],
   "source": [
    "source(file.path(CODE_PATH, \"snt_utils.r\"))"
   ]
  },
  {
   "cell_type": "markdown",
   "id": "3bbcbd39-54e8-4ece-9244-30d7d30291d2",
   "metadata": {},
   "source": [
    "### 1.3. Packages"
   ]
  },
  {
   "cell_type": "code",
   "execution_count": null,
   "id": "426ecff6-0b4c-474d-a48d-826002205b89",
   "metadata": {},
   "outputs": [],
   "source": [
    "# List required pcks  ---------------->  check  what are the really required libraries\n",
    "required_packages <- c(\"arrow\", # for .parquet\n",
    "                       \"tidyverse\",\n",
    "                       \"stringi\", \n",
    "                       \"jsonlite\", \n",
    "                       \"httr\", \n",
    "                       \"reticulate\")\n",
    "\n",
    "# Execute function\n",
    "install_and_load(required_packages)"
   ]
  },
  {
   "cell_type": "markdown",
   "id": "18a8e0c1-ac09-4435-b6f4-5f91fd916396",
   "metadata": {},
   "source": [
    "### 1.3.1. OpenHEXA-specific settings"
   ]
  },
  {
   "cell_type": "markdown",
   "id": "ebb8c7d5-7c2c-4dbe-a1ba-238419fbedf3",
   "metadata": {},
   "source": [
    "#### For 📦{sf}, tell OH where to find stuff ..."
   ]
  },
  {
   "cell_type": "code",
   "execution_count": null,
   "id": "91a66fb7-dd5e-43fd-a6a2-d8bb9f0315d6",
   "metadata": {},
   "outputs": [],
   "source": [
    "Sys.setenv(PROJ_LIB = \"/opt/conda/share/proj\")\n",
    "Sys.setenv(GDAL_DATA = \"/opt/conda/share/gdal\")"
   ]
  },
  {
   "cell_type": "markdown",
   "id": "ac9ee427-020e-47c5-b2c9-5ca24e1f2779",
   "metadata": {},
   "source": [
    "#### Set environment to load openhexa.sdk from the right path"
   ]
  },
  {
   "cell_type": "code",
   "execution_count": null,
   "id": "aa331278-573d-4a22-ab16-da6972d7b0be",
   "metadata": {},
   "outputs": [],
   "source": [
    "# Set environment to load openhexa.sdk from the right path\n",
    "Sys.setenv(RETICULATE_PYTHON = \"/opt/conda/bin/python\")\n",
    "reticulate::py_config()$python\n",
    "openhexa <- import(\"openhexa.sdk\")"
   ]
  },
  {
   "cell_type": "markdown",
   "id": "339b2e8b-9bf6-4eaf-b283-d9360c1c6899",
   "metadata": {},
   "source": [
    "### 1.4. Load and check `config` file"
   ]
  },
  {
   "cell_type": "code",
   "execution_count": null,
   "id": "f1c46526-6844-43ae-bb53-d8d1ad2fac24",
   "metadata": {},
   "outputs": [],
   "source": [
    "# Load SNT config\n",
    "\n",
    "config_file_name <- \"SNT_config.json\" \n",
    "config_json <- tryCatch({\n",
    "        jsonlite::fromJSON(file.path(CONFIG_PATH, config_file_name)) \n",
    "    },\n",
    "    error = function(e) {\n",
    "        msg <- paste0(\"Error while loading configuration\", conditionMessage(e))  \n",
    "        cat(msg)   \n",
    "        stop(msg) \n",
    "    })\n",
    "\n",
    "msg <- paste0(\"SNT configuration loaded from : \", file.path(CONFIG_PATH, config_file_name))\n",
    "log_msg(msg)"
   ]
  },
  {
   "cell_type": "markdown",
   "id": "29182f25-b0cf-46aa-9818-49616cd3f353",
   "metadata": {},
   "source": [
    "**Save config fields as variables**"
   ]
  },
  {
   "cell_type": "code",
   "execution_count": null,
   "id": "c52654c8-8a19-4e0c-a83b-1bc2eecae6bc",
   "metadata": {},
   "outputs": [],
   "source": [
    "# Generic\n",
    "COUNTRY_CODE <- config_json$SNT_CONFIG$COUNTRY_CODE\n",
    "ADMIN_1 <- toupper(config_json$SNT_CONFIG$DHIS2_ADMINISTRATION_1)\n",
    "ADMIN_2 <- toupper(config_json$SNT_CONFIG$DHIS2_ADMINISTRATION_2)\n",
    "\n",
    "# How to treat 0 values (in this case: \"SET_0_TO_NA\" converts 0 to NAs)\n",
    "NA_TREATMENT <- config_json$SNT_CONFIG$NA_TREATMENT\n",
    "\n",
    "# Which (aggregated) indicators to use to evaluate \"activity\" of an HF - for Reporting Rate method \"Ousmane\"\n",
    "DHIS2_INDICATORS <- names(config_json$DHIS2_DATA_DEFINITIONS$DHIS2_INDICATOR_DEFINITIONS)\n",
    "\n",
    "# Which reporting rate PRODUCT_UID to use (not that this is a dataset in COD, but 2 dataElements in BFA!)\n",
    "REPORTING_RATE_PRODUCT_ID <- config_json$SNT_CONFIG$REPORTING_RATE_PRODUCT_UID"
   ]
  },
  {
   "cell_type": "code",
   "execution_count": null,
   "id": "412572bc-fb96-4f61-ac49-be7f449219b6",
   "metadata": {},
   "outputs": [],
   "source": [
    "# DHIS2_INDICATORS\n",
    "log_msg(paste(\"Expecting the following DHIS2 (aggregated) indicators : \", paste(DHIS2_INDICATORS, collapse=\", \")))"
   ]
  },
  {
   "cell_type": "code",
   "execution_count": null,
   "id": "2a0a8562-4a70-455c-9ccf-aa39f4cf4e31",
   "metadata": {},
   "outputs": [],
   "source": [
    "# Fixed  cols for routine data formatting \n",
    "fixed_cols <- c('OU_ID','PERIOD', 'YEAR', 'MONTH', 'ADM1_ID', 'ADM2_ID') # (OU_NAME has homonimous values!)\n",
    "# print(paste(\"Fixed routine data (`dhis2_routine`) columns (always expected): \", paste(fixed_cols, collapse=\", \")))\n",
    "log_msg(paste(\"Expecting the following columns from routine data (`dhis2_routine`) : \", paste(fixed_cols, collapse=\", \")))"
   ]
  },
  {
   "cell_type": "code",
   "execution_count": null,
   "id": "86e82d54-2b00-4c25-9b34-3497d4c88c52",
   "metadata": {},
   "outputs": [],
   "source": [
    "# Fixed cols for exporting RR tables: to export output tables with consistent structure\n",
    "fixed_cols_rr <- c('YEAR', 'MONTH', 'ADM2_ID', 'REPORTING_RATE') "
   ]
  },
  {
   "cell_type": "markdown",
   "id": "dadc7351-e67e-450b-a046-bc64660a7dde",
   "metadata": {},
   "source": [
    "### 1.5. 🔍 Check: at least 1 indicator must be selected\n",
    "The use can toggle on/off each of the indicators. Therefore, need to make sure at least one is ON. <br>\n",
    "Alternatively, `CONF` could be made mandatory, but I think it looks better if they're all displayed in the Run pipeline view (more intuitive)."
   ]
  },
  {
   "cell_type": "code",
   "execution_count": null,
   "id": "2cf6e2a4-0822-4a0c-852e-143da5473d20",
   "metadata": {},
   "outputs": [],
   "source": [
    "nr_of_indicators_selected <- sum(DATAELEMENT_METHOD_NUMERATOR_CONF, DATAELEMENT_METHOD_NUMERATOR_SUSP, DATAELEMENT_METHOD_NUMERATOR_TEST)\n",
    "\n",
    "if (nr_of_indicators_selected == 0) {\n",
    "    msg <- \"[ERROR] Error: no indicator selected, cannot perform calculation of reporting rate method 'Data Element'! Select at least one (e.g., `CONF`).\"\n",
    "    cat(msg)   \n",
    "    stop(msg)\n",
    "}"
   ]
  },
  {
   "cell_type": "markdown",
   "id": "8d8d9be2-bf05-466d-811e-6beea0dccfde",
   "metadata": {},
   "source": [
    "## 2. Load Data"
   ]
  },
  {
   "cell_type": "markdown",
   "id": "0fa1b169-fc55-4ef1-b58f-6a7dc9d1dec3",
   "metadata": {},
   "source": [
    "### 2.1. **Routine** data (DHIS2) \n",
    "already formatted & aggregated (output of pipeline XXX)"
   ]
  },
  {
   "cell_type": "code",
   "execution_count": null,
   "id": "586e8da8-4e1c-431a-9b8d-1169167e1c09",
   "metadata": {},
   "outputs": [],
   "source": [
    "# DHIS2 Dataset extract identifier\n",
    "dataset_name <- config_json$SNT_DATASET_IDENTIFIERS$DHIS2_DATASET_FORMATTED\n",
    "\n",
    "# Load file from dataset\n",
    "dhis2_routine <- tryCatch({ get_latest_dataset_file_in_memory(dataset_name, paste0(COUNTRY_CODE, \"_routine.parquet\")) }, \n",
    "                  error = function(e) {\n",
    "                      msg <- paste(\"Error while loading DHIS2 routine data file for: \" , COUNTRY_CODE, conditionMessage(e))  # log error message\n",
    "                      cat(msg)\n",
    "                      stop(msg)\n",
    "})\n",
    "\n",
    "msg <- paste0(\"DHIS2 routine data loaded from dataset : \", dataset_name, \" dataframe dimensions: \", paste(dim(dhis2_routine), collapse=\", \"))\n",
    "log_msg(msg)"
   ]
  },
  {
   "cell_type": "code",
   "execution_count": null,
   "id": "a2454183-44f7-4e2e-a0cf-ca112aa183bb",
   "metadata": {},
   "outputs": [],
   "source": [
    "# Ensure correct data type for numerical columns \n",
    "dhis2_routine <- dhis2_routine %>%\n",
    "    mutate(across(c(PERIOD, YEAR, MONTH), as.numeric))"
   ]
  },
  {
   "cell_type": "code",
   "execution_count": null,
   "id": "edb2fcdc-ce0a-4c78-b06a-9f4610ab4714",
   "metadata": {},
   "outputs": [],
   "source": [
    "head(dhis2_routine, 3)"
   ]
  },
  {
   "cell_type": "markdown",
   "id": "821e1ebf-b2fa-4469-974e-2e4d27d58854",
   "metadata": {},
   "source": [
    "#### 🔍 Check expected cols for method **Data Element**, numerator using multiple indicators.\n",
    "Based on which indicator(s) are selected (if any)"
   ]
  },
  {
   "cell_type": "code",
   "execution_count": null,
   "id": "0bbcdf8c-873a-4b41-980a-f18d1863ab8f",
   "metadata": {},
   "outputs": [],
   "source": [
    "# Initialize empty vector\n",
    "indicators_selected = c()\n",
    "\n",
    "# Add elements based on user selection(s)\n",
    "if (DATAELEMENT_METHOD_NUMERATOR_CONF) {\n",
    "    indicators_selected = append(indicators_selected, \"CONF\")\n",
    "}\n",
    "\n",
    "if (DATAELEMENT_METHOD_NUMERATOR_SUSP) {\n",
    "    indicators_selected = append(indicators_selected, \"SUSP\")\n",
    "}\n",
    "\n",
    "if (DATAELEMENT_METHOD_NUMERATOR_TEST) {\n",
    "    indicators_selected = append(indicators_selected, \"TEST\")\n",
    "}\n",
    "\n",
    "print(paste0(\"Selected indicators: \", paste(indicators_selected, collapse = \", \")))"
   ]
  },
  {
   "cell_type": "code",
   "execution_count": null,
   "id": "b84753f8-aa9c-4563-beae-5e29b3f1e773",
   "metadata": {},
   "outputs": [],
   "source": [
    "# This is kinda useless now but KEEP in case we ADD MORE CHOICES OF INDICATORS!! \n",
    "if (DATAELEMENT_METHOD_NUMERATOR_CONF | DATAELEMENT_METHOD_NUMERATOR_SUSP | DATAELEMENT_METHOD_NUMERATOR_TEST) {\n",
    "    log_msg(paste0(\"Indicator(s) \", paste(indicators_selected, collapse = \", \") , \" selected for calculation of numerator for method `Data Element`.\" ))\n",
    "    \n",
    "    if ( length(which(indicators_selected %in% names(dhis2_routine))) < length(indicators_selected) ) {\n",
    "    log_msg(paste0(\"🚨 Warning: one or more of the follow column is missing from `dhis2_routine`: \", paste(expected_col, collapse = \", \"), \".\"), \"warning\")\n",
    "    } \n",
    "\n",
    "}"
   ]
  },
  {
   "cell_type": "markdown",
   "id": "c832da26-fe0c-43fe-8300-2fff5c4cbf34",
   "metadata": {},
   "source": [
    "### 2.2. **Reporting** pre-computed from DHIS2 \n",
    "Data granularity:\n",
    "* **ADM2**\n",
    "* **MONTH** (PERIOD)\n",
    "\n",
    "Note: data comes from different dataset (`DS_NAME`): `A SERVICES DE BASE`, `B SERVICES SECONDAIRES`,`D SERVICE HOPITAL` \n",
    "\n",
    "The col `DS_METRIC` indicates whether the `VALUE` is `EXPECTED_REPORTS` or `ACTUAL_REPORTS`"
   ]
  },
  {
   "cell_type": "code",
   "execution_count": null,
   "id": "0ce295b9-9898-4e12-8a91-92bb25b9e0a2",
   "metadata": {},
   "outputs": [],
   "source": [
    "# REPORTING_RATE_METHOD <- \"DATAELEMENT\"  # \"DATASET\"\n",
    "REPORTING_RATE_METHOD"
   ]
  },
  {
   "cell_type": "code",
   "execution_count": null,
   "id": "8a32fc96-5b8e-4108-a224-c0d843df9b47",
   "metadata": {},
   "outputs": [],
   "source": [
    "if (REPORTING_RATE_METHOD == \"DATASET\" | DATAELEMENT_METHOD_DENOMINATOR == \"DHIS2_EXPECTED_REPORTS\") {\n",
    "    # DHIS2 Dataset extract identifier\n",
    "    dataset_name <- config_json$SNT_DATASET_IDENTIFIERS$DHIS2_DATASET_FORMATTED\n",
    "    file_name <- paste0(COUNTRY_CODE, \"_reporting.parquet\")\n",
    "    \n",
    "    # Load file from dataset\n",
    "    dhis2_reporting <- tryCatch({ get_latest_dataset_file_in_memory(dataset_name, file_name) }, \n",
    "                      error = function(e) {\n",
    "                          msg <- paste(\"Error while loading DHIS2 pre-computed REPORTING data file for: \" , COUNTRY_CODE, conditionMessage(e))  # log error message\n",
    "                          cat(msg)\n",
    "                          stop(msg)\n",
    "    })\n",
    "    \n",
    "    msg <- paste0(\"DHIS2 pre-computed REPORTING data loaded from file `\", file_name, \"` (from dataset : `\", dataset_name, \"`). Dataframe dimensions: \", \n",
    "                  paste(dim(dhis2_reporting), collapse=\", \"))\n",
    "    log_msg(msg)\n",
    "}"
   ]
  },
  {
   "cell_type": "code",
   "execution_count": null,
   "id": "e131d9ee-0e88-4bb6-982b-53b1229fba5f",
   "metadata": {},
   "outputs": [],
   "source": [
    "if (REPORTING_RATE_METHOD == \"DATASET\" | DATAELEMENT_METHOD_DENOMINATOR == \"DHIS2_EXPECTED_REPORTS\") {\n",
    "    # Convert VALUE col to <dbl> - should not be needed but keep as safety measure \n",
    "    dhis2_reporting <- dhis2_reporting |>\n",
    "    mutate(across(c(PERIOD, YEAR, MONTH, VALUE), as.numeric))\n",
    "\n",
    "    head(dhis2_reporting, 3)\n",
    "    }"
   ]
  },
  {
   "cell_type": "code",
   "execution_count": null,
   "id": "46e3dba8-d46b-457e-ba90-c663e30c42d2",
   "metadata": {},
   "outputs": [],
   "source": [
    "# # Convert VALUE col to <dbl> - should not be needed but keep as safety measure \n",
    "# dhis2_reporting <- dhis2_reporting |>\n",
    "# mutate(across(c(PERIOD, YEAR, MONTH, VALUE), as.numeric))"
   ]
  },
  {
   "cell_type": "code",
   "execution_count": null,
   "id": "5149befe-b6ad-46a9-9879-7637ce5b02be",
   "metadata": {},
   "outputs": [],
   "source": [
    "# head(dhis2_reporting, 3)"
   ]
  },
  {
   "cell_type": "markdown",
   "id": "7a967af3-f6e5-428a-8769-72808f21a125",
   "metadata": {},
   "source": [
    "#### 2.2.1. **Filter** to keep only values for `PRODUCT_UID` defined in config.json"
   ]
  },
  {
   "cell_type": "code",
   "execution_count": null,
   "id": "1948c2f7-7a2c-47a2-9dc6-ba29da6d030c",
   "metadata": {},
   "outputs": [],
   "source": [
    "REPORTING_RATE_PRODUCT_ID"
   ]
  },
  {
   "cell_type": "code",
   "execution_count": null,
   "id": "e4258098-e24c-4520-914d-0f73354bb3ab",
   "metadata": {},
   "outputs": [],
   "source": [
    "if (REPORTING_RATE_METHOD == \"DATASET\" | DATAELEMENT_METHOD_DENOMINATOR == \"DHIS2_EXPECTED_REPORTS\") {\n",
    "\n",
    "     # Handle problems with incorrect configuration - to be improved 🚧\n",
    "     if (is.null(REPORTING_RATE_PRODUCT_ID)) {\n",
    "         log_msg(\"🛑 Problem with definition of REPORTING_RATE_PRODUCT_ID, check `SNT_config.json` file!\")\n",
    "     } else \n",
    "         product_name <- dhis2_reporting |> filter(PRODUCT_UID %in% REPORTING_RATE_PRODUCT_ID) |> pull(PRODUCT_NAME) |> unique()\n",
    "         log_msg(glue::glue(\"Using REPORTING_RATE_PRODUCT_ID == `{REPORTING_RATE_PRODUCT_ID}`, corresponding to DHIS2 Product name : `{product_name}`.\"))\n",
    "\n",
    "    }"
   ]
  },
  {
   "cell_type": "code",
   "execution_count": null,
   "id": "c22c6ada-7cb1-4fca-b65e-b51e5eca35a2",
   "metadata": {},
   "outputs": [],
   "source": [
    "if (REPORTING_RATE_METHOD == \"DATASET\" | DATAELEMENT_METHOD_DENOMINATOR == \"DHIS2_EXPECTED_REPORTS\") {\n",
    "\n",
    "    dhis2_reporting_filtered <- dhis2_reporting |>\n",
    "    filter(PRODUCT_UID %in% REPORTING_RATE_PRODUCT_ID) |>\n",
    "    select(-PRODUCT_UID, -PRODUCT_NAME) # useless cols now\n",
    "    \n",
    "    print(dim(dhis2_reporting_filtered))\n",
    "    head(dhis2_reporting_filtered)\n",
    "    \n",
    "}"
   ]
  },
  {
   "cell_type": "markdown",
   "id": "9da035cf-5d3f-4df0-a063-2d2497616c82",
   "metadata": {},
   "source": [
    "#### 2.2.2. Format to produce `dhis2_reporting_expected`\n",
    "🚨 Note: Use `dhis2_reporting_expected$EXPECTED_REPORTS` as new denominator for REPORTING_RATE calculations (methods dataset and dataelement)"
   ]
  },
  {
   "cell_type": "code",
   "execution_count": null,
   "id": "7e970f9d-258e-4050-ae69-185b88c79fc3",
   "metadata": {},
   "outputs": [],
   "source": [
    "if (REPORTING_RATE_METHOD == \"DATASET\" | DATAELEMENT_METHOD_DENOMINATOR == \"DHIS2_EXPECTED_REPORTS\") {\n",
    "    \n",
    "    dhis2_reporting_wide <- dhis2_reporting_filtered |> \n",
    "    pivot_wider(\n",
    "        names_from = PRODUCT_METRIC, \n",
    "        values_from = VALUE\n",
    "    )\n",
    "    \n",
    "    print(dim(dhis2_reporting_wide))\n",
    "    head(dhis2_reporting_wide)\n",
    "    \n",
    "}"
   ]
  },
  {
   "cell_type": "code",
   "execution_count": null,
   "id": "eab31756-ae6b-4152-8ec3-8195236d8732",
   "metadata": {},
   "outputs": [],
   "source": [
    "# Use `dhis2_reporting_expected$EXPECTED_REPORTS` as new denomitor for RR calculations (methods ANY and CONF)\n",
    "\n",
    "if (REPORTING_RATE_METHOD == \"DATASET\" | DATAELEMENT_METHOD_DENOMINATOR == \"DHIS2_EXPECTED_REPORTS\") {\n",
    "    \n",
    "    dhis2_reporting_expected <- dhis2_reporting_wide |> \n",
    "    select(-ACTUAL_REPORTS)\n",
    "    \n",
    "    print(dim(dhis2_reporting_expected))\n",
    "    head(dhis2_reporting_expected)\n",
    "}"
   ]
  },
  {
   "cell_type": "markdown",
   "id": "3c3d0f35-889d-4c16-9741-d6e75e2ef096",
   "metadata": {},
   "source": [
    "#### 2.2.3. **Checks** on data completeness: _do **periods match** with routine data?_\n",
    "Lack of perfect overlap in periods between routine data and reporting rate data might create headhaches downstream!<br>\n",
    "Specifically, **incidence** calculations will show **N2 smaller than N1** due to **aggregation by YEAR when NA** values are present!"
   ]
  },
  {
   "cell_type": "code",
   "execution_count": null,
   "id": "7ea57600-418b-45bc-805a-f829e237b4c4",
   "metadata": {},
   "outputs": [],
   "source": [
    "if (REPORTING_RATE_METHOD == \"DATASET\" | DATAELEMENT_METHOD_DENOMINATOR == \"DHIS2_EXPECTED_REPORTS\") {\n",
    "    \n",
    "    # --- Check Year Compatibility ---\n",
    "    routine_years <- sort(unique(as.integer(dhis2_routine$YEAR))) # as.integer\n",
    "    expected_years <- sort(unique(as.integer(dhis2_reporting_expected$YEAR))) # as.integer\n",
    "    \n",
    "    if (!setequal(routine_years, expected_years)) {\n",
    "      missing_in_routine <- setdiff(expected_years, routine_years)\n",
    "      missing_in_expected <- setdiff(routine_years, expected_years)\n",
    "    \n",
    "      if (length(missing_in_routine) > 0) {\n",
    "        log_msg(paste0(\"🚨 Warning: YEAR value(s) present in 'dhis2_reporting_expected' but not in 'dhis2_routine': \",\n",
    "                       paste(missing_in_routine, collapse = \", \")))\n",
    "      }\n",
    "      if (length(missing_in_expected) > 0) {\n",
    "        log_msg(paste0(\"🚨 Warning: YEAR value(s) present in 'dhis2_routine' but not in 'dhis2_reporting_expected': \",\n",
    "                       paste(missing_in_expected, collapse = \", \")))\n",
    "      }\n",
    "    } else {\n",
    "      log_msg(\"✅ YEAR values are consistent across 'dhis2_routine' and 'dhis2_reporting_expected'.\")\n",
    "    \n",
    "      # --- Check Month Compatibility (if years are consistent) ---\n",
    "      all_years <- unique(routine_years) # Or expected_years, they are the same now\n",
    "    \n",
    "      for (year_val in all_years) {\n",
    "        routine_months_for_year <- dhis2_routine %>%\n",
    "          filter(YEAR == year_val) %>%\n",
    "          pull(MONTH) %>%\n",
    "          unique() %>%\n",
    "          sort()\n",
    "    \n",
    "        expected_months_for_year <- dhis2_reporting_expected %>%\n",
    "          filter(YEAR == year_val) %>%\n",
    "          pull(MONTH) %>%\n",
    "          unique() %>%\n",
    "          sort()\n",
    "    \n",
    "        if (!setequal(routine_months_for_year, expected_months_for_year)) {\n",
    "          missing_in_routine_months <- setdiff(expected_months_for_year, routine_months_for_year)\n",
    "          missing_in_expected_months <- setdiff(routine_months_for_year, expected_months_for_year)\n",
    "    \n",
    "          if (length(missing_in_routine_months) > 0) {\n",
    "            log_msg(paste0(\"🚨 Warning: for YEAR \", year_val, \", MONTH value(s) '\", paste(missing_in_routine_months, collapse = \", \"),\n",
    "                           \"' present in 'dhis2_reporting_expected' but not in 'dhis2_routine'!\"\n",
    "                           ))\n",
    "          }\n",
    "          if (length(missing_in_expected_months) > 0) {\n",
    "            log_msg(paste0(\"🚨 Warning: for YEAR \", year_val, \", MONTH value(s) '\", paste(missing_in_expected_months, collapse = \", \"), \n",
    "                           \"' present in 'dhis2_routine' but not in 'dhis2_reporting_expected'!\"\n",
    "                           ))\n",
    "          }\n",
    "        } else {\n",
    "          log_msg(paste0(\"✅ For year \", year_val, \", months are consistent across both data frames.\"))\n",
    "        }\n",
    "      }\n",
    "    }\n",
    "\n",
    "}"
   ]
  },
  {
   "cell_type": "markdown",
   "id": "5e711191-995b-4f89-b10c-fc2214cdd8b2",
   "metadata": {},
   "source": [
    "### 2.3. **Pyramid** to count OPEN facilities (denominator)\n",
    "Table (and column) needed for denominator of \"Data Element\" reporting rate if choice == `PYRAMID_OPEN_FACILITIES`"
   ]
  },
  {
   "cell_type": "code",
   "execution_count": null,
   "id": "ad3f83b6-2fdd-45da-8a4d-fb06513b6be2",
   "metadata": {},
   "outputs": [],
   "source": [
    "# DATAELEMENT_METHOD_DENOMINATOR <- \"PYRAMID_OPEN_FACILITIES\"\n",
    "DATAELEMENT_METHOD_DENOMINATOR"
   ]
  },
  {
   "cell_type": "markdown",
   "id": "e7b80b6e-9e34-4e71-93e8-7e16a110e17c",
   "metadata": {},
   "source": [
    "#### **Raw** pyramid"
   ]
  },
  {
   "cell_type": "code",
   "execution_count": null,
   "id": "652cf1a7-c9a2-48db-b44d-8fabfd0e072f",
   "metadata": {},
   "outputs": [],
   "source": [
    "if (REPORTING_RATE_METHOD == \"DATAELEMENT\" && DATAELEMENT_METHOD_DENOMINATOR == \"PYRAMID_OPEN_FACILITIES\") {\n",
    "    \n",
    "    # DHIS2 Dataset extract identifier\n",
    "    dataset_name <- config_json$SNT_DATASET_IDENTIFIERS$DHIS2_DATASET_EXTRACTS\n",
    "    \n",
    "    # Load file from dataset\n",
    "    dhis2_pyramid_raw <- tryCatch({ get_latest_dataset_file_in_memory(dataset_name, paste0(COUNTRY_CODE, \"_dhis2_raw_pyramid.parquet\")) }, \n",
    "                      error = function(e) {\n",
    "                          msg <- paste(\"Error while loading DHIS2 pyramid RAW data file for: \" , COUNTRY_CODE, conditionMessage(e))  # log error message\n",
    "                          cat(msg)\n",
    "                          stop(msg)\n",
    "    })\n",
    "    \n",
    "    msg <- paste0(\"DHIS2 pyramid data loaded from dataset : `\", dataset_name, \"`. Dataframe dimensions: \", paste(dim(dhis2_pyramid_raw), collapse=\", \"))\n",
    "    log_msg(msg)\n",
    "    \n",
    "    head(dhis2_pyramid_raw)\n",
    "    \n",
    "}"
   ]
  },
  {
   "cell_type": "markdown",
   "id": "eb4c5c63-d140-46b8-b686-886e612a31dc",
   "metadata": {},
   "source": [
    "## 3. Calculate **Reporting Rate** (RR)\n",
    "We compute it using 2 approaches, user can decided later on which one to use for incidence adjustment."
   ]
  },
  {
   "cell_type": "markdown",
   "id": "cb724aa8-5f06-4e99-aeca-640d0c1b049e",
   "metadata": {},
   "source": [
    "## 3.1. \"**Dataset**\" reporting rate: pre-computed, from **DHIS2**\n",
    "Exrtacted from DHIS2 and formatted. \n",
    "\n",
    "Straightforward: `ACTUAL_REPORTS` / `EXPECTED_REPORTS` (just pivot `DS_METRIC` and divide)"
   ]
  },
  {
   "cell_type": "code",
   "execution_count": null,
   "id": "10b2f52b-0217-43f1-88a3-cd01d98869b1",
   "metadata": {},
   "outputs": [],
   "source": [
    "if (REPORTING_RATE_METHOD == \"DATASET\" | DATAELEMENT_METHOD_DENOMINATOR == \"DHIS2_EXPECTED_REPORTS\") {\n",
    "\n",
    "    reporting_rate_dataset <- dhis2_reporting_wide |> \n",
    "    mutate(REPORTING_RATE = ACTUAL_REPORTS / EXPECTED_REPORTS)\n",
    "    \n",
    "    print(dim(reporting_rate_dataset))\n",
    "    head(reporting_rate_dataset, 3)\n",
    "}"
   ]
  },
  {
   "cell_type": "markdown",
   "id": "3d49eda8-b4fd-437a-8938-17bf0806f281",
   "metadata": {},
   "source": [
    "#### Quick data quality check 🔍"
   ]
  },
  {
   "cell_type": "code",
   "execution_count": null,
   "id": "cff33416-ea66-4eeb-9d33-1597c2f05b0c",
   "metadata": {},
   "outputs": [],
   "source": [
    "# --- Define function ---------------------------\n",
    "inspect_reporting_rate <- function(data_tibble) {\n",
    "\n",
    "  # Dynamically get the name of the tibble passed to the function\n",
    "  # Extract the litteral name of the variable passed (e.g., \"reporting_rate_dhis2_month\")\n",
    "  tibble_name_full <- deparse(substitute(data_tibble))\n",
    "\n",
    "  # Extract the 'method' part from the tibble name\n",
    "  method <- stringr::str_extract(tibble_name_full, \"(?<=reporting_rate_).*\") # \"(?<=reporting_rate_).*?(?=_month)\"\n",
    "\n",
    "  # Calculations for proportion of values > 1\n",
    "  values_greater_than_1 <- sum(data_tibble$REPORTING_RATE > 1, na.rm = TRUE)\n",
    "  total_values <- length(data_tibble$REPORTING_RATE)\n",
    "\n",
    "  if (total_values > 0) {\n",
    "    proportion <- values_greater_than_1 / total_values * 100\n",
    "    min_rate <- min(data_tibble$REPORTING_RATE, na.rm = TRUE)\n",
    "    max_rate <- max(data_tibble$REPORTING_RATE, na.rm = TRUE)\n",
    "  } else {\n",
    "    proportion <- 0\n",
    "    min_rate <- NA # Set to NA if no values to calculate min/max\n",
    "    max_rate <- NA # Set to NA if no values to calculate min/max\n",
    "  }\n",
    "\n",
    "  if (proportion == 0) {\n",
    "      clarification = NULL\n",
    "  } else {\n",
    "      clarification = \" (there are more reports than expected)\"\n",
    "  }\n",
    "\n",
    "  # Print the formatted result\n",
    "  log_msg(\n",
    "    paste0(\n",
    "      \"🔍 For reporting rate method : `\", method, \"`, the values of REPORTING_RATE range from \", round(min_rate, 2),\n",
    "      \" to \", round(max_rate, 2),\n",
    "      \", and \", round(proportion, 2), \" % of values are >1\", clarification, \".\"\n",
    "    )\n",
    "  )\n",
    "\n",
    "  # Histogram\n",
    "  hist(data_tibble$REPORTING_RATE, \n",
    "     breaks = 50)\n",
    "}"
   ]
  },
  {
   "cell_type": "code",
   "execution_count": null,
   "id": "e2f4c11c-c683-4204-ab91-9d41cab4826c",
   "metadata": {},
   "outputs": [],
   "source": [
    "if (REPORTING_RATE_METHOD == \"DATASET\" | DATAELEMENT_METHOD_DENOMINATOR == \"DHIS2_EXPECTED_REPORTS\") {\n",
    "    inspect_reporting_rate(reporting_rate_dataset)\n",
    "    }"
   ]
  },
  {
   "cell_type": "markdown",
   "id": "04870e93-5385-425b-89fd-b815a87cfa21",
   "metadata": {},
   "source": [
    "#### Subset cols"
   ]
  },
  {
   "cell_type": "code",
   "execution_count": null,
   "id": "d90671b0-36f8-4c6e-8736-4ea807079f83",
   "metadata": {
    "scrolled": true
   },
   "outputs": [],
   "source": [
    "if (REPORTING_RATE_METHOD == \"DATASET\" | DATAELEMENT_METHOD_DENOMINATOR == \"DHIS2_EXPECTED_REPORTS\") {\n",
    "    reporting_rate_dataset <- reporting_rate_dataset |> \n",
    "    select(all_of(fixed_cols_rr))\n",
    "    \n",
    "    dim(reporting_rate_dataset)\n",
    "    head(reporting_rate_dataset, 3)\n",
    "}"
   ]
  },
  {
   "cell_type": "code",
   "execution_count": null,
   "id": "62e6cb16-0196-447f-b142-aaec2120eecb",
   "metadata": {},
   "outputs": [],
   "source": []
  },
  {
   "cell_type": "markdown",
   "id": "2dc27c07-80cd-465e-891f-9fb70111dbb0",
   "metadata": {},
   "source": [
    "#### Plot by MONTH (heatmap)"
   ]
  },
  {
   "cell_type": "code",
   "execution_count": null,
   "id": "c9ce56fc-f86a-4a2b-95b7-fb6ec5b89087",
   "metadata": {},
   "outputs": [],
   "source": [
    "if (REPORTING_RATE_METHOD == \"DATASET\") {\n",
    "    \n",
    "    # Plot reporting rate heatmap\n",
    "    options(repr.plot.width = 20, repr.plot.height = 10) \n",
    "    \n",
    "    # reporting_rate_conf_month %>%\n",
    "    reporting_rate_dataset %>%\n",
    "    mutate(\n",
    "        DATE = as.Date(paste0(YEAR, \"-\", MONTH, \"-01\"))\n",
    "        ) %>%\n",
    "    ggplot(., aes(x = DATE,  \n",
    "                  y = factor(ADM2_ID), \n",
    "                  fill = REPORTING_RATE * 100)\n",
    "          ) + \n",
    "      geom_tile() +\n",
    "      scale_fill_viridis_c(\n",
    "        option = \"C\",\n",
    "        direction = 1,  # blue = low, yellow = high\n",
    "        limits = c(0, 100),\n",
    "        name = \"Reporting rate (%)\"\n",
    "      ) +\n",
    "      labs(\n",
    "        title = \"Monthly Reporting Rate by Health District -  Method 'DataSet'\",\n",
    "        subtitle = \"Each tile represents the reporting completeness per district per month\",\n",
    "        x = \"Month\",\n",
    "        y = \"Health District\"\n",
    "      ) +\n",
    "      theme_minimal(base_size = 13) +\n",
    "      theme(\n",
    "        axis.text.x = element_text(angle = 90, hjust = 1, vjust = 0.5, size = 9),\n",
    "        axis.text.y = element_text(size = 9),\n",
    "        plot.title = element_text(face = \"bold\", hjust = 0.5, size = 14),\n",
    "        plot.subtitle = element_text(hjust = 0.5, size = 12),\n",
    "        legend.position = \"right\",\n",
    "        panel.grid = element_blank()\n",
    "      )\n",
    "}"
   ]
  },
  {
   "cell_type": "code",
   "execution_count": null,
   "id": "00bf15b7-baa7-4734-8133-8d4a9cc843a3",
   "metadata": {},
   "outputs": [],
   "source": []
  },
  {
   "cell_type": "markdown",
   "id": "40b21c65-1b75-42f7-821a-24d31e436c73",
   "metadata": {},
   "source": [
    "----------------------------"
   ]
  },
  {
   "cell_type": "markdown",
   "id": "17ffece4-9420-4004-993b-b5692cc1d2de",
   "metadata": {},
   "source": [
    "## 3.2. **Data Element** reporting rate: based on reporting of one or more indicators\n",
    "**_Partially_ following methods by WHO and as per Diallo (2025) paper**\n",
    "\n",
    "To accurately measure data completeness, we calculate the **monthly** reporting rate per **ADM2**, as the **proportion** of **facilities** (HF or `OU_ID`) that in a given month submitted data for either a single indicator (i.e., **confirmed** malaria case as `CONF`) or for _any_ of the chosen indicators (i.e., `CONF`, `SUSP`, `TEST`). \n",
    "\n",
    "Basically, \"Data Element\" reporting rate is the number of facilities reporting on 1 or more given indicators, over the total number of facilities.<br>\n",
    "\n",
    "For this method the user is allowed to **chose** how to calculate both the **numerator** and the **denominator**.<br> \n",
    "Specifically:\n",
    "* **Numerator**: is the number of **facilities that _actually reported_** data, and it is estimated based on whether a facility (FoSa, or HF, or `OU_ID`) **submitted data** for **_any_** of the following **indicators**:\n",
    "    * `CONF`: confirmed malaria cases and/or\n",
    "    * `SUSP`: suspected malaria cases and/or\n",
    "    * `TEST`: tested malaria cases <br>\n",
    "    Note: we **recommend** always including `CONF` because it is a core indicator consistently tracked across the dataset. This choice ensures alignment with the structure of the incidence calculation, which is also mainly based on confirmed cases.\n",
    "\n",
    "    <br>\n",
    "      \n",
    "* **Denominator**: is the number of **facilities _expected_ to report**. This number can be obtained in two different ways:\n",
    "    * `\"DHIS2_EXPECTED_REPORTS\"`: uses the col `EXPECTED_REPORTS` from the df `dhis2_reporting_expected`.<br>\n",
    "      This is obtained directly from DHIS2, and is the same denominator used to calculate the \"Dataset\" reporting rate.\n",
    "    * `\"ROUTINE_ACTIVE_FACILITIES\"`: uses the col `EXPECTED_REPORTS` from the df `active_facilities`.<br>\n",
    "      This is calculated as the number of \"**active**\" facilities (`OU_ID`), defined as those that submitted _any_ data **at least once in a given year**, across ***all*** indicators extracted in `dhis2_routine` (namely: all aggregated indicators as defined in the SNT_config.json file, see: `config_json$DHIS2_DATA_DEFINITIONS$DHIS2_INDICATOR_DEFINITIONS`)\n",
    "\n",
    "<br>\n",
    "\n",
    "This method improves over simple binary completeness flags by accounting for both spatial (facility coverage) and temporal (monthly timeliness) dimensions. <br>"
   ]
  },
  {
   "cell_type": "markdown",
   "id": "f5dcd3b9-6f02-4fc5-9e5f-2253c015a3d4",
   "metadata": {},
   "source": [
    "### Calculate the **numerator**"
   ]
  },
  {
   "cell_type": "markdown",
   "id": "a90d9f4a-a058-4ad5-8ef2-f827987b5def",
   "metadata": {},
   "source": [
    "**Note**: the col `REPORTED` keeps the same name regardless of the value of `DATAELEMENT_METHOD_NUMERATOR` because \n",
    "in this way the code needs to be parametrized only once (here).\n"
   ]
  },
  {
   "cell_type": "code",
   "execution_count": null,
   "id": "8076609c-46e8-478a-8283-bc63a70102f8",
   "metadata": {},
   "outputs": [],
   "source": [
    "if (REPORTING_RATE_METHOD == \"DATAELEMENT\") {\n",
    "\n",
    "dhis2_routine_active <- dhis2_routine %>%\n",
    "    mutate(\n",
    "        # if_any() returns TRUE if the condition is met for any of the selected columns\n",
    "        ACTIVE = if_else(if_any(all_of(indicators_selected), ~ !is.na(.x)), 1, 0)\n",
    "    )\n",
    "\n",
    "log_msg(paste0(\"Evaluating reporting facilities based on indicators: \", paste(indicators_selected, collapse = \", \"), \".\"))\n",
    "\n",
    "dim(dhis2_routine_active)\n",
    "head(dhis2_routine_active, 3)\n",
    "\n",
    "}"
   ]
  },
  {
   "cell_type": "code",
   "execution_count": null,
   "id": "325faf35-ed25-4b8e-b421-934a2852f27e",
   "metadata": {},
   "outputs": [],
   "source": [
    "# --- 1.  Calculate `SUBMITTED_REPORTS` as the nr of ACTIVE facilities (that REPORTED, each month) ------------------------\n",
    "\n",
    "if (REPORTING_RATE_METHOD == \"DATAELEMENT\") {\n",
    "\n",
    "dhis2_routine_submitted <- dhis2_routine_active %>% # OLD: dhis2_routine_reporting_month <- dhis2_routine_reporting %>%\n",
    "  group_by(ADM2_ID, YEAR, MONTH) %>% \n",
    "  summarise(\n",
    "    SUBMITTED_REPORTS = sum(ACTIVE, na.rm = TRUE),\n",
    "    .groups = \"drop\"\n",
    "  ) %>%\n",
    "  ungroup() %>%  \n",
    "    mutate(YEAR = as.integer(YEAR),\n",
    "           MONTH = as.integer(MONTH)\n",
    "          ) \n",
    "\n",
    "print(dim(dhis2_routine_submitted))\n",
    "head(dhis2_routine_submitted, 3)\n",
    "\n",
    "}"
   ]
  },
  {
   "cell_type": "code",
   "execution_count": null,
   "id": "a25647e3-5674-44e0-855e-c3a48483310d",
   "metadata": {},
   "outputs": [],
   "source": []
  },
  {
   "cell_type": "markdown",
   "id": "ede96b4b-8bb9-4509-ab29-b3e6ff08bdab",
   "metadata": {},
   "source": [
    "### Calculate the **denominator**"
   ]
  },
  {
   "cell_type": "markdown",
   "id": "06b2070d-c672-425f-a78f-b94a8d16a017",
   "metadata": {},
   "source": [
    "#### Option: `ROUTINE_ACTIVE_FACILITIES`\n",
    "This is to be used **only when** `DATAELEMENT_METHOD_DENOMINATOR ==`**`ROUTINE_ACTIVE_FACILITIES`** "
   ]
  },
  {
   "cell_type": "code",
   "execution_count": null,
   "id": "7a20f8dc-ff79-4b53-9cdb-fe82ca4c8770",
   "metadata": {},
   "outputs": [],
   "source": [
    "# DATAELEMENT_METHOD_DENOMINATOR <- \"DHIS2_EXPECTED_REPORTS\" \n",
    "# DATAELEMENT_METHOD_DENOMINATOR <- \"ROUTINE_ACTIVE_FACILITIES\"\n",
    "DATAELEMENT_METHOD_DENOMINATOR"
   ]
  },
  {
   "cell_type": "code",
   "execution_count": null,
   "id": "08f03ed1-5831-4fe5-8bde-674a513e8110",
   "metadata": {
    "scrolled": true
   },
   "outputs": [],
   "source": [
    "# Calculate the tot nr of facilities (distinct OU_ID) based on all HF that appear in the routine data (each YEAR)\n",
    "# meaning: regardless of what indicators they submit data for, as long as they have submitted something\n",
    "\n",
    "if (REPORTING_RATE_METHOD == \"DATAELEMENT\" && DATAELEMENT_METHOD_DENOMINATOR == \"ROUTINE_ACTIVE_FACILITIES\") {\n",
    "    routine_active_facilities <- dhis2_routine %>%\n",
    "    # Keep only rows where at least one indicator has non-NA value\n",
    "    filter(if_any(any_of(DHIS2_INDICATORS), ~ !is.na(.))) %>%\n",
    "    group_by(YEAR, ADM2_ID) %>%\n",
    "    summarize(\n",
    "      EXPECTED_REPORTS = n_distinct(OU_ID),\n",
    "      .groups = \"drop\" # remove grouping \n",
    "    )\n",
    "\n",
    "    nr_of_rows <- nrow(routine_active_facilities)\n",
    "    log_msg(glue::glue(\"Produced df `routine_active_facilities`, with column `EXPECTED_REPORTS` calculated from DHIS2 routine data. Dataframe `routine_active_facilities` has {nr_of_rows} rows.\"))\n",
    "\n",
    "    head(routine_active_facilities, 3)\n",
    "    \n",
    "} \n"
   ]
  },
  {
   "cell_type": "markdown",
   "id": "6629dccb-97b0-4b0e-b23f-15b98704323d",
   "metadata": {},
   "source": [
    "#### Option: `PYRAMID_OPEN_FACILITIES`\n",
    "This is to be used **only when** `DATAELEMENT_METHOD_DENOMINATOR ==`**`PYRAMID_OPEN_FACILITIES`** "
   ]
  },
  {
   "cell_type": "markdown",
   "id": "c42b7f38-e968-4a11-9e24-1a7659e3dd9b",
   "metadata": {},
   "source": [
    "⚠️⚠️⚠️ **To be ADDED**: method for **countries with \"normal\" pyramids** (i.e., when no mixing of facilities and admin levels ... !) ⚠️⚠️⚠️"
   ]
  },
  {
   "cell_type": "code",
   "execution_count": null,
   "id": "ea19accb-9a41-431c-98dc-c999dce0128d",
   "metadata": {},
   "outputs": [],
   "source": [
    "# ⚠️⚠️⚠️ Add here code that does the counts the nr of open facilities (as below) BUT without the step of separating hospitals and other FoSa's \n",
    "# before flagging open and closed facilities per month ..."
   ]
  },
  {
   "cell_type": "markdown",
   "id": "d49219b7-5932-4062-a10d-e1f3a4a81449",
   "metadata": {},
   "source": [
    "🚨 Specific to **Niger EnDoP**: Pre-processing needed to separate facilities from adm levels!! 🚨\n",
    "\n",
    "Specifically:\n",
    "* **Hospital**s (HD a Hopital District): at **level 4** together with Aires de Sante\n",
    "* All other **FoSa**s: at **level 6**, also mixed with the hospital units\n",
    "\n",
    "Therefore, to assigned closed/open status, it is necessary to attach to each individual facility the closng and opening data column. \n",
    "To do this: \n",
    "1) extract list of facilities and id across the 2 levels (4 and 6) and\n",
    "2) calculate the nr of open facilities per MONTH (PERIOD) per ADM2, ending up with a df with cols: `ADM2_ID`, `YEAR`, `MONTH`, `OPEN_FACILITIES_COUNT` = `EXPECTED_REPORTS`\n",
    "3) add this to the df with the **numerator** (`dhis2_routine_submitted`)"
   ]
  },
  {
   "cell_type": "code",
   "execution_count": null,
   "id": "e6296329-9bcd-4d2c-afb3-520c6a159cdb",
   "metadata": {},
   "outputs": [],
   "source": [
    "if (REPORTING_RATE_METHOD == \"DATAELEMENT\" && DATAELEMENT_METHOD_DENOMINATOR == \"PYRAMID_OPEN_FACILITIES\") {\n",
    "    \n",
    "# names(dhis2_pyramid_raw)\n",
    "dim(dhis2_pyramid_raw)\n",
    "head(dhis2_pyramid_raw, 3)\n",
    "    \n",
    "}"
   ]
  },
  {
   "cell_type": "markdown",
   "id": "6f651b18-2d85-4e26-8952-45dae9020c40",
   "metadata": {},
   "source": [
    "#### 1. Create list of facilities \n",
    "Separate \"facilities\" (of any type, such as hospitals to CSI, Infermieres etc) from admin levels and hospital units (wards, depts...)"
   ]
  },
  {
   "cell_type": "code",
   "execution_count": null,
   "id": "25dea3c7-44ea-42a7-b467-f470892fcfef",
   "metadata": {},
   "outputs": [],
   "source": [
    "# Helpers to detect Aires and Hospitals:\n",
    "\n",
    "if (COUNTRY_CODE ==  \"NER\" && REPORTING_RATE_METHOD == \"DATAELEMENT\" && DATAELEMENT_METHOD_DENOMINATOR == \"PYRAMID_OPEN_FACILITIES\") {\n",
    "    \n",
    "is_aire_l5     <- function(x) str_detect(x, regex(\"^\\\\s*aire[^a-zA-Z]?\", ignore_case = TRUE))\n",
    "is_hospital_l4 <- function(x) str_detect(x, regex(\"^(hd|chr|chu|hgr)\", ignore_case = TRUE))\n",
    "\n",
    "}"
   ]
  },
  {
   "cell_type": "code",
   "execution_count": null,
   "id": "55760b89-f4d0-40c5-9905-f7c7c4fee5c0",
   "metadata": {},
   "outputs": [],
   "source": [
    "# List of all FoSa (from Aires → Level 6)\n",
    "\n",
    "if (COUNTRY_CODE ==  \"NER\" && REPORTING_RATE_METHOD == \"DATAELEMENT\" && DATAELEMENT_METHOD_DENOMINATOR == \"PYRAMID_OPEN_FACILITIES\") {\n",
    "    \n",
    "fosa_master <- dhis2_pyramid_raw %>%\n",
    "  filter(is_aire_l5(LEVEL_5_NAME)) %>%\n",
    "  distinct(\n",
    "    OU_ID   = LEVEL_6_ID,\n",
    "    OU_NAME = LEVEL_6_NAME,\n",
    "    region        = LEVEL_2_NAME,\n",
    "    district      = LEVEL_3_NAME,\n",
    "    ADM2_ID = LEVEL_3_ID,\n",
    "    DATE_OPENED = OPENING_DATE, \n",
    "    DATE_CLOSED = CLOSED_DATE\n",
    "  ) %>%\n",
    "  mutate(OU_TYPE = \"FoSa\")\n",
    "\n",
    "dim(fosa_master)\n",
    "head(fosa_master)\n",
    "}"
   ]
  },
  {
   "cell_type": "code",
   "execution_count": null,
   "id": "0e9c9f59-9c6c-44e4-bbd9-13c3917f5117",
   "metadata": {},
   "outputs": [],
   "source": [
    "# List of all Hospitals (from Level 4, aggregate dates across children)\n",
    "\n",
    "if (COUNTRY_CODE ==  \"NER\" && REPORTING_RATE_METHOD == \"DATAELEMENT\" && DATAELEMENT_METHOD_DENOMINATOR == \"PYRAMID_OPEN_FACILITIES\") {\n",
    "    \n",
    "hosp_master <- dhis2_pyramid_raw %>%\n",
    "filter(is_hospital_l4(LEVEL_4_NAME)) %>%\n",
    "group_by(LEVEL_4_ID, LEVEL_4_NAME, LEVEL_2_NAME, LEVEL_3_NAME, LEVEL_3_ID) %>%\n",
    "summarise(\n",
    "    OPENING_DATE = suppressWarnings(min(OPENING_DATE, na.rm = TRUE)),\n",
    "    CLOSED_DATE = suppressWarnings(max(CLOSED_DATE, na.rm = TRUE)),\n",
    "    .groups = \"drop\"\n",
    ") %>%\n",
    "mutate(\n",
    "    DATE_OPENED = ifelse(is.infinite(OPENING_DATE), NA, OPENING_DATE) |> as_datetime(),\n",
    "    DATE_CLOSED = ifelse(is.infinite(CLOSED_DATE), NA, CLOSED_DATE) |> as_datetime()\n",
    "    ) %>%\n",
    "distinct(\n",
    " OU_ID = LEVEL_4_ID, \n",
    " OU_NAME = LEVEL_4_NAME,\n",
    " region=LEVEL_2_NAME,\n",
    " district=LEVEL_3_NAME,\n",
    " ADM2_ID=LEVEL_3_ID,\n",
    " DATE_OPENED,\n",
    " DATE_CLOSED\n",
    ") %>%\n",
    "mutate(\n",
    " OU_TYPE = \"Hospital\"\n",
    " )\n",
    "\n",
    "dim(hosp_master)\n",
    "head(hosp_master)\n",
    "\n",
    "}"
   ]
  },
  {
   "cell_type": "code",
   "execution_count": null,
   "id": "5859e393-bfac-46e6-b103-cb8177100860",
   "metadata": {},
   "outputs": [],
   "source": [
    "# Merge both\n",
    "\n",
    "if (COUNTRY_CODE ==  \"NER\" && REPORTING_RATE_METHOD == \"DATAELEMENT\" && DATAELEMENT_METHOD_DENOMINATOR == \"PYRAMID_OPEN_FACILITIES\") {\n",
    "    \n",
    "facility_master <- bind_rows(fosa_master, hosp_master) %>% \n",
    "  select(ADM2_ID, \n",
    "         OU_ID, \n",
    "         DATE_OPENED, \n",
    "         DATE_CLOSED)\n",
    "\n",
    "dim(facility_master)\n",
    "head(facility_master, 3)\n",
    "\n",
    "}"
   ]
  },
  {
   "cell_type": "markdown",
   "id": "191c3b01-1645-410e-be99-b247bf5f9cfb",
   "metadata": {},
   "source": [
    "#### 2. Calculate nr of facilities open each MONTH per ADM2"
   ]
  },
  {
   "cell_type": "code",
   "execution_count": null,
   "id": "91f972f1-bcc9-458f-9662-5574efc7ac9d",
   "metadata": {},
   "outputs": [],
   "source": [
    "# Define start and end period based on routine data \n",
    "\n",
    "if (COUNTRY_CODE ==  \"NER\" && REPORTING_RATE_METHOD == \"DATAELEMENT\" && DATAELEMENT_METHOD_DENOMINATOR == \"PYRAMID_OPEN_FACILITIES\") {\n",
    "    \n",
    "PERIOD_START <- dhis2_routine$PERIOD |> min()\n",
    "PERIOD_END <- dhis2_routine$PERIOD |> max()\n",
    "\n",
    "print(paste0(\"Start period: \", PERIOD_START))\n",
    "print(paste0(\"End period :\", PERIOD_END))\n",
    "\n",
    "}"
   ]
  },
  {
   "cell_type": "code",
   "execution_count": null,
   "id": "0c6ed56f-b2a6-460c-a3dc-6c588c40b54c",
   "metadata": {},
   "outputs": [],
   "source": [
    "## Create a \"complete\" grid of every month and year for the period range  ---------------------------------------\n",
    "\n",
    "if (COUNTRY_CODE ==  \"NER\" && REPORTING_RATE_METHOD == \"DATAELEMENT\" && DATAELEMENT_METHOD_DENOMINATOR == \"PYRAMID_OPEN_FACILITIES\") {\n",
    "    \n",
    "months_grid <- tibble(\n",
    "  month_date = seq(\n",
    "    ymd(paste0(PERIOD_START, \"01\")), # Converts 202201 to \"20220101\" and then to a date\n",
    "    ymd(paste0(PERIOD_END, \"01\")),   # same\n",
    "    by = \"months\"\n",
    "  )\n",
    ") %>%\n",
    "  mutate(\n",
    "    YEAR = year(month_date),\n",
    "    MONTH = month(month_date)\n",
    "  )\n",
    "\n",
    "dim(months_grid)    \n",
    "head(months_grid, 3)\n",
    "\n",
    "}"
   ]
  },
  {
   "cell_type": "code",
   "execution_count": null,
   "id": "f283cc96-ed69-43a3-964e-57ccb0180a4a",
   "metadata": {},
   "outputs": [],
   "source": [
    "## Create a \"complete\" grid of every ADM2_ID for every month  ---------------------------------------\n",
    "\n",
    "if (COUNTRY_CODE ==  \"NER\" && REPORTING_RATE_METHOD == \"DATAELEMENT\" && DATAELEMENT_METHOD_DENOMINATOR == \"PYRAMID_OPEN_FACILITIES\") {\n",
    "    \n",
    "# This ensures that even if an ADM2_ID has zero open facilities in a month,\n",
    "# it will still appear in the final result with a count of 0.\n",
    "complete_grid <- expand_grid(\n",
    "  ADM2_ID = unique(facility_master$ADM2_ID),\n",
    "  month_date = months_grid$month_date\n",
    ") %>%\n",
    "  mutate(\n",
    "    YEAR = year(month_date),\n",
    "    MONTH = month(month_date)\n",
    "  )\n",
    "\n",
    "head(complete_grid, 3)\n",
    "\n",
    "}"
   ]
  },
  {
   "cell_type": "code",
   "execution_count": null,
   "id": "6e905c46-036a-4aa9-85ad-216f846f9e1b",
   "metadata": {},
   "outputs": [],
   "source": [
    "## Calculate the number of open facilities  ---------------------------------------\n",
    "\n",
    "# # The facility must have opened on or before the last day of the current month. \n",
    "# # To calculate the last day: add one month and subtract one day from the first day.\n",
    "# complete_grid$month_date[1]                       # \"2022-01-01\"\n",
    "# complete_grid$month_date[1] + months(1) - days(1) # \"2022-01-31\"\n",
    "# # The facility must either still be open (DATE_CLOSED is NA) OR it must have closed on or after the first day of that month.\n",
    "\n",
    "if (COUNTRY_CODE ==  \"NER\" && REPORTING_RATE_METHOD == \"DATAELEMENT\" && DATAELEMENT_METHOD_DENOMINATOR == \"PYRAMID_OPEN_FACILITIES\") {\n",
    "    \n",
    "open_facilities_count <- facility_master %>%\n",
    "  # Create a row for every possible combination of facility and month\n",
    "  crossing(months_grid) %>%\n",
    "  # A facility is \"open\" if it opened BEFORE the end of the month\n",
    "  # AND it either never closed (NA) or closed AFTER the start of the month.\n",
    "  filter(\n",
    "    DATE_OPENED <= month_date + months(1) - days(1) & # opened on or before the last day of the current month\n",
    "      (is.na(DATE_CLOSED) | DATE_CLOSED >= month_date) # \n",
    "  ) %>%\n",
    "  # Count the number of open facilities for each area and month\n",
    "  count(ADM2_ID, YEAR, MONTH, name = \"OPEN_FACILITIES_COUNT\")\n",
    "\n",
    "head(open_facilities_count, 3)\n",
    "}"
   ]
  },
  {
   "cell_type": "code",
   "execution_count": null,
   "id": "0ba854f2-5925-4154-b86e-3e4e7bb6c363",
   "metadata": {},
   "outputs": [],
   "source": [
    "## Join the counts back to the complete grid to include zeros --------------------------------------\n",
    "\n",
    "if (COUNTRY_CODE ==  \"NER\" && REPORTING_RATE_METHOD == \"DATAELEMENT\" && DATAELEMENT_METHOD_DENOMINATOR == \"PYRAMID_OPEN_FACILITIES\") {\n",
    "    \n",
    "pyramid_open_facilities <- complete_grid %>%\n",
    "  left_join(open_facilities_count, by = c(\"ADM2_ID\", \"YEAR\", \"MONTH\")) %>%\n",
    "  # If a month had no open facilities, the count will be NA. Change it to 0.\n",
    "  mutate(OPEN_FACILITIES_COUNT = replace_na(OPEN_FACILITIES_COUNT, 0)) %>% # DENOMINATOR: use same col name as other methods \n",
    "  select(ADM2_ID, YEAR, MONTH, \n",
    "         EXPECTED_REPORTS = OPEN_FACILITIES_COUNT) %>%\n",
    "  arrange(ADM2_ID, YEAR, MONTH)\n",
    "\n",
    "print(dim(pyramid_open_facilities))\n",
    "head(pyramid_open_facilities, 3)\n",
    "\n",
    "}"
   ]
  },
  {
   "cell_type": "code",
   "execution_count": null,
   "id": "ff1a8537-d093-4d5c-8a44-4b729090cced",
   "metadata": {},
   "outputs": [],
   "source": []
  },
  {
   "cell_type": "markdown",
   "id": "811310a9-df85-4fa3-af9a-b931eaffd7e5",
   "metadata": {},
   "source": [
    "### Calculate **Reporting Rate** "
   ]
  },
  {
   "cell_type": "markdown",
   "id": "8827cfd6-479b-4025-a379-d20bf20fcfb4",
   "metadata": {},
   "source": [
    "**Join df for Denominator**\n",
    "\n",
    "**Note**<br>\n",
    "in both df's (`dhis2_reporting_expected` OR `routine_active_facilities`) the col `EXPECTED_REPORTS` has the same name to simplify parametrization: only difference between the 2 options is the df to be joined (right element in `left_join()`)"
   ]
  },
  {
   "cell_type": "code",
   "execution_count": null,
   "id": "3e5fa0b5-5e47-4a3a-8449-2f161eb71b12",
   "metadata": {},
   "outputs": [],
   "source": [
    "DATAELEMENT_METHOD_DENOMINATOR"
   ]
  },
  {
   "cell_type": "code",
   "execution_count": null,
   "id": "9b0c684d-971f-4102-a764-91df7a887cfc",
   "metadata": {},
   "outputs": [],
   "source": [
    "# --- 2. Join `dhis2_reporting_expected` OR `dhis2_calculated_expected` to add `EXPECTED_REPORTS` ------------------------------------------------\n",
    "\n",
    "if (REPORTING_RATE_METHOD == \"DATAELEMENT\") {\n",
    "\n",
    "# Parametrized based on DATAELEMENT_METHOD_DENOMINATOR: left_join() the respective df\n",
    "if (DATAELEMENT_METHOD_DENOMINATOR == \"DHIS2_EXPECTED_REPORTS\") {\n",
    "    # Add df of rep rate extracted directly from DHIS2\n",
    "    dhis2_routine_submitted_expected <- left_join(\n",
    "    dhis2_routine_submitted, \n",
    "    dhis2_reporting_expected |> select(ADM2_ID, YEAR, MONTH, EXPECTED_REPORTS), # `dhis2_reporting_expected`\n",
    "    by = join_by(ADM2_ID, YEAR, MONTH)\n",
    "    ) \n",
    "    log_msg(\"Calculating `Data Element` reporting rate, using as denominator `EXPECTED_REPORTS` from DHIS2.\")\n",
    "    \n",
    "} else if (DATAELEMENT_METHOD_DENOMINATOR == \"ROUTINE_ACTIVE_FACILITIES\") {\n",
    "    # Add df of rep rate CALCULATED based on submissiosn in dhis2 routine data \"active\" facilities\n",
    "    dhis2_routine_submitted_expected <- left_join(\n",
    "    dhis2_routine_submitted, \n",
    "    routine_active_facilities, # has only cols: `YEAR`, `ADM2_ID`, `EXPECTED_REPORTS`\n",
    "    by = join_by(ADM2_ID, YEAR) #, MONTH)\n",
    "    ) \n",
    "    log_msg(\"Calculating `Data Element` reporting rate, using as denominator `EXPECTED_REPORTS` as CALCULATED from routine data to extract the number ACTIVE facilities \n",
    "            (reporting on any of the extracted indicators at least once per year).\")\n",
    "    \n",
    "}  else if (DATAELEMENT_METHOD_DENOMINATOR == \"PYRAMID_OPEN_FACILITIES\") {\n",
    "   # Add df of rep rate CALCULATED based on OPEN facilities as per PYRAMID RAW\n",
    "    dhis2_routine_submitted_expected <- left_join(\n",
    "    dhis2_routine_submitted, \n",
    "    pyramid_open_facilities, \n",
    "    by = join_by(ADM2_ID, YEAR, MONTH)\n",
    "    ) \n",
    "    log_msg(\"Calculating `Data Element` reporting rate, using as denominator `EXPECTED_REPORTS` as CALCULATED from DHIS2 pyramid. \n",
    "            This method counts the nr of OPEN facilities (Hospitals + FoSa) for each ADM2 per MONTH.\")\n",
    "}\n",
    "\n",
    "# Safety measures ...\n",
    "dhis2_routine_submitted_expected <- dhis2_routine_submitted_expected |>\n",
    "  # ungroup() %>%  \n",
    "  mutate(YEAR = as.integer(YEAR),\n",
    "         MONTH = as.integer(MONTH)\n",
    "          ) \n",
    "\n",
    "\n",
    "print(dim(dhis2_routine_submitted_expected))\n",
    "head(dhis2_routine_submitted_expected, 3)\n",
    "\n",
    "}"
   ]
  },
  {
   "cell_type": "code",
   "execution_count": null,
   "id": "6fad303c-b239-4cf9-93a8-fe3ce5c33c37",
   "metadata": {},
   "outputs": [],
   "source": [
    "# --- 3. Calculate `REPORTING_RATE` ------------------------------------------------\n",
    "\n",
    "if (REPORTING_RATE_METHOD == \"DATAELEMENT\") {\n",
    "    \n",
    "reporting_rate_dataelement <- dhis2_routine_submitted_expected |>\n",
    "mutate(\n",
    "    REPORTING_RATE = SUBMITTED_REPORTS / EXPECTED_REPORTS\n",
    "  ) \n",
    "\n",
    "dim(reporting_rate_dataelement)\n",
    "head(reporting_rate_dataelement, 3)\n",
    "\n",
    "}"
   ]
  },
  {
   "cell_type": "code",
   "execution_count": null,
   "id": "3ef417ed-1186-4540-bb0b-811297551300",
   "metadata": {},
   "outputs": [],
   "source": []
  },
  {
   "cell_type": "markdown",
   "id": "cdae57f3-d4b6-4fa9-838c-77d259a09740",
   "metadata": {},
   "source": [
    "#### Quick data quality check 🔍"
   ]
  },
  {
   "cell_type": "code",
   "execution_count": null,
   "id": "770bcaa4-677a-4fb8-8569-ea751d7bae7e",
   "metadata": {},
   "outputs": [],
   "source": [
    "if (REPORTING_RATE_METHOD == \"DATAELEMENT\") {\n",
    "    inspect_reporting_rate(reporting_rate_dataelement)\n",
    "}\n"
   ]
  },
  {
   "cell_type": "markdown",
   "id": "2eee73bb-c39a-42b1-944e-f5e063f6b114",
   "metadata": {},
   "source": [
    "#### Subset cols"
   ]
  },
  {
   "cell_type": "code",
   "execution_count": null,
   "id": "ff394fc2-c0ac-4883-becb-77a0ace86b08",
   "metadata": {
    "scrolled": true
   },
   "outputs": [],
   "source": [
    "if (REPORTING_RATE_METHOD == \"DATAELEMENT\") {\n",
    "\n",
    "    reporting_rate_dataelement <- reporting_rate_dataelement |> \n",
    "    select(all_of(fixed_cols_rr))\n",
    "    \n",
    "    head(reporting_rate_dataelement, 3)\n",
    "}"
   ]
  },
  {
   "cell_type": "code",
   "execution_count": null,
   "id": "fd0c2cef-63f3-424e-9ef1-1f33f637be78",
   "metadata": {},
   "outputs": [],
   "source": []
  },
  {
   "cell_type": "markdown",
   "id": "7999ca83-783a-4041-8ddc-6481d9a43961",
   "metadata": {},
   "source": [
    "#### Plot by MONTH (heatmap)"
   ]
  },
  {
   "cell_type": "code",
   "execution_count": null,
   "id": "6535e999-574a-4962-880d-0a996b8c3513",
   "metadata": {},
   "outputs": [],
   "source": [
    "if (REPORTING_RATE_METHOD == \"DATAELEMENT\") {\n",
    "\n",
    "# Plot reporting rate heatmap\n",
    "options(repr.plot.width = 20, repr.plot.height = 10) \n",
    "\n",
    "# reporting_rate_conf_month %>%\n",
    "reporting_rate_dataelement %>%\n",
    "mutate(\n",
    "    DATE = as.Date(paste0(YEAR, \"-\", MONTH, \"-01\"))\n",
    "    ) %>%\n",
    "ggplot(., aes(x = DATE,  \n",
    "              y = factor(ADM2_ID), \n",
    "              fill = REPORTING_RATE * 100)\n",
    "      ) + \n",
    "  geom_tile() +\n",
    "  scale_fill_viridis_c(\n",
    "    option = \"C\",\n",
    "    direction = 1,  # blue = low, yellow = high\n",
    "    limits = c(0, 100),\n",
    "    name = \"Reporting rate (%)\"\n",
    "  ) +\n",
    "  labs(\n",
    "    title = \"Monthly Reporting Rate by Health District - Method 'DataElement'\",\n",
    "    subtitle = \"Each tile represents the reporting completeness per district per month\",\n",
    "    x = \"Month\",\n",
    "    y = \"Health District\"\n",
    "  ) +\n",
    "  theme_minimal(base_size = 13) +\n",
    "  theme(\n",
    "    axis.text.x = element_text(angle = 90, hjust = 1, vjust = 0.5, size = 9),\n",
    "    axis.text.y = element_text(size = 9),\n",
    "    plot.title = element_text(face = \"bold\", hjust = 0.5, size = 14),\n",
    "    plot.subtitle = element_text(hjust = 0.5, size = 12),\n",
    "    legend.position = \"right\",\n",
    "    panel.grid = element_blank()\n",
    "  )\n",
    "\n",
    "}"
   ]
  },
  {
   "cell_type": "code",
   "execution_count": null,
   "id": "93f5b7f0-bf5e-4567-9d16-da2091125988",
   "metadata": {},
   "outputs": [],
   "source": []
  },
  {
   "cell_type": "markdown",
   "id": "6729e183-5395-4fb7-a535-978c61124710",
   "metadata": {},
   "source": [
    "# 4. Export 📁 /data/ folder"
   ]
  },
  {
   "cell_type": "markdown",
   "id": "ef68ae41-a0a9-4b45-8b7d-3d1c9b535ad9",
   "metadata": {},
   "source": [
    "### 🧹 Clear output directory\n",
    "This is needed to ensure that only 2 files are written to the new version of the Dataset:\n",
    "* **Data Set** reporting rate (only one way to calculate it, not parametrized as nothing to \"decide\" here)\n",
    "* **Data Element** reporting rate: here there are 7 possible combinations of numerator times 3 possible combinatiosn of denominator.<br>\n",
    "    These are too many optiosn to give to the incidence pipeline (the step that ingests this data), where these would need to be hardcoded in the pipeline module. When running the incidence pipeline, the user simply choses whether to use `\"dataset\"` or `\"dataelement\"`, and therefore there must be only one file for each option.<br>\n",
    "  <s>However, we want to **preserve the info** on the choice of **numerator** and **denominator** in the **filename**. The import function used in incidence therefore only looks for the fixed pattern in the filename, and ignores the tags for numerator and denominator (e.g., \"n-conf-susp-test\", \"d-dexrep\").<//s>"
   ]
  },
  {
   "cell_type": "code",
   "execution_count": null,
   "id": "7eb882f3-a443-4363-bcad-be5b4ebc7d8f",
   "metadata": {},
   "outputs": [],
   "source": [
    "# Cleanup\n",
    "path_to_clear <- file.path(DATA_PATH, \"reporting_rate\")\n",
    "files_to_delete <- list.files(path_to_clear, full.names = TRUE, recursive = TRUE)\n",
    "unlink(files_to_delete, recursive = TRUE)\n",
    "log_msg(glue::glue(\"🧹 Deleting all existing files from `{path_to_clear}`. Output of current pipeline run will replace output of previous run.\"))"
   ]
  },
  {
   "cell_type": "markdown",
   "id": "1372184e-a1a9-472a-87d4-69e38a1b139d",
   "metadata": {
    "papermill": {
     "duration": 0.000436,
     "end_time": "2025-08-26T09:50:02.570794",
     "exception": false,
     "start_time": "2025-08-26T09:50:02.570358",
     "status": "completed"
    },
    "tags": []
   },
   "source": [
    "### CSV"
   ]
  },
  {
   "cell_type": "markdown",
   "id": "c266c99e-a08e-471b-93dd-dbedb4841483",
   "metadata": {
    "papermill": {
     "duration": 0.000436,
     "end_time": "2025-08-26T09:50:02.570794",
     "exception": false,
     "start_time": "2025-08-26T09:50:02.570358",
     "status": "completed"
    },
    "tags": []
   },
   "source": [
    "#### Build up file name for **data Element** method"
   ]
  },
  {
   "cell_type": "code",
   "execution_count": null,
   "id": "1b6532c9-292e-4e8c-8e9d-987867920a6d",
   "metadata": {
    "papermill": {
     "duration": 0.198788,
     "end_time": "2025-08-26T09:50:02.770154",
     "exception": false,
     "start_time": "2025-08-26T09:50:02.571366",
     "status": "completed"
    },
    "tags": []
   },
   "outputs": [],
   "source": [
    "# 🚨 Currently not in use! Keeping for future update to method 🚨 (GP 2025-08-29)\n",
    "\n",
    "# Abbreviation for Data Elememnt chosen NUMERATOR\n",
    "method_num = tolower(paste0(\"n-\", paste(indicators_selected, collapse = \"-\")))\n",
    "method_num\n",
    "\n",
    "\n",
    "# Abbreviation for Data Elememnt chosen DENOMINATOR\n",
    "if (DATAELEMENT_METHOD_DENOMINATOR == \"DHIS2_EXPECTED_REPORTS\") {\n",
    "    method_den = \"d-dexrep\" # \"d1\"\n",
    "} else if (DATAELEMENT_METHOD_DENOMINATOR == \"ROUTINE_ACTIVE_FACILITIES\") {\n",
    "    method_den = \"d-actfac\" # \"d2\"\n",
    "    } else if (DATAELEMENT_METHOD_DENOMINATOR == \"PYRAMID_OPEN_FACILITIES\") {\n",
    "    method_den = \"d-opnfcl\" # \"d2\"\n",
    "    }\n",
    "\n",
    "method_den"
   ]
  },
  {
   "cell_type": "markdown",
   "id": "cf5bcd47-dba1-4a7a-81cf-d036fd0ee4db",
   "metadata": {
    "papermill": {
     "duration": 0.000436,
     "end_time": "2025-08-26T09:50:02.570794",
     "exception": false,
     "start_time": "2025-08-26T09:50:02.570358",
     "status": "completed"
    },
    "tags": []
   },
   "source": [
    "#### Write function to assemble path based on method - for .**csv**"
   ]
  },
  {
   "cell_type": "code",
   "execution_count": null,
   "id": "0b01c022-aa52-4a1b-a2fe-7bcb145a2049",
   "metadata": {
    "papermill": {
     "duration": 0.108587,
     "end_time": "2025-08-26T09:50:02.884462",
     "exception": false,
     "start_time": "2025-08-26T09:50:02.775875",
     "status": "completed"
    },
    "tags": []
   },
   "outputs": [],
   "source": [
    "# write function\n",
    "snt_write_csv <- function(x, output_data_path, method) {\n",
    "  \n",
    "  full_directory_path <- file.path(output_data_path, \"reporting_rate\")\n",
    "  \n",
    "  if (!dir.exists(full_directory_path)) {\n",
    "    dir.create(full_directory_path, recursive = TRUE)\n",
    "  }\n",
    "\n",
    "  file_path <- file.path(full_directory_path, paste0(COUNTRY_CODE, \"_reporting_rate_\", method, \".csv\")) \n",
    "  \n",
    "  write_csv(x, file_path)\n",
    "\n",
    "  log_msg(paste0(\"Exported : \", file_path))\n",
    "}"
   ]
  },
  {
   "cell_type": "markdown",
   "id": "512ba94e-b7fc-4e45-bdda-8f5533e4e665",
   "metadata": {
    "papermill": {
     "duration": 0.000436,
     "end_time": "2025-08-26T09:50:02.570794",
     "exception": false,
     "start_time": "2025-08-26T09:50:02.570358",
     "status": "completed"
    },
    "tags": []
   },
   "source": [
    "#### Use function to export .csv files"
   ]
  },
  {
   "cell_type": "code",
   "execution_count": null,
   "id": "8689ebc3-d975-45be-92fd-1fedfc733f49",
   "metadata": {},
   "outputs": [],
   "source": [
    "# Method \"Dataset\"\n",
    "\n",
    "if (REPORTING_RATE_METHOD == \"DATASET\") {\n",
    "    snt_write_csv(x = reporting_rate_dataset, \n",
    "              output_data_path = DATA_PATH, \n",
    "              method = \"dataset\") \n",
    "}"
   ]
  },
  {
   "cell_type": "code",
   "execution_count": null,
   "id": "b16e74ae-64f2-4267-a6ae-8413c8463af6",
   "metadata": {
    "papermill": {
     "duration": 2.659797,
     "end_time": "2025-08-26T09:50:05.545618",
     "exception": false,
     "start_time": "2025-08-26T09:50:02.885821",
     "status": "completed"
    },
    "tags": []
   },
   "outputs": [],
   "source": [
    "# Method \"Data Element\"\n",
    "\n",
    "if (REPORTING_RATE_METHOD == \"DATAELEMENT\") {\n",
    "       snt_write_csv(x = reporting_rate_dataelement,\n",
    "                     output_data_path = DATA_PATH, \n",
    "                     method = \"dataelement\")\n",
    "}"
   ]
  },
  {
   "cell_type": "markdown",
   "id": "cfd1679e-dc0e-4805-9420-0788884a7713",
   "metadata": {
    "papermill": {
     "duration": 0.000345,
     "end_time": "2025-08-26T09:50:05.546427",
     "exception": false,
     "start_time": "2025-08-26T09:50:05.546082",
     "status": "completed"
    },
    "tags": []
   },
   "source": [
    "### parquet"
   ]
  },
  {
   "cell_type": "markdown",
   "id": "bed7679d-c392-4e3a-9fc7-4d6ae6982517",
   "metadata": {
    "papermill": {
     "duration": 0.000436,
     "end_time": "2025-08-26T09:50:02.570794",
     "exception": false,
     "start_time": "2025-08-26T09:50:02.570358",
     "status": "completed"
    },
    "tags": []
   },
   "source": [
    "#### Write function to assemble path based on method - for .**parquet**"
   ]
  },
  {
   "cell_type": "code",
   "execution_count": null,
   "id": "26e68499-ef55-46f6-a017-8d03fdbff1b4",
   "metadata": {
    "papermill": {
     "duration": 0.100077,
     "end_time": "2025-08-26T09:50:05.647079",
     "exception": false,
     "start_time": "2025-08-26T09:50:05.547002",
     "status": "completed"
    },
    "tags": []
   },
   "outputs": [],
   "source": [
    "# write function\n",
    "snt_write_parquet <- function(x, output_data_path, method) {\n",
    "  \n",
    "  full_directory_path <- file.path(output_data_path, \"reporting_rate\")\n",
    "  \n",
    "  if (!dir.exists(full_directory_path)) {\n",
    "    dir.create(full_directory_path, recursive = TRUE)\n",
    "  }\n",
    "\n",
    "  file_path <- file.path(full_directory_path, paste0(COUNTRY_CODE, \"_reporting_rate_\", method, \".parquet\")) \n",
    "  \n",
    "  arrow::write_parquet(x, file_path)\n",
    "\n",
    "  log_msg(paste0(\"Exported : \", file_path))\n",
    "}"
   ]
  },
  {
   "cell_type": "markdown",
   "id": "8250b998-2669-4590-a4fe-770e42b2d43f",
   "metadata": {
    "papermill": {
     "duration": 0.000436,
     "end_time": "2025-08-26T09:50:02.570794",
     "exception": false,
     "start_time": "2025-08-26T09:50:02.570358",
     "status": "completed"
    },
    "tags": []
   },
   "source": [
    "#### Use function to export .csv files"
   ]
  },
  {
   "cell_type": "code",
   "execution_count": null,
   "id": "52b5720c-864e-49ac-bf40-6b5551214eaa",
   "metadata": {},
   "outputs": [],
   "source": [
    "# Method \"Dataset\"\n",
    "\n",
    "if (REPORTING_RATE_METHOD == \"DATASET\") {\n",
    "    snt_write_parquet(x = reporting_rate_dataset,\n",
    "                  output_data_path = DATA_PATH,\n",
    "                  method = \"dataset\"\n",
    "                 ) \n",
    "}"
   ]
  },
  {
   "cell_type": "code",
   "execution_count": null,
   "id": "95bf17f5-6015-464c-9388-df2397d1609c",
   "metadata": {},
   "outputs": [],
   "source": [
    "# Method \"Data Element\"\n",
    "\n",
    "if (REPORTING_RATE_METHOD == \"DATAELEMENT\") {\n",
    "       snt_write_parquet(x = reporting_rate_dataelement,\n",
    "                  output_data_path = DATA_PATH,\n",
    "                  method = \"dataelement\"\n",
    "                 )\n",
    "}"
   ]
  },
  {
   "cell_type": "code",
   "execution_count": null,
   "id": "65b3e4b8-1a62-47c8-877b-1dae4511e4f0",
   "metadata": {},
   "outputs": [],
   "source": []
  }
 ],
 "metadata": {
  "kernelspec": {
   "display_name": "R",
   "language": "R",
   "name": "ir"
  },
  "language_info": {
   "codemirror_mode": "r",
   "file_extension": ".r",
   "mimetype": "text/x-r-source",
   "name": "R",
   "pygments_lexer": "r",
   "version": "4.4.3"
  }
 },
 "nbformat": 4,
 "nbformat_minor": 5
}
