{
 "cells": [
  {
   "cell_type": "markdown",
   "id": "f5827740-2917-4504-9017-9ec7d408e5f4",
   "metadata": {},
   "source": [
    "Script structure:\n",
    "* 0. Set parameters (will be part of pipeline so this block will be silenced)\n",
    "  1. Setup:\n",
    "        * Paths\n",
    "        * Utils functions\n",
    "        * Load and check config file\n",
    "  2. Load Data\n",
    "        * **Routine data** (DHIS2) already formatted & aggregated (output of pipeline XXX)\n",
    "        * **Shapes** (DHIS2) for plotting (this could be removed if we move the plots to \"report/EDA\" nb)\n",
    "  3. Calculate **Reportng Rate (RR)**\n",
    "        * \"Ousmane\" way (old code) - find better name for this!\n",
    "        * \"WHO\" / \"Fre\" way (based on code in nb: `~/dhis2_incidence/code/WIP/code_from_fre/DRC_DHIS2_analyses_fvdb_v2.ipynb`)\n",
    "     **Export** reporting rate data to **Datasets** as .csv and .parquet files\n",
    "  6. 🚧 (possibly) Expand reporting: **data inspection** (plots and summary tables) - this might go to **dedicated nb** ..."
   ]
  },
  {
   "cell_type": "markdown",
   "id": "cdd5409b-dc0e-45f4-ae4e-dffcdb25059b",
   "metadata": {},
   "source": [
    "-------------------\n",
    "**Naming harmonization to improve code readability**:"
   ]
  },
  {
   "cell_type": "markdown",
   "id": "96d5dffc-ff34-4a14-b2b7-1e71e6afad07",
   "metadata": {},
   "source": [
    "**Reporting Rate** data frames, based on different **methods**:\n",
    "* follwo this structure: `reporting_rate_<method>_<periodicity>`. So:\n",
    "    * **CONF** (Diallo 2025) : `reporting_rate_conf_month`\n",
    "    * **ANY** (as \"this code simply tests for _any_ indicator that is present\"): `reporting_rate_any_month`"
   ]
  },
  {
   "cell_type": "markdown",
   "id": "5e8f5bf2-922a-468a-8a2c-8e56d7e652df",
   "metadata": {},
   "source": [
    "--------------------"
   ]
  },
  {
   "cell_type": "markdown",
   "id": "339f6d58-0965-40ef-b718-96195d2463f8",
   "metadata": {},
   "source": [
    "## Parameters"
   ]
  },
  {
   "cell_type": "markdown",
   "id": "84a4b0a1-458e-4863-a7b1-9e311845eb2c",
   "metadata": {},
   "source": [
    "👇 these are now ⚡**pipeline parameters**⚡!"
   ]
  },
  {
   "cell_type": "code",
   "execution_count": 1,
   "id": "6cad11b5-8295-41f6-aac7-0fbec98caff2",
   "metadata": {
    "editable": true,
    "execution": {
     "iopub.execute_input": "2025-06-04T10:22:05.435054Z",
     "iopub.status.busy": "2025-06-04T10:22:05.431292Z",
     "iopub.status.idle": "2025-06-04T10:22:05.554392Z",
     "shell.execute_reply": "2025-06-04T10:22:05.551977Z"
    },
    "papermill": {
     "duration": 0.128604,
     "end_time": "2025-06-04T10:22:05.557034",
     "exception": false,
     "start_time": "2025-06-04T10:22:05.428430",
     "status": "completed"
    },
    "slideshow": {
     "slide_type": ""
    },
    "tags": [
     "injected-parameters"
    ]
   },
   "outputs": [],
   "source": [
    "# Parameters\n",
    "SNT_ROOT_PATH = \"/home/hexa/workspace\"\n",
    "REPORTING_RATE_THRESHOLD = 0.8\n"
   ]
  },
  {
   "cell_type": "markdown",
   "id": "af076158-1f5a-408d-8ce2-2f2101d0531c",
   "metadata": {},
   "source": [
    "## 1. Setup"
   ]
  },
  {
   "cell_type": "markdown",
   "id": "3ae826e4-f728-4c8d-81fb-0857234ac622",
   "metadata": {},
   "source": [
    "### 1.1. Paths"
   ]
  },
  {
   "cell_type": "code",
   "execution_count": null,
   "id": "b5f1b8ce-db82-4295-8e74-00b765cf0b9d",
   "metadata": {},
   "outputs": [],
   "source": [
    "# PROJECT PATHS\n",
    "CODE_PATH <- file.path(SNT_ROOT_PATH, 'code') # this is where we store snt_functions.r and snt_utils.r\n",
    "CONFIG_PATH <- file.path(SNT_ROOT_PATH, 'configuration') # .json config file\n",
    "DATA_PATH <- file.path(SNT_ROOT_PATH, 'data') # same as in Datasets but /data/ gets over written every time a new version of Datasets is pushed"
   ]
  },
  {
   "cell_type": "markdown",
   "id": "22971de0-1431-4cbd-b8c1-3bd3e1609e0d",
   "metadata": {},
   "source": [
    "### 1.2. Utils functions"
   ]
  },
  {
   "cell_type": "code",
   "execution_count": null,
   "id": "1784fd43-03f3-478b-8148-4b478317ea21",
   "metadata": {},
   "outputs": [],
   "source": [
    "source(file.path(CODE_PATH, \"snt_utils.r\"))"
   ]
  },
  {
   "cell_type": "markdown",
   "id": "3bbcbd39-54e8-4ece-9244-30d7d30291d2",
   "metadata": {},
   "source": [
    "### 1.3. Packages"
   ]
  },
  {
   "cell_type": "code",
   "execution_count": null,
   "id": "426ecff6-0b4c-474d-a48d-826002205b89",
   "metadata": {},
   "outputs": [],
   "source": [
    "# List required pcks  ---------------->  check  what are the really required libraries\n",
    "required_packages <- c(\"arrow\", # for .parquet\n",
    "                       # \"dplyr\", \"tidyr\", \"stringr\", (just load tidyverse instead as I need more of the tidyverse packages)\n",
    "                       \"tidyverse\",\n",
    "                       \"stringi\", \n",
    "                       \"sf\",\n",
    "                       \"jsonlite\", \n",
    "                       \"httr\", \n",
    "                       \"reticulate\")\n",
    "\n",
    "# Execute function\n",
    "install_and_load(required_packages)"
   ]
  },
  {
   "cell_type": "markdown",
   "id": "18a8e0c1-ac09-4435-b6f4-5f91fd916396",
   "metadata": {},
   "source": [
    "### 1.3.1. OpenHEXA-specific settings"
   ]
  },
  {
   "cell_type": "markdown",
   "id": "ebb8c7d5-7c2c-4dbe-a1ba-238419fbedf3",
   "metadata": {},
   "source": [
    "#### For 📦{sf}, tell OH where to find stuff ..."
   ]
  },
  {
   "cell_type": "code",
   "execution_count": null,
   "id": "91a66fb7-dd5e-43fd-a6a2-d8bb9f0315d6",
   "metadata": {},
   "outputs": [],
   "source": [
    "# Hope this gets fixed at the source one day ...\n",
    "Sys.setenv(PROJ_LIB = \"/opt/conda/share/proj\")\n",
    "Sys.setenv(GDAL_DATA = \"/opt/conda/share/gdal\")"
   ]
  },
  {
   "cell_type": "markdown",
   "id": "ac9ee427-020e-47c5-b2c9-5ca24e1f2779",
   "metadata": {},
   "source": [
    "#### Set environment to load openhexa.sdk from the right path"
   ]
  },
  {
   "cell_type": "code",
   "execution_count": null,
   "id": "aa331278-573d-4a22-ab16-da6972d7b0be",
   "metadata": {},
   "outputs": [],
   "source": [
    "# Set environment to load openhexa.sdk from the right path\n",
    "Sys.setenv(RETICULATE_PYTHON = \"/opt/conda/bin/python\")\n",
    "reticulate::py_config()$python\n",
    "openhexa <- import(\"openhexa.sdk\")"
   ]
  },
  {
   "cell_type": "markdown",
   "id": "339b2e8b-9bf6-4eaf-b283-d9360c1c6899",
   "metadata": {},
   "source": [
    "### 1.4. Load and check `config` file"
   ]
  },
  {
   "cell_type": "code",
   "execution_count": null,
   "id": "f1c46526-6844-43ae-bb53-d8d1ad2fac24",
   "metadata": {},
   "outputs": [],
   "source": [
    "# Load SNT config\n",
    "\n",
    "config_file_name <- \"SNT_config.json\" # ⚠️ The config file can be changed here if needed!\n",
    "config_json <- tryCatch({\n",
    "        jsonlite::fromJSON(file.path(CONFIG_PATH, config_file_name)) \n",
    "    },\n",
    "    error = function(e) {\n",
    "        msg <- paste0(\"Error while loading configuration\", conditionMessage(e))  \n",
    "        cat(msg)   \n",
    "        stop(msg) \n",
    "    })\n",
    "\n",
    "msg <- paste0(\"SNT configuration loaded from  : \", file.path(CONFIG_PATH, config_file_name))\n",
    "log_msg(msg)"
   ]
  },
  {
   "cell_type": "markdown",
   "id": "6d49c1a8-c9e2-4f4e-abdc-cc4bd0538d0d",
   "metadata": {},
   "source": [
    "🚨 Config Validation in pipeline"
   ]
  },
  {
   "cell_type": "code",
   "execution_count": null,
   "id": "5d876f3d-057f-485d-92a8-6f8769dbe5d4",
   "metadata": {
    "jupyter": {
     "source_hidden": true
    }
   },
   "outputs": [],
   "source": [
    "# # CHECK SNT configuration \n",
    "# snt_config_mandatory <- c(\"COUNTRY_CODE\", \"DHIS2_ADMINISTRATION_1\", \"DHIS2_ADMINISTRATION_2\") #, \"ORG_UNITS_LEVELS_SELECTION\")\n",
    "# for (conf in snt_config_mandatory) {\n",
    "#     print(paste(conf, \":\", config_json$SNT_CONFIG[conf]))\n",
    "#     if (is.null(config_json$SNT_CONFIG[[conf]])) {\n",
    "#         msg <- paste(\"Missing configuration input:\", conf)\n",
    "#         cat(msg)   \n",
    "#         stop(msg)\n",
    "#     }\n",
    "# }"
   ]
  },
  {
   "cell_type": "markdown",
   "id": "29182f25-b0cf-46aa-9818-49616cd3f353",
   "metadata": {},
   "source": [
    "**Save config fields as variables**"
   ]
  },
  {
   "cell_type": "code",
   "execution_count": null,
   "id": "c52654c8-8a19-4e0c-a83b-1bc2eecae6bc",
   "metadata": {},
   "outputs": [],
   "source": [
    "# Generic\n",
    "COUNTRY_CODE <- config_json$SNT_CONFIG$COUNTRY_CODE\n",
    "ADMIN_1 <- toupper(config_json$SNT_CONFIG$DHIS2_ADMINISTRATION_1)\n",
    "ADMIN_2 <- toupper(config_json$SNT_CONFIG$DHIS2_ADMINISTRATION_2)\n",
    "\n",
    "# Specific to INCIDENCE calculation (this nb)\n",
    "# How to treat 0 values (in this case: \"SET_0_TO_NA\" converts 0 to NAs)\n",
    "NA_TREATMENT <- config_json$SNT_CONFIG$NA_TREATMENT\n",
    "\n",
    "# Which (aggregated) indicators to use to evaluate \"activity\" of an HF - for Reporting Rate method \"Ousmane\"\n",
    "DHIS2_INDICATORS <- names(config_json$DHIS2_DATA_DEFINITIONS$DHIS2_INDICATOR_DEFINITIONS)"
   ]
  },
  {
   "cell_type": "code",
   "execution_count": null,
   "id": "2a0a8562-4a70-455c-9ccf-aa39f4cf4e31",
   "metadata": {},
   "outputs": [],
   "source": [
    "# Fixed routine formatting columns\n",
    "fixed_cols <- c('OU','PERIOD', 'YEAR', 'MONTH', 'ADM1_ID', 'ADM1', 'ADM2_ID', 'ADM2') # use `OU` as it contains unique ids (OU_NAME has homonimous values!)\n",
    "print(paste(\"Fixed routine data (\\\"dhis2_routine\\\") columns (always expected): \", paste(fixed_cols, collapse=\", \")))"
   ]
  },
  {
   "cell_type": "markdown",
   "id": "8d8d9be2-bf05-466d-811e-6beea0dccfde",
   "metadata": {},
   "source": [
    "## 2. Load Data"
   ]
  },
  {
   "cell_type": "markdown",
   "id": "0fa1b169-fc55-4ef1-b58f-6a7dc9d1dec3",
   "metadata": {},
   "source": [
    "### 2.1. **Routine** data (DHIS2) \n",
    "already formatted & aggregated (output of pipeline XXX)"
   ]
  },
  {
   "cell_type": "code",
   "execution_count": null,
   "id": "586e8da8-4e1c-431a-9b8d-1169167e1c09",
   "metadata": {},
   "outputs": [],
   "source": [
    "# DHIS2 Dataset extract identifier\n",
    "dataset_name <- config_json$SNT_DATASET_IDENTIFIERS$DHIS2_DATASET_FORMATTED\n",
    "\n",
    "# Load file from dataset\n",
    "dhis2_routine <- tryCatch({ get_latest_dataset_file_in_memory(dataset_name, paste0(COUNTRY_CODE, \"_routine.parquet\")) }, \n",
    "                  error = function(e) {\n",
    "                      msg <- paste(\"Error while loading DHIS2 routine data file for: \" , COUNTRY_CODE, conditionMessage(e))  # log error message\n",
    "                      cat(msg)\n",
    "                      stop(msg)\n",
    "})\n",
    "\n",
    "msg <- paste0(\"DHIS2 routine data loaded from dataset : \", dataset_name, \" dataframe dimensions: \", paste(dim(dhis2_routine), collapse=\", \"))\n",
    "log_msg(msg)"
   ]
  },
  {
   "cell_type": "code",
   "execution_count": null,
   "id": "edb2fcdc-ce0a-4c78-b06a-9f4610ab4714",
   "metadata": {},
   "outputs": [],
   "source": [
    "head(dhis2_routine)"
   ]
  },
  {
   "cell_type": "markdown",
   "id": "c832da26-fe0c-43fe-8300-2fff5c4cbf34",
   "metadata": {},
   "source": [
    "### 2.2. Shapes for plotting maps (choropleths)"
   ]
  },
  {
   "cell_type": "code",
   "execution_count": null,
   "id": "652cf1a7-c9a2-48db-b44d-8fabfd0e072f",
   "metadata": {},
   "outputs": [],
   "source": [
    "# DHIS2 Dataset extract identifier\n",
    "dataset_name <- config_json$SNT_DATASET_IDENTIFIERS$DHIS2_DATASET_FORMATTED\n",
    "\n",
    "# Load file from dataset\n",
    "dhis2_shapes <- tryCatch({ get_latest_dataset_file_in_memory(dataset_name, paste0(COUNTRY_CODE, \"_shapes.geojson\")) }, \n",
    "                  error = function(e) {\n",
    "                      msg <- paste(\"Error while loading DHIS2 shapes data file for: \" , COUNTRY_CODE, conditionMessage(e))  # log error message\n",
    "                      cat(msg)\n",
    "                      stop(msg)\n",
    "})\n",
    "\n",
    "msg <- paste0(\"DHIS2 shapes data loaded from dataset : \", dataset_name, \" dataframe dimensions: \", paste(dim(dhis2_shapes), collapse=\", \"))\n",
    "log_msg(msg)"
   ]
  },
  {
   "cell_type": "code",
   "execution_count": null,
   "id": "ffa799a2-f5e5-4ba6-b310-71802787d21b",
   "metadata": {},
   "outputs": [],
   "source": [
    "# `head()` cannot display, needs ‘geojsonio’ (which I cannot install) so let's just check col names ... \n",
    "names(dhis2_shapes)"
   ]
  },
  {
   "cell_type": "markdown",
   "id": "eb4c5c63-d140-46b8-b686-886e612a31dc",
   "metadata": {},
   "source": [
    "## 3. Calculate **Reporting Rate** (RR)\n",
    "We compute it using 2 approaches, user can decided later on which one to use for incidence adjustment."
   ]
  },
  {
   "cell_type": "markdown",
   "id": "cb724aa8-5f06-4e99-aeca-640d0c1b049e",
   "metadata": {},
   "source": [
    "### 3.1. Method \"**ANY**: tests for **_any_ indicator** (as defined in **config file**) that is present\n",
    "**_Ousmane's (cleaned) old code from BFA SNT process_**"
   ]
  },
  {
   "cell_type": "markdown",
   "id": "c82d7639-bf61-467d-8a3a-361108dfa55a",
   "metadata": {},
   "source": [
    "🚨 **Note**: **updated** approach to define \"Active\" health facilities - **how to define list of indicators to consider:** 🚨\n",
    "* **Old (Ousmane's code)**: used indicators (columns in routine data) defined in the code as `report_cols = c(\"SUSP\", \"TEST\", \"CONF\", \"PRES\", \"PRESSEV\", \"MALTREAT\", \"MALADM\", \"MALDTH\")`\n",
    "    * Problem: _what to do if any of these are missing?_ Example: in current BFA data, \"PRESSEV\" is missing, so code breaks \n",
    "* **Current** - applied here: instead of `report_cols`, use the list of indicators defined in the config file, as: `DHIS2_INDICATORS <- names(config.json$DHIS2_DATA_DEFINITIONS$DHIS2_INDICATOR_DEFINITIONS)` (`DHIS2_INDICATORS` is defined at begining of nb)"
   ]
  },
  {
   "cell_type": "markdown",
   "id": "7b465d29-08b5-485f-b1cd-6c0d3b2749d3",
   "metadata": {},
   "source": [
    "#### Define cols used to evaluate HF \"activity\" (whether a HF is reporting or not)"
   ]
  },
  {
   "cell_type": "code",
   "execution_count": null,
   "id": "55cf1751-6aa8-45aa-bbf4-2920fb51ec0c",
   "metadata": {},
   "outputs": [],
   "source": [
    "cols_to_subset <- c(fixed_cols, DHIS2_INDICATORS)\n",
    "print(cols_to_subset)\n",
    "\n",
    "dhis2_routine_subset = dhis2_routine %>% \n",
    "  dplyr::select(all_of(cols_to_subset))  # old: select(all_of(c(fixed_cols, DHIS2_INDICATORS)))"
   ]
  },
  {
   "cell_type": "markdown",
   "id": "258a7ef4-446d-4ce1-898a-34a1e41bcc16",
   "metadata": {},
   "source": [
    "#### 🚨 Set `0` values to `NA`"
   ]
  },
  {
   "cell_type": "code",
   "execution_count": null,
   "id": "15329d61-7f04-4cbf-a72b-e5178237c9e8",
   "metadata": {
    "editable": true,
    "slideshow": {
     "slide_type": ""
    },
    "tags": []
   },
   "outputs": [],
   "source": [
    "# 0 value to NA \n",
    "if (NA_TREATMENT == 'SET_0_TO_NA') { \n",
    "    dhis2_routine_subset[, DHIS2_INDICATORS][dhis2_routine_subset[, DHIS2_INDICATORS] == 0] <- NA  \n",
    "    print(\"Set 0 values to NA\")\n",
    "}"
   ]
  },
  {
   "cell_type": "code",
   "execution_count": null,
   "id": "670508a0-3075-4f82-aa2c-d26cf867f13d",
   "metadata": {},
   "outputs": [],
   "source": [
    "# HF considered \"inactif\" when all indicators are NA (= did not submit anything for these indicators), \n",
    "#     else \"actif\" (= they submitted something)\n",
    "hf_active = dhis2_routine_subset %>%\n",
    "    dplyr::mutate(nomiss = apply(dhis2_routine_subset[,DHIS2_INDICATORS], 1, function(y) sum(!is.na(y))), \n",
    "                  varmis =ifelse(nomiss == 0, 0, 1),\n",
    "                  ACTIVE = ifelse(varmis == 0, 'inactive', 'active')) %>% # colname was \"active\"\n",
    "    dplyr::arrange(ADM1, ADM2, OU, PERIOD) %>% # OU,\n",
    "    dplyr::group_by(ADM1, ADM2, OU) %>% # OU\n",
    "    dplyr::mutate(cummiss = sum(nomiss), \n",
    "                  inactivity = nomiss/length(DHIS2_INDICATORS)*100, #------------------------> this used to be hardcoded as `nomiss/3`\n",
    "                  start_date = ifelse(\n",
    "                    any(inactivity != 100, na.rm = TRUE),\n",
    "                    min(PERIOD[inactivity != 100], na.rm = TRUE),\n",
    "                    NA  # Default to NA if no valid values\n",
    "                    )) %>%\n",
    "    dplyr::filter(PERIOD >= start_date)"
   ]
  },
  {
   "cell_type": "code",
   "execution_count": null,
   "id": "68023e8e-f7f6-4201-b097-1996bee57671",
   "metadata": {},
   "outputs": [],
   "source": [
    "head(hf_active, 3)"
   ]
  },
  {
   "cell_type": "code",
   "execution_count": null,
   "id": "db5ad094-0601-4a18-9435-db60c1f4e8ff",
   "metadata": {},
   "outputs": [],
   "source": [
    "# hf_active_rate = hf_active %>%   # old\n",
    "reporting_rate_any_month = hf_active %>% \n",
    "    dplyr::group_by(ADM2, YEAR, MONTH) %>% # GP replaced PERIOD with MONTH for clarity and consistency with other `reporting_rate_xxx_month`\n",
    "    dplyr::summarize(TOTAL_HF = length(OU),\n",
    "                     TOTAL_HF_ACTIVE = length(which(ACTIVE == 'active')), \n",
    "                     .groups = \"drop\") %>%\n",
    "    #💡 keep `REPORTING _RATE` as (0-1) as later is divided by 100 to make `rep_rate` anyways ... \n",
    "    dplyr::mutate(REPORTING_RATE = round(TOTAL_HF_ACTIVE/TOTAL_HF,2), # was `round(TOTAL_HF_ACTIVE/TOTAL_HF*100,2)`\n",
    "                  REPORTING_RATE_QUALITY = ifelse(REPORTING_RATE >= REPORTING_RATE_THRESHOLD, 'good', 'bad')) %>%\n",
    "    ungroup() %>%  # 🚨 GP added 20250522!\n",
    "    mutate(YEAR = as.integer(YEAR),\n",
    "           MONTH = as.integer(MONTH),\n",
    "          ) # 🚨 GP added 20250522!"
   ]
  },
  {
   "cell_type": "code",
   "execution_count": null,
   "id": "aa3d3a93-342b-4c2a-b7c9-bd1ba79ce993",
   "metadata": {},
   "outputs": [],
   "source": [
    "head(reporting_rate_any_month, 3)"
   ]
  },
  {
   "cell_type": "markdown",
   "id": "dfb3b747-1791-4f1d-b683-14889d22f7f7",
   "metadata": {},
   "source": [
    "#### Plot by MONTH (heatmap)"
   ]
  },
  {
   "cell_type": "code",
   "execution_count": null,
   "id": "997c66af-c1d5-42e1-99a2-a30f15818461",
   "metadata": {},
   "outputs": [],
   "source": [
    "# Plot heatmap\n",
    "options(repr.plot.width = 20, repr.plot.height = 10)\n",
    "\n",
    "reporting_rate_any_month %>%\n",
    "mutate(\n",
    "    DATE = as.Date(paste(YEAR, MONTH, \"01\", sep = \"-\")), # GP note: as.Date() works when YEAR and MONTH are integers as well as character ... (no need to convert)\n",
    "    ADM2 = factor(ADM2)\n",
    "    # reporting_rate = REPORTING_RATE / 100  # convert % to fraction if needed  # GP: a bit silly to do and undo in the next step ...\n",
    "    ) %>%\n",
    "ggplot(., \n",
    "       aes(x = DATE, y = ADM2, \n",
    "           fill = REPORTING_RATE * 100) \n",
    "      ) + \n",
    "  geom_tile() +\n",
    "  scale_fill_viridis_c(\n",
    "    option = \"C\",\n",
    "    direction = 1,\n",
    "    limits = c(0, 100), \n",
    "    name = \"Reporting rate (%)\"\n",
    "  ) +\n",
    "  labs(\n",
    "    title = \"Taux de rapportage mensuel par district sanitaire\",\n",
    "    subtitle = \"Chaque tuile représente l’exhaustivité du rapportage par district et par mois\",\n",
    "    x = \"Mois\",\n",
    "    y = \"District sanitaire\"\n",
    "  ) +\n",
    "  theme_minimal(base_size = 13) +\n",
    "  theme(\n",
    "    axis.text.x = element_text(angle = 90, hjust = 1, vjust = 0.5, size = 9),\n",
    "    axis.text.y = element_text(size = 9),\n",
    "    plot.title = element_text(face = \"bold\", hjust = 0.5, size = 14),\n",
    "    plot.subtitle = element_text(hjust = 0.5, size = 12),\n",
    "    legend.position = \"right\",\n",
    "    panel.grid = element_blank()\n",
    "  )"
   ]
  },
  {
   "cell_type": "markdown",
   "id": "032a96dd-b1b7-467c-9d34-5ec9741e175e",
   "metadata": {},
   "source": [
    "#### Reporting Rate: **year**ly **median** per **ADM2**\n",
    "GP: Fre, it's actually **mean** not median ... ! ⚠️"
   ]
  },
  {
   "cell_type": "code",
   "execution_count": null,
   "id": "5148b334-5cf7-4675-a916-215d4264402c",
   "metadata": {},
   "outputs": [],
   "source": [
    "reporting_rate_any_year = reporting_rate_any_month %>%\n",
    "    group_by(ADM2, YEAR) %>% \n",
    "    summarise(REPORTING_RATE = round(mean(REPORTING_RATE, na.rm = T), 2), .groups = \"drop\") %>% # GP: shouldn't it be `median()`?\n",
    "    ungroup() %>%\n",
    "    mutate(YEAR = as.integer(YEAR)) # 🚨 GP added 20250522!"
   ]
  },
  {
   "cell_type": "code",
   "execution_count": null,
   "id": "e1d3dbcd-9b5a-43e1-961b-f41de14ca4e6",
   "metadata": {},
   "outputs": [],
   "source": [
    "print(dim(reporting_rate_any_year))\n",
    "head(reporting_rate_any_year, 3)"
   ]
  },
  {
   "cell_type": "markdown",
   "id": "40b21c65-1b75-42f7-821a-24d31e436c73",
   "metadata": {},
   "source": [
    "----------------------------"
   ]
  },
  {
   "cell_type": "markdown",
   "id": "17ffece4-9420-4004-993b-b5692cc1d2de",
   "metadata": {},
   "source": [
    "### 3.2. Method **CONF**: based on reporting of **confirmed cases**\n",
    "**_Reporting rate following methods by WHO and as per Diallo_2025 paper_**"
   ]
  },
  {
   "cell_type": "markdown",
   "id": "a73a316a-cad7-4351-80f0-e9f5056768ef",
   "metadata": {},
   "source": [
    "To accurately measure data completeness, we calculate the monthly reporting rate per health district (ADM2) as the **proportion of facility–months that submitted at least one report containing a confirmed malaria case** (**CONF**). <br>\n",
    "For each ADM2, we expect one report per facility per month. For example, if an ADM2 has 25 facilities, we expect 25 reports for a given month. If only 21 of those facilities report confirmed cases that month, the reporting rate is 21/25 = 84%.\n",
    "\n",
    "This method improves over simple binary completeness flags by accounting for both spatial (facility coverage) and temporal (monthly timeliness) dimensions. A facility-month is **considered reported** if the **CONF value is not missing**, which serves as a proxy for overall completeness of malaria indicators. We use the presence of CONF (confirmed malaria cases) as the condition for marking a facility-month as reported because it is a core indicator consistently tracked across the dataset. This choice ensures alignment with the structure of the incidence calculation, which is also mainly based on confirmed cases."
   ]
  },
  {
   "cell_type": "code",
   "execution_count": null,
   "id": "1776daa4-339f-4a9a-9fd1-196f7ae0bfd6",
   "metadata": {},
   "outputs": [],
   "source": [
    "head(dhis2_routine, 3)"
   ]
  },
  {
   "cell_type": "markdown",
   "id": "3f6e6351-44b4-42e4-ae6c-f31c23652b3d",
   "metadata": {},
   "source": [
    "#### Calculate"
   ]
  },
  {
   "cell_type": "code",
   "execution_count": null,
   "id": "65ec9005-5a1c-4170-9577-77f3b5fc6593",
   "metadata": {},
   "outputs": [],
   "source": [
    "# Tag as \"REPORTED\" only if `CONF` is not NA\n",
    "# rds_reporting <- rds %>% # Fre's\n",
    "dhis2_routine_reporting <- dhis2_routine %>%\n",
    "  mutate(REPORTED_CONF = if_else(!is.na(CONF), 1, 0))"
   ]
  },
  {
   "cell_type": "code",
   "execution_count": null,
   "id": "b0ae012c-3fe7-4138-9ac6-8992060df72b",
   "metadata": {},
   "outputs": [],
   "source": [
    "# Calculate at ADM2 × MONTH level\n",
    "# reporting_rate_conf_monthly <- rds_reporting %>% # Fre's\n",
    "reporting_rate_conf_month <- dhis2_routine_reporting %>%\n",
    "  group_by(ADM2, YEAR, MONTH) %>% \n",
    "  summarise(\n",
    "    N_FACILITIES = n_distinct(OU),\n",
    "    N_REPORTS = sum(REPORTED_CONF, na.rm = TRUE),\n",
    "    REPORTING_RATE = N_REPORTS / N_FACILITIES,\n",
    "    .groups = \"drop\"\n",
    "  ) %>%\n",
    "  ungroup() %>%  # 🚨 GP added 20250522!\n",
    "    mutate(YEAR = as.integer(YEAR),\n",
    "           MONTH = as.integer(MONTH)\n",
    "          ) # 🚨 GP added 20250522!\n",
    "\n",
    "head(reporting_rate_conf_month, 3)"
   ]
  },
  {
   "cell_type": "code",
   "execution_count": null,
   "id": "b1f4e58c-19f4-4f0e-8fea-9e8ee9d4f380",
   "metadata": {},
   "outputs": [],
   "source": [
    "# Aggregate monthly to year\n",
    "reporting_rate_conf_year <- reporting_rate_conf_month %>%\n",
    "  group_by(ADM2, YEAR) %>%\n",
    "  summarise(\n",
    "      N_FACILITIES = sum(N_FACILITIES, na.rm = TRUE),\n",
    "      N_REPORTS = sum(N_REPORTS, na.rm = TRUE),\n",
    "      REPORTING_RATE = N_REPORTS / N_FACILITIES,\n",
    "    .groups = \"drop\"\n",
    "  ) %>% \n",
    "   ungroup() %>%  # GP added 20250522!\n",
    "    mutate(YEAR = as.integer(YEAR)) # GP added 20250522!\n",
    "\n",
    "head(reporting_rate_conf_year) "
   ]
  },
  {
   "cell_type": "markdown",
   "id": "7999ca83-783a-4041-8ddc-6481d9a43961",
   "metadata": {},
   "source": [
    "#### Plot by MONTH (heatmap)"
   ]
  },
  {
   "cell_type": "code",
   "execution_count": null,
   "id": "6535e999-574a-4962-880d-0a996b8c3513",
   "metadata": {},
   "outputs": [],
   "source": [
    "# Plot reporting rate heatmap\n",
    "options(repr.plot.width = 20, repr.plot.height = 10) \n",
    "\n",
    "reporting_rate_conf_month %>%\n",
    "mutate(\n",
    "    DATE = as.Date(paste0(YEAR, \"-\", MONTH, \"-01\"))\n",
    "    ) %>%\n",
    "ggplot(., aes(x = DATE,  # GP replaced `date` with `DATE`\n",
    "              y = factor(ADM2), # GP replaced `y = ADM2` with `y = factor(ADM2)`\n",
    "              fill = REPORTING_RATE * 100)\n",
    "      ) + \n",
    "  geom_tile() +\n",
    "  scale_fill_viridis_c(\n",
    "    option = \"C\",\n",
    "    direction = 1,  # blue = low, yellow = high\n",
    "    limits = c(0, 100),\n",
    "    name = \"Reporting rate (%)\"\n",
    "  ) +\n",
    "  labs(\n",
    "    title = \"Monthly Reporting Rate by Health District\",\n",
    "    subtitle = \"Each tile represents the reporting completeness per district per month\",\n",
    "    x = \"Month\",\n",
    "    y = \"Health District\"\n",
    "  ) +\n",
    "  theme_minimal(base_size = 13) +\n",
    "  theme(\n",
    "    axis.text.x = element_text(angle = 90, hjust = 1, vjust = 0.5, size = 9),\n",
    "    axis.text.y = element_text(size = 9),\n",
    "    plot.title = element_text(face = \"bold\", hjust = 0.5, size = 14),\n",
    "    plot.subtitle = element_text(hjust = 0.5, size = 12),\n",
    "    legend.position = \"right\",\n",
    "    panel.grid = element_blank()\n",
    "  )"
   ]
  },
  {
   "cell_type": "markdown",
   "id": "c1d757a8-e5f2-4472-b906-5a72bfdabb9f",
   "metadata": {},
   "source": [
    "#### Plot by YEAR (choropleth)"
   ]
  },
  {
   "cell_type": "code",
   "execution_count": null,
   "id": "779e1e20-659a-49b2-b794-6cf2f28138ec",
   "metadata": {
    "editable": true,
    "slideshow": {
     "slide_type": ""
    },
    "tags": []
   },
   "outputs": [],
   "source": [
    "# 1. Summarize SNIS reporting rates by ADM2 and year (if not already done)\n",
    "# reporting_rate_conf_yearly <- reporting_rate_conf_monthly %>%\n",
    "reporting_rate_conf_yearly <- reporting_rate_conf_month %>%\n",
    "  group_by(ADM2, YEAR) %>%\n",
    "  summarise(REPORTING_RATE = mean(REPORTING_RATE, na.rm = TRUE), .groups = \"drop\")\n",
    "\n",
    "head(reporting_rate_conf_yearly, 3)"
   ]
  },
  {
   "cell_type": "markdown",
   "id": "1b9d7654-a8ba-468d-8ed2-9565f6a010ea",
   "metadata": {},
   "source": [
    "--------------------------"
   ]
  },
  {
   "cell_type": "markdown",
   "id": "e6c1081a-7c0f-41d7-ad99-a00b9d0e0a04",
   "metadata": {},
   "source": [
    "# ⚠️ TO DO: modify code to have `reporting_rate_conf_year` and `reporting_rate_any_year` calculated in exactly the same way! ⚠️\n",
    "At the moment: one uses `sum()` and the other `mean()`. Decide which approach to keep for consistency ... !\n",
    "\n",
    "Old: 🤔 Q fro Fre\n",
    "Here you are re-doing the **same summarization (month -> year)** as above but slightly different (`sum()` n_reports and n_facilities vs `mean()` of reporting_rate).\n",
    "\n",
    "Just FYI, numbers a slightly off on the 3rd decimal (prob due to rounding). \n",
    "\n",
    "Here's a comparison of the 2 tables (note that I started renaming df's)"
   ]
  },
  {
   "cell_type": "code",
   "execution_count": null,
   "id": "2604f019-075f-42b3-9e72-61a067b0454b",
   "metadata": {},
   "outputs": [],
   "source": [
    "# same same but different (not really)\n",
    "head(select(reporting_rate_conf_year, ADM2, YEAR, REPORTING_RATE), 3) # renamed to be consistent with rest of script\n",
    "\n",
    "head(reporting_rate_conf_yearly, 3) # kept original name of df"
   ]
  },
  {
   "cell_type": "markdown",
   "id": "4c0d0351-d958-45a9-90cb-986bf21ca036",
   "metadata": {},
   "source": [
    "--------------------------"
   ]
  },
  {
   "cell_type": "code",
   "execution_count": null,
   "id": "bbea70c8-46bc-4934-bd39-8081789837aa",
   "metadata": {},
   "outputs": [],
   "source": [
    "# 2. Join ADM2 shapes with SNIS reporting data\n",
    "map_data <- dhis2_shapes %>% \n",
    "  left_join(reporting_rate_conf_year, by = \"ADM2\") %>% # GP: was \"reporting_rate_conf_yearly\"\n",
    "  sf::st_as_sf() "
   ]
  },
  {
   "cell_type": "code",
   "execution_count": null,
   "id": "e317969e-f911-4d47-912c-414d106f403e",
   "metadata": {},
   "outputs": [],
   "source": [
    "# 3. Bin reporting rate values\n",
    "map_data <- map_data %>%\n",
    "  mutate(rate_cat = case_when(\n",
    "    REPORTING_RATE < 0.5 ~ \"< 50%\",\n",
    "    REPORTING_RATE < 0.8 ~ \"50–80%\",\n",
    "    REPORTING_RATE < 0.9 ~ \"80–90%\",\n",
    "    REPORTING_RATE >= 0.9 ~ \"90–100%\"  # includes 100%\n",
    "  ))\n",
    "\n",
    "# 4. Define colors\n",
    "rate_colors <- c(\n",
    "  \"< 50%\"     = \"#b2182b\",  # dark red\n",
    "  \"50–80%\"    = \"#f46d43\",  # reddish-orange, more vibrant\n",
    "  \"80–90%\"    = \"#fee08b\",  # yellow\n",
    "  \"90–100%\" = \"#4daf4a\"  # clear, strong green (used in many R palettes)\n",
    ")\n",
    "\n",
    "# 5. Plot\n",
    "options(repr.plot.width = 20, repr.plot.height = 5)\n",
    "ggplot(map_data) +\n",
    "  geom_sf(aes(fill = rate_cat,\n",
    "             geometry = geometry),\n",
    "          color = \"white\", size = 0.2) +\n",
    "  facet_wrap(~ YEAR, nrow = 1) +\n",
    "  scale_fill_manual(values = rate_colors, name = \"Taux de rapportage\") +\n",
    "  labs(title = \"Taux de rapportage par district sanitaire (ADM2), par année\") +\n",
    "  theme_minimal(base_size = 14) +\n",
    "  theme(\n",
    "    strip.text = element_text(size = 16),\n",
    "    plot.title = element_text(size = 18, hjust = 0.5),\n",
    "    legend.position = \"bottom\",\n",
    "    panel.spacing = unit(0.2, \"lines\"),\n",
    "    axis.text = element_blank(),\n",
    "    axis.title = element_blank(),\n",
    "    axis.ticks = element_blank()\n",
    "  ) +\n",
    "  coord_sf(datum = NA)"
   ]
  },
  {
   "cell_type": "markdown",
   "id": "3e57f2e8-1ccc-417c-9fa6-e6b1976336bc",
   "metadata": {},
   "source": [
    "# 4. Export"
   ]
  },
  {
   "cell_type": "markdown",
   "id": "6729e183-5395-4fb7-a535-978c61124710",
   "metadata": {},
   "source": [
    "## 4.1. 📁 To /data/ folder"
   ]
  },
  {
   "cell_type": "markdown",
   "id": "6afeb0d8-333a-4f09-9036-dea4e09389d2",
   "metadata": {},
   "source": [
    "#### CSV"
   ]
  },
  {
   "cell_type": "code",
   "execution_count": null,
   "id": "99d20ad1-6540-444e-8de4-4e959d323a81",
   "metadata": {},
   "outputs": [],
   "source": [
    "# Method \"ANY\"\n",
    "write_csv(reporting_rate_any_month,\n",
    "          file.path(DATA_PATH, \"dhis2_reporting_rate\", paste0(COUNTRY_CODE, \"_reporting_rate_any_month.csv\"))      \n",
    "         )\n",
    "\n",
    "# Method \"CONF\"\n",
    "write_csv(reporting_rate_conf_month,\n",
    "          file.path(DATA_PATH, \"dhis2_reporting_rate\", paste0(COUNTRY_CODE, \"_reporting_rate_conf_month.csv\"))      \n",
    "         )"
   ]
  },
  {
   "cell_type": "markdown",
   "id": "1aaf40aa-0910-4ba3-b95b-16d04b9e22c2",
   "metadata": {},
   "source": [
    "#### parquet"
   ]
  },
  {
   "cell_type": "code",
   "execution_count": null,
   "id": "63351b49-2cd1-4826-b498-8b7ef2b03719",
   "metadata": {},
   "outputs": [],
   "source": [
    "# Method \"ANY\"\n",
    "arrow::write_parquet(reporting_rate_any_month,\n",
    "                     file.path(DATA_PATH, \"dhis2_reporting_rate\", paste0(COUNTRY_CODE, \"_reporting_rate_any_month.parquet\"))\n",
    "                    )\n",
    "\n",
    "# Method \"CONF\"\n",
    "arrow::write_parquet(reporting_rate_conf_month,\n",
    "                     file.path(DATA_PATH, \"dhis2_reporting_rate\", paste0(COUNTRY_CODE, \"_reporting_rate_conf_month.parquet\"))\n",
    "                    )\n"
   ]
  }
 ],
 "metadata": {
  "kernelspec": {
   "display_name": "R",
   "language": "R",
   "name": "ir"
  },
  "language_info": {
   "codemirror_mode": "r",
   "file_extension": ".r",
   "mimetype": "text/x-r-source",
   "name": "R",
   "pygments_lexer": "r",
   "version": "4.4.2"
  }
 },
 "nbformat": 4,
 "nbformat_minor": 5
}
