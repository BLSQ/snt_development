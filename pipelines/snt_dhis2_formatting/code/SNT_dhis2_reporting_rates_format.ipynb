{
 "cells": [
  {
   "cell_type": "markdown",
   "id": "96eee97c-fda4-4827-8111-c438cabed82e",
   "metadata": {},
   "source": [
    "## Setup start "
   ]
  },
  {
   "cell_type": "code",
   "execution_count": null,
   "id": "e1156ab5-2dc6-4bfb-8d7a-ac594c40ecf8",
   "metadata": {
    "vscode": {
     "languageId": "r"
    }
   },
   "outputs": [],
   "source": [
    "# Parameters\n",
    "\n",
    "# SNT_ROOT_PATH   <- '~/workspace'   # SNT root"
   ]
  },
  {
   "cell_type": "code",
   "execution_count": null,
   "id": "687392e7-fe6c-4355-9f4d-6718b467a33d",
   "metadata": {
    "vscode": {
     "languageId": "r"
    }
   },
   "outputs": [],
   "source": [
    "# Set project folders\n",
    "CODE_PATH      <- file.path(SNT_ROOT_PATH, \"code\")\n",
    "CONFIG_PATH    <- file.path(SNT_ROOT_PATH, \"configuration\")\n",
    "FORMATTED_DATA_PATH <- file.path(SNT_ROOT_PATH, \"data\", \"dhis2\", \"formatted\")"
   ]
  },
  {
   "cell_type": "markdown",
   "id": "7a31fc88-3fa9-4a65-b61a-dc1564aecc22",
   "metadata": {},
   "source": [
    "**Load functions**"
   ]
  },
  {
   "cell_type": "code",
   "execution_count": null,
   "id": "340a8095-ee83-4277-84cd-60c0c626b947",
   "metadata": {
    "vscode": {
     "languageId": "r"
    }
   },
   "outputs": [],
   "source": [
    "source(file.path(CODE_PATH, \"snt_utils.r\"))"
   ]
  },
  {
   "cell_type": "markdown",
   "id": "1188d74a-0d28-48c7-a72e-3c1933b87cf4",
   "metadata": {},
   "source": [
    "**Check and load required libraries**  "
   ]
  },
  {
   "cell_type": "code",
   "execution_count": null,
   "id": "715c8d64-aaa0-43e6-b398-59abfb564bae",
   "metadata": {
    "vscode": {
     "languageId": "r"
    }
   },
   "outputs": [],
   "source": [
    "# List required pcks  ---------------->  check  what are the really required libraries\n",
    "required_packages <- c(\"arrow\", \"dplyr\", \"tidyr\", \"stringr\", \"stringi\", \"jsonlite\", \"httr\", \"reticulate\")\n",
    "\n",
    "# Execute function\n",
    "install_and_load(required_packages)"
   ]
  },
  {
   "cell_type": "code",
   "execution_count": null,
   "id": "d1cf7e13-3be0-44fa-99ea-3e3520da1229",
   "metadata": {
    "vscode": {
     "languageId": "r"
    }
   },
   "outputs": [],
   "source": [
    "# Set environment to load openhexa.sdk from the right environment\n",
    "Sys.setenv(RETICULATE_PYTHON = \"/opt/conda/bin/python\")\n",
    "reticulate::py_config()$python\n",
    "openhexa <- import(\"openhexa.sdk\")"
   ]
  },
  {
   "cell_type": "markdown",
   "id": "21c802bd-506b-4e60-bd06-b715a5c197ee",
   "metadata": {},
   "source": [
    "### Load SNT configuration\n"
   ]
  },
  {
   "cell_type": "code",
   "execution_count": null,
   "id": "10580e48-ccb5-49df-933d-3cdbc480a402",
   "metadata": {
    "vscode": {
     "languageId": "r"
    }
   },
   "outputs": [],
   "source": [
    "# Load SNT config\n",
    "config_json <- tryCatch({\n",
    "        fromJSON(file.path(CONFIG_PATH, \"SNT_config.json\"))\n",
    "    },\n",
    "    error = function(e) {\n",
    "        msg <- paste0(\"Error while loading configuration\", conditionMessage(e))  \n",
    "        cat(msg)   \n",
    "        stop(msg) \n",
    "    })\n",
    "\n",
    "msg <- paste0(\"SNT configuration loaded from  : \", file.path(CONFIG_PATH, \"SNT_config.json\"))\n",
    "log_msg(msg)\n",
    "\n",
    "# Save this country code in a variable\n",
    "COUNTRY_CODE <- config_json$SNT_CONFIG$COUNTRY_CODE\n",
    "ADMIN_1 <- toupper(config_json$SNT_CONFIG$DHIS2_ADMINISTRATION_1)\n",
    "ADMIN_2 <- toupper(config_json$SNT_CONFIG$DHIS2_ADMINISTRATION_2)"
   ]
  },
  {
   "cell_type": "markdown",
   "id": "0b8083d8-ba7f-49d9-865b-ada38c51b6b2",
   "metadata": {},
   "source": [
    "### Load DHIS2 reporting rates data"
   ]
  },
  {
   "cell_type": "markdown",
   "id": "77af1690-79c4-4ad4-92c3-47a5dd119906",
   "metadata": {},
   "source": [
    "-Load DHIS2 population from latest dataset version \n"
   ]
  },
  {
   "cell_type": "code",
   "execution_count": null,
   "id": "82d0d5e9-2cc5-4101-9ea6-59aafdcf5b81",
   "metadata": {
    "vscode": {
     "languageId": "r"
    }
   },
   "outputs": [],
   "source": [
    "# DHIS2 Dataset extract identifier\n",
    "dataset_name <- config_json$SNT_DATASET_IDENTIFIERS$DHIS2_DATASET_EXTRACTS\n",
    "\n",
    "# Load file from dataset\n",
    "dhis2_data <- tryCatch({ get_latest_dataset_file_in_memory(dataset_name, paste0(COUNTRY_CODE, \"_dhis2_raw_reporting.parquet\")) }, \n",
    "                  error = function(e) {\n",
    "                      msg <- paste(\"Error while loading DHIS2 reporting file for: \" , COUNTRY_CODE, conditionMessage(e))  # log error message\n",
    "                      cat(msg)\n",
    "                      stop(msg)\n",
    "})\n",
    "\n",
    "msg <- paste0(\"DHIS2 reporting data loaded from dataset : \", dataset_name, \" dataframe dimensions: \", paste(dim(dhis2_data), collapse=\", \"))\n",
    "log_msg(msg)"
   ]
  },
  {
   "cell_type": "code",
   "execution_count": null,
   "id": "59d421a6-806c-4949-bacf-2e9e9e988645",
   "metadata": {
    "vscode": {
     "languageId": "r"
    }
   },
   "outputs": [],
   "source": [
    "head(dhis2_data, 3)"
   ]
  },
  {
   "cell_type": "markdown",
   "id": "0d351974-c1c5-4971-97c8-f0122ca9e803",
   "metadata": {},
   "source": [
    "## Reporting rates dataset formatting"
   ]
  },
  {
   "cell_type": "markdown",
   "id": "1b78d29c-18e0-4288-bd49-5ec3c63099f4",
   "metadata": {},
   "source": [
    "### Format (clean) pyramid and dataset names"
   ]
  },
  {
   "cell_type": "code",
   "execution_count": null,
   "id": "7da948e5-8284-46fc-b73d-172e1871aa89",
   "metadata": {
    "vscode": {
     "languageId": "r"
    }
   },
   "outputs": [],
   "source": [
    "name_columns <- colnames(dhis2_data)[grepl(\"_NAME\", colnames(dhis2_data))]\n",
    "dhis2_data_clean <- dhis2_data\n",
    "for (column in name_columns){\n",
    "    print(paste0(\"Format : \", column))\n",
    "    # Clean strings \n",
    "    dhis2_data_clean[[column]] <- format_names(dhis2_data_clean[[column]])     \n",
    "}\n",
    "  \n",
    "# Column names to upper case\n",
    "colnames(dhis2_data_clean) <- clean_column_names(dhis2_data_clean)"
   ]
  },
  {
   "cell_type": "markdown",
   "id": "01363a4b-71ef-45f7-9ef6-d5d4da1c3a45",
   "metadata": {},
   "source": [
    "### Column selection"
   ]
  },
  {
   "cell_type": "code",
   "execution_count": null,
   "id": "e6a94a3a-0078-4a25-af01-bbe49d55d4b4",
   "metadata": {
    "vscode": {
     "languageId": "r"
    }
   },
   "outputs": [],
   "source": [
    "# Set administrative columns\n",
    "adm_1_id_col <- gsub(\"_NAME\", \"_ID\", ADMIN_1)\n",
    "adm_1_name_col <- ADMIN_1\n",
    "adm_2_id_col <- gsub(\"_NAME\", \"_ID\", ADMIN_2)\n",
    "adm_2_name_col <- ADMIN_2\n",
    "\n",
    "# Administrative columns list\n",
    "admin_columns <- c(\n",
    "    adm_1_id_col,\n",
    "    adm_1_name_col,\n",
    "    adm_2_id_col,\n",
    "    adm_2_name_col\n",
    ")\n",
    "\n",
    "# Select relevant columns for SNT\n",
    "fixed_cols <- c(\"PE\", \"VALUE\", \"PRODUCT_UID\", \"PRODUCT_NAME\", \"PRODUCT_METRIC\")\n",
    "selected_cols <-  c(fixed_cols, admin_columns)\n",
    "dhis2_data_selection <- dhis2_data_clean[selected_cols]"
   ]
  },
  {
   "cell_type": "code",
   "execution_count": null,
   "id": "04982767-d1af-497b-bc84-889d40188500",
   "metadata": {
    "vscode": {
     "languageId": "r"
    }
   },
   "outputs": [],
   "source": [
    "head(dhis2_data_selection, 3)"
   ]
  },
  {
   "cell_type": "markdown",
   "id": "e7b19575-978e-4507-b486-58b1be866912",
   "metadata": {},
   "source": [
    "## Format SNT reporting data"
   ]
  },
  {
   "cell_type": "markdown",
   "id": "c80c3ef3-c7a6-4845-9134-3900bfba5eef",
   "metadata": {},
   "source": [
    "### SNT format "
   ]
  },
  {
   "cell_type": "code",
   "execution_count": null,
   "id": "8b9ee084-93ca-4e07-9a56-c49ab3026431",
   "metadata": {
    "vscode": {
     "languageId": "r"
    }
   },
   "outputs": [],
   "source": [
    "# Select and Rename columns\n",
    "dhis2_data_formatted <- dhis2_data_selection %>%\n",
    "    mutate(\n",
    "        PE = as.numeric(PE),\n",
    "        YEAR = as.numeric(substr(PE, 1, 4)),\n",
    "        MONTH = as.numeric(substr(PE, 5, 6))\n",
    "    ) %>%\n",
    "    select(\n",
    "        PERIOD = PE,\n",
    "        YEAR,\n",
    "        MONTH,\n",
    "        ADM1 = !!sym(adm_1_name_col),\n",
    "        ADM1_ID = !!sym(adm_1_id_col),           \n",
    "        ADM2 = !!sym(adm_2_name_col),\n",
    "        ADM2_ID = !!sym(adm_2_id_col),                      \n",
    "        all_of(fixed_cols)\n",
    "     )\n",
    "\n",
    "# Column names to upper case\n",
    "colnames(dhis2_data_formatted) <- clean_column_names(dhis2_data_formatted)\n",
    "\n",
    "# Sort dataframe by period\n",
    "dhis2_data_formatted <- dhis2_data_formatted[order(as.numeric(dhis2_data_formatted$PERIOD)), ]\n",
    "\n",
    "print(dim(dhis2_data_formatted))\n",
    "head(dhis2_data_formatted, 3)"
   ]
  },
  {
   "cell_type": "markdown",
   "id": "853b9f8c-01a0-41de-9b6b-3a506f1a36e4",
   "metadata": {},
   "source": [
    "## Output formatted population data"
   ]
  },
  {
   "cell_type": "code",
   "execution_count": null,
   "id": "8d704604-8af9-48bf-afc4-3965a634ac75",
   "metadata": {
    "vscode": {
     "languageId": "r"
    }
   },
   "outputs": [],
   "source": [
    "out_msg <- paste0(\"Formatted reporting data saved under: \", file.path(FORMATTED_DATA_PATH, paste0(COUNTRY_CODE, \"_reporting.parquet\")))\n",
    "\n",
    "# write parquet file\n",
    "write_parquet(dhis2_data_formatted, file.path(FORMATTED_DATA_PATH, paste0(COUNTRY_CODE, \"_reporting.parquet\")))\n",
    "\n",
    "# write csv file\n",
    "write.csv(dhis2_data_formatted, file.path(FORMATTED_DATA_PATH, paste0(COUNTRY_CODE, \"_reporting.csv\")), row.names = FALSE)"
   ]
  },
  {
   "cell_type": "code",
   "execution_count": null,
   "id": "6555bb86-4353-45ee-9464-daecd8833c31",
   "metadata": {
    "vscode": {
     "languageId": "r"
    }
   },
   "outputs": [],
   "source": [
    "# log\n",
    "log_msg(out_msg)"
   ]
  },
  {
   "cell_type": "markdown",
   "id": "07ce08f0-526e-48e9-a72d-16aafc1f40b8",
   "metadata": {},
   "source": [
    "### Data Summary "
   ]
  },
  {
   "cell_type": "code",
   "execution_count": null,
   "id": "cbaa160c-04e4-4b9c-95e4-b320a358ce40",
   "metadata": {
    "vscode": {
     "languageId": "r"
    }
   },
   "outputs": [],
   "source": [
    "# Data summary\n",
    "print(summary(dhis2_data_formatted))"
   ]
  },
  {
   "cell_type": "code",
   "execution_count": null,
   "id": "8688f43b-4cb9-4299-bb94-1474daa690c7",
   "metadata": {
    "vscode": {
     "languageId": "r"
    }
   },
   "outputs": [],
   "source": []
  }
 ],
 "metadata": {
  "kernelspec": {
   "display_name": "R",
   "language": "R",
   "name": "ir"
  },
  "language_info": {
   "codemirror_mode": "r",
   "file_extension": ".r",
   "mimetype": "text/x-r-source",
   "name": "R",
   "pygments_lexer": "r",
   "version": "4.4.2"
  }
 },
 "nbformat": 4,
 "nbformat_minor": 5
}
