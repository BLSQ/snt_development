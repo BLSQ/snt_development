{
 "cells": [
  {
   "cell_type": "code",
   "execution_count": null,
   "id": "ee361c88-1856-473e-8309-a54e378d45e6",
   "metadata": {},
   "outputs": [],
   "source": [
    "print(\"report placeholder\")"
   ]
  },
  {
   "cell_type": "code",
   "execution_count": null,
   "id": "3f75ccc0-95ec-40d0-bd9c-e9a2771ea9a4",
   "metadata": {},
   "outputs": [],
   "source": []
  }
 ],
 "metadata": {
  "kernelspec": {
   "display_name": "R",
   "language": "R",
   "name": "ir"
  },
  "language_info": {
   "codemirror_mode": "r",
   "file_extension": ".r",
   "mimetype": "text/x-r-source",
   "name": "R",
   "pygments_lexer": "r",
   "version": "4.4.3"
  }
 },
 "nbformat": 4,
 "nbformat_minor": 5
}
