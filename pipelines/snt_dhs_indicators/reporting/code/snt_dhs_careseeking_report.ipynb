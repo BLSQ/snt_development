{
 "cells": [
  {
   "cell_type": "markdown",
   "id": "33d7a9b4-8e3f-4ff5-8369-88dccd3f6d8c",
   "metadata": {},
   "source": [
    "# Plots for careseeking behavior upon child fever (DHS data)"
   ]
  },
  {
   "cell_type": "markdown",
   "id": "0ef48ace-d77e-49bf-9b21-1cece3d48161",
   "metadata": {},
   "source": [
    "## Preliminary steps"
   ]
  },
  {
   "cell_type": "code",
   "execution_count": null,
   "id": "f4156fe8-631a-4012-8c66-08dc8a721851",
   "metadata": {},
   "outputs": [],
   "source": [
    "rm(list = ls())\n",
    "\n",
    "options(scipen=999)"
   ]
  },
  {
   "cell_type": "code",
   "execution_count": null,
   "id": "20a367b8-844b-41a7-8725-4bd37bda0352",
   "metadata": {},
   "outputs": [],
   "source": [
    "# Global paths\n",
    "Sys.setenv(PROJ_LIB = \"/opt/conda/share/proj\")\n",
    "Sys.setenv(GDAL_DATA = \"/opt/conda/share/gdal\")\n",
    "\n",
    "# Paths\n",
    "ROOT_PATH <- '~/workspace'\n",
    "CONFIG_PATH <- file.path(ROOT_PATH, 'configuration')\n",
    "CODE_PATH <- file.path(ROOT_PATH, 'code')\n",
    "DATA_PATH <- file.path(ROOT_PATH, 'data')\n",
    "DHS_DATA_PATH <- file.path(DATA_PATH, 'dhs', 'raw')\n",
    "OUTPUT_DATA_PATH <- file.path(DATA_PATH, 'dhs', 'indicators', 'careseeking')\n",
    "OUTPUT_PLOTS_PATH <- file.path(ROOT_PATH, 'pipelines', 'snt_dhs_indicators', 'reporting', 'outputs')"
   ]
  },
  {
   "cell_type": "code",
   "execution_count": null,
   "id": "d81fb691-698d-4832-9137-f8c6f0c5938c",
   "metadata": {},
   "outputs": [],
   "source": [
    "# Load utils\n",
    "source(file.path(CODE_PATH, \"snt_utils.r\"))\n",
    "\n",
    "# List required pcks\n",
    "required_packages <- c(\"sf\", \"glue\", \"data.table\", \"ggplot2\", \"stringi\", \"jsonlite\", \"httr\", \"reticulate\")\n",
    "\n",
    "# Execute function\n",
    "install_and_load(required_packages)"
   ]
  },
  {
   "cell_type": "code",
   "execution_count": null,
   "id": "d2ab76ca-5e05-4867-af1f-ade9d540a1b9",
   "metadata": {},
   "outputs": [],
   "source": [
    "Sys.setenv(RETICULATE_PYTHON = \"/opt/conda/bin/python\")\n",
    "reticulate::py_config()$python\n",
    "openhexa <- import(\"openhexa.sdk\")\n",
    "\n",
    "# Load SNT config\n",
    "CONFIG_FILE_NAME <- \"SNT_config.json\"\n",
    "config_json <- tryCatch({ fromJSON(file.path(CONFIG_PATH, CONFIG_FILE_NAME)) },\n",
    "                        error = function(e) {\n",
    "                          msg <- paste0(\"Error while loading configuration\", conditionMessage(e))  \n",
    "                          cat(msg)   \n",
    "                          stop(msg) \n",
    "                        })\n",
    "\n",
    "msg <- paste0(\"SNT configuration loaded from  : \", file.path(CONFIG_PATH, CONFIG_FILE_NAME)) \n",
    "log_msg(msg)\n",
    "\n",
    "# Set config variables\n",
    "COUNTRY_CODE <- config_json$SNT_CONFIG$COUNTRY_CODE\n",
    "print(paste(\"Country code: \", COUNTRY_CODE))"
   ]
  },
  {
   "cell_type": "markdown",
   "id": "484aed3b-0c40-40f4-8f81-0c4ed16a5d49",
   "metadata": {},
   "source": [
    "## Geo data"
   ]
  },
  {
   "cell_type": "code",
   "execution_count": null,
   "id": "7d326034-33ff-40d6-a860-81d0bd5a1c34",
   "metadata": {},
   "outputs": [],
   "source": [
    "admin_level <- 'ADM1'\n",
    "admin_id_col <- glue(admin_level, 'ID', .sep='_')\n",
    "admin_name_col <- glue(admin_level, 'NAME', .sep='_')\n",
    "admin_cols <- c(admin_id_col, admin_name_col)"
   ]
  },
  {
   "cell_type": "code",
   "execution_count": null,
   "id": "f0b405fa-f9aa-40b4-b266-54d1de4b2317",
   "metadata": {},
   "outputs": [],
   "source": [
    "# Load spatial file from dataset\n",
    "\n",
    "dhis2_dataset <- config_json$SNT_DATASET_IDENTIFIERS$DHIS2_DATASET_FORMATTED\n",
    "\n",
    "spatial_data_filename <- paste(COUNTRY_CODE, \"shapes.geojson\", sep = \"_\")\n",
    "# spatial_data <- read_sf(file.path(DATA_PATH, 'dhis2', 'formatted', spatial_data_filename))\n",
    "spatial_data <- get_latest_dataset_file_in_memory(dhis2_dataset, spatial_data_filename)\n",
    "log_msg(glue(\"File {spatial_data_filename} successfully loaded from dataset version: {dhis2_dataset}\"))\n",
    "\n",
    "spatial_data <- st_as_sf(spatial_data)\n",
    "\n",
    "# aggregate geometries by the admin columns\n",
    "spatial_data <- aggregate_geometry(\n",
    "  sf_data=spatial_data,\n",
    "  admin_id_colname=admin_id_col,\n",
    "  admin_name_colname=admin_name_col\n",
    ")\n",
    "\n",
    "# keep class\n",
    "spatial_data <- st_as_sf(spatial_data)\n",
    "\n",
    "if(COUNTRY_CODE == \"COD\"){\n",
    "  spatial_data[[admin_name_col]] <- clean_admin_names(spatial_data[[admin_name_col]])\n",
    "}"
   ]
  },
  {
   "cell_type": "markdown",
   "id": "260e3c90-a72c-4683-acc9-d3ed3d7ac516",
   "metadata": {},
   "source": [
    "## DHS tables/names"
   ]
  },
  {
   "cell_type": "code",
   "execution_count": null,
   "id": "b95b6df7-2781-4ec5-9c5b-fe79227268de",
   "metadata": {},
   "outputs": [],
   "source": [
    "data_source <- 'DHS'\n",
    "# indicator_public_care <- 'PUBLIC_CARE'\n",
    "# indicator_private_care <- 'PRIVATE_CARE'\n",
    "# indicator_no_care <- 'NO_CARE'"
   ]
  },
  {
   "cell_type": "code",
   "execution_count": null,
   "id": "7d5b1eae-4933-45e1-9cb8-981163cd1369",
   "metadata": {},
   "outputs": [],
   "source": [
    "filename_without_extension <- glue(\"{COUNTRY_CODE}_{data_source}_{admin_level}_PCT_CARESEEKING_SAMPLE_AVERAGE\")\n",
    "careseeking_table <- fread(file.path(OUTPUT_DATA_PATH, paste0(filename_without_extension, '.csv')))\n",
    "\n",
    "# all columns which are not admin columns, are indicator columns\n",
    "all_indicators <- setdiff(names(careseeking_table), admin_cols)"
   ]
  },
  {
   "cell_type": "markdown",
   "id": "530e1567-2820-4a91-bd97-68af0df7aa4c",
   "metadata": {},
   "source": [
    "## Maps"
   ]
  },
  {
   "cell_type": "code",
   "execution_count": null,
   "id": "0120c63f-27ab-421b-b635-1e538295c466",
   "metadata": {},
   "outputs": [],
   "source": [
    "plot_data =  merge(spatial_data, careseeking_table, by = admin_cols, all = TRUE)"
   ]
  },
  {
   "cell_type": "code",
   "execution_count": null,
   "id": "071dd126-b29d-4f67-b1a2-89b5c09a43e7",
   "metadata": {},
   "outputs": [],
   "source": [
    "for (indicator_name in all_indicators){\n",
    "  \n",
    "  plot_label = gsub('PCT ', '', gsub('_', ' ', indicator_name))\n",
    "\n",
    "  indicator_plot <- make_dhs_map(\n",
    "      plot_dt = plot_data,\n",
    "      plot_colname = indicator_name,\n",
    "      title_name = glue(\"Percentage children: {plot_label}\"),\n",
    "      legend_title = glue(\"%\"),\n",
    "      scale_limits = c(0, 100)\n",
    "    )\n",
    "  # indicator_plot <- ggplot(plot_data) +\n",
    "  #   geom_sf(aes(fill = get(indicator_name))) +\n",
    "  #   # geom_sf(aes(fill = U5_PREV_RDT_SAMPLE_AVERAGE)) +\n",
    "  #   scale_fill_gradient(\n",
    "  #     limits = c(0,1),\n",
    "  #     low = \"white\",\n",
    "  #     high = \"navy\",\n",
    "  #     na.value = \"grey90\"\n",
    "  #   ) +\n",
    "  #   coord_sf() + # map projection\n",
    "  #   theme_classic() +\n",
    "  #   theme(plot.title = element_text(face = \"bold\", hjust = 0.5),\n",
    "  #         legend.position = \"bottom\", legend.key.width = unit(2,\"cm\"), legend.text=element_text(size=10)) +\n",
    "  #   labs(fill = glue(\"Percentage {plot_label}\"))\n",
    "  \n",
    "  # print(indicator_plot)\n",
    "  ggsave(indicator_plot, file = file.path(OUTPUT_PLOTS_PATH, glue('{COUNTRY_CODE}_{data_source}_{admin_level}_{toupper(indicator_name)}_plot.png')), dpi = 500)\n",
    "}"
   ]
  },
  {
   "cell_type": "markdown",
   "id": "f42cc870-2d67-450d-9fd7-616cfb099eb2",
   "metadata": {},
   "source": [
    "## Confidence interval plots"
   ]
  },
  {
   "cell_type": "code",
   "execution_count": null,
   "id": "ff3157da-2816-40cc-9d73-f53849947fe9",
   "metadata": {},
   "outputs": [],
   "source": [
    "for (indicator_name in all_indicators){\n",
    "  \n",
    "  indicator_label <- gsub('_', ' ', indicator_name)\n",
    "    \n",
    "  ci_data <- fread(file.path(\n",
    "    OUTPUT_DATA_PATH,\n",
    "    glue(\"{COUNTRY_CODE}_{data_source}_{admin_level}_{indicator_name}.csv\")\n",
    "    ))\n",
    "  \n",
    "  sample_avg_col <- glue(\"{indicator_name}_SAMPLE_AVERAGE\")\n",
    "  lower_bound_col <- glue(\"{indicator_name}_CI_LOWER_BOUND\")\n",
    "  upper_bound_col <- glue(\"{indicator_name}_CI_UPPER_BOUND\")\n",
    "  ci_plot_title <- glue(\"{COUNTRY_CODE} {data_source} {indicator_label} CI\")\n",
    "  ci_plot_xlab <- admin_name_col\n",
    "  ci_plot_ylab <- glue(\"{indicator_label} (%)\")\n",
    "  ci_plot_filename <- glue(\"{COUNTRY_CODE}_{data_source}_{admin_level}_{toupper(indicator_name)}_CI_plot.png\")\n",
    "  \n",
    "  ci_plot <- make_ci_plot(\n",
    "    df_to_plot=ci_data,\n",
    "    admin_colname=admin_name_col,\n",
    "    point_estimation_colname=sample_avg_col,\n",
    "    ci_lower_colname=lower_bound_col,\n",
    "    ci_upper_colname=upper_bound_col,\n",
    "    title_name=ci_plot_title,\n",
    "    x_title=ci_plot_xlab,\n",
    "    y_title=ci_plot_ylab\n",
    "  )\n",
    "  \n",
    "  ggsave(plot=ci_plot, filename=file.path(OUTPUT_PLOTS_PATH, ci_plot_filename), width = 8, height = 6, dpi = 300)\n",
    "}"
   ]
  },
  {
   "cell_type": "code",
   "execution_count": null,
   "id": "5eefeb57-1a36-45a9-a462-a4fe098e3bda",
   "metadata": {},
   "outputs": [],
   "source": []
  }
 ],
 "metadata": {
  "kernelspec": {
   "display_name": "R",
   "language": "R",
   "name": "ir"
  },
  "language_info": {
   "codemirror_mode": "r",
   "file_extension": ".r",
   "mimetype": "text/x-r-source",
   "name": "R",
   "pygments_lexer": "r",
   "version": "4.4.3"
  }
 },
 "nbformat": 4,
 "nbformat_minor": 5
}
