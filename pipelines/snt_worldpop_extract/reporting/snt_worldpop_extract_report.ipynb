{
 "cells": [
  {
   "cell_type": "markdown",
   "id": "fdcd4199-5098-4ed6-90b2-a2c678fbc1ae",
   "metadata": {},
   "source": [
    "# **WorldPop versus DHIS2 population comparison analysis**\n"
   ]
  },
  {
   "cell_type": "code",
   "execution_count": null,
   "id": "4a5496dc-c4eb-4b89-af2b-9ef141043487",
   "metadata": {},
   "outputs": [],
   "source": [
    "# system(\"conda install -c conda-forge libgdal-hdf5 -y\")"
   ]
  },
  {
   "cell_type": "code",
   "execution_count": null,
   "id": "310b555f-69a6-44a9-920d-34b517e72804",
   "metadata": {},
   "outputs": [],
   "source": [
    "# Set SNT Paths\n",
    "SNT_ROOT_PATH  <- \"~/workspace\"\n",
    "CODE_PATH      <- file.path(SNT_ROOT_PATH, \"code\")\n",
    "CONFIG_PATH    <- file.path(SNT_ROOT_PATH, \"configuration\")\n",
    " \n",
    "# load util functions\n",
    "source(file.path(CODE_PATH, \"snt_utils.r\"))\n",
    "\n",
    "# List required packages \n",
    "required_packages <- c(\"tidyr\", \"terra\", \"arrow\", \"sf\", \"dplyr\", \"ggplot2\", \"reticulate\") # reticulate\n",
    "\n",
    "# Execute function\n",
    "install_and_load(required_packages)"
   ]
  },
  {
   "cell_type": "code",
   "execution_count": null,
   "id": "6db9d75a-e1b0-410b-b229-de124f035375",
   "metadata": {},
   "outputs": [],
   "source": [
    "# Set variables to load openhexa.sdk from the right environment\n",
    "Sys.setenv(PROJ_LIB = \"/opt/conda/share/proj\")\n",
    "Sys.setenv(GDAL_DATA = \"/opt/conda/share/gdal\")\n",
    "Sys.setenv(RETICULATE_PYTHON = \"/opt/conda/bin/python\")\n",
    "\n",
    "# Load openhexa.sdk\n",
    "print(reticulate::py_config()$python)\n",
    "tryCatch({ \n",
    "    openhexa <- import(\"openhexa.sdk\") \n",
    "},\n",
    "error = function(e) {\n",
    "    msg <- paste0(\"Error while loading openhexa.sdk\", conditionMessage(e))  \n",
    "    cat(msg)   \n",
    "    stop(msg) \n",
    "})"
   ]
  },
  {
   "cell_type": "code",
   "execution_count": null,
   "id": "80e3c014-3830-44cf-a3a8-0cfaee513b6d",
   "metadata": {},
   "outputs": [],
   "source": [
    "# Load SNT config\n",
    "config_json <- tryCatch({ jsonlite::fromJSON(file.path(CONFIG_PATH, \"SNT_config.json\"))},\n",
    "    error = function(e) {\n",
    "        msg <- paste0(\"Error while loading configuration\", conditionMessage(e))  \n",
    "        cat(msg)   \n",
    "        stop(msg) \n",
    "    })\n",
    "\n",
    "# DHIS2 Dataset extract identifier\n",
    "worldpop_dataset <- config_json$SNT_DATASET_IDENTIFIERS$WORLDPOP_DATASET_EXTRACT\n",
    "dhis2_formatted_dataset <- config_json$SNT_DATASET_IDENTIFIERS$DHIS2_DATASET_FORMATTED\n",
    "COUNTRY_CODE <- config_json$SNT_CONFIG$COUNTRY_CODE"
   ]
  },
  {
   "cell_type": "markdown",
   "id": "7bea2d76-dbbd-4577-ab46-bd6fc1c3142a",
   "metadata": {},
   "source": [
    "### Load data "
   ]
  },
  {
   "cell_type": "code",
   "execution_count": null,
   "id": "ae98618e-d3f9-4626-a6da-8a11922b90c7",
   "metadata": {},
   "outputs": [],
   "source": [
    "# Select the parquet file from the WorldPop dataset.\n",
    "dataset_last_version <- openhexa$workspace$get_dataset(worldpop_dataset)$latest_version\n",
    "if (is.null(dataset_last_version)) {\n",
    "    stop(\"No version available in SNT WorldPop dataset. Process stopped.\")\n",
    "}\n",
    "\n",
    "parquet_file <- NULL\n",
    "files_list <- reticulate::iterate(dataset_last_version$files)\n",
    "for (file in files_list) {\n",
    "    if (endsWith(file$filename, \".parquet\")) {\n",
    "        parquet_file <- file$filename\n",
    "        parquet_file <- paste0(COUNTRY_CODE, \"_\", substring(parquet_file, 5))  # Make sure we select the country file.\n",
    "        print(paste0(\"Parquet file found: \", parquet_file))\n",
    "    }\n",
    "}\n",
    "\n",
    "if (is.null(parquet_file)) {\n",
    "    stop(\"No *.parquet file available in SNT WorldPop dataset. Process stopped.\")\n",
    "}"
   ]
  },
  {
   "cell_type": "code",
   "execution_count": null,
   "id": "9dd60960-22e3-49d0-bebc-c0c121f86daf",
   "metadata": {},
   "outputs": [],
   "source": [
    "# Load worldpop population\n",
    "worldpop_population <- tryCatch({ get_latest_dataset_file_in_memory(worldpop_dataset, parquet_file) },\n",
    "                  error = function(e) {\n",
    "                      msg <- paste(\"Error while loading WorldPop population file \",parquet_file,\" for: \" , COUNTRY_CODE, conditionMessage(e))  # log error message\n",
    "                      cat(msg)\n",
    "                      stop(msg)\n",
    "})\n",
    "\n",
    "msg <- paste0(\"WorldPop population file \",parquet_file,\" loaded from dataset : \", worldpop_dataset, \" dataframe dimensions: \", paste(dim(worldpop_population), collapse=\", \"))\n",
    "log_msg(msg)"
   ]
  },
  {
   "cell_type": "code",
   "execution_count": null,
   "id": "de2af2a9-159f-4ffd-969f-9e5f52ac6520",
   "metadata": {},
   "outputs": [],
   "source": [
    "# Load DHIS2 population\n",
    "dhis2_population <- tryCatch({ get_latest_dataset_file_in_memory(dhis2_formatted_dataset, paste0(COUNTRY_CODE, \"_population.parquet\")) }, \n",
    "                  error = function(e) {\n",
    "                      msg <- paste(\"Error while loading DHIS2 population file for: \" , COUNTRY_CODE, conditionMessage(e))  # log error message\n",
    "                      cat(msg)\n",
    "                      stop(msg)\n",
    "})\n",
    "\n",
    "msg <- paste0(\"DHIS2 population data loaded from dataset : \", dhis2_formatted_dataset, \" dataframe dimensions: \", paste(dim(dhis2_population), collapse=\", \"))\n",
    "log_msg(msg)"
   ]
  },
  {
   "cell_type": "code",
   "execution_count": null,
   "id": "844931d6-4608-49ca-9151-73705c69944e",
   "metadata": {},
   "outputs": [],
   "source": [
    "# Load DHIS2 shapes data\n",
    "shapes_data <- tryCatch({ get_latest_dataset_file_in_memory(dhis2_formatted_dataset, paste0(COUNTRY_CODE, \"_shapes.geojson\")) }, \n",
    "                  error = function(e) {\n",
    "                      msg <- paste(\"Error while loading DHIS2 Shapes data for: \" , COUNTRY_CODE, conditionMessage(e))\n",
    "                      cat(msg)\n",
    "                      stop(msg)\n",
    "                      })\n",
    "msg <- paste0(\"DHIS2 shapes data loaded from dataset : \", dhis2_formatted_dataset, \" dataframe dimensions: \", paste(dim(shapes_data), collapse=\", \"))\n",
    "log_msg(msg)"
   ]
  },
  {
   "cell_type": "markdown",
   "id": "6394d646-4d4e-4245-a791-6b86c3f1c25e",
   "metadata": {},
   "source": [
    "## Zone de sante comparison"
   ]
  },
  {
   "cell_type": "code",
   "execution_count": null,
   "id": "0aefc590-c4e3-4c23-9b4b-e42ac144c27e",
   "metadata": {},
   "outputs": [],
   "source": [
    "# select the closest year (Worldpop does not update data since 2020)\n",
    "worldpop_year <- min(worldpop_population$YEAR)  # min year\n",
    "if (worldpop_year %in% unique(dhis2_population$YEAR)){\n",
    "    dhis2_year <- worldpop_year\n",
    "} else if(worldpop_year < min(dhis2_population$YEAR)){\n",
    "    dhis2_year <- min(dhis2_population$YEAR)\n",
    "} else {\n",
    "    dhis2_year <- max(dhis2_population$YEAR)\n",
    "}\n",
    "\n",
    "print(paste0(\"Comparison years DHIS2: \",dhis2_year, \" Worldpop : \", worldpop_year))"
   ]
  },
  {
   "cell_type": "code",
   "execution_count": null,
   "id": "d946ffaa-14e7-41aa-9ab8-29656b440e19",
   "metadata": {},
   "outputs": [],
   "source": [
    "# Select DHIS2 data to closest year\n",
    "dhis2_pop_renamed <- dhis2_population %>% \n",
    "    filter(YEAR == dhis2_year) %>%      \n",
    "    select(ADM2_ID, dhis2_population = POPULATION)\n",
    "\n",
    "worldpop_pop_renamed <- worldpop_population %>% \n",
    "    filter(YEAR == worldpop_year) %>%      \n",
    "    select(ADM2_ID, worldpop_population = POPULATION)\n",
    "\n",
    "# 5. Compare WorldPop vs DHIS2 (if you have a matching ID column)\n",
    "comparison_df <- left_join(shapes_data, dhis2_pop_renamed[, c(\"ADM2_ID\", \"dhis2_population\")], by = \"ADM2_ID\")\n",
    "comparison_df <- left_join(comparison_df, worldpop_pop_renamed[, c(\"ADM2_ID\", \"worldpop_population\")], by = \"ADM2_ID\")"
   ]
  },
  {
   "cell_type": "code",
   "execution_count": null,
   "id": "2d49ccb1-218f-4e1d-a8c1-5e15b9488202",
   "metadata": {},
   "outputs": [],
   "source": [
    "ggplot(comparison_df, aes(x = dhis2_population, y = worldpop_population)) +\n",
    "  geom_point() +\n",
    "  geom_abline(slope = 1, intercept = 0, linetype = \"dashed\", color = \"gray\") +\n",
    "  labs(x = \"DHIS2 Population\", \n",
    "       y = \"WorldPop Population\", \n",
    "       title = \"Comparison per ADM2\") +\n",
    "  theme_minimal()"
   ]
  },
  {
   "cell_type": "code",
   "execution_count": null,
   "id": "a26dc148-6f45-45e1-a42a-cb8610a280ee",
   "metadata": {},
   "outputs": [],
   "source": [
    "pop_correlation <- cor(comparison_df$dhis2_population, comparison_df$worldpop_population, method = 'pearson')\n",
    "print(paste0(\"Correlation : \", round(pop_correlation, 2)))"
   ]
  },
  {
   "cell_type": "code",
   "execution_count": null,
   "id": "b275bbf1-eb89-4e1a-951c-f7fdd014c5aa",
   "metadata": {},
   "outputs": [],
   "source": [
    "ggplot(comparison_df) +\n",
    "  geom_sf(aes(fill = worldpop_population - dhis2_population)) +\n",
    "  scale_fill_gradient2(low = \"blue\", mid = \"white\", high = \"red\", midpoint = 0) +\n",
    "  labs(title = \"Difference: WorldPop - DHIS2 Population (ADM2)\",\n",
    "       fill = \"Pop. Diff\") +\n",
    "  theme_minimal()"
   ]
  },
  {
   "cell_type": "code",
   "execution_count": null,
   "id": "df524f99-5268-4d41-afdb-9596b39b269e",
   "metadata": {},
   "outputs": [],
   "source": [
    "sapply(\n",
    "    setNames(\n",
    "        list(comparison_df$dhis2_population, comparison_df$worldpop_population),\n",
    "        c(\"DHIS2_population\", \"WPOP_population\")\n",
    "    ),\n",
    "    summary\n",
    ")"
   ]
  },
  {
   "cell_type": "markdown",
   "id": "4878bd53-dc03-46ee-8a15-65e90de07221",
   "metadata": {},
   "source": [
    "The above table shows that some of the values of WPOP tend to be less plausible, with some Zones de Santé (ZS) having 0 inhabitants, while the largest ZS, which is likely one of the districts of Kinshasa, appears with nearly 22 million inhabitants, thus more than the total population of Kinshasa (17 million). "
   ]
  },
  {
   "cell_type": "code",
   "execution_count": null,
   "id": "477baa64-a3b4-43aa-9a7b-c2ef31f1f0f7",
   "metadata": {},
   "outputs": [],
   "source": [
    "comp.pop <- comparison_df %>%\n",
    "  select(ADM2_ID, worldpop_population, dhis2_population) %>%\n",
    "  mutate(\n",
    "      diff = worldpop_population - dhis2_population,\n",
    "      ratio = worldpop_population / dhis2_population,\n",
    "      relative_diff = diff / dhis2_population\n",
    "  )"
   ]
  },
  {
   "cell_type": "code",
   "execution_count": null,
   "id": "51534fe9-22dc-4b31-abdf-5fd6a8ba783d",
   "metadata": {},
   "outputs": [],
   "source": [
    "hist_pop <- st_drop_geometry(comp.pop) %>%\n",
    "    select(ADM2_ID, worldpop_population, dhis2_population) %>%\n",
    "    rename(\n",
    "        WPOP = worldpop_population,\n",
    "        DHIS2 = dhis2_population\n",
    "    ) %>%\n",
    "    pivot_longer(\n",
    "    cols = c(WPOP, DHIS2),\n",
    "    names_to = \"source\",\n",
    "    values_to = \"population\"\n",
    "  )"
   ]
  },
  {
   "cell_type": "code",
   "execution_count": null,
   "id": "2a991e14-a68d-4df1-8dbe-651693824d5d",
   "metadata": {},
   "outputs": [],
   "source": [
    "ggplot(hist_pop, aes(x=population, color=source)) +\n",
    "  geom_histogram(fill = NA, alpha = 0.5, position = \"identity\", binwidth = 10000) +\n",
    "  theme_minimal()"
   ]
  },
  {
   "cell_type": "markdown",
   "id": "16dc7bee-fea1-4d29-b23d-196771b2f094",
   "metadata": {},
   "source": [
    "WorldPop data appears to have more variability and some extreme outliers to the right."
   ]
  },
  {
   "cell_type": "code",
   "execution_count": null,
   "id": "77028457-1fca-48b2-9e99-e233bf9286bc",
   "metadata": {},
   "outputs": [],
   "source": [
    "ggplot(comp.pop, aes(y=relative_diff)) + \n",
    "  geom_boxplot() + coord_flip() + theme_minimal()"
   ]
  },
  {
   "cell_type": "markdown",
   "id": "dbe337de-e8e0-4409-a026-fb5a2232636e",
   "metadata": {},
   "source": [
    "The above plot shows that for 75% of Zones de Santé (ZS), the difference between DHIS2 and WorldPop data is within 50% of the total DHIS2, which indicates significant deviation between the two sources. Most of the remaining ZS (except the outliers represented as dots) have differences of population that are 0.5-1.5 of the total DHIS2 population."
   ]
  },
  {
   "cell_type": "code",
   "execution_count": null,
   "id": "b60680c3-4696-48af-9bba-b51210c187d8",
   "metadata": {},
   "outputs": [],
   "source": [
    "ggplot(comparison_df) +\n",
    "  geom_sf(aes(fill = (worldpop_population - dhis2_population)/dhis2_population)) +\n",
    "  scale_fill_gradient2(low = \"blue\", mid = \"white\", high = \"red\", midpoint = 0) +\n",
    "  labs(title = \"ADM2 Relative difference: WorldPop - DHIS2 Population (reference)\",\n",
    "       fill = \"Relative Pop. Diff\") +\n",
    "  theme_minimal()"
   ]
  },
  {
   "cell_type": "markdown",
   "id": "bb54485d-e3b1-4f5d-83b0-a20981e233e9",
   "metadata": {},
   "source": [
    "## Province comparison"
   ]
  },
  {
   "cell_type": "code",
   "execution_count": null,
   "id": "b7d250c2-7353-4926-b0b5-7f7ea81005ec",
   "metadata": {},
   "outputs": [],
   "source": [
    "# Group by province (ADM1) and dissolve geometries\n",
    "dhis2_shapes_provinces <- shapes_data %>%\n",
    "  group_by(ADM1_ID) %>%\n",
    "  summarise(geometry = st_union(geometry), .groups = \"drop\")\n",
    "\n",
    "# Group pop by provinces\n",
    "dhis2_pop_prov <- dhis2_pop %>%\n",
    "  group_by(ADM1_NAME, ADM1_ID) %>%\n",
    "  summarise(dhis2_value = sum(POPULATION, na.rm = TRUE))\n",
    "\n",
    "# Group pop by provinces\n",
    "worldpop_pop_prov <- worldpop_population %>%\n",
    "  group_by(ADM1_NAME, ADM1_ID) %>%\n",
    "  summarise(worldpop_value = sum(POPULATION, na.rm = TRUE))\n",
    "\n",
    "comparison_df_prov <- left_join(dhis2_shapes_provinces, dhis2_pop_prov, by = c(\"ADM1_ID\"))\n",
    "comparison_df_prov <- left_join(comparison_df_prov, worldpop_pop_prov, by = c(\"ADM1_ID\"))"
   ]
  },
  {
   "cell_type": "code",
   "execution_count": null,
   "id": "353031e2-475e-4478-b643-aa7e86885365",
   "metadata": {},
   "outputs": [],
   "source": [
    "ggplot(comparison_df_prov, aes(x = dhis2_value, y = worldpop_value)) +\n",
    "  geom_point() +\n",
    "  geom_abline(slope = 1, intercept = 0, linetype = \"dashed\", color = \"gray\") +\n",
    "  labs(x = \"DHIS2 Population\", y = \"WorldPop Population\", \n",
    "       title = \"Comparison per ADM2\") +\n",
    "  theme_minimal()"
   ]
  },
  {
   "cell_type": "code",
   "execution_count": null,
   "id": "931a0bb7-3a2b-4909-96b2-afced4852fa7",
   "metadata": {},
   "outputs": [],
   "source": [
    "pop_correlation_prov <- cor(comparison_df_prov$dhis2_value, comparison_df_prov$worldpop_value, method = 'pearson')\n",
    "print(paste0(\"Correlation : \", round(pop_correlation_prov, 2)))"
   ]
  },
  {
   "cell_type": "code",
   "execution_count": null,
   "id": "c0d79532-9cc0-4678-a23d-7920abe3ed14",
   "metadata": {
    "scrolled": true
   },
   "outputs": [],
   "source": [
    "ggplot(comparison_df_prov) +\n",
    "  geom_sf(aes(fill = worldpop_value - dhis2_value)) +\n",
    "  scale_fill_gradient2(low = \"blue\", mid = \"white\", high = \"red\", midpoint = 0) +\n",
    "  labs(title = \"Difference: WorldPop - DHIS2 Population (ADM1)\",\n",
    "       fill = \"Pop. Diff\") +\n",
    "  theme_minimal()"
   ]
  },
  {
   "cell_type": "code",
   "execution_count": null,
   "id": "3fb1f4e1-a5b4-4685-9ad8-0510f8565659",
   "metadata": {},
   "outputs": [],
   "source": [
    "sapply(\n",
    "    setNames(\n",
    "        list(comparison_df_prov$dhis2_value, comparison_df_prov$worldpop_value),\n",
    "        c(\"DHIS2_population\", \"WPOP_population\")\n",
    "    ),\n",
    "    summary\n",
    ")"
   ]
  }
 ],
 "metadata": {
  "kernelspec": {
   "display_name": "R",
   "language": "R",
   "name": "ir"
  },
  "language_info": {
   "codemirror_mode": "r",
   "file_extension": ".r",
   "mimetype": "text/x-r-source",
   "name": "R",
   "pygments_lexer": "r",
   "version": "4.4.3"
  }
 },
 "nbformat": 4,
 "nbformat_minor": 5
}
