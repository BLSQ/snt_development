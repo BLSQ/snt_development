{
 "cells": [
  {
   "cell_type": "markdown",
   "id": "96eee97c-fda4-4827-8111-c438cabed82e",
   "metadata": {},
   "source": [
    "## Setup start "
   ]
  },
  {
   "cell_type": "code",
   "execution_count": null,
   "id": "e1156ab5-2dc6-4bfb-8d7a-ac594c40ecf8",
   "metadata": {
    "vscode": {
     "languageId": "r"
    }
   },
   "outputs": [],
   "source": [
    "# Parameters\n",
    "# SNT_ROOT_PATH   <- '~/workspace'   # SNT root\n",
    "# ADJUST_POPULATION <- TRUE"
   ]
  },
  {
   "cell_type": "code",
   "execution_count": null,
   "id": "687392e7-fe6c-4355-9f4d-6718b467a33d",
   "metadata": {
    "vscode": {
     "languageId": "r"
    }
   },
   "outputs": [],
   "source": [
    "# Set project folders\n",
    "CODE_PATH      <- file.path(SNT_ROOT_PATH, \"code\")\n",
    "CONFIG_PATH    <- file.path(SNT_ROOT_PATH, \"configuration\")\n",
    "FORMATTED_DATA_PATH <- file.path(SNT_ROOT_PATH, \"data\", \"dhis2\", \"extracts_formatted\")"
   ]
  },
  {
   "cell_type": "markdown",
   "id": "7a31fc88-3fa9-4a65-b61a-dc1564aecc22",
   "metadata": {},
   "source": [
    "**Load functions**"
   ]
  },
  {
   "cell_type": "code",
   "execution_count": null,
   "id": "340a8095-ee83-4277-84cd-60c0c626b947",
   "metadata": {
    "vscode": {
     "languageId": "r"
    }
   },
   "outputs": [],
   "source": [
    "source(file.path(CODE_PATH, \"snt_utils.r\"))"
   ]
  },
  {
   "cell_type": "markdown",
   "id": "1188d74a-0d28-48c7-a72e-3c1933b87cf4",
   "metadata": {},
   "source": [
    "**Check and load required libraries**  "
   ]
  },
  {
   "cell_type": "code",
   "execution_count": null,
   "id": "715c8d64-aaa0-43e6-b398-59abfb564bae",
   "metadata": {
    "vscode": {
     "languageId": "r"
    }
   },
   "outputs": [],
   "source": [
    "# List required pcks  ---------------->  check  what are the really required libraries\n",
    "required_packages <- c(\"arrow\", \"dplyr\", \"tidyr\", \"stringr\", \"stringi\", \"jsonlite\", \"httr\", \"reticulate\")\n",
    "\n",
    "# Execute function\n",
    "install_and_load(required_packages)"
   ]
  },
  {
   "cell_type": "code",
   "execution_count": null,
   "id": "d1cf7e13-3be0-44fa-99ea-3e3520da1229",
   "metadata": {
    "vscode": {
     "languageId": "r"
    }
   },
   "outputs": [],
   "source": [
    "# Set environment to load openhexa.sdk from the right environment\n",
    "Sys.setenv(RETICULATE_PYTHON = \"/opt/conda/bin/python\")\n",
    "reticulate::py_config()$python\n",
    "openhexa <- import(\"openhexa.sdk\")"
   ]
  },
  {
   "cell_type": "markdown",
   "id": "21c802bd-506b-4e60-bd06-b715a5c197ee",
   "metadata": {},
   "source": [
    "### Load SNT configuration\n"
   ]
  },
  {
   "cell_type": "code",
   "execution_count": null,
   "id": "10580e48-ccb5-49df-933d-3cdbc480a402",
   "metadata": {
    "vscode": {
     "languageId": "r"
    }
   },
   "outputs": [],
   "source": [
    "# Load SNT config\n",
    "config_json <- tryCatch({\n",
    "        fromJSON(file.path(CONFIG_PATH, \"SNT_config.json\"))\n",
    "    },\n",
    "    error = function(e) {\n",
    "        msg <- paste0(\"Error while loading configuration\", conditionMessage(e))  \n",
    "        cat(msg)   \n",
    "        stop(msg) \n",
    "    })\n",
    "\n",
    "# print(config.json$SNT_CONFIG)\n",
    "msg <- paste0(\"SNT configuration loaded from  : \", file.path(CONFIG_PATH, \"SNT_config.json\"))\n",
    "log_msg(msg)\n",
    "\n",
    "# Save this country code in a variable\n",
    "COUNTRY_CODE <- config_json$SNT_CONFIG$COUNTRY_CODE\n",
    "ADMIN_1 <- toupper(config_json$SNT_CONFIG$DHIS2_ADMINISTRATION_1)\n",
    "ADMIN_2 <- toupper(config_json$SNT_CONFIG$DHIS2_ADMINISTRATION_2)"
   ]
  },
  {
   "cell_type": "markdown",
   "id": "0b8083d8-ba7f-49d9-865b-ada38c51b6b2",
   "metadata": {},
   "source": [
    "### Load DHIS2 population data"
   ]
  },
  {
   "cell_type": "markdown",
   "id": "77af1690-79c4-4ad4-92c3-47a5dd119906",
   "metadata": {},
   "source": [
    "-Load DHIS2 population from latest dataset version \n"
   ]
  },
  {
   "cell_type": "code",
   "execution_count": null,
   "id": "82d0d5e9-2cc5-4101-9ea6-59aafdcf5b81",
   "metadata": {
    "vscode": {
     "languageId": "r"
    }
   },
   "outputs": [],
   "source": [
    "# DHIS2 Dataset extract identifier\n",
    "dataset_name <- config_json$SNT_DATASET_IDENTIFIERS$DHIS2_DATASET_EXTRACTS\n",
    "\n",
    "# Load file from dataset\n",
    "dhis2_data <- tryCatch({ get_latest_dataset_file_in_memory(dataset_name, paste0(COUNTRY_CODE, \"_dhis2_raw_population.parquet\")) }, \n",
    "                  error = function(e) {\n",
    "                      msg <- paste(\"Error while loading DHIS2 population file for: \" , COUNTRY_CODE, conditionMessage(e))  # log error message\n",
    "                      cat(msg)\n",
    "                      stop(msg)\n",
    "})\n",
    "\n",
    "msg <- paste0(\"DHIS2 population data loaded from dataset : \", dataset_name, \" dataframe dimensions: \", paste(dim(dhis2_data), collapse=\", \"))\n",
    "log_msg(msg)"
   ]
  },
  {
   "cell_type": "markdown",
   "id": "0d351974-c1c5-4971-97c8-f0122ca9e803",
   "metadata": {},
   "source": [
    "## SNT total population aggregation"
   ]
  },
  {
   "cell_type": "code",
   "execution_count": null,
   "id": "328ce7f1-a010-44c4-92e2-3b31829b32d8",
   "metadata": {
    "vscode": {
     "languageId": "r"
    }
   },
   "outputs": [],
   "source": [
    "# log\n",
    "# msg <- paste0(\"Formatting total population for SNT.\")\n",
    "# log_msg(msg)"
   ]
  },
  {
   "cell_type": "code",
   "execution_count": null,
   "id": "e6a94a3a-0078-4a25-af01-bbe49d55d4b4",
   "metadata": {
    "vscode": {
     "languageId": "r"
    }
   },
   "outputs": [],
   "source": [
    "# Set administrative columns\n",
    "adm_1_id_col <- gsub(\"_NAME\", \"_ID\", ADMIN_1)\n",
    "adm_1_name_col <- ADMIN_1\n",
    "adm_2_id_col <- gsub(\"_NAME\", \"_ID\", ADMIN_2)\n",
    "adm_2_name_col <- ADMIN_2\n",
    "\n",
    "# Administrative columns list\n",
    "admin_columns <- c(\n",
    "    adm_1_id_col,\n",
    "    adm_1_name_col,\n",
    "    adm_2_id_col,\n",
    "    adm_2_name_col\n",
    ")\n",
    "\n",
    "# aggregate data\n",
    "df_aggregated <- dhis2_data %>%\n",
    "    mutate(VALUE = as.numeric(VALUE)) %>%\n",
    "    group_by(!!!syms(c(\"DX\", \"CO\", \"PE\", admin_columns))) %>%                \n",
    "    summarise(POPULATION = sum(VALUE, na.rm = TRUE), .groups = \"drop\")  # sum with NA handling\n",
    "\n",
    "# Clean strings for admin 1 and admin 2\n",
    "df_aggregated[[ADMIN_1]] <- format_names(df_aggregated[[ADMIN_1]]) # (format_names() in snt_utils.r)\n",
    "df_aggregated[[ADMIN_2]] <- format_names(df_aggregated[[ADMIN_2]])"
   ]
  },
  {
   "cell_type": "markdown",
   "id": "63254824-df25-4e48-a0ff-05538e7cd3f8",
   "metadata": {},
   "source": [
    "### Pivot dhis2 population table"
   ]
  },
  {
   "cell_type": "code",
   "execution_count": null,
   "id": "d6ceabbd-5c08-406c-b8e9-bd5615008959",
   "metadata": {
    "vscode": {
     "languageId": "r"
    }
   },
   "outputs": [],
   "source": [
    "# pivot table on DX and CO columns (available combinations to columns)\n",
    "population_data <- pivot_wider(df_aggregated,\n",
    "                               id_cols = all_of(c(\"PE\", admin_columns)),\n",
    "                               names_from = c(\"DX\", \"CO\"),\n",
    "                               values_from = \"POPULATION\")\n",
    "\n",
    "print(paste(\"Population data pivot : \", paste0(dim(population_data), collapse=\", \")))"
   ]
  },
  {
   "cell_type": "markdown",
   "id": "cdeeb35d-975f-4929-8d69-a53dfae9d7fa",
   "metadata": {},
   "source": [
    "### Build indicator definitions"
   ]
  },
  {
   "cell_type": "code",
   "execution_count": null,
   "id": "7ccd7f24-92d7-4ffa-b502-12fd0a4678b0",
   "metadata": {
    "vscode": {
     "languageId": "r"
    }
   },
   "outputs": [],
   "source": [
    "# Get list of indicator definitions from SNT configuration\n",
    "pop_indicator_definitions <- config_json$DHIS2_DATA_DEFINITIONS$POPULATION_INDICATOR_DEFINITIONS\n",
    "names(pop_indicator_definitions) <- \"POPULATION\" # we call it POPULATION \n",
    "\n",
    "# loop over the definitions\n",
    "for (indicator in names(pop_indicator_definitions)) {\n",
    "        \n",
    "    data_element_uids <- pop_indicator_definitions[[indicator]]   \n",
    "    col_names <- c()\n",
    "   \n",
    "    if (length(data_element_uids) > 0) {\n",
    "        for (dx in data_element_uids) {\n",
    "            dx_co <- gsub(\"\\\\.\", \"_\", dx)            \n",
    "            if (grepl(\"_\", dx_co)) {\n",
    "                col_names <- c(col_names , dx)\n",
    "            } else {\n",
    "                col_names <- c(col_names ,colnames(population_data)[grepl(dx, colnames(population_data))])\n",
    "            }\n",
    "        }\n",
    "\n",
    "        # logs\n",
    "        msg <- paste0(\"Building indicator : \", indicator, \" -> column selection : \", paste(col_names, collapse = \", \"))        \n",
    "        log_msg(msg)\n",
    "        \n",
    "        if (length(col_names) > 1) {\n",
    "            sums <- rowSums(population_data[, col_names], na.rm = TRUE)\n",
    "            all_na <- rowSums(!is.na(population_data[, col_names])) == 0\n",
    "            sums[all_na] <- NA  # Keep NA if all rows are NA!\n",
    "            population_data[[indicator]] <- sums            \n",
    "        } else {\n",
    "            population_data[indicator] <- population_data[, col_names] \n",
    "        }\n",
    "        \n",
    "    } else {\n",
    "        population_data[indicator] <- NA\n",
    "        \n",
    "        # logs\n",
    "        msg <- paste0(\"Building indicator : \", indicator, \" -> column selection : NULL\")\n",
    "        log_msg(msg)\n",
    "    }\n",
    "}"
   ]
  },
  {
   "cell_type": "code",
   "execution_count": null,
   "id": "04982767-d1af-497b-bc84-889d40188500",
   "metadata": {
    "vscode": {
     "languageId": "r"
    }
   },
   "outputs": [],
   "source": [
    "head(population_data)"
   ]
  },
  {
   "cell_type": "markdown",
   "id": "e7b19575-978e-4507-b486-58b1be866912",
   "metadata": {},
   "source": [
    "## Format SNT population data"
   ]
  },
  {
   "cell_type": "markdown",
   "id": "c80c3ef3-c7a6-4845-9134-3900bfba5eef",
   "metadata": {},
   "source": [
    "### SNT format \n",
    "\n",
    "Apply standard SNT formatting for the final table"
   ]
  },
  {
   "cell_type": "code",
   "execution_count": null,
   "id": "9db75d55-60f0-43ca-97bd-2ed808247ddb",
   "metadata": {
    "vscode": {
     "languageId": "r"
    }
   },
   "outputs": [],
   "source": [
    "# Filter routine data columns by indicators\n",
    "population_data_selection <- population_data[, c(\"PE\", admin_columns, names(pop_indicator_definitions))]\n",
    "\n",
    "# Select and Rename columns\n",
    "population_data_formatted <- population_data_selection %>%\n",
    "    mutate(\n",
    "        PE = as.numeric(PE)\n",
    "    ) %>%\n",
    "    select(\n",
    "        YEAR = PE,\n",
    "        ADM1_NAME = !!sym(adm_1_name_col),\n",
    "        ADM1_ID = !!sym(adm_1_id_col),           \n",
    "        ADM2_NAME = !!sym(adm_2_name_col),\n",
    "        ADM2_ID = !!sym(adm_2_id_col),                      \n",
    "        all_of(names(pop_indicator_definitions))\n",
    "        )\n",
    "\n",
    "# Column names to upper case\n",
    "colnames(population_data_formatted) <- clean_column_names(population_data_formatted)\n",
    "\n",
    "# Sort dataframe by period\n",
    "population_data_formatted <- population_data_formatted[order(as.numeric(population_data_formatted$YEAR)), ]\n",
    "print(dim(population_data_formatted))\n",
    "\n",
    "head(population_data_formatted)"
   ]
  },
  {
   "cell_type": "markdown",
   "id": "853b9f8c-01a0-41de-9b6b-3a506f1a36e4",
   "metadata": {},
   "source": [
    "### Adjust population data (optional)  \n",
    "\n",
    "Adjust DHIS2 population using Worldpop UN adjusted data as scaling factor.\n",
    "\n",
    "Details:  \n",
    "- Must run *B.2 WorldPop Extract pipeline* first!\n",
    "- If the Wpop data is not available, we continue the process without scaling.\n",
    "- We assume we have Woldpop population data only for one year (latest).  \n",
    "- The adjusted population is stored in the additional column \"POPULATION_ADJUSTED\".\n",
    "  "
   ]
  },
  {
   "cell_type": "code",
   "execution_count": null,
   "id": "a999beb7-a797-450b-9943-16024f3a15ba",
   "metadata": {},
   "outputs": [],
   "source": [
    "if (ADJUST_POPULATION) {\n",
    "            \n",
    "    worldpop_dataset <- config_json$SNT_DATASET_IDENTIFIERS$WORLDPOP_DATASET_EXTRACT  # WPOP Dataset identifier    \n",
    "    wpop_unadj_filename <- paste0(COUNTRY_CODE, \"_worldpop_population.parquet\")  # WPOP file\n",
    "    \n",
    "    # Load file from dataset\n",
    "    wpop_population <- tryCatch({ get_latest_dataset_file_in_memory(worldpop_dataset, wpop_unadj_filename) },\n",
    "                      error = function(e) {\n",
    "                          msg <- paste0(\"[WARNING] Error while loading Worldpop population file for: \" , COUNTRY_CODE,\n",
    "                                       \" Please execute B.2 WorldPop Extract pipeline to ensure the data is available in the snt-worldpop-extract dataset.\")\n",
    "                          log_msg(msg, \"warning\")\n",
    "                          log_msg(\"The formatting will continue without population adjustment.\", \"warning\")\n",
    "    })\n",
    "}"
   ]
  },
  {
   "cell_type": "code",
   "execution_count": null,
   "id": "55af4d85-6d1b-40a4-94a7-8c8f53d2d750",
   "metadata": {},
   "outputs": [],
   "source": [
    "if (\"wpop_population\" %in% ls()) {\n",
    "    \n",
    "    log_msg(glue::glue(\"Adjusting DHIS2 population data with {wpop_unadj_filename} from dataset {worldpop_dataset}\"))\n",
    "     \n",
    "    # WPop Total population (computation per available years? -> for now select only last year)\n",
    "    wpop_year_max <- max(wpop_population$YEAR)\n",
    "    wpop_total <- sum(wpop_population[wpop_population$YEAR == wpop_year_max, ]$POPULATION_UNADJ, na.rm=TRUE)\n",
    "    \n",
    "    # Compute totals per DHIS2 year\n",
    "    year_totals <- population_data_formatted %>%\n",
    "      group_by(YEAR) %>%\n",
    "      summarise(total_year_pop = sum(POPULATION, na.rm = TRUE))\n",
    "    \n",
    "    # Compute scaling factor per year\n",
    "    year_totals <- year_totals %>%\n",
    "      mutate(scaling_factor = wpop_total / total_year_pop)\n",
    "    \n",
    "    # Join back and compute adjusted population\n",
    "    population_data_formatted <- population_data_formatted %>%\n",
    "      left_join(year_totals, by = \"YEAR\") %>%\n",
    "      mutate(POPULATION_ADJUSTED = round(POPULATION * scaling_factor)) %>%\n",
    "      select(-total_year_pop, -scaling_factor)\n",
    " \n",
    "    log_msg(glue::glue(\"DHIS2 population adjusted successfully\"))\n",
    "    head(population_data_formatted, 3)\n",
    "}"
   ]
  },
  {
   "cell_type": "markdown",
   "id": "cd7c7fcc-16b7-4931-a73e-c82604a1d108",
   "metadata": {},
   "source": [
    "### Output formatted population data"
   ]
  },
  {
   "cell_type": "code",
   "execution_count": null,
   "id": "8d704604-8af9-48bf-afc4-3965a634ac75",
   "metadata": {
    "vscode": {
     "languageId": "r"
    }
   },
   "outputs": [],
   "source": [
    "out_msg <- paste0(\"Population data saved under: \", file.path(FORMATTED_DATA_PATH, paste0(COUNTRY_CODE, \"_population.csv\")))\n",
    "\n",
    "# write parquet file\n",
    "write_parquet(population_data_formatted, file.path(FORMATTED_DATA_PATH, paste0(COUNTRY_CODE, \"_population.parquet\")))\n",
    "\n",
    "# write csv file\n",
    "write.csv(population_data_formatted, file.path(FORMATTED_DATA_PATH, paste0(COUNTRY_CODE, \"_population.csv\")), row.names = FALSE)\n",
    "\n",
    "# log\n",
    "log_msg(out_msg)"
   ]
  },
  {
   "cell_type": "markdown",
   "id": "07ce08f0-526e-48e9-a72d-16aafc1f40b8",
   "metadata": {},
   "source": [
    "### Data Summary "
   ]
  },
  {
   "cell_type": "code",
   "execution_count": null,
   "id": "cbaa160c-04e4-4b9c-95e4-b320a358ce40",
   "metadata": {
    "vscode": {
     "languageId": "r"
    }
   },
   "outputs": [],
   "source": [
    "# Data summary\n",
    "print(summary(population_data_formatted))"
   ]
  },
  {
   "cell_type": "code",
   "execution_count": null,
   "id": "8688f43b-4cb9-4299-bb94-1474daa690c7",
   "metadata": {
    "vscode": {
     "languageId": "r"
    }
   },
   "outputs": [],
   "source": []
  }
 ],
 "metadata": {
  "kernelspec": {
   "display_name": "R",
   "language": "R",
   "name": "ir"
  },
  "language_info": {
   "codemirror_mode": "r",
   "file_extension": ".r",
   "mimetype": "text/x-r-source",
   "name": "R",
   "pygments_lexer": "r",
   "version": "4.4.3"
  }
 },
 "nbformat": 4,
 "nbformat_minor": 5
}
