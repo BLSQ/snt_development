{
 "cells": [
  {
   "cell_type": "code",
   "execution_count": 1,
   "id": "017abe06-cd29-4bfa-91a2-51c394073580",
   "metadata": {},
   "outputs": [
    {
     "name": "stdout",
     "output_type": "stream",
     "text": [
      "[1] \"This is a test reporting notebook! Fill it with useful stuff :)\"\n"
     ]
    }
   ],
   "source": [
    "print(\"This is a test reporting notebook! Fill it with useful stuff :)\")"
   ]
  }
 ],
 "metadata": {
  "kernelspec": {
   "display_name": "R",
   "language": "R",
   "name": "ir"
  },
  "language_info": {
   "codemirror_mode": "r",
   "file_extension": ".r",
   "mimetype": "text/x-r-source",
   "name": "R",
   "pygments_lexer": "r",
   "version": "4.4.3"
  }
 },
 "nbformat": 4,
 "nbformat_minor": 5
}
