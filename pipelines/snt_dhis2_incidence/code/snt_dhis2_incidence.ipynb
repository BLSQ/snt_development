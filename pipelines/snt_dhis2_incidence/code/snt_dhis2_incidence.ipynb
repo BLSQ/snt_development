{
 "cells": [
  {
   "cell_type": "markdown",
   "id": "f5827740-2917-4504-9017-9ec7d408e5f4",
   "metadata": {},
   "source": [
    "Script structure:\n",
    "  1. Setup:\n",
    "        * Paths\n",
    "        * Utils functions\n",
    "        * Load and check config file\n",
    "  2. Load Data\n",
    "        * **Routine data** (DHIS2) already formatted & aggregated (output of pipeline XXX)\n",
    "        * **Population data** (DHIS2) already formatted & aggregated (output of pipeline YYY) & aggregated at **ADM2 x YEAR** level (⚠️ how to implement this better!⚠️)\n",
    "        * (optional) **Care seeking (taux recherche soins)** (DHS)\n",
    "        * (user choice) **Reporting Rate**, pick one of:\n",
    "            * \"**Dataset**\": pre-cumputed (directly downloadable from SNIS DHIS2 instance) and formatted&aligned elsewhere (output of pipelibe `dhis2-reporting-rate`)\n",
    "            * \"**Data Element**: calculated from routine dhis2 data, based on reports for defined indicators and \"active\" facilities\n",
    "  3. Calculate **Incidence**\n",
    "     1. calculate **monthly cases**\n",
    "     2. calculate **yearly incidence**: Crude, Adjusted 1 (Testing), Adjusted 2 (Reporting), (optional) Adjusted 3 (Care Seeking)"
   ]
  },
  {
   "cell_type": "markdown",
   "id": "cdd5409b-dc0e-45f4-ae4e-dffcdb25059b",
   "metadata": {},
   "source": [
    "-------------------\n",
    "**Naming harmonization to improve code readability:**\n",
    "\n",
    "**Incidence**, COLUMN NAMES (always capitalized!):\n",
    "* \"INCIDENCE_CRUDE\" = \"Crude\"\n",
    "* \"INCIDENCE_ADJ_TESTING\" = \"Adjusted 1 (Testing)\"\n",
    "* \"INCIDENCE_ADJ_REPORTING\" = \"Adjusted 2 (Reporting)\"\n",
    "* _\"INCIDENCE_ADJ_CARESEEKING\" = \"Adjusted 3 (Careseeking)\"_ ⚠️is this good naming?"
   ]
  },
  {
   "cell_type": "markdown",
   "id": "96d5dffc-ff34-4a14-b2b7-1e71e6afad07",
   "metadata": {},
   "source": [
    "**Reporting Rate** data frames, based on two **methods**:\n",
    "* follwo this structure: reporting\\_rate\\_\\<method\\>. So:\n",
    "    * **Dataset**: `reporting_rate_dataset` (for report nb only: `reporting_rate_dataset_year`)\n",
    "    * **Data Element** (Diallo 2025): `reporting_rate_dataelement` (for report nb only: `reporting_rate_dataelement_year`)"
   ]
  },
  {
   "cell_type": "markdown",
   "id": "5e8f5bf2-922a-468a-8a2c-8e56d7e652df",
   "metadata": {},
   "source": [
    "--------------------"
   ]
  },
  {
   "cell_type": "markdown",
   "id": "8e8b7411-afd7-4461-8ed9-c5374e95cedf",
   "metadata": {},
   "source": [
    "### To do:\n",
    "* add check on completeness of routine data per ADM2 * MONTH -> issue warning if data is missing for certain months (\"holes\" see https://bluesquare.slack.com/archives/C08DHT2JXEV/p1751982194834899 )"
   ]
  },
  {
   "cell_type": "markdown",
   "id": "339f6d58-0965-40ef-b718-96195d2463f8",
   "metadata": {},
   "source": [
    "## 0. Parameters\n",
    "👇 these are now ⚡**pipeline parameters**⚡!"
   ]
  },
  {
   "cell_type": "code",
   "execution_count": null,
   "id": "f2abed1e-fbc3-4a7f-b1f5-17e0ef1ece43",
   "metadata": {
    "editable": true,
    "slideshow": {
     "slide_type": ""
    },
    "tags": [
     "Parameters"
    ]
   },
   "outputs": [],
   "source": [
    "# Parameters\n",
    "# SNT_ROOT_PATH\n",
    "# CONFIG_FILE_NAME\n",
    "\n",
    "# N1_METHOD\n",
    "# USE_CSB_DATA\n",
    "# REPORTING_RATE_METHOD\n",
    "# ROUTINE_DATA_CHOICE\n",
    "# OUTLIER_DETECTION_METHOD"
   ]
  },
  {
   "cell_type": "markdown",
   "id": "af076158-1f5a-408d-8ce2-2f2101d0531c",
   "metadata": {},
   "source": [
    "## 1. Setup"
   ]
  },
  {
   "cell_type": "markdown",
   "id": "3ae826e4-f728-4c8d-81fb-0857234ac622",
   "metadata": {},
   "source": [
    "### 1.0. Fallback parameter values"
   ]
  },
  {
   "cell_type": "code",
   "execution_count": null,
   "id": "72fad25e-85fd-4ae9-8fe3-c142077f8d67",
   "metadata": {},
   "outputs": [],
   "source": [
    "# Set BACKUP VALUE: root path - NEVER CHANGE THIS!\n",
    "if (!exists(\"SNT_ROOT_PATH\")) {\n",
    "  SNT_ROOT_PATH <- \"/home/hexa/workspace\" \n",
    "}\n",
    "\n",
    "# Set BACKUP VALUE: CONFIG_FILE_NAME probably won't be needed in the future (TBD)\n",
    "if (!exists(\"CONFIG_FILE_NAME\")) {\n",
    "  CONFIG_FILE_NAME <- \"SNT_config.json\" \n",
    "}\n",
    "\n",
    "\n",
    "# ----- ⚡ Defined in pipeline.py code ---------------\n",
    "\n",
    "# ⚡ For N1 calculations: use `SUSP-TEST` or `PRES`\n",
    "if (!exists(\"N1_METHOD\")) {\n",
    "  N1_METHOD <- \"SUSP-TEST\" # set this as default in case there is not PRES (not all countries have it)\n",
    "}\n",
    "\n",
    "# ⚡ USE_CSB_DATA bool\n",
    "if (!exists(\"USE_CSB_DATA\")) {\n",
    "  USE_CSB_DATA <- FALSE\n",
    "}\n",
    "\n",
    "# ⚡ Set BACKUP VALUE: choice of reporting rate method to use for incidence adjustement\n",
    "if (!exists(\"REPORTING_RATE_METHOD\")) { # was REPORTING_RATE_CHOICE\n",
    "  REPORTING_RATE_METHOD <- \"dataset\" # \"dataelement\"\n",
    "}\n",
    "\n",
    "# For \"Date Element\" method ONLY\n",
    "if (!exists(\"REPRATE_DELEMENT_METHOD_NUMERATOR\")) { \n",
    "  REPRATE_DELEMENT_METHOD_NUMERATOR <- \"n1\" # \"n1\" | \"n2\" | ?\"Not applicable\"?\n",
    "}\n",
    "\n",
    "# For \"Date Element\" method ONLY\n",
    "if (!exists(\"REPRATE_DELEMENT_METHOD_DENOMINATOR\")) { \n",
    "  REPRATE_DELEMENT_METHOD_DENOMINATOR <- \"d1\" # \"d1\" | \"d2\" | ?\"Not applicable\"?\n",
    "}\n",
    "\n",
    "\n",
    "\n",
    "# ⚡ Set BACKUP VALUE: choice of routine data to use \n",
    "if (!exists(\"ROUTINE_DATA_CHOICE\")) {\n",
    "  ROUTINE_DATA_CHOICE <- \"raw\" # \"raw_without_outliers\" \"imputed\"\n",
    "}\n",
    "\n",
    "# ⚡ Set BACKUP VALUE: choice of OUTLIERS detection method\n",
    "#  Needed when `ROUTINE_DATA_CHOICE == \"raw_without_outliers\"` OR `ROUTINE_DATA_CHOICE == \"imputed\"`\n",
    "# Extract from filenames in DHIS2_OUTLIERS_REMOVAL_IMPUTATION\n",
    "if (!exists(\"OUTLIER_DETECTION_METHOD\")) {\n",
    "  OUTLIER_DETECTION_METHOD <- \"median3mad\"  # \"mean3sd\", \"iqr1-5\", \"magic_glasses_partial\", \"magic_glasses_complete\"\n",
    "}\n"
   ]
  },
  {
   "cell_type": "markdown",
   "id": "ecff4a51-c6fa-4e84-a465-5bb87d9b1333",
   "metadata": {},
   "source": [
    "### 1.1. Paths"
   ]
  },
  {
   "cell_type": "code",
   "execution_count": null,
   "id": "b5f1b8ce-db82-4295-8e74-00b765cf0b9d",
   "metadata": {},
   "outputs": [],
   "source": [
    "# PROJECT PATHS\n",
    "CODE_PATH <- file.path(SNT_ROOT_PATH, 'code') # this is where we store snt_utils.r\n",
    "CONFIG_PATH <- file.path(SNT_ROOT_PATH, 'configuration') # .json config file\n",
    "DATA_PATH <- file.path(SNT_ROOT_PATH, 'data', 'dhis2') # same files as in Datasets but /data/ gets overwritten at each pipeline run"
   ]
  },
  {
   "cell_type": "markdown",
   "id": "22971de0-1431-4cbd-b8c1-3bd3e1609e0d",
   "metadata": {},
   "source": [
    "### 1.2. Utils functions"
   ]
  },
  {
   "cell_type": "code",
   "execution_count": null,
   "id": "1784fd43-03f3-478b-8148-4b478317ea21",
   "metadata": {},
   "outputs": [],
   "source": [
    "source(file.path(CODE_PATH, \"snt_utils.r\"))"
   ]
  },
  {
   "cell_type": "markdown",
   "id": "3bbcbd39-54e8-4ece-9244-30d7d30291d2",
   "metadata": {},
   "source": [
    "### 1.3. Packages"
   ]
  },
  {
   "cell_type": "code",
   "execution_count": null,
   "id": "426ecff6-0b4c-474d-a48d-826002205b89",
   "metadata": {},
   "outputs": [],
   "source": [
    "# List required pcks  ---------------->  check  what are the really required libraries\n",
    "required_packages <- c(\"arrow\", # for .parquet\n",
    "                       \"tidyverse\",\n",
    "                       \"stringi\", \n",
    "                       \"jsonlite\", \n",
    "                       \"httr\", \n",
    "                       \"reticulate\")\n",
    "\n",
    "# Execute function\n",
    "install_and_load(required_packages)"
   ]
  },
  {
   "cell_type": "markdown",
   "id": "18a8e0c1-ac09-4435-b6f4-5f91fd916396",
   "metadata": {},
   "source": [
    "#### For 📦{sf}, tell OH where to find stuff ..."
   ]
  },
  {
   "cell_type": "code",
   "execution_count": null,
   "id": "91a66fb7-dd5e-43fd-a6a2-d8bb9f0315d6",
   "metadata": {},
   "outputs": [],
   "source": [
    "Sys.setenv(PROJ_LIB = \"/opt/conda/share/proj\")\n",
    "Sys.setenv(GDAL_DATA = \"/opt/conda/share/gdal\")"
   ]
  },
  {
   "cell_type": "markdown",
   "id": "ac9ee427-020e-47c5-b2c9-5ca24e1f2779",
   "metadata": {},
   "source": [
    "#### Set environment to load openhexa.sdk from the right path"
   ]
  },
  {
   "cell_type": "code",
   "execution_count": null,
   "id": "aa331278-573d-4a22-ab16-da6972d7b0be",
   "metadata": {},
   "outputs": [],
   "source": [
    "# Set environment to load openhexa.sdk from the right path\n",
    "Sys.setenv(RETICULATE_PYTHON = \"/opt/conda/bin/python\")\n",
    "reticulate::py_config()$python\n",
    "openhexa <- import(\"openhexa.sdk\")"
   ]
  },
  {
   "cell_type": "markdown",
   "id": "339b2e8b-9bf6-4eaf-b283-d9360c1c6899",
   "metadata": {},
   "source": [
    "### 1.4. Load and check `config` file"
   ]
  },
  {
   "cell_type": "code",
   "execution_count": null,
   "id": "f1c46526-6844-43ae-bb53-d8d1ad2fac24",
   "metadata": {},
   "outputs": [],
   "source": [
    "config_json <- tryCatch({ fromJSON(file.path(CONFIG_PATH, CONFIG_FILE_NAME)) },\n",
    "    error = function(e) {\n",
    "        msg <- paste0(\"[ERROR] Error while loading configuration\", conditionMessage(e))  \n",
    "        cat(msg)   \n",
    "        stop(msg) \n",
    "    })\n",
    "\n",
    "msg <- paste0(\"SNT configuration loaded from  : \", file.path(CONFIG_PATH, CONFIG_FILE_NAME)) \n",
    "log_msg(msg)"
   ]
  },
  {
   "cell_type": "markdown",
   "id": "6d49c1a8-c9e2-4f4e-abdc-cc4bd0538d0d",
   "metadata": {},
   "source": [
    "**Checks for SNT mandatory configuration fields**"
   ]
  },
  {
   "cell_type": "code",
   "execution_count": null,
   "id": "5d876f3d-057f-485d-92a8-6f8769dbe5d4",
   "metadata": {},
   "outputs": [],
   "source": [
    "snt_config_mandatory <- c(\"COUNTRY_CODE\", \"DHIS2_ADMINISTRATION_1\", \"DHIS2_ADMINISTRATION_2\") \n",
    "\n",
    "for (conf in snt_config_mandatory) {\n",
    "    print(paste(conf, \":\", config_json$SNT_CONFIG[conf]))\n",
    "    if (is.null(config_json$SNT_CONFIG[[conf]])) {\n",
    "        msg <- paste(\"[ERROR] Missing configuration input:\", conf)\n",
    "        cat(msg)   \n",
    "        stop(msg)\n",
    "    }\n",
    "}"
   ]
  },
  {
   "cell_type": "markdown",
   "id": "29182f25-b0cf-46aa-9818-49616cd3f353",
   "metadata": {},
   "source": [
    "**Save config fields as variables**"
   ]
  },
  {
   "cell_type": "code",
   "execution_count": null,
   "id": "c52654c8-8a19-4e0c-a83b-1bc2eecae6bc",
   "metadata": {},
   "outputs": [],
   "source": [
    "# Generic\n",
    "COUNTRY_CODE <- config_json$SNT_CONFIG$COUNTRY_CODE\n",
    "ADMIN_1 <- toupper(config_json$SNT_CONFIG$DHIS2_ADMINISTRATION_1)\n",
    "ADMIN_2 <- toupper(config_json$SNT_CONFIG$DHIS2_ADMINISTRATION_2)\n",
    "\n",
    "# Specific to INCIDENCE calculation (this nb)\n",
    "# 🚨 How to treat 0 values (in this case: \"SET_0_TO_NA\" converts 0 to NAs) 🚨\n",
    "# NA_TREATMENT <- config_json$SNT_CONFIG$NA_TREATMENT # 🚨 Used only for old method ... 🚨\n",
    "\n",
    "# Which (aggregated) indicators to use to evaluate \"activity\" of an HF - for Reporting Rate method \"ANY\"\n",
    "DHIS2_INDICATORS <- names(config_json$DHIS2_DATA_DEFINITIONS$DHIS2_INDICATOR_DEFINITIONS)"
   ]
  },
  {
   "cell_type": "code",
   "execution_count": null,
   "id": "2a0a8562-4a70-455c-9ccf-aa39f4cf4e31",
   "metadata": {},
   "outputs": [],
   "source": [
    "# Fixed routine formatting columns\n",
    "fixed_cols <- c('OU_ID','PERIOD', 'YEAR', 'MONTH', 'ADM1_ID', 'ADM2_ID') \n",
    "print(paste(\"Fixed routine data ('dhis2_routine') columns (always expected): \", paste(fixed_cols, collapse=\", \")))"
   ]
  },
  {
   "cell_type": "markdown",
   "id": "8d8d9be2-bf05-466d-811e-6beea0dccfde",
   "metadata": {},
   "source": [
    "## 2. Load Data"
   ]
  },
  {
   "cell_type": "markdown",
   "id": "0fa1b169-fc55-4ef1-b58f-6a7dc9d1dec3",
   "metadata": {},
   "source": [
    "### 2.1. **Routine** data (DHIS2) (parametrized choice)\n",
    "already formatted & aggregated (output of pipeline XXX)"
   ]
  },
  {
   "cell_type": "code",
   "execution_count": null,
   "id": "69b4ce2b-1459-40dc-994b-457815536479",
   "metadata": {},
   "outputs": [],
   "source": [
    "# ROUTINE_DATA_CHOICE <- \"raw_without_outliers\"\n",
    "# ROUTINE_DATA_CHOICE <- \"imputed\"\n",
    "# ROUTINE_DATA_CHOICE "
   ]
  },
  {
   "cell_type": "code",
   "execution_count": null,
   "id": "cec9d97c-5f48-4309-8560-dd8ca778e907",
   "metadata": {},
   "outputs": [],
   "source": [
    "# Define `dataset_name` and `file_name` based on paramaters\n",
    "\n",
    "if (ROUTINE_DATA_CHOICE == \"raw\") {\n",
    "    \n",
    "    dataset_name <- config_json$SNT_DATASET_IDENTIFIERS$DHIS2_DATASET_FORMATTED\n",
    "    file_name <- paste0(COUNTRY_CODE, \"_routine.parquet\")\n",
    "    # print(c(dataset_name, file_name))\n",
    "    \n",
    "} else if (ROUTINE_DATA_CHOICE == \"raw_without_outliers\") {\n",
    "    \n",
    "    dataset_name <- config_json$SNT_DATASET_IDENTIFIERS$DHIS2_OUTLIERS_REMOVAL_IMPUTATION\n",
    "    file_name <- paste0(COUNTRY_CODE, \"_routine_outliers-\", OUTLIER_DETECTION_METHOD, \"_removed.parquet\")\n",
    "    # print(c(dataset_name, file_name))\n",
    "\n",
    "} else if (ROUTINE_DATA_CHOICE == \"imputed\") {\n",
    "\n",
    "    dataset_name <- config_json$SNT_DATASET_IDENTIFIERS$DHIS2_OUTLIERS_REMOVAL_IMPUTATION\n",
    "    file_name <- paste0(COUNTRY_CODE, \"_routine_outliers-\", OUTLIER_DETECTION_METHOD, \"_imputed.parquet\")\n",
    "    # print(c(dataset_name, file_name))\n",
    "}\n",
    "\n",
    "print(c(dataset_name, file_name))"
   ]
  },
  {
   "cell_type": "code",
   "execution_count": null,
   "id": "30691d35-f859-4f92-8eb2-5791a425f153",
   "metadata": {},
   "outputs": [],
   "source": [
    "# Load file from dataset  \n",
    "\n",
    "dhis2_routine <- tryCatch({ get_latest_dataset_file_in_memory(dataset_name, file_name) }, \n",
    "    error = function(e) {    \n",
    "    # Check if the error message indicates that the file does not exist    \n",
    "    if (grepl(\"does not exist\", conditionMessage(e), ignore.case = TRUE)) { \n",
    "        msg <- paste0(\"[ERROR] File not found! 🛑 The file `\", file_name, \"` does not exist in `\", \n",
    "                  dataset_name, \"`. To generate it, execute the pipeline `DHIS2 Outliers Removal and Imputation`, choosing the appropriate method.\")\n",
    "    } else {\n",
    "        msg <- paste0(\"[ERROR] 🛑 Error while loading DHIS2 routine data file for: \", COUNTRY_CODE, \". [ERROR DETAILS] \" , conditionMessage(e))\n",
    "    }            \n",
    "    stop(msg)\n",
    "})\n",
    "\n",
    "msg <- paste0(\"DHIS2 routine data : `\", file_name, \"` loaded from dataset : `\", dataset_name, \"`. Dataframe dimensions: \", paste(dim(dhis2_routine), collapse=\", \"))\n",
    "log_msg(msg)"
   ]
  },
  {
   "cell_type": "code",
   "execution_count": null,
   "id": "edb2fcdc-ce0a-4c78-b06a-9f4610ab4714",
   "metadata": {},
   "outputs": [],
   "source": [
    "head(dhis2_routine, 3)"
   ]
  },
  {
   "cell_type": "markdown",
   "id": "b78c12ec-407f-4088-9a7f-08838b2d208b",
   "metadata": {},
   "source": [
    "#### Checks on routine data cols"
   ]
  },
  {
   "cell_type": "markdown",
   "id": "0bd5cb5f-325e-4fe2-acc0-41985e4623a8",
   "metadata": {},
   "source": [
    "**fixed_cols**"
   ]
  },
  {
   "cell_type": "code",
   "execution_count": null,
   "id": "b3514f20-3726-436e-b34b-7a171d1718d4",
   "metadata": {},
   "outputs": [],
   "source": [
    "# Check if all \"fixed\" cols are present in dhis2_routine\n",
    "\n",
    "actual_cols <- colnames(dhis2_routine) # dhis2_routine\n",
    "missing_cols <- setdiff(fixed_cols, actual_cols) # Columns in fixed_cols but not in actual_cols)\n",
    "\n",
    "# Check if all required columns are present\n",
    "all_present <- length(missing_cols) == 0\n",
    "\n",
    "if (all_present) { \n",
    "  log_msg(paste0(\"Success: The 'dhis2_routine' tibble contains all the expected 'fixed' columns: \",\n",
    "                paste(fixed_cols, collapse = \", \"), \".\"))\n",
    "} else {\n",
    "    log_msg(paste0(\n",
    "      \"🚨 Missing Columns: The following required columns are NOT present in 'dhis2_routine': \",\n",
    "      paste(missing_cols, collapse = \", \"),\n",
    "      \".\"\n",
    "    ), \"warning\")  # a warning is logged!\n",
    "}"
   ]
  },
  {
   "cell_type": "markdown",
   "id": "cd203dec-61b2-4510-9c84-30054e7b99e2",
   "metadata": {},
   "source": [
    "**DHIS2_INDICATORS**"
   ]
  },
  {
   "cell_type": "code",
   "execution_count": null,
   "id": "fb04b888-8c5e-452a-8eb4-96025b0fa65a",
   "metadata": {},
   "outputs": [],
   "source": [
    "# Check if all \"DHIS2_INDICATORS\" cols are present in dhis2_routine\n",
    "\n",
    "actual_cols <- colnames(dhis2_routine) # dhis2_routine\n",
    "missing_cols <- setdiff(DHIS2_INDICATORS, actual_cols) # Columns in fixed_cols but not in actual_cols)\n",
    "all_present <- length(missing_cols) == 0\n",
    "\n",
    "if (all_present) { \n",
    "  log_msg(paste0(\"Success: The 'dhis2_routine' tibble contains all the expected 'DHIS2_INDICATORS' columns: \",\n",
    "                paste(fixed_cols, collapse = \", \"), \".\"))\n",
    "} else {\n",
    "    log_msg(paste0(\n",
    "      \"🚨 Missing Columns: The following columns for DHIS2 INDICATORS are NOT present in 'dhis2_routine': \",\n",
    "      paste(missing_cols, collapse = \", \"),\n",
    "      \".\\n🚨 Looks like the \", CONFIG_FILE_NAME, \" file was modified after extraction.\\n🚨 The analysis will continue WITHOUT the missing indicators.\"\n",
    "    ), \"warning\")\n",
    "}"
   ]
  },
  {
   "cell_type": "markdown",
   "id": "3ba1a6e8-aa08-4624-a6a5-4852bf4127e4",
   "metadata": {},
   "source": [
    "#### Checks on `N1_METHOD` selected\n",
    "_**if**_ `N1_METHOD == PRES` then `PRES` must exist in config file and routine data <br>\n",
    "_**else**_ N1 will use `SUSP-TEST` instead"
   ]
  },
  {
   "cell_type": "code",
   "execution_count": null,
   "id": "ca86f502-22d2-42cd-a0db-2518bc10674e",
   "metadata": {},
   "outputs": [],
   "source": [
    "# N1_METHOD <- \"PRES\"\n",
    "# N1_METHOD <- \"SUSP-TEST\"\n",
    "# DHIS2_INDICATORS"
   ]
  },
  {
   "cell_type": "code",
   "execution_count": null,
   "id": "96a7025e-083b-464d-8498-f7fdff493293",
   "metadata": {},
   "outputs": [],
   "source": [
    "# Check that col `PRES` exists in both config file and routine data\n",
    "if (N1_METHOD == \"PRES\") {\n",
    "   pres_in_routine <- any(names(dhis2_routine) == \"PRES\")\n",
    "   pres_in_config <- any(DHIS2_INDICATORS == \"PRES\")\n",
    "\n",
    "    if (!pres_in_routine) {\n",
    "        log_msg(\"🚨 Column `PRES` missing from routine data! 🚨 N1 calculations will use `SUSP-TEST` instead!\", \"warning\")\n",
    "    }\n",
    "    if (!pres_in_config) {\n",
    "        log_msg(\"⚙️ Note: `PRES` set as parameter in this pipeline, but not defined as indicator in the configuration file (SNT_config.json)\", \"warning\")\n",
    "    }\n",
    "### set N1_METHOD to \"SUSP-TEST\" here ?\n",
    "}"
   ]
  },
  {
   "cell_type": "markdown",
   "id": "4473e75e-94d2-4f24-b6eb-38a7685542ad",
   "metadata": {},
   "source": [
    "### 2.2. **Population** data (DHIS2) at **ADM2** x **YEAR** level \n",
    "already formatted & aggregated (output of pipeline YYY) and then further aggregated in `pipelines/dhis2_incidence/code/WIP/00_TEMP_population_formatting.ipynb`\n",
    "\n",
    "Note: must run **00_TEMP_population_formatting**.ipynb first!"
   ]
  },
  {
   "cell_type": "markdown",
   "id": "a9960f75-fad3-47d7-9b57-1eecaec4043d",
   "metadata": {},
   "source": [
    "🚨 **Expected table** with these cols (bold = **must have**): ADM1_ID, **ADM2_ID**,**YEAR**, **POPULATION** (pop at ADM2 level)"
   ]
  },
  {
   "cell_type": "code",
   "execution_count": null,
   "id": "5ce922c7-6dab-44cf-a94f-8a03d1f816a1",
   "metadata": {},
   "outputs": [],
   "source": [
    "# DHIS2 Dataset extract identifier\n",
    "dhis2_formatted_dataset <- config_json$SNT_DATASET_IDENTIFIERS$DHIS2_DATASET_FORMATTED\n",
    "\n",
    "# Load file from dataset\n",
    "dhis2_population_adm2 <- tryCatch({ get_latest_dataset_file_in_memory(dhis2_formatted_dataset, paste0(COUNTRY_CODE, \"_population.parquet\")) }, \n",
    "                  error = function(e) {\n",
    "                      msg <- paste(\"[ERROR] Error while loading DHIS2 population file for: \" , COUNTRY_CODE, \n",
    "                                   \" [ERROR DETAILS] \", conditionMessage(e))  # log error message\n",
    "                      cat(msg)\n",
    "                      stop(msg)\n",
    "})\n",
    "\n",
    "msg <- paste0(\"DHIS2 population data loaded from dataset : \", dhis2_formatted_dataset, \n",
    "              \" dataframe dimensions: \", paste(dim(dhis2_population_adm2), collapse=\", \"))\n",
    "log_msg(msg)"
   ]
  },
  {
   "cell_type": "code",
   "execution_count": null,
   "id": "5a7e5b4c-47a9-4f8f-8beb-619dfa919033",
   "metadata": {},
   "outputs": [],
   "source": [
    "head(dhis2_population_adm2, 3)"
   ]
  },
  {
   "cell_type": "markdown",
   "id": "b42a65ab-ad8d-41ba-9edb-dc2636f03a06",
   "metadata": {},
   "source": [
    "### 2.3. (optional) **Care Seeking Behaviour** (CSB DHS) (taux recherche soins)\n",
    "(20250728) Note: **changed units** (proportion to %), see https://bluesquare.atlassian.net/browse/SNT25-127 "
   ]
  },
  {
   "cell_type": "code",
   "execution_count": null,
   "id": "0a6a5338-9ffd-47d2-b92f-79deb7886078",
   "metadata": {},
   "outputs": [],
   "source": [
    "dataset_name <- config_json$SNT_DATASET_IDENTIFIERS$DHS_INDICATORS\n",
    "file_name <- glue::glue(\"{COUNTRY_CODE}_DHS_ADM1_PCT_CARESEEKING_SAMPLE_AVERAGE.parquet\")\n",
    "\n",
    "if (USE_CSB_DATA == TRUE) {\n",
    "    # Read the data, if error (cannot find at defined path) -> set careseeking_data to NULL (so it doesn't break the function at # 3.)\n",
    "    careseeking_data <- tryCatch({ get_latest_dataset_file_in_memory(dataset_name, file_name) },          \n",
    "                  error = function(e) {\n",
    "                      msg <- paste(\"🛑 Error while loading DHS Care Seeking data file from `\", dataset_name, file_name ,\"`.\", conditionMessage(e))  # log error message\n",
    "                      log_msg(msg, \"error\")\n",
    "                      return(NULL) # make object NULL on error\n",
    "                  })\n",
    " \n",
    "    # Only print success messages and data info if careseeking_data is NOT NULL\n",
    "    if (!is.null(careseeking_data)) {\n",
    "        log_msg(paste0(\"Care Seeking data : \", file_name, \" loaded from dataset : \", dataset_name))\n",
    "        log_msg(paste0(\"Care Seeking data frame dimensions: \", nrow(careseeking_data), \" rows, \", ncol(careseeking_data), \" columns.\"))\n",
    "        head(careseeking_data)\n",
    "    } else {\n",
    "        log_msg(paste0(\"🚨 Care-seeking data not loaded due to an error, `careseeking_data` is set to `NULL`!\"), \"warning\")\n",
    "    }\n",
    "    \n",
    "} else {\n",
    "    # if `USE_CSB_DATA == FALSE` ... (basically, ignore CSB data)\n",
    "    careseeking_data <- NULL\n",
    "}"
   ]
  },
  {
   "cell_type": "markdown",
   "id": "92723594-000b-41ee-82a1-8e69106a277d",
   "metadata": {},
   "source": [
    "### 2.4. **Reporting Rate** (parametrized choice)  \n",
    "Import Reporting Rate file based on user choice (parameter)\n",
    "\n",
    "📅 **Important**: reporting rate must be **monthly**!"
   ]
  },
  {
   "cell_type": "code",
   "execution_count": null,
   "id": "8f51cf29-6d1d-4df5-abca-bc1e7c6760fb",
   "metadata": {},
   "outputs": [],
   "source": [
    "# REPORTING_RATE_METHOD = \"dataset\"\n",
    "# REPORTING_RATE_METHOD = \"dataelement\"\n",
    "REPORTING_RATE_METHOD"
   ]
  },
  {
   "cell_type": "code",
   "execution_count": null,
   "id": "db187f25-d289-42cb-8a06-5ea9fa676425",
   "metadata": {},
   "outputs": [],
   "source": [
    "# Define dataset and file name (based on paramter)\n",
    "dataset_name <- config_json$SNT_DATASET_IDENTIFIERS$DHIS2_REPORTING_RATE\n",
    "file_name <- paste0(COUNTRY_CODE, \"_reporting_rate_\", REPORTING_RATE_METHOD, \".parquet\") # \"_month.parquet\"\n",
    "\n",
    "print(c(dataset_name, file_name))"
   ]
  },
  {
   "cell_type": "code",
   "execution_count": null,
   "id": "78ee4eef-4be2-467d-ba44-dfacd7d0bdb5",
   "metadata": {},
   "outputs": [],
   "source": [
    "# Define dataset and file name (based on paramter)\n",
    "dataset_name <- config_json$SNT_DATASET_IDENTIFIERS$DHIS2_REPORTING_RATE\n",
    "\n",
    "if (REPORTING_RATE_METHOD == \"dataelement\") { \n",
    "    # COD_reporting_rate_dataelement-n1-d1.parquet\n",
    "    file_name <- paste0(COUNTRY_CODE, \"_reporting_rate_\", \n",
    "                        REPORTING_RATE_METHOD, \"-\", REPRATE_DELEMENT_METHOD_NUMERATOR, \"-\", REPRATE_DELEMENT_METHOD_DENOMINATOR, \".parquet\") \n",
    "} else {\n",
    "    file_name <- paste0(COUNTRY_CODE, \"_reporting_rate_\", REPORTING_RATE_METHOD, \".parquet\") \n",
    "}\n",
    "\n",
    "print(c(dataset_name, file_name))"
   ]
  },
  {
   "cell_type": "code",
   "execution_count": null,
   "id": "d5722d64-ce61-4244-960e-57ebac28e4cf",
   "metadata": {},
   "outputs": [],
   "source": [
    "# Load file from dataset\n",
    "reporting_rate_month <- tryCatch({ get_latest_dataset_file_in_memory(dataset_name, file_name) }, \n",
    "                        error = function(e) {\n",
    "                        msg <- paste(\"[ERROR] Error while loading Reporting Rate data for: \" , COUNTRY_CODE, conditionMessage(e))  # log error message\n",
    "                        cat(msg)\n",
    "                        stop(msg)\n",
    "})\n",
    "\n",
    "msg <- paste0(\"Reporting Rate data : `\", file_name, \"` loaded from dataset : `\", dataset_name, \"`. Dataframe dimensions: \", paste(dim(reporting_rate_month), collapse=\", \"))\n",
    "log_msg(msg)"
   ]
  },
  {
   "cell_type": "markdown",
   "id": "9d2529ad-8436-43c4-85b3-ed1ad9621e1e",
   "metadata": {},
   "source": [
    "#### 🔍 Check: cols and data type"
   ]
  },
  {
   "cell_type": "code",
   "execution_count": null,
   "id": "0a38a8d9-4cd5-4f7e-8ffd-b24f4429aaa1",
   "metadata": {},
   "outputs": [],
   "source": [
    "# --- 0. Start validation (checks on) `reporting_rate_month` content ------------------------------\n",
    "\n",
    "# Start message ...\n",
    "dataset_name <- config_json$SNT_DATASET_IDENTIFIERS$DHIS2_REPORTING_RATE # \"snt-dhis2-reporting-rate\" \n",
    "msg <- paste(\"Checking requirements for `\", file_name, \"` ... \") # log error message\n",
    "log_msg(msg) \n",
    "\n",
    "# --- 1. All expected cols are there? ------------------------------\n",
    "required_cols <- c(\"ADM2_ID\", \"YEAR\", \"MONTH\", \"REPORTING_RATE\")\n",
    "missing_cols <- setdiff(required_cols, names(reporting_rate_month))\n",
    "if (length(missing_cols) > 0) {\n",
    "  stop(paste(\"Missing required columns:\", paste(missing_cols, collapse = \", \")))\n",
    "}\n",
    "\n",
    "# --- 2. Values type match with expected? ------------------------------\n",
    "\n",
    "# Initialize list of errors (stop) and warnings (issue message)\n",
    "validation_errors <- list()\n",
    "validation_warnings <- list()\n",
    "\n",
    "# Check YEAR is integer (or can be converted), and is recent (current year - 5)\n",
    "current_year <- as.integer(format(Sys.Date(), \"%Y\"))\n",
    "min_valid_year <- current_year - 5\n",
    "\n",
    "reporting_rate_month <- reporting_rate_month %>%\n",
    "  mutate(YEAR = suppressWarnings(as.integer(YEAR)))\n",
    "\n",
    "if (any(is.na(reporting_rate_month$YEAR))) {\n",
    "  validation_errors <- c(validation_errors, \"YEAR contains non-integer values\")\n",
    "} else if (any(reporting_rate_month$YEAR < min_valid_year, na.rm = TRUE)) {\n",
    "  validation_errors <- c(validation_errors,\n",
    "                         paste(\"Some YEAR values are too old (minimum valid year is\", min_valid_year,\n",
    "                               \"). Found years:\",\n",
    "                               paste(unique(reporting_rate_month$YEAR[reporting_rate_month$YEAR < min_valid_year]), collapse = \", \")))\n",
    "}\n",
    "\n",
    "# Check MONTH is integer or can be converted to, and ranges betweeen 1 and 12\n",
    "# maybe not needed ...\n",
    "\n",
    "# Check REPORTING_RATE is numeric between 0 and 1\n",
    "if (!is.numeric(reporting_rate_month$REPORTING_RATE)) {\n",
    "  validation_errors <- c(validation_errors, \"REPORTING_RATE must be numeric\")\n",
    "} else if (any(reporting_rate_month$REPORTING_RATE < 0 | reporting_rate_month$REPORTING_RATE > 1, na.rm = TRUE)) {\n",
    "  validation_warnings <- c(validation_warnings, \"`REPORTING_RATE` should be between 0 and 1, but some values are >1.\")\n",
    "}\n",
    "\n",
    "# Report any validation errors and STOP the process\n",
    "if (length(validation_errors) > 0) {\n",
    "  stop(paste(\"[ERROR] 🛑 Data validation for `\", file_name, \"` FAILED: \", paste(validation_errors, collapse = \" \"))) \n",
    "}\n",
    "\n",
    "\n",
    "# Report any warnings and print message (do not stop the process)\n",
    "if (length(validation_warnings) > 0) {\n",
    "  # Create the warning message string\n",
    "  warning_msg_string <- paste(\"🚨 Warning: \", paste(validation_warnings, collapse = \" \")) # collapse = \"\\n\"\n",
    "  log_msg(warning_msg_string, \"warning\") \n",
    "} else {\n",
    "  success_msg_string <- \" ... all looks good! We can proceed 🚀\"\n",
    "  log_msg(success_msg_string) \n",
    "}"
   ]
  },
  {
   "cell_type": "markdown",
   "id": "c832da26-fe0c-43fe-8300-2fff5c4cbf34",
   "metadata": {},
   "source": [
    "### 2.5. **Shapes** for plotting maps (choropleths)"
   ]
  },
  {
   "cell_type": "code",
   "execution_count": null,
   "id": "374f0d8c-24fb-45e0-8dab-a4835cc865e6",
   "metadata": {},
   "outputs": [],
   "source": [
    "# DHIS2 Dataset extract identifier\n",
    "dataset_name <- config_json$SNT_DATASET_IDENTIFIERS$DHIS2_DATASET_FORMATTED\n",
    "\n",
    "# Load file from dataset\n",
    "dhis2_shapes <- tryCatch({ get_latest_dataset_file_in_memory(dataset_name, paste0(COUNTRY_CODE, \"_shapes.geojson\")) }, \n",
    "                  error = function(e) {\n",
    "                      msg <- paste0(\"[ERROR] Error while loading DHIS2 shapes data file for: \" , COUNTRY_CODE, \". [ERROR DETAILS] \",\n",
    "                                    conditionMessage(e))  # log error message\n",
    "                      cat(msg)\n",
    "                      stop(msg)\n",
    "})\n",
    "\n",
    "msg <- paste0(\"DHIS2 shapes data loaded from dataset : `\", dataset_name, \"`. Dataframe dimensions: \", paste(dim(dhis2_shapes), collapse = \", \"))\n",
    "log_msg(msg)"
   ]
  },
  {
   "cell_type": "code",
   "execution_count": null,
   "id": "ffa799a2-f5e5-4ba6-b310-71802787d21b",
   "metadata": {},
   "outputs": [],
   "source": [
    "names(dhis2_shapes)"
   ]
  },
  {
   "cell_type": "markdown",
   "id": "ead9c21b-c8ec-441a-85ab-498524755683",
   "metadata": {},
   "source": [
    "#### 🛑 ESTEBAN MSG: I labeled the messages until here onyl :(   \n",
    "\n",
    "Changes :  \n",
    "-Add the severity of msg using the log_msg(\"error message text\", \"error or warning\")  \n",
    "-Label the errors that will stop the process. These errors will be passed to the python pipeline code to be logged.  \n",
    "The structure of the \"labeling\" is \"[ERROR] Some message text here. [ERROR DETAILS] some details\" -> usually i just add conditionMessage(e) here\"  \n",
    "The python code will catch the error and search for these labels and print (depending on the severity assigned in the python code) something like this:  \n",
    "-> \"Some message text here. some details\" (the  label [ERROR DETAILS] is optional only..) \n",
    "\n",
    "  \n",
    "After updating the script remember to push it to the main branch under the corresponding folder under pipelines/"
   ]
  },
  {
   "cell_type": "markdown",
   "id": "06f0ebcc-6b87-4d77-98ef-7b8d84be6a0a",
   "metadata": {},
   "source": [
    "-------------------------------"
   ]
  },
  {
   "cell_type": "markdown",
   "id": "9943c1e5-4d95-4210-8b77-09c4085a96b8",
   "metadata": {},
   "source": [
    "## 3. Calculate Incidence\n",
    "First calculate monthly cases, then yearly incidence."
   ]
  },
  {
   "cell_type": "markdown",
   "id": "8769a974-de8a-4a1f-8f74-edb318a28060",
   "metadata": {},
   "source": [
    "### 3.1 **Monthly cases**\n",
    "\n",
    "\n",
    "These methods follow the standard WHO approach for estimating malaria incidence from routine health information systems (WHO, 2023).\n",
    "As shown in the code, we begin by calculating **monthly malaria case metrics** (confirmed, tested, presumed) at the **ADM2** level and join them with the **monthly reporting rate**. \n",
    "\n",
    "This allows us to compute the **test positivity rate** (TPR, where `TPR` = `CONF` / `TEST`) and adjust for incomplete testing using the formula: \n",
    "> N1 = C + (P × C/T)\n",
    "\n",
    "Which is equivalent to:\n",
    "> N1 = C + (P × TPR)\n",
    "\n",
    "where:\n",
    "- N1 = cases adjusted for testing gaps \n",
    "- C = confirmed cases (`CONF`)\n",
    "- **P** = presumed cases (either `SUSP` - `TEST` or directly available as `PRES`) <-- this is a parameter (`N1_METHOD`)\n",
    "- T = tested cases (`TEST`)\n",
    "- TPR = test positivity rate (`CONF` / `TEST`)\n",
    "  \n",
    "This produces `N1`, the number of cases adjusted for testing gaps, calculated at the monthly level in line with WHO recommendations to capture intra-annual variation.\n",
    "\n",
    "Next, we adjust for incomplete reporting using: \n",
    "> N2 = N1 / R\n",
    "\n",
    "where **R** is the monthly **reporting rate** (i.e., reports received divided by reports expected).\n",
    "\n",
    "Finally, _if_ **careseeking** data is **available**, N3 is calculated as follows:\n",
    "> N3 = N2 + (N2 * PROP_PRIV / PROP_PUBL) + (N2 * NO_TREAT / PROP_PUBL)\n",
    "\n",
    "where:\n",
    "- PRIVATE_CARE = proportion of kids treated in the **private** sector\n",
    "- PUBLIC_CARE = proportion of kids treated in the **public** sector\n",
    "- NO_CARE = proportion of kids which **did not receive any treatment**\n",
    "\n",
    "Note that this assumes the same TPR across all sectors (private and public).\n",
    "\n",
    "\n",
    "\n",
    "**Important note**<br>\n",
    "In case reporting rate equals zero (none of the health facilities reported in a given month), N2 is set to `NA`. Note that the annual N2 will be underestimated, which is preferable compared to having `Inf` values.\n",
    "\n",
    "-------------"
   ]
  },
  {
   "cell_type": "markdown",
   "id": "dcee32af-ae6d-4b2a-9c7a-f846209f1dc3",
   "metadata": {},
   "source": [
    "This calculation expects (input):\n",
    "* **routine_data**: DHIS2 routine data, formatted and aggregated at ADM2 and MONTH level. Tibble (df) _must_ contain the following cols: `YEAR`, `MONTH`, `ADM2`, `CONF`, `TEST`, `SUSP`, `PRES`.  \n",
    "* **reporting_rate_data**: reporting rate calculated at ADM2 and MONTH level and expressed as proprtion **(0-1)**. Tibble (df) _must_ contain the following cols: `ADM2`, `YEAR`, `MONTH`, `reporting_rate`\n",
    "\n",
    "The calculation produces (output):\n",
    "* data frame with the following cols: `ADM2`, `YEAR`, `MONTH`, \"value_\" * (`CONF`, `TEST`, `SUSP`, `PRES`), `TPR`, `N1`, `N2`\n",
    "\n",
    "-----------------"
   ]
  },
  {
   "cell_type": "code",
   "execution_count": null,
   "id": "a1a0899a-3308-4d90-b06e-8a0cd4b849e1",
   "metadata": {},
   "outputs": [],
   "source": [
    "# Ensure correct data type for numerical columns ---------------------------------------\n",
    "routine_data <- dhis2_routine %>%\n",
    "    mutate(across(any_of(c(\"YEAR\", \"MONTH\", \"CONF\", \"TEST\", \"SUSP\", \"PRES\")), as.numeric))\n",
    "\n",
    "reporting_rate_data <- reporting_rate_month %>% # reporting_rate_data\n",
    "    mutate(across(c(YEAR, MONTH, REPORTING_RATE), as.numeric))"
   ]
  },
  {
   "cell_type": "code",
   "execution_count": null,
   "id": "008cc742-1dda-404c-a89a-c208c303f413",
   "metadata": {},
   "outputs": [],
   "source": [
    "# Core calculations ------------------------------------------------------------------------------\n",
    "monthly_cases <- routine_data %>%\n",
    "    group_by(ADM1_ID, ADM2_ID, YEAR, MONTH) %>% # ADM1 needed to join careseeking data\n",
    "    summarise(\n",
    "      CONF = sum(CONF, na.rm = TRUE),\n",
    "      TEST = sum(TEST, na.rm = TRUE),\n",
    "      SUSP = sum(SUSP, na.rm = TRUE),\n",
    "      # Same as `PRES = sum(PRES, na.rm = TRUE)`, but doesn't break if `PRES` is missing!\n",
    "      across(any_of(\"PRES\"), ~sum(., na.rm = TRUE), .names = \"PRES\"), # <- handles missing 'PRES' column gracefully\n",
    "      .groups = \"drop\"\n",
    "    ) %>%\n",
    "    left_join(reporting_rate_data,\n",
    "              by = c(\"ADM2_ID\", \"YEAR\", \"MONTH\")) %>%\n",
    "    mutate(\n",
    "      TPR = CONF / TEST\n",
    "    )"
   ]
  },
  {
   "cell_type": "code",
   "execution_count": null,
   "id": "ead591bb-3936-486d-bb9e-7b01d0805d0d",
   "metadata": {},
   "outputs": [],
   "source": [
    "# Calculate N1 based on `N1_METHOD` & availability of `PRES` -----------------------------\n",
    "\n",
    "if (N1_METHOD == \"SUSP-TEST\") {\n",
    "    monthly_cases <- monthly_cases %>%\n",
    "      mutate(N1 = CONF + ((SUSP - TEST) * TPR))\n",
    "      log_msg(\"Calculating N1 as `N1 = CONF + ((SUSP - TEST) * TPR)`\")\n",
    "  } else if (N1_METHOD == \"PRES\") {\n",
    "    # if: column named \"PRES\" exists in `monthly_cases` and contains at least one non-missing value\n",
    "    if (\"PRES\" %in% names(monthly_cases) && !all(is.na(monthly_cases$PRES))) {\n",
    "      monthly_cases <- monthly_cases %>%\n",
    "        mutate(N1 = CONF + (PRES * TPR))\n",
    "        log_msg(\"Calculating N1 as `N1 = CONF + (PRES * TPR)`\")\n",
    "    } else {\n",
    "      log_msg(\"🚨 Warning: 'PRES' not found in routine data or contains all `NA` values! 🚨 Calculating N1 using 'SUSP-TEST' method instead.\")\n",
    "      monthly_cases <- monthly_cases %>%\n",
    "        mutate(N1 = CONF + ((SUSP - TEST) * TPR))\n",
    "    }\n",
    "  } else {\n",
    "    log_msg(\"Invalid N1_METHOD. Please use 'PRES' or 'SUSP-TEST'.\") # not really necessary ... \n",
    "  }\n",
    "\n",
    "\n",
    "# Calculate N2\n",
    "monthly_cases <- monthly_cases %>%\n",
    "    mutate(\n",
    "      N2 = ifelse(REPORTING_RATE == 0, NA_real_, N1 / REPORTING_RATE) # On the fly convert `RR == 0` to NA to avoid N2 == Inf\n",
    "    )"
   ]
  },
  {
   "cell_type": "code",
   "execution_count": null,
   "id": "7aa926ed-99ea-474c-988e-8151d6b12002",
   "metadata": {},
   "outputs": [],
   "source": [
    "# Only calculate N3 if CARESEEKING data is avaiable ---------------------------------------\n",
    "\n",
    "if (!is.null(careseeking_data)) {\n",
    "    monthly_cases <- monthly_cases %>%\n",
    "      mutate(YEAR = as.numeric(YEAR)) %>% # keep as safety\n",
    "      left_join(., careseeking_data,\n",
    "                by = c(\"ADM1_ID\")\n",
    "      ) %>%\n",
    "      mutate(\n",
    "        # N3 = N2 + (N2 * PRIVATE_CARE / PUBLIC_CARE) + (N2 * NO_CARE / PUBLIC_CARE) # Formula from Rapport Stratification Burkina\n",
    "        N3 = N2 + (N2 * PCT_PRIVATE_CARE / PCT_PUBLIC_CARE) + (N2 * PCT_NO_CARE / PCT_PUBLIC_CARE) # CSB values changed from PROPORTION to %, but formula uses ratios so nothing should change\n",
    "      )\n",
    "  } else {\n",
    "    print(\"🦘 Careseeking data not available, skipping calculation of N3.\")\n",
    "  }"
   ]
  },
  {
   "cell_type": "code",
   "execution_count": null,
   "id": "debb1745-5066-4126-8a15-853b21ee8776",
   "metadata": {},
   "outputs": [],
   "source": [
    "# 'verbose': print reporting message ---------------------------------------\n",
    "\n",
    "zero_reporting <- reporting_rate_data %>%\n",
    "      filter(REPORTING_RATE == 0) %>%\n",
    "      summarise(\n",
    "        n_months_zero_reporting = n(),\n",
    "        affected_zones = n_distinct(ADM2_ID)\n",
    "      )\n",
    "\n",
    "if (zero_reporting$n_months_zero_reporting > 0) {\n",
    "      msg_verbose <- paste0(\"🚨 Note: \", zero_reporting$n_months_zero_reporting,\n",
    "                            \" ADM2 had `REPORTING_RATE == 0` across \",\n",
    "                            zero_reporting$affected_zones, \" zones. These N2 values were set to NA.\")\n",
    "\n",
    "      log_msg(msg_verbose)\n",
    "    } else {\n",
    "      log_msg(\"✅ Note: no ADM2 has `REPORTING_RATE == 0`. All N2 values were preserved.\")\n",
    "    }"
   ]
  },
  {
   "cell_type": "code",
   "execution_count": null,
   "id": "a67ddc0e-40ea-41d7-9fef-5e05d9594956",
   "metadata": {},
   "outputs": [],
   "source": [
    "head(monthly_cases, 3)"
   ]
  },
  {
   "cell_type": "markdown",
   "id": "7b50302e-20af-4fa6-8e8c-1e3a6c763ea2",
   "metadata": {},
   "source": [
    "### 🔍 Data **coherence** checks on **monthly cases**\n",
    "Check for ratios or differences that will cause negative values -> which will causes adjusted incidence to be lower than the values it adjust\n",
    "\n",
    "\n",
    "Namely, the following relationships among INDICATORs:\n",
    "* SUSP-TEST\n",
    "* CONF/TEST\n",
    "* N1 == CONF ... (when PRES == 0)"
   ]
  },
  {
   "cell_type": "markdown",
   "id": "e9f7ae73-46f6-4c78-9bb2-fdcfbd591b10",
   "metadata": {},
   "source": [
    "#### 1. `PRES == 0`: causes `N1 == CONF` \n",
    "(if `N1_METHOD == \"PRES\"`)"
   ]
  },
  {
   "cell_type": "code",
   "execution_count": null,
   "id": "495fe18a-50ad-4eff-8669-135c63a7c8dd",
   "metadata": {},
   "outputs": [],
   "source": [
    "# Run this check only if N1_METHOD == \"PRES\" (else, problem doesn't exist)\n",
    "if (N1_METHOD == \"PRES\") {\n",
    "    nr_of_pres_0_adm2_month <- monthly_cases |> filter(PRES == 0) |> nrow()\n",
    "    log_msg(glue::glue(\"🚨 Note: using `PRES` for incidence adjustement, but `PRES == 0` for {nr_of_pres_0_adm2_month} rows (ADM2 x MONTH).\"), \"warning\")\n",
    "}\n"
   ]
  },
  {
   "cell_type": "markdown",
   "id": "e12e744b-540e-462c-a16e-edbb05ddc047",
   "metadata": {},
   "source": [
    "#### 2. `SUSP-TEST`: if negative, then N1 smaller or equal to CONF (ADJ =< CRUDE)\n",
    "(if `N1_METHOD == \"SUSP-TEST\"`)"
   ]
  },
  {
   "cell_type": "code",
   "execution_count": null,
   "id": "49de98f1-2424-440e-922f-72d7702dd894",
   "metadata": {},
   "outputs": [],
   "source": [
    "# SUSP-TEST: if negative, then N1 smaller or equal to CONF (ADJ =< CRUDE)\n",
    "if (N1_METHOD == \"SUSP-TEST\") {\n",
    "    nr_of_negative <- monthly_cases |> mutate(SUSP_minus_TEST = SUSP - TEST) |> filter(SUSP_minus_TEST < 0) |> nrow() \n",
    "    log_msg(glue::glue(\n",
    "        \"🚨 Note: using `SUSP-TEST` for incidence adjustement, but higher tested than suspected cases (`SUSP - TEST < 0`) detected in {nr_of_negative} rows (ADM2 x MONTH).\"\n",
    "    ), \"warning\")\n",
    "}"
   ]
  },
  {
   "cell_type": "markdown",
   "id": "d72d7545-9afa-45c6-9efd-2619aecfc794",
   "metadata": {},
   "source": [
    "#### 3. `CONF/TEST` = `TPR` (to calculate N1: Incidence adjusted for **Testing**)\n",
    "This **ratio should** always be **< 1** because **there should _not_ be more confirmed cases than tested** ...\n",
    "\n",
    "(but if very small, then N1 could be smaller or equal to CONF (so ADJ INC =< CRUDE))"
   ]
  },
  {
   "cell_type": "code",
   "execution_count": null,
   "id": "9cc60295-5046-4932-b332-965fd320f72e",
   "metadata": {},
   "outputs": [],
   "source": [
    "# CONF/TEST = \"TPR\": should always be < 1 because there should not be more confirmed cases than tested ...\n",
    "#             (but if very small, then N1 could be smaller or equal to CONF (so ADJ INC =< CRUDE))\n",
    "\n",
    "more_confirmed_than_tested <- monthly_cases |> mutate(CONF_divby_TEST = CONF / TEST) |> filter(CONF_divby_TEST > 1) |> nrow() \n",
    "\n",
    "if (more_confirmed_than_tested > 0) {\n",
    "    log_msg(glue::glue(\"🚨 Note: higher confirmed than tested cases (`CONF/TEST`) detected in {more_confirmed_than_tested} rows (ADM2 x MONTH).\"), \"warning\")\n",
    "}"
   ]
  },
  {
   "cell_type": "markdown",
   "id": "acbabb99-07ce-4054-a702-2d3cd59c328e",
   "metadata": {},
   "source": [
    "### 3.2 **Yearly incidence**\n",
    "After calculating N1 and N2 for each `ADM2`-`MONTH`, we aggregate the data annually to compute the yearly totals (sums) for crude cases (`CONF`), `N1` and `N2`. Finally, we compute:\n",
    "* Crude incidence: C / POP × 1000\n",
    "* Incidence adjusted for testing: N1 / POP × 1000\n",
    "* Incidence adjusted for testing and reporting: N2 / POP × 1000\n",
    "* Incidence adjusted for testing, reporting and careseeking behaviour (optional): N3 / POP × 1000\n",
    "\n",
    "--------------"
   ]
  },
  {
   "cell_type": "markdown",
   "id": "d47a3908-71cb-4e79-8771-f6caceae4ce2",
   "metadata": {},
   "source": [
    "The calculation expects (input):\n",
    "* **case_data**: as the output of `calculate_monthly_cases()`, or a tibble/data frame with the following cols: `ADM2`, `YEAR`, `MONTH`, \"value_\" * (CONF, TEST, SUSP, PRES), `TPR`, `N1`, `N2`  \n",
    "* **population_data**: df of population data formatted and aligned, aggregated at ADM2 and YEAR level. A tibble/data frame that _must_ contain the following cols: `ADM2`, `YEAR`, `POPULATION`\n",
    "\n",
    "The calculation produces (output): \n",
    "* a data frame with the following cols: ADM2_ID, YEAR, CONF, N1, N2, `INCIDENCE_CRUDE`, `INCIDENCE_ADJ_TESTING`, `INCIDENCE_ADJ_REPORTING`\n",
    "\n",
    "--------------------"
   ]
  },
  {
   "cell_type": "code",
   "execution_count": null,
   "id": "f8753721-067b-4da3-8305-8d98f823454f",
   "metadata": {},
   "outputs": [],
   "source": [
    "# ---- 1. Enforce column types upfront ----\n",
    "case_data <- monthly_cases %>% \n",
    "    mutate(across(where(is.numeric), as.numeric))  # Convert all numeric columns\n",
    "  \n",
    "population_data <- dhis2_population_adm2 %>% # population_data\n",
    "    mutate(across(c(YEAR, POPULATION), as.numeric))"
   ]
  },
  {
   "cell_type": "code",
   "execution_count": null,
   "id": "e4a9ea81-4f7c-4505-8847-07de13831a42",
   "metadata": {},
   "outputs": [],
   "source": [
    "# ---- 2. Core calculation ----\n",
    "yearly_incidence <- case_data %>%\n",
    "    group_by(ADM2_ID, YEAR) %>%\n",
    "    summarise(\n",
    "        # 🚨 removed `na.rm = TRUE` on 20250702 - if things break check here! 🚨 \n",
    "      across(c(CONF, N1, N2), ~sum(.)), #, na.rm = TRUE)), # 🔍 PROBLEM: if NA's, the sum of N2 by YEAR is smaller than the sum of N1 cos missing data for RR!\n",
    "      # across(any_of(c(\"CONF\", \"TEST\", \"SUSP\", \"PRES\", \"N1\", \"N2\")), ~sum(.)), # silenced as not necessary to also summarize \"TEST\", \"SUSP\", \"PRES\"\n",
    "      .groups = \"drop\"\n",
    "    ) %>%\n",
    "    left_join(\n",
    "      population_data,\n",
    "      by = c(\"ADM2_ID\", \"YEAR\")\n",
    "    ) %>%\n",
    "    mutate(\n",
    "      INCIDENCE_CRUDE = CONF / POPULATION * 1000,\n",
    "      INCIDENCE_ADJ_TESTING = N1 / POPULATION * 1000,\n",
    "      INCIDENCE_ADJ_REPORTING = N2 / POPULATION * 1000\n",
    "    ) |>\n",
    "    ungroup()"
   ]
  },
  {
   "cell_type": "code",
   "execution_count": null,
   "id": "c712f4c2-d677-4d22-8298-111aa0a93034",
   "metadata": {},
   "outputs": [],
   "source": [
    "# ---- 3. Optional careseeking adjustment ----\n",
    "if (!is.null(careseeking_data) && \"N3\" %in% names(case_data)) {\n",
    "    n3_data <- case_data %>%\n",
    "      group_by(ADM2_ID, YEAR) %>%\n",
    "      summarise(N3 = sum(N3, na.rm = TRUE),\n",
    "                .groups = \"drop\") |>\n",
    "      ungroup()\n",
    "    \n",
    "    yearly_incidence <- yearly_incidence %>%\n",
    "      left_join(n3_data, by = c(\"ADM2_ID\", \"YEAR\")) %>%\n",
    "      mutate(\n",
    "        INCIDENCE_ADJ_CARESEEKING = N3 / POPULATION * 1000\n",
    "      )\n",
    "  } else {\n",
    "    yearly_incidence <- yearly_incidence |>\n",
    "      mutate(\n",
    "        INCIDENCE_ADJ_CARESEEKING = NA\n",
    "            )\n",
    "  }"
   ]
  },
  {
   "cell_type": "code",
   "execution_count": null,
   "id": "56001b15-f74e-42d9-bfa2-bd5563b6a512",
   "metadata": {},
   "outputs": [],
   "source": [
    "head(yearly_incidence, 3)"
   ]
  },
  {
   "cell_type": "markdown",
   "id": "7976f894-daf4-46c3-9fa1-5303cbba0818",
   "metadata": {},
   "source": [
    "### 🔍 Data **coherence** checks on **yearly incidence**\n",
    "Here we check if values of Indicidence (already at `YEAR` resolution) make sense in relation to each other.<br>\n",
    "Namely:\n",
    "* crude values should be the lowest, and any consecutive **adjustment** should cause the incidence values to **increase** or remain the **same** - but should never be lower!"
   ]
  },
  {
   "cell_type": "markdown",
   "id": "d3dfac34-86f5-4f8c-add9-f54485259924",
   "metadata": {},
   "source": [
    "#### 1. `INCIDENCE_ADJ_TESTING` (adj. level 1) should always be greater than `INCIDENCE_CRUDE` (not adjusted)"
   ]
  },
  {
   "cell_type": "code",
   "execution_count": null,
   "id": "acb03778-f1db-4f28-9b09-3cd8d815f976",
   "metadata": {},
   "outputs": [],
   "source": [
    "# same as below but different cols ... \n",
    "# Count TRUE values, handling potential NAs in the result of if_else\n",
    "nr_of_impossible_values <- yearly_incidence |>\n",
    "  mutate(IMPOSSIBLE_VALUE = if_else(INCIDENCE_ADJ_TESTING < INCIDENCE_CRUDE, TRUE, FALSE)) |>\n",
    "  pull(IMPOSSIBLE_VALUE) |>\n",
    "  sum(na.rm = TRUE) \n",
    "\n",
    "# Warning if any impossible values are found\n",
    "if (nr_of_impossible_values > 0) {\n",
    "  log_msg(glue::glue(\"🚨 Warning: found {nr_of_impossible_values} rows where INCIDENCE_ADJ_TESTING < INCIDENCE_CRUDE!\"), \"warning\")\n",
    "} else log_msg(\"✅ For all YEAR and ADM2, `INCIDENCE_CRUDE` is smaller than `INCIDENCE_ADJ_TESTING` (as expected).\")\n",
    "\n",
    "# Check if all values in a column are NA\n",
    "if (all(is.na(yearly_incidence$INCIDENCE_ADJ_TESTING))) {\n",
    "  log_msg(\"🚨 Warning: all values of `INCIDENCE_ADJ_TESTING` are `NA`s\", \"warning\")\n",
    "}\n"
   ]
  },
  {
   "cell_type": "markdown",
   "id": "827d1e84-7f43-404c-88cc-9b675bfa48a1",
   "metadata": {},
   "source": [
    "#### 2. `INCIDENCE_ADJ_REPORTING` (adj. level 2) should always be greater than `INCIDENCE_ADJ_TESTING` (adj. level 1)"
   ]
  },
  {
   "cell_type": "code",
   "execution_count": null,
   "id": "8b1da976-b157-4e94-b5e9-8795e87bb416",
   "metadata": {},
   "outputs": [],
   "source": [
    "# Count TRUE values, handling potential NAs in the result of if_else\n",
    "nr_of_impossible_values <- yearly_incidence |>\n",
    "  mutate(IMPOSSIBLE_VALUE = if_else(INCIDENCE_ADJ_REPORTING < INCIDENCE_ADJ_TESTING, TRUE, FALSE)) |>\n",
    "  pull(IMPOSSIBLE_VALUE) |>\n",
    "  sum(na.rm = TRUE) \n",
    "\n",
    "# Warning if any impossible values are found\n",
    "if (nr_of_impossible_values > 0) {\n",
    "  log_msg(glue::glue(\"🚨 Warning: found {nr_of_impossible_values} rows where INCIDENCE_ADJ_REPORTING < INCIDENCE_ADJ_TESTING!\"), \"warning\")\n",
    "} else log_msg(\"✅ For all YEAR and ADM2, `INCIDENCE_ADJ_TESTING` is smaller than `INCIDENCE_ADJ_REPORTING` (as expected).\")\n",
    "\n",
    "# Check if all values in a column are NA\n",
    "if (all(is.na(yearly_incidence$INCIDENCE_ADJ_REPORTING))) {\n",
    "  log_msg(\"🚨 Warning: all values of `INCIDENCE_ADJ_REPORTING` are `NA`s\", \"warning\")\n",
    "}"
   ]
  },
  {
   "cell_type": "markdown",
   "id": "de96a663-8a46-47f3-b868-213005daedf6",
   "metadata": {},
   "source": [
    "### 3.3. **Mean** Incidence across **all** available **years**\n",
    "\n",
    "To keep in mind for future:\n",
    "* consider taking the `median()` instead. But only if we have at least 3 years of data ... !\n",
    "* possibly make this **parametrized** so that the user can decide the interval. But this choice needs to be dynamic, not hardcoded (pipeline.py code should read the data to offer choice of years that _exist_)"
   ]
  },
  {
   "cell_type": "code",
   "execution_count": null,
   "id": "6c85e609-fa0f-49fe-859c-ae74b49035be",
   "metadata": {
    "scrolled": true
   },
   "outputs": [],
   "source": [
    "yearly_incidence_mean <- yearly_incidence |>\n",
    "group_by(ADM1_ID, ADM2_ID) |>\n",
    "summarise(\n",
    "      across(starts_with(\"INCIDENCE\"), ~mean(., na.rm = TRUE)), # 🔍 pox PROBLEM here: if missing data for RR -> sum of N2 by YEAR is smaller than the sum of N1 !\n",
    "      .groups = \"drop\"\n",
    "    ) |>\n",
    "ungroup()\n",
    "\n",
    "print(dim(yearly_incidence_mean))\n",
    "head(yearly_incidence_mean, 3)"
   ]
  },
  {
   "cell_type": "code",
   "execution_count": null,
   "id": "daa5c8bf-b146-4e65-ae63-a267bef44bf4",
   "metadata": {},
   "outputs": [],
   "source": []
  },
  {
   "cell_type": "markdown",
   "id": "3e57f2e8-1ccc-417c-9fa6-e6b1976336bc",
   "metadata": {},
   "source": [
    "## 4. Export to `/data/dhis2_incidence/` folder"
   ]
  },
  {
   "cell_type": "markdown",
   "id": "30f87c70-473a-4a42-944f-2c9910c3aac6",
   "metadata": {},
   "source": [
    "Dynamically include **reporting rate method** used (`rr-method-`) in **filename**"
   ]
  },
  {
   "cell_type": "code",
   "execution_count": null,
   "id": "4e432998-bf85-4706-bea4-8684b0b58c16",
   "metadata": {},
   "outputs": [],
   "source": [
    "# Reusable function to generate filename and save data\n",
    "save_yearly_incidence <- function(yearly_incidence, data_path, file_extension, write_function) {\n",
    "  \n",
    "  # Base filename parts\n",
    "  base_name_parts <- c(\n",
    "    COUNTRY_CODE, \n",
    "    \"_incidence_year_routine-data-\", ROUTINE_DATA_CHOICE, \n",
    "    \"_rr-method-\", REPORTING_RATE_METHOD\n",
    "  )\n",
    "  \n",
    "  # Add reporting rate specific parts if applicable\n",
    "  if (REPORTING_RATE_METHOD == \"dataelement\") {\n",
    "    specific_parts <- c(\n",
    "      \"-\", REPRATE_DELEMENT_METHOD_NUMERATOR, \"-\", \n",
    "      REPRATE_DELEMENT_METHOD_DENOMINATOR\n",
    "    )\n",
    "    base_name_parts <- c(base_name_parts, specific_parts)\n",
    "  }\n",
    "  \n",
    "  # Concatenate all parts to form the final filename\n",
    "  file_name <- paste0(c(base_name_parts, file_extension), collapse = \"\")\n",
    "  file_path <- file.path(data_path, \"incidence\", file_name)\n",
    "  output_dir <- dirname(file_path)\n",
    "\n",
    "  # Check if the output directory exists, else create it\n",
    "  if (!dir.exists(output_dir)) {\n",
    "    dir.create(output_dir, recursive = TRUE)\n",
    "  }\n",
    "\n",
    "  # Flexibility to use function as provided in argument: \"write_csv\" or \"arrow::write_parquet\" ... \n",
    "  write_function(yearly_incidence, file_path)\n",
    "\n",
    "  log_msg(paste0(\"Exporting : \", file_path))\n",
    "}"
   ]
  },
  {
   "cell_type": "code",
   "execution_count": null,
   "id": "7e6c1423-9a6d-4bd0-9351-8960c3a99e24",
   "metadata": {},
   "outputs": [],
   "source": [
    "# Cleanup\n",
    "path_to_clear <- file.path(DATA_PATH, \"incidence\")\n",
    "files_to_delete <- list.files(path_to_clear, full.names = TRUE, recursive = TRUE)\n",
    "unlink(files_to_delete, recursive = TRUE)\n",
    "log_msg(glue::glue(\"🧹 Deleting all existing files from `{path_to_clear}`. Output of current pipeline run will replace output of previous run.\"))"
   ]
  },
  {
   "cell_type": "code",
   "execution_count": null,
   "id": "16e7d83b-3962-4041-9d2d-aaa362b62d5f",
   "metadata": {},
   "outputs": [],
   "source": [
    "# ACtually export the data\n",
    "\n",
    "# CSV\n",
    "save_yearly_incidence(yearly_incidence, DATA_PATH, \".csv\", write_csv)\n",
    "\n",
    "# Parquet\n",
    "save_yearly_incidence(yearly_incidence, DATA_PATH, \".parquet\", arrow::write_parquet)"
   ]
  },
  {
   "cell_type": "code",
   "execution_count": null,
   "id": "70b79854-b71d-46c4-ba30-166504c70c7c",
   "metadata": {},
   "outputs": [],
   "source": []
  }
 ],
 "metadata": {
  "kernelspec": {
   "display_name": "R",
   "language": "R",
   "name": "ir"
  },
  "language_info": {
   "codemirror_mode": "r",
   "file_extension": ".r",
   "mimetype": "text/x-r-source",
   "name": "R",
   "pygments_lexer": "r",
   "version": "4.4.3"
  }
 },
 "nbformat": 4,
 "nbformat_minor": 5
}
