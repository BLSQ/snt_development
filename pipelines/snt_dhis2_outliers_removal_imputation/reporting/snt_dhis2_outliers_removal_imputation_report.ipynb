{
 "cells": [
  {
   "cell_type": "code",
   "execution_count": null,
   "id": "d5d80eae-3cb5-477e-a2f1-d44b47184d87",
   "metadata": {},
   "outputs": [],
   "source": [
    "print(\"outliers removal imputation reporting nb\")"
   ]
  }
 ],
 "metadata": {
  "kernelspec": {
   "display_name": "R",
   "language": "R",
   "name": "ir"
  },
  "language_info": {
   "codemirror_mode": "r",
   "file_extension": ".r",
   "mimetype": "text/x-r-source",
   "name": "R",
   "pygments_lexer": "r",
   "version": "4.4.3"
  }
 },
 "nbformat": 4,
 "nbformat_minor": 5
}
