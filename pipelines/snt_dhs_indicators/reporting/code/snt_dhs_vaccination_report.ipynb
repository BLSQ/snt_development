{
 "cells": [
  {
   "cell_type": "markdown",
   "id": "4a75d418-3144-427f-8fa3-2cb7f727e66d",
   "metadata": {},
   "source": [
    "# Plots for DTP Vaccination and attrition rates (DHS data)"
   ]
  },
  {
   "cell_type": "markdown",
   "id": "6b666c7a-f105-4fad-aea0-d23a38fa0153",
   "metadata": {},
   "source": [
    "## Preliminaries"
   ]
  },
  {
   "cell_type": "code",
   "execution_count": null,
   "id": "dbcf1df6-c264-48b3-bf53-f13a4b036487",
   "metadata": {},
   "outputs": [],
   "source": [
    "rm(list = ls())\n",
    "\n",
    "options(scipen=999)"
   ]
  },
  {
   "cell_type": "code",
   "execution_count": null,
   "id": "449ea786-ac70-4513-aaf5-24ffe69aec5c",
   "metadata": {},
   "outputs": [],
   "source": [
    "# Global paths\n",
    "Sys.setenv(PROJ_LIB = \"/opt/conda/share/proj\")\n",
    "Sys.setenv(GDAL_DATA = \"/opt/conda/share/gdal\")"
   ]
  },
  {
   "cell_type": "code",
   "execution_count": null,
   "id": "c9037624-3ac0-403c-9ea0-fc78891c2393",
   "metadata": {},
   "outputs": [],
   "source": [
    "# Paths\n",
    "ROOT_PATH <- '~/workspace'\n",
    "CONFIG_PATH <- file.path(ROOT_PATH, 'configuration')\n",
    "CODE_PATH <- file.path(ROOT_PATH, 'code')\n",
    "DATA_PATH <- file.path(ROOT_PATH, 'data')\n",
    "DHS_DATA_PATH <- file.path(DATA_PATH, 'dhs', 'raw')\n",
    "OUTPUT_DATA_PATH <- file.path(DATA_PATH, 'dhs', 'indicators', 'vaccination')\n",
    "OUTPUT_PLOTS_PATH <- file.path(ROOT_PATH, 'pipelines', 'snt_dhs_indicators', 'reporting', 'outputs')"
   ]
  },
  {
   "cell_type": "code",
   "execution_count": null,
   "id": "1f13522e-a0e5-44b7-b8f5-b66dc7ca37c0",
   "metadata": {},
   "outputs": [],
   "source": [
    "# Load utils\n",
    "source(file.path(CODE_PATH, \"snt_utils.r\"))\n",
    "\n",
    "# List required pcks\n",
    "required_packages <- c(\"haven\", \"glue\", \"survey\", \"data.table\", \"sf\", \"ggplot2\", \"stringi\", \"reticulate\", \"jsonlite\", \"arrow\")\n",
    "\n",
    "# Execute function\n",
    "install_and_load(required_packages)"
   ]
  },
  {
   "cell_type": "code",
   "execution_count": null,
   "id": "50d8b838-dd97-4646-b141-a3aa9c2ab681",
   "metadata": {},
   "outputs": [],
   "source": [
    "Sys.setenv(RETICULATE_PYTHON = \"/opt/conda/bin/python\")\n",
    "reticulate::py_config()$python\n",
    "openhexa <- import(\"openhexa.sdk\")\n",
    "\n",
    "# Load SNT config\n",
    "CONFIG_FILE_NAME <- \"SNT_config.json\"\n",
    "config_json <- tryCatch({ fromJSON(file.path(CONFIG_PATH, CONFIG_FILE_NAME)) },\n",
    "                        error = function(e) {\n",
    "                          msg <- paste0(\"Error while loading configuration\", conditionMessage(e))  \n",
    "                          cat(msg)   \n",
    "                          stop(msg) \n",
    "                        })\n",
    "\n",
    "msg <- paste0(\"SNT configuration loaded from  : \", file.path(CONFIG_PATH, CONFIG_FILE_NAME)) \n",
    "log_msg(msg)\n",
    "\n",
    "# Set config variables\n",
    "COUNTRY_CODE <- config_json$SNT_CONFIG$COUNTRY_CODE\n",
    "print(paste(\"Country code: \", COUNTRY_CODE))"
   ]
  },
  {
   "cell_type": "markdown",
   "id": "ff080767-9fdb-4790-988c-e2b4c4f7226f",
   "metadata": {},
   "source": [
    "## Geo data"
   ]
  },
  {
   "cell_type": "code",
   "execution_count": null,
   "id": "56270983-dbb7-4b6f-aa0f-9682c5cf194f",
   "metadata": {},
   "outputs": [],
   "source": [
    "admin_level <- 'ADM1'\n",
    "admin_id_col <- glue(admin_level, 'ID', .sep='_')\n",
    "admin_name_col <- glue(admin_level, 'NAME', .sep='_')\n",
    "admin_cols <- c(admin_id_col, admin_name_col)"
   ]
  },
  {
   "cell_type": "code",
   "execution_count": null,
   "id": "1308ee0c-4856-445f-b518-ee0f4497c9b5",
   "metadata": {},
   "outputs": [],
   "source": [
    "# Load spatial file from dataset\n",
    "\n",
    "dhis2_dataset <- config_json$SNT_DATASET_IDENTIFIERS$DHIS2_DATASET_FORMATTED\n",
    "\n",
    "spatial_data_filename <- paste(COUNTRY_CODE, \"shapes.geojson\", sep = \"_\")\n",
    "# spatial_data <- read_sf(file.path(DATA_PATH, 'dhis2', 'formatted', spatial_data_filename))\n",
    "spatial_data <- get_latest_dataset_file_in_memory(dhis2_dataset, spatial_data_filename)\n",
    "log_msg(glue(\"File {spatial_data_filename} successfully loaded from dataset version: {dhis2_dataset}\"))\n",
    "\n",
    "spatial_data <- st_as_sf(spatial_data)\n",
    "\n",
    "# aggregate geometries by the admin columns\n",
    "spatial_data <- aggregate_geometry(\n",
    "  sf_data=spatial_data,\n",
    "  admin_id_colname=admin_id_col,\n",
    "  admin_name_colname=admin_name_col\n",
    "  )\n",
    "\n",
    "# keep class\n",
    "spatial_data <- st_as_sf(spatial_data)\n",
    "\n",
    "# DRC provinces need to be cleaned\n",
    "if(COUNTRY_CODE == \"COD\"){\n",
    "  spatial_data[[admin_name_col]] <- clean_admin_names(spatial_data[[admin_name_col]])\n",
    "}"
   ]
  },
  {
   "cell_type": "markdown",
   "id": "ba6c6b6b-e0fd-434a-8e44-6c45bea47d97",
   "metadata": {},
   "source": [
    "## Import DHS data"
   ]
  },
  {
   "cell_type": "code",
   "execution_count": null,
   "id": "cb1a56ee-5191-4930-a8d6-fa0075534725",
   "metadata": {},
   "outputs": [],
   "source": [
    "data_source <- 'DHS'\n",
    "vaccination_doses <- c(1, 2, 3)\n",
    "indicator_access <- 'PCT_DTP'\n",
    "indicator_attrition <- 'PCT_DROPOUT_DTP'"
   ]
  },
  {
   "cell_type": "markdown",
   "id": "a2034bea-e0fd-4268-b383-4d39d9cd7e75",
   "metadata": {},
   "source": [
    "For each vaccine dose, do everything :D\n",
    "- add the admin units and save to .csv and parquet\n",
    "- add the spatial data\n",
    "- make percentage maps (sample average) and save them\n",
    "- make confidence interval plots for the regions and save them"
   ]
  },
  {
   "cell_type": "markdown",
   "id": "0b8996bc-8f6a-4eea-821a-9f9013bbc8c2",
   "metadata": {},
   "source": [
    "## Maps and CI plots"
   ]
  },
  {
   "cell_type": "code",
   "execution_count": null,
   "id": "a1c19f83-a1e1-4b1d-bc26-605e4ed4fa06",
   "metadata": {},
   "outputs": [],
   "source": [
    "for (dose_number in vaccination_doses){\n",
    "  table_name <- glue(\"{toupper(indicator_access)}{dose_number}\")\n",
    "  filename_without_extension <- glue(\"{COUNTRY_CODE}_{data_source}_{admin_level}_{table_name}\")\n",
    "  df <- fread(file.path(OUTPUT_DATA_PATH, paste0(filename_without_extension, '.csv')))\n",
    "    \n",
    "  vaccine_colname <- glue(\"{toupper(indicator_access)}{dose_number}\")\n",
    "  \n",
    "  # change the names of the columns\n",
    "  sample_avg_col <- paste(vaccine_colname, 'SAMPLE_AVERAGE', sep = '_')\n",
    "  lower_bound_col <- paste(vaccine_colname, 'CI_LOWER_BOUND', sep = '_')\n",
    "  upper_bound_col <- paste(vaccine_colname, 'CI_UPPER_BOUND', sep = '_')\n",
    "  \n",
    "  # add spatial data\n",
    "  plot_data <- merge(spatial_data, df, by = admin_cols, all = TRUE)\n",
    "  \n",
    "  print(glue('Processing data for', vaccine_colname, .sep = ' '))\n",
    "\n",
    "  plot_filename <- glue(\"{COUNTRY_CODE}_{data_source}_{admin_level}_{toupper(indicator_access)}{dose_number}_plot.png\")\n",
    "  save_path = file.path(OUTPUT_PLOTS_PATH, plot_filename)\n",
    "  # print(save_path)\n",
    "\n",
    "  map_title = glue(\"{COUNTRY_CODE} DTP{dose_number} vaccine coverage (%)\")\n",
    "  # make, show and save the plot\n",
    "  dose_plot <- make_dhs_map(\n",
    "    plot_dt = plot_data,\n",
    "    plot_colname = sample_avg_col,\n",
    "    title_name = glue(\"{COUNTRY_CODE} DTP{dose_number} vaccine coverage (%)\"),\n",
    "    legend_title = \"%\",\n",
    "    scale_limits = c(0, 100)\n",
    "    )\n",
    "  ggsave(filename = save_path, plot = dose_plot, width = 8, height = 6, dpi = 300)\n",
    "  \n",
    "  # make the confidence interval plot\n",
    "  ci_plot_title <- glue(\"{COUNTRY_CODE} {data_source} DTP{dose_number} CI\")\n",
    "  ci_plot_xlab <- admin_name_col\n",
    "  ci_plot_ylab <- glue(\"DTP{dose_number} vaccinated (%)\")\n",
    "  ci_plot_filename <- glue(\"{COUNTRY_CODE}_{data_source}_{admin_level}_{indicator_access}{dose_number}_CI_plot.png\")\n",
    "  ci_dtp_plot <- make_ci_plot(\n",
    "    df_to_plot=plot_data,\n",
    "    admin_colname=admin_name_col,\n",
    "    point_estimation_colname=sample_avg_col,\n",
    "    ci_lower_colname=lower_bound_col,\n",
    "    ci_upper_colname=upper_bound_col,\n",
    "    title_name=ci_plot_title,\n",
    "    x_title=ci_plot_xlab,\n",
    "    y_title=ci_plot_ylab\n",
    "  )\n",
    "  ggsave(filename=file.path(OUTPUT_PLOTS_PATH, ci_plot_filename), plot=ci_dtp_plot, width = 8, height = 6, dpi = 300)\n",
    "}"
   ]
  },
  {
   "cell_type": "markdown",
   "id": "375952b4-4a25-435c-aae1-c53c54e9382c",
   "metadata": {},
   "source": [
    "## Dropout rates plots, for each vaccine dose"
   ]
  },
  {
   "cell_type": "code",
   "execution_count": null,
   "id": "d817600e-4be1-42d5-b06a-95b7f5080afb",
   "metadata": {},
   "outputs": [],
   "source": [
    "dtp_dropout_filename_without_extension <- glue(\"{COUNTRY_CODE}_{data_source}_{admin_level}_{indicator_attrition}\")\n",
    "DTP_DROPOUT <- fread(file.path(OUTPUT_DATA_PATH, paste0(dtp_dropout_filename_without_extension, \".csv\")))"
   ]
  },
  {
   "cell_type": "code",
   "execution_count": null,
   "id": "13b6240e-755c-49bb-bae4-5f2175159211",
   "metadata": {},
   "outputs": [],
   "source": [
    "for(current_dose in vaccination_doses){\n",
    "  for (reference_dose in 1:(current_dose - 1)){\n",
    "    if((reference_dose >= 1) & (reference_dose < current_dose)){\n",
    "    dropout_colname <- glue(\"{indicator_attrition}_{reference_dose}_{current_dose}\")\n",
    "    print(glue('Plotting attrition for {dropout_colname}'))\n",
    "    dropout_plot_title = glue(\"{COUNTRY_CODE} DTP vaccine dropout doses {reference_dose} to {current_dose} (%)\")\n",
    "    dropout_plot_data <- merge(spatial_data, DTP_DROPOUT, by = admin_cols)\n",
    "    dropout_plot <- make_dhs_map(\n",
    "      plot_dt = dropout_plot_data,\n",
    "      plot_colname = dropout_colname,\n",
    "      title_name = dropout_plot_title,\n",
    "      legend_title = '%',\n",
    "      scale_limits = c(0, 100)\n",
    "    )\n",
    "    dropout_plot_filename <- glue(\"{COUNTRY_CODE}_{data_source}_{admin_level}_{toupper(dropout_colname)}_plot.png\")\n",
    "    ggsave(filename = file.path(OUTPUT_PLOTS_PATH, dropout_plot_filename), plot = dropout_plot, width = 8, height = 6, dpi = 300)\n",
    "\n",
    "    }\n",
    "  }\n",
    "}"
   ]
  },
  {
   "cell_type": "code",
   "execution_count": null,
   "id": "67676f86-0e5d-42db-8189-b7569d640b54",
   "metadata": {},
   "outputs": [],
   "source": []
  }
 ],
 "metadata": {
  "kernelspec": {
   "display_name": "R",
   "language": "R",
   "name": "ir"
  },
  "language_info": {
   "codemirror_mode": "r",
   "file_extension": ".r",
   "mimetype": "text/x-r-source",
   "name": "R",
   "pygments_lexer": "r",
   "version": "4.4.3"
  }
 },
 "nbformat": 4,
 "nbformat_minor": 5
}
