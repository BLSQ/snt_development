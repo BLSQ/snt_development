{
 "cells": [
  {
   "cell_type": "markdown",
   "id": "96eee97c-fda4-4827-8111-c438cabed82e",
   "metadata": {},
   "source": [
    "## Setup start "
   ]
  },
  {
   "cell_type": "code",
   "execution_count": null,
   "id": "e1156ab5-2dc6-4bfb-8d7a-ac594c40ecf8",
   "metadata": {
    "vscode": {
     "languageId": "r"
    }
   },
   "outputs": [],
   "source": [
    "# Parameters\n",
    "# SNT_ROOT_PATH   <- '~/workspace'   # SNT root\n",
    "# ADJUST_WITH_WORLDPOP <- FALSE"
   ]
  },
  {
   "cell_type": "code",
   "execution_count": null,
   "id": "687392e7-fe6c-4355-9f4d-6718b467a33d",
   "metadata": {
    "vscode": {
     "languageId": "r"
    }
   },
   "outputs": [],
   "source": [
    "# Set project folders\n",
    "CODE_PATH      <- file.path(SNT_ROOT_PATH, \"code\")\n",
    "CONFIG_PATH    <- file.path(SNT_ROOT_PATH, \"configuration\")\n",
    "POPULATION_DATA_PATH <- file.path(SNT_ROOT_PATH, \"data\", \"dhis2\", \"population_transformed\")"
   ]
  },
  {
   "cell_type": "markdown",
   "id": "7a31fc88-3fa9-4a65-b61a-dc1564aecc22",
   "metadata": {},
   "source": [
    "**Load functions**"
   ]
  },
  {
   "cell_type": "code",
   "execution_count": null,
   "id": "340a8095-ee83-4277-84cd-60c0c626b947",
   "metadata": {
    "vscode": {
     "languageId": "r"
    }
   },
   "outputs": [],
   "source": [
    "source(file.path(CODE_PATH, \"snt_utils.r\"))"
   ]
  },
  {
   "cell_type": "markdown",
   "id": "1188d74a-0d28-48c7-a72e-3c1933b87cf4",
   "metadata": {},
   "source": [
    "**Check and load required libraries**  "
   ]
  },
  {
   "cell_type": "code",
   "execution_count": null,
   "id": "715c8d64-aaa0-43e6-b398-59abfb564bae",
   "metadata": {
    "vscode": {
     "languageId": "r"
    }
   },
   "outputs": [],
   "source": [
    "# List required pcks  ---------------->  check  what are the really required libraries\n",
    "required_packages <- c(\"arrow\", \"dplyr\", \"tidyr\", \"stringr\", \"stringi\", \"jsonlite\", \"httr\", \"glue\", \"reticulate\")\n",
    "\n",
    "# Execute function\n",
    "install_and_load(required_packages)"
   ]
  },
  {
   "cell_type": "code",
   "execution_count": null,
   "id": "d1cf7e13-3be0-44fa-99ea-3e3520da1229",
   "metadata": {
    "vscode": {
     "languageId": "r"
    }
   },
   "outputs": [],
   "source": [
    "# Set environment to load openhexa.sdk from the right environment\n",
    "Sys.setenv(RETICULATE_PYTHON = \"/opt/conda/bin/python\")\n",
    "reticulate::py_config()$python\n",
    "openhexa <- import(\"openhexa.sdk\")"
   ]
  },
  {
   "cell_type": "markdown",
   "id": "21c802bd-506b-4e60-bd06-b715a5c197ee",
   "metadata": {},
   "source": [
    "### Load SNT configuration\n"
   ]
  },
  {
   "cell_type": "code",
   "execution_count": null,
   "id": "10580e48-ccb5-49df-933d-3cdbc480a402",
   "metadata": {
    "vscode": {
     "languageId": "r"
    }
   },
   "outputs": [],
   "source": [
    "# config file path\n",
    "config_path <- file.path(CONFIG_PATH, \"SNT_config.json\")\n",
    "\n",
    "config_json <- tryCatch({ fromJSON(config_path) },\n",
    "    error = function(e) {\n",
    "        msg <- glue(\"Error while loading configuration: {config_path}\")\n",
    "        cat(msg)   \n",
    "        stop(msg) \n",
    "    })\n",
    "\n",
    "# print(config.json$SNT_CONFIG)\n",
    "msg <- paste0(\"SNT configuration loaded from  : \", file.path(CONFIG_PATH, \"SNT_config.json\"))\n",
    "log_msg(msg)\n",
    "\n",
    "# Save this country code in a variable\n",
    "COUNTRY_CODE <- config_json$SNT_CONFIG$COUNTRY_CODE\n",
    "ADMIN_1 <- toupper(config_json$SNT_CONFIG$DHIS2_ADMINISTRATION_1)\n",
    "ADMIN_2 <- toupper(config_json$SNT_CONFIG$DHIS2_ADMINISTRATION_2)\n",
    "format_dataset_id <- config_json$SNT_DATASET_IDENTIFIERS$DHIS2_DATASET_FORMATTED"
   ]
  },
  {
   "cell_type": "markdown",
   "id": "1f0ce7a3-954b-4711-bd23-268aeb74f1d7",
   "metadata": {},
   "source": [
    "### Load DHIS2 population data (formatted dataset)"
   ]
  },
  {
   "cell_type": "markdown",
   "id": "77af1690-79c4-4ad4-92c3-47a5dd119906",
   "metadata": {},
   "source": [
    "-Load DHIS2 population from latest dataset version \n"
   ]
  },
  {
   "cell_type": "code",
   "execution_count": null,
   "id": "82d0d5e9-2cc5-4101-9ea6-59aafdcf5b81",
   "metadata": {
    "vscode": {
     "languageId": "r"
    }
   },
   "outputs": [],
   "source": [
    "# Load file from dataset\n",
    "dhis2_population <- tryCatch({ \n",
    "    get_latest_dataset_file_in_memory(format_dataset_id, paste0(COUNTRY_CODE, \"_population.parquet\")) \n",
    "    }, error = function(e) {\n",
    "        msg <- paste(\"[ERROR] Error while loading DHIS2 population file for: \" , COUNTRY_CODE, conditionMessage(e))  # log error message\n",
    "        log_msg(msg, \"error\")\n",
    "        stop(msg)\n",
    "})\n",
    "\n",
    "msg <- glue(\"DHIS2 population data loaded from dataset : {format_dataset_id} dataframe dimensions: [{paste(dim(dhis2_population), collapse=', ')}]\")\n",
    "log_msg(msg)"
   ]
  },
  {
   "cell_type": "code",
   "execution_count": null,
   "id": "5dcbe0f6-77b5-42f3-bb49-569fb391070b",
   "metadata": {},
   "outputs": [],
   "source": [
    "dim(dhis2_population)\n",
    "head(dhis2_population, 3)"
   ]
  },
  {
   "cell_type": "markdown",
   "id": "0d351974-c1c5-4971-97c8-f0122ca9e803",
   "metadata": {},
   "source": [
    "## SNT population scaling"
   ]
  },
  {
   "cell_type": "markdown",
   "id": "d25b0a44-bdaf-42fe-aa50-c421804906f0",
   "metadata": {},
   "source": [
    "Adjust DHIS2 population using Worldpop data as scaling factor (optional).\n",
    "If this option is **not selected**, we try adjusting using the total population reference from configuration.\n",
    "\n",
    "Details:  \n",
    "- To adjust using population from WorldPop UN estimates data, **must** run *B.2 WorldPop Extract pipeline* first!.\n",
    "- We assume we have Woldpop population data only for one year (latest).  \n",
    "- If the Wpop data is not available, we continue the process and try with total population reference from configuration (if set).\n",
    "- The scaled population will be stored in the column \"POPULATION\" (the original POPULATION column will be replaced/updated)."
   ]
  },
  {
   "cell_type": "code",
   "execution_count": null,
   "id": "99c541e2-4962-4d7d-b4cf-4a53435ef464",
   "metadata": {},
   "outputs": [],
   "source": [
    "# default values\n",
    "wpop_population <- NULL  \n",
    "total_population_reference <- NULL\n",
    "\n",
    "if (ADJUST_WITH_WORLDPOP) {\n",
    "    \n",
    "    worldpop_dataset <- config_json$SNT_DATASET_IDENTIFIERS$WORLDPOP_DATASET_EXTRACT  # WPOP Dataset identifier    \n",
    "    wpop_unadj_filename <- paste0(COUNTRY_CODE, \"_worldpop_population.parquet\")  # WPOP file\n",
    "    log_msg(glue(\"Adjusting DHIS2 population data with {wpop_unadj_filename} from dataset {worldpop_dataset}\"))\n",
    "    \n",
    "    # Load file from dataset\n",
    "    wpop_population <- tryCatch({\n",
    "                get_latest_dataset_file_in_memory(worldpop_dataset, wpop_unadj_filename) \n",
    "                },\n",
    "    error = function(e) {\n",
    "      msg <- paste0(\"[WARNING] Error while loading WorldPop population file for: \" , COUNTRY_CODE,\n",
    "                   \" Please execute B.2 WorldPop Extract pipeline to ensure the data is available in the snt-worldpop-extract dataset.\")\n",
    "      log_msg(msg, \"warning\")\n",
    "      return(NULL)\n",
    "    })\n",
    "\n",
    "    if (!is.null(wpop_population)) {\n",
    "        # Compute WPop Total population \n",
    "        wpop_year_max <- max(wpop_population$YEAR)  # SELECTING LAST AVAILABLE YEAR (!)\n",
    "        total_population_reference <- sum(wpop_population[wpop_population$YEAR == wpop_year_max, ]$POPULATION_UNADJ, na.rm=TRUE)         \n",
    "        log_msg(glue(\"Total UN-adjusted WorldPop population: {total_population_reference}\"))\n",
    "    }\n",
    "              \n",
    "}  else {\n",
    "    \n",
    "    # try using total_population_reference from config file.\n",
    "    if (is.null(total_population_reference)) {  \n",
    "        total_population_reference <- config_json$DHIS2_DATA_DEFINITIONS$POPULATION_DEFINITIONS[[\"TOTAL_POPULATION_REF\"]]    \n",
    "        if (is.null(total_population_reference)) {\n",
    "            log_msg(glue(\"No total population reference found in 'snt_config'. Adjustmen will be skipped.\"), \"warning\")\n",
    "        } else {\n",
    "            log_msg(glue(\"Total reference population: {total_population_reference}\"))\n",
    "        }\n",
    "    }        \n",
    "}"
   ]
  },
  {
   "cell_type": "markdown",
   "id": "c80c3ef3-c7a6-4845-9134-3900bfba5eef",
   "metadata": {
    "jp-MarkdownHeadingCollapsed": true
   },
   "source": [
    "Scale population using total population reference (if available)"
   ]
  },
  {
   "cell_type": "code",
   "execution_count": null,
   "id": "04ac7ee1-ce72-4c50-8af5-a6d3d534ec6e",
   "metadata": {},
   "outputs": [],
   "source": [
    "if (!is.null(total_population_reference)) {\n",
    "\n",
    "    # Compute totals per DHIS2 year\n",
    "    year_totals <- dhis2_population %>%\n",
    "            group_by(YEAR) %>%\n",
    "            summarise(total_year_pop = sum(POPULATION, na.rm = TRUE))\n",
    "    \n",
    "    # Compute scaling factor per year\n",
    "    year_totals <- year_totals %>%\n",
    "      mutate(scaling_factor = total_population_reference / total_year_pop)\n",
    "    \n",
    "    # Join back and compute adjusted population\n",
    "    dhis2_population <- dhis2_population %>%\n",
    "      left_join(year_totals, by = \"YEAR\") %>%\n",
    "      mutate(POPULATION_SCALED = round(POPULATION * scaling_factor)) %>%\n",
    "      select(-total_year_pop, -scaling_factor)\n",
    " \n",
    "    for (i in seq_len(nrow(year_totals))) {\n",
    "        row <- year_totals[i, ]\n",
    "        dhis2_total = sum(dhis2_population[dhis2_population$YEAR==row$YEAR, \"POPULATION\"], na.rm=TRUE)\n",
    "        dhis2_total_scd = sum(dhis2_population[dhis2_population$YEAR==row$YEAR, \"POPULATION_SCALED\"], na.rm=TRUE)\n",
    "        log_msg(glue(\"DHIS2 population year {row$YEAR} ({dhis2_total}) scaled: {dhis2_total_scd} (scaling_factor={round(row$scaling_factor, 3)}).\"))\n",
    "    } \n",
    "\n",
    "    head(dhis2_population, 3)\n",
    "}"
   ]
  },
  {
   "cell_type": "markdown",
   "id": "e0fccb2b-1b4b-4d7b-b879-81d6289a090c",
   "metadata": {},
   "source": [
    "## SNT Population projection and back-calculation using a growth factor"
   ]
  },
  {
   "cell_type": "markdown",
   "id": "383454f9-b30d-400a-82ef-8cbddb7295e3",
   "metadata": {},
   "source": [
    "Apply a growth factor (if defined in the snt config file).\n",
    "\n",
    "-Projects the population size backward and forward in time (years) using growth rates.  \n",
    "-For the computation, we consider only one population reference (column) as initial value \"POPULATION\" or \"POPULATION_SCALED\" (is computed in previous steps)"
   ]
  },
  {
   "cell_type": "code",
   "execution_count": null,
   "id": "21819151-1501-431e-858e-3c3a423bb4ef",
   "metadata": {},
   "outputs": [],
   "source": [
    "# try using growth_factor from config file.\n",
    "growth_factor <- config_json$DHIS2_DATA_DEFINITIONS$POPULATION_DEFINITIONS[[\"GROWTH_FACTOR\"]]\n",
    "reference_year <- config_json$DHIS2_DATA_DEFINITIONS$POPULATION_DEFINITIONS[[\"REFERENCE_YEAR\"]]\n",
    "\n",
    "# which population column to use?\n",
    "population_column <- ifelse((\"POPULATION_SCALED\" %in% colnames(dhis2_population)), \"POPULATION_SCALED\", \"POPULATION\") \n",
    "columns_selection <- c(\"YEAR\", \"ADM1_NAME\", \"ADM1_ID\", \"ADM2_NAME\", \"ADM2_ID\", population_column)  # WE SELECT POPULATION OR (IF EXISTS) POPULATION_SCALED COLUMN (!)\n",
    "\n",
    "if (!is.null(growth_factor)) {\n",
    "    \n",
    "    if (!is.null(reference_year)) {\n",
    "        if (!(reference_year %in% unique(dhis2_population$YEAR))) {\n",
    "            not_found <- reference_year\n",
    "            reference_year <- max(dhis2_population$YEAR)\n",
    "            log_msg(glue(\"Reference year {not_found} is not present in the population data, using last year: {reference_year}.\"), \"warning\")            \n",
    "        }\n",
    "    } else {\n",
    "        reference_year <- max(dhis2_population$YEAR)\n",
    "    }\n",
    "    \n",
    "    log_msg(glue(\"Applying growth factor {growth_factor} to project {tolower(population_column)} from reference year {reference_year}.\"))\n",
    "    \n",
    "    n_years_future <- 6 # n_years to the future \n",
    "    n_years_past <- 6 # n_years to the past \n",
    "    projection_years_backward <- seq(reference_year - 1, reference_year - n_years_past, by=-1)\n",
    "    projection_years_forward <- seq(reference_year + 1, reference_year + n_years_future)\n",
    "    \n",
    "    dhis2_population_reference <- dhis2_population[dhis2_population$YEAR == reference_year, columns_selection]\n",
    "    pop_result <- dhis2_population_reference\n",
    "    population_forward <- dhis2_population_reference\n",
    "    population_backward <- dhis2_population_reference\n",
    "    total_pop_year <- list()\n",
    "    \n",
    "    # --- Forward projection ---\n",
    "    for (year in projection_years_forward) {\n",
    "        population_forward[[\"YEAR\"]] <- year\n",
    "        population_forward[[population_column]] <- round(population_forward[[population_column]] * (1 + growth_factor))        \n",
    "        pop_result <- rbind(pop_result, population_forward)        \n",
    "    }\n",
    "    \n",
    "    # --- Backward projection ---\n",
    "    for (year in projection_years_backward) {\n",
    "        population_backward[[\"YEAR\"]] <- year\n",
    "        population_backward[[population_column]] <- round(population_backward[[population_column]] / (1 + growth_factor))                \n",
    "        pop_result <- rbind(pop_result, population_backward)\n",
    "    }\n",
    "    \n",
    "    pop_result <- pop_result[order(pop_result$YEAR), ]       \n",
    "    \n",
    "} else {\n",
    "    # We need to modify the input to produce a similar table (format)\n",
    "    pop_result <- dhis2_population[order(dhis2_population$YEAR), columns_selection]\n",
    "}"
   ]
  },
  {
   "cell_type": "code",
   "execution_count": null,
   "id": "ed946301-56b0-4bcd-80c7-acae5f9c186d",
   "metadata": {},
   "outputs": [],
   "source": [
    "# Check total populations per year\n",
    "for (year in sort(unique(pop_result$YEAR))) {\n",
    "    tot_pop <- sum(pop_result[pop_result$YEAR == year, population_column], na.rm=TRUE)\n",
    "    print(glue(\"Total population {year} : {tot_pop}\"))\n",
    "}"
   ]
  },
  {
   "cell_type": "code",
   "execution_count": null,
   "id": "33c45d55-b3ee-400a-b013-23097b7a9d98",
   "metadata": {},
   "outputs": [],
   "source": [
    "# Rename the output column\n",
    "pop_result <- pop_result %>% rename(POPULATION = !!population_column)\n",
    "\n",
    "print(dim(pop_result))\n",
    "head(pop_result, 3)"
   ]
  },
  {
   "cell_type": "markdown",
   "id": "cd7c7fcc-16b7-4931-a73e-c82604a1d108",
   "metadata": {},
   "source": [
    "## SNT Population disaggregations\n",
    "\n",
    "Any defined disaggregations will be computed from the 'POPULATION_DISAGGREGATIONS' in the configuration file and included as additional columns in the final table."
   ]
  },
  {
   "cell_type": "code",
   "execution_count": null,
   "id": "15a820b2-e58f-4859-a0ea-c4b1266ae624",
   "metadata": {},
   "outputs": [],
   "source": [
    "pop_disagg <- config_json$DHIS2_DATA_DEFINITIONS$POPULATION_DEFINITIONS[[\"POPULATION_DISAGGREGATIONS\"]]\n",
    "\n",
    "# Check if the list exists and is not empty\n",
    "if (!is.null(pop_disagg) && length(pop_disagg) > 0) {\n",
    "      \n",
    "    for (name in names(pop_disagg)) {\n",
    "        value <- pop_disagg[[name]]\n",
    "        log_msg(glue::glue(\"Adding disaggregation: {name}, Factor: {value}\"))\n",
    "        pop_result[[toupper(name)]] <- round(pop_result[[\"POPULATION\"]] * value)\n",
    "    }\n",
    "  \n",
    "} else {\n",
    "  message(\"No population disaggregations defined.\")\n",
    "}"
   ]
  },
  {
   "cell_type": "code",
   "execution_count": null,
   "id": "2610f36a-5745-4df4-bf5f-7b59c669f099",
   "metadata": {},
   "outputs": [],
   "source": [
    "print(dim(pop_result))\n",
    "head(pop_result, 3)"
   ]
  },
  {
   "cell_type": "markdown",
   "id": "15514c28-37a8-4d7d-896f-0cfe5f157668",
   "metadata": {},
   "source": [
    "### Output formatted population data"
   ]
  },
  {
   "cell_type": "code",
   "execution_count": null,
   "id": "8d704604-8af9-48bf-afc4-3965a634ac75",
   "metadata": {
    "vscode": {
     "languageId": "r"
    }
   },
   "outputs": [],
   "source": [
    "out_msg <- paste0(\"Transfomerd population data saved under: \", file.path(POPULATION_DATA_PATH, paste0(COUNTRY_CODE, \"_population.csv\")))\n",
    "\n",
    "# write parquet file\n",
    "write_parquet(pop_result, file.path(POPULATION_DATA_PATH, paste0(COUNTRY_CODE, \"_population.parquet\")))\n",
    "\n",
    "# write csv file\n",
    "write.csv(pop_result, file.path(POPULATION_DATA_PATH, paste0(COUNTRY_CODE, \"_population.csv\")), row.names = FALSE)\n",
    "\n",
    "# log\n",
    "log_msg(out_msg)"
   ]
  },
  {
   "cell_type": "markdown",
   "id": "07ce08f0-526e-48e9-a72d-16aafc1f40b8",
   "metadata": {},
   "source": [
    "### Data Summary "
   ]
  },
  {
   "cell_type": "code",
   "execution_count": null,
   "id": "cbaa160c-04e4-4b9c-95e4-b320a358ce40",
   "metadata": {
    "vscode": {
     "languageId": "r"
    }
   },
   "outputs": [],
   "source": [
    "# Data summary\n",
    "print(summary(pop_result))"
   ]
  }
 ],
 "metadata": {
  "kernelspec": {
   "display_name": "R",
   "language": "R",
   "name": "ir"
  },
  "language_info": {
   "codemirror_mode": "r",
   "file_extension": ".r",
   "mimetype": "text/x-r-source",
   "name": "R",
   "pygments_lexer": "r",
   "version": "4.4.3"
  }
 },
 "nbformat": 4,
 "nbformat_minor": 5
}
