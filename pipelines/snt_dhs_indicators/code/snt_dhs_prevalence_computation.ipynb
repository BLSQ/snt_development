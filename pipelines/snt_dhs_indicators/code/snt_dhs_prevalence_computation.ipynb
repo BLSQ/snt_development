{
 "cells": [
  {
   "cell_type": "markdown",
   "id": "1a337757-f2fa-467e-8241-ea174c7ea790",
   "metadata": {},
   "source": [
    "# Under-5 Prevalence of Malaria (DHS data)"
   ]
  },
  {
   "cell_type": "markdown",
   "id": "fc27d9c1-0c0c-46df-9508-57add133acaf",
   "metadata": {},
   "source": [
    "## Resources"
   ]
  },
  {
   "cell_type": "markdown",
   "id": "9cf1724b-b01c-4b2e-93f7-d0f54cfa4850",
   "metadata": {},
   "source": [
    "https://dhsprogram.com/data/Guide-to-DHS-Statistics/index.htm#t=Prevalence_of_Malaria_in_Children.htm%23Percentage_of_children22bc-1&rhtocid=_15_13_0\n",
    "\n",
    "Numerators:\n",
    "1)      Number of de facto children tested using RDT who are positive for malaria (hv042 = 1 & hv103 = 1 & hc1 in 6:59 & hml35 = 1)\n",
    "2)      Number of de facto children tested using microscopy who are positive for malaria (hv042 = 1 & hv103 = 1 & hc1 in 6:59 & hml32 = 1)\n",
    " \n",
    "Denominators:\n",
    "a)       Number of de facto children tested using RDT (hv042 = 1 & hv103 = 1 & hc1 in 6:59 & hml35 in 0,1)\n",
    "b)      Number of de facto children tested using microscopy (hv042 = 1 & hv103 = 1 & hc1 in 6:59 & hml32 in 0,1,6)"
   ]
  },
  {
   "cell_type": "markdown",
   "id": "7c61058a-361f-4992-9f2b-99a82f798fd8",
   "metadata": {},
   "source": [
    "**Project uses RDT**"
   ]
  },
  {
   "cell_type": "markdown",
   "id": "d0e715b0-9a8d-4d15-b7ef-486f16fec73b",
   "metadata": {},
   "source": [
    "## Preliminary steps"
   ]
  },
  {
   "cell_type": "code",
   "execution_count": null,
   "id": "a3cc2680-f9cc-46cd-9565-2b8af14fc29a",
   "metadata": {},
   "outputs": [],
   "source": [
    "rm(list = ls())\n",
    "\n",
    "options(scipen=999)\n",
    "\n",
    "# Global paths\n",
    "Sys.setenv(PROJ_LIB = \"/opt/conda/share/proj\")\n",
    "Sys.setenv(GDAL_DATA = \"/opt/conda/share/gdal\")\n",
    "\n",
    "# Paths\n",
    "ROOT_PATH <- '~/workspace'\n",
    "CONFIG_PATH <- file.path(ROOT_PATH, 'configuration')\n",
    "CODE_PATH <- file.path(ROOT_PATH, 'code')\n",
    "DATA_PATH <- file.path(ROOT_PATH, 'data')\n",
    "DHS_DATA_PATH <- file.path(DATA_PATH, 'dhs', 'raw')\n",
    "OUTPUT_DATA_PATH <- file.path(DATA_PATH, 'dhs', 'indicators', 'prevalence')\n",
    "\n",
    "# Load utils\n",
    "source(file.path(CODE_PATH, \"snt_utils.r\"))\n",
    "\n",
    "# List required pcks\n",
    "required_packages <- c(\"haven\", \"sf\", \"glue\", \"survey\", \"data.table\", \"stringi\", \"jsonlite\", \"httr\", \"reticulate\", \"arrow\")\n",
    "\n",
    "# Execute function\n",
    "install_and_load(required_packages)\n",
    "\n",
    "Sys.setenv(RETICULATE_PYTHON = \"/opt/conda/bin/python\")\n",
    "reticulate::py_config()$python\n",
    "openhexa <- import(\"openhexa.sdk\")\n",
    "\n",
    "# Load SNT config\n",
    "CONFIG_FILE_NAME <- \"SNT_config.json\"\n",
    "config_json <- tryCatch({ fromJSON(file.path(CONFIG_PATH, CONFIG_FILE_NAME)) },\n",
    "                        error = function(e) {\n",
    "                          msg <- paste0(\"Error while loading configuration\", conditionMessage(e))  \n",
    "                          cat(msg)   \n",
    "                          stop(msg) \n",
    "                        })\n",
    "\n",
    "msg <- paste0(\"SNT configuration loaded from  : \", file.path(CONFIG_PATH, CONFIG_FILE_NAME)) \n",
    "log_msg(msg)\n",
    "\n",
    "# Set config variables\n",
    "COUNTRY_CODE <- config_json$SNT_CONFIG$COUNTRY_CODE\n"
   ]
  },
  {
   "cell_type": "markdown",
   "id": "43135a7a-f1b8-4a89-9db1-9012c3369f3d",
   "metadata": {},
   "source": [
    "## Get data"
   ]
  },
  {
   "cell_type": "code",
   "execution_count": null,
   "id": "7e83a6c1-cd47-4eeb-b949-7bef7d1f36c6",
   "metadata": {},
   "outputs": [],
   "source": [
    "admin_level <- 'ADM1'\n",
    "admin_id_col <- glue(admin_level, 'ID', .sep='_')\n",
    "admin_name_col <- glue(admin_level, 'NAME', .sep='_')\n",
    "admin_cols <- c(admin_id_col, admin_name_col)"
   ]
  },
  {
   "cell_type": "code",
   "execution_count": null,
   "id": "9a623578-170f-42e0-a012-78f0ddbcce87",
   "metadata": {},
   "outputs": [],
   "source": [
    "# Load spatial file from dataset\n",
    "\n",
    "dhis2_dataset <- config_json$SNT_DATASET_IDENTIFIERS$DHIS2_DATASET_FORMATTED\n",
    "\n",
    "spatial_data_filename <- paste(COUNTRY_CODE, \"shapes.geojson\", sep = \"_\")\n",
    "# spatial_data <- read_sf(file.path(DATA_PATH, 'dhis2', 'formatted', spatial_data_filename))\n",
    "spatial_data <- get_latest_dataset_file_in_memory(dhis2_dataset, spatial_data_filename)\n",
    "log_msg(glue(\"File {spatial_data_filename} successfully loaded from dataset version: {dhis2_dataset}\"))\n",
    "\n",
    "spatial_data <- st_as_sf(spatial_data)\n",
    "\n",
    "# aggregate geometries by the admin columns\n",
    "spatial_data <- aggregate_geometry(\n",
    "  sf_data=spatial_data,\n",
    "  admin_id_colname=admin_id_col,\n",
    "  admin_name_colname=admin_name_col\n",
    ")\n",
    "\n",
    "# keep class\n",
    "spatial_data <- st_as_sf(spatial_data)\n",
    "\n",
    "if(COUNTRY_CODE == \"COD\"){\n",
    "  spatial_data[[admin_name_col]] <- clean_admin_names(spatial_data[[admin_name_col]])\n",
    "}\n",
    "\n",
    "admin_data <- st_drop_geometry(spatial_data)\n",
    "setDT(admin_data)"
   ]
  },
  {
   "cell_type": "markdown",
   "id": "11aa09f3-ecc8-46c0-b9f3-95c0520202ef",
   "metadata": {},
   "source": [
    "### Import "
   ]
  },
  {
   "cell_type": "code",
   "execution_count": null,
   "id": "c015490b-a8fc-471d-a83f-0dce8e010cef",
   "metadata": {},
   "outputs": [],
   "source": [
    "indicator_u5prev <- 'PCT_U5_PREV_RDT' # to be computed\n",
    "\n",
    "data_source <- 'DHS'\n",
    "household_recode <- 'HR'\n",
    "person_recode <- 'PR'\n",
    "target_file_type <- 'SV'\n",
    "\n",
    "delete_otherextension_files(DHS_DATA_PATH, extension_to_retain=\".zip\")\n",
    "\n",
    "dhs_hr_zip_filename <- extract_latest_dhs_recode_filename(DHS_DATA_PATH, household_recode, target_file_type)\n",
    "unzip(file.path(DHS_DATA_PATH, dhs_hr_zip_filename), exdir=DHS_DATA_PATH)\n",
    "\n",
    "dhs_pr_zip_filename <- extract_latest_dhs_recode_filename(DHS_DATA_PATH, person_recode, target_file_type)\n",
    "unzip(file.path(DHS_DATA_PATH, dhs_pr_zip_filename), exdir=DHS_DATA_PATH)\n",
    "\n",
    "# # Remove existing output files\n",
    "# files <- list.files(OUTPUT_DATA_PATH, full.names = TRUE)\n",
    "# files_to_delete <- files[grepl('U5_PREV', basename(files), ignore.case = TRUE) & grepl(COUNTRY_CODE, basename(files), ignore.case = TRUE)]\n",
    "# file.remove(files_to_delete)\n",
    "\n",
    "data_extension <- '.SAV'\n",
    "dhs_hr_filename <- list.files(path = DHS_DATA_PATH, pattern = paste0(\".*\", household_recode, \".*\\\\\", data_extension, \"$\"), ignore.case=TRUE)\n",
    "dhs_pr_filename <- dir(path = DHS_DATA_PATH, pattern = paste0(\".*\", person_recode, \".*\\\\\", data_extension, \"$\"), ignore.case=TRUE)\n",
    "\n",
    "if(!check_dhs_same_version(dhs_hr_filename, dhs_pr_filename)){\n",
    "  stop(\"The input DHS data do not have the same version/issue. Check available data before rerunning.\")\n",
    "}\n",
    "\n",
    "dhs_hr_dt <- read_spss(file.path(DHS_DATA_PATH, dhs_hr_filename)) # household recode\n",
    "dhs_hr_dt <- setDT(dhs_hr_dt)\n",
    "\n",
    "dhs_pr_dt <- read_spss(file.path(DHS_DATA_PATH, dhs_pr_filename)) # person recode\n",
    "dhs_pr_dt <- setDT(dhs_pr_dt)"
   ]
  },
  {
   "cell_type": "markdown",
   "id": "8b191b87-3694-4883-99c9-66ade3477f8e",
   "metadata": {},
   "source": [
    "### Make admin dataframe (for future merging)"
   ]
  },
  {
   "cell_type": "code",
   "execution_count": null,
   "id": "e0767159-1660-48c3-bdaf-f8be3643e039",
   "metadata": {},
   "outputs": [],
   "source": [
    "dhs_admin_dt <- make_dhs_admin_df(\n",
    "  input_dhs_df=dhs_hr_dt,\n",
    "  original_admin_column=\"HV024\",\n",
    "  new_admin_name_colname=admin_name_col,\n",
    "  new_admin_code_colname='DHS_ADM1_CODE'\n",
    ")\n",
    "\n",
    "# format the names to be like DHIS2 names\n",
    "dhs_admin_dt[, (admin_name_col) := format_names(get(admin_name_col))]\n",
    "\n",
    "# TODO this should be changed in the formatting of DHIS2 data; the correct name should be with a space\n",
    "dhs_admin_dt[get(admin_name_col) == \"MAI NDOMBE\", (admin_name_col) := \"MAINDOMBE\"]\n",
    "\n",
    "# Check that all regions can be matched with DHIS2 pyramid\n",
    "if(!check_perfect_match(dhs_admin_dt, admin_name_col, admin_data, admin_name_col)){\n",
    "  stop(\"The DHS data provided does not fully match DHIS2 pyramid data. Please check input data before retrying.\")\n",
    "}\n",
    "\n",
    "rm(dhs_hr_dt) # free up resources"
   ]
  },
  {
   "cell_type": "markdown",
   "id": "8a47d5f6-f8d8-4373-9cc8-a776d85b8a75",
   "metadata": {},
   "source": [
    "### Preprocess"
   ]
  },
  {
   "cell_type": "code",
   "execution_count": null,
   "id": "f49ecb55-da48-4cf5-aa2b-7691eed04b77",
   "metadata": {},
   "outputs": [],
   "source": [
    "# Relevant columns\n",
    "household_id_cols <- c(\"HHID\", \"HV000\", \"HV001\", \"HV002\")\n",
    "household_sampling_cols <- c(\"HV005\", \"HV021\", \"HV022\", \"HV023\", \"HV024\")\n",
    "hemoglobin_selection_col = \"HV042\"\n",
    "person_slept_col <- grep(\"^HV103\", names(dhs_pr_dt), value = TRUE)\n",
    "kid_age_col <- \"HC1\"\n",
    "smear_result_col <- \"HML32\" # smear test (GE)\n",
    "rdt_result_col <- \"HML35\" # rapid diagnostic test (RDT / TDR)"
   ]
  },
  {
   "cell_type": "code",
   "execution_count": null,
   "id": "a5fe638a-7418-4049-822e-6c3d715fdded",
   "metadata": {},
   "outputs": [],
   "source": [
    "# sapply(kid_age_cols, function(i) table(dhs_pr_dt[[i]], useNA = 'always'))\n",
    "\n",
    "# table(dhs_pr_dt$HC1, useNA = 'ifany')\n",
    "# table(dhs_pr_dt$HV103, useNA = 'ifany')\n",
    "# table(dhs_pr_dt$HV042, useNA = 'ifany')\n",
    "\n",
    "# filter rows and columns\n",
    "pr_dt <- dhs_pr_dt[(\n",
    "  !(is.na(get(kid_age_col))) & # no missing age\n",
    "    get(kid_age_col) >= 6 & # 6 months or older\n",
    "    get(kid_age_col) <= 59 & # younger than 5\n",
    "    get(person_slept_col) == 1 & # slept last night in household\n",
    "    get(hemoglobin_selection_col) == 1 # household selected for hemoglobin test\n",
    "  ),\n",
    "  .SD, .SDcols = c(\n",
    "    household_id_cols,\n",
    "    household_sampling_cols,\n",
    "    hemoglobin_selection_col,\n",
    "    person_slept_col,\n",
    "    kid_age_col,\n",
    "    smear_result_col,\n",
    "    rdt_result_col)\n",
    "    ]\n",
    "\n",
    "pr_dt[, wt := HV005/1000000]\n",
    "\n",
    "pr_dt <- merge.data.table(dhs_admin_dt, pr_dt, by.x = \"DHS_ADM1_CODE\", by.y = \"HV024\", all = TRUE)"
   ]
  },
  {
   "cell_type": "markdown",
   "id": "7fa09c3c-d462-42f0-830a-444c79addf86",
   "metadata": {},
   "source": [
    "## Rapid Diagnostic Test Indicator"
   ]
  },
  {
   "cell_type": "code",
   "execution_count": null,
   "id": "af0796b0-6f8e-40a0-8a41-e837ce0b02ee",
   "metadata": {},
   "outputs": [],
   "source": [
    "xtabs( ~ get(rdt_result_col), data = pr_dt, addNA = TRUE)\n",
    "\n",
    "# filter rows\n",
    "rdt_dt <- pr_dt[\n",
    "  get(rdt_result_col) %in% c(0, 1), # tested and had either positive (1) or negative (0) result\n",
    "  ]\n",
    "\n",
    "# clustering, stratification, weights (for means, proportions, regression models, etc.)\n",
    "rdt_design_sampling = svydesign(\n",
    "  ids = ~ HV021, # primary sampling unit / cluster ids (cluster number and/or ultimate area unit)\n",
    "  data = rdt_dt, # dataset\n",
    "  strata = ~ HV023, # groupings of primary sampling units\n",
    "  weights = ~ wt, # the sampling weights variable\n",
    "  num_p=1, # ? dunno what this is\n",
    "  nest = T # the primary sampling units are nested within the strata\n",
    ")"
   ]
  },
  {
   "cell_type": "code",
   "execution_count": null,
   "id": "028130f5-8522-4a2f-81d9-25630affdab3",
   "metadata": {},
   "outputs": [],
   "source": [
    "malaria_rdt_table <- svyby(formula = as.formula(paste(\"~\", rdt_result_col)), # to dynamically set the target colname\n",
    "                           # by = ~ ADM1,\n",
    "                           by = reformulate(admin_name_col), # to dynamically define the grouping colname\n",
    "                           FUN = svymean, # compute survey mean\n",
    "                           design = rdt_design_sampling, # the weights, strata, clusters\n",
    "                           level = 0.95, # the level for CI's\n",
    "                           vartype = \"ci\", # for variance, use the CI's\n",
    "                           na.rm = TRUE, # remove the NA's in the calculation\n",
    "                           influence = TRUE) # which observations have a substantial change in the results of the analysis"
   ]
  },
  {
   "cell_type": "code",
   "execution_count": null,
   "id": "bcef2f47-d0d8-4cea-8477-a192b92bb9a8",
   "metadata": {},
   "outputs": [],
   "source": [
    "setDT(malaria_rdt_table)"
   ]
  },
  {
   "cell_type": "code",
   "execution_count": null,
   "id": "e975d45b-1e32-442c-a859-d65ad3db904c",
   "metadata": {},
   "outputs": [],
   "source": [
    "lower_bound_col <- glue(\"{toupper(indicator_u5prev)}_CI_LOWER_BOUND\")\n",
    "upper_bound_col <- glue(\"{toupper(indicator_u5prev)}_CI_UPPER_BOUND\")\n",
    "sample_avg_col <- glue(\"{toupper(indicator_u5prev)}_SAMPLE_AVERAGE\")\n",
    "\n",
    "# names(malaria_rdt_table) <- toupper(names(malaria_rdt_table))\n",
    "names(malaria_rdt_table)[names(malaria_rdt_table) == 'ci_l'] <- lower_bound_col\n",
    "names(malaria_rdt_table)[names(malaria_rdt_table) == 'ci_u'] <- upper_bound_col\n",
    "names(malaria_rdt_table)[names(malaria_rdt_table) == rdt_result_col] <- sample_avg_col\n",
    "\n",
    "# Cap the CI's between 0 and 1 (in case of small sample => large CI's)\n",
    "malaria_rdt_table[get(lower_bound_col) < 0, (lower_bound_col) := 0]\n",
    "malaria_rdt_table[get(upper_bound_col) > 1, (upper_bound_col) := 1]"
   ]
  },
  {
   "cell_type": "code",
   "execution_count": null,
   "id": "706e8de0-643f-4b68-a9e7-8c9dcd7bfba7",
   "metadata": {},
   "outputs": [],
   "source": [
    "# Convert to percentages\n",
    "malaria_rdt_table[, (lower_bound_col) := get(lower_bound_col) * 100]\n",
    "malaria_rdt_table[, (upper_bound_col) := get(upper_bound_col) * 100]\n",
    "malaria_rdt_table[, (sample_avg_col) := get(sample_avg_col) * 100]"
   ]
  },
  {
   "cell_type": "code",
   "execution_count": null,
   "id": "be99a596-2647-4399-979f-4fd5855bd7cf",
   "metadata": {},
   "outputs": [],
   "source": [
    "malaria_rdt_table <- merge.data.table(admin_data, malaria_rdt_table, by = admin_name_col, all = TRUE)\n",
    "\n",
    "filename_without_extension <- glue(\"{COUNTRY_CODE}_{data_source}_{admin_level}_{toupper(indicator_u5prev)}\")\n",
    "write.csv(malaria_rdt_table, file = file.path(OUTPUT_DATA_PATH, paste0(filename_without_extension, '.csv')), row.names = FALSE)\n",
    "write_parquet(malaria_rdt_table, file.path(OUTPUT_DATA_PATH, paste0(filename_without_extension, '.parquet')))"
   ]
  },
  {
   "cell_type": "code",
   "execution_count": null,
   "id": "d8d7236b-bf86-4da4-bc15-ca97b57b5ba4",
   "metadata": {},
   "outputs": [],
   "source": []
  }
 ],
 "metadata": {
  "kernelspec": {
   "display_name": "R",
   "language": "R",
   "name": "ir"
  },
  "language_info": {
   "codemirror_mode": "r",
   "file_extension": ".r",
   "mimetype": "text/x-r-source",
   "name": "R",
   "pygments_lexer": "r",
   "version": "4.4.3"
  }
 },
 "nbformat": 4,
 "nbformat_minor": 5
}
