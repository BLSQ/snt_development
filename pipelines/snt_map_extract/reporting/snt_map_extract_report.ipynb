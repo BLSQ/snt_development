{
 "cells": [
  {
   "cell_type": "markdown",
   "id": "5777b72c-d87e-47c5-87b1-2698a6510b2f",
   "metadata": {},
   "source": [
    "# **Cartes extraites du Malaria Atlas Project (MAP)**"
   ]
  },
  {
   "cell_type": "code",
   "execution_count": null,
   "id": "6397ab91-1ae4-4db7-b6c3-061c453a7b03",
   "metadata": {},
   "outputs": [],
   "source": [
    "# Set SNT Paths\n",
    "SNT_ROOT_PATH  <- \"~/workspace\"\n",
    "CODE_PATH      <- file.path(SNT_ROOT_PATH, \"code\")\n",
    "CONFIG_PATH    <- file.path(SNT_ROOT_PATH, \"configuration\")\n",
    "\n",
    "# load util functions\n",
    "source(file.path(CODE_PATH, \"snt_utils.r\"))\n",
    "\n",
    "# List required packages \n",
    "required_packages <- c(\"dplyr\", \"tidyr\", \"terra\", \"ggplot2\", \"stringr\", \"lubridate\", \"viridis\", \"patchwork\", \"zoo\", \"purrr\", \"arrow\", \"sf\", \"reticulate\")\n",
    "\n",
    "# Execute function\n",
    "install_and_load(required_packages)\n",
    "\n",
    "# Set environment to load openhexa.sdk from the right environment\n",
    "Sys.setenv(RETICULATE_PYTHON = \"/opt/conda/bin/python\")\n",
    "reticulate::py_config()$python\n",
    "openhexa <- import(\"openhexa.sdk\")\n",
    "\n",
    "# Load SNT config\n",
    "config_json <- tryCatch({ jsonlite::fromJSON(file.path(CONFIG_PATH, \"SNT_config.json\"))},\n",
    "    error = function(e) {\n",
    "        msg <- paste0(\"Error while loading configuration\", conditionMessage(e))  \n",
    "        cat(msg)   \n",
    "        stop(msg) \n",
    "    })\n",
    "\n",
    "# Required environment for the sf packages\n",
    "Sys.setenv(PROJ_LIB = \"/opt/conda/share/proj\")\n",
    "Sys.setenv(GDAL_DATA = \"/opt/conda/share/gdal\")"
   ]
  },
  {
   "cell_type": "code",
   "execution_count": null,
   "id": "93e04996-13ba-4855-a1d1-46e70ba4640e",
   "metadata": {},
   "outputs": [],
   "source": [
    "# Configuration variables\n",
    "DATASET_NAME <- config_json$SNT_DATASET_IDENTIFIERS$SNT_MAP_EXTRACT\n",
    "COUNTRY_CODE <- config_json$SNT_CONFIG$COUNTRY_CODE\n",
    "ADM_2 <- toupper(config_json$SNT_CONFIG$DHIS2_ADMINISTRATION_2)"
   ]
  },
  {
   "cell_type": "code",
   "execution_count": null,
   "id": "a1ee21d1-c7d1-4893-ac56-91abb92926ea",
   "metadata": {},
   "outputs": [],
   "source": [
    "# print function\n",
    "printdim <- function(df, name = deparse(substitute(df))) {\n",
    "  cat(\"Dimensions of\", name, \":\", nrow(df), \"rows x\", ncol(df), \"columns\\n\\n\")\n",
    "}"
   ]
  },
  {
   "cell_type": "code",
   "execution_count": null,
   "id": "f7de799e-896c-4237-a9f6-9dafc0f30bde",
   "metadata": {},
   "outputs": [],
   "source": [
    "# import seasonality data\n",
    "map_data <- tryCatch({ get_latest_dataset_file_in_memory(DATASET_NAME, paste0(COUNTRY_CODE, \"_map_data.parquet\")) }, \n",
    "                  error = function(e) {\n",
    "                      msg <- paste(\"Error while loading seasonality file for: \" , COUNTRY_CODE, conditionMessage(e))\n",
    "                      cat(msg)\n",
    "                      stop(msg)\n",
    "                      })\n",
    "# import DHIS2 shapes data\n",
    "DATASET_DHIS2 <- config_json$SNT_DATASET_IDENTIFIERS$DHIS2_DATASET_FORMATTED\n",
    "shapes_data <- tryCatch({ get_latest_dataset_file_in_memory(DATASET_DHIS2, paste0(COUNTRY_CODE, \"_shapes.geojson\")) }, \n",
    "                  error = function(e) {\n",
    "                      msg <- paste(\"Error while loading DHIS2 Shapes data for: \" , COUNTRY_CODE, conditionMessage(e))\n",
    "                      cat(msg)\n",
    "                      stop(msg)\n",
    "                      })\n",
    "\n",
    "printdim(map_data)"
   ]
  },
  {
   "cell_type": "code",
   "execution_count": null,
   "id": "84031c7e-e9c6-4496-896f-7f7f3403d951",
   "metadata": {},
   "outputs": [],
   "source": [
    "names(map_data)"
   ]
  },
  {
   "cell_type": "code",
   "execution_count": null,
   "id": "66b05b53-3f65-424a-af22-0686238a06c9",
   "metadata": {},
   "outputs": [],
   "source": [
    "unique(map_data$METRIC_NAME)"
   ]
  },
  {
   "cell_type": "code",
   "execution_count": null,
   "id": "9d0515ab-4dc2-4671-8c3c-236578a840d8",
   "metadata": {},
   "outputs": [],
   "source": [
    "# Merge geometry with map data\n",
    "map_data_joined <- left_join(shapes_data, map_data, by = c(\"ADM2_ID\" = \"ADM2_ID\"))\n",
    "\n",
    "# Get list of metrics\n",
    "metrics <- unique(map_data$METRIC_NAME)\n",
    "\n",
    "# Create one map per metric\n",
    "plots <- map(metrics, function(metric) {\n",
    "  ggplot(map_data_joined %>% filter(METRIC_NAME == metric)) +\n",
    "    geom_sf(aes(fill = VALUE), color = \"white\") +\n",
    "    scale_fill_viridis_c(option = \"C\", na.value = \"lightgrey\") +\n",
    "    labs(\n",
    "      title = paste0(metric),\n",
    "      fill = \"Valeur\"\n",
    "    ) +\n",
    "    theme_minimal(base_size = 16) +\n",
    "    theme(\n",
    "      plot.title = element_text(size = 20, face = \"bold\"),\n",
    "      legend.title = element_text(size = 16),\n",
    "      legend.text = element_text(size = 14)\n",
    "    )\n",
    "})"
   ]
  },
  {
   "cell_type": "code",
   "execution_count": null,
   "id": "0f1dc1df-211d-4174-83ae-e8ae974fa790",
   "metadata": {},
   "outputs": [],
   "source": [
    "# Set plot size for individual display\n",
    "options(repr.plot.width = 10, repr.plot.height = 8)\n",
    "\n",
    "# Loop through plots and print one by one\n",
    "for (p in plots) {\n",
    "  print(p)\n",
    "  Sys.sleep(1)  # Optional: short pause between plots\n",
    "}"
   ]
  },
  {
   "cell_type": "code",
   "execution_count": null,
   "id": "50c843e4-9157-480d-acde-80887410d156",
   "metadata": {},
   "outputs": [],
   "source": []
  }
 ],
 "metadata": {
  "kernelspec": {
   "display_name": "R",
   "language": "R",
   "name": "ir"
  },
  "language_info": {
   "codemirror_mode": "r",
   "file_extension": ".r",
   "mimetype": "text/x-r-source",
   "name": "R",
   "pygments_lexer": "r",
   "version": "4.4.3"
  }
 },
 "nbformat": 4,
 "nbformat_minor": 5
}
