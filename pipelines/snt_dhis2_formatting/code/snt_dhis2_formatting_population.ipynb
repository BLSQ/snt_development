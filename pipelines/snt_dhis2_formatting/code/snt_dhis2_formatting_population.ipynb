{
 "cells": [
  {
   "cell_type": "markdown",
   "id": "96eee97c-fda4-4827-8111-c438cabed82e",
   "metadata": {},
   "source": [
    "## Setup start "
   ]
  },
  {
   "cell_type": "code",
   "execution_count": null,
   "id": "e1156ab5-2dc6-4bfb-8d7a-ac594c40ecf8",
   "metadata": {
    "vscode": {
     "languageId": "r"
    }
   },
   "outputs": [],
   "source": [
    "# Parameters\n",
    "# SNT_ROOT_PATH   <- '~/workspace'   # SNT root "
   ]
  },
  {
   "cell_type": "code",
   "execution_count": null,
   "id": "687392e7-fe6c-4355-9f4d-6718b467a33d",
   "metadata": {
    "vscode": {
     "languageId": "r"
    }
   },
   "outputs": [],
   "source": [
    "# Set project folders\n",
    "CODE_PATH      <- file.path(SNT_ROOT_PATH, \"code\")\n",
    "CONFIG_PATH    <- file.path(SNT_ROOT_PATH, \"configuration\")\n",
    "FORMATTED_DATA_PATH <- file.path(SNT_ROOT_PATH, \"data\", \"dhis2\", \"extracts_formatted\")"
   ]
  },
  {
   "cell_type": "markdown",
   "id": "7a31fc88-3fa9-4a65-b61a-dc1564aecc22",
   "metadata": {},
   "source": [
    "**Load functions**"
   ]
  },
  {
   "cell_type": "code",
   "execution_count": null,
   "id": "340a8095-ee83-4277-84cd-60c0c626b947",
   "metadata": {
    "vscode": {
     "languageId": "r"
    }
   },
   "outputs": [],
   "source": [
    "source(file.path(CODE_PATH, \"snt_utils.r\"))"
   ]
  },
  {
   "cell_type": "markdown",
   "id": "1188d74a-0d28-48c7-a72e-3c1933b87cf4",
   "metadata": {},
   "source": [
    "**Check and load required libraries**  "
   ]
  },
  {
   "cell_type": "code",
   "execution_count": null,
   "id": "715c8d64-aaa0-43e6-b398-59abfb564bae",
   "metadata": {
    "vscode": {
     "languageId": "r"
    }
   },
   "outputs": [],
   "source": [
    "# List required pcks  ---------------->  check  what are the really required libraries\n",
    "required_packages <- c(\"arrow\", \"dplyr\", \"tidyr\", \"stringr\", \"stringi\", \"jsonlite\", \"httr\", \"reticulate\")\n",
    "\n",
    "# Execute function\n",
    "install_and_load(required_packages)"
   ]
  },
  {
   "cell_type": "code",
   "execution_count": null,
   "id": "d1cf7e13-3be0-44fa-99ea-3e3520da1229",
   "metadata": {
    "vscode": {
     "languageId": "r"
    }
   },
   "outputs": [],
   "source": [
    "# Set environment to load openhexa.sdk from the right environment\n",
    "Sys.setenv(RETICULATE_PYTHON = \"/opt/conda/bin/python\")\n",
    "reticulate::py_config()$python\n",
    "openhexa <- import(\"openhexa.sdk\")"
   ]
  },
  {
   "cell_type": "markdown",
   "id": "21c802bd-506b-4e60-bd06-b715a5c197ee",
   "metadata": {},
   "source": [
    "### Load SNT configuration\n"
   ]
  },
  {
   "cell_type": "code",
   "execution_count": null,
   "id": "10580e48-ccb5-49df-933d-3cdbc480a402",
   "metadata": {
    "vscode": {
     "languageId": "r"
    }
   },
   "outputs": [],
   "source": [
    "# Load SNT config\n",
    "config_json <- tryCatch({\n",
    "        fromJSON(file.path(CONFIG_PATH, \"SNT_config.json\"))\n",
    "    },\n",
    "    error = function(e) {\n",
    "        msg <- paste0(\"Error while loading configuration\", conditionMessage(e))  \n",
    "        cat(msg)   \n",
    "        stop(msg) \n",
    "    })\n",
    "\n",
    "# print(config.json$SNT_CONFIG)\n",
    "msg <- paste0(\"SNT configuration loaded from  : \", file.path(CONFIG_PATH, \"SNT_config.json\"))\n",
    "log_msg(msg)\n",
    "\n",
    "# Save this country code in a variable\n",
    "COUNTRY_CODE <- config_json$SNT_CONFIG$COUNTRY_CODE\n",
    "ADMIN_1 <- toupper(config_json$SNT_CONFIG$DHIS2_ADMINISTRATION_1)\n",
    "ADMIN_2 <- toupper(config_json$SNT_CONFIG$DHIS2_ADMINISTRATION_2)\n",
    "extracts_dataset_id <- config_json$SNT_DATASET_IDENTIFIERS$DHIS2_DATASET_EXTRACTS"
   ]
  },
  {
   "cell_type": "markdown",
   "id": "0b8083d8-ba7f-49d9-865b-ada38c51b6b2",
   "metadata": {},
   "source": [
    "### Load DHIS2 organisation units data"
   ]
  },
  {
   "cell_type": "markdown",
   "id": "ec661ec9-0095-484f-926f-d2362528dc72",
   "metadata": {},
   "source": [
    "-Load DHIS2 organisation units from latest dataset version \n"
   ]
  },
  {
   "cell_type": "code",
   "execution_count": null,
   "id": "6a8ccfcc-3278-4634-bec6-8e72971d8be0",
   "metadata": {},
   "outputs": [],
   "source": [
    "# Load file from dataset\n",
    "dhis2_pyramid_data <- tryCatch({ get_latest_dataset_file_in_memory(extracts_dataset_id, paste0(COUNTRY_CODE, \"_dhis2_raw_pyramid.parquet\")) }, \n",
    "                  error = function(e) {\n",
    "                      msg <- paste(\"Error while loading DHIS2 organisation units file for: \" , COUNTRY_CODE, conditionMessage(e))  # log error message\n",
    "                      cat(msg)\n",
    "                      stop(msg)\n",
    "})\n",
    "\n",
    "msg <- paste0(\"DHIS2 organisation units data loaded from dataset : \", extracts_dataset_id, \" dataframe dimensions: \", paste(dim(dhis2_pyramid_data), collapse=\", \"))\n",
    "log_msg(msg)\n",
    "\n",
    "print(dim(dhis2_pyramid_data))\n",
    "head(dhis2_pyramid_data, 3)"
   ]
  },
  {
   "cell_type": "code",
   "execution_count": null,
   "id": "5a467864-c561-4436-a78d-768926166df1",
   "metadata": {},
   "outputs": [],
   "source": [
    "# Set administrative columns\n",
    "adm_1_id_col <- gsub(\"_NAME\", \"_ID\", ADMIN_1)\n",
    "adm_1_name_col <- ADMIN_1\n",
    "adm_2_id_col <- gsub(\"_NAME\", \"_ID\", ADMIN_2)\n",
    "adm_2_name_col <- ADMIN_2\n",
    "\n",
    "# Select the corresponding population level names from the pyramid \n",
    "dhis2_pyramid_selection <- dhis2_pyramid_data %>%\n",
    "  select(\n",
    "    !!sym(adm_1_name_col),\n",
    "    !!sym(adm_1_id_col),\n",
    "    !!sym(adm_2_name_col),\n",
    "    !!sym(adm_2_id_col)\n",
    "  ) %>%\n",
    "  distinct()\n",
    "\n",
    "print(dim(dhis2_pyramid_selection))\n",
    "head(dhis2_pyramid_selection)"
   ]
  },
  {
   "cell_type": "markdown",
   "id": "1f0ce7a3-954b-4711-bd23-268aeb74f1d7",
   "metadata": {},
   "source": [
    "### Load DHIS2 population data"
   ]
  },
  {
   "cell_type": "markdown",
   "id": "77af1690-79c4-4ad4-92c3-47a5dd119906",
   "metadata": {},
   "source": [
    "-Load DHIS2 population from latest dataset version \n"
   ]
  },
  {
   "cell_type": "code",
   "execution_count": null,
   "id": "82d0d5e9-2cc5-4101-9ea6-59aafdcf5b81",
   "metadata": {
    "vscode": {
     "languageId": "r"
    }
   },
   "outputs": [],
   "source": [
    "# Load file from dataset\n",
    "dhis2_data <- tryCatch({ get_latest_dataset_file_in_memory(extracts_dataset_id, paste0(COUNTRY_CODE, \"_dhis2_raw_population.parquet\")) }, \n",
    "                  error = function(e) {\n",
    "                      msg <- paste(\"Error while loading DHIS2 population file for: \" , COUNTRY_CODE, conditionMessage(e))  # log error message\n",
    "                      cat(msg)\n",
    "                      stop(msg)\n",
    "})\n",
    "\n",
    "msg <- paste0(\"DHIS2 population data loaded from dataset : \", extracts_dataset_id, \" dataframe dimensions: \", paste(dim(dhis2_data), collapse=\", \"))\n",
    "log_msg(msg)"
   ]
  },
  {
   "cell_type": "code",
   "execution_count": null,
   "id": "5dcbe0f6-77b5-42f3-bb49-569fb391070b",
   "metadata": {},
   "outputs": [],
   "source": [
    "dim(dhis2_data)\n",
    "unique(dhis2_data$DX)"
   ]
  },
  {
   "cell_type": "markdown",
   "id": "0d351974-c1c5-4971-97c8-f0122ca9e803",
   "metadata": {},
   "source": [
    "## SNT total population aggregation"
   ]
  },
  {
   "cell_type": "markdown",
   "id": "d25b0a44-bdaf-42fe-aa50-c421804906f0",
   "metadata": {},
   "source": [
    "**Build Population indicators based on definitions**"
   ]
  },
  {
   "cell_type": "code",
   "execution_count": null,
   "id": "38f143eb-c50a-46ed-997d-260230c5679b",
   "metadata": {},
   "outputs": [],
   "source": [
    "# Set population template\n",
    "pop_template <- crossing(\n",
    "    YEAR = unique(as.integer(dhis2_data$PE)),\n",
    "    dhis2_pyramid_selection\n",
    ")\n",
    "\n",
    "print(dim(pop_template))\n",
    "head(pop_template, 3)"
   ]
  },
  {
   "cell_type": "code",
   "execution_count": null,
   "id": "fe0d4ae7-7bb3-474a-a1c9-c703392b6522",
   "metadata": {},
   "outputs": [],
   "source": [
    "# Population indicator definitions\n",
    "indicators <- config_json$DHIS2_DATA_DEFINITIONS$POPULATION_DEFINITIONS[[\"POPULATION_INDICATORS\"]]\n",
    "\n",
    "# Loop over the definitions\n",
    "for (ind_name in names(indicators)) {\n",
    "    \n",
    "    log_msg(glue::glue(\"Building DHIS2 population indicator: {ind_name}.\"))\n",
    "    \n",
    "    # select indicator data\n",
    "    indicator_data <- dhis2_data[dhis2_data$DX %in% c(indicators[[ind_name]]$ids), ]\n",
    "\n",
    "    # aggregate data on OU and PE in case there are several dx and co, and format\n",
    "    indicator_aggregated <- indicator_data %>%\n",
    "            group_by(across(c(\"PE\", \"OU\"))) %>%\n",
    "            mutate(VALUE = as.integer(as.numeric(VALUE)),\n",
    "                   PE = as.numeric(PE)) %>%\n",
    "            summarise(VALUE = sum(VALUE, na.rm = TRUE), .groups = \"drop\") %>%        \n",
    "            rename(!!ind_name := VALUE,               \n",
    "                   !!adm_2_id_col:= OU,\n",
    "                   YEAR := PE) %>%\n",
    "            select(-any_of(c(\"CO\", \"DX\")))\n",
    "\n",
    "    # Combine with previous indicators\n",
    "    pop_template <- left_join(pop_template, indicator_aggregated, by = c(\"YEAR\", adm_2_id_col))    \n",
    "}\n",
    "\n",
    "# sort\n",
    "population_table <- pop_template %>%\n",
    "    arrange(YEAR, !!sym(adm_1_name_col), !!sym(adm_2_name_col)) \n"
   ]
  },
  {
   "cell_type": "code",
   "execution_count": null,
   "id": "dfb72927-ddfa-47bc-81cb-bae14a4d7eba",
   "metadata": {},
   "outputs": [],
   "source": [
    "print(dim(population_table))\n",
    "head(population_table, 3)"
   ]
  },
  {
   "cell_type": "markdown",
   "id": "e7b19575-978e-4507-b486-58b1be866912",
   "metadata": {},
   "source": [
    "## Format SNT population data"
   ]
  },
  {
   "cell_type": "markdown",
   "id": "c80c3ef3-c7a6-4845-9134-3900bfba5eef",
   "metadata": {},
   "source": [
    "### SNT format \n",
    "\n",
    "Apply standard SNT formatting for the final table"
   ]
  },
  {
   "cell_type": "code",
   "execution_count": null,
   "id": "9db75d55-60f0-43ca-97bd-2ed808247ddb",
   "metadata": {
    "vscode": {
     "languageId": "r"
    }
   },
   "outputs": [],
   "source": [
    "# Clean strings for admin 1 and admin 2\n",
    "population_table[[ADMIN_1]] <- format_names(population_table[[ADMIN_1]]) # format_names() in snt_utils.r\n",
    "population_table[[ADMIN_2]] <- format_names(population_table[[ADMIN_2]])\n",
    "\n",
    "# Select and Rename columns\n",
    "population_table_formatted <- population_table %>% \n",
    "    rename(\n",
    "        ADM1_NAME = !!sym(adm_1_name_col),\n",
    "        ADM1_ID = !!sym(adm_1_id_col),           \n",
    "        ADM2_NAME = !!sym(adm_2_name_col),\n",
    "        ADM2_ID = !!sym(adm_2_id_col)       \n",
    "        )\n",
    "\n",
    "print(dim(population_table_formatted))\n",
    "head(population_table_formatted)"
   ]
  },
  {
   "cell_type": "markdown",
   "id": "cd7c7fcc-16b7-4931-a73e-c82604a1d108",
   "metadata": {},
   "source": [
    "### Output formatted population data"
   ]
  },
  {
   "cell_type": "code",
   "execution_count": null,
   "id": "8d704604-8af9-48bf-afc4-3965a634ac75",
   "metadata": {
    "vscode": {
     "languageId": "r"
    }
   },
   "outputs": [],
   "source": [
    "out_msg <- paste0(\"Population data saved under: \", file.path(FORMATTED_DATA_PATH, paste0(COUNTRY_CODE, \"_population.csv\")))\n",
    "\n",
    "# write parquet file\n",
    "write_parquet(population_table_formatted, file.path(FORMATTED_DATA_PATH, paste0(COUNTRY_CODE, \"_population.parquet\")))\n",
    "\n",
    "# write csv file\n",
    "write.csv(population_table_formatted, file.path(FORMATTED_DATA_PATH, paste0(COUNTRY_CODE, \"_population.csv\")), row.names = FALSE)\n",
    "\n",
    "# log\n",
    "log_msg(out_msg)"
   ]
  },
  {
   "cell_type": "markdown",
   "id": "07ce08f0-526e-48e9-a72d-16aafc1f40b8",
   "metadata": {},
   "source": [
    "### Data Summary "
   ]
  },
  {
   "cell_type": "code",
   "execution_count": null,
   "id": "cbaa160c-04e4-4b9c-95e4-b320a358ce40",
   "metadata": {
    "vscode": {
     "languageId": "r"
    }
   },
   "outputs": [],
   "source": [
    "# Data summary\n",
    "print(summary(population_table_formatted))"
   ]
  }
 ],
 "metadata": {
  "kernelspec": {
   "display_name": "R",
   "language": "R",
   "name": "ir"
  },
  "language_info": {
   "codemirror_mode": "r",
   "file_extension": ".r",
   "mimetype": "text/x-r-source",
   "name": "R",
   "pygments_lexer": "r",
   "version": "4.4.3"
  }
 },
 "nbformat": 4,
 "nbformat_minor": 5
}
