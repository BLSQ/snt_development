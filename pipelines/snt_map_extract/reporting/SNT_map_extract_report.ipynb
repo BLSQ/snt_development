{
 "cells": [
  {
   "cell_type": "code",
   "execution_count": null,
   "id": "f8402d59-965f-42da-ae74-76e6611167dc",
   "metadata": {},
   "outputs": [],
   "source": [
    "print(\"Map extract reporting placeholder\")"
   ]
  },
  {
   "cell_type": "code",
   "execution_count": null,
   "id": "6397ab91-1ae4-4db7-b6c3-061c453a7b03",
   "metadata": {},
   "outputs": [],
   "source": []
  }
 ],
 "metadata": {
  "kernelspec": {
   "display_name": "R",
   "language": "R",
   "name": "ir"
  },
  "language_info": {
   "codemirror_mode": "r",
   "file_extension": ".r",
   "mimetype": "text/x-r-source",
   "name": "R",
   "pygments_lexer": "r",
   "version": "4.4.3"
  }
 },
 "nbformat": 4,
 "nbformat_minor": 5
}
