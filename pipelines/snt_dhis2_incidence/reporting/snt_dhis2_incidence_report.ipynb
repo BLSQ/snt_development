{
 "cells": [
  {
   "cell_type": "code",
   "execution_count": null,
   "id": "6271717f-8a44-4f0a-8ec1-af7c2f8d0358",
   "metadata": {},
   "outputs": [],
   "source": [
    "print(\"Work on `SNT_dhis2_incidence_report_WORK_ON_THIS_ONE.ipynb` but FIX fatal error!!!\")"
   ]
  },
  {
   "cell_type": "code",
   "execution_count": null,
   "id": "0505794a-5dcb-4da7-8bc1-a47e0d9a0c40",
   "metadata": {},
   "outputs": [],
   "source": []
  },
  {
   "cell_type": "code",
   "execution_count": null,
   "id": "5e481af9-143c-4357-ad04-877d583b877b",
   "metadata": {},
   "outputs": [],
   "source": []
  }
 ],
 "metadata": {
  "kernelspec": {
   "display_name": "R",
   "language": "R",
   "name": "ir"
  },
  "language_info": {
   "codemirror_mode": "r",
   "file_extension": ".r",
   "mimetype": "text/x-r-source",
   "name": "R",
   "pygments_lexer": "r",
   "version": "4.4.3"
  }
 },
 "nbformat": 4,
 "nbformat_minor": 5
}
