{
 "cells": [
  {
   "cell_type": "markdown",
   "id": "f5827740-2917-4504-9017-9ec7d408e5f4",
   "metadata": {},
   "source": [
    "Script structure:\n",
    "* 0. Set parameters (will be part of pipeline so this block will be silenced)\n",
    "  1. Setup:\n",
    "        * Paths\n",
    "        * Utils functions\n",
    "  2. Load Data\n",
    "        * **Routine data** (DHIS2) already formatted & aggregated (output of pipeline XXX)\n",
    "        * **Reporting** (DHIS2) pre-computed, already formatted & aggregated (output of pipeline ???)\n",
    "        * **Shapes** (DHIS2) for plotting (this could be removed if we move the plots to \"report/EDA\" nb)\n",
    "  3. Calculate **Reportng Rate (RR)**\n",
    "        * \"DHIS2\": using pre-computed reportings from DHIS2/SNIS\n",
    "        * \"ANY\" (based on old code - BFA)\n",
    "        * \"CONF\" (based on code in nb: `~/dhis2_incidence/code/WIP/code_from_fre/DRC_DHIS2_analyses_fvdb_v2.ipynb`)\n",
    "     **Export** reporting rate data to **Datasets** as .csv and .parquet files\n",
    "  6. 🚧 (possibly) Expand reporting: **data inspection** (plots and summary tables) - this might go to **dedicated nb** ..."
   ]
  },
  {
   "cell_type": "markdown",
   "id": "cdd5409b-dc0e-45f4-ae4e-dffcdb25059b",
   "metadata": {},
   "source": [
    "-------------------\n",
    "**Naming harmonization to improve code readability**:"
   ]
  },
  {
   "cell_type": "markdown",
   "id": "96d5dffc-ff34-4a14-b2b7-1e71e6afad07",
   "metadata": {},
   "source": [
    "**Reporting Rate** data frames, based on different **methods**:\n",
    "* follwo this structure: `reporting_rate_<method>_<periodicity>`. So:\n",
    "    * **DHIS2** (using pre-computed reporting) : `reporting_rate_dhis2_month`\n",
    "    * **ANY** (as \"this code simply tests for _any_ indicator that is present\"): `reporting_rate_any_month`\n",
    "    * **CONF** (Diallo 2025) : `reporting_rate_conf_month`"
   ]
  },
  {
   "cell_type": "markdown",
   "id": "5e8f5bf2-922a-468a-8a2c-8e56d7e652df",
   "metadata": {},
   "source": [
    "--------------------"
   ]
  },
  {
   "cell_type": "markdown",
   "id": "1c08efff-9c38-4d27-b858-f766099f398a",
   "metadata": {},
   "source": [
    "🚧 **Notes / possible ToDo's**:\n",
    "* Currently, the **denominator** for the methods \"ANY\" and \"CONF\" is the value of the col `EXPECTED_REPORTS` (from DHSI2/SNIS). Previoulsy it was calculated differently and stored in the cols `TOTAL_HF_ACTIVE` and `N_FACILITIES` respectively. I'm keeping these cols for now for the sake of comparison, but I _might delete later to streamline the code_.\n",
    "* Considering to remove **yearly** reporting rate calculations (`reporting_rate_*_year`) as it does not seem to be used anywhere - excpet for the reporting/comparison/data quality check. Therefore, maybe better to only have this in the reporting nb (delete from main nb)"
   ]
  },
  {
   "cell_type": "markdown",
   "id": "617afd00-0954-4b6c-9305-32b329530ad3",
   "metadata": {},
   "source": [
    "--------------------"
   ]
  },
  {
   "cell_type": "markdown",
   "id": "339f6d58-0965-40ef-b718-96195d2463f8",
   "metadata": {},
   "source": [
    "## Parameters"
   ]
  },
  {
   "cell_type": "markdown",
   "id": "84a4b0a1-458e-4863-a7b1-9e311845eb2c",
   "metadata": {},
   "source": [
    "No parameters in this nb :P"
   ]
  },
  {
   "cell_type": "markdown",
   "id": "dd6cd6f8-b91b-4902-8801-a60e11776f98",
   "metadata": {},
   "source": [
    "#### Set Default values **if _not_ provided by pipeline**\n",
    "This makes the execution flexible and \"safe\": nb can be run manually from here or be executed via pipeline, without having to change anything in the code!"
   ]
  },
  {
   "cell_type": "code",
   "execution_count": null,
   "id": "93aac683-8828-4a42-b841-f16c7e8fbb07",
   "metadata": {},
   "outputs": [],
   "source": [
    "# Set BACKUP VALUE: root path - NEVER CHANGE THIS!\n",
    "if (!exists(\"SNT_ROOT_PATH\")) {\n",
    "  SNT_ROOT_PATH <- \"/home/hexa/workspace\" \n",
    "}"
   ]
  },
  {
   "cell_type": "markdown",
   "id": "af076158-1f5a-408d-8ce2-2f2101d0531c",
   "metadata": {},
   "source": [
    "## 1. Setup"
   ]
  },
  {
   "cell_type": "markdown",
   "id": "3ae826e4-f728-4c8d-81fb-0857234ac622",
   "metadata": {},
   "source": [
    "### 1.1. Paths"
   ]
  },
  {
   "cell_type": "code",
   "execution_count": null,
   "id": "b5f1b8ce-db82-4295-8e74-00b765cf0b9d",
   "metadata": {},
   "outputs": [],
   "source": [
    "# PROJECT PATHS\n",
    "CODE_PATH <- file.path(SNT_ROOT_PATH, 'code') # this is where we store snt_utils.r\n",
    "CONFIG_PATH <- file.path(SNT_ROOT_PATH, 'configuration') # .json config file\n",
    "DATA_PATH <- file.path(SNT_ROOT_PATH, 'data') # same as in Datasets but /data/ gets over written every time a new version of Datasets is pushed"
   ]
  },
  {
   "cell_type": "markdown",
   "id": "22971de0-1431-4cbd-b8c1-3bd3e1609e0d",
   "metadata": {},
   "source": [
    "### 1.2. Utils functions"
   ]
  },
  {
   "cell_type": "code",
   "execution_count": null,
   "id": "1784fd43-03f3-478b-8148-4b478317ea21",
   "metadata": {},
   "outputs": [],
   "source": [
    "source(file.path(CODE_PATH, \"snt_utils.r\"))"
   ]
  },
  {
   "cell_type": "markdown",
   "id": "3bbcbd39-54e8-4ece-9244-30d7d30291d2",
   "metadata": {},
   "source": [
    "### 1.3. Packages"
   ]
  },
  {
   "cell_type": "code",
   "execution_count": null,
   "id": "426ecff6-0b4c-474d-a48d-826002205b89",
   "metadata": {},
   "outputs": [],
   "source": [
    "# List required pcks  ---------------->  check  what are the really required libraries\n",
    "required_packages <- c(\"arrow\", # for .parquet\n",
    "                       \"tidyverse\",\n",
    "                       \"stringi\", \n",
    "                       \"sf\",\n",
    "                       \"jsonlite\", \n",
    "                       \"httr\", \n",
    "                       \"reticulate\")\n",
    "\n",
    "# Execute function\n",
    "install_and_load(required_packages)"
   ]
  },
  {
   "cell_type": "markdown",
   "id": "18a8e0c1-ac09-4435-b6f4-5f91fd916396",
   "metadata": {},
   "source": [
    "### 1.3.1. OpenHEXA-specific settings"
   ]
  },
  {
   "cell_type": "markdown",
   "id": "ebb8c7d5-7c2c-4dbe-a1ba-238419fbedf3",
   "metadata": {},
   "source": [
    "#### For 📦{sf}, tell OH where to find stuff ..."
   ]
  },
  {
   "cell_type": "code",
   "execution_count": null,
   "id": "91a66fb7-dd5e-43fd-a6a2-d8bb9f0315d6",
   "metadata": {},
   "outputs": [],
   "source": [
    "# Hope this gets fixed at the source one day ...\n",
    "Sys.setenv(PROJ_LIB = \"/opt/conda/share/proj\")\n",
    "Sys.setenv(GDAL_DATA = \"/opt/conda/share/gdal\")"
   ]
  },
  {
   "cell_type": "markdown",
   "id": "ac9ee427-020e-47c5-b2c9-5ca24e1f2779",
   "metadata": {},
   "source": [
    "#### Set environment to load openhexa.sdk from the right path"
   ]
  },
  {
   "cell_type": "code",
   "execution_count": null,
   "id": "aa331278-573d-4a22-ab16-da6972d7b0be",
   "metadata": {},
   "outputs": [],
   "source": [
    "# Set environment to load openhexa.sdk from the right path\n",
    "Sys.setenv(RETICULATE_PYTHON = \"/opt/conda/bin/python\")\n",
    "reticulate::py_config()$python\n",
    "openhexa <- import(\"openhexa.sdk\")"
   ]
  },
  {
   "cell_type": "markdown",
   "id": "339b2e8b-9bf6-4eaf-b283-d9360c1c6899",
   "metadata": {},
   "source": [
    "### 1.4. Load and check `config` file"
   ]
  },
  {
   "cell_type": "code",
   "execution_count": null,
   "id": "f1c46526-6844-43ae-bb53-d8d1ad2fac24",
   "metadata": {},
   "outputs": [],
   "source": [
    "# Load SNT config\n",
    "\n",
    "config_file_name <- \"SNT_config.json\" \n",
    "config_json <- tryCatch({\n",
    "        jsonlite::fromJSON(file.path(CONFIG_PATH, config_file_name)) \n",
    "    },\n",
    "    error = function(e) {\n",
    "        msg <- paste0(\"Error while loading configuration\", conditionMessage(e))  \n",
    "        cat(msg)   \n",
    "        stop(msg) \n",
    "    })\n",
    "\n",
    "msg <- paste0(\"SNT configuration loaded from  : \", file.path(CONFIG_PATH, config_file_name))\n",
    "log_msg(msg)"
   ]
  },
  {
   "cell_type": "markdown",
   "id": "29182f25-b0cf-46aa-9818-49616cd3f353",
   "metadata": {},
   "source": [
    "**Save config fields as variables**"
   ]
  },
  {
   "cell_type": "code",
   "execution_count": null,
   "id": "c52654c8-8a19-4e0c-a83b-1bc2eecae6bc",
   "metadata": {},
   "outputs": [],
   "source": [
    "# Generic\n",
    "COUNTRY_CODE <- config_json$SNT_CONFIG$COUNTRY_CODE\n",
    "ADMIN_1 <- toupper(config_json$SNT_CONFIG$DHIS2_ADMINISTRATION_1)\n",
    "ADMIN_2 <- toupper(config_json$SNT_CONFIG$DHIS2_ADMINISTRATION_2)\n",
    "\n",
    "# How to treat 0 values (in this case: \"SET_0_TO_NA\" converts 0 to NAs)\n",
    "NA_TREATMENT <- config_json$SNT_CONFIG$NA_TREATMENT\n",
    "\n",
    "# Which (aggregated) indicators to use to evaluate \"activity\" of an HF - for Reporting Rate method \"Ousmane\"\n",
    "DHIS2_INDICATORS <- names(config_json$DHIS2_DATA_DEFINITIONS$DHIS2_INDICATOR_DEFINITIONS)\n",
    "\n",
    "# Which reporting rate PRODUCT_UID to use (not that this is a dataset in COD, but 2 dataElements in BFA!)\n",
    "REPORTING_RATE_PRODUCT_ID <- config_json$SNT_CONFIG$REPORTING_RATE_PRODUCT_UID"
   ]
  },
  {
   "cell_type": "code",
   "execution_count": null,
   "id": "2a0a8562-4a70-455c-9ccf-aa39f4cf4e31",
   "metadata": {},
   "outputs": [],
   "source": [
    "# Fixed  cols for routine data formatting \n",
    "fixed_cols <- c('OU_ID','PERIOD', 'YEAR', 'MONTH', 'ADM1_ID', 'ADM2_ID') # (OU_NAME has homonimous values!)\n",
    "print(paste(\"Fixed routine data (\\\"dhis2_routine\\\") columns (always expected): \", paste(fixed_cols, collapse=\", \")))"
   ]
  },
  {
   "cell_type": "code",
   "execution_count": null,
   "id": "86e82d54-2b00-4c25-9b34-3497d4c88c52",
   "metadata": {},
   "outputs": [],
   "source": [
    "# Fixed cols for exporting RR tables\n",
    "fixed_cols_rr <- c('YEAR', 'MONTH', 'ADM2_ID', 'REPORTING_RATE') "
   ]
  },
  {
   "cell_type": "markdown",
   "id": "8d8d9be2-bf05-466d-811e-6beea0dccfde",
   "metadata": {},
   "source": [
    "## 2. Load Data"
   ]
  },
  {
   "cell_type": "markdown",
   "id": "0fa1b169-fc55-4ef1-b58f-6a7dc9d1dec3",
   "metadata": {},
   "source": [
    "### 2.1. **Routine** data (DHIS2) \n",
    "already formatted & aggregated (output of pipeline XXX)"
   ]
  },
  {
   "cell_type": "code",
   "execution_count": null,
   "id": "586e8da8-4e1c-431a-9b8d-1169167e1c09",
   "metadata": {},
   "outputs": [],
   "source": [
    "# DHIS2 Dataset extract identifier\n",
    "dataset_name <- config_json$SNT_DATASET_IDENTIFIERS$DHIS2_DATASET_FORMATTED\n",
    "\n",
    "# Load file from dataset\n",
    "dhis2_routine <- tryCatch({ get_latest_dataset_file_in_memory(dataset_name, paste0(COUNTRY_CODE, \"_routine.parquet\")) }, \n",
    "                  error = function(e) {\n",
    "                      msg <- paste(\"Error while loading DHIS2 routine data file for: \" , COUNTRY_CODE, conditionMessage(e))  # log error message\n",
    "                      cat(msg)\n",
    "                      stop(msg)\n",
    "})\n",
    "\n",
    "msg <- paste0(\"DHIS2 routine data loaded from dataset : \", dataset_name, \" dataframe dimensions: \", paste(dim(dhis2_routine), collapse=\", \"))\n",
    "log_msg(msg)"
   ]
  },
  {
   "cell_type": "code",
   "execution_count": null,
   "id": "a2454183-44f7-4e2e-a0cf-ca112aa183bb",
   "metadata": {},
   "outputs": [],
   "source": [
    "# Ensure correct data type for numerical columns \n",
    "dhis2_routine <- dhis2_routine %>%\n",
    "    mutate(across(c(PERIOD, YEAR, MONTH), as.numeric))"
   ]
  },
  {
   "cell_type": "code",
   "execution_count": null,
   "id": "edb2fcdc-ce0a-4c78-b06a-9f4610ab4714",
   "metadata": {},
   "outputs": [],
   "source": [
    "head(dhis2_routine)"
   ]
  },
  {
   "cell_type": "markdown",
   "id": "c832da26-fe0c-43fe-8300-2fff5c4cbf34",
   "metadata": {},
   "source": [
    "### 2.2. **Reporting** pre-computed from DHIS2 \n",
    "Data granularity:\n",
    "* **ADM2**\n",
    "* **MONTH** (PERIOD)\n",
    "\n",
    "Note that data comes from different dataset (`DS_NAME`): `A SERVICES DE BASE`, `B SERVICES SECONDAIRES`,`D SERVICE HOPITAL` \n",
    "\n",
    "The col `DS_METRIC` indicates whether the `VALUE` is `EXPECTED_REPORTS`, `ACTUAL_REPORTS`"
   ]
  },
  {
   "cell_type": "code",
   "execution_count": null,
   "id": "8a32fc96-5b8e-4108-a224-c0d843df9b47",
   "metadata": {},
   "outputs": [],
   "source": [
    "# DHIS2 Dataset extract identifier\n",
    "dataset_name <- config_json$SNT_DATASET_IDENTIFIERS$DHIS2_DATASET_FORMATTED\n",
    "file_name <- paste0(COUNTRY_CODE, \"_reporting.parquet\")\n",
    "\n",
    "# Load file from dataset\n",
    "dhis2_reporting <- tryCatch({ get_latest_dataset_file_in_memory(dataset_name, file_name) }, \n",
    "                  error = function(e) {\n",
    "                      msg <- paste(\"Error while loading DHIS2 pre-computed REPORTING data file for: \" , COUNTRY_CODE, conditionMessage(e))  # log error message\n",
    "                      cat(msg)\n",
    "                      stop(msg)\n",
    "})\n",
    "\n",
    "msg <- paste0(\"DHIS2 pre-computed REPORTING data : \", file_name, \" loaded from dataset : \", dataset_name, \". Dataframe dimensions: \", paste(dim(dhis2_reporting), collapse=\", \"))\n",
    "log_msg(msg)"
   ]
  },
  {
   "cell_type": "code",
   "execution_count": null,
   "id": "46e3dba8-d46b-457e-ba90-c663e30c42d2",
   "metadata": {},
   "outputs": [],
   "source": [
    "# Convert VALUE col to <dbl> - safety measure \n",
    "dhis2_reporting <- dhis2_reporting |>\n",
    "mutate(across(c(PERIOD, YEAR, MONTH, VALUE), as.numeric))"
   ]
  },
  {
   "cell_type": "code",
   "execution_count": null,
   "id": "5149befe-b6ad-46a9-9879-7637ce5b02be",
   "metadata": {},
   "outputs": [],
   "source": [
    "head(dhis2_reporting, 3)"
   ]
  },
  {
   "cell_type": "markdown",
   "id": "7a967af3-f6e5-428a-8769-72808f21a125",
   "metadata": {},
   "source": [
    "#### 2.2.1. **Filter** to keep only values for `PRODUCT_UID` defined in config.json"
   ]
  },
  {
   "cell_type": "code",
   "execution_count": null,
   "id": "1948c2f7-7a2c-47a2-9dc6-ba29da6d030c",
   "metadata": {},
   "outputs": [],
   "source": [
    "REPORTING_RATE_PRODUCT_ID"
   ]
  },
  {
   "cell_type": "code",
   "execution_count": null,
   "id": "e4258098-e24c-4520-914d-0f73354bb3ab",
   "metadata": {},
   "outputs": [],
   "source": [
    "# Handle problems with incorrect configuration - to be improved 🚧\n",
    "if (is.null(REPORTING_RATE_PRODUCT_ID)) {\n",
    "    log_msg(\"🛑 Problem with definition of REPORTING_RATE_PRODUCT_ID, check config.json file!\")\n",
    "}"
   ]
  },
  {
   "cell_type": "code",
   "execution_count": null,
   "id": "c22c6ada-7cb1-4fca-b65e-b51e5eca35a2",
   "metadata": {},
   "outputs": [],
   "source": [
    "dhis2_reporting_filtered <- dhis2_reporting |>\n",
    "# filter(PRODUCT_NAME == REPORTING_DS_NAME) |>\n",
    "filter(PRODUCT_UID %in% REPORTING_RATE_PRODUCT_ID) |>\n",
    "select(-PRODUCT_UID, -PRODUCT_NAME) # useless cols now\n",
    "\n",
    "print(dim(dhis2_reporting_filtered))\n",
    "head(dhis2_reporting_filtered)"
   ]
  },
  {
   "cell_type": "markdown",
   "id": "9da035cf-5d3f-4df0-a063-2d2497616c82",
   "metadata": {},
   "source": [
    "#### 2.2.2. Format to produce `dhis2_reporting_expected`\n",
    "🚨 Note: Use `dhis2_reporting_expected$EXPECTED_REPORTS` as new denominator for REPORTING_RATE calculations (methods ANY and CONF)"
   ]
  },
  {
   "cell_type": "code",
   "execution_count": null,
   "id": "7e970f9d-258e-4050-ae69-185b88c79fc3",
   "metadata": {},
   "outputs": [],
   "source": [
    "dhis2_reporting_wide <- dhis2_reporting_filtered |> \n",
    "pivot_wider(\n",
    "    names_from = PRODUCT_METRIC, # DS_METRIC\n",
    "    values_from = VALUE\n",
    ")\n",
    "\n",
    "print(dim(dhis2_reporting_wide))\n",
    "head(dhis2_reporting_wide)"
   ]
  },
  {
   "cell_type": "markdown",
   "id": "55846037-2c95-4a15-867c-97f63201dbb0",
   "metadata": {},
   "source": [
    "🚨 **Note**: Use `dhis2_reporting_expected$EXPECTED_REPORTS` as new **denominator** for `REPORTING_RATE` calculations (methods ANY and CONF)"
   ]
  },
  {
   "cell_type": "code",
   "execution_count": null,
   "id": "eab31756-ae6b-4152-8ec3-8195236d8732",
   "metadata": {},
   "outputs": [],
   "source": [
    "# Use `dhis2_reporting_expected$EXPECTED_REPORTS` as new denomitor for RR calculations (methods ANY and CONF)\n",
    "\n",
    "dhis2_reporting_expected <- dhis2_reporting_wide |> \n",
    "select(-ACTUAL_REPORTS)\n",
    "\n",
    "print(dim(dhis2_reporting_expected))\n",
    "head(dhis2_reporting_expected)"
   ]
  },
  {
   "cell_type": "markdown",
   "id": "3c3d0f35-889d-4c16-9741-d6e75e2ef096",
   "metadata": {},
   "source": [
    "#### 2.2.3. **Checks** on data completeness: do **periods match** with routine data?\n",
    "Lack of perfect overlap in periods between routine data and reporting rate data might create headhaches down the line!<br>\n",
    "Specifically, **incidence** calculations will show **N2 smaller than N1** due to **aggregation by YEAR when NA** values are present!"
   ]
  },
  {
   "cell_type": "code",
   "execution_count": null,
   "id": "7c21df65-fa8e-42dd-96ce-38f2bccafeac",
   "metadata": {},
   "outputs": [],
   "source": [
    "# # For testing of log msg only!\n",
    "\n",
    "# dhis2_routine <- tibble(\n",
    "#   YEAR = c(2020, 2020, 2021, 2021, 2020),\n",
    "#   MONTH = c(\"01\", \"02\", \"01\", \"03\", \"01\"),\n",
    "#   VALUE = c(10, 20, 15, 25, 30)\n",
    "# )\n",
    "\n",
    "# dhis2_reporting_expected <- tibble(\n",
    "#   YEAR = c(2020, 2020, 2021, 2021),\n",
    "#   MONTH = c(\"01\", \"02\", \"01\", \"04\"),\n",
    "#   EXPECTED_VALUE = c(12, 22, 17, 27)\n",
    "# )"
   ]
  },
  {
   "cell_type": "code",
   "execution_count": null,
   "id": "7ea57600-418b-45bc-805a-f829e237b4c4",
   "metadata": {},
   "outputs": [],
   "source": [
    "# --- Check Year Compatibility ---\n",
    "routine_years <- sort(unique(as.integer(dhis2_routine$YEAR))) # as.integer\n",
    "expected_years <- sort(unique(as.integer(dhis2_reporting_expected$YEAR))) # as.integer\n",
    "\n",
    "if (!setequal(routine_years, expected_years)) {\n",
    "  missing_in_routine <- setdiff(expected_years, routine_years)\n",
    "  missing_in_expected <- setdiff(routine_years, expected_years)\n",
    "\n",
    "  if (length(missing_in_routine) > 0) {\n",
    "    log_msg(paste0(\"🚨 Warning: YEAR value(s) present in 'dhis2_reporting_expected' but not in 'dhis2_routine': \",\n",
    "                   paste(missing_in_routine, collapse = \", \")))\n",
    "  }\n",
    "  if (length(missing_in_expected) > 0) {\n",
    "    log_msg(paste0(\"🚨 Warning: YEAR value(s) present in 'dhis2_routine' but not in 'dhis2_reporting_expected': \",\n",
    "                   paste(missing_in_expected, collapse = \", \")))\n",
    "  }\n",
    "} else {\n",
    "  log_msg(\"✅ YEAR values are consistent across 'dhis2_routine' and 'dhis2_reporting_expected'.\")\n",
    "\n",
    "  # --- Check Month Compatibility (if years are consistent) ---\n",
    "  all_years <- unique(routine_years) # Or expected_years, they are the same now\n",
    "\n",
    "  for (year_val in all_years) {\n",
    "    routine_months_for_year <- dhis2_routine %>%\n",
    "      filter(YEAR == year_val) %>%\n",
    "      pull(MONTH) %>%\n",
    "      unique() %>%\n",
    "      sort()\n",
    "\n",
    "    expected_months_for_year <- dhis2_reporting_expected %>%\n",
    "      filter(YEAR == year_val) %>%\n",
    "      pull(MONTH) %>%\n",
    "      unique() %>%\n",
    "      sort()\n",
    "\n",
    "    if (!setequal(routine_months_for_year, expected_months_for_year)) {\n",
    "      missing_in_routine_months <- setdiff(expected_months_for_year, routine_months_for_year)\n",
    "      missing_in_expected_months <- setdiff(routine_months_for_year, expected_months_for_year)\n",
    "\n",
    "      if (length(missing_in_routine_months) > 0) {\n",
    "        log_msg(paste0(\"🚨 Warning: for YEAR \", year_val, \", MONTH value(s) '\", paste(missing_in_routine_months, collapse = \", \"),\n",
    "                       \"' present in 'dhis2_reporting_expected' but not in 'dhis2_routine'!\"\n",
    "                       ))\n",
    "      }\n",
    "      if (length(missing_in_expected_months) > 0) {\n",
    "        log_msg(paste0(\"🚨 Warning: for YEAR \", year_val, \", MONTH value(s) '\", paste(missing_in_expected_months, collapse = \", \"), \n",
    "                       \"' present in 'dhis2_routine' but not in 'dhis2_reporting_expected'!\"\n",
    "                       ))\n",
    "      }\n",
    "    } else {\n",
    "      log_msg(paste0(\"✅ For year \", year_val, \", months are consistent across both data frames.\"))\n",
    "    }\n",
    "  }\n",
    "}"
   ]
  },
  {
   "cell_type": "markdown",
   "id": "5e711191-995b-4f89-b10c-fc2214cdd8b2",
   "metadata": {},
   "source": [
    "### 2.3. **Shapes** for plotting maps (choropleths)"
   ]
  },
  {
   "cell_type": "code",
   "execution_count": null,
   "id": "652cf1a7-c9a2-48db-b44d-8fabfd0e072f",
   "metadata": {},
   "outputs": [],
   "source": [
    "# DHIS2 Dataset extract identifier\n",
    "dataset_name <- config_json$SNT_DATASET_IDENTIFIERS$DHIS2_DATASET_FORMATTED\n",
    "\n",
    "# Load file from dataset\n",
    "dhis2_shapes <- tryCatch({ get_latest_dataset_file_in_memory(dataset_name, paste0(COUNTRY_CODE, \"_shapes.geojson\")) }, \n",
    "                  error = function(e) {\n",
    "                      msg <- paste(\"Error while loading DHIS2 shapes data file for: \" , COUNTRY_CODE, conditionMessage(e))  # log error message\n",
    "                      cat(msg)\n",
    "                      stop(msg)\n",
    "})\n",
    "\n",
    "msg <- paste0(\"DHIS2 shapes data loaded from dataset : \", dataset_name, \" dataframe dimensions: \", paste(dim(dhis2_shapes), collapse=\", \"))\n",
    "log_msg(msg)"
   ]
  },
  {
   "cell_type": "code",
   "execution_count": null,
   "id": "ffa799a2-f5e5-4ba6-b310-71802787d21b",
   "metadata": {},
   "outputs": [],
   "source": [
    "# `head()` cannot display, needs ‘geojsonio’ (which I cannot install) so let's just check col names ... \n",
    "names(dhis2_shapes)"
   ]
  },
  {
   "cell_type": "markdown",
   "id": "eb4c5c63-d140-46b8-b686-886e612a31dc",
   "metadata": {},
   "source": [
    "## 3. Calculate **Reporting Rate** (RR)\n",
    "We compute it using 3 approaches, user can decided later on which one to use for incidence adjustment."
   ]
  },
  {
   "cell_type": "markdown",
   "id": "cb724aa8-5f06-4e99-aeca-640d0c1b049e",
   "metadata": {},
   "source": [
    "### 3.0. From **DHIS2** pre-computed reporting\n",
    "Exrtacted from DHIS2 and formatted. \n",
    "\n",
    "Simple, just pivot `DS_METRIC` and divide `ACTUAL_REPORTS` / `EXPECTED_REPORTS`"
   ]
  },
  {
   "cell_type": "code",
   "execution_count": null,
   "id": "10b2f52b-0217-43f1-88a3-cd01d98869b1",
   "metadata": {},
   "outputs": [],
   "source": [
    "reporting_rate_dhis2_month <- dhis2_reporting_wide |> \n",
    "mutate(REPORTING_RATE = ACTUAL_REPORTS / EXPECTED_REPORTS)\n",
    "\n",
    "print(dim(reporting_rate_dhis2_month))\n",
    "head(reporting_rate_dhis2_month, 3)"
   ]
  },
  {
   "cell_type": "markdown",
   "id": "3d49eda8-b4fd-437a-8938-17bf0806f281",
   "metadata": {},
   "source": [
    "#### Quick data quality check 🔍"
   ]
  },
  {
   "cell_type": "code",
   "execution_count": null,
   "id": "cff33416-ea66-4eeb-9d33-1597c2f05b0c",
   "metadata": {},
   "outputs": [],
   "source": [
    "# --- Define function ---------------------------\n",
    "analyze_reporting_rate <- function(data_tibble) {\n",
    "\n",
    "  # Dynamically get the name of the tibble passed to the function\n",
    "  # This extracts the literal name of the variable passed (e.g., \"reporting_rate_dhis2_month\")\n",
    "  tibble_name_full <- deparse(substitute(data_tibble))\n",
    "\n",
    "  # Extract the 'method' part from the tibble name\n",
    "  method <- stringr::str_extract(tibble_name_full, \"(?<=reporting_rate_).*?(?=_month)\")\n",
    "\n",
    "  # Calculations for proportion of values > 1\n",
    "  values_greater_than_1 <- sum(data_tibble$REPORTING_RATE > 1, na.rm = TRUE)\n",
    "  total_values <- length(data_tibble$REPORTING_RATE)\n",
    "\n",
    "  if (total_values > 0) {\n",
    "    proportion <- values_greater_than_1 / total_values * 100\n",
    "    min_rate <- min(data_tibble$REPORTING_RATE, na.rm = TRUE)\n",
    "    max_rate <- max(data_tibble$REPORTING_RATE, na.rm = TRUE)\n",
    "  } else {\n",
    "    proportion <- 0\n",
    "    min_rate <- NA # Set to NA if no values to calculate min/max\n",
    "    max_rate <- NA # Set to NA if no values to calculate min/max\n",
    "  }\n",
    "\n",
    "  # Print the formatted result\n",
    "  print(\n",
    "    paste0(\n",
    "      \"🔍 For reporting rate method : \", method, \", the values of REPORTING_RATE range from \", round(min_rate, 2),\n",
    "      \" to \", round(max_rate, 2),\n",
    "      \" and \", round(proportion, 2), \"% of values are >1 (there are more reports than expected).\"\n",
    "    )\n",
    "  )\n",
    "\n",
    "  # Histogram\n",
    "  hist(data_tibble$REPORTING_RATE, \n",
    "     breaks = 50)\n",
    "}"
   ]
  },
  {
   "cell_type": "code",
   "execution_count": null,
   "id": "e2f4c11c-c683-4204-ab91-9d41cab4826c",
   "metadata": {},
   "outputs": [],
   "source": [
    "analyze_reporting_rate(reporting_rate_dhis2_month)"
   ]
  },
  {
   "cell_type": "markdown",
   "id": "04870e93-5385-425b-89fd-b815a87cfa21",
   "metadata": {},
   "source": [
    "#### Subset cols"
   ]
  },
  {
   "cell_type": "code",
   "execution_count": null,
   "id": "d90671b0-36f8-4c6e-8736-4ea807079f83",
   "metadata": {
    "scrolled": true
   },
   "outputs": [],
   "source": [
    "reporting_rate_dhis2_month <- reporting_rate_dhis2_month |> \n",
    "select(all_of(fixed_cols_rr))\n",
    "\n",
    "head(reporting_rate_dhis2_month, 3)"
   ]
  },
  {
   "cell_type": "markdown",
   "id": "2ff2d3fd-d952-4036-bbb7-1cd10a3d90fc",
   "metadata": {},
   "source": [
    "### 3.1. Method \"**ANY**: look at submissions for **_any_ indicator** that is present\n",
    "The list of **indicators** is **defined** in the **config file**!"
   ]
  },
  {
   "cell_type": "markdown",
   "id": "7b465d29-08b5-485f-b1cd-6c0d3b2749d3",
   "metadata": {},
   "source": [
    "#### Define cols used to evaluate HF \"activity\" (whether a HF is reporting or not)"
   ]
  },
  {
   "cell_type": "code",
   "execution_count": null,
   "id": "55cf1751-6aa8-45aa-bbf4-2920fb51ec0c",
   "metadata": {},
   "outputs": [],
   "source": [
    "cols_to_subset <- c(fixed_cols, DHIS2_INDICATORS)\n",
    "print(cols_to_subset)\n",
    "\n",
    "dhis2_routine_subset = dhis2_routine %>% \n",
    "  # dplyr::select(all_of(cols_to_subset))  # ⚠️ TEMP switch as config.json was changed but not extracted data (some cols are missing) ⚠️\n",
    "  dplyr::select(any_of(cols_to_subset))\n",
    "\n",
    "# Print warning message in case there are indicators defined in the config but not present in the routine data\n",
    "if (length(cols_to_subset) > length(names(dhis2_routine_subset)) ) {\n",
    "print(\n",
    "    paste0(\"🚨 Warning: the following columns are expected, but missing in dhis2_routine : \",  paste(setdiff(cols_to_subset, names(dhis2_routine_subset)), collapse = \", \") ) \n",
    ")\n",
    "    }"
   ]
  },
  {
   "cell_type": "markdown",
   "id": "258a7ef4-446d-4ce1-898a-34a1e41bcc16",
   "metadata": {},
   "source": [
    "#### 🚨 Set `0` values to `NA`"
   ]
  },
  {
   "cell_type": "markdown",
   "id": "c91d1d3e-7b0a-4889-b7ab-102dc7d3cd79",
   "metadata": {},
   "source": [
    "#### ⚠️ To switch back: issue with changing config and expected cols ... ⚠️"
   ]
  },
  {
   "cell_type": "code",
   "execution_count": null,
   "id": "505bc314-d098-4398-bfb0-3f6918516343",
   "metadata": {},
   "outputs": [],
   "source": [
    "# ⚠️ To switch back: issue with changing config and expected cols ... ⚠️\n",
    "# Temp version of the code to handle missing cols (defined in confg file, hence -> DHIS2_INDICATORS , but missing from routine data)\n",
    "#  (because config file was changed but there was no new data extraction)\n",
    "\n",
    "DHIS2_INDICATORS_FILTERED <- intersect(names(dhis2_routine_subset), DHIS2_INDICATORS)\n",
    "\n",
    "print(DHIS2_INDICATORS)\n",
    "print(DHIS2_INDICATORS_FILTERED)"
   ]
  },
  {
   "cell_type": "code",
   "execution_count": null,
   "id": "3752b937-a593-4d4b-a660-707081b764f9",
   "metadata": {},
   "outputs": [],
   "source": [
    "a <- paste0(\"Set 0 values to NA in cols : \", paste(names(dhis2_routine_subset[, DHIS2_INDICATORS_FILTERED]), collapse=', ') )\n",
    "print(a)"
   ]
  },
  {
   "cell_type": "code",
   "execution_count": null,
   "id": "15329d61-7f04-4cbf-a72b-e5178237c9e8",
   "metadata": {
    "editable": true,
    "slideshow": {
     "slide_type": ""
    },
    "tags": []
   },
   "outputs": [],
   "source": [
    "# 0 value to NA \n",
    "if (NA_TREATMENT == 'SET_0_TO_NA') { \n",
    "    # dhis2_routine_subset[, DHIS2_INDICATORS][dhis2_routine_subset[, DHIS2_INDICATORS] == 0] <- NA  #  ⚠️ REACTIVATE THIS ⚠️\n",
    "    dhis2_routine_subset[, DHIS2_INDICATORS_FILTERED][dhis2_routine_subset[, DHIS2_INDICATORS_FILTERED] == 0] <- NA  # ⚠️ TEMP switch as config.json was changed but not extracted data ⚠️\n",
    "    msg <- paste0(\"✍🏽 Set 0 values to NA in cols : \", paste(names(dhis2_routine_subset[, DHIS2_INDICATORS_FILTERED]), collapse=', ') )\n",
    "    # print(\"Set 0 values to NA\")\n",
    "    log_msg(msg)\n",
    "    \n",
    "}"
   ]
  },
  {
   "cell_type": "code",
   "execution_count": null,
   "id": "670508a0-3075-4f82-aa2c-d26cf867f13d",
   "metadata": {},
   "outputs": [],
   "source": [
    "# HF considered \"inactif\" when all indicators are NA (= did not submit anything for these indicators), \n",
    "#     else \"actif\" (= they submitted something)\n",
    "hf_active = dhis2_routine_subset %>%\n",
    "    dplyr::mutate(# nomiss = apply(dhis2_routine_subset[,DHIS2_INDICATORS], 1, function(y) sum(!is.na(y))), \n",
    "                  nomiss = apply(dhis2_routine_subset[,DHIS2_INDICATORS_FILTERED], 1, function(y) sum(!is.na(y))), # ⚠️ TEMP SWITCH (cofing issue ... )\n",
    "                  varmis =ifelse(nomiss == 0, 0, 1),\n",
    "                  ACTIVE = ifelse(varmis == 0, FALSE, TRUE)) %>% # 🚨 GP changed to BOOLEAN to save space\n",
    "    dplyr::arrange(ADM1_ID, ADM2_ID, OU_ID, PERIOD) %>% # OU,\n",
    "    dplyr::group_by(ADM1_ID, ADM2_ID, OU_ID) %>% # OU\n",
    "    dplyr::mutate(cummiss = sum(nomiss), \n",
    "                  # inactivity = nomiss/length(DHIS2_INDICATORS) * 100, \n",
    "                  inactivity = nomiss/length(DHIS2_INDICATORS_FILTERED) * 100, # ⚠️ TEMP SWITCH (cofing issue ... )\n",
    "                  start_date = ifelse(\n",
    "                    any(inactivity != 100, na.rm = TRUE),\n",
    "                    min(PERIOD[inactivity != 100], na.rm = TRUE),\n",
    "                    NA  # Default to NA if no valid values\n",
    "                    )) %>%\n",
    "    dplyr::filter(PERIOD >= start_date)"
   ]
  },
  {
   "cell_type": "code",
   "execution_count": null,
   "id": "68023e8e-f7f6-4201-b097-1996bee57671",
   "metadata": {},
   "outputs": [],
   "source": [
    "head(hf_active, 3)"
   ]
  },
  {
   "cell_type": "markdown",
   "id": "3ba1ec35-ab32-4561-ad01-ed65cfa40e9b",
   "metadata": {},
   "source": [
    "#### 🚨 Here 👇 swap denominator: join `dhis2_reporting_expected` to replace `TOTAL_HF` with `EXPECTED_REPORTS`"
   ]
  },
  {
   "cell_type": "code",
   "execution_count": null,
   "id": "db5ad094-0601-4a18-9435-db60c1f4e8ff",
   "metadata": {},
   "outputs": [],
   "source": [
    "# Break process: create intermediate df (`hf_active_month`) -> then join `dhis2_reporting_expected`\n",
    "\n",
    "# --- 1. create intermediate df `hf_active_month`: summarize nr of \"active\" (reporting) HF by month ------------------------\n",
    "hf_active_month <- hf_active %>% \n",
    "# filter(ADM1_ID == \"rWrCdr321Qu\") |> # ⚠️⚠️⚠️ TEMP subset just for CODE development ... ! ⚠️⚠️⚠️\n",
    "    dplyr::group_by(ADM2_ID, YEAR, MONTH) %>%\n",
    "    dplyr::summarize(\n",
    "                     SUBMITTED_REPORTS = length(which(ACTIVE == TRUE)), # 🚨 GP changed to BOOLEAN to save space\n",
    "                     .groups = \"drop\") |>\n",
    "mutate(YEAR = as.integer(YEAR), \n",
    "       MONTH = as.integer(MONTH)\n",
    "      )\n",
    "\n",
    "print(dim(hf_active_month))\n",
    "head(hf_active_month)\n",
    "\n",
    "\n",
    "# --- 2. then join `dhis2_reporting_expected` to `hf_active_month`: add denominator col `REPORTING_RATE` ------------------------\n",
    "reporting_rate_any_month <- left_join(hf_active_month, \n",
    "                                      dhis2_reporting_expected |> select(ADM2_ID, YEAR, MONTH, EXPECTED_REPORTS),\n",
    "                                      by = join_by(ADM2_ID, YEAR, MONTH)   \n",
    "                                     )  |>\n",
    "    dplyr::mutate(\n",
    "        REPORTING_RATE = round(SUBMITTED_REPORTS/EXPECTED_REPORTS,2) # NEW\n",
    "    ) %>%\n",
    "    ungroup() %>%  \n",
    "    mutate(YEAR = as.integer(YEAR),\n",
    "           MONTH = as.integer(MONTH),\n",
    "          ) \n",
    "\n",
    "print(dim(reporting_rate_any_month))\n",
    "head(reporting_rate_any_month)"
   ]
  },
  {
   "cell_type": "code",
   "execution_count": null,
   "id": "05f94483-1524-426e-9fe3-4b9bf572c05e",
   "metadata": {},
   "outputs": [],
   "source": []
  },
  {
   "cell_type": "markdown",
   "id": "f2153353-82e4-4f34-bd69-ed72d35273b1",
   "metadata": {},
   "source": [
    "#### Quick data quality check 🔍"
   ]
  },
  {
   "cell_type": "code",
   "execution_count": null,
   "id": "713a5ed3-2aeb-4949-8ecc-6ee3f787a719",
   "metadata": {},
   "outputs": [],
   "source": [
    "analyze_reporting_rate(reporting_rate_any_month)"
   ]
  },
  {
   "cell_type": "markdown",
   "id": "fc584b00-7ed1-422e-b868-7550c50160e1",
   "metadata": {},
   "source": [
    "#### Subset cols"
   ]
  },
  {
   "cell_type": "code",
   "execution_count": null,
   "id": "d30ad91e-a783-422c-ac0b-89a01c6a4283",
   "metadata": {
    "scrolled": true
   },
   "outputs": [],
   "source": [
    "reporting_rate_any_month <- reporting_rate_any_month |> \n",
    "select(all_of(fixed_cols_rr))\n",
    "\n",
    "head(reporting_rate_any_month, 3)"
   ]
  },
  {
   "cell_type": "code",
   "execution_count": null,
   "id": "f041e442-4d79-4379-a622-6e83becd1bab",
   "metadata": {},
   "outputs": [],
   "source": []
  },
  {
   "cell_type": "markdown",
   "id": "dfb3b747-1791-4f1d-b683-14889d22f7f7",
   "metadata": {},
   "source": [
    "#### Plot by MONTH (heatmap)"
   ]
  },
  {
   "cell_type": "code",
   "execution_count": null,
   "id": "997c66af-c1d5-42e1-99a2-a30f15818461",
   "metadata": {},
   "outputs": [],
   "source": [
    "# Plot heatmap\n",
    "options(repr.plot.width = 20, repr.plot.height = 10)\n",
    "\n",
    "reporting_rate_any_month %>%\n",
    "mutate(\n",
    "    DATE = as.Date(paste(YEAR, MONTH, \"01\", sep = \"-\")), \n",
    "    ADM2_ID = factor(ADM2_ID)\n",
    "    ) %>%\n",
    "ggplot(., \n",
    "       aes(x = DATE, y = ADM2_ID, \n",
    "           fill = REPORTING_RATE * 100) \n",
    "      ) + \n",
    "  geom_tile() +\n",
    "  scale_fill_viridis_c(\n",
    "    option = \"C\",\n",
    "    direction = 1,\n",
    "    limits = c(0, 100), \n",
    "    name = \"Reporting rate (%)\"\n",
    "  ) +\n",
    "  labs(\n",
    "    title = \"Taux de rapportage mensuel par district sanitaire\",\n",
    "    subtitle = \"Chaque tuile représente l’exhaustivité du rapportage par district et par mois\",\n",
    "    x = \"Mois\",\n",
    "    y = \"District sanitaire\"\n",
    "  ) +\n",
    "  theme_minimal(base_size = 13) +\n",
    "  theme(\n",
    "    axis.text.x = element_text(angle = 90, hjust = 1, vjust = 0.5, size = 9),\n",
    "    axis.text.y = element_text(size = 9),\n",
    "    plot.title = element_text(face = \"bold\", hjust = 0.5, size = 14),\n",
    "    plot.subtitle = element_text(hjust = 0.5, size = 12),\n",
    "    legend.position = \"right\",\n",
    "    panel.grid = element_blank()\n",
    "  )"
   ]
  },
  {
   "cell_type": "markdown",
   "id": "032a96dd-b1b7-467c-9d34-5ec9741e175e",
   "metadata": {},
   "source": [
    "#### **Year**ly **mean** and **median** per **ADM2**"
   ]
  },
  {
   "cell_type": "code",
   "execution_count": null,
   "id": "5148b334-5cf7-4675-a916-215d4264402c",
   "metadata": {},
   "outputs": [],
   "source": [
    "# Mean\n",
    "reporting_rate_any_year_mean = reporting_rate_any_month %>%\n",
    "    group_by(ADM2_ID, YEAR) %>% \n",
    "    summarise(REPORTING_RATE = round(mean(REPORTING_RATE, na.rm = T), 2), .groups = \"drop\") %>% \n",
    "    ungroup() %>%\n",
    "    mutate(YEAR = as.integer(YEAR)) \n",
    "\n",
    "print(dim(reporting_rate_any_year_mean))\n",
    "head(reporting_rate_any_year_mean, 3)"
   ]
  },
  {
   "cell_type": "code",
   "execution_count": null,
   "id": "e1d3dbcd-9b5a-43e1-961b-f41de14ca4e6",
   "metadata": {},
   "outputs": [],
   "source": [
    "# Median\n",
    "reporting_rate_any_year_median = reporting_rate_any_month %>%\n",
    "    group_by(ADM2_ID, YEAR) %>% \n",
    "    summarise(REPORTING_RATE = round(median(REPORTING_RATE, na.rm = T), 2), .groups = \"drop\") %>% \n",
    "    ungroup() %>%\n",
    "    mutate(YEAR = as.integer(YEAR))\n",
    "\n",
    "print(dim(reporting_rate_any_year_median))\n",
    "head(reporting_rate_any_year_median, 3)"
   ]
  },
  {
   "cell_type": "markdown",
   "id": "40b21c65-1b75-42f7-821a-24d31e436c73",
   "metadata": {},
   "source": [
    "----------------------------"
   ]
  },
  {
   "cell_type": "markdown",
   "id": "17ffece4-9420-4004-993b-b5692cc1d2de",
   "metadata": {},
   "source": [
    "### 3.2. Method **CONF**: based on reporting of **confirmed cases**\n",
    "**_Reporting rate following methods by WHO and as per Diallo_2025 paper_**"
   ]
  },
  {
   "cell_type": "markdown",
   "id": "a73a316a-cad7-4351-80f0-e9f5056768ef",
   "metadata": {},
   "source": [
    "To accurately measure data completeness, we calculate the monthly reporting rate per health district (ADM2) as the **proportion of facility–months that submitted at least one report containing a confirmed malaria case** (**CONF**). <br>\n",
    "For each ADM2, we expect one report per facility per month. For example, if an ADM2 has 25 facilities, we expect 25 reports for a given month. If only 21 of those facilities report confirmed cases that month, the reporting rate is 21/25 = 84%.\n",
    "\n",
    "This method improves over simple binary completeness flags by accounting for both spatial (facility coverage) and temporal (monthly timeliness) dimensions. A facility-month is **considered reported** if the **CONF value is not missing**, which serves as a proxy for overall completeness of malaria indicators. We use the presence of CONF (confirmed malaria cases) as the condition for marking a facility-month as reported because it is a core indicator consistently tracked across the dataset. This choice ensures alignment with the structure of the incidence calculation, which is also mainly based on confirmed cases."
   ]
  },
  {
   "cell_type": "markdown",
   "id": "3f6e6351-44b4-42e4-ae6c-f31c23652b3d",
   "metadata": {},
   "source": [
    "#### Calculate"
   ]
  },
  {
   "cell_type": "code",
   "execution_count": null,
   "id": "65ec9005-5a1c-4170-9577-77f3b5fc6593",
   "metadata": {},
   "outputs": [],
   "source": [
    "# Tag as \"REPORTED\" only if `CONF` is not NA (= the HF reported some data for CONF)\n",
    "dhis2_routine_reporting <- dhis2_routine %>%\n",
    "  mutate(REPORTED_CONF = if_else(!is.na(CONF), 1, 0))"
   ]
  },
  {
   "cell_type": "markdown",
   "id": "b7d7f8d1-a486-46b7-9d77-a7a60722d87f",
   "metadata": {},
   "source": [
    "#### 🚨 Here 👇 swap denominator: join `dhis2_reporting_expected` to replace `N_FACILITIES` with `EXPECTED_REPORTS`"
   ]
  },
  {
   "cell_type": "code",
   "execution_count": null,
   "id": "9b0c684d-971f-4102-a764-91df7a887cfc",
   "metadata": {},
   "outputs": [],
   "source": [
    "# --- 1.  Calculate nr of \"reporting\" facilities by month (aka nr of submitted reports as `N_REPORTS`) ------------------------\n",
    "dhis2_routine_reporting_month <- dhis2_routine_reporting %>%\n",
    "  group_by(ADM2_ID, YEAR, MONTH) %>% \n",
    "  summarise(\n",
    "    SUBMITTED_REPORTS = sum(REPORTED_CONF, na.rm = TRUE),\n",
    "    .groups = \"drop\"\n",
    "  ) %>%\n",
    "  ungroup() %>%  \n",
    "    mutate(YEAR = as.integer(YEAR),\n",
    "           MONTH = as.integer(MONTH)\n",
    "          ) \n",
    "\n",
    "print(dim(dhis2_routine_reporting_month))\n",
    "head(dhis2_routine_reporting_month, 3)\n",
    "\n",
    "\n",
    "\n",
    "# --- 2. Join `dhis2_reporting_expected` to add `EXPECTED_REPORTS` ------------------------------------------------\n",
    "reporting_rate_conf_month <- left_join(\n",
    "    dhis2_routine_reporting_month,\n",
    "    dhis2_reporting_expected |> select(ADM2_ID, YEAR, MONTH, EXPECTED_REPORTS),\n",
    "    by = join_by(ADM2_ID, YEAR, MONTH)\n",
    "    ) |>\n",
    "  mutate(\n",
    "    REPORTING_RATE = SUBMITTED_REPORTS / EXPECTED_REPORTS\n",
    "  ) %>%\n",
    "  # ungroup() %>%  \n",
    "  mutate(YEAR = as.integer(YEAR),\n",
    "         MONTH = as.integer(MONTH)\n",
    "          ) \n",
    "\n",
    "print(dim(reporting_rate_conf_month))\n",
    "head(reporting_rate_conf_month, 3)"
   ]
  },
  {
   "cell_type": "code",
   "execution_count": null,
   "id": "3ef417ed-1186-4540-bb0b-811297551300",
   "metadata": {},
   "outputs": [],
   "source": []
  },
  {
   "cell_type": "markdown",
   "id": "cdae57f3-d4b6-4fa9-838c-77d259a09740",
   "metadata": {},
   "source": [
    "#### Quick data quality check 🔍"
   ]
  },
  {
   "cell_type": "code",
   "execution_count": null,
   "id": "770bcaa4-677a-4fb8-8569-ea751d7bae7e",
   "metadata": {},
   "outputs": [],
   "source": [
    "analyze_reporting_rate(reporting_rate_conf_month)"
   ]
  },
  {
   "cell_type": "markdown",
   "id": "2eee73bb-c39a-42b1-944e-f5e063f6b114",
   "metadata": {},
   "source": [
    "#### Subset cols"
   ]
  },
  {
   "cell_type": "code",
   "execution_count": null,
   "id": "ff394fc2-c0ac-4883-becb-77a0ace86b08",
   "metadata": {
    "scrolled": true
   },
   "outputs": [],
   "source": [
    "reporting_rate_conf_month <- reporting_rate_conf_month |> \n",
    "select(all_of(fixed_cols_rr))\n",
    "\n",
    "head(reporting_rate_conf_month, 3)"
   ]
  },
  {
   "cell_type": "code",
   "execution_count": null,
   "id": "fd0c2cef-63f3-424e-9ef1-1f33f637be78",
   "metadata": {},
   "outputs": [],
   "source": []
  },
  {
   "cell_type": "markdown",
   "id": "7999ca83-783a-4041-8ddc-6481d9a43961",
   "metadata": {},
   "source": [
    "#### Plot by MONTH (heatmap)"
   ]
  },
  {
   "cell_type": "code",
   "execution_count": null,
   "id": "6535e999-574a-4962-880d-0a996b8c3513",
   "metadata": {},
   "outputs": [],
   "source": [
    "# Plot reporting rate heatmap\n",
    "options(repr.plot.width = 20, repr.plot.height = 10) \n",
    "\n",
    "reporting_rate_conf_month %>%\n",
    "mutate(\n",
    "    DATE = as.Date(paste0(YEAR, \"-\", MONTH, \"-01\"))\n",
    "    ) %>%\n",
    "ggplot(., aes(x = DATE,  # GP replaced `date` with `DATE`\n",
    "              y = factor(ADM2_ID), # GP replaced `y = ADM2` with `y = factor(ADM2)`\n",
    "              fill = REPORTING_RATE * 100)\n",
    "      ) + \n",
    "  geom_tile() +\n",
    "  scale_fill_viridis_c(\n",
    "    option = \"C\",\n",
    "    direction = 1,  # blue = low, yellow = high\n",
    "    limits = c(0, 100),\n",
    "    name = \"Reporting rate (%)\"\n",
    "  ) +\n",
    "  labs(\n",
    "    title = \"Monthly Reporting Rate by Health District\",\n",
    "    subtitle = \"Each tile represents the reporting completeness per district per month\",\n",
    "    x = \"Month\",\n",
    "    y = \"Health District\"\n",
    "  ) +\n",
    "  theme_minimal(base_size = 13) +\n",
    "  theme(\n",
    "    axis.text.x = element_text(angle = 90, hjust = 1, vjust = 0.5, size = 9),\n",
    "    axis.text.y = element_text(size = 9),\n",
    "    plot.title = element_text(face = \"bold\", hjust = 0.5, size = 14),\n",
    "    plot.subtitle = element_text(hjust = 0.5, size = 12),\n",
    "    legend.position = \"right\",\n",
    "    panel.grid = element_blank()\n",
    "  )"
   ]
  },
  {
   "cell_type": "markdown",
   "id": "89a16eeb-84fc-4832-aa58-dc27b73fec0b",
   "metadata": {},
   "source": [
    "#### **Year**ly **mean** and **median** per **ADM2**"
   ]
  },
  {
   "cell_type": "code",
   "execution_count": null,
   "id": "af1e2700-5bc1-4d88-86c2-0d3c1c0d2e69",
   "metadata": {},
   "outputs": [],
   "source": [
    "# Mean\n",
    "reporting_rate_conf_year_mean = reporting_rate_conf_month %>%\n",
    "    group_by(ADM2_ID, YEAR) %>% \n",
    "    summarise(REPORTING_RATE = round(mean(REPORTING_RATE, na.rm = T), 2), .groups = \"drop\") %>% \n",
    "    ungroup() %>%\n",
    "    mutate(YEAR = as.integer(YEAR)) \n",
    "\n",
    "print(dim(reporting_rate_conf_year_mean))\n",
    "head(reporting_rate_conf_year_mean, 3)"
   ]
  },
  {
   "cell_type": "code",
   "execution_count": null,
   "id": "8d160393-507c-4c37-bebc-72b19026825c",
   "metadata": {},
   "outputs": [],
   "source": [
    "# Median\n",
    "reporting_rate_conf_year_median = reporting_rate_conf_month %>%\n",
    "    group_by(ADM2_ID, YEAR) %>% \n",
    "    summarise(REPORTING_RATE = round(median(REPORTING_RATE, na.rm = T), 2), .groups = \"drop\") %>% \n",
    "    ungroup() %>%\n",
    "    mutate(YEAR = as.integer(YEAR)) \n",
    "\n",
    "print(dim(reporting_rate_conf_year_median))\n",
    "head(reporting_rate_conf_year_median, 3)"
   ]
  },
  {
   "cell_type": "markdown",
   "id": "1a643564-f987-48dd-b239-b00472dfe219",
   "metadata": {},
   "source": [
    "#### Plot by YEAR (choropleth)"
   ]
  },
  {
   "cell_type": "code",
   "execution_count": null,
   "id": "bbea70c8-46bc-4934-bd39-8081789837aa",
   "metadata": {},
   "outputs": [],
   "source": [
    "# 2. Join ADM2 shapes with SNIS reporting data\n",
    "map_data <- dhis2_shapes %>% \n",
    "  left_join(reporting_rate_conf_year_mean, by = \"ADM2_ID\") %>% \n",
    "  sf::st_as_sf() "
   ]
  },
  {
   "cell_type": "code",
   "execution_count": null,
   "id": "e317969e-f911-4d47-912c-414d106f403e",
   "metadata": {},
   "outputs": [],
   "source": [
    "# 3. Bin reporting rate values\n",
    "map_data <- map_data %>%\n",
    "  mutate(rate_cat = case_when(\n",
    "    REPORTING_RATE < 0.5 ~ \"< 50%\",\n",
    "    REPORTING_RATE < 0.8 ~ \"50–80%\",\n",
    "    REPORTING_RATE < 0.9 ~ \"80–90%\",\n",
    "    REPORTING_RATE >= 0.9 ~ \"90–100%\"  # includes 100%\n",
    "  ))\n",
    "\n",
    "# 4. Define colors\n",
    "rate_colors <- c(\n",
    "  \"< 50%\"     = \"#b2182b\",  # dark red\n",
    "  \"50–80%\"    = \"#f46d43\",  # reddish-orange, more vibrant\n",
    "  \"80–90%\"    = \"#fee08b\",  # yellow\n",
    "  \"90–100%\" = \"#4daf4a\"  # clear, strong green (used in many R palettes)\n",
    ")\n",
    "\n",
    "# 5. Plot\n",
    "options(repr.plot.width = 20, repr.plot.height = 5)\n",
    "ggplot(map_data) +\n",
    "  geom_sf(aes(fill = rate_cat,\n",
    "             geometry = geometry),\n",
    "          color = \"white\", size = 0.2) +\n",
    "  facet_wrap(~ YEAR, nrow = 1) +\n",
    "  scale_fill_manual(values = rate_colors, name = \"Taux de rapportage\") +\n",
    "  labs(title = \"Taux de rapportage par ADM2, par année\") +\n",
    "  theme_minimal(base_size = 14) +\n",
    "  theme(\n",
    "    strip.text = element_text(size = 16),\n",
    "    plot.title = element_text(size = 18, hjust = 0.5),\n",
    "    legend.position = \"bottom\",\n",
    "    panel.spacing = unit(0.2, \"lines\"),\n",
    "    axis.text = element_blank(),\n",
    "    axis.title = element_blank(),\n",
    "    axis.ticks = element_blank()\n",
    "  ) +\n",
    "  coord_sf(datum = NA)"
   ]
  },
  {
   "cell_type": "code",
   "execution_count": null,
   "id": "46579950-28c2-4091-8203-abc7b120c03a",
   "metadata": {},
   "outputs": [],
   "source": []
  },
  {
   "cell_type": "markdown",
   "id": "3e57f2e8-1ccc-417c-9fa6-e6b1976336bc",
   "metadata": {},
   "source": [
    "# 4. Export"
   ]
  },
  {
   "cell_type": "markdown",
   "id": "6729e183-5395-4fb7-a535-978c61124710",
   "metadata": {},
   "source": [
    "## 4.1. 📁 To /data/ folder"
   ]
  },
  {
   "cell_type": "markdown",
   "id": "6afeb0d8-333a-4f09-9036-dea4e09389d2",
   "metadata": {},
   "source": [
    "#### CSV"
   ]
  },
  {
   "cell_type": "code",
   "execution_count": null,
   "id": "a7d9ed8a-25db-4886-bc2d-9f576093a587",
   "metadata": {},
   "outputs": [],
   "source": [
    "# write function\n",
    "snt_write_csv <- function(x, output_data_path, method) {\n",
    "  \n",
    "  full_directory_path <- file.path(output_data_path, \"dhis2_reporting_rate\")\n",
    "  \n",
    "  if (!dir.exists(full_directory_path)) {\n",
    "    dir.create(full_directory_path, recursive = TRUE)\n",
    "  }\n",
    "  \n",
    "  file_path <- file.path(full_directory_path, paste0(COUNTRY_CODE, \"_reporting_rate_\", method, \"_month.csv\"))\n",
    "  \n",
    "  write_csv(x, file_path)\n",
    "\n",
    "  log_msg(paste0(\"Exported : \", file_path))\n",
    "}"
   ]
  },
  {
   "cell_type": "code",
   "execution_count": null,
   "id": "73c1bb3b-81e2-4bf1-944f-06c1704166a0",
   "metadata": {},
   "outputs": [],
   "source": [
    "# Method \"DHIS2\"\n",
    "snt_write_csv(x = reporting_rate_dhis2_month, \n",
    "              output_data_path = DATA_PATH, \n",
    "              method = \"dhis2\")\n",
    "\n",
    "# Method \"ANY\"\n",
    "snt_write_csv(x = reporting_rate_any_month, \n",
    "              output_data_path = DATA_PATH, \n",
    "              method = \"any\")\n",
    "\n",
    "# Method \"CONF\"\n",
    "snt_write_csv(x = reporting_rate_conf_month, \n",
    "              output_data_path = DATA_PATH, \n",
    "              method = \"conf\")"
   ]
  },
  {
   "cell_type": "markdown",
   "id": "1aaf40aa-0910-4ba3-b95b-16d04b9e22c2",
   "metadata": {},
   "source": [
    "#### parquet"
   ]
  },
  {
   "cell_type": "code",
   "execution_count": null,
   "id": "d37b1ddf-9f2f-43ae-96bf-20dd3b3f13b2",
   "metadata": {},
   "outputs": [],
   "source": [
    "# write function\n",
    "snt_write_parquet <- function(x, output_data_path, method) {\n",
    "  \n",
    "  full_directory_path <- file.path(output_data_path, \"dhis2_reporting_rate\")\n",
    "  \n",
    "  if (!dir.exists(full_directory_path)) {\n",
    "    dir.create(full_directory_path, recursive = TRUE)\n",
    "  }\n",
    "  \n",
    "  file_path <- file.path(full_directory_path, paste0(COUNTRY_CODE, \"_reporting_rate_\", method, \"_month.parquet\"))\n",
    "  \n",
    "  arrow::write_parquet(x, file_path)\n",
    "\n",
    "  log_msg(paste0(\"Exported : \", file_path))\n",
    "}"
   ]
  },
  {
   "cell_type": "code",
   "execution_count": null,
   "id": "39ac065e-a506-4a61-a6ae-28b9e5777176",
   "metadata": {},
   "outputs": [],
   "source": [
    "# Method \"DHIS2\"\n",
    "snt_write_parquet(x = reporting_rate_dhis2_month,\n",
    "                  output_data_path = DATA_PATH,\n",
    "                  method = \"dhis2\"\n",
    "                 )\n",
    "\n",
    "# Method \"ANY\"\n",
    "snt_write_parquet(x = reporting_rate_any_month,\n",
    "                  output_data_path = DATA_PATH,\n",
    "                  method = \"any\"\n",
    "                 )\n",
    "\n",
    "# Method \"CONF\"\n",
    "snt_write_parquet(x = reporting_rate_conf_month,\n",
    "                  output_data_path = DATA_PATH,\n",
    "                  method = \"conf\"\n",
    "                 )"
   ]
  },
  {
   "cell_type": "code",
   "execution_count": null,
   "id": "55f4e6a6-89b8-4cc9-b56c-5b5fdb025910",
   "metadata": {},
   "outputs": [],
   "source": []
  }
 ],
 "metadata": {
  "kernelspec": {
   "display_name": "R",
   "language": "R",
   "name": "ir"
  },
  "language_info": {
   "codemirror_mode": "r",
   "file_extension": ".r",
   "mimetype": "text/x-r-source",
   "name": "R",
   "pygments_lexer": "r",
   "version": "4.4.3"
  }
 },
 "nbformat": 4,
 "nbformat_minor": 5
}
