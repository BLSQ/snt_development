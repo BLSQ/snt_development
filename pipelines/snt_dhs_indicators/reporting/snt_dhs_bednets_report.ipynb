{
 "cells": [
  {
   "cell_type": "markdown",
   "id": "8ba79c20-9f47-4d61-93ab-19d3802125ec",
   "metadata": {},
   "source": [
    "# ITN Plots, DHS data"
   ]
  },
  {
   "cell_type": "code",
   "execution_count": null,
   "id": "41cd8bf1-fd71-49da-b4a5-1254421ad8ec",
   "metadata": {},
   "outputs": [],
   "source": [
    "# TODO These could be one large for-loop, through 'access' and 'use'"
   ]
  },
  {
   "cell_type": "markdown",
   "id": "5bd2650b-e952-45d1-b46a-b08b777a5961",
   "metadata": {},
   "source": [
    "### Preliminary steps"
   ]
  },
  {
   "cell_type": "code",
   "execution_count": null,
   "id": "3632c310-6a58-4825-8b80-ce3612b6caca",
   "metadata": {},
   "outputs": [],
   "source": [
    "rm(list = ls())\n",
    "\n",
    "options(scipen=999)"
   ]
  },
  {
   "cell_type": "code",
   "execution_count": null,
   "id": "cb98532b-56c9-42c7-9bbd-a6f7869bfc76",
   "metadata": {},
   "outputs": [],
   "source": [
    "# Global paths\n",
    "Sys.setenv(PROJ_LIB = \"/opt/conda/share/proj\")\n",
    "Sys.setenv(GDAL_DATA = \"/opt/conda/share/gdal\")"
   ]
  },
  {
   "cell_type": "code",
   "execution_count": null,
   "id": "ebf120a6-1559-4295-93c4-cfbfd141a67b",
   "metadata": {},
   "outputs": [],
   "source": [
    "# Paths\n",
    "ROOT_PATH <- '~/workspace'\n",
    "CONFIG_PATH <- file.path(ROOT_PATH, 'configuration')\n",
    "CODE_PATH <- file.path(ROOT_PATH, 'code')\n",
    "DATA_PATH <- file.path(ROOT_PATH, 'data')\n",
    "DHS_DATA_PATH <- file.path(DATA_PATH, 'dhs', 'raw')\n",
    "OUTPUT_DATA_PATH <- file.path(DATA_PATH, 'dhs', 'indicators', 'bednets')\n",
    "OUTPUT_PLOTS_PATH <- file.path(ROOT_PATH, 'pipelines', 'snt_dhs_indicators', 'reporting', 'outputs')"
   ]
  },
  {
   "cell_type": "code",
   "execution_count": null,
   "id": "cc24cdd4-2ccb-4511-8a63-8ee4b0c29bde",
   "metadata": {},
   "outputs": [],
   "source": [
    "# Load utils\n",
    "source(file.path(CODE_PATH, \"snt_utils.r\"))\n",
    "\n",
    "# List required pcks\n",
    "required_packages <- c(\"sf\", \"glue\", \"data.table\", \"ggplot2\", \"stringi\", \"jsonlite\", \"httr\", \"reticulate\")\n",
    "\n",
    "# Execute function\n",
    "install_and_load(required_packages)"
   ]
  },
  {
   "cell_type": "code",
   "execution_count": null,
   "id": "3cff50d0-b6cd-42ca-86fb-eccc82eb2236",
   "metadata": {},
   "outputs": [],
   "source": [
    "Sys.setenv(RETICULATE_PYTHON = \"/opt/conda/bin/python\")\n",
    "reticulate::py_config()$python\n",
    "openhexa <- import(\"openhexa.sdk\")"
   ]
  },
  {
   "cell_type": "code",
   "execution_count": null,
   "id": "8cbd66ad-1659-4db9-a1ad-4b329080782d",
   "metadata": {},
   "outputs": [],
   "source": [
    "# Load SNT config\n",
    "CONFIG_FILE_NAME <- \"SNT_config.json\"\n",
    "config_json <- tryCatch({ fromJSON(file.path(CONFIG_PATH, CONFIG_FILE_NAME)) },\n",
    "                        error = function(e) {\n",
    "                          msg <- paste0(\"Error while loading configuration\", conditionMessage(e))  \n",
    "                          cat(msg)   \n",
    "                          stop(msg) \n",
    "                        })\n",
    "\n",
    "msg <- paste0(\"SNT configuration loaded from  : \", file.path(CONFIG_PATH, CONFIG_FILE_NAME)) \n",
    "log_msg(msg)\n",
    "\n",
    "# Set config variables\n",
    "COUNTRY_CODE <- config_json$SNT_CONFIG$COUNTRY_CODE\n",
    "\n",
    "dhis2_dataset <- config_json$SNT_DATASET_IDENTIFIERS$DHIS2_DATASET_FORMATTED"
   ]
  },
  {
   "cell_type": "code",
   "execution_count": null,
   "id": "7d7bc112-ab91-421a-b03b-510be814361f",
   "metadata": {},
   "outputs": [],
   "source": [
    "# COUNTRY_CODE <- \"BFA\"\n",
    "print(paste(\"Country code: \", COUNTRY_CODE))"
   ]
  },
  {
   "cell_type": "code",
   "execution_count": null,
   "id": "145fe721-f42a-45ff-a3cb-060886fe7a9e",
   "metadata": {},
   "outputs": [],
   "source": [
    "admin_level <- 'ADM1'\n",
    "admin_id_col <- glue(admin_level, 'ID', .sep='_')\n",
    "admin_name_col <- glue(admin_level, 'NAME', .sep='_')\n",
    "admin_cols <- c(admin_id_col, admin_name_col)"
   ]
  },
  {
   "cell_type": "markdown",
   "id": "93898419-b98d-4a53-8fc9-a1bb9bff01a4",
   "metadata": {},
   "source": [
    "## Geo data"
   ]
  },
  {
   "cell_type": "code",
   "execution_count": null,
   "id": "02d322a1-11c9-4899-ba0c-07a91045f10c",
   "metadata": {},
   "outputs": [],
   "source": [
    "# Load spatial file from dataset\n",
    "spatial_data_filename <- paste(COUNTRY_CODE, \"shapes.geojson\", sep = \"_\")\n",
    "# spatial_data <- read_sf(file.path(DATA_PATH, 'dhis2', 'formatted', spatial_data_filename))\n",
    "spatial_data <- get_latest_dataset_file_in_memory(dhis2_dataset, spatial_data_filename)\n",
    "# log_msg(glue(\"File {spatial_data_filename} successfully loaded from dataset version: {dhis2_dataset}\"))"
   ]
  },
  {
   "cell_type": "code",
   "execution_count": null,
   "id": "4075e2b4-e665-4442-b28e-ec75a7ba6ff1",
   "metadata": {},
   "outputs": [],
   "source": [
    "spatial_data <- st_as_sf(spatial_data)\n",
    "\n",
    "# aggregate geometries by the admin columns\n",
    "spatial_data <- aggregate_geometry(\n",
    "  sf_data=spatial_data,\n",
    "  admin_id_colname=admin_id_col,\n",
    "  admin_name_colname=admin_name_col\n",
    ")\n",
    "\n",
    "# keep class\n",
    "spatial_data <- st_as_sf(spatial_data)\n",
    "\n",
    "if(COUNTRY_CODE == \"COD\"){\n",
    "  spatial_data[[admin_name_col]] <- clean_admin_names(spatial_data[[admin_name_col]])\n",
    "}"
   ]
  },
  {
   "cell_type": "markdown",
   "id": "6399c2eb-9509-4b4f-839a-6c8c83004510",
   "metadata": {},
   "source": [
    "## Import DHS data"
   ]
  },
  {
   "cell_type": "code",
   "execution_count": null,
   "id": "0fb15b9d-3cc5-4c6f-be25-124169388c25",
   "metadata": {},
   "outputs": [],
   "source": [
    "data_source <- 'DHS'\n",
    "indicator_access <- 'PCT_ITN_ACCESS'\n",
    "indicator_use <- 'PCT_ITN_USE'"
   ]
  },
  {
   "cell_type": "markdown",
   "id": "2573c887-0fa9-4004-9a30-0d6ffb90de07",
   "metadata": {},
   "source": [
    "## ITN ACCCESS PLOTS"
   ]
  },
  {
   "cell_type": "code",
   "execution_count": null,
   "id": "d813a167-92a0-47ab-a796-709fc6fa55ab",
   "metadata": {},
   "outputs": [],
   "source": [
    "filename_without_extension <- glue(\"{COUNTRY_CODE}_{data_source}_{admin_level}_{toupper(indicator_access)}\")\n",
    "bednet_access_table <- fread(file.path(OUTPUT_DATA_PATH, paste0(filename_without_extension, '.csv')))"
   ]
  },
  {
   "cell_type": "code",
   "execution_count": null,
   "id": "b630f927-d4a4-4c5b-a5a6-f97c3de8ecf7",
   "metadata": {},
   "outputs": [],
   "source": [
    "access_plot_data =  merge(spatial_data, bednet_access_table, by = admin_cols, all = TRUE)"
   ]
  },
  {
   "cell_type": "code",
   "execution_count": null,
   "id": "2db72c84-f3ca-4962-bc63-9fddc97a113a",
   "metadata": {},
   "outputs": [],
   "source": [
    "access_lower_bound_col <- glue(\"{toupper(indicator_access)}_CI_LOWER_BOUND\")\n",
    "access_upper_bound_col <- glue(\"{toupper(indicator_access)}_CI_UPPER_BOUND\")\n",
    "access_sample_avg_col <- glue(\"{toupper(indicator_access)}_SAMPLE_AVERAGE\")"
   ]
  },
  {
   "cell_type": "markdown",
   "id": "88a625c0-2222-4dfd-9b28-b40b5749ddc7",
   "metadata": {},
   "source": [
    "### ITN Access Map"
   ]
  },
  {
   "cell_type": "code",
   "execution_count": null,
   "id": "b76d619f-004c-4ea3-910c-a62011abe823",
   "metadata": {},
   "outputs": [],
   "source": [
    "ITN_access_plot <- make_dhs_map(\n",
    "      plot_dt = access_plot_data,\n",
    "      plot_colname = access_sample_avg_col,\n",
    "      title_name = \"ITN Access (%)\",\n",
    "      legend_title = \"%\",\n",
    "      scale_limits = c(0, 100)\n",
    "    )"
   ]
  },
  {
   "cell_type": "code",
   "execution_count": null,
   "id": "373b6b2b-f667-4619-b226-2c21ddfa5b36",
   "metadata": {},
   "outputs": [],
   "source": [
    "ITN_access_plot_filename <- glue('{COUNTRY_CODE}_{data_source}_{admin_level}_{toupper(indicator_access)}_plot.png')\n",
    "ggsave(ITN_access_plot, file = file.path(OUTPUT_PLOTS_PATH, ITN_access_plot_filename), dpi = 500)"
   ]
  },
  {
   "cell_type": "code",
   "execution_count": null,
   "id": "f3d272c9-0456-43a2-bbc8-84aaa3f79dd3",
   "metadata": {},
   "outputs": [],
   "source": [
    "# confidence interval plot\n",
    "access_ci_plot_title <- glue(\"{COUNTRY_CODE} {data_source} {toupper(indicator_access)} CI\")\n",
    "access_ci_plot_xlab <- admin_name_col\n",
    "access_ci_plot_ylab <- glue(\"ITN access (%)\")\n",
    "access_ci_plot_filename <- glue(\"{COUNTRY_CODE}_{data_source}_{admin_level}_{toupper(indicator_access)}_CI_plot.png\")"
   ]
  },
  {
   "cell_type": "code",
   "execution_count": null,
   "id": "73afeb71-c365-494e-b60a-4dbeb2c0e853",
   "metadata": {},
   "outputs": [],
   "source": [
    "access_ci_plot <- make_ci_plot(\n",
    "  df_to_plot=access_plot_data,\n",
    "  admin_colname=admin_name_col,\n",
    "  point_estimation_colname=access_sample_avg_col,\n",
    "  ci_lower_colname=access_lower_bound_col,\n",
    "  ci_upper_colname=access_upper_bound_col,\n",
    "  title_name=access_ci_plot_title,\n",
    "  x_title=access_ci_plot_xlab,\n",
    "  y_title=access_ci_plot_ylab\n",
    ")\n",
    "\n",
    "# ci_access_plot"
   ]
  },
  {
   "cell_type": "code",
   "execution_count": null,
   "id": "cb99fb66-183f-48f8-9df1-ea9475d80123",
   "metadata": {},
   "outputs": [],
   "source": [
    "ggsave(filename=file.path(OUTPUT_PLOTS_PATH, access_ci_plot_filename), plot=access_ci_plot, width = 8, height = 6, dpi = 300)"
   ]
  },
  {
   "cell_type": "markdown",
   "id": "c2e1283b-e287-4858-b70d-c1764ad89731",
   "metadata": {},
   "source": [
    "## ITN USE PLOTS"
   ]
  },
  {
   "cell_type": "code",
   "execution_count": null,
   "id": "6dcc961e-712a-468c-8b66-3e8a936b695a",
   "metadata": {},
   "outputs": [],
   "source": [
    "filename_without_extension <- glue(\"{COUNTRY_CODE}_{data_source}_{admin_level}_{toupper(indicator_use)}\")\n",
    "bednet_use_table <- fread(file.path(OUTPUT_DATA_PATH, paste0(filename_without_extension, '.csv')))"
   ]
  },
  {
   "cell_type": "code",
   "execution_count": null,
   "id": "6ad59821-7504-45e0-a6d7-b0a0bcda5f97",
   "metadata": {},
   "outputs": [],
   "source": [
    "use_plot_data =  merge(spatial_data, bednet_use_table, by = admin_cols, all = TRUE)"
   ]
  },
  {
   "cell_type": "code",
   "execution_count": null,
   "id": "b34245bf-9ae0-467c-a07b-ff7c50a85282",
   "metadata": {},
   "outputs": [],
   "source": [
    "use_lower_bound_col <- glue(\"{toupper(indicator_use)}_CI_LOWER_BOUND\")\n",
    "use_upper_bound_col <- glue(\"{toupper(indicator_use)}_CI_UPPER_BOUND\")\n",
    "use_sample_avg_col <- glue(\"{toupper(indicator_use)}_SAMPLE_AVERAGE\")"
   ]
  },
  {
   "cell_type": "markdown",
   "id": "6f260543-35b6-4d8b-a970-f4f9e2065ee7",
   "metadata": {},
   "source": [
    "### ITN use plot"
   ]
  },
  {
   "cell_type": "code",
   "execution_count": null,
   "id": "f718b10e-ca51-41bc-9989-17d2d0374458",
   "metadata": {},
   "outputs": [],
   "source": [
    "ITN_use_plot <- make_dhs_map(\n",
    "      plot_dt = use_plot_data,\n",
    "      plot_colname = use_sample_avg_col,\n",
    "      title_name = \"ITN Use (%)\",\n",
    "      legend_title = \"%\",\n",
    "      scale_limits = c(0, 100)\n",
    "    )"
   ]
  },
  {
   "cell_type": "code",
   "execution_count": null,
   "id": "5d751ec3-22e4-40a5-8378-037de76236df",
   "metadata": {},
   "outputs": [],
   "source": [
    "ITN_use_plot_filename <- glue('{COUNTRY_CODE}_{data_source}_{admin_level}_{toupper(indicator_use)}_plot.png')\n",
    "ggsave(ITN_use_plot, file = file.path(OUTPUT_PLOTS_PATH, ITN_use_plot_filename), dpi = 500)"
   ]
  },
  {
   "cell_type": "code",
   "execution_count": null,
   "id": "7a8ba05c-4e90-4acb-8bf9-88631ae43cf2",
   "metadata": {},
   "outputs": [],
   "source": [
    "# confidence interval plot\n",
    "use_ci_plot_title <- glue(\"{COUNTRY_CODE} {data_source} {toupper(indicator_use)} CI\")\n",
    "use_ci_plot_xlab <- admin_name_col\n",
    "use_ci_plot_ylab <- glue(\"ITN Use (%)\")\n",
    "use_ci_plot_filename <- glue(\"{COUNTRY_CODE}_{data_source}_{admin_level}_{toupper(indicator_use)}_CI_plot.png\")"
   ]
  },
  {
   "cell_type": "code",
   "execution_count": null,
   "id": "13b3fe6e-7aeb-43ca-ad31-add612f722ee",
   "metadata": {},
   "outputs": [],
   "source": [
    "use_ci_plot <- make_ci_plot(\n",
    "  df_to_plot=use_plot_data,\n",
    "  admin_colname=admin_name_col,\n",
    "  point_estimation_colname=use_sample_avg_col,\n",
    "  ci_lower_colname=use_lower_bound_col,\n",
    "  ci_upper_colname=use_upper_bound_col,\n",
    "  title_name=use_ci_plot_title,\n",
    "  x_title=use_ci_plot_xlab,\n",
    "  y_title=use_ci_plot_ylab\n",
    ")"
   ]
  },
  {
   "cell_type": "code",
   "execution_count": null,
   "id": "06e60a12-e8b1-435f-adb4-b676aedf67fe",
   "metadata": {},
   "outputs": [],
   "source": [
    "ggsave(filename=file.path(OUTPUT_PLOTS_PATH, use_ci_plot_filename), plot=use_ci_plot, width = 8, height = 6, dpi = 300)"
   ]
  },
  {
   "cell_type": "code",
   "execution_count": null,
   "id": "e7427ae0-be6b-4dfa-b0e2-e9d9847dded3",
   "metadata": {},
   "outputs": [],
   "source": []
  }
 ],
 "metadata": {
  "kernelspec": {
   "display_name": "R",
   "language": "R",
   "name": "ir"
  },
  "language_info": {
   "codemirror_mode": "r",
   "file_extension": ".r",
   "mimetype": "text/x-r-source",
   "name": "R",
   "pygments_lexer": "r",
   "version": "4.4.3"
  }
 },
 "nbformat": 4,
 "nbformat_minor": 5
}
