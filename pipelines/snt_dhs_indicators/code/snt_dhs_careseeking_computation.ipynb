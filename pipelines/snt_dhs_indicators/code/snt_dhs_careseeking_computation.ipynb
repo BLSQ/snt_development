{
 "cells": [
  {
   "cell_type": "markdown",
   "id": "c9aadda5-521c-4345-916c-a60f9802a853",
   "metadata": {},
   "source": [
    "# Careseeking behavior upon child fever (DHS data)"
   ]
  },
  {
   "cell_type": "markdown",
   "id": "4ce067b3-f707-4df6-b7de-30389f125534",
   "metadata": {},
   "source": [
    "## Resources"
   ]
  },
  {
   "cell_type": "markdown",
   "id": "a71afb11-ea04-40e9-8566-4b80a0857e25",
   "metadata": {},
   "source": [
    "https://dhsprogram.com/data/Guide-to-DHS-Statistics/Fever_and_Careseeking.htm?rhtocid=_13_3_0#Percentage_of_children4\n",
    "\n",
    "1)      Percentage of children under age 5 years with fever in the 2 weeks preceding the survey.\n",
    "2)      Among children under age 5 years with fever in the 2 weeks preceding the survey, percentage for whom advice or treatment was sought.\n",
    "3)      Among children under age 5 years with fever in the 2 weeks preceding the survey, percentage for whom advice or treatment was sought the same or next day following the onset of fever.\n",
    "4)      Among children under age 5 with fever in the 2 weeks preceding the survey, percentage who took antibiotic drugs.\n",
    "\n",
    "Coverage:\n",
    "\n",
    "Population base: Living children under age 5 years (KR file)\n",
    "\n",
    "Time period: Two weeks preceding the survey\n",
    "\n",
    "Numerators:\n",
    "1)      Number of living children under age 5 years with fever at any time during the 2 weeks preceding the survey (b5 = 1 & b19 < 60 & h22 = 1)\n",
    "2)      Number of living children under age 5 years with a fever at any time during the 2 weeks preceding the interview for whom advice or treatment was sought (b5 = 1 & b19 < 60 & h22 = 1 & any of h32a – x = 1 except traditional practitioner (usually h32t))\n",
    "3)      Number of living children under age 5 years with a fever at any time during the 2 weeks preceding the interview for whom advice or treatment was sought the same day or next day following the onset of fever (b5 = 1 & b19 < 60 & h22 = 1 & any of h32a – x = 1 excluding advice or treatment from a traditional practitioner (usually h32t) & h46b in 0:1)\n",
    "4)      Number of living children under age 5 years with a fever at any time during the 2 weeks preceding the interview who took antibiotic drugs (b5 = 1 & h22 = 1 & (h37i = 1 or h37j = 1 or h37n= 1 or h37o = 1) [or ml13i = 1 or ml13j = 1 or ml13n = 1 or ml13o = 1])\n",
    "\n",
    "Denominators:\n",
    "- Numerator 1: Number of living children under age 5 (b5 = 1 & b19 < 60)\n",
    "\n",
    "- Numerators 2, 3, and 4: Number of living children under age 5 with fever at any time during the 2 weeks preceding the survey (b5 = 1 & b19 < 60 and h22 = 1).\n",
    "\n",
    "Project uses (split by \"private/public\"): \"2)      Among children under age 5 years with fever in the 2 weeks preceding the survey, percentage for whom advice or treatment was sought.\""
   ]
  },
  {
   "cell_type": "markdown",
   "id": "570901a3-7312-4583-bb4f-753e7e7c0ca2",
   "metadata": {},
   "source": [
    "## Preliminary steps"
   ]
  },
  {
   "cell_type": "code",
   "execution_count": null,
   "id": "58c2d4af-aa4e-45ad-9ef7-6dba584f12ca",
   "metadata": {},
   "outputs": [],
   "source": [
    "rm(list = ls())\n",
    "\n",
    "options(scipen=999)"
   ]
  },
  {
   "cell_type": "code",
   "execution_count": null,
   "id": "690423e8-6e7d-49fc-8f01-4a1f445fa537",
   "metadata": {},
   "outputs": [],
   "source": [
    "# Global paths\n",
    "Sys.setenv(PROJ_LIB = \"/opt/conda/share/proj\")\n",
    "Sys.setenv(GDAL_DATA = \"/opt/conda/share/gdal\")\n",
    "\n",
    "# Paths\n",
    "ROOT_PATH <- '~/workspace'\n",
    "CONFIG_PATH <- file.path(ROOT_PATH, 'configuration')\n",
    "CODE_PATH <- file.path(ROOT_PATH, 'code')\n",
    "DATA_PATH <- file.path(ROOT_PATH, 'data')\n",
    "DHS_DATA_PATH <- file.path(DATA_PATH, 'dhs', 'raw')\n",
    "OUTPUT_DATA_PATH <- file.path(DATA_PATH, 'dhs', 'indicators', 'careseeking')\n",
    "\n",
    "# Load utils\n",
    "source(file.path(CODE_PATH, \"snt_utils.r\"))\n",
    "\n",
    "# List required pcks\n",
    "required_packages <- c(\"haven\", \"sf\", \"glue\", \"survey\", \"data.table\", \"stringi\", \"jsonlite\", \"httr\", \"reticulate\", \"arrow\")\n",
    "\n",
    "# Execute function\n",
    "install_and_load(required_packages)"
   ]
  },
  {
   "cell_type": "code",
   "execution_count": null,
   "id": "687e8bab-120e-4367-b4fe-43c3dee11185",
   "metadata": {},
   "outputs": [],
   "source": [
    "Sys.setenv(RETICULATE_PYTHON = \"/opt/conda/bin/python\")\n",
    "reticulate::py_config()$python\n",
    "openhexa <- import(\"openhexa.sdk\")\n",
    "\n",
    "# Load SNT config\n",
    "CONFIG_FILE_NAME <- \"SNT_config.json\"\n",
    "config_json <- tryCatch({ fromJSON(file.path(CONFIG_PATH, CONFIG_FILE_NAME)) },\n",
    "                        error = function(e) {\n",
    "                          msg <- paste0(\"Error while loading configuration\", conditionMessage(e))  \n",
    "                          cat(msg)   \n",
    "                          stop(msg) \n",
    "                        })\n",
    "\n",
    "msg <- paste0(\"SNT configuration loaded from  : \", file.path(CONFIG_PATH, CONFIG_FILE_NAME)) \n",
    "log_msg(msg)\n",
    "\n",
    "# Set config variables\n",
    "COUNTRY_CODE <- config_json$SNT_CONFIG$COUNTRY_CODE"
   ]
  },
  {
   "cell_type": "markdown",
   "id": "e07d8a08-5bae-4189-80bf-57d6ba653e83",
   "metadata": {},
   "source": [
    "## Spatial/admin data"
   ]
  },
  {
   "cell_type": "code",
   "execution_count": null,
   "id": "18fd6f07-2e0f-4e26-90d4-ac07e052379a",
   "metadata": {},
   "outputs": [],
   "source": [
    "admin_level <- 'ADM1'\n",
    "admin_id_col <- glue(admin_level, 'ID', .sep='_')\n",
    "admin_name_col <- glue(admin_level, 'NAME', .sep='_')\n",
    "admin_cols <- c(admin_id_col, admin_name_col)"
   ]
  },
  {
   "cell_type": "code",
   "execution_count": null,
   "id": "9e0ebcf5-45d4-4c40-be95-cf27b0a3ae75",
   "metadata": {},
   "outputs": [],
   "source": [
    "# Load spatial file from dataset\n",
    "\n",
    "dhis2_dataset <- config_json$SNT_DATASET_IDENTIFIERS$DHIS2_DATASET_FORMATTED\n",
    "\n",
    "spatial_data_filename <- paste(COUNTRY_CODE, \"shapes.geojson\", sep = \"_\")\n",
    "# spatial_data <- read_sf(file.path(DATA_PATH, 'dhis2', 'formatted', spatial_data_filename))\n",
    "spatial_data <- get_latest_dataset_file_in_memory(dhis2_dataset, spatial_data_filename)\n",
    "log_msg(glue(\"File {spatial_data_filename} successfully loaded from dataset version: {dhis2_dataset}\"))\n",
    "\n",
    "spatial_data <- st_as_sf(spatial_data)\n",
    "\n",
    "# aggregate geometries by the admin columns\n",
    "spatial_data <- aggregate_geometry(\n",
    "  sf_data=spatial_data,\n",
    "  admin_id_colname=admin_id_col,\n",
    "  admin_name_colname=admin_name_col\n",
    ")\n",
    "\n",
    "# keep class\n",
    "spatial_data <- st_as_sf(spatial_data)\n",
    "\n",
    "if(COUNTRY_CODE == \"COD\"){\n",
    "  spatial_data[[admin_name_col]] <- clean_admin_names(spatial_data[[admin_name_col]])\n",
    "}\n",
    "\n",
    "admin_data <- st_drop_geometry(spatial_data)\n",
    "setDT(admin_data)"
   ]
  },
  {
   "cell_type": "markdown",
   "id": "51c988f2-1fb5-4e35-8920-c5d341a543f3",
   "metadata": {},
   "source": [
    "## Import DHS data"
   ]
  },
  {
   "cell_type": "code",
   "execution_count": null,
   "id": "599d0f6e-d0f5-42fd-8e78-6a87bdbd12a6",
   "metadata": {},
   "outputs": [],
   "source": [
    "data_source <- 'DHS'\n",
    "\n",
    "indicator_public_care <- 'PCT_PUBLIC_CARE'\n",
    "indicator_private_care <- 'PCT_PRIVATE_CARE'\n",
    "indicator_no_care <- 'PCT_NO_CARE'"
   ]
  },
  {
   "cell_type": "code",
   "execution_count": null,
   "id": "9589f2b2-c0ad-4a46-8778-faa4f427eb37",
   "metadata": {},
   "outputs": [],
   "source": [
    "household_recode <- 'HR'\n",
    "kid_recode <- 'KR'\n",
    "target_file_type <- 'SV'\n",
    "\n",
    "delete_otherextension_files(DHS_DATA_PATH, extension_to_retain=\".zip\")\n",
    "\n",
    "dhs_hr_zip_filename <- extract_latest_dhs_recode_filename(DHS_DATA_PATH, household_recode, target_file_type)\n",
    "unzip(file.path(DHS_DATA_PATH, dhs_hr_zip_filename), exdir=DHS_DATA_PATH)\n",
    "\n",
    "dhs_kr_zip_filename <- extract_latest_dhs_recode_filename(DHS_DATA_PATH, kid_recode, target_file_type)\n",
    "unzip(file.path(DHS_DATA_PATH, dhs_kr_zip_filename), exdir=DHS_DATA_PATH)\n",
    "\n",
    "# # Remove existing output files\n",
    "# files <- list.files(OUTPUT_DATA_PATH, full.names = TRUE)\n",
    "# files_to_delete <- files[grepl('U5_PREV', basename(files), ignore.case = TRUE) & grepl(COUNTRY_CODE, basename(files), ignore.case = TRUE)]\n",
    "# file.remove(files_to_delete)\n",
    "\n",
    "data_extension <- '.SAV'\n",
    "dhs_hr_filename <- list.files(path = DHS_DATA_PATH, pattern = paste0(\".*\", household_recode, \".*\\\\\", data_extension, \"$\"), ignore.case=TRUE)\n",
    "dhs_kr_filename <- dir(path = DHS_DATA_PATH, pattern = paste0(\".*\", kid_recode, \".*\\\\\", data_extension, \"$\"), ignore.case=TRUE)\n",
    "\n",
    "if(!check_dhs_same_version(dhs_hr_filename, dhs_kr_filename)){\n",
    "  stop(\"The necessary DHS data do not have the same version/issue. Check available data before rerunning.\")\n",
    "}\n",
    "\n",
    "dhs_hr_dt <- read_spss(file.path(DHS_DATA_PATH, dhs_hr_filename)) # household recode\n",
    "dhs_hr_dt <- setDT(dhs_hr_dt)\n",
    "\n",
    "dhs_kr_dt <- read_spss(file.path(DHS_DATA_PATH, dhs_kr_filename)) # kid recode\n",
    "dhs_kr_dt <- setDT(dhs_kr_dt)"
   ]
  },
  {
   "cell_type": "markdown",
   "id": "c26e24f7-0a59-4dbf-b493-a760c9d30e39",
   "metadata": {},
   "source": [
    "### Make admin codes and names dataframe (for future merging)"
   ]
  },
  {
   "cell_type": "code",
   "execution_count": null,
   "id": "f244f017-b532-4106-8beb-4bf7c0ed4d02",
   "metadata": {},
   "outputs": [],
   "source": [
    "dhs_beginning_year <- as.integer(dhs_hr_dt[, min(HV007)])\n",
    "\n",
    "dhs_admin_dt <- make_dhs_admin_df(\n",
    "  input_dhs_df=dhs_hr_dt,\n",
    "  original_admin_column=\"HV024\",\n",
    "  new_admin_name_colname=admin_name_col,\n",
    "  new_admin_code_colname='DHS_ADM1_CODE'\n",
    ")\n",
    "\n",
    "# format the names to be like DHIS2 names\n",
    "dhs_admin_dt[, (admin_name_col) := format_names(get(admin_name_col))]\n",
    "\n",
    "# TODO this should be changed in the formatting of DHIS2 data; the correct name should be with a space\n",
    "dhs_admin_dt[get(admin_name_col) == \"MAI NDOMBE\", (admin_name_col) := \"MAINDOMBE\"]\n",
    "\n",
    "# Check that all regions can be matched with DHIS2 pyramid\n",
    "if(!check_perfect_match(dhs_admin_dt, admin_name_col, admin_data, admin_name_col)){\n",
    "  stop(\"The DHS data provided does not fully match DHIS2 pyramid data. Please check input data before retrying.\")\n",
    "}"
   ]
  },
  {
   "cell_type": "code",
   "execution_count": null,
   "id": "52af343a-bbee-4601-9e3f-adceb60d809f",
   "metadata": {},
   "outputs": [],
   "source": [
    "rm(dhs_hr_dt) # will not be used further"
   ]
  },
  {
   "cell_type": "markdown",
   "id": "c35b457b-e6ac-42c6-bad5-4ee328e94177",
   "metadata": {},
   "source": [
    "### Relevant columns"
   ]
  },
  {
   "cell_type": "code",
   "execution_count": null,
   "id": "4ea43f49-f9dd-4403-a3b4-885ff31da8bb",
   "metadata": {},
   "outputs": [],
   "source": [
    "kid_id_cols <- c(\"CASEID\", \"V000\", \"V001\", \"V002\")\n",
    "household_sampling_cols <- c(\"V005\", \"V021\", \"V022\", \"V023\", \"V024\")\n",
    "kid_alive_col <- \"B5\"\n",
    "kid_age_col <- \"B19\"\n",
    "kid_fever_col <- \"H22\"\n",
    "# grep(\"^H32\", names(dhs_kr_dt), value = TRUE)\n",
    "kid_public_care_cols <- c(\"H32A\", \"H32B\", \"H32C\", \"H32D\", \"H32E\", \"H32F\", \"H32G\", \"H32H\", \"H32I\")\n",
    "kid_private_care_cols <- c(\"H32J\", \"H32K\", \"H32L\", \"H32M\", \"H32N\", \"H32O\", \"H32P\", \"H32Q\", \"H32R\",\n",
    "                           \"H32NA\", \"H32NB\", \"H32NC\", \"H32ND\", \"H32NE\")\n",
    "kid_other_care_cols <- c(\"H32S\", \"H32W\", \"H32X\")"
   ]
  },
  {
   "cell_type": "markdown",
   "id": "6b0924e4-aef6-4e1c-be29-4f818fb14d8e",
   "metadata": {},
   "source": [
    "## Preprocess kid file"
   ]
  },
  {
   "cell_type": "code",
   "execution_count": null,
   "id": "5184585f-bb68-4e99-89e2-ff52ffbf2eed",
   "metadata": {},
   "outputs": [],
   "source": [
    "# filter rows and columns\n",
    "kr_dt <- dhs_kr_dt[(\n",
    "  !(is.na(get(kid_age_col))) & # no missing age\n",
    "    get(kid_age_col) < 60 & # younger than 5\n",
    "    get(kid_alive_col) == 1 & # alive\n",
    "    get(kid_fever_col) == 1 # had fever\n",
    "  ),\n",
    "  .SD, .SDcols = c(\n",
    "    kid_id_cols,\n",
    "    household_sampling_cols,\n",
    "    kid_alive_col,\n",
    "    kid_age_col,\n",
    "    kid_fever_col,\n",
    "    kid_other_care_cols,\n",
    "    kid_public_care_cols,\n",
    "    kid_private_care_cols\n",
    "    )]\n",
    "\n",
    "kr_dt[, wt := V005/1000000]\n",
    "\n",
    "kr_dt <- merge.data.table(dhs_admin_dt, kr_dt, by.x = \"DHS_ADM1_CODE\", by.y = \"V024\", all = TRUE)"
   ]
  },
  {
   "cell_type": "code",
   "execution_count": null,
   "id": "3c3f8447-842f-414c-b47f-869684c05c37",
   "metadata": {},
   "outputs": [],
   "source": [
    "# Create the numerators\n",
    "\n",
    "kr_dt[, (indicator_public_care) := as.integer(rowSums(.SD == 1, na.rm = TRUE) > 0), .SDcols = kid_public_care_cols]\n",
    "kr_dt[, (indicator_private_care) := as.integer(rowSums(.SD == 1, na.rm = TRUE) > 0), .SDcols = kid_private_care_cols]\n",
    "kr_dt[, (indicator_no_care) := as.integer(rowSums(.SD != 0, na.rm = TRUE) == 0), .SDcols = c(kid_public_care_cols, kid_private_care_cols)]\n",
    "\n",
    "# check\n",
    "xtabs(~ kr_dt[[indicator_public_care]] + kr_dt[[indicator_private_care]] + kr_dt[[indicator_no_care]])"
   ]
  },
  {
   "cell_type": "markdown",
   "id": "ead4ca71-3a5c-445f-ae61-3359a7cc7e31",
   "metadata": {},
   "source": [
    "### Sampling design"
   ]
  },
  {
   "cell_type": "code",
   "execution_count": null,
   "id": "81f99ad0-b0fa-4be8-b6df-9b726a0eccad",
   "metadata": {},
   "outputs": [],
   "source": [
    "# clustering, stratification, weights (for means, proportions, regression models, etc.)\n",
    "kr_design_sampling = svydesign(\n",
    "  ids = ~ V021, # primary sampling unit / cluster ids (cluster number and/or ultimate area unit)\n",
    "  data = kr_dt, # dataset\n",
    "  strata = ~ V023, # groupings of primary sampling units\n",
    "  weights = ~ wt, # the sampling weights variable\n",
    "  num_p=1, # ? dunno what this is\n",
    "  nest = T # the primary sampling units are nested within the strata\n",
    ")"
   ]
  },
  {
   "cell_type": "markdown",
   "id": "88f9844d-3f29-4cc9-91e7-351bc81b6d69",
   "metadata": {},
   "source": [
    "## Compute indicators"
   ]
  },
  {
   "cell_type": "markdown",
   "id": "0bec1af7-62e7-4da6-8531-1ed6f9933dc0",
   "metadata": {},
   "source": [
    "Make the indicator tables and save them, add the sample estimation of the average proportion to a summary table"
   ]
  },
  {
   "cell_type": "code",
   "execution_count": null,
   "id": "357ecff3-538e-4265-b024-51f678bcf29f",
   "metadata": {},
   "outputs": [],
   "source": [
    "summary_table <- copy(admin_data)\n",
    "\n",
    "for (indicator_name in c(indicator_public_care, indicator_private_care, indicator_no_care)){\n",
    "  \n",
    "    # make the table name\n",
    "    table_name <- glue(tolower(indicator_name), 'table', .sep = '_')\n",
    "    \n",
    "    # create the content for the table\n",
    "    table_content <- svyby(\n",
    "        formula = as.formula(paste(\"~\", indicator_name)),\n",
    "        by = reformulate(admin_name_col),\n",
    "        FUN = svymean,\n",
    "        design = kr_design_sampling,\n",
    "        level = 0.95,\n",
    "        vartype = \"ci\",\n",
    "        na.rm = TRUE,\n",
    "        influence = TRUE  # which observations have a substantial change in the results of the analysis\n",
    "    )\n",
    "  \n",
    "    # make it into data.table\n",
    "    setDT(table_content)\n",
    "\n",
    "    lower_bound_col <- glue(\"{toupper(indicator_name)}_CI_LOWER_BOUND\")\n",
    "    upper_bound_col <- glue(\"{toupper(indicator_name)}_CI_UPPER_BOUND\")\n",
    "    sample_avg_col <- glue(\"{toupper(indicator_name)}_SAMPLE_AVERAGE\")\n",
    "    \n",
    "    # names(table_content) <- toupper(names(table_content))\n",
    "    names(table_content)[names(table_content) == 'ci_l'] <- lower_bound_col\n",
    "    names(table_content)[names(table_content) == 'ci_u'] <- upper_bound_col\n",
    "    names(table_content)[names(table_content) == indicator_name] <- sample_avg_col\n",
    "    \n",
    "    # Cap the CI's between 0 and 1 (in case of small sample => large CI's)\n",
    "    table_content[get(lower_bound_col) < 0, (lower_bound_col) := 0]\n",
    "    table_content[get(upper_bound_col) > 1, (upper_bound_col) := 1]\n",
    "\n",
    "    # Convert to percentages\n",
    "    table_content[, (lower_bound_col) := get(lower_bound_col) * 100]\n",
    "    table_content[, (upper_bound_col) := get(upper_bound_col) * 100]\n",
    "    table_content[, (sample_avg_col) := get(sample_avg_col) * 100]\n",
    "  \n",
    "    # add the sample average column to the summary table\n",
    "    indicator_estimation_table <- table_content[\n",
    "        ,\n",
    "        .SD,\n",
    "        .SDcols = c(\n",
    "            admin_name_col,\n",
    "            grep('SAMPLE_AVERAGE', names(table_content), value = TRUE)\n",
    "        )\n",
    "        ]\n",
    "  \n",
    "    summary_table <- merge.data.table(summary_table, indicator_estimation_table, by = admin_name_col)\n",
    "    \n",
    "    # write it to .csv and .parquet files\n",
    "    filename_without_extension <- glue(\"{COUNTRY_CODE}_{data_source}_{admin_level}_{toupper(indicator_name)}\")\n",
    "    write.csv(table_content, file = file.path(OUTPUT_DATA_PATH, paste0(filename_without_extension, '.csv')), row.names = FALSE)\n",
    "    write_parquet(table_content, file.path(OUTPUT_DATA_PATH, paste0(filename_without_extension, '.parquet')))\n",
    "    \n",
    "    # assign the content to its variable name\n",
    "    assign(table_name, table_content)\n",
    "}"
   ]
  },
  {
   "cell_type": "code",
   "execution_count": null,
   "id": "f40da01a-4558-43af-9d1a-136b7c6920db",
   "metadata": {},
   "outputs": [],
   "source": [
    "# changing names for the summary table\n",
    "names(summary_table) <- gsub('_SAMPLE_AVERAGE', '', names(summary_table))"
   ]
  },
  {
   "cell_type": "code",
   "execution_count": null,
   "id": "3896b18f-ad5f-49c2-a2cc-2ebf40208aca",
   "metadata": {},
   "outputs": [],
   "source": [
    "summary_filename_without_extension <- glue(\"{COUNTRY_CODE}_{data_source}_{admin_level}_PCT_CARESEEKING_SAMPLE_AVERAGE\")\n",
    "write.csv(summary_table, file = file.path(OUTPUT_DATA_PATH, paste0(summary_filename_without_extension, '.csv')), row.names = FALSE)\n",
    "write_parquet(summary_table, file.path(OUTPUT_DATA_PATH, paste0(summary_filename_without_extension, '.parquet')))"
   ]
  },
  {
   "cell_type": "code",
   "execution_count": null,
   "id": "2449bdb3-61cf-4ddd-a272-2172da6cba2e",
   "metadata": {},
   "outputs": [],
   "source": []
  }
 ],
 "metadata": {
  "kernelspec": {
   "display_name": "R",
   "language": "R",
   "name": "ir"
  },
  "language_info": {
   "codemirror_mode": "r",
   "file_extension": ".r",
   "mimetype": "text/x-r-source",
   "name": "R",
   "pygments_lexer": "r",
   "version": "4.4.3"
  }
 },
 "nbformat": 4,
 "nbformat_minor": 5
}
