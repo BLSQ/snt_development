{
 "cells": [
  {
   "cell_type": "markdown",
   "id": "6e8d006c-fd3d-4186-bc8f-b83fdf234e65",
   "metadata": {},
   "source": [
    "# Dataset reporting rate: based on reporting rates extracted from DHIS2\n",
    "\n",
    "The reporting rate measures how well facilities submit data compared to what is expected, calculated for each administrative level 2 unit and for each period.\n",
    "\n",
    "Specifically:  \n",
    "\n",
    "* **Numerator**: the number of facilities that _actually_ reported. This value comes from the selected dataset _ACTUAL_REPORTS_, which is extracted from DHIS2.\n",
    "    <br>\n",
    "* **Denominator**:  the number of facilities _expected_ to report. This value comes from the selected dataset _EXPECTED_REPORTS_ indicator extracted from DHIS2.\n",
    "    <br>\n",
    "* **Output**: Reporting rate table aggregated at administrative level 2 with extensions csv and parquet saved to dataset **SNT_DHIS2_REPORTING_RATE**:\n",
    "    * cols: YEAR, MONTH, ADM2_ID, REPORTING_RATE\n",
    "    * Filename: `XXX_reporting_rate_dataset.<extension>` "
   ]
  },
  {
   "cell_type": "code",
   "execution_count": null,
   "id": "071795c4-5468-4809-ab48-b2e55a0a8d6e",
   "metadata": {},
   "outputs": [],
   "source": [
    "# Parameters\n",
    "# SNT_ROOT_PATH <- \"/home/hexa/workspace\" "
   ]
  },
  {
   "cell_type": "markdown",
   "id": "064495be-24e5-4b76-a91f-7ac3d1a27a5a",
   "metadata": {},
   "source": [
    "## 1. Setup"
   ]
  },
  {
   "cell_type": "code",
   "execution_count": null,
   "id": "35ede7cf-257f-439c-a514-26a7290f881d",
   "metadata": {},
   "outputs": [],
   "source": [
    "# Project paths\n",
    "SNT_ROOT_PATH <- \"/home/hexa/workspace\" \n",
    "CODE_PATH <- file.path(SNT_ROOT_PATH, 'code') # this is where we store snt_utils.r\n",
    "CONFIG_PATH <- file.path(SNT_ROOT_PATH, 'configuration') # .json config file\n",
    "DATA_PATH <- file.path(SNT_ROOT_PATH, 'data', 'dhis2')  \n",
    "\n",
    "# Load utils\n",
    "source(file.path(CODE_PATH, \"snt_utils.r\"))\n",
    "\n",
    "# Load libraries \n",
    "required_packages <- c(\"arrow\", \"tidyverse\", \"stringi\", \"jsonlite\", \"httr\", \"reticulate\", \"glue\")\n",
    "install_and_load(required_packages)\n",
    "\n",
    "# Environment variables\n",
    "Sys.setenv(PROJ_LIB = \"/opt/conda/share/proj\")\n",
    "Sys.setenv(GDAL_DATA = \"/opt/conda/share/gdal\")\n",
    "Sys.setenv(RETICULATE_PYTHON = \"/opt/conda/bin/python\")\n",
    "\n",
    "# Load OpenHEXA sdk\n",
    "openhexa <- import(\"openhexa.sdk\")"
   ]
  },
  {
   "cell_type": "markdown",
   "id": "7dedcc32-c531-498d-90b9-89b0ee9fb9be",
   "metadata": {},
   "source": [
    "#### 1.1. Load and check `snt config` file"
   ]
  },
  {
   "cell_type": "code",
   "execution_count": null,
   "id": "5b6d29ea-91f3-4c53-b95e-4b485f88383f",
   "metadata": {
    "vscode": {
     "languageId": "r"
    }
   },
   "outputs": [],
   "source": [
    "# Load SNT config\n",
    "config_json <- tryCatch({ jsonlite::fromJSON(file.path(CONFIG_PATH, \"SNT_config.json\")) },\n",
    "    error = function(e) {\n",
    "        msg <- paste0(\"[ERROR] Error while loading configuration\", conditionMessage(e))  \n",
    "        cat(msg)   \n",
    "        stop(msg) \n",
    "    })\n",
    "\n",
    "log_msg(paste0(\"SNT configuration loaded from : \", file.path(CONFIG_PATH, \"SNT_config.json\")))"
   ]
  },
  {
   "cell_type": "code",
   "execution_count": null,
   "id": "c26c981c-dadd-48ac-ae35-613b8ba61a82",
   "metadata": {
    "vscode": {
     "languageId": "r"
    }
   },
   "outputs": [],
   "source": [
    "# Configuration settings\n",
    "COUNTRY_CODE <- config_json$SNT_CONFIG$COUNTRY_CODE\n",
    "ADMIN_1 <- toupper(config_json$SNT_CONFIG$DHIS2_ADMINISTRATION_1)\n",
    "ADMIN_2 <- toupper(config_json$SNT_CONFIG$DHIS2_ADMINISTRATION_2)\n",
    "\n",
    "# How to treat 0 values (in this case: \"SET_0_TO_NA\" converts 0 to NAs)\n",
    "NA_TREATMENT <- config_json$SNT_CONFIG$NA_TREATMENT\n",
    "DHIS2_INDICATORS <- names(config_json$DHIS2_DATA_DEFINITIONS$DHIS2_INDICATOR_DEFINITIONS)  # Which indicators to use to evaluate \"activity\" of an HF\n",
    "REPORTING_RATE_PRODUCT_ID <- config_json$SNT_CONFIG$REPORTING_RATE_PRODUCT_UID  # which reporting rate PRODUCT_UID to use\n",
    "\n",
    "fixed_cols <- c('PERIOD', 'YEAR', 'MONTH', 'ADM1_ID', 'ADM2_ID', 'OU_ID')\n",
    "fixed_cols_rr <- c('YEAR', 'MONTH', 'ADM2_ID', 'REPORTING_RATE') # Fixed cols for exporting RR tables"
   ]
  },
  {
   "cell_type": "markdown",
   "id": "a7a15634-4623-40f2-8e2d-3fa47203aa6e",
   "metadata": {},
   "source": [
    "#### 1.2. Validate parameters"
   ]
  },
  {
   "cell_type": "code",
   "execution_count": null,
   "id": "b17f7685-5291-4e5d-9eec-2d1f9435fccb",
   "metadata": {},
   "outputs": [],
   "source": [
    "# Current options (if present in the dataset): \n",
    "# \"COUNTRY_CODE_routine.parquet\" (RAW data)\n",
    "# \"COUNTRY_CODE_routine_outliers-mean_removed.parquet\" \n",
    "# \"COUNTRY_CODE_routine_outliers-mean_imputed.parquet\"\n",
    "# \"COUNTRY_CODE_routine_outliers-median_removed.parquet\"\n",
    "# \"COUNTRY_CODE_routine_outliers-median_imputed.parquet\"            \n",
    "# \"COUNTRY_CODE_routine_outliers-iqr_removed.parquet\"\n",
    "# \"COUNTRY_CODE_routine_outliers-iqr_imputed.parquet\"\n",
    "# \"COUNTRY_CODE_routine_outliers-trend_removed.parquet\"\n",
    "# \"COUNTRY_CODE_routine_outliers-trend_imputed.parquet\" \n",
    "\n",
    "if (!exists(\"ROUTINE_FILE\")) ROUTINE_FILE <- glue(\"{COUNTRY_CODE}_routine.parquet\") # raw default"
   ]
  },
  {
   "cell_type": "markdown",
   "id": "8d8b20f5-901b-46c7-a0ef-9850cba6e650",
   "metadata": {},
   "source": [
    "#### 1.3. 🔍 Check REPORTING_RATE_PRODUCT_ID is configured"
   ]
  },
  {
   "cell_type": "code",
   "execution_count": null,
   "id": "fca36b05-be4e-4823-8ce6-970fb052ab6d",
   "metadata": {},
   "outputs": [],
   "source": [
    "# Check REPORTING_RATE_PRODUCT_ID configured\n",
    "if (is.null(REPORTING_RATE_PRODUCT_ID)) {\n",
    "    stop(\"[ERROR] The REPORTING_RATE_PRODUCT_ID is not defined in `SNT_config.json` file.\")\n",
    "}"
   ]
  },
  {
   "cell_type": "markdown",
   "id": "e44ae2ab-4af7-475a-8cbe-6d669895a18b",
   "metadata": {},
   "source": [
    "## 2. Load Data"
   ]
  },
  {
   "cell_type": "markdown",
   "id": "39e2add7-bbc7-4312-9a6f-9886d675f532",
   "metadata": {},
   "source": [
    "### 2.1. Load routine data (DHIS2) \n",
    "Already formatted routine data, we use this as the master table"
   ]
  },
  {
   "cell_type": "code",
   "execution_count": null,
   "id": "a1213723-f7e2-4238-9f37-f1795b187232",
   "metadata": {
    "vscode": {
     "languageId": "r"
    }
   },
   "outputs": [],
   "source": [
    "# select dataset\n",
    "if (ROUTINE_FILE == glue(\"{COUNTRY_CODE}_routine.parquet\")) {\n",
    "    rountine_dataset_name <- config_json$SNT_DATASET_IDENTIFIERS$DHIS2_DATASET_FORMATTED\n",
    "} else {\n",
    "    rountine_dataset_name <- config_json$SNT_DATASET_IDENTIFIERS$DHIS2_OUTLIERS_IMPUTATION\n",
    "}\n",
    "\n",
    "# Load file from dataset\n",
    "dhis2_routine <- tryCatch({ get_latest_dataset_file_in_memory(rountine_dataset_name, ROUTINE_FILE) }, \n",
    "                  error = function(e) {\n",
    "                      msg <- paste(\"Error while loading DHIS2 routine data file for: \" , COUNTRY_CODE, conditionMessage(e))  # log error message\n",
    "                      cat(msg)\n",
    "                      stop(msg)\n",
    "})\n",
    "\n",
    "dhis2_routine <- dhis2_routine %>% mutate(across(c(PERIOD, YEAR, MONTH), as.numeric)) # Ensure correct data type for numerical columns \n",
    "\n",
    "# log\n",
    "log_msg(glue(\"DHIS2 routine file {ROUTINE_FILE} loaded from dataset : {rountine_dataset_name} dataframe dimensions: {paste(dim(dhis2_routine), collapse=', ')}\"))\n",
    "dim(dhis2_routine)\n",
    "head(dhis2_routine, 2)"
   ]
  },
  {
   "cell_type": "markdown",
   "id": "dccc8626-7798-4bcd-ae5f-d7502dfdc452",
   "metadata": {},
   "source": [
    "### 2.2. Load reporting rate data (DHIS2)"
   ]
  },
  {
   "cell_type": "code",
   "execution_count": null,
   "id": "0e352c76-f2fb-43ba-b85d-391d808057a8",
   "metadata": {},
   "outputs": [],
   "source": [
    "dataset_name <- config_json$SNT_DATASET_IDENTIFIERS$DHIS2_DATASET_FORMATTED\n",
    "file_name <- paste0(COUNTRY_CODE, \"_reporting.parquet\")  # reporting file\n",
    "\n",
    "# Load file from dataset\n",
    "dhis2_reporting <- tryCatch({ get_latest_dataset_file_in_memory(dataset_name, file_name) }, \n",
    "                  error = function(e) {\n",
    "                      msg <- paste(\"[ERROR] Error while loading DHIS2 dataset reporting rates file for: \" , COUNTRY_CODE, conditionMessage(e))  # log error message\n",
    "                      cat(msg)\n",
    "                      stop(msg)\n",
    "})\n",
    "dhis2_reporting <- dhis2_reporting %>% mutate(across(c(PERIOD, YEAR, MONTH, VALUE), as.numeric))  # numeric values\n",
    "\n",
    "# log\n",
    "msg <- paste0(\"DHIS2 pre-computed REPORTING data loaded from file `\", file_name, \"` (from dataset : `\", dataset_name, \"`). Dataframe dimensions: \", \n",
    "              paste(dim(dhis2_reporting), collapse=\", \"))\n",
    "log_msg(msg)\n",
    "head(dhis2_reporting, 3)"
   ]
  },
  {
   "cell_type": "markdown",
   "id": "87ba0e61-b8b5-44bf-afe6-bd92c33c9dc3",
   "metadata": {},
   "source": [
    "## 3. Compute reporting rates"
   ]
  },
  {
   "cell_type": "markdown",
   "id": "61e463df-c6ad-442e-acd5-186f3586733a",
   "metadata": {},
   "source": [
    "#### 3.1. Build table with `actual` and `expected` reports\n",
    "\n",
    "Use `dhis2_reporting_expected$ACTUAL_REPORTS` as new numerator for REPORTING_RATE calculations.  \n",
    "Use `dhis2_reporting_expected$EXPECTED_REPORTS` as new denominator for REPORTING_RATE calculations."
   ]
  },
  {
   "cell_type": "code",
   "execution_count": null,
   "id": "2524f305-46d9-4625-bd6c-de0f6528db20",
   "metadata": {},
   "outputs": [],
   "source": [
    "product_name <- dhis2_reporting %>% \n",
    "    filter(PRODUCT_UID %in% REPORTING_RATE_PRODUCT_ID) %>% \n",
    "    pull(PRODUCT_NAME) %>% \n",
    "    unique()\n",
    "\n",
    "dhis2_reporting_wide <- dhis2_reporting %>%\n",
    "    filter(PRODUCT_UID %in% REPORTING_RATE_PRODUCT_ID) %>%\n",
    "    select(-PRODUCT_UID, -PRODUCT_NAME) %>% # remove cols\n",
    "    pivot_wider(\n",
    "        names_from = PRODUCT_METRIC, \n",
    "        values_from = VALUE\n",
    "    )\n",
    " \n",
    "log_msg(glue::glue(\"Using REPORTING_RATE_PRODUCT_ID == `{REPORTING_RATE_PRODUCT_ID}`, corresponding to DHIS2 Product name : `{product_name}`.\"))\n",
    "print(dim(dhis2_reporting_wide))\n",
    "head(dhis2_reporting_wide, 3)"
   ]
  },
  {
   "cell_type": "markdown",
   "id": "580e40f2-c1ef-4186-a074-9c58cc7c1f05",
   "metadata": {},
   "source": [
    "#### 3.2. Compute reporting rate with **DHIS2** dataset data\n",
    "\n",
    "Exrtacted from DHIS2 and formatted.  \n",
    "-Straightforward computation: `ACTUAL_REPORTS` / `EXPECTED_REPORTS`  \n",
    "-Format final table (column selection)"
   ]
  },
  {
   "cell_type": "code",
   "execution_count": null,
   "id": "a8df5f4c-cf6e-45b1-92dd-ed40890fe979",
   "metadata": {
    "vscode": {
     "languageId": "r"
    }
   },
   "outputs": [],
   "source": [
    "reporting_rate_results <- dhis2_reporting_wide %>%\n",
    "    mutate(REPORTING_RATE = ACTUAL_REPORTS / EXPECTED_REPORTS)\n",
    "\n",
    "print(dim(reporting_rate_results))\n",
    "head(reporting_rate_results, 3)"
   ]
  },
  {
   "cell_type": "markdown",
   "id": "0556eba8-3d6a-45b1-af02-9bdf7da6fc99",
   "metadata": {},
   "source": [
    "#### 3.3. Left join reporting indicators with DHIS2 routine data.\n",
    "\n",
    "Make sure we have a consistent reporting rates table matching periods x org units (safety measure only)."
   ]
  },
  {
   "cell_type": "code",
   "execution_count": null,
   "id": "51e5b97a-e9b9-42d4-b991-0cee4fd5041f",
   "metadata": {},
   "outputs": [],
   "source": [
    "reporting_rate_dataset <- dhis2_routine %>% \n",
    "    select(YEAR, MONTH, ADM2_ID) %>%\n",
    "    distinct() %>%\n",
    "    left_join(reporting_rate_results %>% select(all_of(fixed_cols_rr)), by=c(\"YEAR\", \"MONTH\", \"ADM2_ID\"))\n",
    "\n",
    "print(dim(reporting_rate_dataset))\n",
    "head(reporting_rate_dataset, 3)"
   ]
  },
  {
   "cell_type": "markdown",
   "id": "ad181b27-bf7b-4eb5-9200-fda8c2b8eb60",
   "metadata": {},
   "source": [
    "## 4. 📁 Export to `data/` folder"
   ]
  },
  {
   "cell_type": "markdown",
   "id": "80b4cb5c-8dd9-4347-9b22-ce0fcb24b902",
   "metadata": {},
   "source": [
    "#### 4.2. Write files"
   ]
  },
  {
   "cell_type": "code",
   "execution_count": null,
   "id": "9adc033d-18d6-4786-8f96-21337b3e005f",
   "metadata": {},
   "outputs": [],
   "source": [
    "output_data_path <- file.path(DATA_PATH, \"reporting_rate\")\n",
    "\n",
    "# parquet\n",
    "file_path <- file.path(output_data_path, paste0(COUNTRY_CODE, \"_reporting_rate_dataset.parquet\")) \n",
    "write_parquet(reporting_rate_dataset, file_path)\n",
    "log_msg(glue(\"Exported : {file_path}\"))\n",
    "\n",
    "# csv\n",
    "file_path <- file.path(output_data_path, paste0(COUNTRY_CODE, \"_reporting_rate_dataset.csv\"))\n",
    "write.csv(reporting_rate_dataset, file_path, row.names = FALSE)\n",
    "log_msg(glue(\"Exported : {file_path}\"))"
   ]
  }
 ],
 "metadata": {
  "kernelspec": {
   "display_name": "R",
   "language": "R",
   "name": "ir"
  },
  "language_info": {
   "codemirror_mode": "r",
   "file_extension": ".r",
   "mimetype": "text/x-r-source",
   "name": "R",
   "pygments_lexer": "r",
   "version": "4.4.3"
  }
 },
 "nbformat": 4,
 "nbformat_minor": 5
}
