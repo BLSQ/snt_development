{
 "cells": [
  {
   "cell_type": "markdown",
   "id": "26675878-1d15-4b17-9f93-b92d396b82fc",
   "metadata": {},
   "source": [
    "# Outliers Detection PATH method\n",
    "\n",
    "--------------------\n",
    "\n",
    "**Input**: \n",
    "* **routine DHIS2** data formatted.\n",
    "    * from Dataset \"**snt-dhis2-formatted**\", `XXX_routine_data.parquet`\n",
    "\n",
    "**Output**: \n",
    "All outputs saved to Dataset **snt-outliers-imputation**, with the following .parquet files:\n",
    "* **outliers table** with flags for outlier data points:\n",
    "    *  cols: YEAR, MONTH, ADM1_ID, ADM2_ID, OU_ID, INDICATOR, VALUE, **OUTLIER_TREND**\n",
    "    *  Filename: `XXX_routine_outliers_trend_detection.parquet`\n",
    "* **Routine data imputed** Original routine data with imputed value:\n",
    "    *   cols: PERIOD, YEAR, MONTH, ADM1_ID, ADM1_NAME, ADM2_ID, ADM2_NAME, OU_ID, OU_NAME, `DHIS2_INDICATORS`\n",
    "    *   Filename: `XXX_routine_outliers-trend_imputed.parquet`\n",
    "* **Routine data removed** Original routine data with outliers values removed:\n",
    "    *   cols: PERIOD, YEAR, MONTH, ADM1_ID, ADM1_NAME, ADM2_ID, ADM2_NAME, OU_ID, OU_NAME, `DHIS2_INDICATORS`\n",
    "    *   Filename: `XXX_routine_outliers-trend_removed.parquet`\n",
    "* **DB Table** 🐘 in OpenHEXA WS **Database** with added cols needed for 📊 Shiny App: SNT Outliers Explorer\n",
    "    *   cols: YEAR, MONTH, ADM1_ID, ADM2_ID, OU_ID, INDICATOR, VALUE, **OUTLIER_TREND**\n",
    "    *   Table name: `outliers_detection_results`\n",
    "\n",
    "---------------------"
   ]
  },
  {
   "cell_type": "code",
   "execution_count": null,
   "id": "dacfeeef-e5e7-42c0-9aff-d63ead982231",
   "metadata": {},
   "outputs": [],
   "source": [
    "# Parameters\n",
    "# MEAN_DEVIATION <- 10\n",
    "# EPI_THRESHOLD <- 5 "
   ]
  },
  {
   "cell_type": "markdown",
   "id": "02e2d697-b807-42da-bdf8-04391d43282e",
   "metadata": {},
   "source": [
    "## 1. Setup"
   ]
  },
  {
   "cell_type": "code",
   "execution_count": null,
   "id": "cc53619a-d426-44b6-a5a7-df93ed5fd9ca",
   "metadata": {},
   "outputs": [],
   "source": [
    "# Project folders\n",
    "ROOT_PATH <- \"~/workspace\"  \n",
    "CODE_PATH <- file.path(ROOT_PATH, 'code') \n",
    "CONFIG_PATH <- file.path(ROOT_PATH, 'configuration')\n",
    "DATA_PATH <- file.path(ROOT_PATH, 'data')\n",
    "\n",
    "# Load utils\n",
    "source(file.path(CODE_PATH, \"snt_utils.r\"))\n",
    "\n",
    "# Load libraries \n",
    "required_packages <- c(\"arrow\", \"tidyverse\", \"jsonlite\", \"DBI\", \"RPostgres\", \"reticulate\", \"glue\")\n",
    "install_and_load(required_packages)\n",
    "\n",
    "# Environment variables\n",
    "Sys.setenv(PROJ_LIB = \"/opt/conda/share/proj\")\n",
    "Sys.setenv(GDAL_DATA = \"/opt/conda/share/gdal\")\n",
    "Sys.setenv(RETICULATE_PYTHON = \"/opt/conda/bin/python\")\n",
    "\n",
    "# Load OpenHEXA sdk\n",
    "openhexa <- import(\"openhexa.sdk\")"
   ]
  },
  {
   "cell_type": "markdown",
   "id": "7a2e67a2-88fc-4073-b53a-cc963779980e",
   "metadata": {},
   "source": [
    "### 1.1. Validate parameters"
   ]
  },
  {
   "cell_type": "code",
   "execution_count": null,
   "id": "326de5a4-6782-43e7-ab85-d30d82106da3",
   "metadata": {},
   "outputs": [],
   "source": [
    "if (!exists(\"MEAN_DEVIATION\")) MEAN_DEVIATION <- 10\n",
    "if (!exists(\"EPI_THRESHOLD\")) EPI_THRESHOLD <- 5 "
   ]
  },
  {
   "cell_type": "markdown",
   "id": "cbc81c3f-898c-49bf-a822-d96a24fd1054",
   "metadata": {},
   "source": [
    "### 1.2. Load and check `SNT_config` file"
   ]
  },
  {
   "cell_type": "code",
   "execution_count": null,
   "id": "4768a17f-c083-45a2-936f-079a099d67aa",
   "metadata": {},
   "outputs": [],
   "source": [
    "# Load SNT config\n",
    "config_json <- tryCatch({ fromJSON(file.path(CONFIG_PATH, \"SNT_config.json\")) },\n",
    "    error = function(e) {\n",
    "        msg <- glue(\"[ERROR] Error while loading configuration {conditionMessage(e)}\")\n",
    "        log_msg(msg)\n",
    "        stop(msg)\n",
    "    })\n",
    "\n",
    "log_msg(glue(\"SNT configuration loaded from  : {file.path(CONFIG_PATH, 'SNT_config.json')}\"))"
   ]
  },
  {
   "cell_type": "code",
   "execution_count": null,
   "id": "3af2c3b6-c4c5-4fd6-8431-ce75801e556f",
   "metadata": {},
   "outputs": [],
   "source": [
    "# Check SNT configuration \n",
    "for (conf in c(\"COUNTRY_CODE\", \"DHIS2_ADMINISTRATION_1\", \"DHIS2_ADMINISTRATION_2\")) {\n",
    "    print(glue(\"{conf} : {config_json$SNT_CONFIG[conf]}\"))\n",
    "    if (is.null(config_json$SNT_CONFIG[[conf]])) {\n",
    "        msg <- paste(\"Missing configuration input:\", conf)\n",
    "        log_msg(msg)\n",
    "        stop(msg)\n",
    "    }\n",
    "}\n",
    "\n",
    "# Set config vars\n",
    "COUNTRY_CODE <- config_json$SNT_CONFIG$COUNTRY_CODE\n",
    "ADMIN_1 <- toupper(config_json$SNT_CONFIG$DHIS2_ADMINISTRATION_1)\n",
    "ADMIN_2 <- toupper(config_json$SNT_CONFIG$DHIS2_ADMINISTRATION_2)\n",
    "\n",
    "DHIS2_INDICATORS <- names(config_json$DHIS2_DATA_DEFINITIONS$DHIS2_INDICATOR_DEFINITIONS)  # PATH: c(\"TEST\", \"CONF\", \"PRES\")"
   ]
  },
  {
   "cell_type": "markdown",
   "id": "1a8624e7-ca6a-4539-a385-604d471a497b",
   "metadata": {},
   "source": [
    "## 2. Load Data"
   ]
  },
  {
   "cell_type": "markdown",
   "id": "fd3baacd-169b-4e28-9664-eac0bdf8c873",
   "metadata": {},
   "source": [
    "### 2.1. **Routine** data (DHIS2) \n",
    "\n",
    "Formatted & aggregated data stored in OpenHEXA Dataset \"**SNT_DHIS2_FORMATTED**\""
   ]
  },
  {
   "cell_type": "code",
   "execution_count": null,
   "id": "bab5973f-5044-4521-8ee0-1490a95a8077",
   "metadata": {},
   "outputs": [],
   "source": [
    "# Load file from dataset (formatting)\n",
    "dataset_name <- config_json$SNT_DATASET_IDENTIFIERS$DHIS2_DATASET_FORMATTED\n",
    "dhis2_routine <- tryCatch({ get_latest_dataset_file_in_memory(dataset_name, paste0(COUNTRY_CODE, \"_routine.parquet\")) }, \n",
    "    error = function(e) {\n",
    "        msg <- glue(\"[ERROR] Error while loading DHIS2 routine data file for {COUNTRY_CODE} : {conditionMessage(e)}\")  # log error message\n",
    "        log_msg(msg)\n",
    "        stop(msg)\n",
    "})\n",
    "\n",
    "log_msg(glue(\"DHIS2 routine data loaded from dataset : {dataset_name}\"))\n",
    "log_msg(glue(\"DHIS2 routine data loaded has dimensions: {nrow(dhis2_routine)} rows, {ncol(dhis2_routine)} columns.\"))\n",
    "print(dim(dhis2_routine))\n",
    "head(dhis2_routine, 4)"
   ]
  },
  {
   "cell_type": "markdown",
   "id": "4576564c-3c13-41c6-b438-074a214f326f",
   "metadata": {},
   "source": [
    "🔍 **Assert indicators are present**"
   ]
  },
  {
   "cell_type": "code",
   "execution_count": null,
   "id": "c546d374-c1c3-449d-a0d3-8b6cb43d54db",
   "metadata": {},
   "outputs": [],
   "source": [
    "# Raise an error if any of DHIS2_INDICATORS are not present in the dhis2 routine data.\n",
    "for (ind in DHIS2_INDICATORS) {    \n",
    "    if (!(ind %in% colnames(dhis2_routine))) {\n",
    "        msg <- paste(\"[ERROR] Missing indicator column in routine data: \", ind)\n",
    "        log_msg(msg)\n",
    "        stop(msg)\n",
    "    }\n",
    "}"
   ]
  },
  {
   "cell_type": "markdown",
   "id": "3691ddc6-e268-47c2-805f-eab8f2ef119c",
   "metadata": {},
   "source": [
    "## 3. Outliers Detection"
   ]
  },
  {
   "cell_type": "markdown",
   "id": "5e79d8b8-9046-447d-9e7b-c5ee7e6fa2be",
   "metadata": {},
   "source": [
    "### 3.1. Transform routine data  \n",
    "\n",
    "* **Pivot longer***: cols become rows"
   ]
  },
  {
   "cell_type": "code",
   "execution_count": null,
   "id": "84d72e3a-fa47-4daa-a43b-fb47de6fb138",
   "metadata": {},
   "outputs": [],
   "source": [
    "dhis2_routine_long <- dhis2_routine %>%\n",
    "    select(all_of(c(\"ADM1_ID\", \"ADM2_ID\", \"OU_ID\", \"PERIOD\", DHIS2_INDICATORS))) %>%\n",
    "    pivot_longer(cols = all_of(DHIS2_INDICATORS), names_to = \"INDICATOR\", values_to = \"VALUE\")\n",
    "\n",
    "print(dim(dhis2_routine_long))\n",
    "head(dhis2_routine_long, 2)"
   ]
  },
  {
   "cell_type": "markdown",
   "id": "6fe78a72-81d0-464d-90cc-b6aa78783825",
   "metadata": {},
   "source": [
    "🔍 **Remove duplicated values**"
   ]
  },
  {
   "cell_type": "code",
   "execution_count": null,
   "id": "2b06f751-748d-43f6-beaf-c23e54583fd0",
   "metadata": {},
   "outputs": [],
   "source": [
    "# check if there are any duplicates\n",
    "duplicated <- dhis2_routine_long %>%\n",
    "  group_by(ADM1_ID, ADM2_ID, OU_ID, PERIOD, INDICATOR) %>%\n",
    "  summarise(n = dplyr::n(), .groups= \"drop\") %>%\n",
    "  filter(n > 1L)\n",
    "\n",
    "# Remove dups\n",
    "if (nrow(duplicated) > 0) {\n",
    "    log_msg(glue(\"Removing {nrow(duplicated)} duplicated values.\"))\n",
    "    dhis2_routine_long <- dhis2_routine_long %>%\n",
    "        distinct(ADM1_ID, ADM2_ID, OU_ID, PERIOD, INDICATOR, .keep_all = TRUE)\n",
    "    head(duplicated)\n",
    "}"
   ]
  },
  {
   "cell_type": "markdown",
   "id": "d306cbd4-65ff-4f7f-a0ea-f6da8f7aace0",
   "metadata": {},
   "source": [
    "### 3.2. Calculate **summary stats**\n",
    "At `OU_ID` (Health Facility) x `INDICATOR`, calculate:\n",
    "* `MEAN_80` mean over center percentile 80%\n",
    "* `SD_80` standard deviation over center percentile 80%"
   ]
  },
  {
   "cell_type": "code",
   "execution_count": null,
   "id": "1b1f6ca6-bd8d-46ab-ac6b-88d32a51e966",
   "metadata": {},
   "outputs": [],
   "source": [
    "# Compute and add mean_80 and sd_80 columns (PATH method)\n",
    "log_msg(glue(\"Computing trend outliers (PATH Method) over: {paste(DHIS2_INDICATORS, collapse=', ')}.\"))\n",
    "\n",
    "# Exclude zeros as these are more likely period of not reporting than true zeros.\n",
    "routine_mean_80 <- dhis2_routine_long %>% \n",
    "    filter(VALUE > 0) %>%\n",
    "    group_by(ADM1_ID, ADM2_ID, OU_ID, INDICATOR) %>%\n",
    "    arrange(VALUE) %>%\n",
    "    mutate(rank = row_number()) %>%\n",
    "    # keep values with in the 10th and 90th percentiles (to reduce effects of outliers)\n",
    "    filter(rank > n() * 0.1, rank <= n() * 0.9) %>% # Filter the middle 80%\n",
    "    summarise(MEAN_80 = ceiling(mean(VALUE, na.rm = TRUE)), \n",
    "              SD_80 = ceiling(sd(VALUE, na.rm = TRUE)), .groups= \"drop\")\n",
    "\n",
    "# join raw routine_data with corresponding mean value for each OU\n",
    "dhis2_routine_stats <- dhis2_routine_long %>%\n",
    "  left_join(routine_mean_80, by = c(\"ADM1_ID\", \"ADM2_ID\", \"OU_ID\", \"INDICATOR\"))"
   ]
  },
  {
   "cell_type": "markdown",
   "id": "1e5ad64f-1faf-4c76-a475-62624a097c1a",
   "metadata": {},
   "source": [
    "### 3.3. Flag outliers"
   ]
  },
  {
   "cell_type": "code",
   "execution_count": null,
   "id": "d5d2c321-a745-42ba-ae14-e3646099e01b",
   "metadata": {},
   "outputs": [],
   "source": [
    "# unusually high values (outliers = True)\n",
    "dhis2_routine_outliers <- dhis2_routine_stats %>%\n",
    "  mutate(OUTLIER_TREND = case_when(VALUE > (MEAN_80 + MEAN_DEVIATION * SD_80) ~ TRUE, TRUE ~ FALSE)) %>%\n",
    "  mutate(OUTLIER_TREND = case_when(is.na(VALUE) | is.na(SD_80) ~ FALSE, TRUE ~ OUTLIER_TREND))  # is.na(MEAN_80)?\n",
    "\n",
    "dim(dhis2_routine_outliers)\n",
    "head(dhis2_routine_outliers, 2)"
   ]
  },
  {
   "cell_type": "markdown",
   "id": "b1e507d5-9f74-4f55-a83a-9b1b9f4e2c99",
   "metadata": {},
   "source": [
    "## 4. Exceptions\n",
    "\n",
    "### 4.1. Detect possible stock-outs: \n",
    "1) If 'presumed cases' `(PRES)` suddenly jumps up at a time that testing (TEST), this indicates a RDT stockout - so add a condition where this isn't an outlier if it is within some range of the average number of confirmed cases."
   ]
  },
  {
   "cell_type": "code",
   "execution_count": null,
   "id": "a12f5655-e354-491f-8654-0371f4462142",
   "metadata": {},
   "outputs": [],
   "source": [
    "# high presumed cases during lower tests\n",
    "low_testing_periods <- dhis2_routine_outliers %>%\n",
    "    filter(INDICATOR == \"TEST\") %>%\n",
    "    mutate(\n",
    "        low_testing = case_when(VALUE < MEAN_80 ~ TRUE, TRUE ~ FALSE), \n",
    "         # presumed may not exceed upper limits for tests    \n",
    "        upper_limit_tested = MEAN_80 + MEAN_DEVIATION * SD_80) %>% \n",
    "    select(all_of(c(\"ADM1_ID\", \"ADM2_ID\", \"OU_ID\", \"PERIOD\", \"low_testing\", \"upper_limit_tested\")))\n",
    "\n",
    "# decide which one could be possible stock-out periods\n",
    "possible_stockout <- dhis2_routine_outliers %>%\n",
    "  filter(OUTLIER_TREND == TRUE) %>%\n",
    "  left_join(low_testing_periods, by = c(\"ADM1_ID\", \"ADM2_ID\", \"OU_ID\", \"PERIOD\")) %>% \n",
    "  # make sure value does not exceed reasonable figures\n",
    "  mutate(POSSIBLE_STKOUT = case_when(low_testing == TRUE & INDICATOR == \"PRES\" & VALUE < upper_limit_tested ~ TRUE, TRUE ~ FALSE)) %>%\n",
    "  filter(POSSIBLE_STKOUT == TRUE) %>%\n",
    "  select(all_of(c(\"ADM1_ID\", \"ADM2_ID\", \"OU_ID\", \"PERIOD\", \"POSSIBLE_STKOUT\")))"
   ]
  },
  {
   "cell_type": "code",
   "execution_count": null,
   "id": "b8b129ba-3370-4467-b42e-4f27a63668a2",
   "metadata": {},
   "outputs": [],
   "source": [
    "# Log possible stockouts\n",
    "stockouts_n <- length(unique(possible_stockout$OU_ID))\n",
    "if (stockouts_n > 0) {\n",
    "    log_msg(glue(\"There are {length(unique(possible_stockout$OU_ID))} Health Facilities (OUs) with both high presumed cases (within a reasonable range) and low testing in the routine_data.\"))\n",
    "}\n",
    "\n",
    "head(possible_stockout, 2)"
   ]
  },
  {
   "cell_type": "markdown",
   "id": "2c28ae46-901d-459f-8ccc-3ff2219c7cb9",
   "metadata": {},
   "source": [
    "### 4.2. Detect possible epidemic: \n",
    "\n",
    "2) Sometimes tests and confirmed cases both jump up together - this can be due to a genuine epidemic event, or because there was a lag in reporting in previous months.  \n",
    "   Identify Health Facilities (OUs) with extreme outliers **EPI_THRESHOLD** times larger than the outlier threshold) for both tests and confirmed cases, these could be legit epidemic outbreaks at the same time."
   ]
  },
  {
   "cell_type": "code",
   "execution_count": null,
   "id": "cbe8e63b-b26e-421d-9110-ecb47f25e4c5",
   "metadata": {},
   "outputs": [],
   "source": [
    "# flag possible epidemic \n",
    "possible_epidemic <- dhis2_routine_outliers %>% \n",
    "    filter(OUTLIER_TREND == TRUE & (INDICATOR == \"TEST\" | INDICATOR == \"CONF\")) %>%     \n",
    "    rename(total = VALUE) %>% \n",
    "    # outlier threshold max value\n",
    "    mutate(max_value = MEAN_80 + MEAN_DEVIATION * SD_80) %>% \n",
    "    # remove columns not necessary for wider format\n",
    "    select(-c(\"MEAN_80\", \"SD_80\")) %>% \n",
    "    # wider format with two values (value and outlier-threshold max value) for each INDICATOR\n",
    "    pivot_wider(names_from = INDICATOR, values_from = c(total, max_value)) %>% \n",
    "    unnest(cols = everything()) %>% \n",
    "    # identify HF months with outlier for both variables\n",
    "    filter(total_CONF >= max_value_CONF & total_TEST >= max_value_TEST) %>% \n",
    "    mutate(POSSIBLE_EPID = ifelse(total_CONF >= EPI_THRESHOLD * max_value_CONF | total_TEST >= EPI_THRESHOLD * max_value_TEST, TRUE, FALSE)) %>% \n",
    "    filter(POSSIBLE_EPID == TRUE) %>% \n",
    "    select(all_of(c(\"ADM1_ID\", \"ADM2_ID\", \"OU_ID\", \"PERIOD\", \"POSSIBLE_EPID\")))\n",
    "\n",
    "epidemic_n <- length(unique(possible_epidemic$OU_ID))\n",
    "if (epidemic_n > 0) {    \n",
    "    print(glue(\"There are {epidemic_n} health facilities (OUs) where both the number of tests and confirmed cases increased sharply at the same time, sign of possible epidemic.\"))\n",
    "}\n",
    "head(possible_epidemic, 2)"
   ]
  },
  {
   "cell_type": "markdown",
   "id": "26a54157-db43-48b3-9ce6-34446b3c6e9a",
   "metadata": {},
   "source": [
    "### 4.3. Join exception tables and correct outlier flags\n",
    "\n",
    "Join corrected outlier columns into the final table:\n",
    "\n",
    "**OUTLIERS_TREND**: Indicates whether its outside a reasonable range.  \n",
    "**OUTLIERS_TREND_01** (exception 1): Corrects the presumed cases when possible RDT or stockout.  \n",
    "**OUTLIERS_TREND_02** (exception 2): Corrects potential epidemic."
   ]
  },
  {
   "cell_type": "code",
   "execution_count": null,
   "id": "82c97af3-3c9b-4752-ba77-7409f6842593",
   "metadata": {},
   "outputs": [],
   "source": [
    "# Join columns and correct outliers column\n",
    "routine_data_outliers_clean <- dhis2_routine_outliers %>% \n",
    "    left_join(possible_stockout, by = c(\"ADM1_ID\", \"ADM2_ID\", \"OU_ID\", \"PERIOD\")) %>%\n",
    "    mutate(OUTLIER_TREND_01 = case_when(OUTLIER_TREND == TRUE & INDICATOR ==\"PRES\" & POSSIBLE_STKOUT == TRUE ~ FALSE, TRUE ~ OUTLIER_TREND)) %>%\n",
    "    left_join(possible_epidemic, by = c(\"ADM1_ID\", \"ADM2_ID\", \"OU_ID\", \"PERIOD\")) %>%\n",
    "    mutate(OUTLIER_TREND_02 = case_when(OUTLIER_TREND_01 == TRUE & INDICATOR %in% c(\"CONF\", \"TEST\") & POSSIBLE_EPID == TRUE ~ TRUE, TRUE ~ OUTLIER_TREND_01)) %>%    \n",
    "    select(-OUTLIER_TREND) %>%\n",
    "    rename(OUTLIER_TREND = OUTLIER_TREND_02) %>% \n",
    "    mutate(\n",
    "        YEAR = as.integer(substr(PERIOD, 1, 4)),\n",
    "        MONTH = as.integer(substr(PERIOD, 5, 6))) %>%\n",
    "    select(all_of(\n",
    "        c(\n",
    "          \"PERIOD\",\n",
    "          \"YEAR\",\n",
    "          \"MONTH\",\n",
    "          \"ADM1_ID\",\n",
    "          \"ADM2_ID\",\n",
    "          \"OU_ID\",          \n",
    "          \"INDICATOR\",\n",
    "          \"VALUE\",\n",
    "          \"MEAN_80\",\n",
    "          \"SD_80\",\n",
    "          \"OUTLIER_TREND\",\n",
    "          \"POSSIBLE_STKOUT\",          \n",
    "          \"POSSIBLE_EPID\"          \n",
    "        )\n",
    "    ))\n",
    "\n",
    "print(dim(routine_data_outliers_clean))\n",
    "head(routine_data_outliers_clean, 2)"
   ]
  },
  {
   "cell_type": "code",
   "execution_count": null,
   "id": "931a1547-6d49-4fe2-869d-0b9ac95cee82",
   "metadata": {},
   "outputs": [],
   "source": [
    "# routine_data_outliers_clean %>% filter(OUTLIER_TREND==TRUE) %>% head(3)\n",
    "# TEST VALUE : OU_ID==\"a6ajNA9VZ7z\" & PERIOD==\"202201\" (TEST) 52 -> 25.1"
   ]
  },
  {
   "cell_type": "markdown",
   "id": "bae8476b-62a2-45be-9b54-2ca5f7945bdc",
   "metadata": {},
   "source": [
    "## 5. Routine data imputation\n",
    "\n",
    "We consider the flagged outliers in the corrected column **OUTLIER_TREND_02** and we replace values by **MEAN_80**"
   ]
  },
  {
   "cell_type": "markdown",
   "id": "2ee063d4-f074-44f8-82d3-e66565bd0b55",
   "metadata": {},
   "source": [
    "### 5.1. Impute outliers with MEAN_80"
   ]
  },
  {
   "cell_type": "code",
   "execution_count": null,
   "id": "d4a6d507-910e-4dab-9780-f9d205dfd421",
   "metadata": {},
   "outputs": [],
   "source": [
    "# replace outliers by mean_80\n",
    "routine_data_outliers_imputed <- routine_data_outliers_clean %>%    \n",
    "    rename(VALUE_OLD = VALUE) %>%    \n",
    "    # replace outliers with the mean 80% value\n",
    "    mutate(VALUE_IMPUTED = ifelse(OUTLIER_TREND == TRUE, MEAN_80, VALUE_OLD)) %>%\n",
    "    arrange(\"ADM1_ID\", \"ADM2_ID\", \"OU_ID\", \"PERIOD\", \"INDICATOR\") %>%      \n",
    "    select(all_of(c(\"PERIOD\", \"YEAR\", \"MONTH\", \"ADM1_ID\", \"ADM2_ID\", \"OU_ID\", \"INDICATOR\", \"VALUE_OLD\", \"VALUE_IMPUTED\", \"OUTLIER_TREND\")))\n",
    "\n",
    "print(dim(routine_data_outliers_imputed))\n",
    "head(routine_data_outliers_imputed, 2)"
   ]
  },
  {
   "cell_type": "code",
   "execution_count": null,
   "id": "e2c17945-15f0-412c-8d7b-6e151d9bd46c",
   "metadata": {},
   "outputs": [],
   "source": [
    "dim(routine_data_outliers_imputed[routine_data_outliers_imputed$OUTLIER_TREND==TRUE,])\n",
    "dim(routine_data_outliers_imputed[routine_data_outliers_imputed$OUTLIER_TREND==FALSE,])"
   ]
  },
  {
   "cell_type": "markdown",
   "id": "ffd5d656-7615-4b62-8058-21e47adf67ad",
   "metadata": {},
   "source": [
    "### 5.2. Format final `imputed` and `removed` routine data\n",
    "\n",
    "**Imputed**: This table contains the routine data where outliers have been imputed.  \n",
    "**Removed**: This table contains the routine data with outliers removed from the dataset."
   ]
  },
  {
   "cell_type": "code",
   "execution_count": null,
   "id": "44175a49-5fa0-4327-9f64-50ae1ddc0507",
   "metadata": {},
   "outputs": [],
   "source": [
    "# get names from routine (This cleaning only applies to DRC names)\n",
    "pyramid_names <- dhis2_routine %>% \n",
    "    distinct(ADM1_NAME, ADM1_ID, ADM2_NAME, ADM2_ID, OU_ID, OU_NAME) %>%\n",
    "    # Simpify strings \n",
    "    mutate(\n",
    "        ADM1_NAME = stringr::str_trim(str_remove_all(ADM1_NAME, \"^[A-Z]{2}| PROVINCE\")),\n",
    "        ADM2_NAME = stringr::str_trim(str_remove_all(ADM2_NAME, \"^[A-Z]{2}| ZONE DE SANTE\"))\n",
    "    )"
   ]
  },
  {
   "cell_type": "code",
   "execution_count": null,
   "id": "36dbc621-eaad-4596-acbc-49b99a7ded1f",
   "metadata": {},
   "outputs": [],
   "source": [
    "# Routine outliers imputed\n",
    "dhis2_routine_outliers_imputed <- routine_data_outliers_imputed %>%\n",
    "    select(-c(\"VALUE_OLD\", \"OUTLIER_TREND\")) %>%\n",
    "    pivot_wider(names_from = INDICATOR, values_from = VALUE_IMPUTED) %>%\n",
    "    mutate(YEAR = as.integer(substr(PERIOD, 1, 4)), MONTH = as.integer(substr(PERIOD, 5, 6))) %>%\n",
    "    left_join(pyramid_names, by = c(\"ADM1_ID\", \"ADM2_ID\", \"OU_ID\")) %>% \n",
    "    select(all_of(c(\"PERIOD\", \n",
    "                    \"YEAR\", \n",
    "                    \"MONTH\", \n",
    "                    \"ADM1_NAME\", \n",
    "                    \"ADM1_ID\", \n",
    "                    \"ADM2_NAME\", \n",
    "                    \"ADM2_ID\", \n",
    "                    \"OU_ID\", \n",
    "                    \"OU_NAME\", \n",
    "                    DHIS2_INDICATORS)))\n",
    "    \n",
    "print(dim(dhis2_routine_outliers_imputed))\n",
    "head(dhis2_routine_outliers_imputed, 2)"
   ]
  },
  {
   "cell_type": "code",
   "execution_count": null,
   "id": "b297370e-23c4-4ad8-9417-aae60d4d7cce",
   "metadata": {},
   "outputs": [],
   "source": [
    "# Routine outliers removed\n",
    "dhis2_routine_outliers_removed <- routine_data_outliers_imputed %>%\n",
    "    filter(OUTLIER_TREND == FALSE) %>%\n",
    "    select(-c(\"VALUE_OLD\", \"OUTLIER_TREND\")) %>%\n",
    "    pivot_wider(names_from = INDICATOR, values_from = VALUE_IMPUTED) %>%\n",
    "    mutate(YEAR = as.integer(substr(PERIOD, 1, 4)), MONTH = as.integer(substr(PERIOD, 5, 6))) %>%\n",
    "    filter(!if_all(all_of(DHIS2_INDICATORS), is.na)) %>%\n",
    "    left_join(pyramid_names, by = c(\"ADM1_ID\", \"ADM2_ID\", \"OU_ID\")) %>% \n",
    "    select(all_of(c(\"PERIOD\", \n",
    "                    \"YEAR\", \n",
    "                    \"MONTH\", \n",
    "                    \"ADM1_NAME\", \n",
    "                    \"ADM1_ID\", \n",
    "                    \"ADM2_NAME\", \n",
    "                    \"ADM2_ID\", \n",
    "                    \"OU_ID\", \n",
    "                    \"OU_NAME\", \n",
    "                    DHIS2_INDICATORS))) \n",
    "    \n",
    "print(dim(dhis2_routine_outliers_removed))\n",
    "head(dhis2_routine_outliers_removed, 2)"
   ]
  },
  {
   "cell_type": "code",
   "execution_count": null,
   "id": "6e9f57c5-625c-4ef6-b2d1-e6976c8e8510",
   "metadata": {},
   "outputs": [],
   "source": [
    "# log\n",
    "nr_of_outliers <- nrow(routine_data_outliers_clean[routine_data_outliers_clean$OUTLIER_TREND == TRUE,])\n",
    "perc_outliers <- nr_of_outliers/nrow(routine_data_outliers_clean) * 100\n",
    "log_msg(glue(\"Using PATH outliers detection method {nr_of_outliers} outliers were identified ({sprintf('%.3f', perc_outliers)} % of values).\")) "
   ]
  },
  {
   "cell_type": "markdown",
   "id": "fae90192-feec-44dd-9f07-2693a7af40e7",
   "metadata": {},
   "source": [
    "## 6. Export Output tables\n",
    "Export tables as .parquet files to `data/` folder"
   ]
  },
  {
   "cell_type": "code",
   "execution_count": null,
   "id": "abb9d24f-28d0-40cb-84a8-164ad234a723",
   "metadata": {},
   "outputs": [],
   "source": [
    "output_path <- file.path(DATA_PATH , \"dhis2\", \"outliers_imputation\")\n",
    "\n",
    "# Save routine outliers table (parquet)\n",
    "outliers_parquet <- file.path(output_path , paste0(COUNTRY_CODE, \"_routine_outliers-trend_detection.parquet\")) \n",
    "routine_outliers_db_table <- routine_data_outliers_clean %>% \n",
    "    select(-c(\"MEAN_80\", \"SD_80\", \"POSSIBLE_STKOUT\", \"POSSIBLE_EPID\")) %>%\n",
    "    mutate(DATE = make_date(year = YEAR, month = MONTH, day = 1L)) %>%\n",
    "    left_join(pyramid_names, by = c(\"ADM1_ID\", \"ADM2_ID\", \"OU_ID\")) \n",
    "\n",
    "write_parquet(routine_outliers_db_table, outliers_parquet)\n",
    "log_msg(glue(\"Outliers detection table saved under: {outliers_parquet}\"))"
   ]
  },
  {
   "cell_type": "code",
   "execution_count": null,
   "id": "2c9f0602-260b-468a-b526-10692143c78b",
   "metadata": {},
   "outputs": [],
   "source": [
    "# Save routine data imputed (parquet)   \n",
    "imputed_parquet <- file.path(output_path, paste0(COUNTRY_CODE, \"_routine_outliers-trend_imputed.parquet\"))\n",
    "write_parquet(dhis2_routine_outliers_imputed, imputed_parquet)\n",
    "log_msg(glue(\"Routine data outliers imputed saved under: {imputed_parquet}\"))"
   ]
  },
  {
   "cell_type": "code",
   "execution_count": null,
   "id": "2945699c-e791-496c-84d1-771a942a0816",
   "metadata": {},
   "outputs": [],
   "source": [
    "# Save routine data removed (parquet)   \n",
    "removed_parquet <- file.path(output_path , paste0(COUNTRY_CODE, \"_routine_outliers-trend_removed.parquet\"))\n",
    "write_parquet(dhis2_routine_outliers_removed, removed_parquet)\n",
    "log_msg(glue(\"Routine data outliers removed saved under: {removed_parquet}\"))"
   ]
  }
 ],
 "metadata": {
  "kernelspec": {
   "display_name": "R",
   "language": "R",
   "name": "ir"
  },
  "language_info": {
   "codemirror_mode": "r",
   "file_extension": ".r",
   "mimetype": "text/x-r-source",
   "name": "R",
   "pygments_lexer": "r",
   "version": "4.4.3"
  }
 },
 "nbformat": 4,
 "nbformat_minor": 5
}
