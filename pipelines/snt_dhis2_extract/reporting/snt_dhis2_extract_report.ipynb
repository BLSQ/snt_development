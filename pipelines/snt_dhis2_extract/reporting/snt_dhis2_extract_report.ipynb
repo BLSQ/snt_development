{
 "cells": [
  {
   "cell_type": "markdown",
   "id": "e3d5b582-a38f-4ce0-a9a2-9a53ab5eb233",
   "metadata": {},
   "source": [
    "# **Analyse de la qualité des données de routine**\n"
   ]
  },
  {
   "cell_type": "markdown",
   "id": "16ae128a-85a1-4a40-9988-9c80647e611c",
   "metadata": {},
   "source": [
    "## Configuration"
   ]
  },
  {
   "cell_type": "code",
   "execution_count": null,
   "id": "903e2137-6de0-45b6-92af-2e3f092b4c5e",
   "metadata": {},
   "outputs": [],
   "source": [
    "# Set SNT Paths\n",
    "SNT_ROOT_PATH  <- \"~/workspace\"\n",
    "CODE_PATH      <- file.path(SNT_ROOT_PATH, \"code\")\n",
    "CONFIG_PATH    <- file.path(SNT_ROOT_PATH, \"configuration\")\n",
    "\n",
    "# load util functions\n",
    "source(file.path(CODE_PATH, \"snt_utils.r\"))\n",
    "\n",
    "# List required packages \n",
    "required_packages <- c(\"dplyr\", \"tidyr\", \"terra\", \"ggplot2\", \"stringr\", \"lubridate\", \"viridis\", \"patchwork\", \"zoo\", \"purrr\", \"arrow\", \"sf\", \"reticulate\", \"knitr\")\n",
    "\n",
    "# Execute function\n",
    "install_and_load(required_packages)\n",
    "\n",
    "# Set environment to load openhexa.sdk from the right environment\n",
    "Sys.setenv(RETICULATE_PYTHON = \"/opt/conda/bin/python\")\n",
    "reticulate::py_config()$python\n",
    "openhexa <- import(\"openhexa.sdk\")\n",
    "\n",
    "# Load SNT config\n",
    "config_json <- tryCatch({ jsonlite::fromJSON(file.path(CONFIG_PATH, \"SNT_config.json\"))},\n",
    "    error = function(e) {\n",
    "        msg <- paste0(\"Error while loading configuration\", conditionMessage(e))  \n",
    "        cat(msg)   \n",
    "        stop(msg) \n",
    "    })\n",
    "\n",
    "# Configuration variables\n",
    "dataset_name <- config_json$SNT_DATASET_IDENTIFIERS$DHIS2_DATASET_EXTRACTS\n",
    "COUNTRY_CODE <- config_json$SNT_CONFIG$COUNTRY_CODE\n",
    "ADM_2 <- toupper(config_json$SNT_CONFIG$DHIS2_ADMINISTRATION_2)"
   ]
  },
  {
   "cell_type": "code",
   "execution_count": null,
   "id": "f8edc2a5-07ce-4507-9939-4322fc510593",
   "metadata": {},
   "outputs": [],
   "source": [
    "# print function\n",
    "printdim <- function(df, name = deparse(substitute(df))) {\n",
    "  cat(\"Dimensions of\", name, \":\", nrow(df), \"rows x\", ncol(df), \"columns\\n\\n\")\n",
    "}"
   ]
  },
  {
   "cell_type": "markdown",
   "id": "4d8edc87-0b08-4808-aa68-1b9d601b0609",
   "metadata": {},
   "source": [
    "## 1. Complétude du rapport des établissements de santé de routine par élément de donnée"
   ]
  },
  {
   "cell_type": "code",
   "execution_count": null,
   "id": "2eca71a0-d1fd-4f1c-8196-178747c2d185",
   "metadata": {},
   "outputs": [],
   "source": [
    "# import analytics DHIS2 data\n",
    "data <- tryCatch({ get_latest_dataset_file_in_memory(dataset_name, paste0(COUNTRY_CODE, \"_dhis2_raw_analytics.parquet\")) }, \n",
    "                  error = function(e) {\n",
    "                      msg <- paste(\"Error while loading DHIS2 analytics file for: \" , COUNTRY_CODE, conditionMessage(e))\n",
    "                      cat(msg)\n",
    "                      stop(msg)\n",
    "                      })\n",
    "\n",
    "pyramid_data <- tryCatch({ get_latest_dataset_file_in_memory(dataset_name, paste0(COUNTRY_CODE, \"_dhis2_raw_pyramid.parquet\")) }, \n",
    "                  error = function(e) {\n",
    "                      msg <- paste(\"Error while loading DHIS2 Shapes data for: \" , COUNTRY_CODE, conditionMessage(e))\n",
    "                      cat(msg)\n",
    "                      stop(msg)\n",
    "                      })\n",
    "reporting_data <- tryCatch({ get_latest_dataset_file_in_memory(dataset_name, paste0(COUNTRY_CODE, \"_dhis2_raw_reporting.parquet\")) }, \n",
    "                  error = function(e) {\n",
    "                      msg <- paste(\"Error while loading DHIS2 Shapes data for: \" , COUNTRY_CODE, conditionMessage(e))\n",
    "                      cat(msg)\n",
    "                      stop(msg)\n",
    "                      })\n",
    "printdim(data)\n",
    "printdim(pyramid_data)\n",
    "printdim(reporting_data)"
   ]
  },
  {
   "cell_type": "markdown",
   "id": "c3cee574-8d66-4cd5-8fe6-97f39daa158b",
   "metadata": {},
   "source": [
    "## 1.1 Liste des éléments de donnée"
   ]
  },
  {
   "cell_type": "code",
   "execution_count": null,
   "id": "5ef732f5-52a8-4abc-87ba-7ca77f6c85f2",
   "metadata": {
    "scrolled": true
   },
   "outputs": [],
   "source": [
    "# 1. Extract the list of categories and their DX codes\n",
    "indicator_defs <- config_json$DHIS2_DATA_DEFINITIONS$DHIS2_INDICATOR_DEFINITIONS\n",
    "category_elements <- map(indicator_defs, ~ .x)  # safely preserve all vectors\n",
    "category_names <- names(category_elements)\n",
    "\n",
    "# 2. Get unique DX and DX_NAME from your main dataset\n",
    "data_elements <- data %>%\n",
    "  select(DX, DX_NAME) %>%\n",
    "  distinct()\n",
    "\n",
    "# 3. Build a lookup table assigning category to each DX\n",
    "classified_elements <- bind_rows(lapply(category_names, function(cat) {\n",
    "  ids <- category_elements[[cat]]\n",
    "  data_elements %>%\n",
    "    filter(DX %in% ids) %>%\n",
    "    mutate(Categorie = cat)\n",
    "}))\n",
    "\n",
    "# 4. Display results sorted\n",
    "classified_elements %>%\n",
    "  arrange(Categorie, DX_NAME) %>%\n",
    "  kable(\n",
    "    caption = \"Liste des éléments de données classés par catégorie\",\n",
    "    col.names = c(\"ID de l'élément\", \"Nom de l'élément\", \"Catégorie\")\n",
    "  )"
   ]
  },
  {
   "cell_type": "markdown",
   "id": "05f6938d-046b-4742-b8cb-3840a3646fb7",
   "metadata": {},
   "source": [
    "## 1.2 Nombre de formations sanitaires\n",
    "L’activité a été définie comme le moment où une formation sanitaire a rapporté au moins une information sur un quelconque élément de donnée. Cela a été évalué en vérifiant si au moins un élément de donnée avait été rapporté durant la période spécifiée."
   ]
  },
  {
   "cell_type": "code",
   "execution_count": null,
   "id": "6a4bf426-3e9b-4238-9985-c0fa8ae9a470",
   "metadata": {},
   "outputs": [],
   "source": [
    "# Total number of unique facilities using org unit ID from pyramid data\n",
    "total_facilities <- pyramid_data %>% pull(LEVEL_5_ID) %>% unique() %>% length()\n",
    "\n",
    "# Check health facility activity: any reported value (including 0) counts as active\n",
    "activity <- data %>%\n",
    "  group_by(OU, PE) %>%\n",
    "  summarise(active = any(!is.na(VALUE)), .groups = \"drop\")\n",
    "\n",
    "# Number of facilities that were ever active\n",
    "active_facilities <- activity %>%\n",
    "  group_by(OU) %>%\n",
    "  summarise(active_ever = any(active), .groups = \"drop\") %>%\n",
    "  filter(active_ever) %>%\n",
    "  nrow()\n",
    "\n",
    "# Proportion\n",
    "proportion_active <- 100 * active_facilities / total_facilities\n",
    "\n",
    "# Print result\n",
    "cat(\"Parmi \", total_facilities, \" formations sanitaires uniques, \", \n",
    "    active_facilities, \n",
    "    \" ont rapporté au moins une donnée sur un élément quelconque pendant la période spécifiée (\", \n",
    "    round(proportion_active, 1), \"%)\\n\", sep = \"\")"
   ]
  },
  {
   "cell_type": "markdown",
   "id": "cd592a3f-4f45-45f7-91f0-0fd71aee5894",
   "metadata": {},
   "source": [
    "## 1.3 Période de couverture des données"
   ]
  },
  {
   "cell_type": "code",
   "execution_count": null,
   "id": "e5da5146-86da-4d91-9b64-bead21497896",
   "metadata": {},
   "outputs": [],
   "source": [
    "# Mois minimum et maximum dans le jeu de données\n",
    "cat(\"Premier mois pour lequel les données ont été extraites :\", min(data$PE), \"\\n\")\n",
    "cat(\"Dernier mois pour lequel les données ont été extraites :\", max(data$PE), \"\\n\")\n",
    "cat(\"Nombre total de mois couverts par les données :\", length(unique(data$PE)), \"\\n\")\n",
    "\n",
    "# Vérification des mois manquants (en supposant des données mensuelles entre min et max)\n",
    "all_months <- seq(ymd(paste0(min(data$PE), \"01\")),\n",
    "                  ymd(paste0(max(data$PE), \"01\")),\n",
    "                  by = \"1 month\") %>%\n",
    "              format(\"%Y%m\")"
   ]
  },
  {
   "cell_type": "markdown",
   "id": "1be4d840-74a8-4a61-bf1a-af556ef270bc",
   "metadata": {},
   "source": [
    "## 1.4 Proportion de formations sanitaires ayant rapporté des valeurs nulles, manquantes (NULL) ou positives pour chaque élément de données"
   ]
  },
  {
   "cell_type": "code",
   "execution_count": null,
   "id": "3dec0947-f19a-40fe-8927-1ea0efdca904",
   "metadata": {},
   "outputs": [],
   "source": [
    "options(jupyter.plot_mimetypes = c(\"image/png\"))"
   ]
  },
  {
   "cell_type": "code",
   "execution_count": null,
   "id": "133d8b40-4e5c-4c43-876f-f4a72a4070a7",
   "metadata": {},
   "outputs": [],
   "source": [
    "# --- STEP 1: Convert 'PE' to proper DATE\n",
    "data <- data %>%\n",
    "  mutate(\n",
    "    PE = as.character(PE),\n",
    "    DATE = as.Date(paste0(substr(PE, 1, 4), \"-\", substr(PE, 5, 6), \"-01\")),\n",
    "    INDICATOR = DX_NAME  # alias for clarity\n",
    "  )\n",
    "\n",
    "# --- STEP 2: Build expected full grid (OU × INDICATOR × DATE)\n",
    "full_grid <- expand_grid(\n",
    "  OU = unique(data$OU),\n",
    "  INDICATOR = unique(data$INDICATOR),\n",
    "  DATE = unique(data$DATE)\n",
    ")\n",
    "\n",
    "# --- STEP 3: Join to detect missing / zero / positive\n",
    "reporting_check <- full_grid %>%\n",
    "  left_join(\n",
    "    data %>% select(OU, INDICATOR, DATE, VALUE),\n",
    "    by = c(\"OU\", \"INDICATOR\", \"DATE\")\n",
    "  ) %>%\n",
    "  mutate(\n",
    "    is_missing = is.na(VALUE),\n",
    "    is_zero = VALUE == 0 & !is.na(VALUE),\n",
    "    is_positive = VALUE > 0 & !is.na(VALUE)\n",
    "  )\n",
    "\n",
    "# --- STEP 4: Summarise by INDICATOR and date\n",
    "reporting_summary <- reporting_check %>%\n",
    "  group_by(INDICATOR, DATE) %>%\n",
    "  summarise(\n",
    "    n_total = n_distinct(OU),\n",
    "    n_missing = sum(is_missing),\n",
    "    n_zero = sum(is_zero),\n",
    "    n_positive = sum(is_positive),\n",
    "    pct_missing = ifelse(n_total > 0, 100 * n_missing / n_total, 0),\n",
    "    pct_zero = ifelse(n_total > 0, 100 * n_zero / n_total, 0),\n",
    "    pct_positive = ifelse(n_total > 0, 100 * n_positive / n_total, 0),\n",
    "    .groups = \"drop\"\n",
    "  )\n",
    "\n",
    "# --- STEP 5: Reshape for stacked plot\n",
    "plot_data <- reporting_summary %>%\n",
    "  pivot_longer(\n",
    "    cols = starts_with(\"pct_\"),\n",
    "    names_to = \"Status\", values_to = \"Percentage\"\n",
    "  ) %>%\n",
    "  mutate(\n",
    "    Status = recode(Status,\n",
    "                    pct_missing = \"Valeur manquante\",\n",
    "                    pct_zero = \"Valeur nulle rapportée\",\n",
    "                    pct_positive = \"Valeur positive rapportée\")\n",
    "  ) %>%\n",
    "  complete(INDICATOR, DATE, Status, fill = list(Percentage = 0))"
   ]
  },
  {
   "cell_type": "code",
   "execution_count": null,
   "id": "fcd8e259-80ff-4615-a568-9fe63ad0a9f3",
   "metadata": {},
   "outputs": [],
   "source": [
    "plot_data <- plot_data %>%\n",
    "  left_join(classified_elements, by = c(\"INDICATOR\" = \"DX_NAME\"))"
   ]
  },
  {
   "cell_type": "code",
   "execution_count": null,
   "id": "839c7ff9-25db-43ed-a632-633e81cde2ab",
   "metadata": {},
   "outputs": [],
   "source": [
    "# Get all categories\n",
    "categories <- unique(plot_data$Categorie)\n",
    "\n",
    "# One plot per category\n",
    "plots_by_category <- map(categories, function(cat) {\n",
    "  ggplot(plot_data %>% filter(Categorie == cat),\n",
    "         aes(x = DATE, y = Percentage, fill = Status)) +\n",
    "    geom_col(position = \"stack\") +\n",
    "    facet_wrap(~ INDICATOR, scales = \"free_y\", ncol = 3) +\n",
    "    scale_y_continuous() +\n",
    "    scale_fill_manual(values = c(\n",
    "      \"Valeur manquante\" = \"tomato\",\n",
    "      \"Valeur nulle rapportée\" = \"skyblue\",\n",
    "      \"Valeur positive rapportée\" = \"green\"\n",
    "    )) +\n",
    "    labs(\n",
    "      title = paste(\"État de rapportage - Catégorie:\", cat),\n",
    "      subtitle = \"Proportion des valeurs rapportées par mois\",\n",
    "      x = \"Mois\", y = \"% des formations sanitaires\",\n",
    "      fill = \"Statut du rapportage\"\n",
    "    ) +\n",
    "    theme_minimal(base_size = 14) +\n",
    "    theme(\n",
    "      plot.title = element_text(face = \"bold\", size = 16),\n",
    "      strip.text = element_text(size = 10),\n",
    "      axis.title = element_text(size = 14),\n",
    "      axis.text = element_text(size = 10)\n",
    "    )\n",
    "})\n"
   ]
  },
  {
   "cell_type": "code",
   "execution_count": null,
   "id": "fe64dd29-02f3-432e-ad5f-ef4060479095",
   "metadata": {},
   "outputs": [],
   "source": [
    "# Example: show the first category plot\n",
    "options(repr.plot.width = 15, repr.plot.height = 5)\n",
    "plots_by_category\n"
   ]
  },
  {
   "cell_type": "markdown",
   "id": "727c614b-c1fd-4c17-8414-1f6478f664c3",
   "metadata": {},
   "source": [
    "## 1.5 Proportion de mois rapportés pour chaque élément de données par formation sanitaire"
   ]
  },
  {
   "cell_type": "code",
   "execution_count": null,
   "id": "5ca38da7-c4e6-424e-945b-277d3a785b64",
   "metadata": {},
   "outputs": [],
   "source": [
    "# Max available column\n",
    "admin_levels <- names(data)\n",
    "name_cols <- grep(\"LEVEL_\\\\d+_NAME\", admin_levels, value = TRUE)\n",
    "max_level <- max(as.numeric(gsub(\"LEVEL_(\\\\d+)_NAME\", \"\\\\1\", name_cols)))\n",
    "max_admin_col_name <- paste0(\"LEVEL_\", max_level, \"_NAME\")\n",
    "\n",
    "# Count number of months reported for each indicator per facility\n",
    "facility_coverage <- data %>%\n",
    "  group_by(OU, !!sym(max_admin_col_name), DX_NAME) %>%\n",
    "  summarise(N_VALUES = sum(!is.na(VALUE)), .groups = \"drop\") %>%\n",
    "  pivot_wider(names_from = DX_NAME, \n",
    "              values_from = N_VALUES, \n",
    "              values_fill = 0)\n",
    "\n",
    "# Turn wide data back to long for plotting\n",
    "facility_long <- facility_coverage %>%\n",
    "  pivot_longer(\n",
    "    cols = -c(OU, !!sym(max_admin_col_name)),\n",
    "    names_to = \"indicator\",\n",
    "    values_to = \"months_reported\"\n",
    "  ) %>%\n",
    "  mutate(percent_reported = (months_reported / length(unique(data$PE))) * 100) %>% \n",
    "  left_join(\n",
    "    data %>% \n",
    "      select(OU, !!sym(ADM_2)) %>% \n",
    "      distinct(),\n",
    "    by = \"OU\"\n",
    "  )"
   ]
  },
  {
   "cell_type": "code",
   "execution_count": null,
   "id": "bfa93c35-c4a2-4ee3-a905-73b115cb8a68",
   "metadata": {},
   "outputs": [],
   "source": [
    "# Heatmap: Indicators as rows, Health Facilities as columns\n",
    "options(repr.plot.width = 18, repr.plot.height = 10)\n",
    "\n",
    "ggplot(facility_long, aes(x = !!sym(max_admin_col_name), y = indicator, fill = percent_reported)) +\n",
    "  geom_tile() +\n",
    "  scale_fill_viridis_c(name = \"% Rapporté\", limits = c(0, 100)) +\n",
    "  labs(\n",
    "    title = \"Complétude des rapports par formation sanitaire\",\n",
    "    x = \"Formation sanitaire\",\n",
    "    y = \"Elément de données\"\n",
    "  ) +\n",
    "  theme_minimal() +\n",
    "  theme(\n",
    "    axis.text.x = element_blank(),  # Hide x-axis labels if too many\n",
    "    axis.ticks.x = element_blank(),\n",
    "    axis.text.y = element_text(size = 12),\n",
    "    plot.title = element_text(size = 18, face = \"bold\"),\n",
    "    axis.title.x = element_text(size = 16),  \n",
    "    axis.title.y = element_text(size = 16),\n",
    "    panel.grid = element_blank()\n",
    "  )"
   ]
  },
  {
   "cell_type": "code",
   "execution_count": null,
   "id": "255e3130-393a-4542-95e3-a0b2a56f0ae8",
   "metadata": {},
   "outputs": [],
   "source": []
  }
 ],
 "metadata": {
  "kernelspec": {
   "display_name": "R",
   "language": "R",
   "name": "ir"
  },
  "language_info": {
   "codemirror_mode": "r",
   "file_extension": ".r",
   "mimetype": "text/x-r-source",
   "name": "R",
   "pygments_lexer": "r",
   "version": "4.4.3"
  }
 },
 "nbformat": 4,
 "nbformat_minor": 5
}
