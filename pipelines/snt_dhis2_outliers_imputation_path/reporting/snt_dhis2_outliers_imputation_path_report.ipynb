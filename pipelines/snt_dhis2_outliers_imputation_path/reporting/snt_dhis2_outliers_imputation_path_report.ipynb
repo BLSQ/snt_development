{
 "cells": [
  {
   "cell_type": "code",
   "execution_count": null,
   "id": "826b48b1-c363-4feb-aef3-ffabd08f01e3",
   "metadata": {},
   "outputs": [],
   "source": [
    "print(\"report placeholder\")"
   ]
  },
  {
   "cell_type": "code",
   "execution_count": null,
   "id": "9e60a027-ee52-419f-bb18-552da70c9b28",
   "metadata": {},
   "outputs": [],
   "source": []
  }
 ],
 "metadata": {
  "kernelspec": {
   "display_name": "Python 3 (ipykernel)",
   "language": "python",
   "name": "python3"
  },
  "language_info": {
   "codemirror_mode": {
    "name": "ipython",
    "version": 3
   },
   "file_extension": ".py",
   "mimetype": "text/x-python",
   "name": "python",
   "nbconvert_exporter": "python",
   "pygments_lexer": "ipython3",
   "version": "3.12.9"
  }
 },
 "nbformat": 4,
 "nbformat_minor": 5
}
