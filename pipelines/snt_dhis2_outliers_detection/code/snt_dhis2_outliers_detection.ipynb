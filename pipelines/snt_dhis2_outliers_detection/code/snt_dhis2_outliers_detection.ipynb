{
 "cells": [
  {
   "cell_type": "markdown",
   "id": "26675878-1d15-4b17-9f93-b92d396b82fc",
   "metadata": {},
   "source": [
    "# Outliers Detection\n",
    "\n",
    "We use the following approaches:\n",
    "* (always) mean ± \\[3] SD \n",
    "* (always) meadian ± \\[3] MAD\n",
    "* (always) IQR x \\[1.5]\n",
    "* (optinal) Magic Glasses PARTIAL: 15 MAD -> 10 MAD\n",
    "* (optinal) Magic Glasses COMPLETE: 15 MAD -> 10 MAD -> SEASONAL 5 -> SEASONAL 3\n",
    "\n",
    "--------------------\n",
    "\n",
    "**Input**: \n",
    "* **routine DHIS2** data (formatted and aligned)\n",
    "    * from Dataset \"**snt-dhis2-formatted**\", `XXX_routine_data.parquet`\n",
    "\n",
    "**Output**: \n",
    "All outputs saved to Dataset \"**snt-outliers-detection**\", with the following .parquet files:\n",
    "* **1 comprehensive table** with flags for all outliers methods selected by the user\n",
    "    *  cols: YEAR, MONTH, ADM1_ID, ADM2_ID, OU_ID, INDICATOR, VALUE, **OUTLIER_METHOD_X**, **OUTLIER_METHOD_Y**, **OUTLIER_METHOD_Z** ...\n",
    "    *  Filename: `XXX_flagged_outliers_allmethods.parquet`\n",
    "* **3-5 individual tables** (separated files), each containig the flags for _a given method only_\n",
    "    *   cols: YEAR, MONTH, ADM1_ID, ADM2_ID, OU_ID, INDICATOR, VALUE, **OUTLIER_METHOD_X**\n",
    "    *   Filename: `XXX_outlier_<method_name>.parquet`\n",
    "* 🐘 **Table** in ws **Database** with added cols needed for 📊 **Shiny App: SNT Outliers Explorer**\n",
    "    *   cols: YEAR, MONTH, ADM1_ID, ADM2_ID, OU_ID, INDICATOR, VALUE, OUTLIER_METHOD_X, OUTLIER_METHOD_Y, OUTLIER_METHOD_Z, **ADM1_NAME**, **ADM2_NAME**, **OU_NAME**, **DATE**\n",
    "    *   Table name: `flagged_outliers_allmethods_name_date`\n",
    "\n",
    "---------------------"
   ]
  },
  {
   "cell_type": "markdown",
   "id": "eeb783ac-e72b-4e27-af94-09ee9cb1d563",
   "metadata": {},
   "source": [
    "🚨 **Note**: `OU_ID` and `OU_NAME` in this case refers to **Health Facility** (HF) level! <br>\n",
    "Make sure this is correctly configured for each country else results might change ... "
   ]
  },
  {
   "cell_type": "markdown",
   "id": "af6ce9ba-0e34-4d29-97f6-7ac04eeb2f4b",
   "metadata": {},
   "source": [
    "## 0. Parameters"
   ]
  },
  {
   "cell_type": "markdown",
   "id": "02ffc431-c82a-4c78-88b4-d31668aa2e6d",
   "metadata": {},
   "source": [
    "👇 these are now ⚡**pipeline parameters**⚡!"
   ]
  },
  {
   "cell_type": "code",
   "execution_count": null,
   "id": "dacfeeef-e5e7-42c0-9aff-d63ead982231",
   "metadata": {},
   "outputs": [],
   "source": [
    "# DEVIATION_MEAN <- 3\n",
    "# DEVIATION_MEDIAN <- 3\n",
    "# DEVIATION_IQR <- 1.5\n",
    "# RUN_MAGIC_GLASSES_PARTIAL <- TRUE\n",
    "# RUN_MAGIC_GLASSES_COMPLETE <- TRUE"
   ]
  },
  {
   "cell_type": "markdown",
   "id": "5a488bd8-bdc4-4a8e-bf6e-5199e60736aa",
   "metadata": {},
   "source": [
    "#### Set Default values **if _not_ provided by pipeline**\n",
    "This makes the execution flexible and \"safe\": nb can be run manually from here or be executed via pipeline, without having to change anything in the code!"
   ]
  },
  {
   "cell_type": "code",
   "execution_count": null,
   "id": "85a8c227-e4d5-4781-88bf-0b67e5f9399c",
   "metadata": {},
   "outputs": [],
   "source": [
    "# ⚠️ TEMP! Just for code dev \n",
    "SUBSET_DATA <- FALSE # if TRUE, 🪓 subsets data to keep only 1 province so that computations don't take forever ...\n",
    "                     # `dhis2_routine_long <- dhis2_routine_long %>% filter(ADM1_ID == dhis2_routine_long$ADM1_ID[1]) `\n",
    "\n",
    "# SUBSET_DATA <- TRUE # ⚠️⚠️⚠️ TEMP for dev! Make FALSE again! ⚠️⚠️⚠️"
   ]
  },
  {
   "cell_type": "code",
   "execution_count": null,
   "id": "777de1ea-ebb3-45ff-9787-11c07b74b307",
   "metadata": {},
   "outputs": [],
   "source": [
    "# Set BACKUP VALUE: name of config file to use\n",
    "if (!exists(\"CONFIG_FILE_NAME\")) {\n",
    "  CONFIG_FILE_NAME <- \"SNT_config.json\"  # Default if not provided by pipeline\n",
    "}\n",
    "\n",
    "# Set BACKUP VALUE: deviations around mean or median \n",
    "if (!exists(\"DEVIATION_MEAN\")) {\n",
    "  DEVIATION_MEAN <- 3  \n",
    "}\n",
    "\n",
    "if (!exists(\"DEVIATION_MEDIAN\")) {\n",
    "  DEVIATION_MEDIAN <- 3  \n",
    "}\n",
    "\n",
    "if (!exists(\"DEVIATION_IQR\")) {\n",
    "  DEVIATION_IQR <- 1.5  \n",
    "}\n",
    "\n",
    "if (!exists(\"RUN_MAGIC_GLASSES_PARTIAL\")) {\n",
    "  RUN_MAGIC_GLASSES_PARTIAL <- TRUE \n",
    "}\n",
    "\n",
    "if (!exists(\"RUN_MAGIC_GLASSES_COMPLETE\")) {\n",
    "  RUN_MAGIC_GLASSES_COMPLETE <- TRUE \n",
    "}"
   ]
  },
  {
   "cell_type": "markdown",
   "id": "02e2d697-b807-42da-bdf8-04391d43282e",
   "metadata": {},
   "source": [
    "## 1. Setup"
   ]
  },
  {
   "cell_type": "markdown",
   "id": "49566506-75c7-42fd-a2fe-6250a8065267",
   "metadata": {},
   "source": [
    "### 1.1. Paths"
   ]
  },
  {
   "cell_type": "code",
   "execution_count": null,
   "id": "f9240711-421e-4284-b47b-834ea5967c0f",
   "metadata": {},
   "outputs": [],
   "source": [
    "# Set BACKUP VALUE: root path - NEVER CHANGE THIS!\n",
    "if (!exists(\"ROOT_PATH\")) {\n",
    "  ROOT_PATH <- \"~/workspace\"  \n",
    "}"
   ]
  },
  {
   "cell_type": "code",
   "execution_count": null,
   "id": "cc53619a-d426-44b6-a5a7-df93ed5fd9ca",
   "metadata": {},
   "outputs": [],
   "source": [
    "# PROJECT PATHS\n",
    "\n",
    "# Project folders\n",
    "CODE_PATH <- file.path(ROOT_PATH, 'code') # this is where we store snt_functions.r and snt_utils.r\n",
    "CONFIG_PATH <- file.path(ROOT_PATH, 'configuration') # .json config file\n",
    "DATA_PATH <- file.path(ROOT_PATH, 'data') # same as in Datasets but /data/ gets over written every time a new version of Datasets is pushed\n",
    "\n",
    "print(CODE_PATH)"
   ]
  },
  {
   "cell_type": "markdown",
   "id": "dd74225b-b8a6-4073-9c67-b17f93873a89",
   "metadata": {},
   "source": [
    "### 1.2. Utils functions"
   ]
  },
  {
   "cell_type": "code",
   "execution_count": null,
   "id": "78c985de-bacf-44a4-86e9-17e4b4b8ee86",
   "metadata": {},
   "outputs": [],
   "source": [
    "source(file.path(CODE_PATH, \"snt_utils.r\"))"
   ]
  },
  {
   "cell_type": "markdown",
   "id": "d4122035-18e7-4ddf-a136-d003fd7225ef",
   "metadata": {},
   "source": [
    "### 1.3. Packages"
   ]
  },
  {
   "cell_type": "code",
   "execution_count": null,
   "id": "ebd1403c-9984-4418-99fe-ad156a315629",
   "metadata": {},
   "outputs": [],
   "source": [
    "# List required pcks \n",
    "required_packages <- c(\"arrow\", # for .parquet\n",
    "                       \"tidyverse\",\n",
    "                       \"stringi\", \n",
    "                       # \"sf\",\n",
    "                       \"forecast\",\n",
    "                       \"jsonlite\", \n",
    "                       \"httr\", \n",
    "                       \"DBI\", # write to DB\n",
    "                       \"RPostgres\", # write to DB\n",
    "                       \"reticulate\")\n",
    "\n",
    "# Execute function\n",
    "install_and_load(required_packages)"
   ]
  },
  {
   "cell_type": "markdown",
   "id": "caa5db8b-9f50-4654-aa27-c8e23e5c4274",
   "metadata": {},
   "source": [
    "#### For 📦{sf}, tell OH where to find stuff ..."
   ]
  },
  {
   "cell_type": "code",
   "execution_count": null,
   "id": "46f2d97f-79f4-4cbe-af2e-af7c50b79a26",
   "metadata": {},
   "outputs": [],
   "source": [
    "# Hope this gets fixed at the source one day ...\n",
    "Sys.setenv(PROJ_LIB = \"/opt/conda/share/proj\")\n",
    "Sys.setenv(GDAL_DATA = \"/opt/conda/share/gdal\")"
   ]
  },
  {
   "cell_type": "markdown",
   "id": "eeae5738-f4d5-4758-8ee2-ce0ea3a8eac1",
   "metadata": {},
   "source": [
    "#### Set environment to load openhexa.sdk from the right path"
   ]
  },
  {
   "cell_type": "code",
   "execution_count": null,
   "id": "e6be11fd-5281-4630-a142-afad4447aba6",
   "metadata": {},
   "outputs": [],
   "source": [
    "# Set environment to load openhexa.sdk from the right path\n",
    "Sys.setenv(RETICULATE_PYTHON = \"/opt/conda/bin/python\")\n",
    "reticulate::py_config()$python\n",
    "openhexa <- import(\"openhexa.sdk\")"
   ]
  },
  {
   "cell_type": "markdown",
   "id": "cbc81c3f-898c-49bf-a822-d96a24fd1054",
   "metadata": {},
   "source": [
    "### 1.4. Load and check `config` file"
   ]
  },
  {
   "cell_type": "code",
   "execution_count": null,
   "id": "4768a17f-c083-45a2-936f-079a099d67aa",
   "metadata": {},
   "outputs": [],
   "source": [
    "# Load SNT config\n",
    "\n",
    "config_json <- tryCatch({\n",
    "        fromJSON(file.path(CONFIG_PATH, CONFIG_FILE_NAME)) # \"SNT_config_COD.json\"\n",
    "    },\n",
    "    error = function(e) {\n",
    "        msg <- paste0(\"Error while loading configuration\", conditionMessage(e))  \n",
    "        cat(msg)   \n",
    "        stop(msg) \n",
    "    })\n",
    "\n",
    "msg <- paste0(\"SNT configuration loaded from  : \", file.path(CONFIG_PATH, CONFIG_FILE_NAME)) \n",
    "log_msg(msg)"
   ]
  },
  {
   "cell_type": "markdown",
   "id": "9f2e046c-2074-48b9-95e4-dd8693118b39",
   "metadata": {},
   "source": [
    "#### **Checks for SNT mandatory configuration fields**"
   ]
  },
  {
   "cell_type": "code",
   "execution_count": null,
   "id": "ab185477-313d-499d-abc1-eb2235267282",
   "metadata": {},
   "outputs": [],
   "source": [
    "# CHECK SNT configuration \n",
    "snt_config_mandatory <- c(\"COUNTRY_CODE\", \"DHIS2_ADMINISTRATION_1\", \"DHIS2_ADMINISTRATION_2\") \n",
    "\n",
    "for (conf in snt_config_mandatory) {\n",
    "    # print(paste(conf, \":\", config_json$SNT_CONFIG[conf]))\n",
    "    log_msg(paste(conf, \":\", config_json$SNT_CONFIG[conf]))\n",
    "    if (is.null(config_json$SNT_CONFIG[[conf]])) {\n",
    "        msg <- paste(\"Missing configuration input:\", conf)\n",
    "        # cat(msg)   \n",
    "        log_msg(msg)\n",
    "        stop(msg)\n",
    "    }\n",
    "}"
   ]
  },
  {
   "cell_type": "markdown",
   "id": "38b1b2f4-a23b-4236-821e-562350a16963",
   "metadata": {},
   "source": [
    "#### **Save config fields as variables**"
   ]
  },
  {
   "cell_type": "code",
   "execution_count": null,
   "id": "de80fd69-bf14-4090-b08c-2b3389ea84a3",
   "metadata": {},
   "outputs": [],
   "source": [
    "# Generic\n",
    "COUNTRY_CODE <- config_json$SNT_CONFIG$COUNTRY_CODE\n",
    "ADMIN_1 <- toupper(config_json$SNT_CONFIG$DHIS2_ADMINISTRATION_1)\n",
    "ADMIN_2 <- toupper(config_json$SNT_CONFIG$DHIS2_ADMINISTRATION_2)\n",
    "\n",
    "# Which (aggregated) indicators to use to evaluate \"activity\" of an HF - for Reporting Rate method \"ANY\"\n",
    "DHIS2_INDICATORS <- names(config_json$DHIS2_DATA_DEFINITIONS$DHIS2_INDICATOR_DEFINITIONS)"
   ]
  },
  {
   "cell_type": "code",
   "execution_count": null,
   "id": "a84723e0-1554-447d-a24c-532ffd2ab687",
   "metadata": {},
   "outputs": [],
   "source": [
    "# DHIS2_INDICATORS\n",
    "log_msg(paste(\"Expecting the following DHIS2 (aggregated) indicators : \", paste(DHIS2_INDICATORS, collapse=\", \")))"
   ]
  },
  {
   "cell_type": "code",
   "execution_count": null,
   "id": "e45fbba0-f7ee-489a-93f6-705589d79eaf",
   "metadata": {},
   "outputs": [],
   "source": [
    "# Fixed routine formatting columns\n",
    "# Note: must keep&use `OU_ID` as it contains unique ids (OU_NAME has homonimous values!)\n",
    "# fixed_cols <- c('PERIOD', 'YEAR', 'MONTH', 'ADM1_ID', 'ADM1', 'ADM2_ID', 'ADM2', 'OU', 'OU_NAME') \n",
    "fixed_cols <- c('PERIOD', 'YEAR', 'MONTH', 'ADM1_ID', 'ADM2_ID', 'OU_ID') # keep ADMX_ID only! \n",
    "\n",
    "# log_msg(paste(\"Fixed routine data (\\\"dhis2_routine\\\") columns (always expected): \", paste(fixed_cols, collapse=\", \")))\n",
    "log_msg(paste(\"Expecting the following columns from routine data (`dhis2_routine`) : \", paste(fixed_cols, collapse=\", \")))"
   ]
  },
  {
   "cell_type": "markdown",
   "id": "1a8624e7-ca6a-4539-a385-604d471a497b",
   "metadata": {},
   "source": [
    "## 2. Load Data"
   ]
  },
  {
   "cell_type": "markdown",
   "id": "fd3baacd-169b-4e28-9664-eac0bdf8c873",
   "metadata": {},
   "source": [
    "### 2.1. **Routine** data (DHIS2) \n",
    "already formatted & aggregated<br>\n",
    "(output of pipeline \"XXX\" and stored in Dataset \"**SNT_DHIS2_FORMATTED**\")"
   ]
  },
  {
   "cell_type": "code",
   "execution_count": null,
   "id": "bab5973f-5044-4521-8ee0-1490a95a8077",
   "metadata": {},
   "outputs": [],
   "source": [
    "# DHIS2 Dataset extract identifier\n",
    "dataset_name <- config_json$SNT_DATASET_IDENTIFIERS$DHIS2_DATASET_FORMATTED\n",
    "\n",
    "# Load file from dataset\n",
    "dhis2_routine <- tryCatch({ get_latest_dataset_file_in_memory(dataset_name, paste0(COUNTRY_CODE, \"_routine.parquet\")) }, \n",
    "                  error = function(e) {\n",
    "                      msg <- paste(\"Error while loading DHIS2 routine data file for: \" , COUNTRY_CODE, conditionMessage(e))  # log error message\n",
    "                      # cat(msg)\n",
    "                      log_msg(msg)\n",
    "                      stop(msg)\n",
    "})\n",
    "\n",
    "# msg <- paste0(\"DHIS2 routine data loaded from dataset : \", dataset_name, \" dataframe dimensions: \", paste(dim(dhis2_routine), collapse=\", \"))\n",
    "# log_msg(msg)\n",
    "\n",
    "msg1 <- paste0(\"DHIS2 routine data loaded from dataset : \", dataset_name)\n",
    "log_msg(msg1)\n",
    "\n",
    "msg2 <- paste0(\"DHIS2 routine data loaded has dimensions: \", nrow(dhis2_routine), \" rows, \", ncol(dhis2_routine), \" columns.\")\n",
    "log_msg(msg2)\n"
   ]
  },
  {
   "cell_type": "code",
   "execution_count": null,
   "id": "c05cf154-4633-4b0f-b94d-33ae3e526883",
   "metadata": {},
   "outputs": [],
   "source": [
    "head(dhis2_routine, 3)"
   ]
  },
  {
   "cell_type": "markdown",
   "id": "4576564c-3c13-41c6-b438-074a214f326f",
   "metadata": {},
   "source": [
    "### 🔍 Check: any \"empty\" col (contains only NA's)?"
   ]
  },
  {
   "cell_type": "code",
   "execution_count": null,
   "id": "c546d374-c1c3-449d-a0d3-8b6cb43d54db",
   "metadata": {},
   "outputs": [],
   "source": [
    "# Identify which columns are entirely NA\n",
    "na_col_check <- dhis2_routine %>%\n",
    "  map_lgl(~all(is.na(.x)))\n",
    "\n",
    "# Get the names of those columns\n",
    "all_na_column_names <- names(na_col_check[na_col_check])\n",
    "\n",
    "# Print warning only if there are any such columns\n",
    "if (length(all_na_column_names) > 0) {\n",
    "  log_msg(paste0(\"🚨 The following columns contain only `NA` values : \", paste(all_na_column_names, collapse=\", \")), \"warning\")\n",
    "}"
   ]
  },
  {
   "cell_type": "markdown",
   "id": "9f780aef-49f7-44db-8271-1681e5de8ee4",
   "metadata": {},
   "source": [
    "# X. 📊 for **Shiny** app: extract `*_NAME` table\n",
    "Needed later: \n",
    "* join to `XXX_flagged_outliers_allmethods.parquet`\n",
    "* then write table to Database to expose to Shiny\n",
    "    * --> in the app, we can have human readable names for labels"
   ]
  },
  {
   "cell_type": "code",
   "execution_count": null,
   "id": "c1366f43-fe12-4350-aed5-7758c2407796",
   "metadata": {},
   "outputs": [],
   "source": [
    "pyramid <- dhis2_routine |> \n",
    "select(ends_with(\"_NAME\"), ends_with(\"_ID\")) |>\n",
    "distinct() |>\n",
    "# Simpify strings \n",
    "mutate(\n",
    "    ADM1_NAME = stringr::str_trim(str_remove_all(ADM1_NAME, \"^[A-Z]{2}| PROVINCE\")),\n",
    "    ADM2_NAME = stringr::str_trim(str_remove_all(ADM2_NAME, \"^[A-Z]{2}| ZONE DE SANTE\"))\n",
    ")\n",
    "\n",
    "\n",
    "dim(pyramid)\n",
    "head(pyramid, 3)"
   ]
  },
  {
   "cell_type": "code",
   "execution_count": null,
   "id": "857f9b37-997e-436f-b640-9fa277489a58",
   "metadata": {},
   "outputs": [],
   "source": []
  },
  {
   "cell_type": "markdown",
   "id": "3691ddc6-e268-47c2-805f-eab8f2ef119c",
   "metadata": {},
   "source": [
    "# 3. Outliers Detection"
   ]
  },
  {
   "cell_type": "markdown",
   "id": "5e79d8b8-9046-447d-9e7b-c5ee7e6fa2be",
   "metadata": {},
   "source": [
    "## 3.1. Format routine data\n",
    "These steps:\n",
    "* Replace `NA`s with `0`s - 🚨 note: in `dhis2_reporting_rate` the opposite transformation is performed (optional)\" with parameter `SET_0_TO_NA` ! \n",
    "* filter indicators (were cols, now rows) to keep only what specified in config.json file (`columns_selection = names(config.json$DHIS2_DATA_DEFINITIONS$DHIS2_INDICATOR_DEFINITIONS)`)\n",
    "* pivot longer: cols become rows"
   ]
  },
  {
   "cell_type": "code",
   "execution_count": null,
   "id": "c41302b2-1994-44eb-9e6a-c7969012301e",
   "metadata": {},
   "outputs": [],
   "source": [
    "# Replace NAs with 0s\n",
    "dhis2_routine_NAto0 = dhis2_routine %>% replace(is.na(.), 0)\n",
    "\n",
    "log_msg(\"Routine data formatting: replaced all `NA`s with 0.\")\n",
    "\n",
    "head(dhis2_routine_NAto0, 3)"
   ]
  },
  {
   "cell_type": "code",
   "execution_count": null,
   "id": "d612c779-52ad-4e9a-838a-7f17649d5120",
   "metadata": {},
   "outputs": [],
   "source": [
    "# Filter cols to keep only the indicators specified in the config file\n",
    "\n",
    "# Define col names\n",
    "indicators_to_keep = names(config_json$DHIS2_DATA_DEFINITIONS$DHIS2_INDICATOR_DEFINITIONS)\n",
    "indicators_to_keep_present_in_routine = intersect(names(dhis2_routine), indicators_to_keep)\n",
    "indicators_to_keep_missing_in_routine = setdiff(indicators_to_keep, names(dhis2_routine))\n",
    "\n",
    "# Select cols\n",
    "# dhis2_routine_2 <- dhis2_routine_1 %>% select(all_of(c(fixed_cols, indicators_to_keep)) )  # ⚠️⚠️⚠️ TEMP switch coz CONFIG file was updated but yet used to extract data!\n",
    "dhis2_routine_selectcols <- dhis2_routine_NAto0 %>% select(any_of(c(fixed_cols, indicators_to_keep)) )  \n",
    "\n",
    "log_msg(paste0(\"Routine data formatting: filtered cols to keep only indicators : \", paste(indicators_to_keep_present_in_routine, collapse=\", \")))\n",
    "\n",
    "if (length(indicators_to_keep_missing_in_routine) > 0 ) {\n",
    "    log_msg(paste0(\"The following indicators defined in the config file are missing from routine data : \", paste(indicators_to_keep_missing_in_routine, collapse=\", \") ))\n",
    "}\n",
    "\n",
    "\n",
    "head(dhis2_routine_selectcols, 3)"
   ]
  },
  {
   "cell_type": "code",
   "execution_count": null,
   "id": "e3df23d2-fdf7-4ccb-a38a-84c8aa943b69",
   "metadata": {},
   "outputs": [],
   "source": [
    "# pivot longer: cols become rows\n",
    "dhis2_routine_long <- dhis2_routine_selectcols %>% \n",
    "    pivot_longer(#cols = all_of(indicators_to_keep), \n",
    "                 cols = any_of(indicators_to_keep), # ⚠️⚠️⚠️ TEMP switch coz CONFIG file was updated but yet used to extract data!\n",
    "                 names_to = 'INDICATOR',\n",
    "                 values_to = 'VALUE') \n",
    "\n",
    "print(dim(dhis2_routine_long))\n",
    "head(dhis2_routine_long, 3)"
   ]
  },
  {
   "cell_type": "markdown",
   "id": "9a82760d-98ad-466f-94d8-159fb0eb3b0a",
   "metadata": {},
   "source": [
    "## 3.2. Detect outliers: \"classic\" methods\n",
    "Namely:\n",
    "* mean ± 3 SD\n",
    "* median ± 3 MAD\n",
    "* 1.5 x IQR"
   ]
  },
  {
   "cell_type": "markdown",
   "id": "d306cbd4-65ff-4f7f-a0ea-f6da8f7aace0",
   "metadata": {},
   "source": [
    "### 3.2.1. Calculate **summary stats**\n",
    "At `OU_ID` (Health Facility) x `INDICATOR`, calculate:\n",
    "* mean\n",
    "* median\n",
    "* SD\n",
    "* MAD\n",
    "* Q1 (25th)\n",
    "* Q3 (75th)."
   ]
  },
  {
   "cell_type": "code",
   "execution_count": null,
   "id": "8104411b-e5ce-4106-89ae-7d7716a1e0a1",
   "metadata": {},
   "outputs": [],
   "source": [
    "fixed_cols"
   ]
  },
  {
   "cell_type": "code",
   "execution_count": null,
   "id": "1ff16eb1-cbf9-421b-9766-f108346c727f",
   "metadata": {},
   "outputs": [],
   "source": [
    "# Remove \"MONTH\" and \"PERIOD\" from fixed cols as we need the grouping by YEAR\n",
    "grouping_cols <- fixed_cols[fixed_cols != \"MONTH\" & fixed_cols != \"YEAR\" & fixed_cols != \"PERIOD\"]\n",
    "print(grouping_cols)\n",
    "\n",
    "# 🪓 Switch for code dev!🪓\n",
    "if (SUBSET_DATA) {\n",
    "    adm1_to_keep <- c(unique(dhis2_routine_long$ADM1_ID)[1], unique(dhis2_routine_long$ADM1_ID)[2], unique(dhis2_routine_long$ADM1_ID)[3])\n",
    "    dhis2_routine_long <- dhis2_routine_long %>% filter(ADM1_ID %in% adm1_to_keep) \n",
    "    log_msg(paste0(\"🚨 Subsetting data for `ADM1_ID == \", adm1_to_keep, \"`! 🪓 This should only be used for CODE DEVELOPMENT!\"))\n",
    "}\n",
    "\n",
    "flagged_outliers_classic <- dhis2_routine_long %>%\n",
    "group_by(across(all_of(c(grouping_cols, \"INDICATOR\")))) %>% # \"ADM1_ID\" \"ADM2_ID\" \"OU_ID\" 'INDICATOR'\n",
    "mutate(\n",
    "    n = n(), # added for curiosity (but not used)\n",
    "    mean = ceiling(mean(VALUE, na.rm = TRUE)),\n",
    "    median = ceiling(median(VALUE, na.rm = TRUE)),\n",
    "    sd = ceiling(sd(VALUE, na.rm = TRUE)),\n",
    "    mad = ceiling(mad(VALUE, constant = 1, na.rm = TRUE)), # 🚨 scale factor: `constant = 1` (default `constant = 1.4826`) \n",
    "    q1 = ceiling(quantile(VALUE, 0.25, na.rm = TRUE)), \n",
    "    q3 = ceiling(quantile(VALUE, 0.75, na.rm = TRUE))\n",
    "  ) %>% \n",
    "  ungroup() %>%\n",
    "  mutate(sd = if_else(is.na(sd), 0, sd)) # to prevent NA's being introduced by sd() when single VALUE ... !\n",
    "\n",
    "dim(flagged_outliers_classic)\n",
    "head(flagged_outliers_classic, 3)"
   ]
  },
  {
   "cell_type": "markdown",
   "id": "f5abf79e-d004-4aa4-bc30-94a25e18d034",
   "metadata": {},
   "source": [
    "### 3.3. Flag outlier values\n",
    "Flagging from *all* the 3 methods in the same table (each method is a column).\n",
    "\n",
    "🚨 **Note**: flagging outliers using **booleans** to save memory (instead of old approach with char strings as `'aberrante'|'normale'`)"
   ]
  },
  {
   "cell_type": "markdown",
   "id": "c21e848b-faa1-4e1f-9d2a-c2bd9eec3526",
   "metadata": {},
   "source": [
    "### 3.3.1 Use the **3 \"classic\" methods**"
   ]
  },
  {
   "cell_type": "code",
   "execution_count": null,
   "id": "4dedcda5-21c3-4fed-956c-4708862f1fc4",
   "metadata": {},
   "outputs": [],
   "source": [
    "# # Parametrize - moved to start of nb\n",
    "# DEVIATION_MEAN <- 3\n",
    "# DEVIATION_MEDIAN <- 3\n",
    "# DEVIATION_IQR <- 1.5"
   ]
  },
  {
   "cell_type": "code",
   "execution_count": null,
   "id": "e839258a-f342-4270-93c7-fe5ff6db25ac",
   "metadata": {},
   "outputs": [],
   "source": [
    "flagged_outliers_classic <- flagged_outliers_classic %>% \n",
    "mutate(\n",
    "    mean_lower_bound = mean - DEVIATION_MEAN * sd, \n",
    "    mean_upper_bound = mean + DEVIATION_MEAN * sd,\n",
    "    !!sym(glue::glue(\"OUTLIER_MEAN{DEVIATION_MEAN}SD\")) := if_else(\n",
    "      VALUE < mean_lower_bound | VALUE > mean_upper_bound,\n",
    "      TRUE, # = outlier\n",
    "      FALSE\n",
    "    )  ) %>% \n",
    "  mutate(\n",
    "    median_lower_bound = median - DEVIATION_MEDIAN * mad,\n",
    "    median_upper_bound = median + DEVIATION_MEDIAN * mad,\n",
    "    !!sym(glue::glue(\"OUTLIER_MEDIAN{DEVIATION_MEDIAN}MAD\")) := if_else(\n",
    "      VALUE < median_lower_bound | VALUE > median_upper_bound,\n",
    "      TRUE,\n",
    "      FALSE\n",
    "    )  ) %>% \n",
    "  mutate(\n",
    "    iqr = (q3 - q1) * DEVIATION_IQR,\n",
    "    iqr_lower_bound = q1 - iqr,\n",
    "    iqr_upper_bound = q3 + iqr,\n",
    "    !!sym(glue::glue(\"OUTLIER_IQR{DEVIATION_IQR}\")) := if_else(\n",
    "      VALUE < iqr_lower_bound | VALUE > iqr_upper_bound,\n",
    "      TRUE,\n",
    "      FALSE\n",
    "    )  ) \n",
    "\n",
    "outlier_cols = flagged_outliers_classic |> select(starts_with(\"OUTLIER_\")) |> names()\n",
    "log_msg(paste0(\"Calculated columns : \", paste(outlier_cols, collapse=\", \") ))\n",
    "\n",
    "print(names(flagged_outliers_classic))\n",
    "head(flagged_outliers_classic, 3)"
   ]
  },
  {
   "cell_type": "markdown",
   "id": "0aa8c83e-8022-4439-996b-6ebbd81fcc54",
   "metadata": {},
   "source": [
    "**Unflag 0 as outliers**: when `VALUE == 0 & OUTLIER_* == TRUE` make `FALSE` (make _not_ outlier) "
   ]
  },
  {
   "cell_type": "code",
   "execution_count": null,
   "id": "a1b8039e-da36-450d-ae7c-900362eeee17",
   "metadata": {},
   "outputs": [],
   "source": [
    "flagged_outliers_classic <- flagged_outliers_classic %>%\n",
    "  mutate(across(starts_with(\"OUTLIER_\"), \n",
    "                ~ if_else(VALUE == 0 & .x, FALSE, .x))) #|> filter(VALUE == 0) |> head() # generates an empty tibble "
   ]
  },
  {
   "cell_type": "markdown",
   "id": "be899485-e056-4e65-934f-5478c252e0f0",
   "metadata": {},
   "source": [
    "-------------------"
   ]
  },
  {
   "cell_type": "markdown",
   "id": "dde716b5-a206-44fe-86b9-0e33b9220bc9",
   "metadata": {},
   "source": [
    "## 3.3. Detect outliers: **Magic Glasses** methods \n",
    "Where:\n",
    "* MAGIC_GLASSES_**PARTIAL** = only MAD15 -> MAD10\n",
    "* MAGIC_GLASSES_**COMPLETE** = the complete method: MAD15 -> MAD10 -> Seasonality5 -> Seasonality3"
   ]
  },
  {
   "cell_type": "markdown",
   "id": "cb9b76e4-21fe-4e5d-a847-e929ea62fb99",
   "metadata": {},
   "source": [
    "### 3.3.1. Use the **Magic Glasses Partial** method\n",
    "*NOTE: use `dhis2_routine_long` = **routine formatted long** (meaning: NA -> 0, keep only relevent indicators, pivot longer)*\n",
    "\n",
    "In this approach, values are evaluated (to detect outliers) in two consecutive steps: \n",
    "1. Detect and **remove** outliers based on MAD 15\n",
    "2. Detect and **flag** outliers based on MAD 10\n",
    "\n",
    "Specifically, breakdown of steps for code:\n",
    "* **Write function** called `detect_outliers_mad_custom()` that:\n",
    "    * 1. calculates MAD based on custom `deviation` (e.g. 15) (on data grouped by OU, INDICATOR, **YEAR**);\n",
    "      2. creates a new col with custom name (`outlier_column = \"mad_flag\"`) that flags the detected outliers\n",
    "* **Apply function** to `dhis2_routine_long` to flag outliers based on **MAD 15** (`flagged_outliers_mad15`)\n",
    "* **Remove outliers** as per MAD 15 (`flagged_outliers_mad15_filtered`)\n",
    "* **Apply function** to flag outliers based on **MAD 10**\n",
    "* This produces the df `flagged_outliers_mad10`\n",
    "* finally, the tables with the outliers detected sequntially, are merged (joined) into a single df: `flagged_outliers_mad15_mad10`\n",
    "    * note: this introduces `NA`s because the 2 df have different size (since mad10 is calculed on routine data minus the outliers identified by mad15). To fix, this, `NA`s are converted to `TRUE`"
   ]
  },
  {
   "cell_type": "markdown",
   "id": "a5f1613c-2e49-4ae8-81d5-abb4a7e9b41b",
   "metadata": {},
   "source": [
    "#### Write function `detect_outliers_mad_custom()`"
   ]
  },
  {
   "cell_type": "code",
   "execution_count": null,
   "id": "cd2629e7-aa84-460d-887e-72c2602e3408",
   "metadata": {},
   "outputs": [],
   "source": [
    "# Function to detect outliers based on MAD method with custom nr of MAD's (deviation)\n",
    "detect_outliers_mad_custom <- function(data, deviation) { \n",
    "    flag_outlier_colname = paste0(\"OUTLIER_MAD\", deviation)\n",
    "    \n",
    "    data %>% \n",
    "    group_by(YEAR, OU_ID, INDICATOR) %>% \n",
    "    mutate(\n",
    "      median_val = median(VALUE, na.rm = TRUE),\n",
    "      mad_val = mad(VALUE, constant = 1, na.rm = TRUE), # 🚨 `constant = 1`\n",
    "      \"{flag_outlier_colname}\" := VALUE > (median_val + deviation * mad_val) | VALUE < (median_val - deviation * mad_val) # bool \n",
    "    ) %>%\n",
    "    ungroup()\n",
    "}"
   ]
  },
  {
   "cell_type": "markdown",
   "id": "b3a26b2e-4659-48bd-980c-211d6a68617a",
   "metadata": {},
   "source": [
    "#### **Apply function** with MAD **15**"
   ]
  },
  {
   "cell_type": "code",
   "execution_count": null,
   "id": "c0853193-600e-4137-a1f5-2fe00d9c6c8d",
   "metadata": {},
   "outputs": [],
   "source": [
    "if (RUN_MAGIC_GLASSES_PARTIAL | RUN_MAGIC_GLASSES_COMPLETE) {\n",
    "    flagged_outliers_mad15 <- detect_outliers_mad_custom(\n",
    "                                         data = dhis2_routine_long,  \n",
    "                                         deviation = 15\n",
    "                                         )\n",
    "\n",
    "    outlier_cols = flagged_outliers_mad15 |> select(starts_with(\"OUTLIER_\")) |> names()\n",
    "    log_msg(paste0(\"Calculated column : \", paste(outlier_cols, collapse=\", \") ))\n",
    "\n",
    "print(dim(flagged_outliers_mad15))\n",
    "head(flagged_outliers_mad15, 3)\n",
    "    }"
   ]
  },
  {
   "cell_type": "markdown",
   "id": "9267758e-7e32-454f-95a0-23440c9a6a67",
   "metadata": {},
   "source": [
    "#### **Filter** out outliers as per MAD **15**\n",
    "Keep only values that are _not_ flagged as outliers by MAD15. "
   ]
  },
  {
   "cell_type": "code",
   "execution_count": null,
   "id": "09958d8c-7019-470e-86f7-a03966cadf6a",
   "metadata": {},
   "outputs": [],
   "source": [
    "if (RUN_MAGIC_GLASSES_PARTIAL | RUN_MAGIC_GLASSES_COMPLETE) {\n",
    "    \n",
    "  flagged_outliers_mad15_filtered <- flagged_outliers_mad15 %>%\n",
    "    filter(OUTLIER_MAD15 == FALSE) \n",
    "  \n",
    "  print(dim(flagged_outliers_mad15_filtered))\n",
    "  \n",
    "  nr_of_rows_removed <- nrow(flagged_outliers_mad15) - nrow(flagged_outliers_mad15_filtered)\n",
    "  log_msg(paste0(\"Filtering data for MAD15 outliers removed \", nr_of_rows_removed , \" rows\"))\n",
    "\n",
    "    if (length(which(is.na(flagged_outliers_mad15_filtered$OUTLIER_MAD15))) > 0 ) {\n",
    "        log_msg(\"🚨 Unexpected `NA`s found in `flagged_outliers_mad15_filtered$OUTLIER_MAD15`.\")\n",
    "    }\n",
    "    }\n",
    "\n"
   ]
  },
  {
   "cell_type": "markdown",
   "id": "beb4408e-660a-43cb-8983-fa02eb942756",
   "metadata": {},
   "source": [
    "#### **Apply function** again, but with MAD **10**"
   ]
  },
  {
   "cell_type": "code",
   "execution_count": null,
   "id": "bbfaea2f-2e1f-4cf5-baf0-3772f8497809",
   "metadata": {},
   "outputs": [],
   "source": [
    "if (RUN_MAGIC_GLASSES_PARTIAL | RUN_MAGIC_GLASSES_COMPLETE) {\n",
    "\n",
    "    flagged_outliers_mad10 <- detect_outliers_mad_custom(\n",
    "                                                         data = flagged_outliers_mad15_filtered,\n",
    "                                                         deviation = 10 # produces column = \" OUTLIER_MAD10\" \n",
    "        ) %>%\n",
    "    rename(OUTLIER_MAD15_MAD10 = OUTLIER_MAD10) # not elegant but more explicitly SEQUENTIAL (highlight that MAD10 is on top/after of MAD15)\n",
    "\n",
    "    log_msg(paste0(\"Calculated column : OUTLIER_MAD15_MAD10\"))\n",
    "    \n",
    "    print(dim(flagged_outliers_mad10))\n",
    "    head(flagged_outliers_mad10, 3)\n",
    "\n",
    "}"
   ]
  },
  {
   "cell_type": "markdown",
   "id": "501c690c-72d0-4fed-bd6e-a2f9c40b55dd",
   "metadata": {},
   "source": [
    "#### **Join** together `flagged_outliers_mad15` (MAD 15) and `flagged_outliers_mad10` (MAD 15 -> MAD 10)"
   ]
  },
  {
   "cell_type": "code",
   "execution_count": null,
   "id": "c28f5a77-6a97-4072-9a2f-e346e2d35073",
   "metadata": {},
   "outputs": [],
   "source": [
    "# Join together `flagged_outliers_mad15` (MAD 15) and `flagged_outliers_mad10` (MAD 15 -> MAD 10)\n",
    "\n",
    "if (RUN_MAGIC_GLASSES_PARTIAL | RUN_MAGIC_GLASSES_COMPLETE) {\n",
    "\n",
    "    flagged_outliers_mad15_mad10 <- flagged_outliers_mad15 %>%\n",
    "      left_join(\n",
    "        flagged_outliers_mad10 %>% select(PERIOD, OU_ID, INDICATOR, OUTLIER_MAD15_MAD10),\n",
    "        by = c(\"PERIOD\", \"OU_ID\", \"INDICATOR\")\n",
    "      ) |>\n",
    "    # MAD15 has more rows than MAD10 => NA's introduced!\n",
    "    mutate(OUTLIER_MAD15_MAD10 = if_else(is.na(OUTLIER_MAD15_MAD10), TRUE, OUTLIER_MAD15_MAD10)) # 🚨 IMPORTANT! 🚨 keep!\n",
    "\n",
    "    log_msg(\"Created table with OUTLIER_MAD15 and OUTLIER_MAD15_MAD10\")\n",
    "    \n",
    "    print(dim(flagged_outliers_mad15_mad10))\n",
    "    head(flagged_outliers_mad15_mad10, 3)\n",
    "\n",
    "    }"
   ]
  },
  {
   "cell_type": "code",
   "execution_count": null,
   "id": "8e58abe8-feaf-4dff-9631-82646b883f69",
   "metadata": {},
   "outputs": [],
   "source": []
  },
  {
   "cell_type": "markdown",
   "id": "7a5e190f-1a3d-4346-800e-d0c309acec2d",
   "metadata": {},
   "source": [
    "----------------------------"
   ]
  },
  {
   "cell_type": "markdown",
   "id": "97359713-a555-4c56-907b-fd4eeced260a",
   "metadata": {},
   "source": [
    "### 3.3.2. Use the **Magic Glasses Complete** method\n",
    "Apply detection of **seasonal** outliers.\n",
    "\n",
    "Steps:\n",
    "* Write **function** `detect_seasonal_outliers()` which takes user defined `deviation` values and produces a `OUTLIER_SESONAL<deviation>` col where outliers values are flagged\n",
    "* Apply detect_seasonal_outliers() with deviation = **5**\n",
    "* Filter out outliers seasonal 5\n",
    "* Apply detect_seasonal_outliers() with deviation = **3**\n",
    "* Join seasonal 5 and seasonl 3 into single table"
   ]
  },
  {
   "cell_type": "markdown",
   "id": "05f2685f-769d-40a0-88b0-68a41e128400",
   "metadata": {},
   "source": [
    "#### Write function `detect_seasonal_outliers()`"
   ]
  },
  {
   "cell_type": "code",
   "execution_count": null,
   "id": "32ad4568-0891-4fb4-b2a0-04e554a4f0ca",
   "metadata": {},
   "outputs": [],
   "source": [
    "detect_seasonal_outliers <- function(data, deviation) { \n",
    "  \n",
    "  outlier_column_name = paste0(\"OUTLIER_SEASONAL\", deviation) # Renamed 'flag_outlier_colname'\n",
    "  \n",
    "  # Ensure data is sorted for time series operations\n",
    "  prepared_data <- data %>% arrange(OU_ID, INDICATOR, PERIOD) # Renamed 'data' to 'prepared_data'\n",
    "  \n",
    "  # Process each group to detect seasonal outliers\n",
    "  outlier_detection_results <- prepared_data %>% # Renamed 'outlier_list'\n",
    "    group_by(OU_ID, INDICATOR) %>%\n",
    "    group_map(~ {\n",
    "      current_group_df <- .x # Renamed 'df'\n",
    "      group_identifiers <- .y # Renamed 'key'\n",
    "      \n",
    "      # Skip if fewer than 2 non-NA values for time series analysis\n",
    "      if (sum(!is.na(current_group_df$VALUE)) < 2) {\n",
    "        current_group_df[[outlier_column_name]] <- NA  # 👈 \"skipping\" introduces NA's --> these are removed in the last step before `return()`\n",
    "        current_group_df$OU_ID <- group_identifiers$OU_ID\n",
    "        current_group_df$INDICATOR <- group_identifiers$INDICATOR\n",
    "        return(current_group_df)\n",
    "      }\n",
    "      \n",
    "      # Create time series object\n",
    "      time_series_data <- stats::ts(current_group_df$VALUE, frequency = 12)\n",
    "      # Clean time series data (remove outliers and fill missing values)\n",
    "      cleaned_time_series <- forecast::tsclean(time_series_data, replace.missing = TRUE)\n",
    "      # Calculate Median Absolute Deviation (MAD) for outlier threshold\n",
    "      mad_threshold <- mad(current_group_df$VALUE, constant = 1, na.rm = TRUE)\n",
    "      \n",
    "      # Flag seasonal outliers\n",
    "      is_seasonal_outlier <- abs(time_series_data - cleaned_time_series) / mad_threshold >= deviation # Renamed 'seasonal_flag'\n",
    "      current_group_df[[outlier_column_name]] <- is_seasonal_outlier\n",
    "      current_group_df$OU_ID <- group_identifiers$OU_ID\n",
    "      current_group_df$INDICATOR <- group_identifiers$INDICATOR\n",
    "      return(current_group_df)\n",
    "    }) %>%\n",
    "    bind_rows()\n",
    "  \n",
    "  # In OUTLIER flagging col, replace any `NA` (= skipped evaluation) with `FALSE` (treat as non-outlier)\n",
    "  outlier_detection_results[[outlier_column_name]][is.na(outlier_detection_results[[outlier_column_name]])] <- FALSE # 👈 replace NA's: fixing here \n",
    "  \n",
    "  return(outlier_detection_results)\n",
    "}\n",
    "\n"
   ]
  },
  {
   "cell_type": "code",
   "execution_count": null,
   "id": "9f3167d7-8f4f-4ef1-ad66-e1651a9488af",
   "metadata": {},
   "outputs": [],
   "source": []
  },
  {
   "cell_type": "markdown",
   "id": "8df4ed63-acd2-47b7-9ac1-3b046efab77d",
   "metadata": {},
   "source": [
    "#### **Filter** out MAD outliers before seasonal detection"
   ]
  },
  {
   "cell_type": "code",
   "execution_count": null,
   "id": "dd8619d3-3050-4b34-a970-14194f331f5d",
   "metadata": {},
   "outputs": [],
   "source": [
    "# Filter out MAD outliers before seasonal detection\n",
    "\n",
    "if (RUN_MAGIC_GLASSES_COMPLETE) {\n",
    "\n",
    "# flagged_outliers_mad15_mad10_filtered <- flagged_outliers_mad15_mad10 %>%\n",
    "#   filter((is.na(OUTLIER_MAD15) | OUTLIER_MAD15 == FALSE),  # not really needed anymore: `is.na(OUTLIER_MAD15)` ... but keeping just in case\n",
    "#          (is.na(OUTLIER_MAD15_MAD10) | OUTLIER_MAD15_MAD10 == FALSE),\n",
    "#          !is.na(VALUE))\n",
    "\n",
    "flagged_outliers_mad15_mad10_filtered <- flagged_outliers_mad15_mad10 %>%\n",
    "  filter(#(OUTLIER_MAD15 == FALSE),  # not needed: outliers identified by MAD15 are necessary outliers for MAD10 !\n",
    "         (OUTLIER_MAD15_MAD10 == FALSE) \n",
    "        )\n",
    "    \n",
    "    nr_of_rows_removed <- nrow(flagged_outliers_mad15_mad10) - nrow(flagged_outliers_mad15_mad10_filtered)\n",
    "    log_msg(paste0(\"Filtering data for MAD15_MAD10 outliers removed \", nr_of_rows_removed , \" rows\"))\n",
    "\n",
    "     if (length(which(is.na(flagged_outliers_mad15_mad10_filtered$OUTLIER_MAD15_MAD10))) > 0 ) {\n",
    "        log_msg(\"🚨 Unexpected `NA`s found in `flagged_outliers_mad15_mad10_filtered$OUTLIER_MAD15_MAD10`.\")\n",
    "    }\n",
    "    }"
   ]
  },
  {
   "cell_type": "markdown",
   "id": "4ed4d5b4-edb1-4edf-a9c5-88e649affffb",
   "metadata": {},
   "source": [
    "#### **Apply function** `detect_seasonal_outliers()` with deviation = **5**"
   ]
  },
  {
   "cell_type": "code",
   "execution_count": null,
   "id": "39a5159a-d918-4598-9ee4-70b00957b52f",
   "metadata": {},
   "outputs": [],
   "source": [
    "if (RUN_MAGIC_GLASSES_COMPLETE) {\n",
    "\n",
    "    flagged_outliers_seasonal5 <- detect_seasonal_outliers(\n",
    "                                               data = flagged_outliers_mad15_mad10_filtered, # all MAD (15 and 10) already REMOVED\n",
    "                                               deviation = 5) # -> resulting colname: OUTLIER_SEASONAL5\n",
    "\n",
    "    outlier_cols = flagged_outliers_seasonal5 |> select(starts_with(\"OUTLIER_SEAS\")) |> names()\n",
    "    log_msg(paste0(\"Calculated column : \", paste(outlier_cols, collapse=\", \") ))\n",
    "    \n",
    "    print(dim(flagged_outliers_seasonal5))\n",
    "    head(flagged_outliers_seasonal5, 3)\n",
    "\n",
    "    }"
   ]
  },
  {
   "cell_type": "code",
   "execution_count": null,
   "id": "697c4fef-592a-4434-a88b-cd1afbcde74b",
   "metadata": {},
   "outputs": [],
   "source": []
  },
  {
   "cell_type": "markdown",
   "id": "336eb5a5-d422-4fac-8cca-2a21aa17c94c",
   "metadata": {},
   "source": [
    "#### **Filter** out outliers seasonal 5"
   ]
  },
  {
   "cell_type": "code",
   "execution_count": null,
   "id": "fcf3ca4e-0a69-4ce0-96f4-9511fe914778",
   "metadata": {},
   "outputs": [],
   "source": [
    "# remaining values for seasonal3\n",
    "\n",
    "if (RUN_MAGIC_GLASSES_COMPLETE) {\n",
    "\n",
    "    # flagged_outliers_seasonal5_filtered <- flagged_outliers_seasonal5 %>%\n",
    "    #   filter(\n",
    "    #     OUTLIER_SEASONAL5 == FALSE,\n",
    "    #     (is.na(OUTLIER_MAD15) | OUTLIER_MAD15 == FALSE),\n",
    "    #     (is.na(OUTLIER_MAD15_MAD10) | OUTLIER_MAD15_MAD10 == FALSE),\n",
    "    #     !is.na(VALUE) # NB: so far VALUE is never NA\n",
    "    #   )\n",
    "\n",
    "    flagged_outliers_seasonal5_filtered <- flagged_outliers_seasonal5 %>%\n",
    "      filter(\n",
    "        OUTLIER_SEASONAL5 == FALSE\n",
    "        # (OUTLIER_MAD15 == FALSE), # these were already removed in `flagged_outliers_mad15_mad10_filtered` !!\n",
    "        # (OUTLIER_MAD15_MAD10 == FALSE)\n",
    "        # !is.na(VALUE) # NB: so far VALUE is never NA\n",
    "      )\n",
    "\n",
    "    nr_of_rows_removed <- nrow(flagged_outliers_seasonal5) - nrow(flagged_outliers_seasonal5_filtered)\n",
    "    log_msg(paste0(\"Filtering data for SEASONAL5 outliers removed \", nr_of_rows_removed , \" rows\"))\n",
    "\n",
    "     if (length(which(is.na(flagged_outliers_seasonal5_filtered$OUTLIER_SEASONAL5))) > 0 ) {\n",
    "        log_msg(\"🚨 Unexpected `NA`s found in `flagged_outliers_seasonal5_filtered$OUTLIER_SEASONAL5`.\")\n",
    "    }\n",
    "\n",
    "    }"
   ]
  },
  {
   "cell_type": "markdown",
   "id": "33986130-5d2f-4820-a5d7-ebeb5c025c15",
   "metadata": {},
   "source": [
    "#### **Apply function** `detect_seasonal_outliers()` with deviation = **3**"
   ]
  },
  {
   "cell_type": "code",
   "execution_count": null,
   "id": "293d3e6e-0f3b-44f9-ac2c-099d4bdddcec",
   "metadata": {},
   "outputs": [],
   "source": [
    "# Run seasonal3 detection\n",
    "\n",
    "if (RUN_MAGIC_GLASSES_COMPLETE) {\n",
    "\n",
    "    flagged_outliers_seasonal3 <- detect_seasonal_outliers(data = flagged_outliers_seasonal5_filtered, \n",
    "                                                           deviation = 3) %>%\n",
    "    rename(OUTLIER_SEASONAL5_SEASONAL3 = OUTLIER_SEASONAL3) # not elegant but more explicit ...\n",
    "\n",
    "    log_msg(paste0(\"Calculated column : OUTLIER_SEASONAL5_SEASONAL3\") )\n",
    "\n",
    "    }"
   ]
  },
  {
   "cell_type": "markdown",
   "id": "4912a6e3-3523-408d-b573-e53dd85b707c",
   "metadata": {},
   "source": [
    "#### **Join** together `flagged_outliers_seasonal5` (seas5) and `flagged_outliers_seasonal3` (seas5 -> seas3)"
   ]
  },
  {
   "cell_type": "code",
   "execution_count": null,
   "id": "5b09dd3e-6a97-4962-9231-0b6ff8b4f2c8",
   "metadata": {},
   "outputs": [],
   "source": [
    "# 🚨 Added on 2025-07-14 🚨\n",
    "\n",
    "if (RUN_MAGIC_GLASSES_PARTIAL | RUN_MAGIC_GLASSES_COMPLETE) {\n",
    "  \n",
    "  flagged_outliers_seasonal5_seasonal3 <- flagged_outliers_seasonal5 %>%\n",
    "    left_join(\n",
    "      flagged_outliers_seasonal3 %>% select(PERIOD, OU_ID, INDICATOR, OUTLIER_SEASONAL5_SEASONAL3),\n",
    "      by = c(\"PERIOD\", \"OU_ID\", \"INDICATOR\")\n",
    "    ) |>\n",
    "    mutate(OUTLIER_SEASONAL5_SEASONAL3 = if_else(is.na(OUTLIER_SEASONAL5_SEASONAL3), TRUE, OUTLIER_SEASONAL5_SEASONAL3)) # ✍🏽 GP added 20250711\n",
    "\n",
    "  outlier_cols = flagged_outliers_seasonal5_seasonal3 |> select(starts_with(\"OUTLIER_\")) |> names()\n",
    "  log_msg(paste0(\"Created table with \", paste(outlier_cols, collapse=\", \") ) ) \n",
    "  \n",
    "  print(dim(flagged_outliers_seasonal5_seasonal3))\n",
    "  head(flagged_outliers_seasonal5_seasonal3, 3)\n",
    "  \n",
    "}"
   ]
  },
  {
   "cell_type": "markdown",
   "id": "b1e507d5-9f74-4f55-a83a-9b1b9f4e2c99",
   "metadata": {},
   "source": [
    "# 4. Generate and Export Output tables\n",
    "Export tables as .csv and .parquet files to `/data/` folder, then code in pipeline.py will handle the writing to Dataset "
   ]
  },
  {
   "cell_type": "markdown",
   "id": "3c8c0726-b371-43f2-b85c-9197a67a004d",
   "metadata": {},
   "source": [
    "## 4.1. Join all \"flags\" into single df\n",
    "This table contains **all values**, **flagged** (bool) based on each (and all) outliers detection method used.\n",
    "\n",
    "**Structure**: contains always the same fixed set of cols (`fixed_cols`, INDICATOR, VALUE) + **1 col for each** implemented **outliers detection method** <br>\n",
    "(so table keeps growing as cols are added to the right end)"
   ]
  },
  {
   "cell_type": "markdown",
   "id": "82f69542-c8eb-471c-aae9-d8db334a042a",
   "metadata": {},
   "source": [
    "**Note**: NA are introduced when performing `left_join()` when left hand side has more rows than right hand side! <br>\n",
    "Here, we are joining df's of diffrente sizes: `flagged_outliers_seasonal5_seasonal3` (MG COMPLETE) has fewer rows than `flagged_outliers_mad15_mad10` (MG PARTIAL) because to calculate MG COMPLETE we first remove all the outliers flagged by MG PARTIAL!<br>\n",
    "Therefore, after joinig to make `flagged_outliers_allmethods`, it's necessary to convert all `NA`s into `TRUE` at col `OUTLIER_SEASONAL5_SEASONAL3`"
   ]
  },
  {
   "cell_type": "code",
   "execution_count": null,
   "id": "71bb536a-206e-4b89-a552-51efd5627148",
   "metadata": {},
   "outputs": [],
   "source": [
    "# RUN_MAGIC_GLASSES_PARTIAL <- TRUE\n",
    "# RUN_MAGIC_GLASSES_COMPLETE <- TRUE"
   ]
  },
  {
   "cell_type": "code",
   "execution_count": null,
   "id": "802b89a3-7ee1-4b4d-84c9-3d44aef12631",
   "metadata": {},
   "outputs": [],
   "source": [
    "# Join all flags into one full dataset\n",
    "\n",
    "if (RUN_MAGIC_GLASSES_PARTIAL == FALSE && RUN_MAGIC_GLASSES_COMPLETE == FALSE) {\n",
    "    \n",
    "    flagged_outliers_allmethods <- flagged_outliers_classic\n",
    "    \n",
    "} else if (RUN_MAGIC_GLASSES_PARTIAL == TRUE && RUN_MAGIC_GLASSES_COMPLETE == FALSE) {\n",
    "    \n",
    "    flagged_outliers_allmethods <- flagged_outliers_classic %>%\n",
    "    left_join(\n",
    "        flagged_outliers_mad15_mad10 %>% select(PERIOD, OU_ID, INDICATOR, OUTLIER_MAD15_MAD10),\n",
    "        by = c(\"PERIOD\", \"OU_ID\", \"INDICATOR\")\n",
    "        )\n",
    "\n",
    "} else if (RUN_MAGIC_GLASSES_PARTIAL == TRUE && RUN_MAGIC_GLASSES_COMPLETE == TRUE) {\n",
    "    \n",
    "    flagged_outliers_allmethods <- flagged_outliers_classic %>%\n",
    "    left_join(\n",
    "        flagged_outliers_mad15_mad10 %>% select(PERIOD, OU_ID, INDICATOR, OUTLIER_MAD15_MAD10),\n",
    "        by = c(\"PERIOD\", \"OU_ID\", \"INDICATOR\")\n",
    "        ) %>%\n",
    "    left_join(\n",
    "        flagged_outliers_seasonal5_seasonal3 %>% select(PERIOD, OU_ID, INDICATOR, OUTLIER_SEASONAL5_SEASONAL3),\n",
    "        by = c(\"PERIOD\", \"OU_ID\", \"INDICATOR\")\n",
    "    ) %>%\n",
    "    # Convert NA to TRUE: all outliers identified by MAD are also outliers for SEASONAL!\n",
    "    mutate(OUTLIER_SEASONAL5_SEASONAL3 = if_else(is.na(OUTLIER_SEASONAL5_SEASONAL3) & OUTLIER_MAD15_MAD10, TRUE, OUTLIER_SEASONAL5_SEASONAL3)) \n",
    "\n",
    "     if (length(which(is.na(flagged_outliers_allmethods$OUTLIER_SEASONAL5_SEASONAL3))) > 0 ) {\n",
    "        log_msg(\"🚨 Unexpected `NA`s found in `flagged_outliers_allmethods$OUTLIER_SEASONAL5_SEASONAL3`.\")\n",
    "    }\n",
    "\n",
    "    }\n",
    "\n",
    "print(dim(flagged_outliers_allmethods))\n",
    "head(flagged_outliers_allmethods, 3)"
   ]
  },
  {
   "cell_type": "code",
   "execution_count": null,
   "id": "c09fbe82-8d72-47b0-9147-b2283b00a1fa",
   "metadata": {},
   "outputs": [],
   "source": []
  },
  {
   "cell_type": "code",
   "execution_count": null,
   "id": "e8e75fa9-0555-47d2-a164-8a51ba7693d3",
   "metadata": {},
   "outputs": [],
   "source": []
  },
  {
   "cell_type": "code",
   "execution_count": null,
   "id": "e722ce88-2f18-4b3f-b0ae-3e97754c1b0a",
   "metadata": {},
   "outputs": [],
   "source": [
    "# --- Drop unnecessary cols (meadian, mean, bounds ... ) ---------------\n",
    "flagged_outliers_allmethods <- flagged_outliers_allmethods %>% \n",
    "# select(all_of(c(fixed_cols, \"INDICATOR\", \"VALUE\")), starts_with(\"OUTLIER_\")) %>% # ⚠️⚠️⚠️ TEMP SWITCH due to changing CONFIG  \n",
    "select(any_of(c(fixed_cols, \"INDICATOR\", \"VALUE\")), starts_with(\"OUTLIER_\")) %>%\n",
    "# Drop \"intermediate\" outliers flags (are not among the methods themselves, just needed for Magic Glasses)\n",
    "select(-any_of(c(\"OUTLIER_MAD15\", \"OUTLIER_SEASONAL5\"))) # `any_of()`: flexible in case these cols are not there (if MG not run)\n",
    "\n",
    "# Define the desired renames as a named character vector: new_name = \"old_name\"\n",
    "# (Note: This is the format for `rename()` when using `!!!`)\n",
    "desired_renames <- c(\n",
    "  OUTLIER_MAGIC_GLASSES_PARTIAL = \"OUTLIER_MAD15_MAD10\",\n",
    "  OUTLIER_MAGIC_GLASSES_COMPLETE = \"OUTLIER_SEASONAL5_SEASONAL3\"\n",
    ")\n",
    "\n",
    "\n",
    "# --- Rename cols ---------------\n",
    "\n",
    "# Get the names of columns currently in the dataframe\n",
    "current_cols <- names(flagged_outliers_allmethods)\n",
    "\n",
    "# Filter `desired_renames` to only include pairs where the 'old_name' (the value) exists\n",
    "#  in the dataframe's current columns ...\n",
    "existing_renames <- desired_renames[desired_renames %in% current_cols]\n",
    "\n",
    "# ... then apply the rename operation only for the columns that actually exist.\n",
    "if (length(existing_renames) > 0) { \n",
    "  flagged_outliers_allmethods <- flagged_outliers_allmethods %>%\n",
    "    rename(!!!existing_renames)\n",
    "}\n",
    "\n",
    "# # OLD for REFERENCE\n",
    "# rename(\n",
    "#     OUTLIER_MAGIC_GLASSES_PARTIAL = OUTLIER_MAD15_MAD10,\n",
    "#     OUTLIER_MAGIC_GLASSES_COMPLETE = OUTLIER_SEASONAL5_SEASONAL3\n",
    "# )"
   ]
  },
  {
   "cell_type": "code",
   "execution_count": null,
   "id": "4b44f4da-2757-40fd-ab54-45b0f1165d24",
   "metadata": {},
   "outputs": [],
   "source": [
    "outlier_cols = flagged_outliers_allmethods |> select(starts_with(\"OUTLIER_\")) |> names()\n",
    "log_msg(glue::glue(\"Created table `{COUNTRY_CODE}_flagged_outliers_allmethods`, containing the columns : \", paste(outlier_cols, collapse=\", \") ))"
   ]
  },
  {
   "cell_type": "code",
   "execution_count": null,
   "id": "a74bb528-ec63-4a1d-a678-9359da21a59e",
   "metadata": {},
   "outputs": [],
   "source": [
    "print(dim(flagged_outliers_allmethods))\n",
    "head(flagged_outliers_allmethods, 3)"
   ]
  },
  {
   "cell_type": "markdown",
   "id": "16b5d74c-8277-49fd-a156-137618b48c15",
   "metadata": {},
   "source": [
    "### Export as `.csv`(SILENCED due to size) and `.parquet`"
   ]
  },
  {
   "cell_type": "code",
   "execution_count": null,
   "id": "a3a582f0-255a-42f7-bc7a-7d5be0cb94cb",
   "metadata": {},
   "outputs": [],
   "source": [
    "# Define the base directory for saving files\n",
    "output_dir <- file.path(DATA_PATH, \"dhis2\", \"outliers_detection\")\n",
    "\n",
    "# export_data(data_object=flagged_outliers_allmethods, \n",
    "#             file_path=file.path(output_dir, paste0(COUNTRY_CODE, \"_flagged_outliers_allmethods.csv\")))\n",
    "\n",
    "export_data(data_object=flagged_outliers_allmethods, \n",
    "            file_path=file.path(output_dir, paste0(COUNTRY_CODE, \"_flagged_outliers_allmethods.parquet\")))\n"
   ]
  },
  {
   "cell_type": "markdown",
   "id": "893d4a08-832d-4060-96f0-9b9d897d8195",
   "metadata": {},
   "source": [
    "## 4.2. Extract **outliers-only** tables for each individual detection method\n",
    "As many tables as outliers detection methods implemented."
   ]
  },
  {
   "cell_type": "code",
   "execution_count": null,
   "id": "a1668745-7d4d-4f59-b4e2-2491a600c7a8",
   "metadata": {},
   "outputs": [],
   "source": [
    "# Define a list of column names with outlier flags \n",
    "outlier_cols_to_process <- flagged_outliers_allmethods %>% select(starts_with(\"OUTLIER_\")) %>% names()\n",
    "print(outlier_cols_to_process)"
   ]
  },
  {
   "cell_type": "markdown",
   "id": "293d0625-f55b-45b3-854e-f3e95056caed",
   "metadata": {},
   "source": [
    "#### 4.2.1. Create the outlier tables (one tibble for each outlier column)"
   ]
  },
  {
   "cell_type": "code",
   "execution_count": null,
   "id": "fd125086-da3d-4a30-9395-905a99118abe",
   "metadata": {},
   "outputs": [],
   "source": [
    "# Write Function to extract outliers for a given column\n",
    "\n",
    "extract_outlier_tibble <- function(outlier_col_name) {\n",
    "  # Dynamically create the list of cols to select\n",
    "  cols_to_select <- c(fixed_cols, \"INDICATOR\", \"VALUE\", outlier_col_name)\n",
    "\n",
    "  # Filter the data for the current outlier column and return the tibble\n",
    "  outliers_data <- flagged_outliers_allmethods %>%\n",
    "    select(all_of(cols_to_select)) %>%\n",
    "    filter(!!sym(outlier_col_name) == TRUE)\n",
    "\n",
    "  log_msg(paste0(\"Extracted \", nrow(outliers_data), \" outliers for: \", outlier_col_name))\n",
    "  return(outliers_data)\n",
    "}"
   ]
  },
  {
   "cell_type": "code",
   "execution_count": null,
   "id": "48b04173-bc07-4432-aeb5-b6051fbe79fb",
   "metadata": {},
   "outputs": [],
   "source": [
    "# Apply function -> creates list of tibbles \n",
    "all_outlier_tibbles <- map(outlier_cols_to_process, extract_outlier_tibble) %>%\n",
    "  set_names(outlier_cols_to_process)"
   ]
  },
  {
   "cell_type": "code",
   "execution_count": null,
   "id": "332731c8-ff28-4f4f-a85f-095b66d28a4d",
   "metadata": {},
   "outputs": [],
   "source": [
    "# Examplee of how to acces each tibble from `all_outlier_tibbles` - inspect list of outliers based on each detection method individually\n",
    "head(all_outlier_tibbles$OUTLIER_MEAN, 3)"
   ]
  },
  {
   "cell_type": "markdown",
   "id": "2988ace8-fcaf-4c91-ae50-dc2b17a382e5",
   "metadata": {},
   "source": [
    "#### 4.2.2. Export each outlier table as individual file"
   ]
  },
  {
   "cell_type": "code",
   "execution_count": null,
   "id": "49a931fb-b8ec-4db1-8312-1d800d01d82c",
   "metadata": {},
   "outputs": [],
   "source": [
    "# Function to export each tibble as a separate file\n",
    "export_outlier_tibble <- function(outlier_tibble, outlier_col_name) {\n",
    "  \n",
    "  # # To export as CSV - 🤫 SILENCED as files are VERY HEAVY ... \n",
    "  # file_name_csv <- paste0(COUNTRY_CODE, \"_\", tolower(outlier_col_name), \".csv\")\n",
    "  # file_path_csv <- file.path(output_dir, file_name_csv)\n",
    "  # write_csv(outlier_tibble, file_path_csv)\n",
    "    \n",
    "  # Replace dots with hyphens in the outlier_col_name for the file name \n",
    "  cleaned_outlier_col_name <- gsub(\"\\\\.\", \"-\", outlier_col_name)\n",
    "\n",
    "   # To export as PARQUET\n",
    "  file_name_parquet <- paste0(COUNTRY_CODE, \"_\", tolower(cleaned_outlier_col_name), \".parquet\")\n",
    "  file_path_parquet <- file.path(output_dir, file_name_parquet)\n",
    "  arrow::write_parquet(outlier_tibble, file_path_parquet)\n",
    "\n",
    "  # message(paste0(\"Exported \", nrow(outlier_tibble), \" outliers to: \", file_path_csv, \" and \", file_path_parquet)) # 🤫 SILENCED as files are VERY HEAVY ...\n",
    "  log_msg(paste0(\"Method `\", cleaned_outlier_col_name, \"` identified \", nrow(outlier_tibble), \" outliers, and exported to: \", file_path_parquet))\n",
    "}"
   ]
  },
  {
   "cell_type": "code",
   "execution_count": null,
   "id": "babef18f-c9b0-4ac0-a77f-36b535050339",
   "metadata": {},
   "outputs": [],
   "source": [
    "# Iterate through the list of tibbles and their corresponding names to export them\n",
    "# Iterate over two lists/vectors in parallel\n",
    "purrr::walk2(all_outlier_tibbles, names(all_outlier_tibbles), export_outlier_tibble)"
   ]
  },
  {
   "cell_type": "markdown",
   "id": "cfee3153-7b41-4676-9c4b-6a279491063b",
   "metadata": {},
   "source": [
    "# 5. 🐘 Write to **Database** to expose to Shiny app"
   ]
  },
  {
   "cell_type": "markdown",
   "id": "fe2eaf49-3965-4b81-b7cc-f6a13b32eb42",
   "metadata": {},
   "source": [
    "#### 5.1.1. Add *_NAME cols: `flagged_outliers_allmethods_name`\n",
    "Get these cols from routine data (see: \"**X. 📊 Shiny app: extract `*_NAME` table**\")"
   ]
  },
  {
   "cell_type": "code",
   "execution_count": null,
   "id": "695033ce-4ebe-45f3-b9bf-4feb935a956c",
   "metadata": {},
   "outputs": [],
   "source": [
    "flagged_outliers_allmethods_name <- flagged_outliers_allmethods |> \n",
    "left_join(pyramid, by = join_by(ADM1_ID, ADM2_ID, OU_ID)) \n",
    "\n",
    "dim(flagged_outliers_allmethods_name)\n",
    "head(flagged_outliers_allmethods_name)"
   ]
  },
  {
   "cell_type": "markdown",
   "id": "5316d3f8-6917-48f9-bcf9-03b43f5ef316",
   "metadata": {},
   "source": [
    "#### 5.1.2. Add `DATE` col: `flagged_outliers_allmethods_name_date`"
   ]
  },
  {
   "cell_type": "code",
   "execution_count": null,
   "id": "4b4048b1-bc85-4d8e-913a-5d0a707dea1e",
   "metadata": {},
   "outputs": [],
   "source": [
    "flagged_outliers_allmethods_name_date <- flagged_outliers_allmethods_name |> \n",
    "mutate(DATE = make_date(year = YEAR, month = MONTH, day = 1L)) \n",
    "\n",
    "dim(flagged_outliers_allmethods_name_date)\n",
    "head(flagged_outliers_allmethods_name_date, 3)"
   ]
  },
  {
   "cell_type": "markdown",
   "id": "def4a37a-a4d4-418e-9c27-012a131cd4c0",
   "metadata": {},
   "source": [
    "#### 5.2. Write table to DB"
   ]
  },
  {
   "cell_type": "code",
   "execution_count": null,
   "id": "77b37407-06cc-4d31-ae24-b3a0ea42fd75",
   "metadata": {},
   "outputs": [],
   "source": [
    "# library(DBI)\n",
    "# library(RPostgres)"
   ]
  },
  {
   "cell_type": "code",
   "execution_count": null,
   "id": "a4bd7c92-a1c6-4c28-a542-e49b57973e8e",
   "metadata": {},
   "outputs": [],
   "source": [
    "dbname <- Sys.getenv(\"WORKSPACE_DATABASE_DB_NAME\")\n",
    "host <- Sys.getenv(\"WORKSPACE_DATABASE_HOST\")\n",
    "port <- Sys.getenv(\"WORKSPACE_DATABASE_PORT\")\n",
    "username <- Sys.getenv(\"WORKSPACE_DATABASE_USERNAME\")\n",
    "password <- Sys.getenv(\"WORKSPACE_DATABASE_PASSWORD\")"
   ]
  },
  {
   "cell_type": "code",
   "execution_count": null,
   "id": "7f3d371f-b368-4701-be52-e3b12873d87c",
   "metadata": {},
   "outputs": [],
   "source": [
    "con <- DBI::dbConnect(RPostgres::Postgres(),\n",
    "                      dbname = dbname, \n",
    "                      host = host, \n",
    "                      port = port, \n",
    "                      user = username,\n",
    "                      password = password,\n",
    "                      sslmode = 'require'\n",
    "                     )"
   ]
  },
  {
   "cell_type": "code",
   "execution_count": null,
   "id": "701c28a2-7b4a-4220-b237-f69f8e8155a9",
   "metadata": {},
   "outputs": [],
   "source": [
    "# Write table to DB\n",
    "DBI::dbWriteTable(con, \n",
    "                  \"flagged_outliers_allmethods_name_date\", \n",
    "                  flagged_outliers_allmethods_name_date, \n",
    "                  overwrite = TRUE, \n",
    "                  row.names = FALSE\n",
    "                 ) "
   ]
  },
  {
   "cell_type": "code",
   "execution_count": null,
   "id": "68b811ce-bced-4a3b-a5d2-d0841e5ef556",
   "metadata": {},
   "outputs": [],
   "source": [
    "DBI::dbDisconnect(con)"
   ]
  }
 ],
 "metadata": {
  "kernelspec": {
   "display_name": "R",
   "language": "R",
   "name": "ir"
  },
  "language_info": {
   "codemirror_mode": "r",
   "file_extension": ".r",
   "mimetype": "text/x-r-source",
   "name": "R",
   "pygments_lexer": "r",
   "version": "4.4.3"
  }
 },
 "nbformat": 4,
 "nbformat_minor": 5
}
