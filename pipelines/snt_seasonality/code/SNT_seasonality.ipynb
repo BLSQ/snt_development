{
 "cells": [
  {
   "cell_type": "markdown",
   "id": "5eebc540-e973-497e-8427-e73d546fdd09",
   "metadata": {
    "editable": true,
    "slideshow": {
     "slide_type": ""
    },
    "tags": []
   },
   "source": [
    "## Preliminaries"
   ]
  },
  {
   "cell_type": "code",
   "execution_count": null,
   "id": "18d197b6-9de8-4e4b-bc4e-8b452de67287",
   "metadata": {
    "editable": true,
    "slideshow": {
     "slide_type": ""
    },
    "tags": []
   },
   "outputs": [],
   "source": [
    "# Global settings\n",
    "options(scipen=999)\n",
    "\n",
    "Sys.setenv(PROJ_LIB = \"/opt/conda/share/proj\")\n",
    "Sys.setenv(GDAL_DATA = \"/opt/conda/share/gdal\")"
   ]
  },
  {
   "cell_type": "code",
   "execution_count": null,
   "id": "a6915379-108e-4405-b553-b074aad447d6",
   "metadata": {
    "editable": true,
    "slideshow": {
     "slide_type": ""
    },
    "tags": []
   },
   "outputs": [],
   "source": [
    "# Paths\n",
    "ROOT_PATH <- '~/workspace'\n",
    "CONFIG_PATH <- file.path(ROOT_PATH, 'configuration')\n",
    "CODE_PATH <- file.path(ROOT_PATH, 'code')\n",
    "DATA_PATH <- file.path(ROOT_PATH, 'data')\n",
    "OUTPUT_DATA_PATH <- file.path(DATA_PATH, 'seasonality')"
   ]
  },
  {
   "cell_type": "code",
   "execution_count": null,
   "id": "f94d1e6c-0675-4349-b6e0-a28197c8c9e4",
   "metadata": {},
   "outputs": [],
   "source": [
    "# Load utils\n",
    "source(file.path(CODE_PATH, \"snt_utils.r\"))"
   ]
  },
  {
   "cell_type": "code",
   "execution_count": null,
   "id": "180b93e7-61af-4981-863f-593b755968bd",
   "metadata": {},
   "outputs": [],
   "source": [
    "# List required pcks\n",
    "required_packages <- c(\n",
    "  \"jsonlite\",\n",
    "  \"data.table\",\n",
    "  \"ggplot2\",\n",
    "  \"fpp3\",\n",
    "  \"arrow\",\n",
    "  \"glue\",\n",
    "  \"sf\",\n",
    "  \"RColorBrewer\",\n",
    "  \"httr\",\n",
    "  \"reticulate\",\n",
    "  \"arrow\"\n",
    ")\n",
    "\n",
    "# Execute function\n",
    "install_and_load(required_packages)"
   ]
  },
  {
   "cell_type": "code",
   "execution_count": null,
   "id": "609cd062-d7d9-42de-976b-10f8a0bfc18a",
   "metadata": {
    "editable": true,
    "slideshow": {
     "slide_type": ""
    },
    "tags": []
   },
   "outputs": [],
   "source": [
    "Sys.setenv(RETICULATE_PYTHON = \"/opt/conda/bin/python\")\n",
    "reticulate::py_config()$python\n",
    "openhexa <- import(\"openhexa.sdk\")"
   ]
  },
  {
   "cell_type": "code",
   "execution_count": null,
   "id": "458b3d65-cc7e-41bc-95fd-7011dcd5528f",
   "metadata": {
    "editable": true,
    "slideshow": {
     "slide_type": ""
    },
    "tags": []
   },
   "outputs": [],
   "source": [
    "# Load SNT config\n",
    "CONFIG_FILE_NAME <- \"SNT_config.json\"\n",
    "config_json <- tryCatch({ fromJSON(file.path(CONFIG_PATH, CONFIG_FILE_NAME)) },\n",
    "    error = function(e) {\n",
    "        msg <- paste0(\"Error while loading configuration\", conditionMessage(e))  \n",
    "        cat(msg)   \n",
    "        stop(msg) \n",
    "    })\n",
    "\n",
    "msg <- paste0(\"SNT configuration loaded from  : \", file.path(CONFIG_PATH, CONFIG_FILE_NAME)) \n",
    "log_msg(msg)\n",
    "\n",
    "# Set config variables\n",
    "COUNTRY_CODE <- config_json$SNT_CONFIG$COUNTRY_CODE\n",
    "era5_dataset <- config_json$SNT_DATASET_IDENTIFIERS$ERA5_DATASET_CLIMATE\n",
    "dhis2_dataset <- config_json$SNT_DATASET_IDENTIFIERS$DHIS2_DATASET_FORMATTED\n",
    "\n",
    "print(paste(\"Country code: \", COUNTRY_CODE))"
   ]
  },
  {
   "cell_type": "markdown",
   "id": "414f9ee0-5264-43c4-992f-cff6c719d65c",
   "metadata": {},
   "source": [
    "## Parameters"
   ]
  },
  {
   "cell_type": "code",
   "execution_count": null,
   "id": "9024226d-5845-48a0-8ae4-e7b5a8d11988",
   "metadata": {
    "editable": true,
    "slideshow": {
     "slide_type": ""
    },
    "tags": [
     "Parameters"
    ]
   },
   "outputs": [],
   "source": [
    "# Parameters\n",
    "# type_of_seasonality <- 'cases' # 'precipitation' | 'cases'\n",
    "# minimum_periods <- as.integer(48)\n",
    "# maximum_proportion_missings_overall <- 0.1\n",
    "# maximum_proportion_missings_per_district <- 0.2\n",
    "# minimum_month_block_size <- as.integer(3)\n",
    "# maximum_month_block_size <- as.integer(5)\n",
    "# threshold_for_seasonality <- 0.6\n",
    "# threshold_proportion_seasonal_years <- 0.5"
   ]
  },
  {
   "cell_type": "code",
   "execution_count": null,
   "id": "ea5b326d-a21c-4c41-9e0f-301a4971b33e",
   "metadata": {
    "editable": true,
    "slideshow": {
     "slide_type": ""
    },
    "tags": []
   },
   "outputs": [],
   "source": [
    "log_msg(glue(\"Running Seasonality Analysis : ({type_of_seasonality}):\"))"
   ]
  },
  {
   "cell_type": "markdown",
   "id": "0b2d3bb6-6351-4f32-92de-44a6579b6630",
   "metadata": {},
   "source": [
    "**Fixed routine formatting columns**"
   ]
  },
  {
   "cell_type": "code",
   "execution_count": null,
   "id": "90b27881-b25d-4cb3-8b2f-4dd1b395bdee",
   "metadata": {
    "editable": true,
    "slideshow": {
     "slide_type": ""
    },
    "tags": []
   },
   "outputs": [],
   "source": [
    "# Fixed routine formatting columns \n",
    "admin_id_col <- 'ADM2_ID'  \n",
    "year_col <- 'YEAR'\n",
    "month_col <- 'MONTH'\n",
    "period_cols <- c(year_col, month_col)"
   ]
  },
  {
   "cell_type": "code",
   "execution_count": null,
   "id": "473308f4-4630-4d9e-82a9-b2b4fc9134db",
   "metadata": {
    "editable": true,
    "slideshow": {
     "slide_type": ""
    },
    "tags": []
   },
   "outputs": [],
   "source": [
    "possible_month_block_sizes <- as.integer(minimum_month_block_size:maximum_month_block_size)\n",
    "formatted_threshold_for_seasonality <- sprintf(\"%d%%\", round(threshold_for_seasonality * 100))\n",
    "print(paste(\"Formatted threshold :\",formatted_threshold_for_seasonality))"
   ]
  },
  {
   "cell_type": "markdown",
   "id": "86f492f3-5634-4987-a2b8-23014aba5d51",
   "metadata": {},
   "source": [
    "## Load data"
   ]
  },
  {
   "cell_type": "code",
   "execution_count": null,
   "id": "623480ee-4310-4ead-a8c8-bf294527c814",
   "metadata": {},
   "outputs": [],
   "source": [
    "# Load spatial file from dataset\n",
    "spatial_data_filename <- paste(COUNTRY_CODE, \"shapes.geojson\", sep = \"_\")\n",
    "spatial_data <- get_latest_dataset_file_in_memory(dhis2_dataset, spatial_data_filename)\n",
    "log_msg(glue(\"File {spatial_data_filename} successfully loaded from dataset version: {dhis2_dataset}\"))"
   ]
  },
  {
   "cell_type": "markdown",
   "id": "10d7611e-3ea0-47ab-b2e5-d40ea915c486",
   "metadata": {},
   "source": [
    "**Load time series data**"
   ]
  },
  {
   "cell_type": "code",
   "execution_count": null,
   "id": "1f766ea1-dced-4143-a5be-fdc51da4bd8d",
   "metadata": {
    "editable": true,
    "slideshow": {
     "slide_type": ""
    },
    "tags": []
   },
   "outputs": [],
   "source": [
    "if (type_of_seasonality == \"precipitation\") {\n",
    "    \n",
    "    # Load precipitation data from dataset\n",
    "    precipitation_data_filename <- paste(COUNTRY_CODE, \"total_precipitation_monthly.parquet\", sep = \"_\")\n",
    "    original_dt <- get_latest_dataset_file_in_memory(era5_dataset, precipitation_data_filename)\n",
    "    log_msg(glue(\"File {precipitation_data_filename} successfully loaded from dataset version: {era5_dataset}\"))\n",
    "    original_values_col <- 'MEAN'\n",
    "    \n",
    "} else if (type_of_seasonality == \"cases\") {\n",
    "    \n",
    "    # Load routine data from dataset\n",
    "    routine_data_filename <- paste(COUNTRY_CODE, \"routine.parquet\", sep = \"_\")\n",
    "    original_dt <- get_latest_dataset_file_in_memory(dhis2_dataset, routine_data_filename)\n",
    "    log_msg(glue(\"File {routine_data_filename} successfully loaded from dataset version: {dhis2_dataset}\"))\n",
    "    original_values_col <- 'CONF'\n",
    "    \n",
    "} else {\n",
    "    log_msg(glue(\"Seasonality type not supported : {type_of_seasonality}\"), level=\"error\")\n",
    "    stop()\n",
    "}"
   ]
  },
  {
   "cell_type": "code",
   "execution_count": null,
   "id": "7b769deb-52e5-471d-9950-ac431dd8cf03",
   "metadata": {},
   "outputs": [],
   "source": [
    "# Columns formatting\n",
    "admin_data <- st_drop_geometry(spatial_data)\n",
    "setDT(admin_data)\n",
    "common_cols <- names(admin_data)\n",
    "\n",
    "seasonality_col <- glue('SEASONALITY', toupper(type_of_seasonality), .sep = \"_\")\n",
    "season_duration_col <- glue('SEASONAL_BLOCK_DURATION', toupper(type_of_seasonality), .sep = \"_\")\n",
    "final_table_cols <- c(names(admin_data), seasonality_col, season_duration_col)\n",
    "print(final_table_cols)"
   ]
  },
  {
   "cell_type": "markdown",
   "id": "0d329af2-f544-4ee2-940f-65e2ab11c49d",
   "metadata": {},
   "source": [
    "**Create the containers for the data**"
   ]
  },
  {
   "cell_type": "code",
   "execution_count": null,
   "id": "90486c1e-38bc-4c6f-bffe-b7e8f3be68ca",
   "metadata": {},
   "outputs": [],
   "source": [
    "# Create an empty table if the analysis is stopped for lack of enough data\n",
    "seasonality_cols <- c(seasonality_col, season_duration_col)\n",
    "empty_dt <- copy(admin_data)[, (seasonality_cols) := NA]"
   ]
  },
  {
   "cell_type": "markdown",
   "id": "4f5887fa-b537-48dd-aaf2-5fd138e484f7",
   "metadata": {},
   "source": [
    "**Remove imputed files (if any)**"
   ]
  },
  {
   "cell_type": "code",
   "execution_count": null,
   "id": "11901de3-8ef3-4815-976f-c8c936b358b4",
   "metadata": {},
   "outputs": [],
   "source": [
    "# get list of files\n",
    "files_in_folder <- list.files(OUTPUT_DATA_PATH, full.names = TRUE)\n",
    "files_to_remove <- files_in_folder[grepl(paste0(COUNTRY_CODE, \"_\", type_of_seasonality, \"_imputed\"), basename(files_in_folder), ignore.case = TRUE)]\n",
    "\n",
    "# remove\n",
    "if (length(files_to_remove) > 0) {\n",
    "  file.remove(files_to_remove)\n",
    "}\n",
    "print(glue(\"Deleted files: {files_to_remove}\"))"
   ]
  },
  {
   "cell_type": "markdown",
   "id": "b8da71be-45f1-405c-857c-ed86984988f4",
   "metadata": {
    "editable": true,
    "slideshow": {
     "slide_type": ""
    },
    "tags": []
   },
   "source": [
    "## Preprocess input data"
   ]
  },
  {
   "cell_type": "code",
   "execution_count": null,
   "id": "c5bf0faa-357e-44a7-af0c-04dd382af7e0",
   "metadata": {
    "editable": true,
    "slideshow": {
     "slide_type": ""
    },
    "tags": []
   },
   "outputs": [],
   "source": [
    "# format table\n",
    "setDT(original_dt)\n",
    "integer_cols <- c(year_col, month_col)\n",
    "numeric_cols <- c(original_values_col)\n",
    "original_dt[, (integer_cols) := lapply(.SD, as.integer), .SDcols = integer_cols]\n",
    "head(original_dt, 3)"
   ]
  },
  {
   "cell_type": "code",
   "execution_count": null,
   "id": "a1a762ad-943e-467b-8cc1-e4998a996b9f",
   "metadata": {
    "editable": true,
    "slideshow": {
     "slide_type": ""
    },
    "tags": []
   },
   "outputs": [],
   "source": [
    "# keep only the useful columns and aggregate the data on them\n",
    "original_dt <- original_dt[,\n",
    "                           setNames(list(sum(get(original_values_col), na.rm = TRUE)), original_values_col), \n",
    "                           by = c(admin_id_col, period_cols)\n",
    "                           ]\n",
    "\n",
    "num_periods <- make_cartesian_admin_period(original_dt, admin_id_col, year_col, month_col)[[1]]\n",
    "all_rows <- make_cartesian_admin_period(original_dt, admin_id_col, year_col, month_col)[[2]]\n",
    "\n",
    "if (num_periods < minimum_periods){    \n",
    "    log_msg(glue(\"Data is not reliable: \n",
    "                    at least {minimum_periods} year-month periods of data are required for the case analysis; \n",
    "                    the data only contains {num_periods} periods. Abandoning analysis.\")\n",
    "           , level=\"error\")\n",
    "    stop(\"ERROR 1\")\n",
    "}\n",
    "\n",
    "# inject the (possibly missing) rows into the data\n",
    "original_dt <- make_full_time_space_data(\n",
    "  input_dt=original_dt,\n",
    "  full_rows_dt=all_rows,\n",
    "  target_colname=original_values_col,\n",
    "  admin_colname=admin_id_col,\n",
    "  year_colname=year_col,\n",
    "  month_colname=month_col)\n",
    "\n",
    "if(nrow(original_dt[is.na(get(original_values_col)),]) > (maximum_proportion_missings_overall * nrow(original_dt))){    \n",
    "    log_msg(\"There are too many missing values in the data overall. Abandoning analysis.\", level=\"error\")\n",
    "    stop(\"ERROR 2\")   \n",
    "}"
   ]
  },
  {
   "cell_type": "markdown",
   "id": "e3d793a5-ac96-4dcc-bd86-5837a631ea54",
   "metadata": {},
   "source": [
    "### Imputation of missings"
   ]
  },
  {
   "cell_type": "code",
   "execution_count": null,
   "id": "ac3414c6-baf1-47f0-ad6d-5ff1cb0e432e",
   "metadata": {},
   "outputs": [],
   "source": [
    "# imputed filename\n",
    "filename_imputed_csv <- paste(COUNTRY_CODE, type_of_seasonality, 'imputed.csv', sep = '_')\n",
    "filename_imputed_parquet <- paste(COUNTRY_CODE, type_of_seasonality, 'imputed.parquet', sep = '_')"
   ]
  },
  {
   "cell_type": "code",
   "execution_count": null,
   "id": "8cf34a4f-f429-4ee5-9919-5e5c7abe9da6",
   "metadata": {
    "editable": true,
    "slideshow": {
     "slide_type": ""
    },
    "tags": []
   },
   "outputs": [],
   "source": [
    "# create the name of the column which will store the imputed/estimated values\n",
    "imputed_col = paste(original_values_col, 'EST', sep = '_')\n",
    "\n",
    "# if there are rows of missing data for cases, impute them (SARIMA)\n",
    "if(nrow(original_dt[!is.na(get(original_values_col)),]) != nrow(original_dt)) {\n",
    "    log_msg(\"There is missing data. Proceeding to impute them.\", level=\"warning\")\n",
    "    \n",
    "    # extract data on only the administrative units which have missing values for original_values_col\n",
    "    missing_dt <- extract_dt_with_missings(original_dt, target_colname = original_values_col, id_colname = admin_id_col)\n",
    "    missing_dt <- missing_dt[, PERIOD := make_yearmonth(year = YEAR, month = MONTH)]\n",
    "    missing_dt <- missing_dt[, .SD, .SDcols = c(admin_id_col, 'PERIOD', original_values_col)]\n",
    "    \n",
    "    # how many rows missing for each administrative unit? if too many, then not good idea to impute\n",
    "    missings_by_admin_unit <- missing_dt[, .(missing_count = sum(is.na(get(original_values_col)))), by = admin_id_col][order(-missing_count)]\n",
    "    \n",
    "    # if for any given admin unit, more than a given % of data is missing, there's too much to impute (maybe should be stricter - to discuss)\n",
    "    if(missings_by_admin_unit[, max(missing_count)] > maximum_proportion_missings_per_district * num_periods){\n",
    "      log_msg(\"Some administrative units have too many missing values in the target data. Abandoning analysis.\", level=\"error\")\n",
    "      stop(\"ERROR 3\")\n",
    "    }\n",
    "    \n",
    "    # split to list per admin_unit_id, to apply SARIMA imputation on each time series (per admin unit)\n",
    "    missing_districts_list <- split(missing_dt, by = admin_id_col)\n",
    "    \n",
    "    # seasonal ARIMA to estimate missing cases: apply function to list of data.tables with missing rows, then create data.table from result\n",
    "    filled_missings_dt <- rbindlist(\n",
    "    lapply(missing_districts_list,\n",
    "           fill_missing_cases_ts,\n",
    "           original_values_colname=original_values_col,\n",
    "           estimated_values_colname=imputed_col,\n",
    "           admin_colname=admin_id_col,\n",
    "           period_colname='PERIOD',\n",
    "           threshold_for_missing = 0.0)\n",
    "    )\n",
    "    \n",
    "    # add the imputed (\"_EST\") values to the original data\n",
    "    imputed_dt <- merge.data.table(original_dt, filled_missings_dt[, .SD, .SDcols = !(original_values_col)], by = c(admin_id_col, year_col, month_col), all.x = TRUE)\n",
    "    \n",
    "    # copy from the districts without missings;\n",
    "    # if data is large, this could be made faster by only copying from the districts which are not in the missing_dt\n",
    "    imputed_dt[!is.na(get(original_values_col)), (imputed_col) := get(original_values_col)]\n",
    "\n",
    "    # Save imputed file, only if it was computed..\n",
    "    fwrite(imputed_dt, file = file.path(OUTPUT_DATA_PATH, filename_imputed_csv))\n",
    "    write_parquet(imputed_dt, file.path(OUTPUT_DATA_PATH, filename_imputed_parquet))\n",
    "    log_msg(glue(\"Imputed file saved under: {file.path(OUTPUT_DATA_PATH, filename_imputed_csv)}\"))\n",
    "    \n",
    "} else {    \n",
    "    imputed_dt <- copy(original_dt)\n",
    "    imputed_dt[, (imputed_col) := get(original_values_col)]\n",
    "}"
   ]
  },
  {
   "cell_type": "markdown",
   "id": "9db44942-d844-491c-9045-906e99a37c60",
   "metadata": {
    "editable": true,
    "slideshow": {
     "slide_type": ""
    },
    "tags": []
   },
   "source": [
    "## Seasonality"
   ]
  },
  {
   "cell_type": "code",
   "execution_count": null,
   "id": "9bfa3ebf-3a04-405a-9cc6-5f174a08f70b",
   "metadata": {
    "editable": true,
    "slideshow": {
     "slide_type": ""
    },
    "tags": []
   },
   "outputs": [],
   "source": [
    "# The seasonality per row (period-admin unit) -----------------------------\n",
    "log_msg(\"Computing month seasonality.\")\n",
    "\n",
    "row_seasonality_dt <- compute_month_seasonality(\n",
    "  input_dt=imputed_dt,\n",
    "  indicator=type_of_seasonality,\n",
    "  values_colname=imputed_col,\n",
    "  vector_of_durations=possible_month_block_sizes,\n",
    "  admin_colname=admin_id_col,\n",
    "  year_colname=year_col,\n",
    "  month_colname=month_col,\n",
    "  proportion_threshold=threshold_for_seasonality\n",
    ")\n",
    "\n",
    "# The seasonality per admin unit, irrespective of year ----------------------\n",
    "log_msg(\"Computing seasonality per administrative unit.\")\n",
    "\n",
    "seasonality_source_dt <- process_seasonality(\n",
    "  input_dt=row_seasonality_dt,\n",
    "  indicator=type_of_seasonality,\n",
    "  vector_of_durations=possible_month_block_sizes,\n",
    "  admin_colname=admin_id_col,\n",
    "  year_colname=year_col,\n",
    "  month_colname=month_col,\n",
    "  proportion_seasonal_years_threshold=threshold_proportion_seasonal_years\n",
    ")\n",
    "\n",
    "# Compute the duration block; there are normal warnings when it's only 0-es for seasonality:\n",
    "# for those admin units without any seasonality, the duration of the block will be 'infinite')\n",
    "check_pattern_seasonality <- paste(\"^SEASONALITY\", toupper(type_of_seasonality), \"[0-9]+_MTH$\", sep = \"_\")\n",
    "seasonality_source_dt <- seasonality_source_dt[, .SD, .SDcols = c(admin_id_col, grep(check_pattern_seasonality, names(seasonality_source_dt), value = TRUE))]"
   ]
  },
  {
   "cell_type": "markdown",
   "id": "d9f8270f-7283-4630-b9ba-62366b1c3e62",
   "metadata": {
    "editable": true,
    "slideshow": {
     "slide_type": ""
    },
    "tags": []
   },
   "source": [
    "## Result file"
   ]
  },
  {
   "cell_type": "markdown",
   "id": "db719aed-6347-48f4-8984-add9f8adec2d",
   "metadata": {},
   "source": [
    "**Long format, until further notice, is not saved."
   ]
  },
  {
   "cell_type": "code",
   "execution_count": null,
   "id": "50ba68f5-e9a9-4144-99dc-de8cc44770e9",
   "metadata": {
    "editable": true,
    "slideshow": {
     "slide_type": ""
    },
    "tags": []
   },
   "outputs": [],
   "source": [
    "seasonality_long_dt <- melt(\n",
    "  seasonality_source_dt,\n",
    "  id.vars = grep(check_pattern_seasonality, names(seasonality_source_dt), value = TRUE, invert = TRUE), # all cols which don't follow the pattern\n",
    "  variable.name = 'MONTH_BLOCK_SIZE',\n",
    "  value.name =seasonality_col\n",
    "  )"
   ]
  },
  {
   "cell_type": "code",
   "execution_count": null,
   "id": "b2a400d4-a545-40ab-9204-b6b2e69ea499",
   "metadata": {
    "editable": true,
    "slideshow": {
     "slide_type": ""
    },
    "tags": []
   },
   "outputs": [],
   "source": [
    "seasonality_long_dt[, MONTH_BLOCK_SIZE := possible_month_block_sizes[match(MONTH_BLOCK_SIZE, grep(check_pattern_seasonality, names(seasonality_source_dt), value = TRUE))]]\n",
    "\n",
    "# add remaining admin unit columns and save the final results\n",
    "admin_seasonality_long_dt <- merge.data.table(admin_data, seasonality_long_dt, by = c(admin_id_col), all = TRUE)"
   ]
  },
  {
   "cell_type": "code",
   "execution_count": null,
   "id": "7a7926d5-d4e7-4707-85b8-7020c3738be3",
   "metadata": {},
   "outputs": [],
   "source": [
    "# order the columns\n",
    "specific_cols <- setdiff(names(admin_seasonality_long_dt), names(admin_data)) # last columns\n",
    "admin_seasonality_long_dt <- admin_seasonality_long_dt[, .SD, .SDcols = c(common_cols, specific_cols)]"
   ]
  },
  {
   "cell_type": "code",
   "execution_count": null,
   "id": "343a07c2-2e0e-49eb-b487-cc8d6431e015",
   "metadata": {
    "editable": true,
    "slideshow": {
     "slide_type": ""
    },
    "tags": []
   },
   "outputs": [],
   "source": [
    "# Let's keep this code for now.\n",
    "# # filename_admin_seasonality_long_dt <- paste(COUNTRY_CODE, gsub(\"\\\\.\", \"\", as.character(threshold_for_seasonality)), type_of_seasonality, 'seasonality_long.csv', sep = '_')\n",
    "# filename_admin_seasonality_long_dt <- paste(COUNTRY_CODE, type_of_seasonality, 'seasonality_long.csv', sep = '_')\n",
    "# fwrite(admin_seasonality_long_dt, file.path(OUTPUT_DATA_PATH, filename_admin_seasonality_long_dt))"
   ]
  },
  {
   "cell_type": "markdown",
   "id": "36d1f9cb-75b6-4f6a-a18c-b34eb233b8d2",
   "metadata": {
    "editable": true,
    "slideshow": {
     "slide_type": ""
    },
    "tags": []
   },
   "source": [
    "### Transform to wide format"
   ]
  },
  {
   "cell_type": "code",
   "execution_count": null,
   "id": "e71259c9-29a6-452f-8949-74adb0e62c1c",
   "metadata": {
    "editable": true,
    "slideshow": {
     "slide_type": ""
    },
    "tags": []
   },
   "outputs": [],
   "source": [
    "seasonality_wide_dt <- compute_min_seasonality_block(\n",
    "    input_dt=seasonality_source_dt,\n",
    "    seasonality_column_pattern=check_pattern_seasonality,\n",
    "    vector_of_possible_month_block_sizes=possible_month_block_sizes,\n",
    "    indicator=toupper(type_of_seasonality),\n",
    "    seasonal_blocksize_colname=season_duration_col,\n",
    "    valid_value = 1\n",
    ")"
   ]
  },
  {
   "cell_type": "code",
   "execution_count": null,
   "id": "9284c723-97d4-46f9-8837-7f70dae92a31",
   "metadata": {
    "editable": true,
    "slideshow": {
     "slide_type": ""
    },
    "tags": []
   },
   "outputs": [],
   "source": [
    "# Create a new, overall column 'SEASONALITY_' based on the values of columns in 'check_pattern_seasonality'\n",
    "# seasonality_wide_dt <- seasonality_wide_dt[, (paste('SEASONALITY', toupper(type_of_seasonality), sep=\"_\")) := ifelse(rowSums(.SD == 1) > 0, 1, 0), .SDcols = grep(check_pattern_seasonality, names(seasonality_source_dt), value = TRUE)]\n",
    "seasonality_wide_dt <- seasonality_wide_dt[, (seasonality_col) := ifelse(rowSums(.SD == 1) > 0, 1, 0), .SDcols = grep(check_pattern_seasonality, names(seasonality_source_dt), value = TRUE)]\n",
    "seasonality_wide_dt <- seasonality_wide_dt[, (grep(check_pattern_seasonality, names(seasonality_wide_dt), value = TRUE)) := NULL] # drop the columns with the pattern"
   ]
  },
  {
   "cell_type": "code",
   "execution_count": null,
   "id": "c5ea18ef-1148-432d-a954-b9c6b4a06afc",
   "metadata": {
    "editable": true,
    "slideshow": {
     "slide_type": ""
    },
    "tags": []
   },
   "outputs": [],
   "source": [
    "# add remaining admin unit columns and save the final results\n",
    "admin_seasonality_wide_dt <- merge.data.table(admin_data, seasonality_wide_dt, by = c(admin_id_col), all = TRUE)\n",
    "admin_seasonality_wide_dt <- admin_seasonality_wide_dt[, .SD, .SDcols = c(common_cols, seasonality_cols)]\n",
    "head(admin_seasonality_wide_dt)"
   ]
  },
  {
   "cell_type": "markdown",
   "id": "a2f1a373-4b34-42db-b591-b25c7050dee6",
   "metadata": {},
   "source": [
    "**Save output**"
   ]
  },
  {
   "cell_type": "code",
   "execution_count": null,
   "id": "ded1e86d-f4c5-4fdb-a6ba-611d5c7f4aed",
   "metadata": {
    "editable": true,
    "slideshow": {
     "slide_type": ""
    },
    "tags": []
   },
   "outputs": [],
   "source": [
    "# Create the filename\n",
    "filename_seasonality_wide_csv <- file.path(OUTPUT_DATA_PATH, paste(COUNTRY_CODE, type_of_seasonality, 'seasonality.csv', sep = '_'))\n",
    "filename_seasonality_wide_parquet <- file.path(OUTPUT_DATA_PATH, paste(COUNTRY_CODE, type_of_seasonality, 'seasonality.parquet', sep = '_'))\n",
    "\n",
    "fwrite(admin_seasonality_wide_dt, filename_seasonality_wide_csv)\n",
    "write_parquet(admin_seasonality_wide_dt, filename_seasonality_wide_parquet)\n",
    "\n",
    "log_msg(paste0(\"Precipitation seasonality results saved under: \", filename_seasonality_wide_csv))"
   ]
  }
 ],
 "metadata": {
  "kernelspec": {
   "display_name": "R",
   "language": "R",
   "name": "ir"
  },
  "language_info": {
   "codemirror_mode": "r",
   "file_extension": ".r",
   "mimetype": "text/x-r-source",
   "name": "R",
   "pygments_lexer": "r",
   "version": "4.4.3"
  }
 },
 "nbformat": 4,
 "nbformat_minor": 5
}
