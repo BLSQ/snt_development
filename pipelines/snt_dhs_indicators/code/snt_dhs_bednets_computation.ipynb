{
 "cells": [
  {
   "cell_type": "markdown",
   "id": "8ba79c20-9f47-4d61-93ab-19d3802125ec",
   "metadata": {},
   "source": [
    "# Insecticide-teated net (ITN) access and use, DHS data"
   ]
  },
  {
   "cell_type": "markdown",
   "id": "d5d9b645-2094-4b60-a9b2-b89ba33ac4dc",
   "metadata": {},
   "source": [
    "## Resources"
   ]
  },
  {
   "cell_type": "markdown",
   "id": "90ddd8fd-ec6b-4a29-b78d-8010cdc4d40e",
   "metadata": {},
   "source": [
    "https://dhsprogram.com/data/Guide-to-DHS-Statistics/Access_to_an_Insecticide-Treated_Net_ITN.htm\n",
    "\n",
    "https://dhsprogram.com/data/Guide-to-DHS-Statistics/index.htm#t=Use_of_Mosquito_Nets_by_Persons_in_the_Household.htm%23Percentage_of_the1bc-1&rhtocid=_15_3_0\n",
    "\n",
    "https://dhsprogram.com/publications/publication-dhsg4-dhs-questionnaires-and-manuals.cfm"
   ]
  },
  {
   "cell_type": "markdown",
   "id": "53012a66-e2c7-4ecb-9233-27581e349368",
   "metadata": {},
   "source": [
    "### Access"
   ]
  },
  {
   "cell_type": "markdown",
   "id": "64d4e878-f065-47cc-be00-2b0cd3baeacc",
   "metadata": {},
   "source": [
    "Percentage of the de facto household population with access to an ITN in the household, defined as the proportion of the de facto household population who slept under an ITN if each ITN in the household were used by up to two people.\n",
    "\n",
    "Numerator: Number of de facto persons (hv103 = 1) who could sleep under an ITN if each ITN in the household is used by up to 2 people, calculated for each household as the minimum of:\n",
    "\n",
    "1. number of de facto persons in the household (hv013), and\n",
    "2. twice the number of ITNs per household (2 * sum of hml10_1 – hml10_7 = 1) <- assumed that maximum two people can sleep under a bednet\n",
    "   \n",
    "Denominator: Number of persons who stayed in the household the night before the survey (hv103 = 1)\n",
    "\n",
    "Variables: hhid (household identification), hml10_1 – _7 (Insecticide-Treated Net (ITN)), hv013 (Number of de facto members) hv103, (Slept last night), hv005 (Household sample)"
   ]
  },
  {
   "cell_type": "markdown",
   "id": "5bd2650b-e952-45d1-b46a-b08b777a5961",
   "metadata": {},
   "source": [
    "### Use"
   ]
  },
  {
   "cell_type": "markdown",
   "id": "327fe0a1-1be5-4d35-a6ff-8913ad56b6c3",
   "metadata": {},
   "source": [
    "1)      Percentage of the de facto household population who slept the night before the survey under a mosquito net (treated or untreated).\n",
    "\n",
    "2)      Percentage of the de facto household population who slept the night before the survey under an insecticide-treated net (ITN).\n",
    "\n",
    "3)      Among the de facto household population in households with at least one ITN, the percentage who slept under an ITN the night before the survey.\n",
    "\n",
    "Coverage:\n",
    "Population base: De facto household members (PR file, HR file)\n",
    "Time period: Night before the survey\n",
    "\n",
    "Numerators:\n",
    "1)      Number of de facto persons who reported sleeping under any mosquito net the night before the survey (hv103 = 1 & hml12 in 1:3)\n",
    "2)      Number of de facto persons who reported sleeping under an ITN the night before the survey (hv103 = 1 & hml12 in 1:2)\n",
    "3)      Number of de facto persons in households with at least one ITN who reported sleeping under an ITN the night before the survey (hv103 = 1 & hml12 in 1:2 & any hml10_1 – hml10_7 = 1)\n",
    "\n",
    "Denominators:\n",
    "a)       Number of persons in the de facto household population (hv103 = 1)\n",
    "b)       Number of persons in the de facto household population (hv103 = 1)\n",
    "c)       Number of persons in the de facto household population in households owning at least one ITN (hv103 = 1 & any hml10_1 – hml10_7 = 1)\n",
    "\n",
    "Variables: HR file, PR file.\n",
    "\n",
    "\n",
    "**Project uses numerator 2) Number of de facto persons who reported sleeping under an ITN the night before the survey (hv103 = 1 & hml12 in 1:2)**\n",
    "\n",
    "**Project uses denominator b) Number of persons in the de facto household population (hv103 = 1)**"
   ]
  },
  {
   "cell_type": "markdown",
   "id": "3b050280-b234-45f1-bac5-8e6910079118",
   "metadata": {},
   "source": [
    "## Preliminary steps"
   ]
  },
  {
   "cell_type": "code",
   "execution_count": null,
   "id": "3632c310-6a58-4825-8b80-ce3612b6caca",
   "metadata": {},
   "outputs": [],
   "source": [
    "rm(list = ls())\n",
    "\n",
    "options(scipen=999)"
   ]
  },
  {
   "cell_type": "code",
   "execution_count": null,
   "id": "cb98532b-56c9-42c7-9bbd-a6f7869bfc76",
   "metadata": {},
   "outputs": [],
   "source": [
    "# Global paths\n",
    "Sys.setenv(PROJ_LIB = \"/opt/conda/share/proj\")\n",
    "Sys.setenv(GDAL_DATA = \"/opt/conda/share/gdal\")"
   ]
  },
  {
   "cell_type": "code",
   "execution_count": null,
   "id": "ebf120a6-1559-4295-93c4-cfbfd141a67b",
   "metadata": {},
   "outputs": [],
   "source": [
    "# Paths\n",
    "ROOT_PATH <- '~/workspace'\n",
    "CONFIG_PATH <- file.path(ROOT_PATH, 'configuration')\n",
    "CODE_PATH <- file.path(ROOT_PATH, 'code')\n",
    "DATA_PATH <- file.path(ROOT_PATH, 'data')\n",
    "DHS_DATA_PATH <- file.path(DATA_PATH, 'dhs', 'raw')\n",
    "OUTPUT_DATA_PATH <- file.path(DATA_PATH, 'dhs', 'indicators', 'bednets')"
   ]
  },
  {
   "cell_type": "code",
   "execution_count": null,
   "id": "cc24cdd4-2ccb-4511-8a63-8ee4b0c29bde",
   "metadata": {},
   "outputs": [],
   "source": [
    "# Load utils\n",
    "source(file.path(CODE_PATH, \"snt_utils.r\"))\n",
    "\n",
    "# List required pcks\n",
    "required_packages <- c(\"haven\", \"sf\", \"glue\", \"survey\", \"data.table\", \"stringi\", \"jsonlite\", \"httr\", \"reticulate\", \"arrow\")\n",
    "\n",
    "# Execute function\n",
    "install_and_load(required_packages)"
   ]
  },
  {
   "cell_type": "code",
   "execution_count": null,
   "id": "7acc95aa-eb5e-421e-b23e-0efa602d1cc1",
   "metadata": {},
   "outputs": [],
   "source": [
    "Sys.setenv(RETICULATE_PYTHON = \"/opt/conda/bin/python\")\n",
    "reticulate::py_config()$python\n",
    "openhexa <- import(\"openhexa.sdk\")\n",
    "\n",
    "# Load SNT config\n",
    "CONFIG_FILE_NAME <- \"SNT_config.json\"\n",
    "config_json <- tryCatch({ fromJSON(file.path(CONFIG_PATH, CONFIG_FILE_NAME)) },\n",
    "                        error = function(e) {\n",
    "                          msg <- paste0(\"Error while loading configuration\", conditionMessage(e))  \n",
    "                          cat(msg)   \n",
    "                          stop(msg) \n",
    "                        })\n",
    "\n",
    "msg <- paste0(\"SNT configuration loaded from  : \", file.path(CONFIG_PATH, CONFIG_FILE_NAME)) \n",
    "log_msg(msg)\n",
    "\n",
    "# Set config variables\n",
    "COUNTRY_CODE <- config_json$SNT_CONFIG$COUNTRY_CODE"
   ]
  },
  {
   "cell_type": "markdown",
   "id": "93898419-b98d-4a53-8fc9-a1bb9bff01a4",
   "metadata": {},
   "source": [
    "## Geo and admin data"
   ]
  },
  {
   "cell_type": "code",
   "execution_count": null,
   "id": "145fe721-f42a-45ff-a3cb-060886fe7a9e",
   "metadata": {},
   "outputs": [],
   "source": [
    "admin_level <- 'ADM1'\n",
    "admin_id_col <- glue(admin_level, 'ID', .sep='_')\n",
    "admin_name_col <- glue(admin_level, 'NAME', .sep='_')\n",
    "admin_cols <- c(admin_id_col, admin_name_col)"
   ]
  },
  {
   "cell_type": "code",
   "execution_count": null,
   "id": "4938a133-569e-4aec-bf55-7a633a142bc2",
   "metadata": {},
   "outputs": [],
   "source": [
    "# Load spatial file from dataset \n",
    "\n",
    "dhis2_dataset <- config_json$SNT_DATASET_IDENTIFIERS$DHIS2_DATASET_FORMATTED\n",
    "\n",
    "spatial_data_filename <- paste(COUNTRY_CODE, \"shapes.geojson\", sep = \"_\")\n",
    "# spatial_data <- read_sf(file.path(DATA_PATH, 'dhis2', 'formatted', spatial_data_filename))\n",
    "spatial_data <- get_latest_dataset_file_in_memory(dhis2_dataset, spatial_data_filename)\n",
    "log_msg(glue(\"File {spatial_data_filename} successfully loaded from dataset version: {dhis2_dataset}\"))"
   ]
  },
  {
   "cell_type": "code",
   "execution_count": null,
   "id": "31c87079-f8b6-417a-a206-804d5c3208e8",
   "metadata": {},
   "outputs": [],
   "source": [
    "spatial_data <- st_as_sf(spatial_data)"
   ]
  },
  {
   "cell_type": "code",
   "execution_count": null,
   "id": "98c0e39a-5433-4dc8-a109-f279f7be0271",
   "metadata": {},
   "outputs": [],
   "source": [
    "# aggregate geometries by the admin columns\n",
    "spatial_data <- aggregate_geometry(\n",
    "  sf_data=spatial_data,\n",
    "  admin_id_colname=admin_id_col,\n",
    "  admin_name_colname=admin_name_col\n",
    ")\n",
    "\n",
    "# keep class\n",
    "spatial_data <- st_as_sf(spatial_data)\n",
    "\n",
    "if(COUNTRY_CODE == \"COD\"){\n",
    "  spatial_data[[admin_name_col]] <- clean_admin_names(spatial_data[[admin_name_col]])\n",
    "}\n",
    "\n",
    "admin_data <- st_drop_geometry(spatial_data)\n",
    "setDT(admin_data)"
   ]
  },
  {
   "cell_type": "markdown",
   "id": "6399c2eb-9509-4b4f-839a-6c8c83004510",
   "metadata": {},
   "source": [
    "## Import DHS data"
   ]
  },
  {
   "cell_type": "code",
   "execution_count": null,
   "id": "0fb15b9d-3cc5-4c6f-be25-124169388c25",
   "metadata": {},
   "outputs": [],
   "source": [
    "data_source <- 'DHS'\n",
    "indicator_access <- 'PCT_ITN_ACCESS'\n",
    "indicator_use <- 'PCT_ITN_USE'"
   ]
  },
  {
   "cell_type": "markdown",
   "id": "0de3a133-4873-43ad-8a33-ed6afa42330b",
   "metadata": {},
   "source": [
    "### Unzip data for the analysis"
   ]
  },
  {
   "cell_type": "code",
   "execution_count": null,
   "id": "1b88b59b-383c-49a6-b476-9319042243e2",
   "metadata": {},
   "outputs": [],
   "source": [
    "household_recode <- 'HR'\n",
    "person_recode <- 'PR'\n",
    "target_file_type <- 'SV'\n",
    "\n",
    "delete_otherextension_files(DHS_DATA_PATH, extension_to_retain=\".zip\")"
   ]
  },
  {
   "cell_type": "code",
   "execution_count": null,
   "id": "bf5e0839-612a-430b-ad22-14bc62d6cad5",
   "metadata": {},
   "outputs": [],
   "source": [
    "dhs_hr_zip_filename <- extract_latest_dhs_recode_filename(DHS_DATA_PATH, household_recode, target_file_type)\n",
    "unzip(file.path(DHS_DATA_PATH, dhs_hr_zip_filename), exdir=DHS_DATA_PATH)\n",
    "\n",
    "dhs_pr_zip_filename <- extract_latest_dhs_recode_filename(DHS_DATA_PATH, person_recode, target_file_type)\n",
    "unzip(file.path(DHS_DATA_PATH, dhs_pr_zip_filename), exdir=DHS_DATA_PATH)"
   ]
  },
  {
   "cell_type": "code",
   "execution_count": null,
   "id": "ca6e3da7-916c-47e1-b475-2bd5cf551bcd",
   "metadata": {},
   "outputs": [],
   "source": [
    "# # Remove existing output files\n",
    "# files <- list.files(OUTPUT_DATA_PATH, full.names = TRUE)\n",
    "# files_to_delete <- files[grepl('_ITN_', basename(files), ignore.case = TRUE) & grepl(COUNTRY_CODE, basename(files), ignore.case = TRUE)]\n",
    "# file.remove(files_to_delete)"
   ]
  },
  {
   "cell_type": "markdown",
   "id": "02d577f1-007e-40b2-a3f6-e5b41089ee4a",
   "metadata": {},
   "source": [
    "### Import data files"
   ]
  },
  {
   "cell_type": "code",
   "execution_count": null,
   "id": "930ef55c-a590-4d76-bcad-902528f8815a",
   "metadata": {},
   "outputs": [],
   "source": [
    "data_extension <- '.SAV'\n",
    "dhs_hr_filename <- list.files(path = DHS_DATA_PATH, pattern = paste0(\".*\", household_recode, \".*\\\\\", data_extension, \"$\"), ignore.case=TRUE)\n",
    "dhs_pr_filename <- dir(path = DHS_DATA_PATH, pattern = paste0(\".*\", person_recode, \".*\\\\\", data_extension, \"$\"), ignore.case=TRUE)\n",
    "\n",
    "if(!check_dhs_same_version(dhs_hr_filename, dhs_pr_filename)){\n",
    "  stop(\"The necessary DHS data do not have the same version/issue. Check available data before rerunning.\")\n",
    "}"
   ]
  },
  {
   "cell_type": "code",
   "execution_count": null,
   "id": "60283f74-b656-4596-82ff-aefa487ddd28",
   "metadata": {},
   "outputs": [],
   "source": [
    "dhs_hr_dt <- read_spss(file.path(DHS_DATA_PATH, dhs_hr_filename)) # household recode\n",
    "dhs_hr_dt <- setDT(dhs_hr_dt)\n",
    "\n",
    "dhs_pr_dt <- read_spss(file.path(DHS_DATA_PATH, dhs_pr_filename)) # person recode\n",
    "dhs_pr_dt <- setDT(dhs_pr_dt)"
   ]
  },
  {
   "cell_type": "code",
   "execution_count": null,
   "id": "9c47b679-8735-4f15-bac5-6efcf912df86",
   "metadata": {},
   "outputs": [],
   "source": [
    "# Make admin codes and names dataframe (for future merging)\n",
    "\n",
    "dhs_admin_dt <- make_dhs_admin_df(\n",
    "  input_dhs_df=dhs_hr_dt,\n",
    "  original_admin_column=\"HV024\",\n",
    "  new_admin_name_colname=admin_name_col,\n",
    "  new_admin_code_colname='DHS_ADM1_CODE'\n",
    ")\n",
    "\n",
    "# format the names to be like DHIS2 names\n",
    "dhs_admin_dt[, (admin_name_col) := format_names(get(admin_name_col))]\n",
    "\n",
    "# TODO this should be changed in the formatting of DHIS2 data; the correct name should be with a space\n",
    "dhs_admin_dt[get(admin_name_col) == \"MAI NDOMBE\", (admin_name_col) := \"MAINDOMBE\"]"
   ]
  },
  {
   "cell_type": "code",
   "execution_count": null,
   "id": "2727c88e-45fb-4011-9fe8-99b55b8313e8",
   "metadata": {},
   "outputs": [],
   "source": [
    "# Check that all regions can be matched with DHIS2 pyramid\n",
    "if(!check_perfect_match(dhs_admin_dt, admin_name_col, admin_data, admin_name_col)){\n",
    "  stop(\"The DHS data provided does not fully match DHIS2 pyramid data. Please check input data before retrying.\")\n",
    "}"
   ]
  },
  {
   "cell_type": "markdown",
   "id": "659a2a79-a563-4062-b7b4-25652e140c5c",
   "metadata": {},
   "source": [
    "### Set relevant columns"
   ]
  },
  {
   "cell_type": "code",
   "execution_count": null,
   "id": "1fe61ebf-11b1-41ee-beb5-a553fffc3015",
   "metadata": {},
   "outputs": [],
   "source": [
    "household_id_cols <- c(\"HHID\", \"HV000\", \"HV001\", \"HV002\")\n",
    "original_household_ITN_cols <- grep('HML10', names(dhs_hr_dt), value = TRUE)\n",
    "household_sampling_cols <- c(\"HV005\", \"HV021\", \"HV022\", \"HV023\", \"HV024\")\n",
    "household_inhabitants_col <- \"HV013\"\n",
    "person_slept_col <- \"HV103\"\n",
    "person_id_col <- \"HVIDX\"\n",
    "person_bednet_col <- \"HML12\""
   ]
  },
  {
   "cell_type": "markdown",
   "id": "8e71933c-df9f-413a-93eb-38f6e457ce7c",
   "metadata": {},
   "source": [
    "## Preprocess Household recode data"
   ]
  },
  {
   "cell_type": "code",
   "execution_count": null,
   "id": "72d8d33a-6163-493b-87b9-11e82eae5bf7",
   "metadata": {},
   "outputs": [],
   "source": [
    "# filter columns\n",
    "hr_dt <- dhs_hr_dt[, .SD, .SDcols=c(household_id_cols, household_sampling_cols, household_inhabitants_col, original_household_ITN_cols)]\n",
    "\n",
    "# check i didn't omit any crucial variable\n",
    "nrow(hr_dt[duplicated(hr_dt)])\n"
   ]
  },
  {
   "cell_type": "code",
   "execution_count": null,
   "id": "58bec3c3-9c58-4ae9-8939-af545160239d",
   "metadata": {},
   "outputs": [],
   "source": [
    "sapply(original_household_ITN_cols, function(i) table(hr_dt[[i]], useNA = 'always'))"
   ]
  },
  {
   "cell_type": "code",
   "execution_count": null,
   "id": "436a4f7b-b3a3-4849-8b4a-7205ffb64efd",
   "metadata": {},
   "outputs": [],
   "source": [
    "# make syntactically valid names\n",
    "setnames(hr_dt, old = names(hr_dt), new = make.names(names(hr_dt)))\n",
    "household_ITN_cols <- grep('HML10', names(hr_dt), value = TRUE)"
   ]
  },
  {
   "cell_type": "code",
   "execution_count": null,
   "id": "6508361d-f908-41fc-9a6b-ef709fcf24cd",
   "metadata": {},
   "outputs": [],
   "source": [
    "sapply(household_ITN_cols, function(i) table(hr_dt[[i]], useNA = 'always'))"
   ]
  },
  {
   "cell_type": "code",
   "execution_count": null,
   "id": "b89fdf1e-059a-4a39-be91-f7722c18824d",
   "metadata": {},
   "outputs": [],
   "source": [
    "# add admin name column\n",
    "hr_dt <- merge.data.table(dhs_admin_dt, hr_dt, by.x = \"DHS_ADM1_CODE\", by.y = \"HV024\", all = TRUE)\n",
    "\n",
    "# sapply(household_ITN_cols, function(i) table(hr_dt[[i]], useNA = 'always'))\n",
    "\n",
    "hr_dt[, (household_ITN_cols) := lapply(.SD, function(x) {\n",
    "  x <- as.integer(as.character(x))  # convert factors/characters to numeric\n",
    "  ifelse(is.na(x), 0, x)\n",
    "}), .SDcols = household_ITN_cols]\n",
    "\n",
    "# compute the maximum potential users, given the number of ITNs present in the household\n",
    "hr_dt[, max_users := 2 * rowSums(.SD, na.rm = TRUE), .SDcols = household_ITN_cols] # maximum 2 times the number of ITNs in the household\n",
    "\n",
    "# compute real potential users\n",
    "hr_dt[, potential_users := pmin(max_users, HV013, na.rm = TRUE)]\n",
    "\n",
    "# compute weights\n",
    "hr_dt[, wt := HV005/1000000]"
   ]
  },
  {
   "cell_type": "markdown",
   "id": "a17d5a0b-de6c-4e06-8567-e03a37936d65",
   "metadata": {},
   "source": [
    "## Access to ITN"
   ]
  },
  {
   "cell_type": "markdown",
   "id": "c8d3241b-3f42-44fd-9cbc-1c5d3f7d877c",
   "metadata": {},
   "source": [
    "### Preprocess person file"
   ]
  },
  {
   "cell_type": "code",
   "execution_count": null,
   "id": "6aa78b5e-f5a3-492e-8859-8757fabc6e78",
   "metadata": {},
   "outputs": [],
   "source": [
    "# filter relevant columns\n",
    "access_pr_dt <- dhs_pr_dt[, .SD, .SDcols = c(\n",
    "  household_id_cols,\n",
    "  person_id_col,\n",
    "  person_slept_col\n",
    ")]\n",
    "\n",
    "# # check no necessary column was omitted\n",
    "# nrow(access_pr_dt[duplicated(access_pr_dt)])"
   ]
  },
  {
   "cell_type": "code",
   "execution_count": null,
   "id": "9eb38a46-4c62-4ed8-b33b-e4cb9b7508b3",
   "metadata": {},
   "outputs": [],
   "source": [
    "# make denominator: group and sum, removing NAs\n",
    "access_pr_dt <- access_pr_dt[, .(total_slept = sum(get(person_slept_col), na.rm = TRUE)), by = household_id_cols]"
   ]
  },
  {
   "cell_type": "markdown",
   "id": "149e766d-0863-4c74-b12e-26727e940a8c",
   "metadata": {},
   "source": [
    "### Join with household file"
   ]
  },
  {
   "cell_type": "code",
   "execution_count": null,
   "id": "af6a7e45-18b1-4fbf-af8b-c57886920780",
   "metadata": {},
   "outputs": [],
   "source": [
    "# check merge with household file\n",
    "check_perfect_match(hr_dt, 'HHID', access_pr_dt, 'HHID')\n",
    "\n",
    "# lapply(household_id_cols, function(i) check_perfect_match(hr_dt, i, access_pr_dt, i))\n",
    "if(!all(unlist((lapply(household_id_cols, function(i) check_perfect_match(hr_dt, i, access_pr_dt, i)))))){\n",
    "  print('Person and Household data does not match')\n",
    "}"
   ]
  },
  {
   "cell_type": "code",
   "execution_count": null,
   "id": "02c1997c-f5c6-4eee-b889-a8c8cc81dd0f",
   "metadata": {},
   "outputs": [],
   "source": [
    "access_dt <- merge.data.table(hr_dt, access_pr_dt, by = household_id_cols, all = TRUE)\n",
    "\n",
    "# filter rows\n",
    "access_dt <- access_dt[total_slept > 0] # to not divide by 0 (only households where someone slept last night)"
   ]
  },
  {
   "cell_type": "markdown",
   "id": "50e7c498-1141-46a4-b4fc-b5c4617fb956",
   "metadata": {},
   "source": [
    "DHS guidelines for the calculation of “potential users”: \"In households which have more than 1 ITN for every 2 people, the product of this calculation will be greater than the number of individuals who spent the previous night. In this case, the “potential users” variable in that household should be modified to reflect the number of individuals who spent the previous night in the household because the number of potential users in a household cannot exceed the number of individuals who spent the previous night in that household.\""
   ]
  },
  {
   "cell_type": "code",
   "execution_count": null,
   "id": "9b20ff38-d658-43c8-83d5-5357bc7a293a",
   "metadata": {},
   "outputs": [],
   "source": [
    "access_dt[, foo := fifelse(\n",
    "    potential_users > total_slept,\n",
    "    total_slept,\n",
    "    potential_users\n",
    ")]"
   ]
  },
  {
   "cell_type": "markdown",
   "id": "fddd66b0-c351-4aa4-bdaa-47542fbdee9d",
   "metadata": {},
   "source": [
    "### Compute ITN access indicator"
   ]
  },
  {
   "cell_type": "code",
   "execution_count": null,
   "id": "caa18abf-6589-4846-a705-897ce3943692",
   "metadata": {},
   "outputs": [],
   "source": [
    "access_dt[, (indicator_access) :=  potential_users / total_slept]"
   ]
  },
  {
   "cell_type": "code",
   "execution_count": null,
   "id": "0ff9c48c-1c35-4e14-a4bf-417040e9e4f7",
   "metadata": {},
   "outputs": [],
   "source": [
    "summary(access_dt[[indicator_access]])"
   ]
  },
  {
   "cell_type": "markdown",
   "id": "9c53f039-299a-4c02-a728-77a77d088472",
   "metadata": {},
   "source": [
    "#### Account for the sampling strategy"
   ]
  },
  {
   "cell_type": "code",
   "execution_count": null,
   "id": "9df627ce-0424-4341-9fcd-b1f13cd769b6",
   "metadata": {},
   "outputs": [],
   "source": [
    "# clustering, stratification, weights (for means, proportions, regression models, etc.)\n",
    "access_design_sampling = svydesign(\n",
    "  ids = ~ HV021, # primary sampling unit / cluster ids (cluster number and/or ultimate area unit)\n",
    "  data = access_dt, # dataset\n",
    "  strata = ~ HV023, # groupings of primary sampling units\n",
    "  weights = ~ wt, # the sampling weights variable\n",
    "  num_p=1, # ? dunno what this is\n",
    "  nest = T # the primary sampling units are nested within the strata\n",
    ")"
   ]
  },
  {
   "cell_type": "code",
   "execution_count": null,
   "id": "f699992f-e931-4657-abf3-7a2e13a89dbf",
   "metadata": {},
   "outputs": [],
   "source": [
    "bednet_access_table <- svyby(formula = as.formula(paste(\"~\", indicator_access)),\n",
    "                           # by = ~ ADM1,\n",
    "                           by = reformulate(admin_name_col),\n",
    "                           FUN = svymean,\n",
    "                           design = access_design_sampling,\n",
    "                           level = 0.95,\n",
    "                           vartype = \"ci\",\n",
    "                           na.rm = TRUE,\n",
    "                           influence = TRUE)"
   ]
  },
  {
   "cell_type": "code",
   "execution_count": null,
   "id": "bfc79978-0f59-444b-a8f1-3420864489b1",
   "metadata": {},
   "outputs": [],
   "source": [
    "setDT(bednet_access_table)"
   ]
  },
  {
   "cell_type": "code",
   "execution_count": null,
   "id": "4e71c083-0b67-43db-8f0b-eda14d8a2be3",
   "metadata": {},
   "outputs": [],
   "source": [
    "lower_bound_col <- glue(\"{toupper(indicator_access)}_CI_LOWER_BOUND\")\n",
    "upper_bound_col <- glue(\"{toupper(indicator_access)}_CI_UPPER_BOUND\")\n",
    "sample_avg_col <- glue(\"{toupper(indicator_access)}_SAMPLE_AVERAGE\")"
   ]
  },
  {
   "cell_type": "code",
   "execution_count": null,
   "id": "0c92b8b6-d343-4a69-b508-ae23ebbae48b",
   "metadata": {},
   "outputs": [],
   "source": [
    "# names(bednet_access_table) <- toupper(names(bednet_access_table))\n",
    "names(bednet_access_table)[names(bednet_access_table) == 'ci_l'] <- lower_bound_col\n",
    "names(bednet_access_table)[names(bednet_access_table) == 'ci_u'] <- upper_bound_col\n",
    "names(bednet_access_table)[names(bednet_access_table) == indicator_access] <- sample_avg_col"
   ]
  },
  {
   "cell_type": "code",
   "execution_count": null,
   "id": "98542095-2e06-4860-b038-c7eeceeb6265",
   "metadata": {},
   "outputs": [],
   "source": [
    "# Cap the CI's between 0 and 1 (in case of small sample => large CI's)\n",
    "bednet_access_table[get(lower_bound_col) < 0, (lower_bound_col) := 0]\n",
    "bednet_access_table[get(upper_bound_col) > 1, (upper_bound_col) := 1]"
   ]
  },
  {
   "cell_type": "code",
   "execution_count": null,
   "id": "75e920e5-3715-4971-bc6c-62291dc59fc5",
   "metadata": {},
   "outputs": [],
   "source": [
    "# Convert to percentages\n",
    "bednet_access_table[, (lower_bound_col) := get(lower_bound_col) * 100]\n",
    "bednet_access_table[, (upper_bound_col) := get(upper_bound_col) * 100]\n",
    "bednet_access_table[, (sample_avg_col) := get(sample_avg_col) * 100]"
   ]
  },
  {
   "cell_type": "code",
   "execution_count": null,
   "id": "67cb29d2-ee18-4d28-9c72-e253f8dcb5b6",
   "metadata": {},
   "outputs": [],
   "source": [
    "bednet_access_table <- merge.data.table(admin_data, bednet_access_table, by = admin_name_col, all = TRUE)"
   ]
  },
  {
   "cell_type": "code",
   "execution_count": null,
   "id": "54935f07-b254-458d-b1fb-8c7a921b5bd9",
   "metadata": {},
   "outputs": [],
   "source": [
    "head(bednet_access_table)"
   ]
  },
  {
   "cell_type": "code",
   "execution_count": null,
   "id": "85c1bf55-39d6-4c70-88bf-46542f158b0c",
   "metadata": {},
   "outputs": [],
   "source": [
    "filename_without_extension <- glue(\"{COUNTRY_CODE}_{data_source}_{admin_level}_{toupper(indicator_access)}\")\n",
    "write.csv(bednet_access_table, file = file.path(OUTPUT_DATA_PATH, paste0(filename_without_extension, '.csv')), row.names = FALSE)\n",
    "write_parquet(bednet_access_table, file.path(OUTPUT_DATA_PATH, paste0(filename_without_extension, '.parquet')))"
   ]
  },
  {
   "cell_type": "markdown",
   "id": "484e0a38-8c37-4213-a750-babfaf9107bc",
   "metadata": {},
   "source": [
    "## ITN use"
   ]
  },
  {
   "cell_type": "markdown",
   "id": "1ebdff14-edbd-4fd5-85f5-230b1e27adb7",
   "metadata": {},
   "source": [
    "### Preprocess person file"
   ]
  },
  {
   "cell_type": "code",
   "execution_count": null,
   "id": "7a3536b2-6fc4-412f-91bc-21466b688e59",
   "metadata": {},
   "outputs": [],
   "source": [
    "# filter columns\n",
    "use_pr_dt <- dhs_pr_dt[, .SD, .SDcols=c(household_id_cols, person_id_col, person_slept_col, person_bednet_col)]\n",
    "\n",
    "# check no necessary column was omitted\n",
    "nrow(use_pr_dt[duplicated(use_pr_dt)])\n",
    "\n",
    "# # for(i in person_slept_col){print(table(access_pr_dt[[i]]))}\n",
    "# sapply(person_bednet_col, function(i) table(use_pr_dt[[i]], useNA = 'always'))"
   ]
  },
  {
   "cell_type": "markdown",
   "id": "a303e6ec-a3ac-4a20-8f3b-40a06d8067e3",
   "metadata": {},
   "source": [
    "The DHS guide ( https://dhsprogram.com/data/Guide-to-DHS-Statistics/index.htm#t=Use_of_Mosquito_Nets_by_Persons_in_the_Household.htm ) suggests to use both 1 & 2 as possible values for HML12; but 2 is \"Both treated (ITN) and untreated nets\"; using as specified in the guide, but to be kept in mind"
   ]
  },
  {
   "cell_type": "code",
   "execution_count": null,
   "id": "35211f4e-e84d-4fbc-be01-577912300d29",
   "metadata": {},
   "outputs": [],
   "source": [
    "# # group and sum, removing NAs and keeping only 1 as valid value\n",
    "# use_pr_dt <- use_pr_dt[, slept_itn := as.integer(\n",
    "#   get(person_slept_col) == 1 & (get(person_bednet_col) == 1)\n",
    "# )]"
   ]
  },
  {
   "cell_type": "code",
   "execution_count": null,
   "id": "132e025d-a699-4c0c-a20d-d4f7503811a6",
   "metadata": {},
   "outputs": [],
   "source": [
    "# group and sum, removing NAs\n",
    "use_pr_dt <- use_pr_dt[, slept_itn := as.integer(\n",
    "  get(person_slept_col) == 1 & (get(person_bednet_col) %in% c(1, 2))\n",
    ")]\n",
    "\n",
    "# check recodings are correct\n",
    "xtabs(~ get(person_slept_col) + get(person_bednet_col) + slept_itn, data = use_pr_dt, addNA = TRUE)"
   ]
  },
  {
   "cell_type": "code",
   "execution_count": null,
   "id": "3c883b64-605c-4825-b16f-5d4b2f6febf9",
   "metadata": {},
   "outputs": [],
   "source": [
    "use_pr_dt <- use_pr_dt[, .(\n",
    "  total_slept = sum(get(person_slept_col), na.rm = TRUE),\n",
    "  total_slept_itn = sum(get(\"slept_itn\"), na.rm = TRUE)\n",
    "), by = household_id_cols\n",
    "]\n",
    "\n",
    "use_pr_dt[, (indicator_use) := total_slept_itn / total_slept]"
   ]
  },
  {
   "cell_type": "markdown",
   "id": "ab6ac712-21d4-478b-9f48-fe9d39c4ffc5",
   "metadata": {},
   "source": [
    "### Join with household file"
   ]
  },
  {
   "cell_type": "code",
   "execution_count": null,
   "id": "e164f7b2-26c4-4357-8b1d-5acad2de6e54",
   "metadata": {},
   "outputs": [],
   "source": [
    "use_dt <- merge.data.table(hr_dt, use_pr_dt, by = household_id_cols)"
   ]
  },
  {
   "cell_type": "markdown",
   "id": "16738a93-d779-4671-9d4a-790e08860f6d",
   "metadata": {},
   "source": [
    "### Compute ITN use indicator"
   ]
  },
  {
   "cell_type": "markdown",
   "id": "500726f9-5091-45f7-b164-1ab50c362587",
   "metadata": {},
   "source": [
    "#### Account for sampling strategy"
   ]
  },
  {
   "cell_type": "code",
   "execution_count": null,
   "id": "12f19a36-722c-47a1-8183-7022e9674ade",
   "metadata": {},
   "outputs": [],
   "source": [
    "use_design_sampling = svydesign(\n",
    "  ids = ~ HV021, # primary sampling unit / cluster ids (cluster number and/or ultimate area unit)\n",
    "  data = use_dt, # dataset\n",
    "  strata = ~ HV023, # groupings of primary sampling units\n",
    "  weights = ~ wt, # the sampling weights variable\n",
    "  num_p=1, # ? dunno what this is\n",
    "  nest = T # the primary sampling units are nested within the strata\n",
    ")"
   ]
  },
  {
   "cell_type": "code",
   "execution_count": null,
   "id": "95ca0478-3d3a-42b6-85df-41e6e1fe19fa",
   "metadata": {},
   "outputs": [],
   "source": [
    "bednet_use_table <- svyby(formula = as.formula(paste(\"~\", indicator_use)),\n",
    "                          # by = ~ ADM1,\n",
    "                          by = reformulate(admin_name_col),\n",
    "                          FUN = svymean,\n",
    "                          design = use_design_sampling,\n",
    "                          level = 0.95,\n",
    "                          vartype = \"ci\",\n",
    "                          na.rm = TRUE,\n",
    "                          influence = TRUE)"
   ]
  },
  {
   "cell_type": "code",
   "execution_count": null,
   "id": "4a571c0d-2a47-423c-b716-a46589f7f41f",
   "metadata": {},
   "outputs": [],
   "source": [
    "setDT(bednet_use_table)"
   ]
  },
  {
   "cell_type": "code",
   "execution_count": null,
   "id": "79b8ae99-1fb9-4611-b17d-4f5c98e3d9e3",
   "metadata": {},
   "outputs": [],
   "source": [
    "lower_bound_col <- glue(\"{toupper(indicator_use)}_CI_LOWER_BOUND\")\n",
    "upper_bound_col <- glue(\"{toupper(indicator_use)}_CI_UPPER_BOUND\")\n",
    "sample_avg_col <- glue(\"{toupper(indicator_use)}_SAMPLE_AVERAGE\")\n",
    "\n",
    "names(bednet_use_table)[names(bednet_use_table) == 'ci_l'] <- lower_bound_col\n",
    "names(bednet_use_table)[names(bednet_use_table) == 'ci_u'] <- upper_bound_col\n",
    "names(bednet_use_table)[names(bednet_use_table) == indicator_use] <- sample_avg_col"
   ]
  },
  {
   "cell_type": "code",
   "execution_count": null,
   "id": "3bb41a0b-a67f-4710-9749-498d433ee270",
   "metadata": {},
   "outputs": [],
   "source": [
    "# Cap the CI's between 0 and 1 (in case of small sample => large CI's)\n",
    "bednet_use_table[get(lower_bound_col) < 0, (lower_bound_col) := 0]\n",
    "bednet_use_table[get(upper_bound_col) > 1, (upper_bound_col) := 1]"
   ]
  },
  {
   "cell_type": "code",
   "execution_count": null,
   "id": "8a6d7558-378a-4d85-a2d2-6916e227ff19",
   "metadata": {},
   "outputs": [],
   "source": [
    "# Convert to percentages\n",
    "bednet_use_table[, (lower_bound_col) := get(lower_bound_col) * 100]\n",
    "bednet_use_table[, (upper_bound_col) := get(upper_bound_col) * 100]\n",
    "bednet_use_table[, (sample_avg_col) := get(sample_avg_col) * 100]"
   ]
  },
  {
   "cell_type": "code",
   "execution_count": null,
   "id": "9b886265-bca7-492c-b216-15209da1d515",
   "metadata": {},
   "outputs": [],
   "source": [
    "bednet_use_table <- merge.data.table(admin_data, bednet_use_table, by = admin_name_col, all = TRUE)"
   ]
  },
  {
   "cell_type": "code",
   "execution_count": null,
   "id": "47e8ec4b-b90d-434f-b6a5-5962d43451e5",
   "metadata": {},
   "outputs": [],
   "source": [
    "filename_without_extension <- glue(\"{COUNTRY_CODE}_{data_source}_{admin_level}_{indicator_use}\")\n",
    "write.csv(bednet_use_table, file = file.path(OUTPUT_DATA_PATH, paste0(filename_without_extension, '.csv')), row.names = FALSE)\n",
    "write_parquet(bednet_use_table, file.path(OUTPUT_DATA_PATH, paste0(filename_without_extension, '.parquet')))"
   ]
  },
  {
   "cell_type": "code",
   "execution_count": null,
   "id": "b0aec24e-9feb-4a7a-a491-be7f44617ac0",
   "metadata": {},
   "outputs": [],
   "source": []
  }
 ],
 "metadata": {
  "kernelspec": {
   "display_name": "R",
   "language": "R",
   "name": "ir"
  },
  "language_info": {
   "codemirror_mode": "r",
   "file_extension": ".r",
   "mimetype": "text/x-r-source",
   "name": "R",
   "pygments_lexer": "r",
   "version": "4.4.3"
  }
 },
 "nbformat": 4,
 "nbformat_minor": 5
}
