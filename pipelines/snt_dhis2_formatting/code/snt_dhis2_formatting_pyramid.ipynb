{
 "cells": [
  {
   "cell_type": "markdown",
   "id": "96eee97c-fda4-4827-8111-c438cabed82e",
   "metadata": {},
   "source": [
    "## Setup start "
   ]
  },
  {
   "cell_type": "code",
   "execution_count": null,
   "id": "e1156ab5-2dc6-4bfb-8d7a-ac594c40ecf8",
   "metadata": {},
   "outputs": [],
   "source": [
    "# Parameters\n",
    "\n",
    "SNT_ROOT_PATH   <- '~/workspace'   # SNT root"
   ]
  },
  {
   "cell_type": "code",
   "execution_count": null,
   "id": "687392e7-fe6c-4355-9f4d-6718b467a33d",
   "metadata": {},
   "outputs": [],
   "source": [
    "# Set project folders\n",
    "CODE_PATH      <- file.path(SNT_ROOT_PATH, \"code\")\n",
    "CONFIG_PATH    <- file.path(SNT_ROOT_PATH, \"configuration\")\n",
    "FORMATTED_DATA_PATH <- file.path(SNT_ROOT_PATH, \"data\", \"dhis2\", \"extracts_formatted\")"
   ]
  },
  {
   "cell_type": "markdown",
   "id": "7a31fc88-3fa9-4a65-b61a-dc1564aecc22",
   "metadata": {},
   "source": [
    "**Load functions**"
   ]
  },
  {
   "cell_type": "code",
   "execution_count": null,
   "id": "340a8095-ee83-4277-84cd-60c0c626b947",
   "metadata": {},
   "outputs": [],
   "source": [
    "source(file.path(CODE_PATH, \"snt_utils.r\"))\n",
    "# source(file.path(CODE_PATH, \"snt_functions.r\"))"
   ]
  },
  {
   "cell_type": "markdown",
   "id": "1188d74a-0d28-48c7-a72e-3c1933b87cf4",
   "metadata": {},
   "source": [
    "**Check and load required libraries**  "
   ]
  },
  {
   "cell_type": "code",
   "execution_count": null,
   "id": "715c8d64-aaa0-43e6-b398-59abfb564bae",
   "metadata": {},
   "outputs": [],
   "source": [
    "# List required pcks  ---------------->  check  what are the really required libraries\n",
    "required_packages <- c(\"lubridate\", \"zoo\", \"arrow\", \"dplyr\", \"tidyr\", \"stringr\", \"stringi\", \"jsonlite\", \"httr\", \"reticulate\")\n",
    "\n",
    "# Execute function\n",
    "install_and_load(required_packages)"
   ]
  },
  {
   "cell_type": "code",
   "execution_count": null,
   "id": "d1cf7e13-3be0-44fa-99ea-3e3520da1229",
   "metadata": {},
   "outputs": [],
   "source": [
    "# Set environment to load openhexa.sdk from the right environment\n",
    "Sys.setenv(RETICULATE_PYTHON = \"/opt/conda/bin/python\")"
   ]
  },
  {
   "cell_type": "code",
   "execution_count": null,
   "id": "8ebb3963-f871-4571-b829-c515395f0f9d",
   "metadata": {},
   "outputs": [],
   "source": [
    "# Load openhexa.sdk \n",
    "reticulate::py_config()$python\n",
    "openhexa <- import(\"openhexa.sdk\")"
   ]
  },
  {
   "cell_type": "markdown",
   "id": "21c802bd-506b-4e60-bd06-b715a5c197ee",
   "metadata": {},
   "source": [
    "### Load SNT configuration\n"
   ]
  },
  {
   "cell_type": "code",
   "execution_count": null,
   "id": "10580e48-ccb5-49df-933d-3cdbc480a402",
   "metadata": {},
   "outputs": [],
   "source": [
    "# Load SNT config\n",
    "config_json <- tryCatch({\n",
    "        fromJSON(file.path(CONFIG_PATH, \"SNT_config.json\"))\n",
    "    },\n",
    "    error = function(e) {\n",
    "        msg <- paste0(\"Error while loading configuration\", conditionMessage(e))  \n",
    "        cat(msg)   \n",
    "        stop(msg) \n",
    "    })\n",
    "\n",
    "# print(config.json$SNT_CONFIG)\n",
    "msg <- paste0(\"SNT configuration loaded from  : \", file.path(CONFIG_PATH, \"SNT_config.json\"))\n",
    "log_msg(msg)"
   ]
  },
  {
   "cell_type": "markdown",
   "id": "f9d3da29-c02b-44ca-b6ee-a00b990c480a",
   "metadata": {},
   "source": [
    "**Checks for SNT mandatory configuration fields**"
   ]
  },
  {
   "cell_type": "code",
   "execution_count": null,
   "id": "590aa36d-74e0-4616-b60e-628e26201c52",
   "metadata": {},
   "outputs": [],
   "source": [
    "# CHECK SNT configuration \n",
    "snt_config_mandatory <- c(\"COUNTRY_CODE\", \"DHIS2_ADMINISTRATION_1\", \"DHIS2_ADMINISTRATION_2\") #, \"ORG_UNITS_LEVELS_SELECTION\")\n",
    "for (conf in snt_config_mandatory) {\n",
    "    print(paste(conf, \":\", config_json$SNT_CONFIG[conf]))\n",
    "    if (is.null(config_json$SNT_CONFIG[[conf]])) {\n",
    "        msg <- paste(\"Missing configuration input:\", conf)\n",
    "        cat(msg)   \n",
    "        stop(msg)\n",
    "    }\n",
    "}\n",
    "\n",
    "# Save this country code in a variable\n",
    "COUNTRY_CODE <- config_json$SNT_CONFIG$COUNTRY_CODE\n",
    "ADMIN_2 <- toupper(config_json$SNT_CONFIG$DHIS2_ADMINISTRATION_2)"
   ]
  },
  {
   "cell_type": "markdown",
   "id": "0b8083d8-ba7f-49d9-865b-ada38c51b6b2",
   "metadata": {},
   "source": [
    "### Load DHIS2 pyramid data"
   ]
  },
  {
   "cell_type": "markdown",
   "id": "77af1690-79c4-4ad4-92c3-47a5dd119906",
   "metadata": {},
   "source": [
    "-Load DHIS2 pyramid from latest dataset version \n"
   ]
  },
  {
   "cell_type": "code",
   "execution_count": null,
   "id": "82d0d5e9-2cc5-4101-9ea6-59aafdcf5b81",
   "metadata": {},
   "outputs": [],
   "source": [
    "# DHIS2 Dataset extract identifier\n",
    "dataset_name <- config_json$SNT_DATASET_IDENTIFIERS$DHIS2_DATASET_EXTRACTS\n",
    "\n",
    "# Load file from dataset\n",
    "dhis2_data <- tryCatch({ get_latest_dataset_file_in_memory(dataset_name, paste0(COUNTRY_CODE, \"_dhis2_raw_pyramid.parquet\")) },\n",
    "                  error = function(e) {\n",
    "                      msg <- paste(\"Error while loading DHIS2 pyramid file for: \" , COUNTRY_CODE, conditionMessage(e))  # log error message\n",
    "                      cat(msg)\n",
    "                      stop(msg)\n",
    "})\n",
    "\n",
    "msg <- paste0(\"DHIS2 pyramid data loaded from dataset : \", dataset_name, \" dataframe dimensions: \", paste(dim(dhis2_data), collapse=\", \"))\n",
    "log_msg(msg)"
   ]
  },
  {
   "cell_type": "code",
   "execution_count": null,
   "id": "9bcb5c3e-821d-4680-a5bc-a810092a5fea",
   "metadata": {},
   "outputs": [],
   "source": [
    "head(dhis2_data, 3)"
   ]
  },
  {
   "cell_type": "markdown",
   "id": "0d351974-c1c5-4971-97c8-f0122ca9e803",
   "metadata": {},
   "source": [
    "## SNT pyramid formatting"
   ]
  },
  {
   "cell_type": "code",
   "execution_count": null,
   "id": "a076591f-b6df-49cb-8874-627b61a03356",
   "metadata": {},
   "outputs": [],
   "source": [
    "# Set value\n",
    "pyramid_data <- dhis2_data\n",
    "\n",
    "# remove columns with only NA values values\n",
    "pyramid_data <- pyramid_data[, colSums(!is.na(dhis2_data)) > 0]\n",
    "\n",
    "name_columns <- colnames(pyramid_data)[grepl(\"_NAME\", colnames(pyramid_data))]\n",
    "for (column in name_columns){\n",
    "    print(paste0(\"Format : \", column))\n",
    "    # Clean strings \n",
    "    pyramid_data[[column]] <- format_names(pyramid_data[[column]])     \n",
    "}\n",
    "  \n",
    "# Column names to upper case\n",
    "colnames(pyramid_data) <- clean_column_names(pyramid_data)"
   ]
  },
  {
   "cell_type": "code",
   "execution_count": null,
   "id": "e317f34a-e576-4ac3-ba76-e1a77d75db8f",
   "metadata": {},
   "outputs": [],
   "source": [
    "# Select columns to keep (in case we need until level of adm2)\n",
    "# admin_col_selection <- c()\n",
    "# for (i in 1:as.numeric(str_extract(ADMIN_2, \"\\\\d+\"))) {\n",
    "#   admin_col_selection <-  c(admin_col_selection, paste0(\"LEVEL_\", i, \"_ID\"), paste0(\"LEVEL_\", i, \"_NAME\"))\n",
    "# }\n",
    "# print(admin_col_selection)\n",
    "\n",
    "# pyramid_data <- pyramid_data[ , admin_col_selection]\n",
    "# pyramid_data <- pyramid_data[!duplicated(pyramid_data), ]\n",
    "# head(pyramid_data)"
   ]
  },
  {
   "cell_type": "code",
   "execution_count": null,
   "id": "47254d72-e906-4cdd-b97a-7b4622df9f82",
   "metadata": {},
   "outputs": [],
   "source": [
    "head(pyramid_data, 3)"
   ]
  },
  {
   "cell_type": "markdown",
   "id": "fe0a05ec-4d9c-4847-914d-cca1646862af",
   "metadata": {},
   "source": [
    "### Extract longitude/latitude from geometry column (geoJson)"
   ]
  },
  {
   "cell_type": "code",
   "execution_count": null,
   "id": "5d7b6a6a-146e-4957-b374-462cc17a98b4",
   "metadata": {},
   "outputs": [],
   "source": [
    "# convert \n",
    "pyramid_data <- pyramid_data %>%\n",
    "  rowwise() %>%\n",
    "  mutate(\n",
    "    parsed = list(if (!is.na(GEOMETRY)) fromJSON(GEOMETRY) else NULL),\n",
    "    LONGITUDE = if (!is.null(parsed)) parsed$coordinates[1] else NA_real_,\n",
    "    LATITUDE  = if (!is.null(parsed)) parsed$coordinates[2] else NA_real_\n",
    "  ) %>%\n",
    "  ungroup() %>%\n",
    "  select(-parsed, -GEOMETRY)\n",
    "\n",
    "head(pyramid_data, 3)    "
   ]
  },
  {
   "cell_type": "markdown",
   "id": "853b9f8c-01a0-41de-9b6b-3a506f1a36e4",
   "metadata": {},
   "source": [
    "### Output formatted pyramid data"
   ]
  },
  {
   "cell_type": "code",
   "execution_count": null,
   "id": "a821d0f9-f572-4945-9d67-ab699f7dda06",
   "metadata": {},
   "outputs": [],
   "source": [
    "out_msg <- paste0(\"Pyramid data saved under: \", file.path(FORMATTED_DATA_PATH, paste0(COUNTRY_CODE, \"_pyramid.parquet\")))\n",
    "\n",
    "# write parquet file\n",
    "write_parquet(pyramid_data, file.path(FORMATTED_DATA_PATH, paste0(COUNTRY_CODE, \"_pyramid.parquet\")))\n",
    "\n",
    "# write csv file\n",
    "write.csv(pyramid_data, file.path(FORMATTED_DATA_PATH, paste0(COUNTRY_CODE, \"_pyramid.csv\")), row.names = FALSE)"
   ]
  },
  {
   "cell_type": "code",
   "execution_count": null,
   "id": "6555bb86-4353-45ee-9464-daecd8833c31",
   "metadata": {},
   "outputs": [],
   "source": [
    "# log\n",
    "log_msg(out_msg)"
   ]
  },
  {
   "cell_type": "markdown",
   "id": "07ce08f0-526e-48e9-a72d-16aafc1f40b8",
   "metadata": {},
   "source": [
    "### Data Summary "
   ]
  },
  {
   "cell_type": "code",
   "execution_count": null,
   "id": "cbaa160c-04e4-4b9c-95e4-b320a358ce40",
   "metadata": {},
   "outputs": [],
   "source": [
    "# Data summary\n",
    "print(summary(pyramid_data))"
   ]
  },
  {
   "cell_type": "code",
   "execution_count": null,
   "id": "f592a7ea-40dc-473e-bf30-00298f08fbc0",
   "metadata": {},
   "outputs": [],
   "source": []
  }
 ],
 "metadata": {
  "kernelspec": {
   "display_name": "R",
   "language": "R",
   "name": "ir"
  },
  "language_info": {
   "codemirror_mode": "r",
   "file_extension": ".r",
   "mimetype": "text/x-r-source",
   "name": "R",
   "pygments_lexer": "r",
   "version": "4.4.3"
  }
 },
 "nbformat": 4,
 "nbformat_minor": 5
}
