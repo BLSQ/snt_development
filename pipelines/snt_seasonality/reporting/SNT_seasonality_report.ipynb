{
 "cells": [
  {
   "cell_type": "markdown",
   "id": "93daedcc-9748-41cf-baf4-72e25d252883",
   "metadata": {},
   "source": [
    "# **Saisonnalité et durée de la saisonnalité**"
   ]
  },
  {
   "cell_type": "markdown",
   "id": "7f82c0f3-9078-4ae6-bdc4-bd7379bb6f02",
   "metadata": {},
   "source": [
    "## Configuration"
   ]
  },
  {
   "cell_type": "code",
   "execution_count": null,
   "id": "4cf5debf-e938-45de-94dd-af2af29a03ec",
   "metadata": {},
   "outputs": [],
   "source": [
    "# Set SNT Paths\n",
    "SNT_ROOT_PATH  <- \"~/workspace\"\n",
    "CODE_PATH      <- file.path(SNT_ROOT_PATH, \"code\")\n",
    "CONFIG_PATH    <- file.path(SNT_ROOT_PATH, \"configuration\")\n",
    "\n",
    "# load util functions\n",
    "source(file.path(CODE_PATH, \"snt_utils.r\"))\n",
    "\n",
    "# List required packages \n",
    "required_packages <- c(\"dplyr\", \"tidyr\", \"terra\", \"ggplot2\", \"stringr\", \"lubridate\", \"viridis\", \"patchwork\", \"zoo\", \"purrr\", \"arrow\", \"sf\", \"reticulate\", \"leaflet\")\n",
    "\n",
    "# Execute function\n",
    "install_and_load(required_packages)\n",
    "\n",
    "# Set environment to load openhexa.sdk from the right environment\n",
    "Sys.setenv(RETICULATE_PYTHON = \"/opt/conda/bin/python\")\n",
    "reticulate::py_config()$python\n",
    "openhexa <- import(\"openhexa.sdk\")\n",
    "\n",
    "# Load SNT config\n",
    "config_json <- tryCatch({ jsonlite::fromJSON(file.path(CONFIG_PATH, \"SNT_config.json\"))},\n",
    "    error = function(e) {\n",
    "        msg <- paste0(\"Error while loading configuration\", conditionMessage(e))  \n",
    "        cat(msg)   \n",
    "        stop(msg) \n",
    "    })\n",
    "\n",
    "# Required environment for the sf packages\n",
    "Sys.setenv(PROJ_LIB = \"/opt/conda/share/proj\")\n",
    "Sys.setenv(GDAL_DATA = \"/opt/conda/share/gdal\")"
   ]
  },
  {
   "cell_type": "code",
   "execution_count": null,
   "id": "03ce0b67-63f3-4b5e-96df-9ecf6bebbc90",
   "metadata": {},
   "outputs": [],
   "source": [
    "# Configuration variables\n",
    "DATASET_NAME <- config_json$SNT_DATASET_IDENTIFIERS$SNT_SEASONALITY\n",
    "COUNTRY_CODE <- config_json$SNT_CONFIG$COUNTRY_CODE\n",
    "ADM_2 <- toupper(config_json$SNT_CONFIG$DHIS2_ADMINISTRATION_2)"
   ]
  },
  {
   "cell_type": "code",
   "execution_count": null,
   "id": "168a4457-a518-4071-a2c6-ad4ece0fe049",
   "metadata": {},
   "outputs": [],
   "source": [
    "# print function\n",
    "printdim <- function(df, name = deparse(substitute(df))) {\n",
    "  cat(\"Dimensions of\", name, \":\", nrow(df), \"rows x\", ncol(df), \"columns\\n\\n\")\n",
    "}"
   ]
  },
  {
   "cell_type": "markdown",
   "id": "679817ca-ce7c-4d36-adcb-bc6ac8d24ec8",
   "metadata": {},
   "source": [
    "## Saisonnalité estimée sur la base des données pluviométriques"
   ]
  },
  {
   "cell_type": "code",
   "execution_count": null,
   "id": "9b6a6906-00f9-4811-aa4a-a452ab92280a",
   "metadata": {},
   "outputs": [],
   "source": [
    "# import seasonality data\n",
    "seasonality_data <- tryCatch({ get_latest_dataset_file_in_memory(DATASET_NAME, paste0(COUNTRY_CODE, \"_precipitation_seasonality.parquet\")) }, \n",
    "                  error = function(e) {\n",
    "                      msg <- paste(\"Error while loading seasonality file for: \" , COUNTRY_CODE, conditionMessage(e))\n",
    "                      cat(msg)\n",
    "                      stop(msg)\n",
    "                      })\n",
    "# import DHIS2 shapes data\n",
    "DATASET_DHIS2 <- config_json$SNT_DATASET_IDENTIFIERS$DHIS2_DATASET_FORMATTED\n",
    "shapes_data <- tryCatch({ get_latest_dataset_file_in_memory(DATASET_DHIS2, paste0(COUNTRY_CODE, \"_shapes.geojson\")) }, \n",
    "                  error = function(e) {\n",
    "                      msg <- paste(\"Error while loading DHIS2 Shapes data for: \" , COUNTRY_CODE, conditionMessage(e))\n",
    "                      cat(msg)\n",
    "                      stop(msg)\n",
    "                      })\n",
    "\n",
    "printdim(seasonality_data)\n",
    "head(seasonality_data)"
   ]
  },
  {
   "cell_type": "code",
   "execution_count": null,
   "id": "1d4f259f-c5b3-4660-a5f2-41d06394f11e",
   "metadata": {},
   "outputs": [],
   "source": [
    "# merge polygon file with seasonality dataset\n",
    "seasonality_data <- shapes_data %>%\n",
    "  left_join(seasonality_data, by = c(\"ADM2_ID\" = \"ADM2_ID\"))  # or by ADM2_NAME"
   ]
  },
  {
   "cell_type": "markdown",
   "id": "67a93ac2-c819-460c-b0d1-1d453e7545de",
   "metadata": {},
   "source": [
    "## Create plots"
   ]
  },
  {
   "cell_type": "code",
   "execution_count": null,
   "id": "36a8d811-ad6b-45ec-a287-9c3ca7f3ce4d",
   "metadata": {},
   "outputs": [],
   "source": [
    "# --- Prepare data ---\n",
    "seasonality_data <- seasonality_data %>%\n",
    "  mutate(\n",
    "    DUREE_CATEGORIE = as.factor(SEASONAL_BLOCK_DURATION_PRECIPITATION),\n",
    "    SAISONNALITE = ifelse(SEASONALITY_PRECIPITATION == 1, \"Saisonnier\", \"Non saisonnier\")\n",
    "  )\n",
    "\n",
    "# --- Map 1: Présence de la saisonnalité ---\n",
    "p1 <- ggplot(seasonality_data) +\n",
    "  geom_sf(aes(fill = SAISONNALITE), color = \"white\") +\n",
    "  scale_fill_manual(values = c(\"Saisonnier\" = \"darkgreen\")) +\n",
    "  labs(title = \"Présence de la saisonnalité\", fill = \"Saisonnalité\") +\n",
    "  theme_minimal(base_size = 16) +\n",
    "  theme(\n",
    "    plot.title = element_text(size = 20, face = \"bold\"),\n",
    "    legend.position = \"bottom\"\n",
    "  )\n",
    "\n",
    "# --- Map 2: Durée de la saisonnalité (catégories) ---\n",
    "p2 <- ggplot(seasonality_data) +\n",
    "  geom_sf(aes(fill = DUREE_CATEGORIE), color = \"white\") +\n",
    "  scale_fill_manual(\n",
    "    values = c(\"3\" = \"#2b83ba\", \"4\" = \"#abdda4\", \"5\" = \"#fdae61\"),\n",
    "    name = \"Durée (mois)\",\n",
    "    labels = c(\"3\" = \"3 mois\", \"4\" = \"4 mois\", \"5\" = \"5 mois\")\n",
    "  ) +\n",
    "  labs(title = \"Durée de la saisonnalité\") +\n",
    "  theme_minimal(base_size = 16) +\n",
    "  theme(\n",
    "    plot.title = element_text(size = 20, face = \"bold\"),\n",
    "    legend.position = \"bottom\"\n",
    "  )\n"
   ]
  },
  {
   "cell_type": "code",
   "execution_count": null,
   "id": "686039b8-930e-4ade-bbff-00d62cdff1a9",
   "metadata": {},
   "outputs": [],
   "source": [
    "# Combine plots\n",
    "options(repr.plot.width = 18, repr.plot.height = 7)\n",
    "p1 + p2"
   ]
  },
  {
   "cell_type": "code",
   "execution_count": null,
   "id": "14f12132-4ac0-4842-ae0b-dd069ef4c653",
   "metadata": {},
   "outputs": [],
   "source": []
  }
 ],
 "metadata": {
  "kernelspec": {
   "display_name": "R",
   "language": "R",
   "name": "ir"
  },
  "language_info": {
   "codemirror_mode": "r",
   "file_extension": ".r",
   "mimetype": "text/x-r-source",
   "name": "R",
   "pygments_lexer": "r",
   "version": "4.4.3"
  }
 },
 "nbformat": 4,
 "nbformat_minor": 5
}
