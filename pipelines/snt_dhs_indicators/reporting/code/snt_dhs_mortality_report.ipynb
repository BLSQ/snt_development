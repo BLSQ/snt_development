{
 "cells": [
  {
   "cell_type": "markdown",
   "id": "2464d129-cfb5-4771-8491-ebf35fc9d532",
   "metadata": {},
   "source": [
    "# Plots for under-5 mortality (DHS data)"
   ]
  },
  {
   "cell_type": "markdown",
   "id": "56a45126-27ea-4fc8-8714-5dcff26dd97c",
   "metadata": {},
   "source": [
    "## Preliminary steps"
   ]
  },
  {
   "cell_type": "code",
   "execution_count": null,
   "id": "5d6705d9-1730-49fd-804c-5754c8d35ed3",
   "metadata": {},
   "outputs": [],
   "source": [
    "rm(list = ls())\n",
    "\n",
    "options(scipen=999)\n",
    "\n",
    "# Global paths\n",
    "Sys.setenv(PROJ_LIB = \"/opt/conda/share/proj\")\n",
    "Sys.setenv(GDAL_DATA = \"/opt/conda/share/gdal\")\n",
    "\n",
    "# Paths\n",
    "ROOT_PATH <- '~/workspace'\n",
    "CONFIG_PATH <- file.path(ROOT_PATH, 'configuration')\n",
    "CODE_PATH <- file.path(ROOT_PATH, 'code')\n",
    "DATA_PATH <- file.path(ROOT_PATH, 'data')\n",
    "DHS_DATA_PATH <- file.path(DATA_PATH, 'dhs', 'raw')\n",
    "OUTPUT_DATA_PATH <- file.path(DATA_PATH, 'dhs', 'indicators', 'mortality')\n",
    "OUTPUT_PLOTS_PATH <- file.path(ROOT_PATH, 'pipelines', 'snt_dhs_indicators', 'reporting', 'outputs')\n",
    "\n",
    "# Load utils\n",
    "source(file.path(CODE_PATH, \"snt_utils.r\"))\n",
    "\n",
    "# List required pcks\n",
    "required_packages <- c(\"sf\", \"glue\", \"data.table\", \"ggplot2\", \"stringi\", \"jsonlite\", \"httr\", \"reticulate\")\n",
    "\n",
    "# Execute function\n",
    "install_and_load(required_packages)\n",
    "\n",
    "Sys.setenv(RETICULATE_PYTHON = \"/opt/conda/bin/python\")\n",
    "reticulate::py_config()$python\n",
    "openhexa <- import(\"openhexa.sdk\")\n",
    "\n",
    "# Load SNT config\n",
    "CONFIG_FILE_NAME <- \"SNT_config.json\"\n",
    "config_json <- tryCatch({ fromJSON(file.path(CONFIG_PATH, CONFIG_FILE_NAME)) },\n",
    "                        error = function(e) {\n",
    "                          msg <- paste0(\"Error while loading configuration\", conditionMessage(e))  \n",
    "                          cat(msg)   \n",
    "                          stop(msg) \n",
    "                        })\n",
    "\n",
    "msg <- paste0(\"SNT configuration loaded from  : \", file.path(CONFIG_PATH, CONFIG_FILE_NAME)) \n",
    "log_msg(msg)\n",
    "\n",
    "# Set config variables\n",
    "COUNTRY_CODE <- config_json$SNT_CONFIG$COUNTRY_CODE\n",
    "\n",
    "# COUNTRY_CODE <- \"BFA\"\n",
    "print(paste(\"Country code: \", COUNTRY_CODE))\n",
    "\n",
    "data_source <- 'DHS'\n",
    "# dhs_dataset <- config_json$SNT_DATASET_IDENTIFIERS$DHS_DATASET"
   ]
  },
  {
   "cell_type": "code",
   "execution_count": null,
   "id": "520b0296-3941-4276-942e-0165f7974a61",
   "metadata": {},
   "outputs": [],
   "source": [
    "# Geo data ----------------------------------------------------------------\n",
    "\n",
    "admin_level <- 'ADM1'\n",
    "admin_id_col <- glue(admin_level, 'ID', .sep='_')\n",
    "admin_name_col <- glue(admin_level, 'NAME', .sep='_')\n",
    "admin_cols <- c(admin_id_col, admin_name_col)\n",
    "\n",
    "# Load spatial file from dataset\n",
    "\n",
    "dhis2_dataset <- config_json$SNT_DATASET_IDENTIFIERS$DHIS2_DATASET_FORMATTED\n",
    "\n",
    "spatial_data_filename <- paste(COUNTRY_CODE, \"shapes.geojson\", sep = \"_\")\n",
    "# spatial_data <- read_sf(file.path(DATA_PATH, 'dhis2', 'formatted', spatial_data_filename))\n",
    "spatial_data <- get_latest_dataset_file_in_memory(dhis2_dataset, spatial_data_filename)\n",
    "log_msg(glue(\"File {spatial_data_filename} successfully loaded from dataset version: {dhis2_dataset}\"))\n",
    "\n",
    "spatial_data <- st_as_sf(spatial_data)\n",
    "\n",
    "# aggregate geometries by the admin columns\n",
    "spatial_data <- aggregate_geometry(\n",
    "  sf_data=spatial_data,\n",
    "  admin_id_colname=admin_id_col,\n",
    "  admin_name_colname=admin_name_col\n",
    ")\n",
    "\n",
    "# keep class\n",
    "spatial_data <- st_as_sf(spatial_data)\n",
    "\n",
    "if(COUNTRY_CODE == \"COD\"){\n",
    "  spatial_data[[admin_name_col]] <- clean_admin_names(spatial_data[[admin_name_col]])\n",
    "}"
   ]
  },
  {
   "cell_type": "markdown",
   "id": "02caf8c4-124b-4f84-9768-4a5137f9458c",
   "metadata": {},
   "source": [
    "## Map"
   ]
  },
  {
   "cell_type": "code",
   "execution_count": null,
   "id": "66cd9b28-1ee4-4547-8e39-7c13f5d3c360",
   "metadata": {},
   "outputs": [],
   "source": [
    "indicator_u5mr <- 'U5MR_PERMIL'\n",
    "lower_bound_col <- glue(\"{toupper(indicator_u5mr)}_CI_LOWER_BOUND\")\n",
    "upper_bound_col <- glue(\"{toupper(indicator_u5mr)}_CI_UPPER_BOUND\")\n",
    "sample_avg_col <- glue(\"{toupper(indicator_u5mr)}_SAMPLE_AVERAGE\")\n",
    "\n",
    "filename_without_extension <- glue(\"{COUNTRY_CODE}_{data_source}_{admin_level}_{toupper(indicator_u5mr)}\")\n",
    "u5mort_table <- fread(file.path(OUTPUT_DATA_PATH, paste0(filename_without_extension, '.csv')))"
   ]
  },
  {
   "cell_type": "code",
   "execution_count": null,
   "id": "3bc549c8-52f2-4fc9-bc4a-cd0060527524",
   "metadata": {},
   "outputs": [],
   "source": [
    "plot_data =  merge(spatial_data, u5mort_table, by = admin_cols, all = TRUE)"
   ]
  },
  {
   "cell_type": "code",
   "execution_count": null,
   "id": "f993b56a-cd3b-4c23-a627-2001db173f93",
   "metadata": {},
   "outputs": [],
   "source": [
    "u5_mort_permil_plot <- make_dhs_map(\n",
    "      plot_dt = plot_data,\n",
    "      plot_colname = sample_avg_col,\n",
    "      title_name = \"Under-5 mortality (\\u2030)\",\n",
    "      legend_title = \"\\u2030\",\n",
    "      scale_limits = c(0, 200)\n",
    "    )"
   ]
  },
  {
   "cell_type": "code",
   "execution_count": null,
   "id": "192e947d-710d-4d90-be25-dbd83262394f",
   "metadata": {},
   "outputs": [],
   "source": [
    "# u5_mort_permil_plot\n",
    "plot_filename <- glue(\"{COUNTRY_CODE}_{data_source}_{admin_level}_{toupper(indicator_u5mr)}_plot.png\")\n",
    "ggsave(u5_mort_permil_plot, file = file.path(OUTPUT_PLOTS_PATH, plot_filename), dpi = 500)"
   ]
  },
  {
   "cell_type": "markdown",
   "id": "bef1a6d0-4163-45f1-be3d-877d4c747bfe",
   "metadata": {},
   "source": [
    "## Confidence interval plot"
   ]
  },
  {
   "cell_type": "code",
   "execution_count": null,
   "id": "2ccc88b9-31a9-4972-9f31-690ee891d4de",
   "metadata": {},
   "outputs": [],
   "source": [
    "ci_plot_title <- glue(\"{COUNTRY_CODE} {data_source} {indicator_u5mr} (95% Confidence Intervals)\")\n",
    "ci_plot_xlab <- admin_name_col\n",
    "ci_plot_ylab <- glue(\"Under-5 mortality (\\u2030)\")\n",
    "ci_plot_filename <- glue(\"{COUNTRY_CODE}_{data_source}_{admin_level}_{toupper(indicator_u5mr)}_CI_plot.png\")\n",
    "ci_u5_mort_permil_plot <- make_ci_plot(\n",
    "  df_to_plot=plot_data,\n",
    "  admin_colname=admin_name_col,\n",
    "  point_estimation_colname=sample_avg_col,\n",
    "  ci_lower_colname=lower_bound_col,\n",
    "  ci_upper_colname=upper_bound_col,\n",
    "  title_name=ci_plot_title,\n",
    "  x_title=ci_plot_xlab,\n",
    "  y_title=ci_plot_ylab\n",
    ")\n",
    "\n",
    "ggsave(filename=file.path(OUTPUT_PLOTS_PATH, ci_plot_filename), plot=ci_u5_mort_permil_plot, width = 8, height = 6, dpi = 300)"
   ]
  },
  {
   "cell_type": "code",
   "execution_count": null,
   "id": "ec398b6f-554f-45f4-bae3-155490e40fbb",
   "metadata": {},
   "outputs": [],
   "source": []
  }
 ],
 "metadata": {
  "kernelspec": {
   "display_name": "R",
   "language": "R",
   "name": "ir"
  },
  "language_info": {
   "codemirror_mode": "r",
   "file_extension": ".r",
   "mimetype": "text/x-r-source",
   "name": "R",
   "pygments_lexer": "r",
   "version": "4.4.3"
  }
 },
 "nbformat": 4,
 "nbformat_minor": 5
}
