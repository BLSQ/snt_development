{
 "cells": [
  {
   "cell_type": "code",
   "execution_count": null,
   "id": "ae4fa6e6-c3f4-4cc8-ad45-5f9b51fe39a4",
   "metadata": {},
   "outputs": [],
   "source": [
    "print(\"reporting report placeholder\")"
   ]
  },
  {
   "cell_type": "code",
   "execution_count": null,
   "id": "eb76b11d-669c-4a63-8aed-f7e729cf0887",
   "metadata": {},
   "outputs": [],
   "source": []
  }
 ],
 "metadata": {
  "kernelspec": {
   "display_name": "R",
   "language": "R",
   "name": "ir"
  },
  "language_info": {
   "codemirror_mode": "r",
   "file_extension": ".r",
   "mimetype": "text/x-r-source",
   "name": "R",
   "pygments_lexer": "r",
   "version": "4.4.3"
  }
 },
 "nbformat": 4,
 "nbformat_minor": 5
}
