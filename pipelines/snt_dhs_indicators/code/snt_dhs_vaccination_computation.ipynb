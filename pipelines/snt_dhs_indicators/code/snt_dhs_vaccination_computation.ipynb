{
 "cells": [
  {
   "cell_type": "markdown",
   "id": "4a75d418-3144-427f-8fa3-2cb7f727e66d",
   "metadata": {},
   "source": [
    "# DTP Vaccination rates and attrition using DHS data"
   ]
  },
  {
   "cell_type": "markdown",
   "id": "6b666c7a-f105-4fad-aea0-d23a38fa0153",
   "metadata": {},
   "source": [
    "## Preliminaries"
   ]
  },
  {
   "cell_type": "code",
   "execution_count": null,
   "id": "dbcf1df6-c264-48b3-bf53-f13a4b036487",
   "metadata": {},
   "outputs": [],
   "source": [
    "rm(list = ls())\n",
    "\n",
    "options(scipen=999)"
   ]
  },
  {
   "cell_type": "code",
   "execution_count": null,
   "id": "449ea786-ac70-4513-aaf5-24ffe69aec5c",
   "metadata": {},
   "outputs": [],
   "source": [
    "# Global paths\n",
    "Sys.setenv(PROJ_LIB = \"/opt/conda/share/proj\")\n",
    "Sys.setenv(GDAL_DATA = \"/opt/conda/share/gdal\")"
   ]
  },
  {
   "cell_type": "code",
   "execution_count": null,
   "id": "c9037624-3ac0-403c-9ea0-fc78891c2393",
   "metadata": {},
   "outputs": [],
   "source": [
    "# Paths\n",
    "ROOT_PATH <- '~/workspace'\n",
    "CONFIG_PATH <- file.path(ROOT_PATH, 'configuration')\n",
    "CODE_PATH <- file.path(ROOT_PATH, 'code')\n",
    "DATA_PATH <- file.path(ROOT_PATH, 'data')\n",
    "DHS_DATA_PATH <- file.path(DATA_PATH, 'dhs', 'raw')\n",
    "OUTPUT_DATA_PATH <- file.path(DATA_PATH, 'dhs', 'indicators', 'vaccination')"
   ]
  },
  {
   "cell_type": "code",
   "execution_count": null,
   "id": "1f13522e-a0e5-44b7-b8f5-b66dc7ca37c0",
   "metadata": {},
   "outputs": [],
   "source": [
    "# Load utils\n",
    "source(file.path(CODE_PATH, \"snt_utils.r\"))\n",
    "\n",
    "# List required pcks\n",
    "required_packages <- c(\"readr\", \"haven\", \"glue\", \"survey\", \"data.table\", \"sf\", \"ggplot2\", \"stringi\", \"reticulate\", \"jsonlite\", \"httr\", \"arrow\")\n",
    "\n",
    "# Execute function\n",
    "install_and_load(required_packages)"
   ]
  },
  {
   "cell_type": "code",
   "execution_count": null,
   "id": "e32d9589-1a34-4a62-ac93-ae04e5939eb1",
   "metadata": {},
   "outputs": [],
   "source": [
    "Sys.setenv(RETICULATE_PYTHON = \"/opt/conda/bin/python\")\n",
    "reticulate::py_config()$python\n",
    "openhexa <- import(\"openhexa.sdk\")"
   ]
  },
  {
   "cell_type": "code",
   "execution_count": null,
   "id": "9d0221bb-9d59-42ff-a6c9-09c735083135",
   "metadata": {},
   "outputs": [],
   "source": [
    "# Load SNT config\n",
    "CONFIG_FILE_NAME <- \"SNT_config.json\"\n",
    "config_json <- tryCatch({ fromJSON(file.path(CONFIG_PATH, CONFIG_FILE_NAME)) },\n",
    "                        error = function(e) {\n",
    "                          msg <- paste0(\"Error while loading configuration\", conditionMessage(e))  \n",
    "                          cat(msg)   \n",
    "                          stop(msg) \n",
    "                        })\n",
    "\n",
    "msg <- paste0(\"SNT configuration loaded from  : \", file.path(CONFIG_PATH, CONFIG_FILE_NAME)) \n",
    "log_msg(msg)"
   ]
  },
  {
   "cell_type": "code",
   "execution_count": null,
   "id": "d9196629-0d55-416c-9171-4ebc630cc93b",
   "metadata": {},
   "outputs": [],
   "source": [
    "# Set config variables\n",
    "COUNTRY_CODE <- config_json$SNT_CONFIG$COUNTRY_CODE"
   ]
  },
  {
   "cell_type": "markdown",
   "id": "ff080767-9fdb-4790-988c-e2b4c4f7226f",
   "metadata": {},
   "source": [
    "## Geo data"
   ]
  },
  {
   "cell_type": "code",
   "execution_count": null,
   "id": "5249483e-2b07-425d-b385-bc32ac601ced",
   "metadata": {},
   "outputs": [],
   "source": [
    "admin_level <- 'ADM1'\n",
    "admin_id_col <- glue(admin_level, 'ID', .sep='_')\n",
    "admin_name_col <- glue(admin_level, 'NAME', .sep='_')\n",
    "admin_cols <- c(admin_id_col, admin_name_col)"
   ]
  },
  {
   "cell_type": "code",
   "execution_count": null,
   "id": "1308ee0c-4856-445f-b518-ee0f4497c9b5",
   "metadata": {},
   "outputs": [],
   "source": [
    "# Load spatial file from dataset\n",
    "\n",
    "dhis2_dataset <- config_json$SNT_DATASET_IDENTIFIERS$DHIS2_DATASET_FORMATTED\n",
    "\n",
    "spatial_data_filename <- paste(COUNTRY_CODE, \"shapes.geojson\", sep = \"_\")\n",
    "# spatial_data <- read_sf(file.path(DATA_PATH, 'dhis2', 'formatted', spatial_data_filename))\n",
    "spatial_data <- get_latest_dataset_file_in_memory(dhis2_dataset, spatial_data_filename)\n",
    "log_msg(glue(\"File {spatial_data_filename} successfully loaded from dataset version: {dhis2_dataset}\"))\n",
    "\n",
    "spatial_data <- st_as_sf(spatial_data)\n",
    "\n",
    "# aggregate geometries by the admin columns\n",
    "spatial_data <- aggregate_geometry(\n",
    "  sf_data=spatial_data,\n",
    "  admin_id_colname=admin_id_col,\n",
    "  admin_name_colname=admin_name_col\n",
    "  )\n",
    "\n",
    "# keep class\n",
    "spatial_data <- st_as_sf(spatial_data)\n",
    "\n",
    "# DRC provinces need to be cleaned\n",
    "if(COUNTRY_CODE == \"COD\"){\n",
    "  spatial_data[[admin_name_col]] <- clean_admin_names(spatial_data[[admin_name_col]])\n",
    "}\n",
    "\n",
    "admin_data <- st_drop_geometry(spatial_data)\n",
    "setDT(admin_data)"
   ]
  },
  {
   "cell_type": "markdown",
   "id": "ba6c6b6b-e0fd-434a-8e44-6c45bea47d97",
   "metadata": {},
   "source": [
    "## Import DHS data"
   ]
  },
  {
   "cell_type": "code",
   "execution_count": null,
   "id": "29d4866a-5f98-404e-aaa8-6fe1e6dc9e2d",
   "metadata": {},
   "outputs": [],
   "source": [
    "vaccination_doses <- c(1, 2, 3)\n",
    "indicator_access <- 'PCT_DTP'\n",
    "indicator_attrition <- 'PCT_DROPOUT_DTP'"
   ]
  },
  {
   "cell_type": "code",
   "execution_count": null,
   "id": "b6bd9ec2-cdcb-41d9-8cd7-54096bbfa2a3",
   "metadata": {},
   "outputs": [],
   "source": [
    "data_source <- 'DHS'\n",
    "household_recode <- 'HR'\n",
    "kid_recode <- 'KR'\n",
    "target_file_type <- 'SV'\n",
    "\n",
    "delete_otherextension_files(DHS_DATA_PATH, extension_to_retain=\".zip\")"
   ]
  },
  {
   "cell_type": "code",
   "execution_count": null,
   "id": "e5591f0f-fe5f-4c05-9368-2d1c7e388782",
   "metadata": {},
   "outputs": [],
   "source": [
    "dhs_hr_zip_filename <- extract_latest_dhs_recode_filename(DHS_DATA_PATH, household_recode, target_file_type)\n",
    "unzip(file.path(DHS_DATA_PATH, dhs_hr_zip_filename), exdir=DHS_DATA_PATH)\n",
    "\n",
    "dhs_kr_zip_filename <- extract_latest_dhs_recode_filename(DHS_DATA_PATH, kid_recode, target_file_type)\n",
    "unzip(file.path(DHS_DATA_PATH, dhs_kr_zip_filename), exdir=DHS_DATA_PATH)\n",
    "\n",
    "# # Remove existing output files\n",
    "# files <- list.files(OUTPUT_DATA_PATH, full.names = TRUE)\n",
    "# files_to_delete <- files[grepl('DTP', basename(files), ignore.case = TRUE) & grepl(COUNTRY_CODE, basename(files), ignore.case = TRUE)]\n",
    "# file.remove(files_to_delete)\n",
    "\n",
    "data_extension <- '.SAV'\n",
    "dhs_hr_filename <- list.files(path = DHS_DATA_PATH, pattern = paste0(\".*\", household_recode, \".*\\\\\", data_extension, \"$\"), ignore.case=TRUE)\n",
    "dhs_kr_filename <- dir(path = DHS_DATA_PATH, pattern = paste0(\".*\", kid_recode, \".*\\\\\", data_extension, \"$\"), ignore.case=TRUE)\n",
    "\n",
    "if(!check_dhs_same_version(dhs_hr_filename, dhs_kr_filename)){\n",
    "  stop(\"The necessary DHS data do not have the same version/issue. Check available data before rerunning.\")\n",
    "}\n",
    "\n",
    "dhs_hr_dt <- read_spss(file.path(DHS_DATA_PATH, dhs_hr_filename)) # household recode\n",
    "dhs_hr_dt <- setDT(dhs_hr_dt)\n",
    "\n",
    "dhs_kr_dt <- read_spss(file.path(DHS_DATA_PATH, dhs_kr_filename)) # kid recode\n",
    "dhs_kr_dt <- setDT(dhs_kr_dt)"
   ]
  },
  {
   "cell_type": "markdown",
   "id": "51ccd171-5056-42bc-a45f-ea70bf2c3bbe",
   "metadata": {},
   "source": [
    "## Preprocess DHS data"
   ]
  },
  {
   "cell_type": "markdown",
   "id": "d6607265-c852-48b0-852b-e8fecaed804b",
   "metadata": {},
   "source": [
    "### Extract DHS admin data"
   ]
  },
  {
   "cell_type": "code",
   "execution_count": null,
   "id": "6fb209c6-8090-40f0-a101-fbfbeb17de41",
   "metadata": {},
   "outputs": [],
   "source": [
    "# Make admin codes and names dataframe (for future merging)\n",
    "\n",
    "dhs_beginning_year <- as.integer(dhs_hr_dt[, min(HV007)])\n",
    "\n",
    "dhs_admin_dt <- make_dhs_admin_df(\n",
    "  input_dhs_df=dhs_hr_dt,\n",
    "  original_admin_column=\"HV024\",\n",
    "  new_admin_name_colname=admin_name_col,\n",
    "  new_admin_code_colname='DHS_ADM1_CODE'\n",
    ")\n",
    "\n",
    "# format the names to be like DHIS2 names\n",
    "dhs_admin_dt[, (admin_name_col) := format_names(get(admin_name_col))]\n",
    "\n",
    "# TODO this should be changed in the formatting of DHIS2 data; the correct name should be with a space\n",
    "dhs_admin_dt[get(admin_name_col) == \"MAI NDOMBE\", (admin_name_col) := \"MAINDOMBE\"]\n",
    "\n",
    "# Check that all regions can be matched with DHIS2 pyramid\n",
    "if(!check_perfect_match(dhs_admin_dt, admin_name_col, admin_data, admin_name_col)){\n",
    "  stop(\"The DHS data provided does not fully match DHIS2 pyramid data. Please check input data before retrying.\")\n",
    "}\n",
    "\n",
    "rm(dhs_hr_dt) # free up resources"
   ]
  },
  {
   "cell_type": "markdown",
   "id": "ae09cc05-a942-4e56-be52-7cc5876f62a9",
   "metadata": {},
   "source": [
    "### Filter rows and columns"
   ]
  },
  {
   "cell_type": "code",
   "execution_count": null,
   "id": "5b852bc5-fc91-45d6-a668-0efb25b00092",
   "metadata": {},
   "outputs": [],
   "source": [
    "# remove dead children from the dataset, keep only children aged 1 or more (avoid left censoring for vaccination) and respect the base for the 'h' variables\n",
    "kr_dt <- dhs_kr_dt[B5 == 1 & B8 >= 1 & B19 < 36,]\n",
    "\n",
    "household_id_cols <- c('V000', 'V001', 'V002')\n",
    "kid_id_cols <- c('CASEID', 'BIDX')\n",
    "kid_dpt1_cols <- c('H3', 'H3D', 'H3M', 'H3Y')\n",
    "kid_dpt2_cols <- c('H5', 'H5D', 'H5M', 'H5Y')\n",
    "kid_dpt3_cols <- c('H7', 'H7D', 'H7M', 'H7Y')\n",
    "kid_sampling_cols <- c('V005', 'V021', 'V023', 'V024')\n",
    "\n",
    "kr_dt <- kr_dt[, .SD, .SDcols = c(household_id_cols, kid_id_cols, kid_sampling_cols, kid_dpt1_cols, kid_dpt2_cols, kid_dpt3_cols)]\n",
    "\n",
    "# # check i didn't omit any crucial variable\n",
    "# stopifnot(nrow(kr_dt[duplicated(kr_dt)]) == 0)"
   ]
  },
  {
   "cell_type": "markdown",
   "id": "a0194b86-ac85-44b5-bdc0-d7dd46b2170a",
   "metadata": {},
   "source": [
    "### New features"
   ]
  },
  {
   "cell_type": "markdown",
   "id": "fb4ad225-93bc-44f7-bc87-d16f9eb2f065",
   "metadata": {},
   "source": [
    "Add the region labels, to subsequently match DHIS2 data"
   ]
  },
  {
   "cell_type": "code",
   "execution_count": null,
   "id": "e63a49a0-273a-4cef-ac91-2f95acf141dd",
   "metadata": {},
   "outputs": [],
   "source": [
    "kr_dt <- merge.data.table(dhs_admin_dt, kr_dt, by.x = \"DHS_ADM1_CODE\", by.y = \"V024\", all = TRUE)"
   ]
  },
  {
   "cell_type": "markdown",
   "id": "f578eda9-0ae6-4366-9aa3-a3a110e19d30",
   "metadata": {},
   "source": [
    "Create the target features (whether or not the kid was vaccinated, for each dose)"
   ]
  },
  {
   "cell_type": "code",
   "execution_count": null,
   "id": "3e6d586f-636d-4b5c-9ccb-31520e4ca62e",
   "metadata": {},
   "outputs": [],
   "source": [
    "# Create dummy variables for the various DTP vaccine doses\n",
    "kr_dt[, `:=`(\n",
    "  DTP1 = fcase(\n",
    "    H3 == 0L, 0L,\n",
    "    H3 %in% c(1L, 2L, 3L), 1L,\n",
    "    default = NA\n",
    "  ),\n",
    "  DTP2 = fcase(\n",
    "    H5 == 0L, 0L,\n",
    "    H5 %in% c(1L, 2L, 3L), 1L,\n",
    "    default = NA\n",
    "  ),\n",
    "  DTP3 = fcase(\n",
    "    H7 == 0L, 0L,\n",
    "    H7 %in% c(1L, 2L, 3L), 1L,\n",
    "    default = NA\n",
    "  )\n",
    ")]\n",
    "\n",
    "# Correct external consistency issues: children who got the third dose also had the second, and so on:\n",
    "kr_dt[DTP2 == 1, DTP1 := 1]\n",
    "kr_dt[DTP3 == 1, DTP1 := 1]\n",
    "kr_dt[DTP3 == 1, DTP2 := 1]"
   ]
  },
  {
   "cell_type": "markdown",
   "id": "f11d02d8-1c0f-4cc0-9bc6-736a84d73a23",
   "metadata": {},
   "source": [
    "### Create the survey design"
   ]
  },
  {
   "cell_type": "code",
   "execution_count": null,
   "id": "dad05a65-9967-4c4f-9522-ba6cd4cfef7f",
   "metadata": {},
   "outputs": [],
   "source": [
    "# compute the household/kid weights\n",
    "kr_dt[, wt := V005/1000000]"
   ]
  },
  {
   "cell_type": "code",
   "execution_count": null,
   "id": "db28fe66-7e99-4d98-8ac1-0ea7ba30c677",
   "metadata": {},
   "outputs": [],
   "source": [
    "# account for the sampling strategy (clustering, stratification, weights) for means, proportions, regression models, etc.\n",
    "dtp_design = svydesign(\n",
    "  ids = ~ V021, # primary sampling unit / cluster ids (cluster number and/or ultimate area unit)\n",
    "  data = kr_dt, # dataset\n",
    "  strata = ~ V023, # groupings of primary sampling units\n",
    "  weights = ~ wt, # the sampling weights variable\n",
    "  nest = T # the primary sampling units are nested within the strata\n",
    "  )"
   ]
  },
  {
   "cell_type": "markdown",
   "id": "44ece144-6678-4de2-a1d4-f924b6549345",
   "metadata": {},
   "source": [
    "## Vaccination proportion indicator"
   ]
  },
  {
   "cell_type": "markdown",
   "id": "a2034bea-e0fd-4268-b383-4d39d9cd7e75",
   "metadata": {},
   "source": [
    "For each vaccine dose:\n",
    "- compute the proportions of vaccinated per region\n",
    "- compute the CIs\n",
    "- add the admin units and save to .csv and parquet"
   ]
  },
  {
   "cell_type": "code",
   "execution_count": null,
   "id": "a1c19f83-a1e1-4b1d-bc26-605e4ed4fa06",
   "metadata": {},
   "outputs": [],
   "source": [
    "# create the empty dropout table to add each proportion and compute attrition rates\n",
    "DTP_DROPOUT <- copy(admin_data)\n",
    "\n",
    "for (dose_number in vaccination_doses){\n",
    "  table_name <- glue(\"{toupper(indicator_access)}{dose_number}\")\n",
    "  vaccine_colname <- glue(\"DTP{dose_number}\")\n",
    "  \n",
    "  computed_proportions <- svyby(\n",
    "      # formula = ~ get(vaccine_colname),\n",
    "      as.formula(paste(\"~\", vaccine_colname)),\n",
    "      # by = ~ ADM1,\n",
    "      by = reformulate(admin_name_col),\n",
    "      FUN = svymean,\n",
    "      design = dtp_design,\n",
    "      level = 0.95,\n",
    "      vartype = \"ci\",\n",
    "      na.rm = TRUE,\n",
    "      influence = TRUE\n",
    "  )\n",
    "  \n",
    "  # change the name of the target column (to avoid the 'get' in the name)\n",
    "  names(computed_proportions)[2] <- vaccine_colname\n",
    "  \n",
    "  # assign the table value to the table name\n",
    "  assign(table_name, computed_proportions)\n",
    "  \n",
    "  # change the names of the columns\n",
    "  lower_bound_col <- glue(\"{toupper(indicator_access)}{dose_number}_CI_LOWER_BOUND\")\n",
    "  upper_bound_col <- glue(\"{toupper(indicator_access)}{dose_number}_CI_UPPER_BOUND\")\n",
    "  sample_avg_col <- glue(\"{toupper(indicator_access)}{dose_number}_SAMPLE_AVERAGE\")  \n",
    "  \n",
    "  # retrieve data, modify colnames, and reassign\n",
    "  df <- get(table_name)\n",
    "  names(df)[names(df) == 'ci_l'] <- lower_bound_col\n",
    "  names(df)[names(df) == 'ci_u'] <- upper_bound_col\n",
    "  names(df)[names(df) == vaccine_colname] <- sample_avg_col\n",
    "  setDT(df)\n",
    "\n",
    "  # Cap the CI's between 0 and 1 (in case of small sample => large CI's)\n",
    "  df[get(lower_bound_col) < 0, (lower_bound_col) := 0]\n",
    "  df[get(upper_bound_col) > 1, (upper_bound_col) := 1]\n",
    "\n",
    "  # Convert to percentages\n",
    "  df[, (lower_bound_col) := get(lower_bound_col) * 100]\n",
    "  df[, (upper_bound_col) := get(upper_bound_col) * 100]\n",
    "  df[, (sample_avg_col) := get(sample_avg_col) * 100]\n",
    "    \n",
    "  # add the admin units\n",
    "  df <- merge.data.table(admin_data, df, by = admin_name_col, all.x = TRUE)\n",
    "  \n",
    "  # write to file\n",
    "  filename_without_extension <- glue(\"{COUNTRY_CODE}_{data_source}_{admin_level}_{table_name}\")\n",
    "  fwrite(df, file = file.path(OUTPUT_DATA_PATH, paste0(filename_without_extension, '.csv')))\n",
    "  write_parquet(df, file.path(OUTPUT_DATA_PATH, paste0(filename_without_extension, '.parquet')))\n",
    "  \n",
    "  # add current dose table to the summary table (for future computation of dropout rates)\n",
    "  DTP_DROPOUT <- merge.data.table(DTP_DROPOUT, df, by = admin_cols)\n",
    "}\n",
    "  "
   ]
  },
  {
   "cell_type": "markdown",
   "id": "d4e56da8-3ed5-4791-913c-58b76fbba125",
   "metadata": {},
   "source": [
    "## Dropout rate indicator"
   ]
  },
  {
   "cell_type": "markdown",
   "id": "375952b4-4a25-435c-aae1-c53c54e9382c",
   "metadata": {},
   "source": [
    "Add dropout rates plots: for each vaccine dose:\n",
    "- make the dropout rates\n",
    "- add them to the summary file and save it as .csv and parquet\n",
    "- make plots and save them"
   ]
  },
  {
   "cell_type": "code",
   "execution_count": null,
   "id": "d21baeab-f1b9-441d-b073-e7dc193a7535",
   "metadata": {},
   "outputs": [],
   "source": [
    "# remove the CI columns (as requested)\n",
    "DTP_DROPOUT[, grep(\"BOUND\", names(DTP_DROPOUT), value = TRUE) := NULL]"
   ]
  },
  {
   "cell_type": "code",
   "execution_count": null,
   "id": "ed9b8475-bc2e-4170-b5b5-034909840269",
   "metadata": {},
   "outputs": [],
   "source": [
    "for(current_dose in vaccination_doses){\n",
    "  for (reference_dose in 1:(current_dose - 1)){\n",
    "    if((reference_dose >= 1) & (reference_dose < current_dose)){\n",
    "    attrition_col <- glue(\"{toupper(indicator_attrition)}_{reference_dose}_{current_dose}\")\n",
    "    print(glue('Computing attrition for {attrition_col}'))\n",
    "    numerator_colname <- glue(\"{toupper(indicator_access)}{current_dose}_SAMPLE_AVERAGE\")\n",
    "    denominator_colname <- glue(\"{toupper(indicator_access)}{reference_dose}_SAMPLE_AVERAGE\")\n",
    "    DTP_DROPOUT[, (attrition_col) := (1 - get(numerator_colname) / get(denominator_colname))*100] # percentages instead of rates, as requested\n",
    "    }\n",
    "  }\n",
    "}\n",
    "\n",
    "# remove the unnecessary columns\n",
    "DTP_DROPOUT[, grep(\"SAMPLE_AVERAGE\", names(DTP_DROPOUT), value = TRUE) := NULL]"
   ]
  },
  {
   "cell_type": "code",
   "execution_count": null,
   "id": "2369423c-8752-4c92-ad84-44d2120be6a9",
   "metadata": {},
   "outputs": [],
   "source": [
    "dtp_dropout_filename_without_extension <- glue(\"{COUNTRY_CODE}_{data_source}_{admin_level}_{indicator_attrition}\")\n",
    "fwrite(DTP_DROPOUT, file = file.path(OUTPUT_DATA_PATH, paste0(dtp_dropout_filename_without_extension, \".csv\")))\n",
    "write_parquet(DTP_DROPOUT, file.path(OUTPUT_DATA_PATH, paste0(dtp_dropout_filename_without_extension, \".parquet\")))"
   ]
  },
  {
   "cell_type": "code",
   "execution_count": null,
   "id": "ecc63839-393c-4487-bdfb-e9e96626cc71",
   "metadata": {},
   "outputs": [],
   "source": []
  }
 ],
 "metadata": {
  "kernelspec": {
   "display_name": "R",
   "language": "R",
   "name": "ir"
  },
  "language_info": {
   "codemirror_mode": "r",
   "file_extension": ".r",
   "mimetype": "text/x-r-source",
   "name": "R",
   "pygments_lexer": "r",
   "version": "4.4.3"
  }
 },
 "nbformat": 4,
 "nbformat_minor": 5
}
