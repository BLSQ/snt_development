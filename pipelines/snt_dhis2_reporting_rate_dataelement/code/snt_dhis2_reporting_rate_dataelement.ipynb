{
 "cells": [
  {
   "cell_type": "markdown",
   "id": "6e8d006c-fd3d-4186-bc8f-b83fdf234e65",
   "metadata": {},
   "source": [
    "# Data Element reporting rate: based on reporting of one or more indicators\n",
    "**_Partially_ following methods by WHO and as per Diallo (2025) paper**\n",
    "\n",
    "To accurately measure data completeness, we calculate the **monthly** reporting rate per **ADM2**, as the **proportion** of **facilities** (HF or `OU_ID`) that in a given month submitted data for either a single indicator (i.e., **confirmed** malaria case as `CONF`) or for _any_ of the chosen indicators (i.e., `CONF`, `SUSP`, `TEST`). \n",
    "\n",
    "Basically, \"Data Element\" reporting rate is the number of facilities reporting on 1 or more given indicators, over the total number of facilities.<br>\n",
    "\n",
    "For this method the user is allowed to **chose** how to calculate both the **numerator** and the **denominator**.<br> \n",
    "Specifically:  \n",
    "\n",
    "* **Numerator**: is the number of facilities that _actually reported_ data, and it is estimated based on whether a facility (OU_ID) submitted data for **_any_** of the **selected indicators**\n",
    "    Note: we **recommend** always including `CONF` because it is a core indicator consistently tracked across the dataset. This choice ensures alignment with the structure of the incidence calculation, which is also mainly based on confirmed cases.\n",
    "    <br>\n",
    "    <br>\n",
    "* **Denominator**: is the number of facilities _expected_ to report. This number can be obtained in two different ways:    \n",
    "    * `\"ROUTINE_ACTIVE_FACILITIES\"`: uses the col `EXPECTED_REPORTS` from the df `active_facilities`.<br>\n",
    "      This is calculated as the number of \"**active**\" facilities (OU_ID), defined as those that submitted _any_ data **at least once in a given year**, across **all** indicators extracted in `dhis2_routine` (namely: all aggregated indicators as defined in the SNT_config.json file, see: `config_json$DHIS2_DATA_DEFINITIONS$DHIS2_INDICATOR_DEFINITIONS`)\n",
    "    * `\"PYRAMID_OPEN_FACILITIES\"`: _COMPLETE!!_\n",
    "\n",
    "<br>\n",
    "\n",
    "This method improves over simple binary completeness flags by accounting for both spatial (facility coverage) and temporal (monthly timeliness) dimensions. <br>"
   ]
  },
  {
   "cell_type": "code",
   "execution_count": null,
   "id": "69eabcce-6915-4342-a0f3-99ef18a3d56b",
   "metadata": {},
   "outputs": [],
   "source": [
    "# Parameters\n",
    "# SNT_ROOT_PATH <- \"/home/hexa/workspace\" "
   ]
  },
  {
   "cell_type": "markdown",
   "id": "064495be-24e5-4b76-a91f-7ac3d1a27a5a",
   "metadata": {},
   "source": [
    "## 1. Setup"
   ]
  },
  {
   "cell_type": "code",
   "execution_count": null,
   "id": "35ede7cf-257f-439c-a514-26a7290f881d",
   "metadata": {},
   "outputs": [],
   "source": [
    "# Project paths\n",
    "SNT_ROOT_PATH <- \"/home/hexa/workspace\" \n",
    "CODE_PATH <- file.path(SNT_ROOT_PATH, 'code') # this is where we store snt_utils.r\n",
    "CONFIG_PATH <- file.path(SNT_ROOT_PATH, 'configuration') # .json config file\n",
    "DATA_PATH <- file.path(SNT_ROOT_PATH, 'data', 'dhis2')  \n",
    "\n",
    "# Load utils\n",
    "source(file.path(CODE_PATH, \"snt_utils.r\"))\n",
    "\n",
    "# Load libraries \n",
    "required_packages <- c(\"arrow\", \"tidyverse\", \"stringi\", \"jsonlite\", \"httr\", \"reticulate\", \"glue\")\n",
    "install_and_load(required_packages)\n",
    "\n",
    "# Environment variables\n",
    "Sys.setenv(PROJ_LIB = \"/opt/conda/share/proj\")\n",
    "Sys.setenv(GDAL_DATA = \"/opt/conda/share/gdal\")\n",
    "Sys.setenv(RETICULATE_PYTHON = \"/opt/conda/bin/python\")\n",
    "\n",
    "# Load OpenHEXA sdk\n",
    "openhexa <- import(\"openhexa.sdk\")"
   ]
  },
  {
   "cell_type": "markdown",
   "id": "a7a15634-4623-40f2-8e2d-3fa47203aa6e",
   "metadata": {},
   "source": [
    "### 1.1. Validate parameters"
   ]
  },
  {
   "cell_type": "code",
   "execution_count": null,
   "id": "b17f7685-5291-4e5d-9eec-2d1f9435fccb",
   "metadata": {},
   "outputs": [],
   "source": [
    "# Current options: \n",
    "# \"COUNTRY_CODE_routine.parquet\" (RAW data)\n",
    "# \"COUNTRY_CODE_routine_outliers-mean_removed.parquet\" \n",
    "# \"COUNTRY_CODE_routine_outliers-mean_imputed.parquet\"\n",
    "# \"COUNTRY_CODE_routine_outliers-median_removed.parquet\"\n",
    "# \"COUNTRY_CODE_routine_outliers-median_imputed.parquet\"            \n",
    "# \"COUNTRY_CODE_routine_outliers-iqr_removed.parquet\"\n",
    "# \"COUNTRY_CODE_routine_outliers-iqr_imputed.parquet\"\n",
    "# \"COUNTRY_CODE_routine_outliers-trend_removed.parquet\"\n",
    "# \"COUNTRY_CODE_routine_outliers-trend_imputed.parquet\" \n",
    "if (!exists(\"ROUTINE_FILE\")) ROUTINE_FILE <- glue(\"{COUNTRY_CODE}_routine.parquet\") # default\n",
    "\n",
    "# Options: \"ROUTINE_ACTIVE_FACILITIES\", \"PYRAMID_OPEN_FACILITIES\"\n",
    "if (!exists(\"DATAELEMENT_METHOD_DENOMINATOR\")) DATAELEMENT_METHOD_DENOMINATOR <- \"ROUTINE_ACTIVE_FACILITIES\" "
   ]
  },
  {
   "cell_type": "markdown",
   "id": "7dedcc32-c531-498d-90b9-89b0ee9fb9be",
   "metadata": {},
   "source": [
    "### 1.2. Load and check `snt config` file"
   ]
  },
  {
   "cell_type": "code",
   "execution_count": null,
   "id": "5b6d29ea-91f3-4c53-b95e-4b485f88383f",
   "metadata": {
    "vscode": {
     "languageId": "r"
    }
   },
   "outputs": [],
   "source": [
    "# Load SNT config\n",
    "config_json <- tryCatch({ jsonlite::fromJSON(file.path(CONFIG_PATH, \"SNT_config.json\")) },\n",
    "    error = function(e) {\n",
    "        msg <- paste0(\"[ERROR] Error while loading configuration\", conditionMessage(e))  \n",
    "        cat(msg)   \n",
    "        stop(msg) \n",
    "    })\n",
    "\n",
    "log_msg(paste0(\"SNT configuration loaded from : \", file.path(CONFIG_PATH, \"SNT_config.json\")))"
   ]
  },
  {
   "cell_type": "code",
   "execution_count": null,
   "id": "c26c981c-dadd-48ac-ae35-613b8ba61a82",
   "metadata": {
    "vscode": {
     "languageId": "r"
    }
   },
   "outputs": [],
   "source": [
    "# Configuration settings\n",
    "COUNTRY_CODE <- config_json$SNT_CONFIG$COUNTRY_CODE\n",
    "ADMIN_1 <- toupper(config_json$SNT_CONFIG$DHIS2_ADMINISTRATION_1)\n",
    "ADMIN_2 <- toupper(config_json$SNT_CONFIG$DHIS2_ADMINISTRATION_2)\n",
    "\n",
    "# How to treat 0 values (in this case: \"SET_0_TO_NA\" converts 0 to NAs)\n",
    "NA_TREATMENT <- config_json$SNT_CONFIG$NA_TREATMENT\n",
    "DHIS2_INDICATORS <- names(config_json$DHIS2_DATA_DEFINITIONS$DHIS2_INDICATOR_DEFINITIONS)  # indicators list\n",
    "\n",
    "numerator_indicators  <- c(\"SUSP\", \"TEST\", \"CONF\")  # Parameters in config\n",
    "volume_activity_indicator <- \"CONF\"  # Parameters in config\n",
    "fixed_cols <- c('PERIOD', 'YEAR', 'MONTH', 'ADM1_ID', 'ADM2_ID', 'OU_ID')\n",
    "fixed_cols_rr <- c('YEAR', 'MONTH', 'ADM2_ID', 'REPORTING_RATE') # Fixed cols for exporting RR tables"
   ]
  },
  {
   "cell_type": "markdown",
   "id": "169980bd-3260-42d0-a0dd-b53ad1a8f21d",
   "metadata": {},
   "source": [
    "### 1.3. 🔍 Check: at least 1 indicator must be selected\n",
    "The use can toggle on/off each of the indicators. Therefore, need to make sure at least one is ON. <br>\n",
    "Indicator `CONF` is mandatory, but I think it looks better if they're all displayed in the Run pipeline view (more intuitive)."
   ]
  },
  {
   "cell_type": "code",
   "execution_count": null,
   "id": "b3ebe361-187c-46a0-a9cf-8de31d8c3a41",
   "metadata": {},
   "outputs": [],
   "source": [
    "if (!length(numerator_indicators) > 0) {\n",
    "    msg <- \"[ERROR] Error: no indicator selected, cannot perform calculation of reporting rate method. Select at least one (e.g., `CONF`).\"\n",
    "    cat(msg)   \n",
    "    stop(msg)\n",
    "}"
   ]
  },
  {
   "cell_type": "markdown",
   "id": "e44ae2ab-4af7-475a-8cbe-6d669895a18b",
   "metadata": {},
   "source": [
    "## 2. Load Data"
   ]
  },
  {
   "cell_type": "markdown",
   "id": "39e2add7-bbc7-4312-9a6f-9886d675f532",
   "metadata": {},
   "source": [
    "### 2.1. Load routine data (DHIS2) \n",
    "already formatted & aggregated (output of pipeline XXX)"
   ]
  },
  {
   "cell_type": "code",
   "execution_count": null,
   "id": "a1213723-f7e2-4238-9f37-f1795b187232",
   "metadata": {
    "vscode": {
     "languageId": "r"
    }
   },
   "outputs": [],
   "source": [
    "# DHIS2 Dataset identifier\n",
    "dataset_name <- config_json$SNT_DATASET_IDENTIFIERS$DHIS2_OUTLIERS_IMPUTATION\n",
    "\n",
    "# Load file from dataset\n",
    "dhis2_routine <- tryCatch({ get_latest_dataset_file_in_memory(dataset_name, ROUTINE_FILE) }, \n",
    "                  error = function(e) {\n",
    "                      msg <- paste(\"[ERROR] Error while loading DHIS2 routine data file for: \" , COUNTRY_CODE, conditionMessage(e))  # log error message\n",
    "                      cat(msg)\n",
    "                      stop(msg)\n",
    "})\n",
    "dhis2_routine <- dhis2_routine %>% mutate(across(c(PERIOD, YEAR, MONTH), as.numeric)) # Ensure correct data type for numerical columns \n",
    "\n",
    "# log\n",
    "log_msg(glue(\"DHIS2 routine file {ROUTINE_FILE} loaded from dataset : {dataset_name} dataframe dimensions: {paste(dim(dhis2_routine), collapse=', ')}\"))\n",
    "dim(dhis2_routine)\n",
    "head(dhis2_routine, 2)"
   ]
  },
  {
   "cell_type": "markdown",
   "id": "a8b91360-1a4e-4fc4-9883-602bc0ab2a2a",
   "metadata": {},
   "source": [
    "### 2.3. Load organisation units (DHIS2 pyramid)"
   ]
  },
  {
   "cell_type": "code",
   "execution_count": null,
   "id": "2fd92901-901e-4019-be78-a7718050c1c4",
   "metadata": {},
   "outputs": [],
   "source": [
    "# Load file from dataset\n",
    "dataset_name <- config_json$SNT_DATASET_IDENTIFIERS$DHIS2_DATASET_FORMATTED\n",
    "\n",
    "dhis2_pyramid_formatted <- tryCatch({ get_latest_dataset_file_in_memory(dataset_name, paste0(COUNTRY_CODE, \"_pyramid.parquet\")) }, \n",
    "                error = function(e) {\n",
    "                    msg <- paste(\"Error while loading DHIS2 pyramid FORMATTED data file for: \" , COUNTRY_CODE, conditionMessage(e))  # log error message\n",
    "                    cat(msg)\n",
    "                    stop(msg)\n",
    "})\n",
    "    \n",
    "msg <- paste0(\"DHIS2 pyramid FORMATTED data loaded from dataset : `\", dataset_name, \"`. Dataframe dimensions: \", paste(dim(dhis2_pyramid_formatted), collapse=\", \"))\n",
    "log_msg(msg)\n",
    "dim(dhis2_pyramid_formatted)\n",
    "head(dhis2_pyramid_formatted,2)"
   ]
  },
  {
   "cell_type": "markdown",
   "id": "2b7f4e50-3731-46bc-b7a7-2ef5317da9d1",
   "metadata": {},
   "source": [
    "### 2.3. 🔍 Check expected indicators present in rountine data.\n",
    "Based on which indicator(s) are selected (if any)"
   ]
  },
  {
   "cell_type": "code",
   "execution_count": null,
   "id": "19ff7e56-2397-4ca1-b072-bca4ba1b3d0c",
   "metadata": {},
   "outputs": [],
   "source": [
    "if (!all(numerator_indicators %in% names(dhis2_routine))) {\n",
    "        log_msg(glue(\"🚨 Warning: one or more of the follow column is missing from `dhis2_routine`: {paste(numerator_indicators, collapse = ', ')}\"), \"warning\")\n",
    "}\n",
    "\n",
    "if (!(volume_activity_indicator %in% names(dhis2_routine))) {\n",
    "    msg <- glue(\"[ERROR] Volume activity indicator {volume_activity_indicator} not present in the routine data. Process cannot continue.\")\n",
    "    cat(msg)\n",
    "    stop(msg)\n",
    "}"
   ]
  },
  {
   "cell_type": "markdown",
   "id": "bcbd3a9f-5e45-4ae5-8671-e23155236295",
   "metadata": {},
   "source": [
    "## 3. Reporting rates computations"
   ]
  },
  {
   "cell_type": "code",
   "execution_count": null,
   "id": "3bc2e76a-b5c7-4c71-90f2-c66926ca560a",
   "metadata": {},
   "outputs": [],
   "source": [
    "# Define start and end period based on routine data \n",
    "PERIOD_START <- dhis2_routine$PERIOD %>% min()\n",
    "PERIOD_END <- dhis2_routine$PERIOD %>% max()\n",
    "\n",
    "period_vector <- format(seq(ym(PERIOD_START), ym(PERIOD_END), by = \"month\"), \"%Y%m\")\n",
    "cat(glue(\"Start period: {PERIOD_START} end period: {PERIOD_END} periods count: {length(period_vector)}\"))"
   ]
  },
  {
   "cell_type": "markdown",
   "id": "526bc3af-01c1-4ddc-b3b9-077354e57559",
   "metadata": {},
   "source": [
    "#### 3.1. Build master table"
   ]
  },
  {
   "cell_type": "code",
   "execution_count": null,
   "id": "9308197a-0852-4d34-8888-cf5564f35a9d",
   "metadata": {},
   "outputs": [],
   "source": [
    "log_msg(glue(\"Build master table with periods from {PERIOD_START} to {PERIOD_END} periods count: {length(period_vector)}\"))\n",
    "\n",
    "# Master table contains all period x organisation unit combinations\n",
    "facility_master <- dhis2_pyramid_formatted %>%\n",
    "    rename(\n",
    "        OU_ID = glue::glue(\"LEVEL_{config_json$SNT_CONFIG$ANALYTICS_ORG_UNITS_LEVEL}_ID\"),\n",
    "        OU_NAME = glue::glue(\"LEVEL_{config_json$SNT_CONFIG$ANALYTICS_ORG_UNITS_LEVEL}_NAME\"),\n",
    "        ADM2_ID = str_replace(ADMIN_2, \"NAME\", \"ID\"),\n",
    "        ADM2_NAME = all_of(ADMIN_2),\n",
    "        ADM1_ID = str_replace(ADMIN_1, \"NAME\", \"ID\"),\n",
    "        ADM1_NAME = all_of(ADMIN_1)\n",
    "    ) %>%\n",
    "    select(ADM1_ID, ADM1_NAME, ADM2_ID, ADM2_NAME, OU_ID, OU_NAME, OPENING_DATE, CLOSED_DATE) %>%\n",
    "    distinct() %>%\n",
    "    tidyr::crossing(PERIOD = period_vector) %>%\n",
    "    mutate(PERIOD=as.numeric(PERIOD))\n",
    "    "
   ]
  },
  {
   "cell_type": "markdown",
   "id": "d5af25ad-f17c-4cdc-ac96-908af49fe558",
   "metadata": {},
   "source": [
    "#### 3.2. Compute data element availability (numerator)"
   ]
  },
  {
   "cell_type": "code",
   "execution_count": null,
   "id": "9297344e-1e82-4a0c-9e43-c9df2c4747f9",
   "metadata": {},
   "outputs": [],
   "source": [
    "log_msg(glue(\"Computing data element availability based on selection: {paste(numerator_indicators, collapse=', ')}\"))\n",
    "\n",
    "# join rountine indicator values and complete numerator selection\n",
    "facility_master_routine <- facility_master %>% \n",
    "    left_join(dhis2_routine %>% select(OU_ID, PERIOD, all_of(DHIS2_INDICATORS)), \n",
    "              by = c(\"OU_ID\", \"PERIOD\")) %>%\n",
    "    mutate(\n",
    "        YEAR = as.numeric(substr(PERIOD, 1, 4)),\n",
    "        DE_AVAILABLE = ifelse(\n",
    "            rowSums(!is.na(across(all_of(numerator_indicators))) & across(all_of(numerator_indicators)) > 0) > 0, 1, 0),        \n",
    "        COUNT = 1 # Counting every facility\n",
    "    )\n",
    "\n",
    "dim(facility_master_routine)\n",
    "head(facility_master_routine, 3)"
   ]
  },
  {
   "cell_type": "markdown",
   "id": "89c3e5c8-4a4e-497d-9d75-2aed2e8fe619",
   "metadata": {},
   "source": [
    "#### 3.3. Compute health facility `OPEN` flag."
   ]
  },
  {
   "cell_type": "code",
   "execution_count": null,
   "id": "3e310af0-fb16-4295-869b-514d2cb453fe",
   "metadata": {},
   "outputs": [],
   "source": [
    "# Is the facility open for the period ? \n",
    "facility_master_routine <- facility_master_routine %>%\n",
    "    mutate(            \n",
    "        OPEN = ifelse(\n",
    "          (!is.na(as.Date(OPENING_DATE)) & (as.Date(OPENING_DATE) > as.Date(ym(PERIOD)))) | \n",
    "          (!is.na(CLOSED_DATE) & (as.Date(CLOSED_DATE) < as.Date(ym(PERIOD)))),\n",
    "          0, 1\n",
    "        )\n",
    "  )"
   ]
  },
  {
   "cell_type": "markdown",
   "id": "6ff77ade-063a-47c6-a7cc-86b13a44435a",
   "metadata": {},
   "source": [
    "#### 3.4. Compute health facility `IS_ACTIVE` flag"
   ]
  },
  {
   "cell_type": "code",
   "execution_count": null,
   "id": "002e7fbf-1f68-4419-be2d-f16d8c72936d",
   "metadata": {},
   "outputs": [],
   "source": [
    "# Is the facility reporting data elements over the year ?\n",
    "facility_master_routine_01 <- facility_master_routine %>%\n",
    "    group_by(OU_ID, YEAR) %>%\n",
    "    mutate(IS_ACTIVE = max(DE_AVAILABLE, na.rm = TRUE)) %>%  # compute per OU_ID × YEAR\n",
    "    ungroup()"
   ]
  },
  {
   "cell_type": "markdown",
   "id": "160c08ec-cc9a-4e1a-99ec-f703db83a71d",
   "metadata": {},
   "source": [
    "#### 3.5. Compute advanced weight (based on volume of activity)\n",
    "Volume of activity = confirmed cases (parameterized by `volume_activity_indicator`)"
   ]
  },
  {
   "cell_type": "code",
   "execution_count": null,
   "id": "4420e559-4134-4fc3-8950-9972ebede00e",
   "metadata": {},
   "outputs": [],
   "source": [
    "log_msg(glue(\"Computing volume of activity using indicator: '{volume_activity_indicator}'\"))\n",
    "\n",
    "# Compute HF and district level 'volume_activity_indicator'\n",
    "mean_monthly_cases <- dhis2_routine %>% \n",
    "    select(ADM2_ID, OU_ID, !!sym(volume_activity_indicator)) %>% \n",
    "    group_by(ADM2_ID, OU_ID) %>% \n",
    "    summarise(MEAN_HF_ACTIVITY = mean(!!sym(volume_activity_indicator), na.rm=TRUE), .groups = \"drop\")\n",
    "\n",
    "mean_monthly_cases_adm2 <- mean_monthly_cases %>% \n",
    "    select(ADM2_ID, MEAN_HF_ACTIVITY) %>% \n",
    "    group_by(ADM2_ID) %>% \n",
    "    summarise(TOTAL_MEAN_ADM2_ACTIVITY = sum(MEAN_HF_ACTIVITY, na.rm=TRUE), \n",
    "              HF_COUNT = n())\n",
    "\n",
    "# Compute weights\n",
    "hf_weights <- mean_monthly_cases %>% \n",
    "    left_join(mean_monthly_cases_adm2, by = \"ADM2_ID\") %>%\n",
    "    mutate(WEIGHT = MEAN_HF_ACTIVITY / TOTAL_MEAN_ADM2_ACTIVITY * HF_COUNT)\n",
    "\n",
    "# Join with rest of data\n",
    "facility_master_routine_02 <- facility_master_routine_01 %>%\n",
    "    left_join(hf_weights %>% select(OU_ID, WEIGHT), by = c(\"OU_ID\"))"
   ]
  },
  {
   "cell_type": "markdown",
   "id": "2fed8529-70e9-4e2e-a498-fe3dd7499bb3",
   "metadata": {},
   "source": [
    "#### 3.6. Compute weighted availability"
   ]
  },
  {
   "cell_type": "code",
   "execution_count": null,
   "id": "216f7658-c1da-44e4-9f4f-fdb44fd40259",
   "metadata": {},
   "outputs": [],
   "source": [
    "# Compute weighted DE_AVAILABLE \n",
    "log_msg(glue(\"Computing weighted availability.\"))\n",
    "\n",
    "facility_master_routine_02$DE_AVAILABLE_W <- facility_master_routine_02$DE_AVAILABLE * facility_master_routine_02$WEIGHT\n",
    "facility_master_routine_02$COUNT_W <- facility_master_routine_02$COUNT * facility_master_routine_02$WEIGHT   \n",
    "facility_master_routine_02$OPEN_W <- facility_master_routine_02$OPEN * facility_master_routine_02$WEIGHT\n",
    "facility_master_routine_02$IS_ACTIVE_W <- facility_master_routine_02$IS_ACTIVE * facility_master_routine_02$WEIGHT\n",
    "\n",
    "dim(facility_master_routine_02)\n",
    "head(facility_master_routine_02, 2)"
   ]
  },
  {
   "cell_type": "markdown",
   "id": "9c0367f7-91cd-4524-abe4-11adf2fcea02",
   "metadata": {},
   "source": [
    "#### 3.7. Aggregate data at ADM2 level"
   ]
  },
  {
   "cell_type": "code",
   "execution_count": null,
   "id": "9d863761-c694-482f-bb4b-bf824c1ab101",
   "metadata": {},
   "outputs": [],
   "source": [
    "log_msg(glue(\"Aggregating data at admin level 2.\"))\n",
    "\n",
    "reporting_rate_adm2 <- facility_master_routine_02 %>% \n",
    "    group_by(ADM1_ID, ADM1_NAME, ADM2_ID, ADM2_NAME, YEAR, PERIOD) %>%\n",
    "    summarise(DE_AVAILABLE = sum(DE_AVAILABLE, na.rm = TRUE),\n",
    "              HF = sum(COUNT, na.rm = TRUE),\n",
    "              OPEN_HF = sum(OPEN, na.rm = TRUE),\n",
    "              ACTIVE_HF = sum(IS_ACTIVE, na.rm = TRUE),\n",
    "              DE_AVAILABLE_W = sum(DE_AVAILABLE_W, na.rm = TRUE),\n",
    "              HF_W = sum(COUNT_W, na.rm = TRUE),\n",
    "              OPEN_HF_W = sum(OPEN_W, na.rm = TRUE),\n",
    "              ACTIVE_HF_W = sum(IS_ACTIVE_W, na.rm = TRUE), \n",
    "              .groups = \"drop\") %>%\n",
    "      mutate(\n",
    "        RR_TOTAL_HF = DE_AVAILABLE / HF,\n",
    "        RR_OPEN_HF = DE_AVAILABLE / OPEN_HF,\n",
    "        RR_ACTIVE_HF = DE_AVAILABLE / ACTIVE_HF,\n",
    "        RR_TOTAL_HF_W = DE_AVAILABLE_W / HF_W,\n",
    "        RR_OPEN_HF_W = DE_AVAILABLE_W / OPEN_HF_W,\n",
    "        RR_ACTIVE_HF_W = DE_AVAILABLE_W / ACTIVE_HF_W\n",
    "      )\n",
    "\n",
    "dim(reporting_rate_adm2)\n",
    "head(reporting_rate_adm2, 2)"
   ]
  },
  {
   "cell_type": "code",
   "execution_count": null,
   "id": "a0613dec-4515-4c1b-80a3-83633a5f07d8",
   "metadata": {},
   "outputs": [],
   "source": [
    "# quick check\n",
    "# head(reporting_rate_adm2 %>% filter(ADM2_ID==\"CyHuq664hCU\", PERIOD==201801))"
   ]
  },
  {
   "cell_type": "markdown",
   "id": "2866816a-7015-4c5c-b904-f553f3b4790d",
   "metadata": {},
   "source": [
    "## 4. 📁 Export to `data/` folder"
   ]
  },
  {
   "cell_type": "markdown",
   "id": "05f3b601-0ecb-43b8-8bdb-15ae30200d17",
   "metadata": {},
   "source": [
    "### 4.1. Select results and format"
   ]
  },
  {
   "cell_type": "code",
   "execution_count": null,
   "id": "16ffe2c2-8cc0-4bb2-913a-911cef653a77",
   "metadata": {},
   "outputs": [],
   "source": [
    "# one of the 2 options\n",
    "if (DATAELEMENT_METHOD_DENOMINATOR == \"ROUTINE_ACTIVE_FACILITIES\") { \n",
    "    rr_column_selection <- \"RR_ACTIVE_HF_W\"\n",
    "} else {\n",
    "    rr_column_selection <- \"RR_OPEN_HF_W\"\n",
    "}"
   ]
  },
  {
   "cell_type": "code",
   "execution_count": null,
   "id": "0e2ed1f2-a611-4c63-8fb9-f940ec27e9de",
   "metadata": {},
   "outputs": [],
   "source": [
    "log_msg(glue(\"Formatting table for '{DATAELEMENT_METHOD_DENOMINATOR}' selection.\"))\n",
    "\n",
    "# Select column and format final table\n",
    "reporting_rate_dataelement <- reporting_rate_adm2 %>%\n",
    "    mutate(MONTH = PERIOD %% 100) %>%\n",
    "    rename(REPORTING_RATE = !!sym(rr_column_selection)) %>%\n",
    "    select(all_of(fixed_cols_rr))\n",
    "\n",
    "print(dim(reporting_rate_dataelement))\n",
    "head(reporting_rate_dataelement, 3)"
   ]
  },
  {
   "cell_type": "markdown",
   "id": "c0e31831-499f-4b63-9f44-a079ff550f0c",
   "metadata": {},
   "source": [
    "### 4.2. Write files"
   ]
  },
  {
   "cell_type": "code",
   "execution_count": null,
   "id": "bbf27852-8ec5-4370-aae2-49e082928fe1",
   "metadata": {},
   "outputs": [],
   "source": [
    "output_data_path <- file.path(DATA_PATH, \"reporting_rate\")\n",
    "\n",
    "# parquet\n",
    "file_path <- file.path(output_data_path, paste0(COUNTRY_CODE, \"_reporting_rate_dataelement.parquet\"))\n",
    "write_parquet(reporting_rate_dataelement, file_path)\n",
    "log_msg(glue(\"Exported : {file_path}\"))"
   ]
  },
  {
   "cell_type": "code",
   "execution_count": null,
   "id": "c8805062-ecfe-4953-be41-29f2559abd0e",
   "metadata": {},
   "outputs": [],
   "source": [
    "# csv\n",
    "file_path <- file.path(output_data_path, paste0(COUNTRY_CODE, \"_reporting_rate_dataelement.csv\"))\n",
    "write.csv(reporting_rate_dataelement, file_path, row.names = FALSE)\n",
    "log_msg(glue(\"Exported : {file_path}\"))"
   ]
  }
 ],
 "metadata": {
  "kernelspec": {
   "display_name": "R",
   "language": "R",
   "name": "ir"
  },
  "language_info": {
   "codemirror_mode": "r",
   "file_extension": ".r",
   "mimetype": "text/x-r-source",
   "name": "R",
   "pygments_lexer": "r",
   "version": "4.4.3"
  }
 },
 "nbformat": 4,
 "nbformat_minor": 5
}
