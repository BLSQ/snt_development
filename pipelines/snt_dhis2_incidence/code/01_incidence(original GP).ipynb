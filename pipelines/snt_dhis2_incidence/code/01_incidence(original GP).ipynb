{
 "cells": [
  {
   "cell_type": "markdown",
   "id": "f5827740-2917-4504-9017-9ec7d408e5f4",
   "metadata": {},
   "source": [
    "Planning this script. Steps:\n",
    "* 0. Set parameters (will be part of pipeline so this block will be silenced)\n",
    "  1. Setup:\n",
    "        * Paths\n",
    "        * Utils functions\n",
    "        * Load and check config file\n",
    "  2. Load Data\n",
    "        * **Routine data** (DHIS2) already formatted & aggregated (output of pipeline XXX)\n",
    "        * **Population data** (DHIS2) already formatted & aggregated (output of pipeline YYY) & aggregated at **ADM2 x YEAR** level (⚠️ how to implement this better!⚠️)\n",
    "        * (optional) **Care seeking (taux recherche soins)** (DHS)\n",
    "        * (user choice) **Reporting Rate**, pick one of:\n",
    "            * \"**SNIS**\": pre-cumputed (directly downloadable from SNIS DHIS2 instance) and formatted&aligned elsewhere (output of pipelibe ZZZ ⚠️ YET TO DO ⚠️)\n",
    "            * \"**ANY**\n",
    "            * \"**CONF** / \"Fre\" way (based on code in nb: `~/dhis2_incidence/code/WIP/code_from_fre/DRC_DHIS2_analyses_fvdb_v2.ipynb`)\n",
    "  3. Calculate **Incidence**\n",
    "        * define **functions** - ⚠️ functions not needed if we only run it once (1 RR only, user choice) -> **make script** so it's easer to debug ⚠️\n",
    "            * `caluclate_monthly_cases()`\n",
    "            * `calculate_yearly_incidence()`: Crude, Adjusted 1 (Testing), Adjusted 2 (Reporting), (optional) Adjusted 3 (Care Seeking)\n",
    "  7. **Export** Incidence data to **Datasets**\n",
    "  8. 🚧 Reporting: data inspection (plots and summary tables) - this might go to dedicated nb ..."
   ]
  },
  {
   "cell_type": "markdown",
   "id": "cdd5409b-dc0e-45f4-ae4e-dffcdb25059b",
   "metadata": {},
   "source": [
    "-------------------\n",
    "**Naming harmonization to improve code readability:** 🚧 IN PROGRESS 🚧\n",
    "\n",
    "**Incidence**, COLUMN NAMES (⚠️ to be capitalized!):\n",
    "* \"crude_incidence\" = \"Crude\"\n",
    "* \"incidence_adj_testing\" = \"Adjusted 1 (Testing)\"\n",
    "* \"incidence_adj_reporting\" = \"Adjusted 2 (Reporting)\"\n",
    "* _\"incidence_adj_careseeking\" = \"Adjusted 3 (Careseeking)\"_ ⚠️is this good naming?"
   ]
  },
  {
   "cell_type": "markdown",
   "id": "96d5dffc-ff34-4a14-b2b7-1e71e6afad07",
   "metadata": {},
   "source": [
    "**Reporting Rate** data frames, based on different **methods**:\n",
    "* follwo this structure: reporting\\_rate\\_\\<method\\>\\_\\<periodicity\\>. So:\n",
    "    * **SNIS**: `reporting_rate_snis_year` , `reporting_rate_snis_month`\n",
    "    * **CONF** (Diallo 2025): `reporting_rate_conf_year` , `reporting_rate_conf_month`\n",
    "    * **ANY** (Ousmane's, BFA): `reporting_rate_any_year` , `reporting_rate_any_month` "
   ]
  },
  {
   "cell_type": "markdown",
   "id": "5e8f5bf2-922a-468a-8a2c-8e56d7e652df",
   "metadata": {},
   "source": [
    "--------------------"
   ]
  },
  {
   "cell_type": "markdown",
   "id": "c8179a8a-e8f9-4c0a-9210-090dd0ded560",
   "metadata": {},
   "source": [
    "## IMPORTANT:\n",
    "* \"**SNT_config.json**\" **changes country often** (depends on when Esteban works on it) so you might need to manually set it to \"SNT_config_**BFA**.json\" or \"SNT_config_**DRC**.json\" if the code cannot find the routine data file ... !\n",
    "* **Population** data is **pre-formatted** in \"pipelines/dhis2_incidence/code/WIP/**TEMP_population_formatting**.ipynb\"! Might need to **re-run that nb with a different config file**\n",
    "    * Definitely re-run \"TEMP_population_formatting.ipynb\" if you get `ADM2_POP` and all incidences as `NA` (section 4) - because that means that it's using the wrong POP data (e.g., BFA instead of DRC or vice versa, which happens when config file is modified by Esteban)\n",
    "* Currently using **mock data** for 1) **Careseeking** and 2) **RR from SNIS** to test code <-- remove/replace with actual tables!"
   ]
  },
  {
   "cell_type": "markdown",
   "id": "17575a68-930d-4a82-9f07-9c940489eb0b",
   "metadata": {},
   "source": [
    "## TO DO:\n",
    "* <s>define and implememnt logic to handle both presence and absenced of **care seeking** data! At the moment I don't calculate N3 (but I have the code for it in DRC workspace)</s>\n",
    "* <s>save output tables in **Datasets**</s>\n",
    "* <s>add logic to conditional **import** of **CARESEEKING data** so that if not there (prints message/warning and) it just skips without breaking code ... </s>\n",
    "* <s>**Move Reporting Rate** calculations and analysis (plots and summary stats) to a separate notebook and pipeline!!</s>\n",
    "* <s>**Update reporting rate data import**, to be from `/data/reporting_rate/`</s>\n",
    "* <s>Once _Reporting Rate_ is saved to _Datasets_ (still WIP), modify code at chunk `# Load reporting rate data based on choice` (see # comments in there, basically comment/uncomment existing code as \"switch\")</s>\n",
    "* <s>Make this nb into a **pipeline**</s>\n",
    "* **update path for `FORMATTED_POP_DATA_PATH`** <- Once DHIS2 formatting pipelines gets POP data already aggregated to YEAR * ADM2 (read from **DATASETs** instead!)"
   ]
  },
  {
   "cell_type": "markdown",
   "id": "339f6d58-0965-40ef-b718-96195d2463f8",
   "metadata": {},
   "source": [
    "## 0. Parameters\n",
    "👇 these are now ⚡**pipeline parameters**⚡!"
   ]
  },
  {
   "cell_type": "code",
   "execution_count": 58,
   "id": "7cf38923-84ed-407a-8df7-26b46737a04d",
   "metadata": {},
   "outputs": [],
   "source": [
    "# # Which config file to use? Aka, which COUNTRY?\n",
    "# #   ⚠️ this shoudl be handled in the pipeline ... \n",
    "# #   ⚠️ ask Esteban what could be the best approach (should be default values based on user as normally they'd have access to one cuntry only)\n",
    "# CONFIG_FILE_NAME <- \"SNT_config_COD.json\" #  \"SNT_config.json\"  \"SNT_config_COD.json\"\n",
    "\n",
    "# # Is care seking data available?\n",
    "# CARESEEKING_DATA_AVAILABLE <- TRUE # FALSE\n",
    "# CARESEEKING_DATA_FILENAME <- \"_mock_trs.rds\" # User must enter only if CARESEEKING_DATA_AVAILABLE == TRUE\n",
    "\n",
    "# # Which Reporting Rate to use?\n",
    "# REPORTING_RATE_CHOICE <- \"conf\" # (TBD what to use as default ... ) \n",
    "# # Other options:\n",
    "# # - \"conf\" (Fre's, from \"DRC_DHIS2_analyses_fvdb_v2.ipynb\") \n",
    "# # - \"any\" \"Ousmane's\" way from old BFA ws\n",
    "# # - \"dummy-snis\" to make it CLEAR that is DUMMY DATA ... !\n",
    "# # - *possibly* also \"custom\" (user defined) 💡 to figure out how to handle this )"
   ]
  },
  {
   "cell_type": "markdown",
   "id": "14900fbb-15cc-437a-974e-3dbb4167bf27",
   "metadata": {},
   "source": [
    "#### Set Default values **if _not_ provided by pipeline**\n",
    "This makes the execution flexible and \"safe\": nb can be run manually from here or be executed via pipeline, without having to change anything in the code!\n",
    "\n",
    "🚨 **Important**: must use the `if (!exists(\"PARAMETER_NAME\")) { ... }` formula to avoid over writing the parameters injected by Papermill (into special cell a top of nb, see OUTPUT nb)"
   ]
  },
  {
   "cell_type": "code",
   "execution_count": 59,
   "id": "71e02127-a999-400c-be0b-f1560aa7eeb3",
   "metadata": {},
   "outputs": [],
   "source": [
    "# Set BACKUP VALUE: name of config file to use\n",
    "if (!exists(\"CONFIG_FILE_NAME\")) {\n",
    "  CONFIG_FILE_NAME <- \"SNT_config_COD.json\"  # Default if not provided by pipeline\n",
    "}\n",
    "\n",
    "if (!exists(\"CARESEEKING_DATA_AVAILABLE\")) {\n",
    "  CARESEEKING_DATA_AVAILABLE <- TRUE\n",
    "}\n",
    "\n",
    "if (!exists(\"CARESEEKING_DATA_FILENAME\")) {\n",
    "  CARESEEKING_DATA_FILENAME <- \"_mock_trs.rds\" \n",
    "    # User must enter only if CARESEEKING_DATA_AVAILABLE == TRUE\n",
    "}\n",
    "\n",
    "if (!exists(\"REPORTING_RATE_CHOICE\")) {\n",
    "  REPORTING_RATE_CHOICE <- \"conf\"\n",
    "    # Other options:\n",
    "    # - \"conf\" (Fre's, from \"DRC_DHIS2_analyses_fvdb_v2.ipynb\") \n",
    "    # - \"any\" \"Ousmane's\" way from old BFA ws\n",
    "    # - \"dummy-snis\" to make it CLEAR that is DUMMY DATA ... !\n",
    "    # - *possibly* also \"custom\" (user defined) 💡 to figure out how to handle this )\n",
    "}"
   ]
  },
  {
   "cell_type": "markdown",
   "id": "af076158-1f5a-408d-8ce2-2f2101d0531c",
   "metadata": {},
   "source": [
    "## 1. Setup"
   ]
  },
  {
   "cell_type": "markdown",
   "id": "3ae826e4-f728-4c8d-81fb-0857234ac622",
   "metadata": {},
   "source": [
    "### 1.1. Paths"
   ]
  },
  {
   "cell_type": "code",
   "execution_count": 60,
   "id": "e6d8aa6b-7547-4060-9cab-07cce45f927c",
   "metadata": {},
   "outputs": [],
   "source": [
    "# Set BACKUP VALUE: root path - NEVER CHANGE THIS!\n",
    "if (!exists(\"ROOT_PATH\")) {\n",
    "  ROOT_PATH <- \"~/workspace\"  \n",
    "}"
   ]
  },
  {
   "cell_type": "code",
   "execution_count": 61,
   "id": "b5f1b8ce-db82-4295-8e74-00b765cf0b9d",
   "metadata": {},
   "outputs": [],
   "source": [
    "# PROJECT PATHS\n",
    "\n",
    "# Root\n",
    "# ROOT_PATH <- '~/workspace'\n",
    "\n",
    "# Project folders\n",
    "CODE_PATH <- file.path(ROOT_PATH, 'code') # this is where we store snt_functions.r and snt_utils.r\n",
    "CONFIG_PATH <- file.path(ROOT_PATH, 'configuration') # .json config file\n",
    "DATA_PATH <- file.path(ROOT_PATH, 'data') # same as in Datasets but /data/ gets over written every time a new version of Datasets is pushed\n",
    "\n",
    "# ⚠️ TEMPORARY - until DHIS2 formatting pipelines get POP data already aggregated to YEAR * ADM2 ⚠️\n",
    "#    ... then read from DATASETs instead!\n",
    "FORMATTED_POP_DATA_PATH <- '/home/hexa/workspace/pipelines/dhis2_incidence/code/WIP'\n",
    "\n",
    "# TEMPORARY solution to test code: use MOCK data (see `00_TEMP_make_mock_TRS.ipynb`) \n",
    "MOCK_DATA_PATH <- file.path(DATA_PATH, \"dummy_data\" ) # data/dummy_data/COD_mock_rr_snis.rds"
   ]
  },
  {
   "cell_type": "markdown",
   "id": "22971de0-1431-4cbd-b8c1-3bd3e1609e0d",
   "metadata": {},
   "source": [
    "### 1.2. Utils functions"
   ]
  },
  {
   "cell_type": "code",
   "execution_count": 62,
   "id": "1784fd43-03f3-478b-8148-4b478317ea21",
   "metadata": {},
   "outputs": [],
   "source": [
    "source(file.path(CODE_PATH, \"snt_utils.r\"))"
   ]
  },
  {
   "cell_type": "markdown",
   "id": "3bbcbd39-54e8-4ece-9244-30d7d30291d2",
   "metadata": {},
   "source": [
    "### 1.3. Packages"
   ]
  },
  {
   "cell_type": "code",
   "execution_count": 63,
   "id": "426ecff6-0b4c-474d-a48d-826002205b89",
   "metadata": {},
   "outputs": [
    {
     "name": "stdout",
     "output_type": "stream",
     "text": [
      "              arrow           tidyverse             stringi                  sf \n",
      "     \"arrow 18.1.0\"   \"tidyverse 2.0.0\"     \"stringi 1.8.7\"         \"sf 1.0.20\" \n",
      "           jsonlite                httr          reticulate \n",
      "   \"jsonlite 1.8.9\"        \"httr 1.4.7\" \"reticulate 1.42.0\" \n"
     ]
    }
   ],
   "source": [
    "# List required pcks  ---------------->  check  what are the really required libraries\n",
    "required_packages <- c(\"arrow\", # for .parquet\n",
    "                       \"tidyverse\",\n",
    "                       \"stringi\", \n",
    "                       \"sf\",\n",
    "                       \"jsonlite\", \n",
    "                       \"httr\", \n",
    "                       \"reticulate\")\n",
    "\n",
    "# Execute function\n",
    "install_and_load(required_packages)"
   ]
  },
  {
   "cell_type": "markdown",
   "id": "18a8e0c1-ac09-4435-b6f4-5f91fd916396",
   "metadata": {},
   "source": [
    "#### For 📦{sf}, tell OH where to find stuff ..."
   ]
  },
  {
   "cell_type": "code",
   "execution_count": 64,
   "id": "91a66fb7-dd5e-43fd-a6a2-d8bb9f0315d6",
   "metadata": {},
   "outputs": [],
   "source": [
    "# Hope this gets fixed at the source one day ...\n",
    "Sys.setenv(PROJ_LIB = \"/opt/conda/share/proj\")\n",
    "Sys.setenv(GDAL_DATA = \"/opt/conda/share/gdal\")"
   ]
  },
  {
   "cell_type": "markdown",
   "id": "ac9ee427-020e-47c5-b2c9-5ca24e1f2779",
   "metadata": {},
   "source": [
    "#### Set environment to load openhexa.sdk from the right path"
   ]
  },
  {
   "cell_type": "code",
   "execution_count": 65,
   "id": "aa331278-573d-4a22-ab16-da6972d7b0be",
   "metadata": {},
   "outputs": [
    {
     "data": {
      "text/html": [
       "'/opt/conda/bin/python'"
      ],
      "text/latex": [
       "'/opt/conda/bin/python'"
      ],
      "text/markdown": [
       "'/opt/conda/bin/python'"
      ],
      "text/plain": [
       "[1] \"/opt/conda/bin/python\""
      ]
     },
     "metadata": {},
     "output_type": "display_data"
    }
   ],
   "source": [
    "# Set environment to load openhexa.sdk from the right path\n",
    "Sys.setenv(RETICULATE_PYTHON = \"/opt/conda/bin/python\")\n",
    "reticulate::py_config()$python\n",
    "openhexa <- import(\"openhexa.sdk\")"
   ]
  },
  {
   "cell_type": "markdown",
   "id": "339b2e8b-9bf6-4eaf-b283-d9360c1c6899",
   "metadata": {},
   "source": [
    "### 1.4. Load and check `config` file"
   ]
  },
  {
   "cell_type": "code",
   "execution_count": 66,
   "id": "f1c46526-6844-43ae-bb53-d8d1ad2fac24",
   "metadata": {},
   "outputs": [
    {
     "name": "stdout",
     "output_type": "stream",
     "text": [
      "[1] \"SNT configuration loaded from  : ~/workspace/configuration/SNT_config_COD_GP.json\"\n"
     ]
    }
   ],
   "source": [
    "# Load SNT config\n",
    "\n",
    "config_json <- tryCatch({\n",
    "        fromJSON(file.path(CONFIG_PATH, CONFIG_FILE_NAME)) # \"SNT_config_COD.json\"\n",
    "    },\n",
    "    error = function(e) {\n",
    "        msg <- paste0(\"Error while loading configuration\", conditionMessage(e))  \n",
    "        cat(msg)   \n",
    "        stop(msg) \n",
    "    })\n",
    "\n",
    "msg <- paste0(\"SNT configuration loaded from  : \", file.path(CONFIG_PATH, CONFIG_FILE_NAME)) \n",
    "log_msg(msg)"
   ]
  },
  {
   "cell_type": "markdown",
   "id": "6d49c1a8-c9e2-4f4e-abdc-cc4bd0538d0d",
   "metadata": {},
   "source": [
    "**Checks for SNT mandatory configuration fields**"
   ]
  },
  {
   "cell_type": "code",
   "execution_count": 67,
   "id": "5d876f3d-057f-485d-92a8-6f8769dbe5d4",
   "metadata": {},
   "outputs": [
    {
     "name": "stdout",
     "output_type": "stream",
     "text": [
      "[1] \"COUNTRY_CODE : COD\"\n",
      "[1] \"DHIS2_ADMINISTRATION_1 : level_2_name\"\n",
      "[1] \"DHIS2_ADMINISTRATION_2 : level_3_name\"\n"
     ]
    }
   ],
   "source": [
    "# CHECK SNT configuration \n",
    "snt_config_mandatory <- c(\"COUNTRY_CODE\", \"DHIS2_ADMINISTRATION_1\", \"DHIS2_ADMINISTRATION_2\") \n",
    "\n",
    "for (conf in snt_config_mandatory) {\n",
    "    print(paste(conf, \":\", config_json$SNT_CONFIG[conf]))\n",
    "    if (is.null(config_json$SNT_CONFIG[[conf]])) {\n",
    "        msg <- paste(\"Missing configuration input:\", conf)\n",
    "        cat(msg)   \n",
    "        stop(msg)\n",
    "    }\n",
    "}"
   ]
  },
  {
   "cell_type": "markdown",
   "id": "29182f25-b0cf-46aa-9818-49616cd3f353",
   "metadata": {},
   "source": [
    "**Save config fields as variables**"
   ]
  },
  {
   "cell_type": "code",
   "execution_count": 68,
   "id": "c52654c8-8a19-4e0c-a83b-1bc2eecae6bc",
   "metadata": {},
   "outputs": [],
   "source": [
    "# Generic\n",
    "COUNTRY_CODE <- config_json$SNT_CONFIG$COUNTRY_CODE\n",
    "ADMIN_1 <- toupper(config_json$SNT_CONFIG$DHIS2_ADMINISTRATION_1)\n",
    "ADMIN_2 <- toupper(config_json$SNT_CONFIG$DHIS2_ADMINISTRATION_2)\n",
    "\n",
    "# Specific to INCIDENCE calculation (this nb)\n",
    "# How to treat 0 values (in this case: \"SET_0_TO_NA\" converts 0 to NAs)\n",
    "NA_TREATMENT <- config_json$SNT_CONFIG$NA_TREATMENT\n",
    "\n",
    "# Which (aggregated) indicators to use to evaluate \"activity\" of an HF - for Reporting Rate method \"ANY\"\n",
    "DHIS2_INDICATORS <- names(config_json$DHIS2_DATA_DEFINITIONS$DHIS2_INDICATOR_DEFINITIONS)"
   ]
  },
  {
   "cell_type": "code",
   "execution_count": 69,
   "id": "2a0a8562-4a70-455c-9ccf-aa39f4cf4e31",
   "metadata": {},
   "outputs": [
    {
     "name": "stdout",
     "output_type": "stream",
     "text": [
      "[1] \"Fixed routine data (\\\"dhis2_routine\\\") columns (always expected):  OU, PERIOD, YEAR, MONTH, ADM1_ID, ADM1, ADM2_ID, ADM2\"\n"
     ]
    }
   ],
   "source": [
    "# Fixed routine formatting columns\n",
    "fixed_cols <- c('OU','PERIOD', 'YEAR', 'MONTH', 'ADM1_ID', 'ADM1', 'ADM2_ID', 'ADM2') # use `OU` as it contains unique ids (OU_NAME has homonimous values!)\n",
    "print(paste(\"Fixed routine data (\\\"dhis2_routine\\\") columns (always expected): \", paste(fixed_cols, collapse=\", \")))"
   ]
  },
  {
   "cell_type": "markdown",
   "id": "8d8d9be2-bf05-466d-811e-6beea0dccfde",
   "metadata": {},
   "source": [
    "## 2. Load Data"
   ]
  },
  {
   "cell_type": "markdown",
   "id": "0fa1b169-fc55-4ef1-b58f-6a7dc9d1dec3",
   "metadata": {},
   "source": [
    "### 2.1. **Routine** data (DHIS2) \n",
    "already formatted & aggregated (output of pipeline XXX)"
   ]
  },
  {
   "cell_type": "code",
   "execution_count": 70,
   "id": "586e8da8-4e1c-431a-9b8d-1169167e1c09",
   "metadata": {},
   "outputs": [
    {
     "name": "stdout",
     "output_type": "stream",
     "text": [
      "[1] \"File downloaded successfully from dataset version: COD_snt_20250516_0756\"\n",
      "[1] \"DHIS2 routine data loaded from dataset : snt-dhis2-formatted dataframe dimensions: 674988, 17\"\n"
     ]
    }
   ],
   "source": [
    "# DHIS2 Dataset extract identifier\n",
    "dataset_name <- config_json$SNT_DATASET_IDENTIFIERS$DHIS2_DATASET_FORMATTED\n",
    "\n",
    "# Load file from dataset\n",
    "dhis2_routine <- tryCatch({ get_latest_dataset_file_in_memory(dataset_name, paste0(COUNTRY_CODE, \"_routine.parquet\")) }, \n",
    "                  error = function(e) {\n",
    "                      msg <- paste(\"Error while loading DHIS2 routine data file for: \" , COUNTRY_CODE, conditionMessage(e))  # log error message\n",
    "                      cat(msg)\n",
    "                      stop(msg)\n",
    "})\n",
    "\n",
    "msg <- paste0(\"DHIS2 routine data loaded from dataset : \", dataset_name, \" dataframe dimensions: \", paste(dim(dhis2_routine), collapse=\", \"))\n",
    "log_msg(msg)"
   ]
  },
  {
   "cell_type": "code",
   "execution_count": 71,
   "id": "edb2fcdc-ce0a-4c78-b06a-9f4610ab4714",
   "metadata": {},
   "outputs": [
    {
     "data": {
      "text/html": [
       "<table class=\"dataframe\">\n",
       "<caption>A tibble: 6 × 17</caption>\n",
       "<thead>\n",
       "\t<tr><th scope=col>PERIOD</th><th scope=col>YEAR</th><th scope=col>MONTH</th><th scope=col>OU</th><th scope=col>OU_NAME</th><th scope=col>ADM1</th><th scope=col>ADM1_ID</th><th scope=col>ADM2</th><th scope=col>ADM2_ID</th><th scope=col>SUSP</th><th scope=col>TEST</th><th scope=col>CONF</th><th scope=col>PRES</th><th scope=col>PRESSEV</th><th scope=col>MALTREAT</th><th scope=col>MALADM</th><th scope=col>MALDTH</th></tr>\n",
       "\t<tr><th scope=col>&lt;chr&gt;</th><th scope=col>&lt;chr&gt;</th><th scope=col>&lt;chr&gt;</th><th scope=col>&lt;chr&gt;</th><th scope=col>&lt;chr&gt;</th><th scope=col>&lt;chr&gt;</th><th scope=col>&lt;chr&gt;</th><th scope=col>&lt;chr&gt;</th><th scope=col>&lt;chr&gt;</th><th scope=col>&lt;dbl&gt;</th><th scope=col>&lt;dbl&gt;</th><th scope=col>&lt;dbl&gt;</th><th scope=col>&lt;dbl&gt;</th><th scope=col>&lt;???&gt;</th><th scope=col>&lt;dbl&gt;</th><th scope=col>&lt;dbl&gt;</th><th scope=col>&lt;dbl&gt;</th></tr>\n",
       "</thead>\n",
       "<tbody>\n",
       "\t<tr><td>202201</td><td>2022</td><td>01</td><td>a08881Oz98k</td><td>eq Samba Poste de Santé                 </td><td>EQ EQUATEUR PROVINCE     </td><td>XjeRGfqHMrl</td><td>EQ BIKORO ZONE DE SANTE  </td><td>NMRFBOfk41A</td><td>105</td><td>105</td><td> 67</td><td>NA</td><td>NA</td><td> 67</td><td>NA</td><td>NA</td></tr>\n",
       "\t<tr><td>202201</td><td>2022</td><td>01</td><td>a0FgmCzm6Mr</td><td>kg Mumbanda Centre de Santé de Référence</td><td>KG KWANGO PROVINCE       </td><td>PvtAI4RUMkr</td><td>KG FESHI ZONE DE SANTE   </td><td>vyNZCFIed9O</td><td>189</td><td>189</td><td>158</td><td>NA</td><td>NA</td><td>158</td><td> 6</td><td>NA</td></tr>\n",
       "\t<tr><td>202201</td><td>2022</td><td>01</td><td>A0Fnzg0FvLl</td><td>tp Dr Sharp Centre de Santé             </td><td>TP TSHOPO PROVINCE       </td><td>mnOXJ2Oa5U7</td><td>TP BANALIA ZONE DE SANTE </td><td>WxBLTUjeyfB</td><td>101</td><td>101</td><td> 69</td><td>NA</td><td>NA</td><td> 69</td><td>NA</td><td>NA</td></tr>\n",
       "\t<tr><td>202201</td><td>2022</td><td>01</td><td>a0g4ZISuD5X</td><td>kc Nima Lemba Poste de Santé            </td><td>KC KONGO CENTRAL PROVINCE</td><td>dKdrd8HqZWz</td><td>KC MANGEMBO ZONE DE SANTE</td><td>muQLQumKnyM</td><td> 41</td><td> 41</td><td> 31</td><td>NA</td><td>NA</td><td> 13</td><td>NA</td><td>NA</td></tr>\n",
       "\t<tr><td>202201</td><td>2022</td><td>01</td><td>A0hY6cbIYpu</td><td>tp Letutu Yakuma Centre de Santé        </td><td>TP TSHOPO PROVINCE       </td><td>mnOXJ2Oa5U7</td><td>TP OPALA ZONE DE SANTE   </td><td>G2crAXygKeF</td><td>148</td><td>148</td><td>110</td><td>NA</td><td>NA</td><td>110</td><td>NA</td><td>NA</td></tr>\n",
       "\t<tr><td>202201</td><td>2022</td><td>01</td><td>A0m29EnYxfh</td><td>eq Ikoli Centre de Santé                </td><td>EQ EQUATEUR PROVINCE     </td><td>XjeRGfqHMrl</td><td>EQ BOLOMBA ZONE DE SANTE </td><td>lW6uPgrLYfi</td><td>139</td><td>139</td><td>118</td><td>NA</td><td>NA</td><td>112</td><td> 6</td><td>NA</td></tr>\n",
       "</tbody>\n",
       "</table>\n"
      ],
      "text/latex": [
       "A tibble: 6 × 17\n",
       "\\begin{tabular}{lllllllllllllllll}\n",
       " PERIOD & YEAR & MONTH & OU & OU\\_NAME & ADM1 & ADM1\\_ID & ADM2 & ADM2\\_ID & SUSP & TEST & CONF & PRES & PRESSEV & MALTREAT & MALADM & MALDTH\\\\\n",
       " <chr> & <chr> & <chr> & <chr> & <chr> & <chr> & <chr> & <chr> & <chr> & <dbl> & <dbl> & <dbl> & <dbl> & <???> & <dbl> & <dbl> & <dbl>\\\\\n",
       "\\hline\n",
       "\t 202201 & 2022 & 01 & a08881Oz98k & eq Samba Poste de Santé                  & EQ EQUATEUR PROVINCE      & XjeRGfqHMrl & EQ BIKORO ZONE DE SANTE   & NMRFBOfk41A & 105 & 105 &  67 & NA & NA &  67 & NA & NA\\\\\n",
       "\t 202201 & 2022 & 01 & a0FgmCzm6Mr & kg Mumbanda Centre de Santé de Référence & KG KWANGO PROVINCE        & PvtAI4RUMkr & KG FESHI ZONE DE SANTE    & vyNZCFIed9O & 189 & 189 & 158 & NA & NA & 158 &  6 & NA\\\\\n",
       "\t 202201 & 2022 & 01 & A0Fnzg0FvLl & tp Dr Sharp Centre de Santé              & TP TSHOPO PROVINCE        & mnOXJ2Oa5U7 & TP BANALIA ZONE DE SANTE  & WxBLTUjeyfB & 101 & 101 &  69 & NA & NA &  69 & NA & NA\\\\\n",
       "\t 202201 & 2022 & 01 & a0g4ZISuD5X & kc Nima Lemba Poste de Santé             & KC KONGO CENTRAL PROVINCE & dKdrd8HqZWz & KC MANGEMBO ZONE DE SANTE & muQLQumKnyM &  41 &  41 &  31 & NA & NA &  13 & NA & NA\\\\\n",
       "\t 202201 & 2022 & 01 & A0hY6cbIYpu & tp Letutu Yakuma Centre de Santé         & TP TSHOPO PROVINCE        & mnOXJ2Oa5U7 & TP OPALA ZONE DE SANTE    & G2crAXygKeF & 148 & 148 & 110 & NA & NA & 110 & NA & NA\\\\\n",
       "\t 202201 & 2022 & 01 & A0m29EnYxfh & eq Ikoli Centre de Santé                 & EQ EQUATEUR PROVINCE      & XjeRGfqHMrl & EQ BOLOMBA ZONE DE SANTE  & lW6uPgrLYfi & 139 & 139 & 118 & NA & NA & 112 &  6 & NA\\\\\n",
       "\\end{tabular}\n"
      ],
      "text/markdown": [
       "\n",
       "A tibble: 6 × 17\n",
       "\n",
       "| PERIOD &lt;chr&gt; | YEAR &lt;chr&gt; | MONTH &lt;chr&gt; | OU &lt;chr&gt; | OU_NAME &lt;chr&gt; | ADM1 &lt;chr&gt; | ADM1_ID &lt;chr&gt; | ADM2 &lt;chr&gt; | ADM2_ID &lt;chr&gt; | SUSP &lt;dbl&gt; | TEST &lt;dbl&gt; | CONF &lt;dbl&gt; | PRES &lt;dbl&gt; | PRESSEV &lt;???&gt; | MALTREAT &lt;dbl&gt; | MALADM &lt;dbl&gt; | MALDTH &lt;dbl&gt; |\n",
       "|---|---|---|---|---|---|---|---|---|---|---|---|---|---|---|---|---|\n",
       "| 202201 | 2022 | 01 | a08881Oz98k | eq Samba Poste de Santé                  | EQ EQUATEUR PROVINCE      | XjeRGfqHMrl | EQ BIKORO ZONE DE SANTE   | NMRFBOfk41A | 105 | 105 |  67 | NA | NA |  67 | NA | NA |\n",
       "| 202201 | 2022 | 01 | a0FgmCzm6Mr | kg Mumbanda Centre de Santé de Référence | KG KWANGO PROVINCE        | PvtAI4RUMkr | KG FESHI ZONE DE SANTE    | vyNZCFIed9O | 189 | 189 | 158 | NA | NA | 158 |  6 | NA |\n",
       "| 202201 | 2022 | 01 | A0Fnzg0FvLl | tp Dr Sharp Centre de Santé              | TP TSHOPO PROVINCE        | mnOXJ2Oa5U7 | TP BANALIA ZONE DE SANTE  | WxBLTUjeyfB | 101 | 101 |  69 | NA | NA |  69 | NA | NA |\n",
       "| 202201 | 2022 | 01 | a0g4ZISuD5X | kc Nima Lemba Poste de Santé             | KC KONGO CENTRAL PROVINCE | dKdrd8HqZWz | KC MANGEMBO ZONE DE SANTE | muQLQumKnyM |  41 |  41 |  31 | NA | NA |  13 | NA | NA |\n",
       "| 202201 | 2022 | 01 | A0hY6cbIYpu | tp Letutu Yakuma Centre de Santé         | TP TSHOPO PROVINCE        | mnOXJ2Oa5U7 | TP OPALA ZONE DE SANTE    | G2crAXygKeF | 148 | 148 | 110 | NA | NA | 110 | NA | NA |\n",
       "| 202201 | 2022 | 01 | A0m29EnYxfh | eq Ikoli Centre de Santé                 | EQ EQUATEUR PROVINCE      | XjeRGfqHMrl | EQ BOLOMBA ZONE DE SANTE  | lW6uPgrLYfi | 139 | 139 | 118 | NA | NA | 112 |  6 | NA |\n",
       "\n"
      ],
      "text/plain": [
       "  PERIOD YEAR MONTH OU          OU_NAME                                 \n",
       "1 202201 2022 01    a08881Oz98k eq Samba Poste de Santé                 \n",
       "2 202201 2022 01    a0FgmCzm6Mr kg Mumbanda Centre de Santé de Référence\n",
       "3 202201 2022 01    A0Fnzg0FvLl tp Dr Sharp Centre de Santé             \n",
       "4 202201 2022 01    a0g4ZISuD5X kc Nima Lemba Poste de Santé            \n",
       "5 202201 2022 01    A0hY6cbIYpu tp Letutu Yakuma Centre de Santé        \n",
       "6 202201 2022 01    A0m29EnYxfh eq Ikoli Centre de Santé                \n",
       "  ADM1                      ADM1_ID     ADM2                      ADM2_ID    \n",
       "1 EQ EQUATEUR PROVINCE      XjeRGfqHMrl EQ BIKORO ZONE DE SANTE   NMRFBOfk41A\n",
       "2 KG KWANGO PROVINCE        PvtAI4RUMkr KG FESHI ZONE DE SANTE    vyNZCFIed9O\n",
       "3 TP TSHOPO PROVINCE        mnOXJ2Oa5U7 TP BANALIA ZONE DE SANTE  WxBLTUjeyfB\n",
       "4 KC KONGO CENTRAL PROVINCE dKdrd8HqZWz KC MANGEMBO ZONE DE SANTE muQLQumKnyM\n",
       "5 TP TSHOPO PROVINCE        mnOXJ2Oa5U7 TP OPALA ZONE DE SANTE    G2crAXygKeF\n",
       "6 EQ EQUATEUR PROVINCE      XjeRGfqHMrl EQ BOLOMBA ZONE DE SANTE  lW6uPgrLYfi\n",
       "  SUSP TEST CONF PRES PRESSEV MALTREAT MALADM MALDTH\n",
       "1 105  105   67  NA   NA       67      NA     NA    \n",
       "2 189  189  158  NA   NA      158       6     NA    \n",
       "3 101  101   69  NA   NA       69      NA     NA    \n",
       "4  41   41   31  NA   NA       13      NA     NA    \n",
       "5 148  148  110  NA   NA      110      NA     NA    \n",
       "6 139  139  118  NA   NA      112       6     NA    "
      ]
     },
     "metadata": {},
     "output_type": "display_data"
    }
   ],
   "source": [
    "head(dhis2_routine)"
   ]
  },
  {
   "cell_type": "markdown",
   "id": "4473e75e-94d2-4f24-b6eb-38a7685542ad",
   "metadata": {},
   "source": [
    "### 2.2. **Population** data (DHIS2) at **ADM2** x **YEAR** level \n",
    "already formatted & aggregated (output of pipeline YYY) and then further aggregated in `pipelines/dhis2_incidence/code/WIP/00_TEMP_population_formatting.ipynb`\n",
    "\n",
    "Note: must run **00_TEMP_population_formatting**.ipynb first!"
   ]
  },
  {
   "cell_type": "markdown",
   "id": "a9960f75-fad3-47d7-9b57-1eecaec4043d",
   "metadata": {},
   "source": [
    "### ⚠️This to be replaced with code that imports from Datasets ⚠️\n",
    "🚨 **Expected table** with these cols (bold = **must have**): ADM1, ADM1_ID, **ADM2**, ADM2_ID, **YEAR**, **ADM2_POP**"
   ]
  },
  {
   "cell_type": "code",
   "execution_count": 72,
   "id": "ac9418bd-39bb-4a75-9fa2-1601d0ecd3b7",
   "metadata": {
    "scrolled": true
   },
   "outputs": [
    {
     "data": {
      "text/html": [
       "<style>\n",
       ".list-inline {list-style: none; margin:0; padding: 0}\n",
       ".list-inline>li {display: inline-block}\n",
       ".list-inline>li:not(:last-child)::after {content: \"\\00b7\"; padding: 0 .5ex}\n",
       "</style>\n",
       "<ol class=list-inline><li>1557</li><li>6</li></ol>\n"
      ],
      "text/latex": [
       "\\begin{enumerate*}\n",
       "\\item 1557\n",
       "\\item 6\n",
       "\\end{enumerate*}\n"
      ],
      "text/markdown": [
       "1. 1557\n",
       "2. 6\n",
       "\n",
       "\n"
      ],
      "text/plain": [
       "[1] 1557    6"
      ]
     },
     "metadata": {},
     "output_type": "display_data"
    },
    {
     "data": {
      "text/html": [
       "<table class=\"dataframe\">\n",
       "<caption>A tibble: 6 × 6</caption>\n",
       "<thead>\n",
       "\t<tr><th scope=col>ADM1</th><th scope=col>ADM1_ID</th><th scope=col>ADM2</th><th scope=col>ADM2_ID</th><th scope=col>YEAR</th><th scope=col>ADM2_POP</th></tr>\n",
       "\t<tr><th scope=col>&lt;chr&gt;</th><th scope=col>&lt;chr&gt;</th><th scope=col>&lt;chr&gt;</th><th scope=col>&lt;chr&gt;</th><th scope=col>&lt;dbl&gt;</th><th scope=col>&lt;dbl&gt;</th></tr>\n",
       "</thead>\n",
       "<tbody>\n",
       "\t<tr><td>KL KWILU PROVINCE</td><td>BmKjwqc6BEw</td><td>KL MUNGINDU ZONE DE SANTE   </td><td>CyHuq664hCU</td><td>2022</td><td>157212</td></tr>\n",
       "\t<tr><td>KL KWILU PROVINCE</td><td>BmKjwqc6BEw</td><td>KL KIKONGO ZONE DE SANTE    </td><td>DrEgd3k7YFu</td><td>2022</td><td>229788</td></tr>\n",
       "\t<tr><td>KL KWILU PROVINCE</td><td>BmKjwqc6BEw</td><td>KL KIMPUTU ZONE DE SANTE    </td><td>GaFyM05saxx</td><td>2022</td><td>241436</td></tr>\n",
       "\t<tr><td>KL KWILU PROVINCE</td><td>BmKjwqc6BEw</td><td>KL KIKWIT NORD ZONE DE SANTE</td><td>GaaOhIJU3Bx</td><td>2022</td><td>286257</td></tr>\n",
       "\t<tr><td>KL KWILU PROVINCE</td><td>BmKjwqc6BEw</td><td>KL GUNGU ZONE DE SANTE      </td><td>GuAIPcinFIj</td><td>2022</td><td>305826</td></tr>\n",
       "\t<tr><td>KL KWILU PROVINCE</td><td>BmKjwqc6BEw</td><td>KL DJUMA ZONE DE SANTE      </td><td>IgSLfQbGSnF</td><td>2022</td><td>266075</td></tr>\n",
       "</tbody>\n",
       "</table>\n"
      ],
      "text/latex": [
       "A tibble: 6 × 6\n",
       "\\begin{tabular}{llllll}\n",
       " ADM1 & ADM1\\_ID & ADM2 & ADM2\\_ID & YEAR & ADM2\\_POP\\\\\n",
       " <chr> & <chr> & <chr> & <chr> & <dbl> & <dbl>\\\\\n",
       "\\hline\n",
       "\t KL KWILU PROVINCE & BmKjwqc6BEw & KL MUNGINDU ZONE DE SANTE    & CyHuq664hCU & 2022 & 157212\\\\\n",
       "\t KL KWILU PROVINCE & BmKjwqc6BEw & KL KIKONGO ZONE DE SANTE     & DrEgd3k7YFu & 2022 & 229788\\\\\n",
       "\t KL KWILU PROVINCE & BmKjwqc6BEw & KL KIMPUTU ZONE DE SANTE     & GaFyM05saxx & 2022 & 241436\\\\\n",
       "\t KL KWILU PROVINCE & BmKjwqc6BEw & KL KIKWIT NORD ZONE DE SANTE & GaaOhIJU3Bx & 2022 & 286257\\\\\n",
       "\t KL KWILU PROVINCE & BmKjwqc6BEw & KL GUNGU ZONE DE SANTE       & GuAIPcinFIj & 2022 & 305826\\\\\n",
       "\t KL KWILU PROVINCE & BmKjwqc6BEw & KL DJUMA ZONE DE SANTE       & IgSLfQbGSnF & 2022 & 266075\\\\\n",
       "\\end{tabular}\n"
      ],
      "text/markdown": [
       "\n",
       "A tibble: 6 × 6\n",
       "\n",
       "| ADM1 &lt;chr&gt; | ADM1_ID &lt;chr&gt; | ADM2 &lt;chr&gt; | ADM2_ID &lt;chr&gt; | YEAR &lt;dbl&gt; | ADM2_POP &lt;dbl&gt; |\n",
       "|---|---|---|---|---|---|\n",
       "| KL KWILU PROVINCE | BmKjwqc6BEw | KL MUNGINDU ZONE DE SANTE    | CyHuq664hCU | 2022 | 157212 |\n",
       "| KL KWILU PROVINCE | BmKjwqc6BEw | KL KIKONGO ZONE DE SANTE     | DrEgd3k7YFu | 2022 | 229788 |\n",
       "| KL KWILU PROVINCE | BmKjwqc6BEw | KL KIMPUTU ZONE DE SANTE     | GaFyM05saxx | 2022 | 241436 |\n",
       "| KL KWILU PROVINCE | BmKjwqc6BEw | KL KIKWIT NORD ZONE DE SANTE | GaaOhIJU3Bx | 2022 | 286257 |\n",
       "| KL KWILU PROVINCE | BmKjwqc6BEw | KL GUNGU ZONE DE SANTE       | GuAIPcinFIj | 2022 | 305826 |\n",
       "| KL KWILU PROVINCE | BmKjwqc6BEw | KL DJUMA ZONE DE SANTE       | IgSLfQbGSnF | 2022 | 266075 |\n",
       "\n"
      ],
      "text/plain": [
       "  ADM1              ADM1_ID     ADM2                         ADM2_ID     YEAR\n",
       "1 KL KWILU PROVINCE BmKjwqc6BEw KL MUNGINDU ZONE DE SANTE    CyHuq664hCU 2022\n",
       "2 KL KWILU PROVINCE BmKjwqc6BEw KL KIKONGO ZONE DE SANTE     DrEgd3k7YFu 2022\n",
       "3 KL KWILU PROVINCE BmKjwqc6BEw KL KIMPUTU ZONE DE SANTE     GaFyM05saxx 2022\n",
       "4 KL KWILU PROVINCE BmKjwqc6BEw KL KIKWIT NORD ZONE DE SANTE GaaOhIJU3Bx 2022\n",
       "5 KL KWILU PROVINCE BmKjwqc6BEw KL GUNGU ZONE DE SANTE       GuAIPcinFIj 2022\n",
       "6 KL KWILU PROVINCE BmKjwqc6BEw KL DJUMA ZONE DE SANTE       IgSLfQbGSnF 2022\n",
       "  ADM2_POP\n",
       "1 157212  \n",
       "2 229788  \n",
       "3 241436  \n",
       "4 286257  \n",
       "5 305826  \n",
       "6 266075  "
      ]
     },
     "metadata": {},
     "output_type": "display_data"
    }
   ],
   "source": [
    "dhis2_population_adm2 <- read_csv(file.path(FORMATTED_POP_DATA_PATH, paste0(COUNTRY_CODE, \"_dhis2_population_adm2.csv\")),\n",
    "                                 show_col_types = FALSE)\n",
    "\n",
    "dim(dhis2_population_adm2)\n",
    "head(dhis2_population_adm2)"
   ]
  },
  {
   "cell_type": "markdown",
   "id": "b42a65ab-ad8d-41ba-9edb-dc2636f03a06",
   "metadata": {},
   "source": [
    "### 2.3. ❌ (optional) **Care seeking (taux recherche soins)** (DHS)\n",
    "Currently missing ❌ so using **mock data** (made here: pipelines/dhis2_incidence/code/WIP/**00_TEMP_make_mock_TRS**.ipynb)\n",
    "\n",
    "💡 Also, TBD: **how to be flexible regarding the input**, as this could come from **DHS, MAP or other sources** ... <br>\n",
    "=> to do: make **dedicated pipeline for formatting, alignement and checks**"
   ]
  },
  {
   "cell_type": "code",
   "execution_count": 73,
   "id": "54d8ecbb-087a-43a1-8a7a-936b73a3f300",
   "metadata": {},
   "outputs": [
    {
     "data": {
      "text/html": [
       "'_mock_trs.rds'"
      ],
      "text/latex": [
       "'\\_mock\\_trs.rds'"
      ],
      "text/markdown": [
       "'_mock_trs.rds'"
      ],
      "text/plain": [
       "[1] \"_mock_trs.rds\""
      ]
     },
     "metadata": {},
     "output_type": "display_data"
    }
   ],
   "source": [
    "CARESEEKING_DATA_FILENAME"
   ]
  },
  {
   "cell_type": "code",
   "execution_count": 74,
   "id": "101eb700-2fda-4e1e-8199-300007326fee",
   "metadata": {},
   "outputs": [
    {
     "data": {
      "text/html": [
       "'~/workspace/data/dummy_data/COD_mock_trs.rds'"
      ],
      "text/latex": [
       "'\\textasciitilde{}/workspace/data/dummy\\_data/COD\\_mock\\_trs.rds'"
      ],
      "text/markdown": [
       "'~/workspace/data/dummy_data/COD_mock_trs.rds'"
      ],
      "text/plain": [
       "[1] \"~/workspace/data/dummy_data/COD_mock_trs.rds\""
      ]
     },
     "metadata": {},
     "output_type": "display_data"
    }
   ],
   "source": [
    "CARESEEKING_DATA_PATH <- file.path(MOCK_DATA_PATH, paste0(COUNTRY_CODE, CARESEEKING_DATA_FILENAME)) \n",
    "CARESEEKING_DATA_PATH"
   ]
  },
  {
   "cell_type": "code",
   "execution_count": 75,
   "id": "0a6a5338-9ffd-47d2-b92f-79deb7886078",
   "metadata": {},
   "outputs": [
    {
     "name": "stdout",
     "output_type": "stream",
     "text": [
      "[1] \"Importing INCIDENCE adjusted for Care Seeking Behavior from ~/workspace/data/dummy_data/COD_mock_trs.rds\"\n",
      "[1] \"Successfully imported care-seeking data\"\n"
     ]
    }
   ],
   "source": [
    "if (CARESEEKING_DATA_AVAILABLE) {\n",
    "    print(paste0(\"Importing INCIDENCE adjusted for Care Seeking Behavior from \", CARESEEKING_DATA_PATH))\n",
    "    \n",
    "    if (file.exists(CARESEEKING_DATA_PATH)) {\n",
    "        careseeking_data <- readRDS(CARESEEKING_DATA_PATH)\n",
    "        print(\"Successfully imported care-seeking data\")\n",
    "    } else {\n",
    "        print(paste(\"File not found at:\", CARESEEKING_DATA_PATH))\n",
    "        careseeking_data <- NULL\n",
    "    }\n",
    "}"
   ]
  },
  {
   "cell_type": "code",
   "execution_count": 76,
   "id": "402065ed-479f-41de-9360-11ed84138950",
   "metadata": {},
   "outputs": [
    {
     "data": {
      "text/html": [
       "<table class=\"dataframe\">\n",
       "<caption>A tibble: 6 × 5</caption>\n",
       "<thead>\n",
       "\t<tr><th scope=col>ADM1</th><th scope=col>YEAR</th><th scope=col>PROP_PRIV</th><th scope=col>PROP_PUBL</th><th scope=col>NO_TREAT</th></tr>\n",
       "\t<tr><th scope=col>&lt;chr&gt;</th><th scope=col>&lt;int&gt;</th><th scope=col>&lt;dbl&gt;</th><th scope=col>&lt;dbl&gt;</th><th scope=col>&lt;dbl&gt;</th></tr>\n",
       "</thead>\n",
       "<tbody>\n",
       "\t<tr><td>LL LUALABA PROVINCE</td><td>2021</td><td>0.022</td><td>0.605</td><td>0.251</td></tr>\n",
       "\t<tr><td>LL LUALABA PROVINCE</td><td>2022</td><td>0.093</td><td>0.584</td><td>0.167</td></tr>\n",
       "\t<tr><td>LL LUALABA PROVINCE</td><td>2023</td><td>0.026</td><td>0.531</td><td>0.351</td></tr>\n",
       "\t<tr><td>LL LUALABA PROVINCE</td><td>2024</td><td>0.061</td><td>0.771</td><td>0.338</td></tr>\n",
       "\t<tr><td>LM LOMAMI PROVINCE </td><td>2021</td><td>0.068</td><td>0.704</td><td>0.238</td></tr>\n",
       "\t<tr><td>LM LOMAMI PROVINCE </td><td>2022</td><td>0.099</td><td>0.816</td><td>0.387</td></tr>\n",
       "</tbody>\n",
       "</table>\n"
      ],
      "text/latex": [
       "A tibble: 6 × 5\n",
       "\\begin{tabular}{lllll}\n",
       " ADM1 & YEAR & PROP\\_PRIV & PROP\\_PUBL & NO\\_TREAT\\\\\n",
       " <chr> & <int> & <dbl> & <dbl> & <dbl>\\\\\n",
       "\\hline\n",
       "\t LL LUALABA PROVINCE & 2021 & 0.022 & 0.605 & 0.251\\\\\n",
       "\t LL LUALABA PROVINCE & 2022 & 0.093 & 0.584 & 0.167\\\\\n",
       "\t LL LUALABA PROVINCE & 2023 & 0.026 & 0.531 & 0.351\\\\\n",
       "\t LL LUALABA PROVINCE & 2024 & 0.061 & 0.771 & 0.338\\\\\n",
       "\t LM LOMAMI PROVINCE  & 2021 & 0.068 & 0.704 & 0.238\\\\\n",
       "\t LM LOMAMI PROVINCE  & 2022 & 0.099 & 0.816 & 0.387\\\\\n",
       "\\end{tabular}\n"
      ],
      "text/markdown": [
       "\n",
       "A tibble: 6 × 5\n",
       "\n",
       "| ADM1 &lt;chr&gt; | YEAR &lt;int&gt; | PROP_PRIV &lt;dbl&gt; | PROP_PUBL &lt;dbl&gt; | NO_TREAT &lt;dbl&gt; |\n",
       "|---|---|---|---|---|\n",
       "| LL LUALABA PROVINCE | 2021 | 0.022 | 0.605 | 0.251 |\n",
       "| LL LUALABA PROVINCE | 2022 | 0.093 | 0.584 | 0.167 |\n",
       "| LL LUALABA PROVINCE | 2023 | 0.026 | 0.531 | 0.351 |\n",
       "| LL LUALABA PROVINCE | 2024 | 0.061 | 0.771 | 0.338 |\n",
       "| LM LOMAMI PROVINCE  | 2021 | 0.068 | 0.704 | 0.238 |\n",
       "| LM LOMAMI PROVINCE  | 2022 | 0.099 | 0.816 | 0.387 |\n",
       "\n"
      ],
      "text/plain": [
       "  ADM1                YEAR PROP_PRIV PROP_PUBL NO_TREAT\n",
       "1 LL LUALABA PROVINCE 2021 0.022     0.605     0.251   \n",
       "2 LL LUALABA PROVINCE 2022 0.093     0.584     0.167   \n",
       "3 LL LUALABA PROVINCE 2023 0.026     0.531     0.351   \n",
       "4 LL LUALABA PROVINCE 2024 0.061     0.771     0.338   \n",
       "5 LM LOMAMI PROVINCE  2021 0.068     0.704     0.238   \n",
       "6 LM LOMAMI PROVINCE  2022 0.099     0.816     0.387   "
      ]
     },
     "metadata": {},
     "output_type": "display_data"
    }
   ],
   "source": [
    "if (CARESEEKING_DATA_AVAILABLE && exists(\"careseeking_data\") && !is.null(careseeking_data)) {\n",
    "    dim(careseeking_data)\n",
    "    head(careseeking_data)\n",
    "} else if (CARESEEKING_DATA_AVAILABLE) {\n",
    "    print(\"Care-seeking data was not successfully imported.\")\n",
    "}"
   ]
  },
  {
   "cell_type": "markdown",
   "id": "92723594-000b-41ee-82a1-8e69106a277d",
   "metadata": {},
   "source": [
    "### 2.4. **Reporting Rate** (parametrized choice)  \n",
    "Import Reporting Rate file based on user choice (parameter)\n",
    "\n",
    "🚨 **Important**: reporting rate must be **monthly**!"
   ]
  },
  {
   "cell_type": "code",
   "execution_count": 91,
   "id": "8f51cf29-6d1d-4df5-abca-bc1e7c6760fb",
   "metadata": {},
   "outputs": [],
   "source": [
    "# REPORTING_RATE_CHOICE = \"dummy-snis\"\n",
    "# REPORTING_RATE_CHOICE = \"any\"\n",
    "# REPORTING_RATE_CHOICE = \"conf\""
   ]
  },
  {
   "cell_type": "code",
   "execution_count": 90,
   "id": "8ff9745a-88ee-439c-a5e5-e62435c1c800",
   "metadata": {},
   "outputs": [
    {
     "name": "stdout",
     "output_type": "stream",
     "text": [
      "[1] \"File downloaded successfully from dataset version: v1\"\n",
      "Reporting rate data from method ' conf ' loaded successfully:\n"
     ]
    },
    {
     "data": {
      "text/html": [
       "<table class=\"dataframe\">\n",
       "<caption>A tibble: 6 × 6</caption>\n",
       "<thead>\n",
       "\t<tr><th scope=col>ADM2</th><th scope=col>YEAR</th><th scope=col>MONTH</th><th scope=col>N_FACILITIES</th><th scope=col>N_REPORTS</th><th scope=col>REPORTING_RATE</th></tr>\n",
       "\t<tr><th scope=col>&lt;chr&gt;</th><th scope=col>&lt;int&gt;</th><th scope=col>&lt;int&gt;</th><th scope=col>&lt;int&gt;</th><th scope=col>&lt;dbl&gt;</th><th scope=col>&lt;dbl&gt;</th></tr>\n",
       "</thead>\n",
       "<tbody>\n",
       "\t<tr><td>BU AKETI ZONE DE SANTE</td><td>2022</td><td>1</td><td>18</td><td>18</td><td>1.0000000</td></tr>\n",
       "\t<tr><td>BU AKETI ZONE DE SANTE</td><td>2022</td><td>2</td><td>21</td><td>21</td><td>1.0000000</td></tr>\n",
       "\t<tr><td>BU AKETI ZONE DE SANTE</td><td>2022</td><td>3</td><td>19</td><td>19</td><td>1.0000000</td></tr>\n",
       "\t<tr><td>BU AKETI ZONE DE SANTE</td><td>2022</td><td>4</td><td>23</td><td>22</td><td>0.9565217</td></tr>\n",
       "\t<tr><td>BU AKETI ZONE DE SANTE</td><td>2022</td><td>5</td><td>22</td><td>22</td><td>1.0000000</td></tr>\n",
       "\t<tr><td>BU AKETI ZONE DE SANTE</td><td>2022</td><td>6</td><td>24</td><td>24</td><td>1.0000000</td></tr>\n",
       "</tbody>\n",
       "</table>\n"
      ],
      "text/latex": [
       "A tibble: 6 × 6\n",
       "\\begin{tabular}{llllll}\n",
       " ADM2 & YEAR & MONTH & N\\_FACILITIES & N\\_REPORTS & REPORTING\\_RATE\\\\\n",
       " <chr> & <int> & <int> & <int> & <dbl> & <dbl>\\\\\n",
       "\\hline\n",
       "\t BU AKETI ZONE DE SANTE & 2022 & 1 & 18 & 18 & 1.0000000\\\\\n",
       "\t BU AKETI ZONE DE SANTE & 2022 & 2 & 21 & 21 & 1.0000000\\\\\n",
       "\t BU AKETI ZONE DE SANTE & 2022 & 3 & 19 & 19 & 1.0000000\\\\\n",
       "\t BU AKETI ZONE DE SANTE & 2022 & 4 & 23 & 22 & 0.9565217\\\\\n",
       "\t BU AKETI ZONE DE SANTE & 2022 & 5 & 22 & 22 & 1.0000000\\\\\n",
       "\t BU AKETI ZONE DE SANTE & 2022 & 6 & 24 & 24 & 1.0000000\\\\\n",
       "\\end{tabular}\n"
      ],
      "text/markdown": [
       "\n",
       "A tibble: 6 × 6\n",
       "\n",
       "| ADM2 &lt;chr&gt; | YEAR &lt;int&gt; | MONTH &lt;int&gt; | N_FACILITIES &lt;int&gt; | N_REPORTS &lt;dbl&gt; | REPORTING_RATE &lt;dbl&gt; |\n",
       "|---|---|---|---|---|---|\n",
       "| BU AKETI ZONE DE SANTE | 2022 | 1 | 18 | 18 | 1.0000000 |\n",
       "| BU AKETI ZONE DE SANTE | 2022 | 2 | 21 | 21 | 1.0000000 |\n",
       "| BU AKETI ZONE DE SANTE | 2022 | 3 | 19 | 19 | 1.0000000 |\n",
       "| BU AKETI ZONE DE SANTE | 2022 | 4 | 23 | 22 | 0.9565217 |\n",
       "| BU AKETI ZONE DE SANTE | 2022 | 5 | 22 | 22 | 1.0000000 |\n",
       "| BU AKETI ZONE DE SANTE | 2022 | 6 | 24 | 24 | 1.0000000 |\n",
       "\n"
      ],
      "text/plain": [
       "  ADM2                   YEAR MONTH N_FACILITIES N_REPORTS REPORTING_RATE\n",
       "1 BU AKETI ZONE DE SANTE 2022 1     18           18        1.0000000     \n",
       "2 BU AKETI ZONE DE SANTE 2022 2     21           21        1.0000000     \n",
       "3 BU AKETI ZONE DE SANTE 2022 3     19           19        1.0000000     \n",
       "4 BU AKETI ZONE DE SANTE 2022 4     23           22        0.9565217     \n",
       "5 BU AKETI ZONE DE SANTE 2022 5     22           22        1.0000000     \n",
       "6 BU AKETI ZONE DE SANTE 2022 6     24           24        1.0000000     "
      ]
     },
     "metadata": {},
     "output_type": "display_data"
    }
   ],
   "source": [
    "# Load reporting rate data based on choice\n",
    "\n",
    "if (REPORTING_RATE_CHOICE == \"dummy-snis\") {\n",
    "  rr_dummysnis_file_path <- file.path(MOCK_DATA_PATH, paste0(COUNTRY_CODE, \"_mock_rr_snis.rds\"))\n",
    "  reporting_rate_month <- readRDS(rr_dummysnis_file_path)\n",
    "\n",
    "# ----------------------------------------------------------------------------------------\n",
    "    \n",
    "    # ⚠️ Modify this to TEMPORARILY read from /data/reporting_rate/ INSTEAD of reading from Datasets ! ⚠️\n",
    "    #  ⚠️ DO NOT DELETE!! ⚠️\n",
    "} else if (REPORTING_RATE_CHOICE %in% c(\"conf\", \"any\")) {\n",
    "  rr_dataset_name <- config_json$SNT_DATASET_IDENTIFIERS$DHIS2_DATASET_REPORTING_RATE\n",
    "  # rr_method <- REPORTING_RATE_CHOICE\n",
    "  rr_file_name <- paste0(COUNTRY_CODE, \"_reporting_rate_\", REPORTING_RATE_CHOICE, \"_month.parquet\")\n",
    "  \n",
    "  reporting_rate_month <- tryCatch({\n",
    "    get_latest_dataset_file_in_memory(rr_dataset_name, rr_file_name)\n",
    "  }, error = function(e) {\n",
    "    msg <- paste(\"Error while loading file\", rr_file_name, \":\", conditionMessage(e))\n",
    "    cat(msg, \"\\n\")\n",
    "    stop(msg)\n",
    "  })\n",
    "} else {\n",
    "  stop(\"Invalid REPORTING_RATE_CHOICE. Must be 'dummy-snis', 'conf', or 'any'.\")\n",
    "}\n",
    "\n",
    "# # ⚠️ TEMPORARY code to read from /data/ NOT from Datasets (comment this out and uncomment code above) ⚠️\n",
    "# } else if (REPORTING_RATE_CHOICE == \"conf\") {\n",
    "#     rr_method = REPORTING_RATE_CHOICE\n",
    "#   rr_file_path <- file.path(DATA_PATH, \"dhis2_reporting_rate\", paste0(COUNTRY_CODE, \"_reporting_rate_\", rr_method,\"_month.csv\")) # data/reporting_rate/COD_reporting_rate_any_month.csv\n",
    "#   reporting_rate_month <- read_csv(rr_file_path,\n",
    "#                              show_col_types = FALSE)\n",
    "#     } else if (REPORTING_RATE_CHOICE == \"any\") {\n",
    "#     rr_method = REPORTING_RATE_CHOICE\n",
    "#   rr_file_path <- file.path(DATA_PATH, \"dhis2_reporting_rate\", paste0(COUNTRY_CODE, \"_reporting_rate_\", rr_method,\"_month.csv\"))\n",
    "#   reporting_rate_month <- read_csv(rr_file_path,\n",
    "#                              show_col_types = FALSE)\n",
    "#     } else {\n",
    "#   stop(\"Invalid REPORTING_RATE_CHOICE. Must be 'dummy-snis', 'conf', or 'any'.\")\n",
    "# }\n",
    " \n",
    "# ----------------------------------------------------------------------------------------\n",
    "\n",
    "# Validate the reporting_rate dataframe\n",
    "required_cols <- c(\"ADM2\", \"YEAR\", \"MONTH\", \"REPORTING_RATE\")\n",
    "missing_cols <- setdiff(required_cols, names(reporting_rate_month))\n",
    "if (length(missing_cols) > 0) {\n",
    "  stop(paste(\"Missing required columns:\", paste(missing_cols, collapse = \", \")))\n",
    "}\n",
    "\n",
    "# Check column types and values\n",
    "validation_errors <- list()\n",
    "\n",
    "# Check ADM2 is character\n",
    "if (!is.character(reporting_rate_month$ADM2)) {\n",
    "  validation_errors <- c(validation_errors, \"ADM2 must be a character vector\")\n",
    "}\n",
    "\n",
    "# Check YEAR is integer or can be converted, and is recent (current year - 5)\n",
    "current_year <- as.integer(format(Sys.Date(), \"%Y\"))\n",
    "min_valid_year <- current_year - 5\n",
    "\n",
    "reporting_rate_month <- reporting_rate_month %>%\n",
    "  mutate(YEAR = suppressWarnings(as.integer(YEAR)))\n",
    "\n",
    "if (any(is.na(reporting_rate_month$YEAR))) {\n",
    "  validation_errors <- c(validation_errors, \"YEAR contains non-integer values\")\n",
    "} else if (any(reporting_rate_month$YEAR < min_valid_year, na.rm = TRUE)) {\n",
    "  validation_errors <- c(validation_errors, \n",
    "                        paste(\"Some YEAR values are too old (minimum valid year is\", min_valid_year, \n",
    "                              \"). Found years:\", \n",
    "                              paste(unique(reporting_rate_month$YEAR[reporting_rate_month$YEAR < min_valid_year]), collapse = \", \")))\n",
    "}\n",
    "\n",
    "# Check MONTH is integer or can be converted to, and ranges betweeen 1 and 12\n",
    "#  ⚠️ TO ADD!\n",
    "\n",
    "# Check REPORTING_RATE is numeric between 0 and 1\n",
    "if (!is.numeric(reporting_rate_month$REPORTING_RATE)) {\n",
    "  validation_errors <- c(validation_errors, \"REPORTING_RATE must be numeric\")\n",
    "} else if (any(reporting_rate_month$REPORTING_RATE < 0 | reporting_rate_month$REPORTING_RATE > 1, na.rm = TRUE)) {\n",
    "  validation_errors <- c(validation_errors, \"REPORTING_RATE must be between 0 and 1 (inclusive)\")\n",
    "}\n",
    "\n",
    "# Report any validation errors\n",
    "if (length(validation_errors) > 0) {\n",
    "  stop(paste(\"Data validation failed:\\n\", paste(\"-\", validation_errors, collapse = \"\\n\")))\n",
    "}\n",
    "\n",
    "# If all checks passed, show the data\n",
    "cat(\"Reporting rate data from method '\", REPORTING_RATE_CHOICE,\"' loaded successfully:\\n\")\n",
    "head(reporting_rate_month)"
   ]
  },
  {
   "cell_type": "code",
   "execution_count": null,
   "id": "94c7283f-788e-44d4-8444-a369001d2567",
   "metadata": {},
   "outputs": [],
   "source": []
  },
  {
   "cell_type": "markdown",
   "id": "c832da26-fe0c-43fe-8300-2fff5c4cbf34",
   "metadata": {},
   "source": [
    "### 2.5. **Shapes** for plotting maps (choropleths)"
   ]
  },
  {
   "cell_type": "code",
   "execution_count": 92,
   "id": "652cf1a7-c9a2-48db-b44d-8fabfd0e072f",
   "metadata": {},
   "outputs": [
    {
     "name": "stdout",
     "output_type": "stream",
     "text": [
      "[1] \"File downloaded successfully from dataset version: COD_snt_20250516_0756\"\n",
      "[1] \"DHIS2 shapes data loaded from dataset : snt-dhis2-formatted dataframe dimensions: 519, 5\"\n"
     ]
    }
   ],
   "source": [
    "# DHIS2 Dataset extract identifier\n",
    "dataset_name <- config_json$SNT_DATASET_IDENTIFIERS$DHIS2_DATASET_FORMATTED\n",
    "\n",
    "# Load file from dataset\n",
    "dhis2_shapes <- tryCatch({ get_latest_dataset_file_in_memory(dataset_name, paste0(COUNTRY_CODE, \"_shapes.geojson\")) }, \n",
    "                  error = function(e) {\n",
    "                      msg <- paste(\"Error while loading DHIS2 shapes data file for: \" , COUNTRY_CODE, conditionMessage(e))  # log error message\n",
    "                      cat(msg)\n",
    "                      stop(msg)\n",
    "})\n",
    "\n",
    "msg <- paste0(\"DHIS2 shapes data loaded from dataset : \", dataset_name, \" dataframe dimensions: \", paste(dim(dhis2_shapes), collapse=\", \"))\n",
    "log_msg(msg)"
   ]
  },
  {
   "cell_type": "code",
   "execution_count": 93,
   "id": "ffa799a2-f5e5-4ba6-b310-71802787d21b",
   "metadata": {},
   "outputs": [
    {
     "data": {
      "text/html": [
       "<style>\n",
       ".list-inline {list-style: none; margin:0; padding: 0}\n",
       ".list-inline>li {display: inline-block}\n",
       ".list-inline>li:not(:last-child)::after {content: \"\\00b7\"; padding: 0 .5ex}\n",
       "</style>\n",
       "<ol class=list-inline><li>'ADM1'</li><li>'ADM1_ID'</li><li>'ADM2_ID'</li><li>'ADM2'</li><li>'geometry'</li></ol>\n"
      ],
      "text/latex": [
       "\\begin{enumerate*}\n",
       "\\item 'ADM1'\n",
       "\\item 'ADM1\\_ID'\n",
       "\\item 'ADM2\\_ID'\n",
       "\\item 'ADM2'\n",
       "\\item 'geometry'\n",
       "\\end{enumerate*}\n"
      ],
      "text/markdown": [
       "1. 'ADM1'\n",
       "2. 'ADM1_ID'\n",
       "3. 'ADM2_ID'\n",
       "4. 'ADM2'\n",
       "5. 'geometry'\n",
       "\n",
       "\n"
      ],
      "text/plain": [
       "[1] \"ADM1\"     \"ADM1_ID\"  \"ADM2_ID\"  \"ADM2\"     \"geometry\""
      ]
     },
     "metadata": {},
     "output_type": "display_data"
    }
   ],
   "source": [
    "names(dhis2_shapes)"
   ]
  },
  {
   "cell_type": "markdown",
   "id": "06f0ebcc-6b87-4d77-98ef-7b8d84be6a0a",
   "metadata": {},
   "source": [
    "-------------------------------"
   ]
  },
  {
   "cell_type": "markdown",
   "id": "9943c1e5-4d95-4210-8b77-09c4085a96b8",
   "metadata": {},
   "source": [
    "## 3. Calculate Incidence"
   ]
  },
  {
   "cell_type": "markdown",
   "id": "bff03654-bc3a-4a50-bff6-af1fca5295f7",
   "metadata": {},
   "source": [
    "Use **functions** to calculate **monthly cases** (`calculate_monthly_cases()`) and then use the output to calculate **yearly incidence** (`calculate_yearly_incidence()`).\n",
    "\n",
    "This offers the advantage that incidences can be easily recalculated using different input data for reporting_rate (from different methods). \n",
    "\n",
    "💡💡💡 <br>\n",
    "However, since in **now we only import 1 reporting rate** (defined as user choice), **consider taking code out of function** to imrpove readability <br>\n",
    "(code should only be wrapped in function if need to run multoiple times ... else is just a pain to debug ... !) <br>\n",
    "💡💡💡"
   ]
  },
  {
   "cell_type": "markdown",
   "id": "9db7c4da-42f9-4f56-ae84-86d79411ddb7",
   "metadata": {},
   "source": [
    "### 3.0. Define Functions"
   ]
  },
  {
   "cell_type": "markdown",
   "id": "8769a974-de8a-4a1f-8f74-edb318a28060",
   "metadata": {},
   "source": [
    "#### **Calculate monthly case data:** `calculate_monthly_cases()`\n",
    "These methods follow the standard WHO approach for estimating malaria incidence from routine health information systems (WHO, 2023).\n",
    "As shown in the code, we begin by calculating **monthly malaria case metrics** (confirmed, tested, presumed) at the **ADM2** level and join them with the **monthly reporting rate**. \n",
    "\n",
    "This allows us to compute the **test positivity rate** (TPR, where `TPR` = `CONF` / `TEST`) and adjust for incomplete testing using the formula: \n",
    "> N1 = C + (P × C/T)\n",
    "\n",
    "Which is equivalent to:\n",
    "> N1 = C + (P × TPR)\n",
    "\n",
    "where:\n",
    "- N1 = cases adjusted for testing gaps \n",
    "- C = confirmed cases (`CONF`)\n",
    "- P = presumed cases (either `SUSP` - `TEST` or directly available as `PRES`)\n",
    "- T = tested cases (`TEST`)\n",
    "- TPR = test positivity rate (`CONF` / `TEST`)\n",
    "  \n",
    "This produces `N1`, the number of cases adjusted for testing gaps, calculated at the monthly level in line with WHO recommendations to capture intra-annual variation.\n",
    "\n",
    "Next, we adjust for incomplete reporting using: \n",
    "> N2 = N1 / R\n",
    "\n",
    "where **R** is the monthly **reporting rate** (i.e., reports received divided by reports expected).\n",
    "\n",
    "Finally, _if_ **careseeking** data is **available**, N3 is calculated as follows:\n",
    "> N3 = N2 + (N2 * PROP_PRIV / PROP_PUBL) + (N2 * NO_TREAT / PROP_PUBL)\n",
    "\n",
    "where:\n",
    "- PROP_PRIV = proportion of \"enfants\" (***can we say <5 yo?***) treated in the **private** sector\n",
    "- PROP_PUBL = proportion of \"enfants\" (***can we say <5 yo?***) treated in the **public** sector\n",
    "- NO_TREAT = proportion of \"enfants\" (***can we say <5 yo?***) which **did not receive any treatment**\n",
    "\n",
    "Note that this assumes the same TPR across all sectors (private and public).\n",
    "\n",
    "**Important note** In case reporting rate equals zero (none of the health facilities reported in a given month), N2 is set to `NA`. Note that the annual N2 will be underestimated, which is preferable compared to having Inf values."
   ]
  },
  {
   "cell_type": "markdown",
   "id": "dcee32af-ae6d-4b2a-9c7a-f846209f1dc3",
   "metadata": {},
   "source": [
    "The function expects (input):\n",
    "* **routine_data**: DHIS2 routine data, formatted and aggregated at ADM2 and MONTH level. Tibble (df) _must_ contain the following cols: `YEAR`, `MONTH`, `ADM2`, `CONF`, `TEST`, `SUSP`, `PRES`.  \n",
    "* **reporting_rate_data**: reporting rate calculated at ADM2 and MONTH level and expressed as proprtion **(0-1)**. Tibble (df) _must_ contain the following cols: `ADM2`, `YEAR`, `MONTH`, `reporting_rate`\n",
    "* **use_imputed**: ... to be discussed ... default `FALSE`\n",
    "* **verbose**: ...\n",
    "\n",
    "The funcion produces (output):\n",
    "* data frame with the following cols: `ADM2`, `YEAR`, `MONTH`, \"value_\" * (`CONF`, `TEST`, `SUSP`, `PRES`), `TPR`, `N1`, `N2`"
   ]
  },
  {
   "cell_type": "code",
   "execution_count": 94,
   "id": "64234549-f500-4f5b-97c7-e24a442f91a4",
   "metadata": {},
   "outputs": [],
   "source": [
    "# GP: temporarily silenced 🤫 `use_imputed` part to be able to run with current data\n",
    "\n",
    "calculate_monthly_cases <- function(routine_data, reporting_rate_data, use_imputed = FALSE, verbose = TRUE) {\n",
    " # suffix <- if (use_imputed) \"value_imputed_\" else \"value_\"\n",
    "    \n",
    "    # Ensure correct data type for numerical columns\n",
    "    routine_data <- routine_data %>%\n",
    "    mutate(across(c(YEAR, MONTH, CONF, TEST, SUSP, PRES), as.numeric))\n",
    "  \n",
    "    reporting_rate_data <- reporting_rate_data %>%\n",
    "    mutate(across(c(YEAR, MONTH, REPORTING_RATE), as.numeric))\n",
    "     \n",
    "  summary_data <- routine_data %>%\n",
    "    # group_by(ADM2, YEAR, MONTH) %>%\n",
    "    group_by(ADM1, ADM2, YEAR, MONTH) %>% # ADM1 needed to join careseeking data\n",
    "    summarise(\n",
    "      # CONF = sum(.data[[paste0(suffix, \"CONF\")]], na.rm = TRUE),\n",
    "      # TEST = sum(.data[[paste0(suffix, \"TEST\")]], na.rm = TRUE),\n",
    "      # SUSP = sum(.data[[paste0(suffix, \"SUSP\")]], na.rm = TRUE),\n",
    "      # PRES = sum(.data[[paste0(suffix, \"PRES\")]], na.rm = TRUE),\n",
    "      CONF = sum(CONF, na.rm = TRUE),\n",
    "      TEST = sum(TEST, na.rm = TRUE),\n",
    "      SUSP = sum(SUSP, na.rm = TRUE),\n",
    "      PRES = sum(PRES, na.rm = TRUE),\n",
    "      .groups = \"drop\"\n",
    "    ) %>%\n",
    "    # type_convert() %>% # *** # automatically detect and convert columns to their proper types\n",
    "    left_join(reporting_rate_data, \n",
    "              # reporting_rate_data %>% type_convert(), # ***\n",
    "              by = c(\"ADM2\", \"YEAR\", \"MONTH\")) %>%\n",
    "    mutate(\n",
    "      TPR = CONF / TEST,\n",
    "      N1 = CONF + ((SUSP-TEST) * TPR), # = CASES_ADJUSTED_PRESUMED\n",
    "      #N1 = CONF + (PRES * TPR),\n",
    "      N2 = ifelse(REPORTING_RATE == 0, NA_real_, N1 / REPORTING_RATE) # ifelse(reporting_rate == 0, NA_real_, N1 / reporting_rate)  # = CASES_ADJUSTED_PRESUMED_RR      \n",
    "    )\n",
    "\n",
    "    if (CARESEEKING_DATA_AVAILABLE) {\n",
    "  # Added calculations of N3 incidence adjusted for careseeking behaviour \n",
    "        summary_data <- summary_data %>%\n",
    "        mutate(YEAR = as.numeric(YEAR)) %>% # Still needed as safety\n",
    "        left_join(., careseeking_data, \n",
    "                  careseeking_data %>% type_convert(), # ***\n",
    "                  by = c(\"ADM1\", \"YEAR\")) %>% # by = join_by(ADM1)\n",
    "        mutate(\n",
    "            # add all pieces that are needed to calculate 3rd level of adjustemnt \n",
    "         # ADJ_F = (cases_adjusted_presumed_RR/PROP_PUBL)*PROP_PRIV, # Ousmane\n",
    "          # ADJ_F = (N2 / PROP_PUBL) * PROP_PRIV,  # GP\n",
    "         # ADJ_T = (cases_adjusted_presumed_RR/PROP_PUBL)*NO_TREAT,  # Ousmane\n",
    "          # ADJ_T = (N2 / PROP_PUBL) * NO_TREAT, # GP\n",
    "         # cases_adjusted_presumed_RR_TSR = cases_adjusted_presumed_RR + ADJ_F + ADJ_T, # Ousmane\n",
    "            N3 = N2 + (N2 * PROP_PRIV / PROP_PUBL) + (N2 * NO_TREAT / PROP_PUBL) # Formula from Rapport Stratification Burkina (same as lines above but easier to read imo)\n",
    "        )\n",
    "        }\n",
    "\n",
    "  if (verbose) {\n",
    "    zero_reporting <- summary_data %>%\n",
    "      filter(REPORTING_RATE == 0) %>%\n",
    "      summarise(\n",
    "        n_months_zero_reporting = n(),\n",
    "        affected_zones = n_distinct(ADM2)\n",
    "      )\n",
    "    \n",
    "    cat(\"Note:\", zero_reporting$n_months_zero_reporting, \n",
    "        \"ADM2-months had zero reporting rate across\",\n",
    "        zero_reporting$affected_zones, \"zones. N2 values were set to NA\\n\")\n",
    "  }\n",
    "        return(summary_data)\n",
    "        \n",
    "}"
   ]
  },
  {
   "cell_type": "markdown",
   "id": "acbabb99-07ce-4054-a702-2d3cd59c328e",
   "metadata": {},
   "source": [
    "#### **Compute yearly incidence:** `calculate_yearly_incidence()`\n",
    "After calculating N1 and N2 for each `ADM2`-`MONTH`, we aggregate the data annually to compute the yearly totals (sums) for crude cases (`CONF`), `N1` and `N2`. Finally, we compute:\n",
    "* Crude incidence: C / POP × 1000\n",
    "* Incidence adjusted for testing: N1 / POP × 1000\n",
    "* Incidence adjusted for testing and reporting: N2 / POP × 1000\n",
    "* Incidence adjusted for testing, reporting and careseeking behaviour (optional): N3 / POP × 1000"
   ]
  },
  {
   "cell_type": "markdown",
   "id": "d47a3908-71cb-4e79-8771-f6caceae4ce2",
   "metadata": {},
   "source": [
    "The function expects (input):\n",
    "* **case_data**: as the output of `calculate_monthly_cases()`, or a tibble/data frame with the following cols: `ADM2`, `YEAR`, `MONTH`, \"value_\" * (CONF, TEST, SUSP, PRES), `TPR`, `N1`, `N2`  \n",
    "* **population_data**: df of population data formatted and aligned, aggregated at ADM2 and YEAR level. A tibble/data frame that _must_ contain the following cols: `ADM2`, `YEAR`, `ADM2_POP`\n",
    "\n",
    "The function produces (output): ⚠️ **TO BE CONFIRMED! ⚠️ Also capitalize all! ⚠️ Also add logic for CARE SEEKING - ADJ N3**\n",
    "* a data frame with the following cols: ADM2, YEAR, CONF, N1, N2, `crude_incidence`, `incidence_adj_testing`, `incidence_adj_reporting`"
   ]
  },
  {
   "cell_type": "code",
   "execution_count": 95,
   "id": "a5b654f1-1348-49a4-8f83-6e28b319ea0f",
   "metadata": {},
   "outputs": [],
   "source": [
    "calculate_yearly_incidence <- function(case_data, population_data) {\n",
    "  # ---- 1. Enforce column types upfront ----\n",
    "  case_data <- case_data %>%\n",
    "    mutate(across(where(is.numeric), as.numeric))  # Convert all numeric columns\n",
    "  \n",
    "  population_data <- population_data %>%\n",
    "    mutate(across(c(YEAR, ADM2_POP), as.numeric))\n",
    "  \n",
    "  # ---- 2. Core calculation ----\n",
    "  yearly_incidence <- case_data %>%\n",
    "    group_by(ADM2, YEAR) %>%\n",
    "    summarise(\n",
    "      across(c(CONF, N1, N2), ~sum(., na.rm = TRUE)),\n",
    "      .groups = \"drop\"\n",
    "    ) %>%\n",
    "    left_join(\n",
    "      population_data,\n",
    "      by = c(\"ADM2\", \"YEAR\")\n",
    "    ) %>%\n",
    "    mutate(\n",
    "      crude_incidence = CONF / ADM2_POP * 1000,\n",
    "      incidence_adj_testing = N1 / ADM2_POP * 1000,\n",
    "      incidence_adj_reporting = N2 / ADM2_POP * 1000\n",
    "    )\n",
    "  \n",
    "  # ---- 3. Optional careseeking adjustment ----\n",
    "  if (CARESEEKING_DATA_AVAILABLE && \"N3\" %in% names(case_data)) {\n",
    "    n3_data <- case_data %>%\n",
    "      group_by(ADM2, YEAR) %>%\n",
    "      summarise(N3 = sum(N3, na.rm = TRUE),\n",
    "                .groups = \"drop\")\n",
    "    \n",
    "    yearly_incidence <- yearly_incidence %>%\n",
    "      left_join(n3_data, by = c(\"ADM2\", \"YEAR\")) %>%\n",
    "      mutate(\n",
    "        incidence_adj_careseeking = N3 / ADM2_POP * 1000\n",
    "      )\n",
    "  }\n",
    "  \n",
    "  return(yearly_incidence)\n",
    "}"
   ]
  },
  {
   "cell_type": "markdown",
   "id": "54151511-cd45-4a6f-a081-38247f398e9e",
   "metadata": {},
   "source": [
    "### 3.1. Use Functions to calculate monthly cases and then incidence"
   ]
  },
  {
   "cell_type": "markdown",
   "id": "ef6795d9-3f02-47b2-b58b-6f4a0a3bc7df",
   "metadata": {},
   "source": [
    "Calculate 1) monthly cases -> 2) yearly incidence"
   ]
  },
  {
   "cell_type": "code",
   "execution_count": 96,
   "id": "d61a5d0e-b184-4100-aa9e-997a9ed08756",
   "metadata": {},
   "outputs": [
    {
     "name": "stdout",
     "output_type": "stream",
     "text": [
      "Note: 4 ADM2-months had zero reporting rate across 3 zones. N2 values were set to NA\n"
     ]
    },
    {
     "data": {
      "text/html": [
       "<table class=\"dataframe\">\n",
       "<caption>A tibble: 3 × 18</caption>\n",
       "<thead>\n",
       "\t<tr><th scope=col>ADM1</th><th scope=col>ADM2</th><th scope=col>YEAR</th><th scope=col>MONTH</th><th scope=col>CONF</th><th scope=col>TEST</th><th scope=col>SUSP</th><th scope=col>PRES</th><th scope=col>N_FACILITIES</th><th scope=col>N_REPORTS</th><th scope=col>REPORTING_RATE</th><th scope=col>TPR</th><th scope=col>N1</th><th scope=col>N2</th><th scope=col>PROP_PRIV</th><th scope=col>PROP_PUBL</th><th scope=col>NO_TREAT</th><th scope=col>N3</th></tr>\n",
       "\t<tr><th scope=col>&lt;chr&gt;</th><th scope=col>&lt;chr&gt;</th><th scope=col>&lt;dbl&gt;</th><th scope=col>&lt;dbl&gt;</th><th scope=col>&lt;dbl&gt;</th><th scope=col>&lt;dbl&gt;</th><th scope=col>&lt;dbl&gt;</th><th scope=col>&lt;dbl&gt;</th><th scope=col>&lt;int&gt;</th><th scope=col>&lt;dbl&gt;</th><th scope=col>&lt;dbl&gt;</th><th scope=col>&lt;dbl&gt;</th><th scope=col>&lt;dbl&gt;</th><th scope=col>&lt;dbl&gt;</th><th scope=col>&lt;dbl&gt;</th><th scope=col>&lt;dbl&gt;</th><th scope=col>&lt;dbl&gt;</th><th scope=col>&lt;dbl&gt;</th></tr>\n",
       "</thead>\n",
       "<tbody>\n",
       "\t<tr><td>BU BAS UELE PROVINCE</td><td>BU AKETI ZONE DE SANTE</td><td>2022</td><td>1</td><td> 934</td><td>1113</td><td>1126</td><td> 13</td><td>18</td><td>18</td><td>1</td><td>0.8391734</td><td> 944.9093</td><td> 944.9093</td><td>0.104</td><td>0.814</td><td>0.399</td><td>1528.803</td></tr>\n",
       "\t<tr><td>BU BAS UELE PROVINCE</td><td>BU AKETI ZONE DE SANTE</td><td>2022</td><td>2</td><td>2304</td><td>2860</td><td>2922</td><td>136</td><td>21</td><td>21</td><td>1</td><td>0.8055944</td><td>2353.9469</td><td>2353.9469</td><td>0.104</td><td>0.814</td><td>0.399</td><td>3808.536</td></tr>\n",
       "\t<tr><td>BU BAS UELE PROVINCE</td><td>BU AKETI ZONE DE SANTE</td><td>2022</td><td>3</td><td>2231</td><td>2643</td><td>2765</td><td>122</td><td>19</td><td>19</td><td>1</td><td>0.8441165</td><td>2333.9822</td><td>2333.9822</td><td>0.104</td><td>0.814</td><td>0.399</td><td>3776.234</td></tr>\n",
       "</tbody>\n",
       "</table>\n"
      ],
      "text/latex": [
       "A tibble: 3 × 18\n",
       "\\begin{tabular}{llllllllllllllllll}\n",
       " ADM1 & ADM2 & YEAR & MONTH & CONF & TEST & SUSP & PRES & N\\_FACILITIES & N\\_REPORTS & REPORTING\\_RATE & TPR & N1 & N2 & PROP\\_PRIV & PROP\\_PUBL & NO\\_TREAT & N3\\\\\n",
       " <chr> & <chr> & <dbl> & <dbl> & <dbl> & <dbl> & <dbl> & <dbl> & <int> & <dbl> & <dbl> & <dbl> & <dbl> & <dbl> & <dbl> & <dbl> & <dbl> & <dbl>\\\\\n",
       "\\hline\n",
       "\t BU BAS UELE PROVINCE & BU AKETI ZONE DE SANTE & 2022 & 1 &  934 & 1113 & 1126 &  13 & 18 & 18 & 1 & 0.8391734 &  944.9093 &  944.9093 & 0.104 & 0.814 & 0.399 & 1528.803\\\\\n",
       "\t BU BAS UELE PROVINCE & BU AKETI ZONE DE SANTE & 2022 & 2 & 2304 & 2860 & 2922 & 136 & 21 & 21 & 1 & 0.8055944 & 2353.9469 & 2353.9469 & 0.104 & 0.814 & 0.399 & 3808.536\\\\\n",
       "\t BU BAS UELE PROVINCE & BU AKETI ZONE DE SANTE & 2022 & 3 & 2231 & 2643 & 2765 & 122 & 19 & 19 & 1 & 0.8441165 & 2333.9822 & 2333.9822 & 0.104 & 0.814 & 0.399 & 3776.234\\\\\n",
       "\\end{tabular}\n"
      ],
      "text/markdown": [
       "\n",
       "A tibble: 3 × 18\n",
       "\n",
       "| ADM1 &lt;chr&gt; | ADM2 &lt;chr&gt; | YEAR &lt;dbl&gt; | MONTH &lt;dbl&gt; | CONF &lt;dbl&gt; | TEST &lt;dbl&gt; | SUSP &lt;dbl&gt; | PRES &lt;dbl&gt; | N_FACILITIES &lt;int&gt; | N_REPORTS &lt;dbl&gt; | REPORTING_RATE &lt;dbl&gt; | TPR &lt;dbl&gt; | N1 &lt;dbl&gt; | N2 &lt;dbl&gt; | PROP_PRIV &lt;dbl&gt; | PROP_PUBL &lt;dbl&gt; | NO_TREAT &lt;dbl&gt; | N3 &lt;dbl&gt; |\n",
       "|---|---|---|---|---|---|---|---|---|---|---|---|---|---|---|---|---|---|\n",
       "| BU BAS UELE PROVINCE | BU AKETI ZONE DE SANTE | 2022 | 1 |  934 | 1113 | 1126 |  13 | 18 | 18 | 1 | 0.8391734 |  944.9093 |  944.9093 | 0.104 | 0.814 | 0.399 | 1528.803 |\n",
       "| BU BAS UELE PROVINCE | BU AKETI ZONE DE SANTE | 2022 | 2 | 2304 | 2860 | 2922 | 136 | 21 | 21 | 1 | 0.8055944 | 2353.9469 | 2353.9469 | 0.104 | 0.814 | 0.399 | 3808.536 |\n",
       "| BU BAS UELE PROVINCE | BU AKETI ZONE DE SANTE | 2022 | 3 | 2231 | 2643 | 2765 | 122 | 19 | 19 | 1 | 0.8441165 | 2333.9822 | 2333.9822 | 0.104 | 0.814 | 0.399 | 3776.234 |\n",
       "\n"
      ],
      "text/plain": [
       "  ADM1                 ADM2                   YEAR MONTH CONF TEST SUSP PRES\n",
       "1 BU BAS UELE PROVINCE BU AKETI ZONE DE SANTE 2022 1      934 1113 1126  13 \n",
       "2 BU BAS UELE PROVINCE BU AKETI ZONE DE SANTE 2022 2     2304 2860 2922 136 \n",
       "3 BU BAS UELE PROVINCE BU AKETI ZONE DE SANTE 2022 3     2231 2643 2765 122 \n",
       "  N_FACILITIES N_REPORTS REPORTING_RATE TPR       N1        N2        PROP_PRIV\n",
       "1 18           18        1              0.8391734  944.9093  944.9093 0.104    \n",
       "2 21           21        1              0.8055944 2353.9469 2353.9469 0.104    \n",
       "3 19           19        1              0.8441165 2333.9822 2333.9822 0.104    \n",
       "  PROP_PUBL NO_TREAT N3      \n",
       "1 0.814     0.399    1528.803\n",
       "2 0.814     0.399    3808.536\n",
       "3 0.814     0.399    3776.234"
      ]
     },
     "metadata": {},
     "output_type": "display_data"
    }
   ],
   "source": [
    "monthly_cases <- calculate_monthly_cases(\n",
    "    routine_data = dhis2_routine,\n",
    "    reporting_rate_data = reporting_rate_month, \n",
    "    use_imputed = FALSE,\n",
    "    verbose = TRUE\n",
    ")\n",
    "\n",
    "head(monthly_cases, 3)"
   ]
  },
  {
   "cell_type": "code",
   "execution_count": 97,
   "id": "0c34b905-044c-4dfb-a446-446b68a7bdc0",
   "metadata": {},
   "outputs": [
    {
     "data": {
      "text/html": [
       "<table class=\"dataframe\">\n",
       "<caption>A tibble: 3 × 14</caption>\n",
       "<thead>\n",
       "\t<tr><th scope=col>ADM2</th><th scope=col>YEAR</th><th scope=col>CONF</th><th scope=col>N1</th><th scope=col>N2</th><th scope=col>ADM1</th><th scope=col>ADM1_ID</th><th scope=col>ADM2_ID</th><th scope=col>ADM2_POP</th><th scope=col>crude_incidence</th><th scope=col>incidence_adj_testing</th><th scope=col>incidence_adj_reporting</th><th scope=col>N3</th><th scope=col>incidence_adj_careseeking</th></tr>\n",
       "\t<tr><th scope=col>&lt;chr&gt;</th><th scope=col>&lt;dbl&gt;</th><th scope=col>&lt;dbl&gt;</th><th scope=col>&lt;dbl&gt;</th><th scope=col>&lt;dbl&gt;</th><th scope=col>&lt;chr&gt;</th><th scope=col>&lt;chr&gt;</th><th scope=col>&lt;chr&gt;</th><th scope=col>&lt;dbl&gt;</th><th scope=col>&lt;dbl&gt;</th><th scope=col>&lt;dbl&gt;</th><th scope=col>&lt;dbl&gt;</th><th scope=col>&lt;dbl&gt;</th><th scope=col>&lt;dbl&gt;</th></tr>\n",
       "</thead>\n",
       "<tbody>\n",
       "\t<tr><td>BU AKETI ZONE DE SANTE</td><td>2022</td><td>23599</td><td>27122.80</td><td>36414.74</td><td>BU BAS UELE PROVINCE</td><td>rWrCdr321Qu</td><td>LOm8B3vy1qR</td><td>162815</td><td>144.9436</td><td>166.5866</td><td>223.6572</td><td> 58916.73</td><td>361.8630</td></tr>\n",
       "\t<tr><td>BU AKETI ZONE DE SANTE</td><td>2023</td><td>23750</td><td>29178.82</td><td>65807.42</td><td>BU BAS UELE PROVINCE</td><td>rWrCdr321Qu</td><td>LOm8B3vy1qR</td><td>168946</td><td>140.5775</td><td>172.7109</td><td>389.5175</td><td>108634.48</td><td>643.0130</td></tr>\n",
       "\t<tr><td>BU AKETI ZONE DE SANTE</td><td>2024</td><td>26182</td><td>30678.42</td><td>39967.78</td><td>BU BAS UELE PROVINCE</td><td>rWrCdr321Qu</td><td>LOm8B3vy1qR</td><td>180176</td><td>145.3135</td><td>170.2692</td><td>221.8263</td><td> 66912.35</td><td>371.3722</td></tr>\n",
       "</tbody>\n",
       "</table>\n"
      ],
      "text/latex": [
       "A tibble: 3 × 14\n",
       "\\begin{tabular}{llllllllllllll}\n",
       " ADM2 & YEAR & CONF & N1 & N2 & ADM1 & ADM1\\_ID & ADM2\\_ID & ADM2\\_POP & crude\\_incidence & incidence\\_adj\\_testing & incidence\\_adj\\_reporting & N3 & incidence\\_adj\\_careseeking\\\\\n",
       " <chr> & <dbl> & <dbl> & <dbl> & <dbl> & <chr> & <chr> & <chr> & <dbl> & <dbl> & <dbl> & <dbl> & <dbl> & <dbl>\\\\\n",
       "\\hline\n",
       "\t BU AKETI ZONE DE SANTE & 2022 & 23599 & 27122.80 & 36414.74 & BU BAS UELE PROVINCE & rWrCdr321Qu & LOm8B3vy1qR & 162815 & 144.9436 & 166.5866 & 223.6572 &  58916.73 & 361.8630\\\\\n",
       "\t BU AKETI ZONE DE SANTE & 2023 & 23750 & 29178.82 & 65807.42 & BU BAS UELE PROVINCE & rWrCdr321Qu & LOm8B3vy1qR & 168946 & 140.5775 & 172.7109 & 389.5175 & 108634.48 & 643.0130\\\\\n",
       "\t BU AKETI ZONE DE SANTE & 2024 & 26182 & 30678.42 & 39967.78 & BU BAS UELE PROVINCE & rWrCdr321Qu & LOm8B3vy1qR & 180176 & 145.3135 & 170.2692 & 221.8263 &  66912.35 & 371.3722\\\\\n",
       "\\end{tabular}\n"
      ],
      "text/markdown": [
       "\n",
       "A tibble: 3 × 14\n",
       "\n",
       "| ADM2 &lt;chr&gt; | YEAR &lt;dbl&gt; | CONF &lt;dbl&gt; | N1 &lt;dbl&gt; | N2 &lt;dbl&gt; | ADM1 &lt;chr&gt; | ADM1_ID &lt;chr&gt; | ADM2_ID &lt;chr&gt; | ADM2_POP &lt;dbl&gt; | crude_incidence &lt;dbl&gt; | incidence_adj_testing &lt;dbl&gt; | incidence_adj_reporting &lt;dbl&gt; | N3 &lt;dbl&gt; | incidence_adj_careseeking &lt;dbl&gt; |\n",
       "|---|---|---|---|---|---|---|---|---|---|---|---|---|---|\n",
       "| BU AKETI ZONE DE SANTE | 2022 | 23599 | 27122.80 | 36414.74 | BU BAS UELE PROVINCE | rWrCdr321Qu | LOm8B3vy1qR | 162815 | 144.9436 | 166.5866 | 223.6572 |  58916.73 | 361.8630 |\n",
       "| BU AKETI ZONE DE SANTE | 2023 | 23750 | 29178.82 | 65807.42 | BU BAS UELE PROVINCE | rWrCdr321Qu | LOm8B3vy1qR | 168946 | 140.5775 | 172.7109 | 389.5175 | 108634.48 | 643.0130 |\n",
       "| BU AKETI ZONE DE SANTE | 2024 | 26182 | 30678.42 | 39967.78 | BU BAS UELE PROVINCE | rWrCdr321Qu | LOm8B3vy1qR | 180176 | 145.3135 | 170.2692 | 221.8263 |  66912.35 | 371.3722 |\n",
       "\n"
      ],
      "text/plain": [
       "  ADM2                   YEAR CONF  N1       N2       ADM1                \n",
       "1 BU AKETI ZONE DE SANTE 2022 23599 27122.80 36414.74 BU BAS UELE PROVINCE\n",
       "2 BU AKETI ZONE DE SANTE 2023 23750 29178.82 65807.42 BU BAS UELE PROVINCE\n",
       "3 BU AKETI ZONE DE SANTE 2024 26182 30678.42 39967.78 BU BAS UELE PROVINCE\n",
       "  ADM1_ID     ADM2_ID     ADM2_POP crude_incidence incidence_adj_testing\n",
       "1 rWrCdr321Qu LOm8B3vy1qR 162815   144.9436        166.5866             \n",
       "2 rWrCdr321Qu LOm8B3vy1qR 168946   140.5775        172.7109             \n",
       "3 rWrCdr321Qu LOm8B3vy1qR 180176   145.3135        170.2692             \n",
       "  incidence_adj_reporting N3        incidence_adj_careseeking\n",
       "1 223.6572                 58916.73 361.8630                 \n",
       "2 389.5175                108634.48 643.0130                 \n",
       "3 221.8263                 66912.35 371.3722                 "
      ]
     },
     "metadata": {},
     "output_type": "display_data"
    }
   ],
   "source": [
    "yearly_incidence <- calculate_yearly_incidence(\n",
    "    case_data = monthly_cases, \n",
    "    population_data = dhis2_population_adm2\n",
    ")\n",
    "\n",
    "head(yearly_incidence, 3)"
   ]
  },
  {
   "cell_type": "markdown",
   "id": "3e57f2e8-1ccc-417c-9fa6-e6b1976336bc",
   "metadata": {},
   "source": [
    "## 4. Export"
   ]
  },
  {
   "cell_type": "markdown",
   "id": "1961ab21-20f0-410d-8af0-bdd7febab800",
   "metadata": {},
   "source": [
    "### 4.1. To `/data/dhis2_incidence/` folder\n",
    "Dynamically include **reporting rate method** used (`rr-method-`) in **filename**"
   ]
  },
  {
   "cell_type": "markdown",
   "id": "b621873e-c8c3-4200-8dde-9a4ca6cf247b",
   "metadata": {},
   "source": [
    "#### .CSV"
   ]
  },
  {
   "cell_type": "code",
   "execution_count": 98,
   "id": "a272d089-5b78-47c3-b77f-e58c52b10f7a",
   "metadata": {},
   "outputs": [],
   "source": [
    "# Dynamically include reporting rate method used (`rr-method-`) in filename \n",
    "write_csv(yearly_incidence,\n",
    "          file.path(DATA_PATH, \"dhis2_incidence\", paste0(COUNTRY_CODE, \"_incidence_year_rr-method-\", REPORTING_RATE_CHOICE, \".csv\"))      \n",
    "         )"
   ]
  },
  {
   "cell_type": "markdown",
   "id": "143fab43-a88e-4e29-9396-f99f06e9f516",
   "metadata": {},
   "source": [
    "#### .parquet"
   ]
  },
  {
   "cell_type": "code",
   "execution_count": 99,
   "id": "cdf90e02-62b0-49a7-b770-2ed8197e3161",
   "metadata": {},
   "outputs": [],
   "source": [
    "arrow::write_parquet(yearly_incidence,\n",
    "                     file.path(DATA_PATH, \"dhis2_incidence\", paste0(COUNTRY_CODE, \"_incidence_year_rr-method-\", REPORTING_RATE_CHOICE, \".parquet\"))\n",
    "                    )"
   ]
  },
  {
   "cell_type": "markdown",
   "id": "e87170af-ca18-4dee-b6bb-c6199c3671c7",
   "metadata": {},
   "source": [
    "## 4.2. 🗃️ To workspace **Dataset**: \"**reporting-rate-computed**\" \n",
    "Use python code in R kernel"
   ]
  },
  {
   "cell_type": "code",
   "execution_count": 100,
   "id": "b8cf08e2-38ea-413c-bb34-9e675e8f2e48",
   "metadata": {},
   "outputs": [
    {
     "data": {
      "text/plain": [
       "Module(openhexa.sdk)"
      ]
     },
     "metadata": {},
     "output_type": "display_data"
    }
   ],
   "source": [
    "# Double check that {reticulate} finds the module ... \n",
    "openhexa"
   ]
  },
  {
   "cell_type": "markdown",
   "id": "fe33a33b-5670-439c-a5e4-1b1f183082ab",
   "metadata": {},
   "source": [
    "### 4.2.0. Create new **dataset** (coded)\n",
    "This step could be skipped if preference for creating the Dataset manually  ..."
   ]
  },
  {
   "cell_type": "markdown",
   "id": "c6210683-583f-458b-82f1-f95ae462462f",
   "metadata": {},
   "source": [
    "Check if a dataset with slug == \"**dhis2-incidence**\" already exists, if not create one.<br>\n",
    "This avoids silentily creating a new dataset with same name (yet different slug and id) at each run ..."
   ]
  },
  {
   "cell_type": "code",
   "execution_count": 101,
   "id": "8e3f0fbe-cccd-4972-80b7-1e04e59d5ea8",
   "metadata": {},
   "outputs": [],
   "source": [
    "# Define Dataset \n",
    "DATASET_SLUG = \"dhis2-incidence\"\n",
    "DATASET_NAME <- \"DHIS2_INCIDENCE\"\n",
    "DATASET_DESCRIPTION <- \"Incidence calculated from DHIS2 routine data. Adjustement for Reporting Rate uses data obtained from differt sources or methods.\""
   ]
  },
  {
   "cell_type": "code",
   "execution_count": 102,
   "id": "c807a9a7-7f37-4510-afce-9c90388212e4",
   "metadata": {},
   "outputs": [
    {
     "name": "stdout",
     "output_type": "stream",
     "text": [
      "[1] \"Created new dataset: dhis2-incidence\"\n"
     ]
    }
   ],
   "source": [
    "# List all datasets \n",
    "existing_datasets <- openhexa$workspaces$workspace$list_datasets()\n",
    "\n",
    "# Check if a dataset with slug \"dhis2-reporting-rate\" exists (DATASET_SLUG)\n",
    "dataset_exists <- FALSE\n",
    "for (ds in existing_datasets) {\n",
    "  if (ds$slug == DATASET_SLUG) {\n",
    "    dataset_exists <- TRUE\n",
    "    dataset <- ds  # Store the existing dataset to be used downstream\n",
    "    break\n",
    "  }\n",
    "}\n",
    "\n",
    "# If it doesn't exist, create it \n",
    "if (!dataset_exists) {\n",
    "  # Define name & description (modify as needed)\n",
    "  dataset_name <- DATASET_NAME\n",
    "  dataset_description <- DATASET_DESCRIPTION\n",
    "  \n",
    "  # Create the dataset\n",
    "  dataset <- openhexa$workspaces$workspace$create_dataset(\n",
    "    name = dataset_name,\n",
    "    description = dataset_description\n",
    "  )\n",
    "  \n",
    "  print(paste(\"Created new dataset:\", dataset$slug))\n",
    "} else {\n",
    "  print(paste(\"Dataset already exists:\", dataset$slug))\n",
    "}"
   ]
  },
  {
   "cell_type": "markdown",
   "id": "a1d3e237-7b74-485e-a01e-aacd0447341c",
   "metadata": {},
   "source": [
    "### 4.2.1. Assign **version** to dataset - _if_ it does not have one yet\n",
    "🚨 Note: brand-new datasets don't have a version yet! Version needs to be explicitly created! <br>\n",
    "With this code a \"**v0**\" is created only if dataset doesn't have any (else it will keep its current version)."
   ]
  },
  {
   "cell_type": "code",
   "execution_count": 103,
   "id": "6c7efa8d-b6fb-4735-99fa-16a5059f7b25",
   "metadata": {},
   "outputs": [
    {
     "name": "stdout",
     "output_type": "stream",
     "text": [
      "[1] \"Dataset has no versions. Creating initial version 'v0'...\"\n",
      "[1] \"Created version: v0\"\n"
     ]
    }
   ],
   "source": [
    "# Check if dataset has any versions\n",
    "if (is.null(dataset$latest_version)) {\n",
    "  print(\"Dataset has no versions. Creating initial version 'v0'...\")\n",
    "  initial_version <- dataset$create_version(\"v0\")\n",
    "  print(paste(\"Created version:\", initial_version$name))\n",
    "} else {\n",
    "  print(paste(\"Dataset already has versions. Latest version:\", dataset$latest_version$name))\n",
    "}"
   ]
  },
  {
   "cell_type": "markdown",
   "id": "7f06f884-bf78-4f62-a913-a63a75ed3177",
   "metadata": {},
   "source": [
    "### 4.2.2. Define list of **files to be written** to the Dataset\n",
    "Here we're writing _all_ the files that we previously exported as `.csv` and `.parquet` files to `/data/dhis2_incidence/`"
   ]
  },
  {
   "cell_type": "code",
   "execution_count": 104,
   "id": "828f1026-1a76-464a-951e-83ec30ab3b08",
   "metadata": {},
   "outputs": [],
   "source": [
    "EXPORTED_DATA_FOLDER = \"dhis2_incidence\""
   ]
  },
  {
   "cell_type": "code",
   "execution_count": 105,
   "id": "7d4956fb-5a5d-44b4-8657-9459fc654609",
   "metadata": {},
   "outputs": [
    {
     "name": "stdout",
     "output_type": "stream",
     "text": [
      "[1] \"Files to be uploaded:\"\n",
      "[1] \"/home/jovyan/workspace/data/dhis2_incidence/COD_incidence_year_rr-method-conf.csv\"          \n",
      "[2] \"/home/jovyan/workspace/data/dhis2_incidence/COD_incidence_year_rr-method-conf.parquet\"      \n",
      "[3] \"/home/jovyan/workspace/data/dhis2_incidence/COD_incidence_year_rr-method-dummy-snis.csv\"    \n",
      "[4] \"/home/jovyan/workspace/data/dhis2_incidence/COD_incidence_year_rr-method-dummy-snis.parquet\"\n"
     ]
    }
   ],
   "source": [
    "# Define the directory path (with expanded ~)\n",
    "dir_path <- path.expand(file.path(DATA_PATH, EXPORTED_DATA_FOLDER))\n",
    "\n",
    "# List all files in the directory\n",
    "file_list <- list.files(dir_path, full.names = TRUE)\n",
    "\n",
    "# Check if there are any files\n",
    "if (length(file_list) == 0) {\n",
    "  stop(\"No files found in directory: \", dir_path)\n",
    "}\n",
    "\n",
    "# Print files to be uploaded (for debugging)\n",
    "print(\"Files to be uploaded:\")\n",
    "print(file_list)"
   ]
  },
  {
   "cell_type": "markdown",
   "id": "da75502e-6688-4ac0-ab83-341f1a1a9c0a",
   "metadata": {},
   "source": [
    "### 4.2.3. Create **new version** of Dataset and **write all files** to it\n",
    "At each execution of the notebook (hence at each pipeline execution):\n",
    "* **creates** a new version of the Dataset\n",
    "* **writes** all files found in `file_list` to this (latest) Dataset version"
   ]
  },
  {
   "cell_type": "code",
   "execution_count": 106,
   "id": "bb4b139e-d7da-458c-9da7-414166f56c5a",
   "metadata": {},
   "outputs": [
    {
     "name": "stdout",
     "output_type": "stream",
     "text": [
      "[1] \"Uploaded: COD_incidence_year_rr-method-conf.csv\"\n",
      "[1] \"Uploaded: COD_incidence_year_rr-method-conf.parquet\"\n",
      "[1] \"Uploaded: COD_incidence_year_rr-method-dummy-snis.csv\"\n",
      "[1] \"Uploaded: COD_incidence_year_rr-method-dummy-snis.parquet\"\n",
      "[1] \"Successfully uploaded 4 files to version v1\"\n"
     ]
    }
   ],
   "source": [
    "# 1. Get latest dataset version name\n",
    "latest_version_name <- dataset$latest_version$name\n",
    "latest_version_nr <- as.numeric(gsub(\"v\", \"\", latest_version_name))\n",
    "\n",
    "# 2. Create a new version (vX+1)\n",
    "new_version <- dataset$create_version(paste0(\"v\", latest_version_nr + 1))\n",
    "\n",
    "# 3. Add all files to the new version\n",
    "for (file_path in file_list) {\n",
    "  # Extract just the filename (without full path)\n",
    "  filename <- basename(file_path)\n",
    "  \n",
    "  # Upload the file\n",
    "  new_version$add_file(file_path, filename = filename)\n",
    "  \n",
    "  # Print confirmation\n",
    "  print(paste(\"Uploaded:\", filename))\n",
    "}\n",
    "\n",
    "print(paste(\"Successfully uploaded\", length(file_list), \"files to version\", new_version$name))"
   ]
  },
  {
   "cell_type": "code",
   "execution_count": null,
   "id": "0fc6d396-1912-4acc-b979-23cb2a836b03",
   "metadata": {},
   "outputs": [],
   "source": []
  },
  {
   "cell_type": "code",
   "execution_count": null,
   "id": "7e6c1423-9a6d-4bd0-9351-8960c3a99e24",
   "metadata": {},
   "outputs": [],
   "source": []
  },
  {
   "cell_type": "code",
   "execution_count": null,
   "id": "16e7d83b-3962-4041-9d2d-aaa362b62d5f",
   "metadata": {},
   "outputs": [],
   "source": []
  }
 ],
 "metadata": {
  "kernelspec": {
   "display_name": "R",
   "language": "R",
   "name": "ir"
  },
  "language_info": {
   "codemirror_mode": "r",
   "file_extension": ".r",
   "mimetype": "text/x-r-source",
   "name": "R",
   "pygments_lexer": "r",
   "version": "4.4.2"
  }
 },
 "nbformat": 4,
 "nbformat_minor": 5
}
