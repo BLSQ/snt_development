{
 "cells": [
  {
   "cell_type": "markdown",
   "id": "b94b23b4-408e-4a70-81c0-ea34a575defb",
   "metadata": {},
   "source": [
    "# Plots for under-5 Prevalence of Malaria (DHS data)"
   ]
  },
  {
   "cell_type": "markdown",
   "id": "00d4b58b-598b-40c4-8911-f4beb622e987",
   "metadata": {},
   "source": [
    "## Preliminary steps"
   ]
  },
  {
   "cell_type": "code",
   "execution_count": null,
   "id": "3d8bbf28-cc3d-40f7-acd0-a6e8a0fa51ff",
   "metadata": {},
   "outputs": [],
   "source": [
    "rm(list = ls())\n",
    "\n",
    "options(scipen=999)\n",
    "\n",
    "# Global paths\n",
    "Sys.setenv(PROJ_LIB = \"/opt/conda/share/proj\")\n",
    "Sys.setenv(GDAL_DATA = \"/opt/conda/share/gdal\")"
   ]
  },
  {
   "cell_type": "code",
   "execution_count": null,
   "id": "08d440aa-ac71-4c1d-988a-3ae62f6170a2",
   "metadata": {},
   "outputs": [],
   "source": [
    "# Paths\n",
    "ROOT_PATH <- '~/workspace'\n",
    "CONFIG_PATH <- file.path(ROOT_PATH, 'configuration')\n",
    "CODE_PATH <- file.path(ROOT_PATH, 'code')\n",
    "DATA_PATH <- file.path(ROOT_PATH, 'data')\n",
    "DHS_DATA_PATH <- file.path(DATA_PATH, 'dhs', 'raw')\n",
    "OUTPUT_DATA_PATH <- file.path(DATA_PATH, 'dhs', 'indicators', 'prevalence')\n",
    "OUTPUT_PLOTS_PATH <- file.path(ROOT_PATH, 'pipelines', 'snt_dhs_indicators', 'reporting', 'outputs')"
   ]
  },
  {
   "cell_type": "code",
   "execution_count": null,
   "id": "9c59c670-1a5c-4b17-8188-24aaa2ecc614",
   "metadata": {},
   "outputs": [],
   "source": [
    "# Load utils\n",
    "source(file.path(CODE_PATH, \"snt_utils.r\"))\n",
    "\n",
    "# List required pcks\n",
    "required_packages <- c(\"sf\", \"glue\", \"data.table\", \"ggplot2\", \"stringi\", \"jsonlite\", \"httr\", \"reticulate\")\n",
    "\n",
    "# Execute function\n",
    "install_and_load(required_packages)\n",
    "\n",
    "Sys.setenv(RETICULATE_PYTHON = \"/opt/conda/bin/python\")\n",
    "reticulate::py_config()$python\n",
    "openhexa <- import(\"openhexa.sdk\")\n",
    "\n",
    "# Load SNT config\n",
    "CONFIG_FILE_NAME <- \"SNT_config.json\"\n",
    "config_json <- tryCatch({ fromJSON(file.path(CONFIG_PATH, CONFIG_FILE_NAME)) },\n",
    "                        error = function(e) {\n",
    "                          msg <- paste0(\"Error while loading configuration\", conditionMessage(e))  \n",
    "                          cat(msg)   \n",
    "                          stop(msg) \n",
    "                        })\n",
    "\n",
    "msg <- paste0(\"SNT configuration loaded from  : \", file.path(CONFIG_PATH, CONFIG_FILE_NAME)) \n",
    "log_msg(msg)\n",
    "\n",
    "# Set config variables\n",
    "COUNTRY_CODE <- config_json$SNT_CONFIG$COUNTRY_CODE\n",
    "\n",
    "print(paste(\"Country code: \", COUNTRY_CODE))"
   ]
  },
  {
   "cell_type": "markdown",
   "id": "56be88f6-6b71-4cbb-b3d8-81dd4ec8e7cd",
   "metadata": {},
   "source": [
    "## Geo data"
   ]
  },
  {
   "cell_type": "code",
   "execution_count": null,
   "id": "62fe94e7-3b59-469c-b29e-ee7c6c735c39",
   "metadata": {},
   "outputs": [],
   "source": [
    "admin_level <- 'ADM1'\n",
    "admin_id_col <- glue(admin_level, 'ID', .sep='_')\n",
    "admin_name_col <- glue(admin_level, 'NAME', .sep='_')\n",
    "admin_cols <- c(admin_id_col, admin_name_col)"
   ]
  },
  {
   "cell_type": "code",
   "execution_count": null,
   "id": "2a2b9aa0-223e-4688-ad21-ca1a0203380e",
   "metadata": {},
   "outputs": [],
   "source": [
    "# Load spatial file from dataset\n",
    "\n",
    "dhis2_dataset <- config_json$SNT_DATASET_IDENTIFIERS$DHIS2_DATASET_FORMATTED\n",
    "\n",
    "spatial_data_filename <- paste(COUNTRY_CODE, \"shapes.geojson\", sep = \"_\")\n",
    "# spatial_data <- read_sf(file.path(DATA_PATH, 'dhis2', 'formatted', spatial_data_filename))\n",
    "spatial_data <- get_latest_dataset_file_in_memory(dhis2_dataset, spatial_data_filename)\n",
    "log_msg(glue(\"File {spatial_data_filename} successfully loaded from dataset version: {dhis2_dataset}\"))\n",
    "\n",
    "spatial_data <- st_as_sf(spatial_data)\n",
    "\n",
    "# aggregate geometries by the admin columns\n",
    "spatial_data <- aggregate_geometry(\n",
    "  sf_data=spatial_data,\n",
    "  admin_id_colname=admin_id_col,\n",
    "  admin_name_colname=admin_name_col\n",
    ")\n",
    "\n",
    "# keep class\n",
    "spatial_data <- st_as_sf(spatial_data)\n",
    "\n",
    "if(COUNTRY_CODE == \"COD\"){\n",
    "  spatial_data[[admin_name_col]] <- clean_admin_names(spatial_data[[admin_name_col]])\n",
    "}"
   ]
  },
  {
   "cell_type": "markdown",
   "id": "36611c8f-41db-4c2b-8fc0-5879944e611d",
   "metadata": {},
   "source": [
    "## Map"
   ]
  },
  {
   "cell_type": "code",
   "execution_count": null,
   "id": "82e7f761-5d2a-4a07-8d68-c8a7d3f51f29",
   "metadata": {},
   "outputs": [],
   "source": [
    "data_source <- 'DHS'\n",
    "indicator_u5prev <- 'PCT_U5_PREV_RDT'"
   ]
  },
  {
   "cell_type": "code",
   "execution_count": null,
   "id": "b9c97a19-dc70-4f4e-a812-816449b24bea",
   "metadata": {},
   "outputs": [],
   "source": [
    "filename_without_extension <- glue(\"{COUNTRY_CODE}_{data_source}_{admin_level}_{toupper(indicator_u5prev)}\")\n",
    "u5_rdt_prevalence_table <- fread(file.path(OUTPUT_DATA_PATH, paste0(filename_without_extension, '.csv')))\n",
    "\n",
    "plot_data =  merge(spatial_data, u5_rdt_prevalence_table, by = admin_cols, all = TRUE)"
   ]
  },
  {
   "cell_type": "code",
   "execution_count": null,
   "id": "d4eb221f-c86d-46c0-b0c7-93644322724d",
   "metadata": {},
   "outputs": [],
   "source": [
    "lower_bound_col <- glue(\"{toupper(indicator_u5prev)}_CI_LOWER_BOUND\")\n",
    "upper_bound_col <- glue(\"{toupper(indicator_u5prev)}_CI_UPPER_BOUND\")\n",
    "sample_avg_col <- glue(\"{toupper(indicator_u5prev)}_SAMPLE_AVERAGE\")"
   ]
  },
  {
   "cell_type": "code",
   "execution_count": null,
   "id": "b6f3d885-e41f-4d6d-9ace-d574c28c9466",
   "metadata": {},
   "outputs": [],
   "source": [
    "u5_rdt_prevalence_plot <- make_dhs_map(\n",
    "      plot_dt = plot_data,\n",
    "      plot_colname = sample_avg_col,\n",
    "      title_name = \"Under-5 malaria prevalence (RDT, %)\",\n",
    "      legend_title = '%',\n",
    "      scale_limits = c(0, 100)\n",
    "    )"
   ]
  },
  {
   "cell_type": "code",
   "execution_count": null,
   "id": "14def9f0-23b6-4008-a39c-d344516be71a",
   "metadata": {},
   "outputs": [],
   "source": [
    "plot_filename <- glue(\"{COUNTRY_CODE}_{data_source}_{admin_level}_{toupper(indicator_u5prev)}_plot.png\")\n",
    "ggsave(u5_rdt_prevalence_plot, file = file.path(OUTPUT_PLOTS_PATH, plot_filename), dpi = 500)"
   ]
  },
  {
   "cell_type": "markdown",
   "id": "b8c9ac5b-5000-45e7-a358-7226846a55b0",
   "metadata": {},
   "source": [
    "## Confidence interval plot"
   ]
  },
  {
   "cell_type": "code",
   "execution_count": null,
   "id": "58a07481-81a5-45e2-93f3-3ebf3cfca649",
   "metadata": {},
   "outputs": [],
   "source": [
    "ci_plot_title <- glue(\"{COUNTRY_CODE} {data_source} {toupper(indicator_u5prev)} CI\")\n",
    "ci_plot_xlab <- admin_name_col\n",
    "ci_plot_ylab <- glue(\"% children with positive malaria RDT\")\n",
    "ci_plot_filename <- glue(\"{COUNTRY_CODE}_{data_source}_{admin_level}_{toupper(indicator_u5prev)}_CI_plot.png\")\n",
    "ci_u5_rdt_prevalence_plot <- make_ci_plot(\n",
    "  df_to_plot=plot_data,\n",
    "  admin_colname=admin_name_col,\n",
    "  point_estimation_colname=sample_avg_col,\n",
    "  ci_lower_colname=lower_bound_col,\n",
    "  ci_upper_colname=upper_bound_col,\n",
    "  title_name=ci_plot_title,\n",
    "  x_title=ci_plot_xlab,\n",
    "  y_title=ci_plot_ylab\n",
    ")\n",
    "# ci_u5_rdt_prevalence_plot\n",
    "ggsave(filename=file.path(OUTPUT_PLOTS_PATH, ci_plot_filename), plot=ci_u5_rdt_prevalence_plot, width = 8, height = 6, dpi = 300)"
   ]
  },
  {
   "cell_type": "code",
   "execution_count": null,
   "id": "61bb2341-376f-47f2-9517-e4c6ab952885",
   "metadata": {},
   "outputs": [],
   "source": []
  }
 ],
 "metadata": {
  "kernelspec": {
   "display_name": "R",
   "language": "R",
   "name": "ir"
  },
  "language_info": {
   "codemirror_mode": "r",
   "file_extension": ".r",
   "mimetype": "text/x-r-source",
   "name": "R",
   "pygments_lexer": "r",
   "version": "4.4.3"
  }
 },
 "nbformat": 4,
 "nbformat_minor": 5
}
