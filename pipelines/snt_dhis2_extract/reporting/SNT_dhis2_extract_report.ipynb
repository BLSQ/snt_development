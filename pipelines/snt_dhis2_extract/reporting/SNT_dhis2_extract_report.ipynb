{
 "cells": [
  {
   "cell_type": "markdown",
   "id": "e3d5b582-a38f-4ce0-a9a2-9a53ab5eb233",
   "metadata": {},
   "source": [
    "# **DRC DHIS2 Data Quality Analysis and Incidence Calculations**\n"
   ]
  },
  {
   "cell_type": "markdown",
   "id": "16ae128a-85a1-4a40-9988-9c80647e611c",
   "metadata": {},
   "source": [
    "## Configuration"
   ]
  },
  {
   "cell_type": "code",
   "execution_count": null,
   "id": "903e2137-6de0-45b6-92af-2e3f092b4c5e",
   "metadata": {},
   "outputs": [],
   "source": [
    "# Set SNT Paths\n",
    "SNT_ROOT_PATH  <- \"~/workspace\"\n",
    "CODE_PATH      <- file.path(SNT_ROOT_PATH, \"code\")\n",
    "CONFIG_PATH    <- file.path(SNT_ROOT_PATH, \"configuration\")\n",
    "\n",
    "# load util functions\n",
    "source(file.path(CODE_PATH, \"snt_utils.r\"))\n",
    "\n",
    "# List required packages \n",
    "required_packages <- c(\"dplyr\", \"tidyr\", \"terra\", \"ggplot2\", \"stringr\", \"lubridate\", \"viridis\", \"patchwork\", \"zoo\", \"purrr\", \"arrow\", \"sf\", \"reticulate\")\n",
    "\n",
    "# Execute function\n",
    "install_and_load(required_packages)\n",
    "\n",
    "# Set environment to load openhexa.sdk from the right environment\n",
    "Sys.setenv(RETICULATE_PYTHON = \"/opt/conda/bin/python\")\n",
    "reticulate::py_config()$python\n",
    "openhexa <- import(\"openhexa.sdk\")\n",
    "\n",
    "# Load SNT config\n",
    "config_json <- tryCatch({ jsonlite::fromJSON(file.path(CONFIG_PATH, \"SNT_config.json\"))},\n",
    "    error = function(e) {\n",
    "        msg <- paste0(\"Error while loading configuration\", conditionMessage(e))  \n",
    "        cat(msg)   \n",
    "        stop(msg) \n",
    "    })\n",
    "\n",
    "# Configuration variables\n",
    "dataset_name <- config_json$SNT_DATASET_IDENTIFIERS$DHIS2_DATASET_EXTRACTS\n",
    "COUNTRY_CODE <- config_json$SNT_CONFIG$COUNTRY_CODE\n",
    "ADM_2 <- toupper(config_json$SNT_CONFIG$DHIS2_ADMINISTRATION_2)"
   ]
  },
  {
   "cell_type": "code",
   "execution_count": 2,
   "id": "f8edc2a5-07ce-4507-9939-4322fc510593",
   "metadata": {},
   "outputs": [],
   "source": [
    "# print function\n",
    "printdim <- function(df, name = deparse(substitute(df))) {\n",
    "  cat(\"Dimensions of\", name, \":\", nrow(df), \"rows x\", ncol(df), \"columns\\n\\n\")\n",
    "}"
   ]
  },
  {
   "cell_type": "markdown",
   "id": "4d8edc87-0b08-4808-aa68-1b9d601b0609",
   "metadata": {},
   "source": [
    "# Part 1: Completeness of Routine Health Facility Reporting by Data Element\n",
    "## 1.1 Import data, check config completeness and standardize data element names\n",
    "\n",
    "#### 🛠️ part 1 belongs to dhis2 extraction pipeline, and shows possibilities of adding a few reporting logs such as # of active HFs (1.2), checks for missing month (1.3), and figures/tables generated under 1.5, 1.6 and 1.7. Please include all of this.\n",
    "#### 🛠️ please add internal check: are all indicators in config effectively extracted? Are all months effectively extracted? e.g. if one species getween 202201 and 202501, have all months been extracted? Just to show data is complete.\n",
    "#### 🛠️ please add population data check (see with Giulia who had a comment on this - was related to monthly or yearly presence of data)"
   ]
  },
  {
   "cell_type": "code",
   "execution_count": null,
   "id": "2eca71a0-d1fd-4f1c-8196-178747c2d185",
   "metadata": {},
   "outputs": [],
   "source": [
    "# import analytics DHIS2 data\n",
    "data <- tryCatch({ get_latest_dataset_file_in_memory(dataset_name, paste0(COUNTRY_CODE, \"_dhis2_raw_analytics.parquet\")) }, \n",
    "                  error = function(e) {\n",
    "                      msg <- paste(\"Error while loading DHIS2 analytics file for: \" , COUNTRY_CODE, conditionMessage(e))\n",
    "                      cat(msg)\n",
    "                      stop(msg)\n",
    "                      })\n",
    "printdim(data)"
   ]
  },
  {
   "cell_type": "code",
   "execution_count": null,
   "id": "1bc2d4c7-8d87-4994-9ae8-a90ed45a5947",
   "metadata": {},
   "outputs": [],
   "source": [
    "# standardize indicator names\n",
    "data <- data %>%\n",
    "  mutate(DX_NAME = DX_NAME %>%\n",
    "           str_trim() %>%                      # remove leading/trailing spaces\n",
    "           str_replace_all(\"\\\\s+\", \"_\") %>%    # replace 1+ spaces with underscore\n",
    "           str_to_lower())                     # optional: make lowercase\n",
    "\n",
    "data <- data %>%\n",
    "  mutate(CO_NAME = CO_NAME %>%\n",
    "           str_trim() %>%                      # remove leading/trailing spaces\n",
    "           str_replace_all(\"\\\\s+\", \"_\") %>%    # replace 1+ spaces with underscore\n",
    "           str_to_lower())                     # optional: make lowercase"
   ]
  },
  {
   "cell_type": "markdown",
   "id": "598b3703-aa3f-45e1-ba39-03e354061729",
   "metadata": {},
   "source": [
    "## 1.2 Number of active health facilities\n",
    "Activity was defined as the point at which the health facility reported at least some information on any data element. This was evaluated by checking whether any data element was reported over the specified time period."
   ]
  },
  {
   "cell_type": "code",
   "execution_count": null,
   "id": "6a4bf426-3e9b-4238-9985-c0fa8ae9a470",
   "metadata": {},
   "outputs": [],
   "source": [
    "# Total number of unique facilities using org unit ID\n",
    "total_facilities <- data %>% pull(OU) %>% unique() %>% length()\n",
    "\n",
    "# Check health facility activity: any reported value (including 0) counts as active\n",
    "activity <- data %>%\n",
    "  group_by(OU, PE) %>%\n",
    "  summarise(active = any(!is.na(VALUE)), .groups = \"drop\")\n",
    "\n",
    "# Number of facilities that were ever active\n",
    "active_facilities <- activity %>%\n",
    "  group_by(OU) %>%\n",
    "  summarise(active_ever = any(active), .groups = \"drop\") %>%\n",
    "  filter(active_ever) %>%\n",
    "  nrow()\n",
    "\n",
    "# Proportion\n",
    "proportion_active <- 100 * active_facilities / total_facilities\n",
    "\n",
    "# Print result\n",
    "cat(\"Out of \", total_facilities,  \" unique health facilities, \", active_facilities, \n",
    "    \" were ever active (\", round(proportion_active, 1), \"%)\\n\", sep ='')"
   ]
  },
  {
   "cell_type": "markdown",
   "id": "1abc8adc-aabc-4d0f-bf33-0a230674b852",
   "metadata": {},
   "source": [
    "## 1.3 Check for missing months"
   ]
  },
  {
   "cell_type": "code",
   "execution_count": null,
   "id": "e5da5146-86da-4d91-9b64-bead21497896",
   "metadata": {},
   "outputs": [],
   "source": [
    "# Min and max month in the dataset\n",
    "cat(\"First month for which data is extracted:\", min(data$PE), \"\\n\")\n",
    "cat(\"Last month for which data is extracted:\", max(data$PE), \"\\n\")\n",
    "cat(\"Total Number of months for which data is extracted:\", length(unique(data$PE)), \"\\n\")\n",
    "\n",
    "# Check for missing months (assuming monthly from min to max)\n",
    "all_months <- seq(ymd(paste0(min(data$PE), \"01\")),\n",
    "                  ymd(paste0(max(data$PE), \"01\")),\n",
    "                  by = \"1 month\") %>%\n",
    "\n",
    "              format(\"%Y%m\")\n",
    "\n",
    "# Which months are missing?\n",
    "missing_months <- setdiff(all_months, unique(data$PE))\n",
    "\n",
    "if (length(missing_months) == 0) {\n",
    "  cat(\"All months are present — no missing months in the dataset.\")\n",
    "} else {\n",
    "  cat(\"⚠️ Missing months detected:\")\n",
    "  cat(missing_months)\n",
    "}"
   ]
  },
  {
   "cell_type": "markdown",
   "id": "8762f6e8-f111-4ba6-b036-278ce84b776f",
   "metadata": {},
   "source": [
    "## 1.4 Aggregate data elements by category option (co)"
   ]
  },
  {
   "cell_type": "code",
   "execution_count": null,
   "id": "dbdbaa22-b186-45f3-911d-48d526ae4e0c",
   "metadata": {},
   "outputs": [],
   "source": [
    "admin_levels <- colnames(data)[grepl(\"LEVEL_\", colnames(data))]\n",
    "\n",
    "data_clean <- data %>%\n",
    "  mutate(VALUE = as.numeric(VALUE)) %>%\n",
    "  group_by(DX, OU, PE, DX_NAME, across(all_of(admin_levels))) %>%\n",
    "  summarise(VALUE = sum(VALUE, na.rm = TRUE), .groups = \"drop\")\n",
    "printdim(data_clean)"
   ]
  },
  {
   "cell_type": "markdown",
   "id": "1be4d840-74a8-4a61-bf1a-af556ef270bc",
   "metadata": {},
   "source": [
    "## 1.5 Proportion of Health Facilities Reporting Zero, NULL or Positive Values for Each Data Element"
   ]
  },
  {
   "cell_type": "code",
   "execution_count": null,
   "id": "3dec0947-f19a-40fe-8927-1ea0efdca904",
   "metadata": {},
   "outputs": [],
   "source": [
    "options(jupyter.plot_mimetypes = c(\"image/png\"))"
   ]
  },
  {
   "cell_type": "code",
   "execution_count": null,
   "id": "8d1bb3bf-1ce8-49d9-ae2b-c818d33a4272",
   "metadata": {},
   "outputs": [],
   "source": [
    "# --- STEP 1: Convert 'PE' to proper DATE\n",
    "data_clean <- data_clean %>%\n",
    "  mutate(\n",
    "    PE = as.character(PE),\n",
    "    DATE = as.Date(paste0(substr(PE, 1, 4), \"-\", substr(PE, 5, 6), \"-01\")),\n",
    "    INDICATOR = DX_NAME  # alias for clarity\n",
    "  )\n",
    "\n",
    "# --- STEP 2: Build expected full grid (OU × INDICATOR × DATE)\n",
    "full_grid <- expand_grid(\n",
    "  OU = unique(data_clean$OU),\n",
    "  INDICATOR = unique(data_clean$INDICATOR),\n",
    "  DATE = unique(data_clean$DATE)\n",
    ")\n",
    "\n",
    "# --- STEP 3: Join to detect missing / zero / positive\n",
    "reporting_check <- full_grid %>%\n",
    "  left_join(\n",
    "    data_clean %>% select(OU, INDICATOR, DATE, VALUE),\n",
    "    by = c(\"OU\", \"INDICATOR\", \"DATE\")\n",
    "  ) %>%\n",
    "  mutate(\n",
    "    is_missing = is.na(VALUE),\n",
    "    is_zero = VALUE == 0 & !is.na(VALUE),\n",
    "    is_positive = VALUE > 0 & !is.na(VALUE)\n",
    "  )\n",
    "\n",
    "# --- STEP 4: Summarise by INDICATOR and date\n",
    "reporting_summary <- reporting_check %>%\n",
    "  group_by(INDICATOR, DATE) %>%\n",
    "  summarise(\n",
    "    n_total = n_distinct(OU),\n",
    "    n_missing = sum(is_missing),\n",
    "    n_zero = sum(is_zero),\n",
    "    n_positive = sum(is_positive),\n",
    "    pct_missing = ifelse(n_total > 0, 100 * n_missing / n_total, 0),\n",
    "    pct_zero = ifelse(n_total > 0, 100 * n_zero / n_total, 0),\n",
    "    pct_positive = ifelse(n_total > 0, 100 * n_positive / n_total, 0),\n",
    "    .groups = \"drop\"\n",
    "  )\n",
    "\n",
    "# --- STEP 5: Reshape for stacked plot\n",
    "plot_data <- reporting_summary %>%\n",
    "  pivot_longer(\n",
    "    cols = starts_with(\"pct_\"),\n",
    "    names_to = \"Status\", values_to = \"Percentage\"\n",
    "  ) %>%\n",
    "  mutate(\n",
    "    Status = recode(Status,\n",
    "                    pct_missing = \"Missing\",\n",
    "                    pct_zero = \"Zero reported\",\n",
    "                    pct_positive = \"Positive reported\")\n",
    "  ) %>%\n",
    "  complete(INDICATOR, DATE, Status, fill = list(Percentage = 0))\n",
    "\n",
    "# --- STEP 6: Plot\n",
    "options(repr.plot.width = 15, repr.plot.height = 15)\n",
    "\n",
    "ggplot(plot_data, aes(x = DATE, y = Percentage, fill = Status)) +\n",
    "  geom_col(position = \"stack\") +\n",
    "  facet_wrap(~ INDICATOR, scales = \"free_y\", ncol = 4) +\n",
    "  scale_y_continuous() +\n",
    "  scale_fill_manual(values = c(\n",
    "    \"Missing\" = \"tomato\",\n",
    "    \"Zero reported\" = \"skyblue\",\n",
    "    \"Positive reported\" = \"green\"\n",
    "  )) +\n",
    "  labs(\n",
    "    title = \"Health Facility Reporting Status by Data Element\",\n",
    "    x = \"Month\", y = \"% of Facilities\",\n",
    "    fill = \"Reporting Status\"\n",
    "  ) +\n",
    "  theme_minimal(base_size = 14) +\n",
    "  theme(\n",
    "    plot.title = element_text(face = \"bold\", size = 18),\n",
    "    strip.text = element_text(size = 14),\n",
    "    axis.title = element_text(size = 14),\n",
    "    axis.text = element_text(size = 12)\n",
    "  )"
   ]
  },
  {
   "cell_type": "markdown",
   "id": "727c614b-c1fd-4c17-8414-1f6478f664c3",
   "metadata": {},
   "source": [
    "## 1.6 Proportion of months reported for each data element per health facility"
   ]
  },
  {
   "cell_type": "code",
   "execution_count": null,
   "id": "389fc21b-2951-40f6-93cc-475920da9422",
   "metadata": {},
   "outputs": [],
   "source": [
    "# Max available column\n",
    "name_cols <- grep(\"LEVEL_\\\\d+_NAME\", admin_levels, value = TRUE)\n",
    "max_level <- max(as.numeric(gsub(\"LEVEL_(\\\\d+)_NAME\", \"\\\\1\", name_cols)))\n",
    "max_admin_col_name <- paste0(\"LEVEL_\", max_level, \"_NAME\")\n",
    "\n",
    "# Count number of months reported for each indicator per facility\n",
    "facility_coverage <- data_clean %>%\n",
    "  group_by(OU, !!sym(max_admin_col_name), DX_NAME) %>%\n",
    "  summarise(N_VALUES = sum(!is.na(VALUE)), .groups = \"drop\") %>%\n",
    "  pivot_wider(names_from = DX_NAME, \n",
    "              values_from = N_VALUES, \n",
    "              values_fill = 0)\n",
    "\n",
    "# Turn wide data back to long for plotting\n",
    "facility_long <- facility_coverage %>%\n",
    "  pivot_longer(\n",
    "    cols = -c(OU, !!sym(max_admin_col_name)),\n",
    "    names_to = \"indicator\",\n",
    "    values_to = \"months_reported\"\n",
    "  ) %>%\n",
    "  mutate(percent_reported = (months_reported / length(unique(data$PE))) * 100) %>% \n",
    "  left_join(\n",
    "    data %>% \n",
    "      select(OU, !!sym(ADM_2)) %>% \n",
    "      distinct(),\n",
    "    by = \"OU\"\n",
    "  )\n",
    "\n",
    "# Heatmap: Indicators as rows, Health Facilities as columns\n",
    "options(repr.plot.width = 15, repr.plot.height = 10)\n",
    "\n",
    "ggplot(facility_long, aes(x = !!sym(max_admin_col_name), y = indicator, fill = percent_reported)) +\n",
    "  geom_tile() +\n",
    "  scale_fill_viridis_c(name = \"% Reported\", limits = c(0, 100)) +\n",
    "  labs(\n",
    "    title = \"Reporting Completeness per Health Facility\",\n",
    "    x = \"Health Facility\",\n",
    "    y = \"Indicator\"\n",
    "  ) +\n",
    "  theme_minimal() +\n",
    "  theme(\n",
    "    axis.text.x = element_blank(),  # Hide x-axis labels if too many\n",
    "    axis.ticks.x = element_blank(),\n",
    "    axis.text.y = element_text(size = 12),\n",
    "    plot.title = element_text(size = 18, face = \"bold\"),\n",
    "    axis.title.x = element_text(size = 16),  \n",
    "    axis.title.y = element_text(size = 16),\n",
    "    panel.grid = element_blank()\n",
    "  )"
   ]
  },
  {
   "cell_type": "markdown",
   "id": "2867e12a-8b3b-4bde-a5a6-364e55080e44",
   "metadata": {},
   "source": [
    "**Conclusion** Aggregated data elements (TDR réalisé, TDR positif, Paludism simple confirmé traité and Cas suspects) are consistently present in most health facilities, while others (like Paludisme présumé) seem to be consistently missing. "
   ]
  },
  {
   "cell_type": "markdown",
   "id": "de9d7de6-48fb-477b-b63b-74b732126f33",
   "metadata": {},
   "source": [
    "## 1.7 Summary Table of Reporting Completeness Per Indicator"
   ]
  },
  {
   "cell_type": "code",
   "execution_count": null,
   "id": "5b03c51a-1842-4d1b-8837-27f37fce0ae9",
   "metadata": {},
   "outputs": [],
   "source": [
    "total_facilities <- n_distinct(facility_coverage$OU)\n",
    "\n",
    "element_summary <- facility_coverage %>%\n",
    "  pivot_longer(cols = -c(OU, !!sym(max_admin_col_name)), names_to = \"indicator\", values_to = \"months_reported\") %>%\n",
    "  group_by(indicator) %>%\n",
    "  summarise(\n",
    "    mean_n_months_reporting = round(mean(months_reported, na.rm = TRUE), 1),\n",
    "    median_n_months_reporting = round(median(months_reported, na.rm = TRUE), 1),\n",
    "    n_facilities_reporting = sum(months_reported > 0, na.rm = TRUE),\n",
    "    prop_facilities_reporting = round(n_facilities_reporting / total_facilities * 100, 1),\n",
    "    .groups = \"drop\"\n",
    "  ) %>%\n",
    "  arrange(mean_n_months_reporting)\n",
    "\n",
    "element_summary"
   ]
  }
 ],
 "metadata": {
  "kernelspec": {
   "display_name": "R",
   "language": "R",
   "name": "ir"
  },
  "language_info": {
   "codemirror_mode": "r",
   "file_extension": ".r",
   "mimetype": "text/x-r-source",
   "name": "R",
   "pygments_lexer": "r",
   "version": "4.4.2"
  }
 },
 "nbformat": 4,
 "nbformat_minor": 5
}
