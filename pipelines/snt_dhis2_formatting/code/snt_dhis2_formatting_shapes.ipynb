{
 "cells": [
  {
   "cell_type": "markdown",
   "id": "96eee97c-fda4-4827-8111-c438cabed82e",
   "metadata": {},
   "source": [
    "## Setup start "
   ]
  },
  {
   "cell_type": "code",
   "execution_count": null,
   "id": "e1156ab5-2dc6-4bfb-8d7a-ac594c40ecf8",
   "metadata": {
    "vscode": {
     "languageId": "r"
    }
   },
   "outputs": [],
   "source": [
    "# Parameters\n",
    "\n",
    "SNT_ROOT_PATH   <- '~/workspace'   # SNT root"
   ]
  },
  {
   "cell_type": "code",
   "execution_count": null,
   "id": "687392e7-fe6c-4355-9f4d-6718b467a33d",
   "metadata": {
    "vscode": {
     "languageId": "r"
    }
   },
   "outputs": [],
   "source": [
    "# Set project folders\n",
    "CODE_PATH      <- file.path(SNT_ROOT_PATH, \"code\")\n",
    "CONFIG_PATH    <- file.path(SNT_ROOT_PATH, \"configuration\")\n",
    "FORMATTED_DATA_PATH <- file.path(SNT_ROOT_PATH, \"data\", \"dhis2\", \"extracts_formatted\")"
   ]
  },
  {
   "cell_type": "markdown",
   "id": "7a31fc88-3fa9-4a65-b61a-dc1564aecc22",
   "metadata": {},
   "source": [
    "**Load functions**"
   ]
  },
  {
   "cell_type": "code",
   "execution_count": null,
   "id": "340a8095-ee83-4277-84cd-60c0c626b947",
   "metadata": {
    "vscode": {
     "languageId": "r"
    }
   },
   "outputs": [],
   "source": [
    "source(file.path(CODE_PATH, \"snt_utils.r\"))\n",
    "# source(file.path(CODE_PATH, \"snt_functions.r\"))"
   ]
  },
  {
   "cell_type": "markdown",
   "id": "1188d74a-0d28-48c7-a72e-3c1933b87cf4",
   "metadata": {},
   "source": [
    "**Check and load required libraries**  "
   ]
  },
  {
   "cell_type": "code",
   "execution_count": null,
   "id": "715c8d64-aaa0-43e6-b398-59abfb564bae",
   "metadata": {
    "vscode": {
     "languageId": "r"
    }
   },
   "outputs": [],
   "source": [
    "# List required pcks  ---------------->  check  what are the really required libraries\n",
    "required_packages <- c(\"lubridate\", \"zoo\", \"arrow\", \"dplyr\", \"tidyr\", \"stringr\", \"stringi\", \"jsonlite\", \"httr\", \"reticulate\", \"sf\", \"rmapshaper\")\n",
    "\n",
    "# Execute function\n",
    "install_and_load(required_packages)"
   ]
  },
  {
   "cell_type": "code",
   "execution_count": null,
   "id": "d1cf7e13-3be0-44fa-99ea-3e3520da1229",
   "metadata": {
    "vscode": {
     "languageId": "r"
    }
   },
   "outputs": [],
   "source": [
    "# Set variables to load openhexa.sdk from the right environment\n",
    "Sys.setenv(PROJ_LIB = \"/opt/conda/share/proj\")\n",
    "Sys.setenv(GDAL_DATA = \"/opt/conda/share/gdal\")\n",
    "Sys.setenv(RETICULATE_PYTHON = \"/opt/conda/bin/python\")\n",
    "\n",
    "# Load openhexa.sdk \n",
    "reticulate::py_config()$python\n",
    "openhexa <- import(\"openhexa.sdk\")"
   ]
  },
  {
   "cell_type": "markdown",
   "id": "21c802bd-506b-4e60-bd06-b715a5c197ee",
   "metadata": {},
   "source": [
    "### Load SNT configuration\n"
   ]
  },
  {
   "cell_type": "code",
   "execution_count": null,
   "id": "10580e48-ccb5-49df-933d-3cdbc480a402",
   "metadata": {
    "vscode": {
     "languageId": "r"
    }
   },
   "outputs": [],
   "source": [
    "# Load SNT config\n",
    "config_json <- tryCatch({\n",
    "        fromJSON(file.path(CONFIG_PATH, \"SNT_config.json\"))\n",
    "    },\n",
    "    error = function(e) {\n",
    "        msg <- paste0(\"Error while loading configuration\", conditionMessage(e))  \n",
    "        cat(msg)   \n",
    "        stop(msg) \n",
    "    })\n",
    "\n",
    "# print(config.json$SNT_CONFIG)\n",
    "msg <- paste0(\"SNT configuration loaded from  : \", file.path(CONFIG_PATH, \"SNT_config.json\"))\n",
    "log_msg(msg)"
   ]
  },
  {
   "cell_type": "markdown",
   "id": "f9d3da29-c02b-44ca-b6ee-a00b990c480a",
   "metadata": {},
   "source": [
    "**Checks for SNT mandatory configuration fields**"
   ]
  },
  {
   "cell_type": "code",
   "execution_count": null,
   "id": "590aa36d-74e0-4616-b60e-628e26201c52",
   "metadata": {
    "vscode": {
     "languageId": "r"
    }
   },
   "outputs": [],
   "source": [
    "# CHECK SNT configuration \n",
    "snt_config_mandatory <- c(\"COUNTRY_CODE\", \"DHIS2_ADMINISTRATION_1\", \"DHIS2_ADMINISTRATION_2\") #, \"ORG_UNITS_LEVELS_SELECTION\")\n",
    "for (conf in snt_config_mandatory) {\n",
    "    print(paste(conf, \":\", config_json$SNT_CONFIG[conf]))\n",
    "    if (is.null(config_json$SNT_CONFIG[[conf]])) {\n",
    "        msg <- paste(\"Missing configuration input:\", conf)\n",
    "        cat(msg)   \n",
    "        stop(msg)\n",
    "    }\n",
    "}\n",
    "\n",
    "# Save this country code in a variable\n",
    "COUNTRY_CODE <- config_json$SNT_CONFIG$COUNTRY_CODE\n",
    "ADMIN_1 <- toupper(config_json$SNT_CONFIG$DHIS2_ADMINISTRATION_1)\n",
    "ADMIN_2 <- toupper(config_json$SNT_CONFIG$DHIS2_ADMINISTRATION_2)"
   ]
  },
  {
   "cell_type": "markdown",
   "id": "0b8083d8-ba7f-49d9-865b-ada38c51b6b2",
   "metadata": {},
   "source": [
    "### Load DHIS2 shapes data"
   ]
  },
  {
   "cell_type": "markdown",
   "id": "77af1690-79c4-4ad4-92c3-47a5dd119906",
   "metadata": {},
   "source": [
    "-Load DHIS2 shapes from latest dataset version \n"
   ]
  },
  {
   "cell_type": "code",
   "execution_count": null,
   "id": "82d0d5e9-2cc5-4101-9ea6-59aafdcf5b81",
   "metadata": {
    "vscode": {
     "languageId": "r"
    }
   },
   "outputs": [],
   "source": [
    "# DHIS2 Dataset extract identifier\n",
    "dataset_name <- config_json$SNT_DATASET_IDENTIFIERS$DHIS2_DATASET_EXTRACTS\n",
    "\n",
    "# Load file from dataset\n",
    "dhis2_data <- tryCatch({ get_latest_dataset_file_in_memory(dataset_name, paste0(COUNTRY_CODE, \"_dhis2_raw_shapes.parquet\")) }, \n",
    "                  error = function(e) {\n",
    "                      msg <- paste(\"Error while loading DHIS2 shapes file for: \" , COUNTRY_CODE, conditionMessage(e))  # log error message\n",
    "                      cat(msg)\n",
    "                      stop(msg)\n",
    "})\n",
    "\n",
    "msg <- paste0(\"DHIS2 shapes data loaded from dataset : \", dataset_name, \" dataframe dimensions: \", paste(dim(dhis2_data), collapse=\", \"))\n",
    "log_msg(msg)"
   ]
  },
  {
   "cell_type": "markdown",
   "id": "0d351974-c1c5-4971-97c8-f0122ca9e803",
   "metadata": {},
   "source": [
    "## SNT Shapes formatting"
   ]
  },
  {
   "cell_type": "code",
   "execution_count": null,
   "id": "328ce7f1-a010-44c4-92e2-3b31829b32d8",
   "metadata": {
    "vscode": {
     "languageId": "r"
    }
   },
   "outputs": [],
   "source": [
    "# log\n",
    "# msg <- paste0(\"SNT Shapes Formatting.\")\n",
    "# log_msg(msg)"
   ]
  },
  {
   "cell_type": "code",
   "execution_count": null,
   "id": "a076591f-b6df-49cb-8874-627b61a03356",
   "metadata": {
    "vscode": {
     "languageId": "r"
    }
   },
   "outputs": [],
   "source": [
    "# Select administrative levels \n",
    "adm_1_id_col <- gsub(\"_NAME\", \"_ID\", ADMIN_1)\n",
    "adm_1_name_col <- ADMIN_1\n",
    "adm_2_id_col <- gsub(\"_NAME\", \"_ID\", ADMIN_2)\n",
    "adm_2_name_col <- ADMIN_2\n",
    "\n",
    "# Administrative columns list\n",
    "admin_columns <- c(\n",
    "    adm_1_id_col,\n",
    "    adm_1_name_col,\n",
    "    adm_2_id_col,\n",
    "    adm_2_name_col\n",
    ")\n",
    "\n",
    "# # Rename to lower (for transformation?)\n",
    "# if (\"GEOMETRY\" %in% names(dhis2_data)) {\n",
    "#   names(dhis2_data)[names(dhis2_data) == \"NAME\"] <- \"geometry\"\n",
    "# }\n",
    "\n",
    "shapes_data <- dhis2_data[, c(admin_columns, \"GEOMETRY\")]\n",
    "\n",
    "# Clean strings for admin 1 and admin 2\n",
    "shapes_data[[ADMIN_1]] <- format_names(shapes_data[[ADMIN_1]]) # (format_names() in snt_utils.r)\n",
    "shapes_data[[ADMIN_2]] <- format_names(shapes_data[[ADMIN_2]])\n",
    "\n",
    "# Select and Rename columns\n",
    "shapes_data <- shapes_data %>%\n",
    "    select(\n",
    "        ADM1_NAME = !!sym(adm_1_name_col),\n",
    "        ADM1_ID = !!sym(adm_1_id_col),\n",
    "        ADM2_NAME = !!sym(adm_2_name_col),\n",
    "        ADM2_ID = !!sym(adm_2_id_col),\n",
    "        GEOMETRY\n",
    "        )\n",
    "\n",
    "# Column names to upper case\n",
    "colnames(shapes_data) <- clean_column_names(shapes_data)\n",
    "head(shapes_data[, c(\"ADM1_ID\", \"ADM1_NAME\", \"ADM2_ID\", \"ADM2_NAME\")])"
   ]
  },
  {
   "cell_type": "markdown",
   "id": "4cabdecd-e4ba-43c4-9877-302e9854d07d",
   "metadata": {},
   "source": [
    "### Transform shapes data to valid geojson "
   ]
  },
  {
   "cell_type": "code",
   "execution_count": null,
   "id": "6f1b20bf-8205-48be-bb4f-45f91d0719c4",
   "metadata": {},
   "outputs": [],
   "source": [
    "# Safe Convert geometry column from GeoJSON to 'sfc' (simple feature geometry)\n",
    "# Ignore wrong and empty geometries.\n",
    "geometry_sfc <- lapply(shapes_data$GEOMETRY, function(g) {\n",
    "  if (is.na(g) || is.null(g)) return(st_geometrycollection())  # empty valid geometry\n",
    "  tryCatch({\n",
    "    geo <- geojsonsf::geojson_sfc(g)\n",
    "    geo[[1]]  # extract sfg\n",
    "  }, error = function(e) {\n",
    "    st_geometrycollection()  # return empty but valid geometry\n",
    "  })\n",
    "})\n",
    "\n",
    "# Convert to sfc safely\n",
    "geometry_sfc <- sf::st_sfc(geometry_sfc)\n",
    "\n",
    "# Bind geometry as a real 'sfc' column to the data\n",
    "shapes_data_sf <- sf::st_sf(shapes_data[, !names(shapes_data) %in% \"GEOMETRY\"], \n",
    "                        GEOMETRY = geometry_sfc, \n",
    "                        crs = 4326)"
   ]
  },
  {
   "cell_type": "code",
   "execution_count": null,
   "id": "462d4e05-d8b2-4465-a12e-99322fe395c9",
   "metadata": {},
   "outputs": [],
   "source": [
    "# Create a temporary column for simplified geometry\n",
    "shapes_data_sf$GEOMETRY_TEMP <- shapes_data_sf$GEOMETRY\n",
    "\n",
    "# Identify only MULTIPOLYGON geometries\n",
    "valid_idx <- which(sf::st_geometry_type(shapes_data_sf$GEOMETRY) == \"MULTIPOLYGON\")\n",
    "\n",
    "if (length(valid_idx) > 0) {\n",
    "  # Subset only valid rows and keep only the geometry\n",
    "  valid_sf <- sf::st_sf(GEOMETRY = shapes_data_sf$GEOMETRY[valid_idx])\n",
    "  \n",
    "  # Simplify and validate\n",
    "  simplified <- rmapshaper::ms_simplify(valid_sf, keep = 0.05, keep_shapes = TRUE)\n",
    "  simplified$GEOMETRY <- sf::st_make_valid(simplified$GEOMETRY)\n",
    "  \n",
    "  # Insert back the simplified geometry\n",
    "  shapes_data_sf$GEOMETRY_TEMP[valid_idx] <- simplified$GEOMETRY\n",
    "}"
   ]
  },
  {
   "cell_type": "code",
   "execution_count": null,
   "id": "573d7ebe-4fa7-498b-a58f-ca4d20c6560e",
   "metadata": {},
   "outputs": [],
   "source": [
    "shapes_data_sf$GEOMETRY <- shapes_data_sf$GEOMETRY_TEMP\n",
    "shapes_data_sf$GEOMETRY_TEMP <- NULL"
   ]
  },
  {
   "cell_type": "code",
   "execution_count": null,
   "id": "253b0eb4-f977-4754-9e06-27fcee763fe9",
   "metadata": {},
   "outputs": [],
   "source": [
    "cat(\"Dimensions:\", nrow(shapes_data_sf), \"rows x\", ncol(shapes_data_sf), \"columns\\n\")\n",
    "head(as.data.frame(shapes_data_sf))"
   ]
  },
  {
   "cell_type": "code",
   "execution_count": null,
   "id": "9b399448-1e9c-4c53-8080-8170c4387a80",
   "metadata": {
    "jupyter": {
     "source_hidden": true
    },
    "vscode": {
     "languageId": "r"
    }
   },
   "outputs": [],
   "source": [
    "# ADM1 shapes union\n",
    "# Step 1: Validate or fix invalid geometries\n",
    "# shapes_geo_simple <- shapes_geo_simple %>%\n",
    "#   mutate(geometry = st_make_valid(geometry))\n",
    "\n",
    "# # Step 2: Then proceed with the union\n",
    "# aggregated_provinces <- shapes_geo_simple %>%\n",
    "#   group_by(level_2_id, level_2_name) %>%\n",
    "#   summarise(geometry = st_union(geometry), .groups = \"drop\") %>%\n",
    "#   st_sf()\n",
    "\n",
    "# Province level\n",
    "# plot(shapes_geo_simple[\"level_2_name\"], key.pos = NULL)"
   ]
  },
  {
   "cell_type": "code",
   "execution_count": null,
   "id": "4e90fce0-0baf-490b-a1f4-8c6aafed5535",
   "metadata": {
    "vscode": {
     "languageId": "r"
    }
   },
   "outputs": [],
   "source": [
    "# ADM 2 level\n",
    "plot(shapes_data_sf[,\"ADM2_ID\"])"
   ]
  },
  {
   "cell_type": "markdown",
   "id": "853b9f8c-01a0-41de-9b6b-3a506f1a36e4",
   "metadata": {},
   "source": [
    "### Output formatted shapes data"
   ]
  },
  {
   "cell_type": "code",
   "execution_count": null,
   "id": "a821d0f9-f572-4945-9d67-ab699f7dda06",
   "metadata": {
    "vscode": {
     "languageId": "r"
    }
   },
   "outputs": [],
   "source": [
    "out_msg <- paste0(\"Shapes data saved under: \", file.path(FORMATTED_DATA_PATH, paste0(COUNTRY_CODE, \"_shapes.geojson\")))\n",
    "\n",
    "# save file\n",
    "fp <- file.path(FORMATTED_DATA_PATH, paste0(COUNTRY_CODE, \"_shapes.geojson\"))\n",
    "\n",
    "# Check if the file exists and delete it\n",
    "if (file.exists(fp)) {\n",
    "  file.remove(fp)\n",
    "}\n",
    "\n",
    "# save geojson\n",
    "sf::st_write(shapes_data_sf, dsn = fp, layer = fp, delete_dsn = TRUE)\n",
    "\n",
    "# log\n",
    "log_msg(out_msg)"
   ]
  },
  {
   "cell_type": "markdown",
   "id": "07ce08f0-526e-48e9-a72d-16aafc1f40b8",
   "metadata": {},
   "source": [
    "### Data Summary "
   ]
  },
  {
   "cell_type": "code",
   "execution_count": null,
   "id": "cbaa160c-04e4-4b9c-95e4-b320a358ce40",
   "metadata": {
    "vscode": {
     "languageId": "r"
    }
   },
   "outputs": [],
   "source": [
    "# Data summary\n",
    "print(summary(shapes_data_sf))"
   ]
  },
  {
   "cell_type": "code",
   "execution_count": null,
   "id": "52c29943-f60e-45d8-a477-05c21836b9c9",
   "metadata": {
    "vscode": {
     "languageId": "r"
    }
   },
   "outputs": [],
   "source": []
  }
 ],
 "metadata": {
  "kernelspec": {
   "display_name": "R",
   "language": "R",
   "name": "ir"
  },
  "language_info": {
   "codemirror_mode": "r",
   "file_extension": ".r",
   "mimetype": "text/x-r-source",
   "name": "R",
   "pygments_lexer": "r",
   "version": "4.4.3"
  }
 },
 "nbformat": 4,
 "nbformat_minor": 5
}
