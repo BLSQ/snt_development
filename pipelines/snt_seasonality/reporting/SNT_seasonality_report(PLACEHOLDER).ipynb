{
 "cells": [
  {
   "cell_type": "code",
   "execution_count": null,
   "id": "f62921f8-3f59-4819-9957-c4a24e461367",
   "metadata": {
    "vscode": {
     "languageId": "r"
    }
   },
   "outputs": [
    {
     "name": "stdout",
     "output_type": "stream",
     "text": [
      "[1] \"incidence reporting nb\"\n"
     ]
    }
   ],
   "source": [
    "print(\"reporting reporting nb\")"
   ]
  },
  {
   "cell_type": "code",
   "execution_count": null,
   "id": "f5b30ae1-805f-444f-a34c-049b590e04b7",
   "metadata": {
    "vscode": {
     "languageId": "r"
    }
   },
   "outputs": [],
   "source": []
  }
 ],
 "metadata": {
  "kernelspec": {
   "display_name": "R",
   "language": "R",
   "name": "ir"
  },
  "language_info": {
   "codemirror_mode": "r",
   "file_extension": ".r",
   "mimetype": "text/x-r-source",
   "name": "R",
   "pygments_lexer": "r",
   "version": "4.4.2"
  }
 },
 "nbformat": 4,
 "nbformat_minor": 5
}
