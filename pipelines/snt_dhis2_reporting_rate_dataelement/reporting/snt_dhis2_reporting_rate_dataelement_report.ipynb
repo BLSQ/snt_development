{
 "cells": [
  {
   "cell_type": "code",
   "execution_count": null,
   "id": "1ee808a6-a1d1-4eba-8302-387160138b9c",
   "metadata": {},
   "outputs": [],
   "source": [
    "print(\"placeholder\")"
   ]
  }
 ],
 "metadata": {
  "kernelspec": {
   "display_name": "R",
   "language": "R",
   "name": "ir"
  },
  "language_info": {
   "codemirror_mode": "r",
   "file_extension": ".r",
   "mimetype": "text/x-r-source",
   "name": "R",
   "pygments_lexer": "r",
   "version": "4.4.3"
  }
 },
 "nbformat": 4,
 "nbformat_minor": 5
}
