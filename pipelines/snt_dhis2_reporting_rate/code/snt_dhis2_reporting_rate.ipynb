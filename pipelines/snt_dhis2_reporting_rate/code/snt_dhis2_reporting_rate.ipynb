{
 "cells": [
  {
   "cell_type": "markdown",
   "id": "f5827740-2917-4504-9017-9ec7d408e5f4",
   "metadata": {},
   "source": [
    "Script structure:\n",
    "\n",
    "  0. Parameters: set back-up values for parameters, for when the notebook is run manually (_noy_ via pipeline)\n",
    "  1. Setup:\n",
    "        * Paths\n",
    "        * Utils functions\n",
    "  2. Load Data\n",
    "        * **Routine data** (DHIS2) already formatted & aggregated (output of pipeline XXX)\n",
    "        * **Reporting** (DHIS2) pre-computed, already formatted & aggregated (output of pipeline ???)\n",
    "        * **Shapes** (DHIS2) for plotting (this could be removed if we move the plots to \"report/EDA\" nb)\n",
    "  3. Calculate **Reportng Rate (RR)**\n",
    "        * \"**Dataset**\": using pre-computed reportings from DHIS2/SNIS (was: \"DHIS2\")\n",
    "        * \"**Data Element**\": using calculated expected nr of report (nr of active facilities) (was: \"CONF\")\n",
    "        * <s>\"ANY\" (based on old code - BFA)</s> 🤫\n",
    "  4. **Export** reporting rate data to **Datasets** as .csv and .parquet files"
   ]
  },
  {
   "cell_type": "markdown",
   "id": "cdd5409b-dc0e-45f4-ae4e-dffcdb25059b",
   "metadata": {},
   "source": [
    "-------------------\n",
    "**Naming harmonization to improve code readability**:"
   ]
  },
  {
   "cell_type": "markdown",
   "id": "96d5dffc-ff34-4a14-b2b7-1e71e6afad07",
   "metadata": {},
   "source": [
    "**Reporting Rate** data frames, based on different **methods**:\n",
    "* follwo this structure: `reporting_rate_<method>`. So:\n",
    "    * **Dataset** (using pre-computed reporting) : `reporting_rate_dataset`\n",
    "    * **Data Element** (Diallo 2025) : `reporting_rate_dataelement`\n",
    "        * **Note**: when exported, the file name carries also the info for the choice of **n**umerator and **d**enominator<br>\n",
    "          Example: COD_reporting_rate_dataelement-**n**1-**d**1.csv"
   ]
  },
  {
   "cell_type": "markdown",
   "id": "5e8f5bf2-922a-468a-8a2c-8e56d7e652df",
   "metadata": {},
   "source": [
    "--------------------"
   ]
  },
  {
   "cell_type": "markdown",
   "id": "1c08efff-9c38-4d27-b858-f766099f398a",
   "metadata": {},
   "source": [
    "🚧 **Notes / possible ToDo's**:\n",
    "* Considering to remove **yearly** reporting rate calculations (`reporting_rate_*_year`) as it does not seem to be used anywhere - excpet for the reporting/comparison/data quality check. Therefore, maybe better to only have this in the reporting nb (delete from main nb)"
   ]
  },
  {
   "cell_type": "markdown",
   "id": "617afd00-0954-4b6c-9305-32b329530ad3",
   "metadata": {},
   "source": [
    "--------------------"
   ]
  },
  {
   "cell_type": "markdown",
   "id": "339f6d58-0965-40ef-b718-96195d2463f8",
   "metadata": {},
   "source": [
    "## Parameters"
   ]
  },
  {
   "cell_type": "markdown",
   "id": "dd6cd6f8-b91b-4902-8801-a60e11776f98",
   "metadata": {},
   "source": [
    "Set Default values **if _not_ provided by pipeline**<br>\n",
    "This makes the execution flexible and \"safe\": nb can be run manually from here or be executed via pipeline, without having to change anything in the code!"
   ]
  },
  {
   "cell_type": "code",
   "execution_count": null,
   "id": "93aac683-8828-4a42-b841-f16c7e8fbb07",
   "metadata": {
    "vscode": {
     "languageId": "r"
    }
   },
   "outputs": [],
   "source": [
    "# Set BACKUP VALUE: root path - NEVER CHANGE THIS!\n",
    "if (!exists(\"SNT_ROOT_PATH\")) {\n",
    "  SNT_ROOT_PATH <- \"/home/hexa/workspace\" \n",
    "}\n",
    "\n",
    "# Run Dataset rep rate? <-- 🚨 Must run in anyways if `DATAELEMENT_METHOD_DENOMINATOR == \"DHIS2_EXPECTED_REPORTS\"` !\n",
    "RUN_DATASET <- TRUE # FALSE  # ⚠️ Just placeholder, not used yet! ⚠️\n",
    "\n",
    "# Run Data Elemenet rep rate?\n",
    "RUN_DATAELEMENT <- TRUE # FALSE # ⚠️ Just placeholder, not used yet! ⚠️\n",
    "\n",
    "# Data Elemenet RR. Choice: which INDICATORS to use to count the nr of reporting facilities \n",
    "if (!exists(\"DATAELEMENT_METHOD_NUMERATOR\")) {\n",
    "  DATAELEMENT_METHOD_NUMERATOR <- \"CONF\" # \"CONF|SUSP|TEST\"\n",
    "}\n",
    "\n",
    "# Data Elemenet RR. Choice: which df to use for nr of `EXPECTED_REPORTS` (DENOMINATOR) \n",
    "if (!exists(\"DATAELEMENT_METHOD_DENOMINATOR\")) {\n",
    "  DATAELEMENT_METHOD_DENOMINATOR <- \"DHIS2_EXPECTED_REPORTS\" # \"ACTIVE_FACILITIES\"\n",
    "}\n"
   ]
  },
  {
   "cell_type": "markdown",
   "id": "af076158-1f5a-408d-8ce2-2f2101d0531c",
   "metadata": {},
   "source": [
    "## 1. Setup"
   ]
  },
  {
   "cell_type": "markdown",
   "id": "3ae826e4-f728-4c8d-81fb-0857234ac622",
   "metadata": {},
   "source": [
    "### 1.1. Paths"
   ]
  },
  {
   "cell_type": "code",
   "execution_count": null,
   "id": "b5f1b8ce-db82-4295-8e74-00b765cf0b9d",
   "metadata": {
    "vscode": {
     "languageId": "r"
    }
   },
   "outputs": [],
   "source": [
    "# PROJECT PATHS\n",
    "CODE_PATH <- file.path(SNT_ROOT_PATH, 'code') # this is where we store snt_utils.r\n",
    "CONFIG_PATH <- file.path(SNT_ROOT_PATH, 'configuration') # .json config file\n",
    "DATA_PATH <- file.path(SNT_ROOT_PATH, 'data', 'dhis2')  "
   ]
  },
  {
   "cell_type": "markdown",
   "id": "22971de0-1431-4cbd-b8c1-3bd3e1609e0d",
   "metadata": {},
   "source": [
    "### 1.2. Utils functions"
   ]
  },
  {
   "cell_type": "code",
   "execution_count": null,
   "id": "1784fd43-03f3-478b-8148-4b478317ea21",
   "metadata": {
    "vscode": {
     "languageId": "r"
    }
   },
   "outputs": [],
   "source": [
    "source(file.path(CODE_PATH, \"snt_utils.r\"))"
   ]
  },
  {
   "cell_type": "markdown",
   "id": "3bbcbd39-54e8-4ece-9244-30d7d30291d2",
   "metadata": {},
   "source": [
    "### 1.3. Packages"
   ]
  },
  {
   "cell_type": "code",
   "execution_count": null,
   "id": "426ecff6-0b4c-474d-a48d-826002205b89",
   "metadata": {
    "vscode": {
     "languageId": "r"
    }
   },
   "outputs": [],
   "source": [
    "# List required pcks  ---------------->  check  what are the really required libraries\n",
    "required_packages <- c(\"arrow\", # for .parquet\n",
    "                       \"tidyverse\",\n",
    "                       \"stringi\", \n",
    "                       \"jsonlite\", \n",
    "                       \"httr\", \n",
    "                       \"reticulate\")\n",
    "\n",
    "# Execute function\n",
    "install_and_load(required_packages)"
   ]
  },
  {
   "cell_type": "markdown",
   "id": "18a8e0c1-ac09-4435-b6f4-5f91fd916396",
   "metadata": {},
   "source": [
    "### 1.3.1. OpenHEXA-specific settings"
   ]
  },
  {
   "cell_type": "markdown",
   "id": "ebb8c7d5-7c2c-4dbe-a1ba-238419fbedf3",
   "metadata": {},
   "source": [
    "#### For 📦{sf}, tell OH where to find stuff ..."
   ]
  },
  {
   "cell_type": "code",
   "execution_count": null,
   "id": "91a66fb7-dd5e-43fd-a6a2-d8bb9f0315d6",
   "metadata": {
    "vscode": {
     "languageId": "r"
    }
   },
   "outputs": [],
   "source": [
    "Sys.setenv(PROJ_LIB = \"/opt/conda/share/proj\")\n",
    "Sys.setenv(GDAL_DATA = \"/opt/conda/share/gdal\")"
   ]
  },
  {
   "cell_type": "markdown",
   "id": "ac9ee427-020e-47c5-b2c9-5ca24e1f2779",
   "metadata": {},
   "source": [
    "#### Set environment to load openhexa.sdk from the right path"
   ]
  },
  {
   "cell_type": "code",
   "execution_count": null,
   "id": "aa331278-573d-4a22-ab16-da6972d7b0be",
   "metadata": {
    "vscode": {
     "languageId": "r"
    }
   },
   "outputs": [],
   "source": [
    "# Set environment to load openhexa.sdk from the right path\n",
    "Sys.setenv(RETICULATE_PYTHON = \"/opt/conda/bin/python\")\n",
    "reticulate::py_config()$python\n",
    "openhexa <- import(\"openhexa.sdk\")"
   ]
  },
  {
   "cell_type": "markdown",
   "id": "339b2e8b-9bf6-4eaf-b283-d9360c1c6899",
   "metadata": {},
   "source": [
    "### 1.4. Load and check `config` file"
   ]
  },
  {
   "cell_type": "code",
   "execution_count": null,
   "id": "f1c46526-6844-43ae-bb53-d8d1ad2fac24",
   "metadata": {
    "vscode": {
     "languageId": "r"
    }
   },
   "outputs": [],
   "source": [
    "# Load SNT config\n",
    "\n",
    "config_file_name <- \"SNT_config.json\" \n",
    "config_json <- tryCatch({\n",
    "        jsonlite::fromJSON(file.path(CONFIG_PATH, config_file_name)) \n",
    "    },\n",
    "    error = function(e) {\n",
    "        msg <- paste0(\"Error while loading configuration\", conditionMessage(e))  \n",
    "        cat(msg)   \n",
    "        stop(msg) \n",
    "    })\n",
    "\n",
    "msg <- paste0(\"SNT configuration loaded from : \", file.path(CONFIG_PATH, config_file_name))\n",
    "log_msg(msg)"
   ]
  },
  {
   "cell_type": "markdown",
   "id": "29182f25-b0cf-46aa-9818-49616cd3f353",
   "metadata": {},
   "source": [
    "**Save config fields as variables**"
   ]
  },
  {
   "cell_type": "code",
   "execution_count": null,
   "id": "c52654c8-8a19-4e0c-a83b-1bc2eecae6bc",
   "metadata": {
    "vscode": {
     "languageId": "r"
    }
   },
   "outputs": [],
   "source": [
    "# Generic\n",
    "COUNTRY_CODE <- config_json$SNT_CONFIG$COUNTRY_CODE\n",
    "ADMIN_1 <- toupper(config_json$SNT_CONFIG$DHIS2_ADMINISTRATION_1)\n",
    "ADMIN_2 <- toupper(config_json$SNT_CONFIG$DHIS2_ADMINISTRATION_2)\n",
    "\n",
    "# How to treat 0 values (in this case: \"SET_0_TO_NA\" converts 0 to NAs)\n",
    "NA_TREATMENT <- config_json$SNT_CONFIG$NA_TREATMENT\n",
    "\n",
    "# Which (aggregated) indicators to use to evaluate \"activity\" of an HF - for Reporting Rate method \"Ousmane\"\n",
    "DHIS2_INDICATORS <- names(config_json$DHIS2_DATA_DEFINITIONS$DHIS2_INDICATOR_DEFINITIONS)\n",
    "\n",
    "# Which reporting rate PRODUCT_UID to use (not that this is a dataset in COD, but 2 dataElements in BFA!)\n",
    "REPORTING_RATE_PRODUCT_ID <- config_json$SNT_CONFIG$REPORTING_RATE_PRODUCT_UID"
   ]
  },
  {
   "cell_type": "code",
   "execution_count": null,
   "id": "412572bc-fb96-4f61-ac49-be7f449219b6",
   "metadata": {
    "vscode": {
     "languageId": "r"
    }
   },
   "outputs": [],
   "source": [
    "# DHIS2_INDICATORS\n",
    "log_msg(paste(\"Expecting the following DHIS2 (aggregated) indicators : \", paste(DHIS2_INDICATORS, collapse=\", \")))"
   ]
  },
  {
   "cell_type": "code",
   "execution_count": null,
   "id": "2a0a8562-4a70-455c-9ccf-aa39f4cf4e31",
   "metadata": {
    "vscode": {
     "languageId": "r"
    }
   },
   "outputs": [],
   "source": [
    "# Fixed  cols for routine data formatting \n",
    "fixed_cols <- c('OU_ID','PERIOD', 'YEAR', 'MONTH', 'ADM1_ID', 'ADM2_ID') # (OU_NAME has homonimous values!)\n",
    "# print(paste(\"Fixed routine data (`dhis2_routine`) columns (always expected): \", paste(fixed_cols, collapse=\", \")))\n",
    "log_msg(paste(\"Expecting the following columns from routine data (`dhis2_routine`) : \", paste(fixed_cols, collapse=\", \")))"
   ]
  },
  {
   "cell_type": "code",
   "execution_count": null,
   "id": "86e82d54-2b00-4c25-9b34-3497d4c88c52",
   "metadata": {
    "vscode": {
     "languageId": "r"
    }
   },
   "outputs": [],
   "source": [
    "# Fixed cols for exporting RR tables: to export output tables with consistent structure\n",
    "fixed_cols_rr <- c('YEAR', 'MONTH', 'ADM2_ID', 'REPORTING_RATE') "
   ]
  },
  {
   "cell_type": "markdown",
   "id": "8d8d9be2-bf05-466d-811e-6beea0dccfde",
   "metadata": {},
   "source": [
    "## 2. Load Data"
   ]
  },
  {
   "cell_type": "markdown",
   "id": "0fa1b169-fc55-4ef1-b58f-6a7dc9d1dec3",
   "metadata": {},
   "source": [
    "### 2.1. **Routine** data (DHIS2) \n",
    "already formatted & aggregated (output of pipeline XXX)"
   ]
  },
  {
   "cell_type": "code",
   "execution_count": null,
   "id": "586e8da8-4e1c-431a-9b8d-1169167e1c09",
   "metadata": {
    "vscode": {
     "languageId": "r"
    }
   },
   "outputs": [],
   "source": [
    "# DHIS2 Dataset extract identifier\n",
    "dataset_name <- config_json$SNT_DATASET_IDENTIFIERS$DHIS2_DATASET_FORMATTED\n",
    "\n",
    "# Load file from dataset\n",
    "dhis2_routine <- tryCatch({ get_latest_dataset_file_in_memory(dataset_name, paste0(COUNTRY_CODE, \"_routine.parquet\")) }, \n",
    "                  error = function(e) {\n",
    "                      msg <- paste(\"Error while loading DHIS2 routine data file for: \" , COUNTRY_CODE, conditionMessage(e))  # log error message\n",
    "                      cat(msg)\n",
    "                      stop(msg)\n",
    "})\n",
    "\n",
    "msg <- paste0(\"DHIS2 routine data loaded from dataset : \", dataset_name, \" dataframe dimensions: \", paste(dim(dhis2_routine), collapse=\", \"))\n",
    "log_msg(msg)"
   ]
  },
  {
   "cell_type": "code",
   "execution_count": null,
   "id": "a2454183-44f7-4e2e-a0cf-ca112aa183bb",
   "metadata": {
    "vscode": {
     "languageId": "r"
    }
   },
   "outputs": [],
   "source": [
    "# Ensure correct data type for numerical columns \n",
    "dhis2_routine <- dhis2_routine %>%\n",
    "    mutate(across(c(PERIOD, YEAR, MONTH), as.numeric))"
   ]
  },
  {
   "cell_type": "code",
   "execution_count": null,
   "id": "edb2fcdc-ce0a-4c78-b06a-9f4610ab4714",
   "metadata": {
    "vscode": {
     "languageId": "r"
    }
   },
   "outputs": [],
   "source": [
    "head(dhis2_routine, 3)"
   ]
  },
  {
   "cell_type": "markdown",
   "id": "821e1ebf-b2fa-4469-974e-2e4d27d58854",
   "metadata": {},
   "source": [
    "#### 🔍 Check expected cols for method **Data Element**, numerator using multiple indicators.\n",
    "Only when: `DATAELEMENT_METHOD_NUMERATOR == \"CONF|SUSP|TEST\"`"
   ]
  },
  {
   "cell_type": "code",
   "execution_count": null,
   "id": "d3f8b89e-a04e-4e0b-9892-95ce2150e7da",
   "metadata": {
    "vscode": {
     "languageId": "r"
    }
   },
   "outputs": [],
   "source": [
    "# 'Since method `DATAELEMENT_METHOD_NUMERATOR == \"CONF|SUSP|TEST\"` was selected, expecting the following cols in routine data: `CONF`, `SUSP`, `TEST`.'\n",
    "\n",
    "if (DATAELEMENT_METHOD_NUMERATOR == \"CONF|SUSP|TEST\") {\n",
    "    log_msg('Since method `DATAELEMENT_METHOD_NUMERATOR == \"CONF|SUSP|TEST\"` was selected, expecting the following cols in routine data: `CONF`, `SUSP`, `TEST`.')\n",
    "\n",
    "    expected_col <- c(\"CONF\", \"SUSP\", \"TEST\")\n",
    "    if ( length(which(expected_col %in% names(dhis2_routine))) < length(expected_col) ) {\n",
    "    log_msg(paste0(\"🚨 Warning: one or more of the follow column is missing from `dhis2_routine`: \", paste(expected_col, collapse = \", \"), \".\"), \"warning\")\n",
    "    } else log_msg(\"✅ All expected columns are present in `dhis2_routine` data.\")\n",
    "\n",
    "}"
   ]
  },
  {
   "cell_type": "markdown",
   "id": "c832da26-fe0c-43fe-8300-2fff5c4cbf34",
   "metadata": {},
   "source": [
    "### 2.2. **Reporting** pre-computed from DHIS2 \n",
    "Data granularity:\n",
    "* **ADM2**\n",
    "* **MONTH** (PERIOD)\n",
    "\n",
    "Note: data comes from different dataset (`DS_NAME`): `A SERVICES DE BASE`, `B SERVICES SECONDAIRES`,`D SERVICE HOPITAL` \n",
    "\n",
    "The col `DS_METRIC` indicates whether the `VALUE` is `EXPECTED_REPORTS`, `ACTUAL_REPORTS`"
   ]
  },
  {
   "cell_type": "code",
   "execution_count": null,
   "id": "8a32fc96-5b8e-4108-a224-c0d843df9b47",
   "metadata": {
    "vscode": {
     "languageId": "r"
    }
   },
   "outputs": [],
   "source": [
    "# DHIS2 Dataset extract identifier\n",
    "dataset_name <- config_json$SNT_DATASET_IDENTIFIERS$DHIS2_DATASET_FORMATTED\n",
    "file_name <- paste0(COUNTRY_CODE, \"_reporting.parquet\")\n",
    "\n",
    "# Load file from dataset\n",
    "dhis2_reporting <- tryCatch({ get_latest_dataset_file_in_memory(dataset_name, file_name) }, \n",
    "                  error = function(e) {\n",
    "                      msg <- paste(\"Error while loading DHIS2 pre-computed REPORTING data file for: \" , COUNTRY_CODE, conditionMessage(e))  # log error message\n",
    "                      cat(msg)\n",
    "                      stop(msg)\n",
    "})\n",
    "\n",
    "msg <- paste0(\"DHIS2 pre-computed REPORTING data loaded from file `\", file_name, \"` (from dataset : `\", dataset_name, \"`). Dataframe dimensions: \", paste(dim(dhis2_reporting), collapse=\", \"))\n",
    "log_msg(msg)"
   ]
  },
  {
   "cell_type": "code",
   "execution_count": null,
   "id": "46e3dba8-d46b-457e-ba90-c663e30c42d2",
   "metadata": {
    "vscode": {
     "languageId": "r"
    }
   },
   "outputs": [],
   "source": [
    "# Convert VALUE col to <dbl> - should not be needed but keep as safety measure \n",
    "dhis2_reporting <- dhis2_reporting |>\n",
    "mutate(across(c(PERIOD, YEAR, MONTH, VALUE), as.numeric))"
   ]
  },
  {
   "cell_type": "code",
   "execution_count": null,
   "id": "5149befe-b6ad-46a9-9879-7637ce5b02be",
   "metadata": {
    "vscode": {
     "languageId": "r"
    }
   },
   "outputs": [],
   "source": [
    "head(dhis2_reporting, 3)"
   ]
  },
  {
   "cell_type": "markdown",
   "id": "7a967af3-f6e5-428a-8769-72808f21a125",
   "metadata": {},
   "source": [
    "#### 2.2.1. **Filter** to keep only values for `PRODUCT_UID` defined in config.json"
   ]
  },
  {
   "cell_type": "code",
   "execution_count": null,
   "id": "1948c2f7-7a2c-47a2-9dc6-ba29da6d030c",
   "metadata": {
    "vscode": {
     "languageId": "r"
    }
   },
   "outputs": [],
   "source": [
    "REPORTING_RATE_PRODUCT_ID"
   ]
  },
  {
   "cell_type": "code",
   "execution_count": null,
   "id": "e4258098-e24c-4520-914d-0f73354bb3ab",
   "metadata": {
    "vscode": {
     "languageId": "r"
    }
   },
   "outputs": [],
   "source": [
    "# Handle problems with incorrect configuration - to be improved 🚧\n",
    "if (is.null(REPORTING_RATE_PRODUCT_ID)) {\n",
    "    log_msg(\"🛑 Problem with definition of REPORTING_RATE_PRODUCT_ID, check `SNT_config.json` file!\")\n",
    "} else \n",
    "    product_name <- dhis2_reporting |> filter(PRODUCT_UID %in% REPORTING_RATE_PRODUCT_ID) |> pull(PRODUCT_NAME) |> unique()\n",
    "    log_msg(glue::glue(\"Using REPORTING_RATE_PRODUCT_ID == `{REPORTING_RATE_PRODUCT_ID}`, corresponding to DHIS2 Product name : `{product_name}`.\"))"
   ]
  },
  {
   "cell_type": "code",
   "execution_count": null,
   "id": "c22c6ada-7cb1-4fca-b65e-b51e5eca35a2",
   "metadata": {
    "vscode": {
     "languageId": "r"
    }
   },
   "outputs": [],
   "source": [
    "dhis2_reporting_filtered <- dhis2_reporting |>\n",
    "# filter(PRODUCT_NAME == REPORTING_DS_NAME) |>\n",
    "filter(PRODUCT_UID %in% REPORTING_RATE_PRODUCT_ID) |>\n",
    "select(-PRODUCT_UID, -PRODUCT_NAME) # useless cols now\n",
    "\n",
    "print(dim(dhis2_reporting_filtered))\n",
    "head(dhis2_reporting_filtered)"
   ]
  },
  {
   "cell_type": "markdown",
   "id": "9da035cf-5d3f-4df0-a063-2d2497616c82",
   "metadata": {},
   "source": [
    "#### 2.2.2. Format to produce `dhis2_reporting_expected`\n",
    "🚨 Note: Use `dhis2_reporting_expected$EXPECTED_REPORTS` as new denominator for REPORTING_RATE calculations (methods ANY and CONF)"
   ]
  },
  {
   "cell_type": "code",
   "execution_count": null,
   "id": "7e970f9d-258e-4050-ae69-185b88c79fc3",
   "metadata": {
    "vscode": {
     "languageId": "r"
    }
   },
   "outputs": [],
   "source": [
    "dhis2_reporting_wide <- dhis2_reporting_filtered |> \n",
    "pivot_wider(\n",
    "    names_from = PRODUCT_METRIC, \n",
    "    values_from = VALUE\n",
    ")\n",
    "\n",
    "print(dim(dhis2_reporting_wide))\n",
    "head(dhis2_reporting_wide)"
   ]
  },
  {
   "cell_type": "markdown",
   "id": "55846037-2c95-4a15-867c-97f63201dbb0",
   "metadata": {},
   "source": [
    "🚨 **Note**: Use `dhis2_reporting_expected$EXPECTED_REPORTS` as new **denominator** for `REPORTING_RATE` calculations (methods ANY and CONF)"
   ]
  },
  {
   "cell_type": "code",
   "execution_count": null,
   "id": "eab31756-ae6b-4152-8ec3-8195236d8732",
   "metadata": {
    "vscode": {
     "languageId": "r"
    }
   },
   "outputs": [],
   "source": [
    "# Use `dhis2_reporting_expected$EXPECTED_REPORTS` as new denomitor for RR calculations (methods ANY and CONF)\n",
    "\n",
    "dhis2_reporting_expected <- dhis2_reporting_wide |> \n",
    "select(-ACTUAL_REPORTS)\n",
    "\n",
    "print(dim(dhis2_reporting_expected))\n",
    "head(dhis2_reporting_expected)"
   ]
  },
  {
   "cell_type": "markdown",
   "id": "3c3d0f35-889d-4c16-9741-d6e75e2ef096",
   "metadata": {},
   "source": [
    "#### 2.2.3. **Checks** on data completeness: _do **periods match** with routine data?_\n",
    "Lack of perfect overlap in periods between routine data and reporting rate data might create headhaches downstream!<br>\n",
    "Specifically, **incidence** calculations will show **N2 smaller than N1** due to **aggregation by YEAR when NA** values are present!"
   ]
  },
  {
   "cell_type": "code",
   "execution_count": null,
   "id": "7ea57600-418b-45bc-805a-f829e237b4c4",
   "metadata": {
    "vscode": {
     "languageId": "r"
    }
   },
   "outputs": [],
   "source": [
    "# --- Check Year Compatibility ---\n",
    "routine_years <- sort(unique(as.integer(dhis2_routine$YEAR))) # as.integer\n",
    "expected_years <- sort(unique(as.integer(dhis2_reporting_expected$YEAR))) # as.integer\n",
    "\n",
    "if (!setequal(routine_years, expected_years)) {\n",
    "  missing_in_routine <- setdiff(expected_years, routine_years)\n",
    "  missing_in_expected <- setdiff(routine_years, expected_years)\n",
    "\n",
    "  if (length(missing_in_routine) > 0) {\n",
    "    log_msg(paste0(\"🚨 Warning: YEAR value(s) present in 'dhis2_reporting_expected' but not in 'dhis2_routine': \",\n",
    "                   paste(missing_in_routine, collapse = \", \")))\n",
    "  }\n",
    "  if (length(missing_in_expected) > 0) {\n",
    "    log_msg(paste0(\"🚨 Warning: YEAR value(s) present in 'dhis2_routine' but not in 'dhis2_reporting_expected': \",\n",
    "                   paste(missing_in_expected, collapse = \", \")))\n",
    "  }\n",
    "} else {\n",
    "  log_msg(\"✅ YEAR values are consistent across 'dhis2_routine' and 'dhis2_reporting_expected'.\")\n",
    "\n",
    "  # --- Check Month Compatibility (if years are consistent) ---\n",
    "  all_years <- unique(routine_years) # Or expected_years, they are the same now\n",
    "\n",
    "  for (year_val in all_years) {\n",
    "    routine_months_for_year <- dhis2_routine %>%\n",
    "      filter(YEAR == year_val) %>%\n",
    "      pull(MONTH) %>%\n",
    "      unique() %>%\n",
    "      sort()\n",
    "\n",
    "    expected_months_for_year <- dhis2_reporting_expected %>%\n",
    "      filter(YEAR == year_val) %>%\n",
    "      pull(MONTH) %>%\n",
    "      unique() %>%\n",
    "      sort()\n",
    "\n",
    "    if (!setequal(routine_months_for_year, expected_months_for_year)) {\n",
    "      missing_in_routine_months <- setdiff(expected_months_for_year, routine_months_for_year)\n",
    "      missing_in_expected_months <- setdiff(routine_months_for_year, expected_months_for_year)\n",
    "\n",
    "      if (length(missing_in_routine_months) > 0) {\n",
    "        log_msg(paste0(\"🚨 Warning: for YEAR \", year_val, \", MONTH value(s) '\", paste(missing_in_routine_months, collapse = \", \"),\n",
    "                       \"' present in 'dhis2_reporting_expected' but not in 'dhis2_routine'!\"\n",
    "                       ))\n",
    "      }\n",
    "      if (length(missing_in_expected_months) > 0) {\n",
    "        log_msg(paste0(\"🚨 Warning: for YEAR \", year_val, \", MONTH value(s) '\", paste(missing_in_expected_months, collapse = \", \"), \n",
    "                       \"' present in 'dhis2_routine' but not in 'dhis2_reporting_expected'!\"\n",
    "                       ))\n",
    "      }\n",
    "    } else {\n",
    "      log_msg(paste0(\"✅ For year \", year_val, \", months are consistent across both data frames.\"))\n",
    "    }\n",
    "  }\n",
    "}"
   ]
  },
  {
   "cell_type": "markdown",
   "id": "5e711191-995b-4f89-b10c-fc2214cdd8b2",
   "metadata": {},
   "source": [
    "### 2.3. **Shapes** for plotting maps (choropleths)"
   ]
  },
  {
   "cell_type": "code",
   "execution_count": null,
   "id": "652cf1a7-c9a2-48db-b44d-8fabfd0e072f",
   "metadata": {
    "vscode": {
     "languageId": "r"
    }
   },
   "outputs": [],
   "source": [
    "# DHIS2 Dataset extract identifier\n",
    "dataset_name <- config_json$SNT_DATASET_IDENTIFIERS$DHIS2_DATASET_FORMATTED\n",
    "\n",
    "# Load file from dataset\n",
    "dhis2_shapes <- tryCatch({ get_latest_dataset_file_in_memory(dataset_name, paste0(COUNTRY_CODE, \"_shapes.geojson\")) }, \n",
    "                  error = function(e) {\n",
    "                      msg <- paste(\"Error while loading DHIS2 shapes data file for: \" , COUNTRY_CODE, conditionMessage(e))  # log error message\n",
    "                      cat(msg)\n",
    "                      stop(msg)\n",
    "})\n",
    "\n",
    "msg <- paste0(\"DHIS2 shapes data loaded from dataset : `\", dataset_name, \"`. Dataframe dimensions: \", paste(dim(dhis2_shapes), collapse=\", \"))\n",
    "log_msg(msg)"
   ]
  },
  {
   "cell_type": "code",
   "execution_count": null,
   "id": "ffa799a2-f5e5-4ba6-b310-71802787d21b",
   "metadata": {
    "vscode": {
     "languageId": "r"
    }
   },
   "outputs": [],
   "source": [
    "# `head()` cannot display, needs ‘geojsonio’ (which I cannot install) so let's just check col names ... \n",
    "names(dhis2_shapes)"
   ]
  },
  {
   "cell_type": "markdown",
   "id": "eb4c5c63-d140-46b8-b686-886e612a31dc",
   "metadata": {},
   "source": [
    "## 3. Calculate **Reporting Rate** (RR)\n",
    "We compute it using 2 approaches, user can decided later on which one to use for incidence adjustment."
   ]
  },
  {
   "cell_type": "markdown",
   "id": "cb724aa8-5f06-4e99-aeca-640d0c1b049e",
   "metadata": {},
   "source": [
    "### 3.1. \"**Dataset**\" reporting rate: pre-computed, from **DHIS2**\n",
    "Exrtacted from DHIS2 and formatted. \n",
    "\n",
    "Straightforward: `ACTUAL_REPORTS` / `EXPECTED_REPORTS` (just pivot `DS_METRIC` and divide)"
   ]
  },
  {
   "cell_type": "code",
   "execution_count": null,
   "id": "10b2f52b-0217-43f1-88a3-cd01d98869b1",
   "metadata": {
    "vscode": {
     "languageId": "r"
    }
   },
   "outputs": [],
   "source": [
    "reporting_rate_dataset <- dhis2_reporting_wide |> \n",
    "mutate(REPORTING_RATE = ACTUAL_REPORTS / EXPECTED_REPORTS)\n",
    "\n",
    "print(dim(reporting_rate_dataset))\n",
    "head(reporting_rate_dataset, 3)"
   ]
  },
  {
   "cell_type": "markdown",
   "id": "3d49eda8-b4fd-437a-8938-17bf0806f281",
   "metadata": {},
   "source": [
    "#### Quick data quality check 🔍"
   ]
  },
  {
   "cell_type": "code",
   "execution_count": null,
   "id": "cff33416-ea66-4eeb-9d33-1597c2f05b0c",
   "metadata": {
    "vscode": {
     "languageId": "r"
    }
   },
   "outputs": [],
   "source": [
    "# --- Define function ---------------------------\n",
    "inspect_reporting_rate <- function(data_tibble) {\n",
    "\n",
    "  # Dynamically get the name of the tibble passed to the function\n",
    "  # This extracts the literal name of the variable passed (e.g., \"reporting_rate_dhis2_month\")\n",
    "  tibble_name_full <- deparse(substitute(data_tibble))\n",
    "\n",
    "  # Extract the 'method' part from the tibble name\n",
    "  method <- stringr::str_extract(tibble_name_full, \"(?<=reporting_rate_).*\") # \"(?<=reporting_rate_).*?(?=_month)\"\n",
    "\n",
    "  # Calculations for proportion of values > 1\n",
    "  values_greater_than_1 <- sum(data_tibble$REPORTING_RATE > 1, na.rm = TRUE)\n",
    "  total_values <- length(data_tibble$REPORTING_RATE)\n",
    "\n",
    "  if (total_values > 0) {\n",
    "    proportion <- values_greater_than_1 / total_values * 100\n",
    "    min_rate <- min(data_tibble$REPORTING_RATE, na.rm = TRUE)\n",
    "    max_rate <- max(data_tibble$REPORTING_RATE, na.rm = TRUE)\n",
    "  } else {\n",
    "    proportion <- 0\n",
    "    min_rate <- NA # Set to NA if no values to calculate min/max\n",
    "    max_rate <- NA # Set to NA if no values to calculate min/max\n",
    "  }\n",
    "\n",
    "  if (proportion == 0) {\n",
    "      clarification = NULL\n",
    "  } else {\n",
    "      clarification = \" (there are more reports than expected)\"\n",
    "  }\n",
    "\n",
    "  # Print the formatted result\n",
    "  log_msg(\n",
    "    paste0(\n",
    "      \"🔍 For reporting rate method : `\", method, \"`, the values of REPORTING_RATE range from \", round(min_rate, 2),\n",
    "      \" to \", round(max_rate, 2),\n",
    "      \", and \", round(proportion, 2), \" % of values are >1\", clarification, \".\"\n",
    "    )\n",
    "  )\n",
    "\n",
    "  # Histogram\n",
    "  hist(data_tibble$REPORTING_RATE, \n",
    "     breaks = 50)\n",
    "}"
   ]
  },
  {
   "cell_type": "code",
   "execution_count": null,
   "id": "e2f4c11c-c683-4204-ab91-9d41cab4826c",
   "metadata": {
    "vscode": {
     "languageId": "r"
    }
   },
   "outputs": [],
   "source": [
    "inspect_reporting_rate(reporting_rate_dataset)"
   ]
  },
  {
   "cell_type": "markdown",
   "id": "04870e93-5385-425b-89fd-b815a87cfa21",
   "metadata": {},
   "source": [
    "#### Subset cols"
   ]
  },
  {
   "cell_type": "code",
   "execution_count": null,
   "id": "d90671b0-36f8-4c6e-8736-4ea807079f83",
   "metadata": {
    "scrolled": true,
    "vscode": {
     "languageId": "r"
    }
   },
   "outputs": [],
   "source": [
    "reporting_rate_dataset <- reporting_rate_dataset |> \n",
    "select(all_of(fixed_cols_rr))\n",
    "\n",
    "dim(reporting_rate_dataset)\n",
    "head(reporting_rate_dataset, 3)"
   ]
  },
  {
   "cell_type": "markdown",
   "id": "40b21c65-1b75-42f7-821a-24d31e436c73",
   "metadata": {},
   "source": [
    "----------------------------"
   ]
  },
  {
   "cell_type": "markdown",
   "id": "17ffece4-9420-4004-993b-b5692cc1d2de",
   "metadata": {},
   "source": [
    "### 3.2. Method **Data Element** reporting rate: based on reporting of one or more indicators\n",
    "**_Partially_ following methods by WHO and as per Diallo (2025) paper**\n",
    "\n",
    "To accurately measure data completeness, we calculate the **monthly** reporting rate per **ADM2**, as the **proportion** of **facilities** (HF or `OU_*`) that in a given month submitted data for either a single indicator (i.e., **confirmed** malaria case as `CONF`) or for _any_ of the chosen indicators (i.e., `CONF`, `SUSP`, `TEST`). \n",
    "\n",
    "Basically, the number of facilities reporting on a given indicator (1 or more), over the total number of facilities (within the same `ADM2_ID`).<br>\n",
    "\n",
    "This method allows to **chose** how to calculate both the **numerator** and the **denominator**.<br> \n",
    "Specifically:\n",
    "* Choice of **Numerator** depends on the paramater `DATAELEMENT_METHOD_NUMERATOR`, with options: \n",
    "    * `== \"CONF\"`: uses a **single** indicator (only look at submissions for `CONF`; confirmed malaria cases)\n",
    "    * `== \"CONF|SUSP|TEST\"` : uses **multiple** indicators (look at submissions across `CONF`, `SUSP`, and `TEST`).<br>\n",
    "      Note: in the latter, a facility (OU_ID) is **counted as \"reporting\"** if it **submitted data for _any_ of these indicators**.\n",
    "* Choice of **Denominator** depends on the paramater `DATAELEMENT_METHOD_DENOMINATOR`, with options:\n",
    "    * `== \"DHIS2_EXPECTED_REPORTS\"`: uses the col `EXPECTED_REPORTS` from the df `dhis2_reporting_expected` (which is obtained directly from DHIS2, and is the same denominator used to calculate the \"Dataset\" reporting rate)\n",
    "    * `== \"ACTIVE_FACILITIES\"`: uses the col `EXPECTED_REPORTS` from the df `active_facilities`. This is calculated as the number of facilities (OU_ID) that submitted _any_ data at least once in a given year, across _all_ indicators extracted in `dhis2_rooutine` (all aggregated indicators as defined in the SNT_config.json file, see: `config_json$DHIS2_DATA_DEFINITIONS$DHIS2_INDICATOR_DEFINITIONS`)\n",
    "\n",
    "<br>\n",
    "\n",
    "This method improves over simple binary completeness flags by accounting for both spatial (facility coverage) and temporal (monthly timeliness) dimensions. <br>\n",
    "\n",
    "We use the presence of `CONF` data (confirmed malaria cases) because it is a core indicator consistently tracked across the dataset. This choice ensures alignment with the structure of the incidence calculation, which is also mainly based on confirmed cases."
   ]
  },
  {
   "cell_type": "markdown",
   "id": "f5dcd3b9-6f02-4fc5-9e5f-2253c015a3d4",
   "metadata": {},
   "source": [
    "### Calculate the **numerator**"
   ]
  },
  {
   "cell_type": "code",
   "execution_count": null,
   "id": "ed7983db-3334-44a6-a88a-e504c6c05ba9",
   "metadata": {
    "vscode": {
     "languageId": "r"
    }
   },
   "outputs": [],
   "source": [
    "# DATAELEMENT_METHOD_NUMERATOR <- \"CONF\" \n",
    "# DATAELEMENT_METHOD_NUMERATOR <- \"CONF|SUSP|TEST\" \n",
    "DATAELEMENT_METHOD_NUMERATOR"
   ]
  },
  {
   "cell_type": "markdown",
   "id": "a90d9f4a-a058-4ad5-8ef2-f827987b5def",
   "metadata": {},
   "source": [
    "**Note**: the col `REPORTED` keeps the same name regardless of the value of `DATAELEMENT_METHOD_NUMERATOR` because \n",
    "in this way the code needs to be parametrized only once (here).\n"
   ]
  },
  {
   "cell_type": "code",
   "execution_count": null,
   "id": "65ec9005-5a1c-4170-9577-77f3b5fc6593",
   "metadata": {
    "vscode": {
     "languageId": "r"
    }
   },
   "outputs": [],
   "source": [
    "# Mark as \"ACTIVE\": only if `CONF` OR `CONF | SUSP | TEST` are not NA (= the HF reported some data)\n",
    "\n",
    "if (DATAELEMENT_METHOD_NUMERATOR == \"CONF\") {\n",
    "   dhis2_routine_active <- dhis2_routine %>%\n",
    "   mutate(ACTIVE = if_else(!is.na(CONF), 1, 0)) \n",
    "    log_msg(\"Evaluating reporting facilities based only on indicator `CONF`.\")\n",
    "} else if (DATAELEMENT_METHOD_NUMERATOR == \"CONF|SUSP|TEST\") {\n",
    "   dhis2_routine_active <- dhis2_routine %>%\n",
    "   mutate(ACTIVE = if_else(!is.na(CONF) | !is.na(SUSP) | !is.na(TEST), 1, 0)) \n",
    "   log_msg(\"Evaluating reporting facilities based on indicators: `CONF`, `SUSP`, and `TEST`.\")\n",
    "}\n",
    "\n",
    "dim(dhis2_routine_active)\n",
    "head(dhis2_routine_active, 3)"
   ]
  },
  {
   "cell_type": "code",
   "execution_count": null,
   "id": "325faf35-ed25-4b8e-b421-934a2852f27e",
   "metadata": {
    "vscode": {
     "languageId": "r"
    }
   },
   "outputs": [],
   "source": [
    "# --- 1.  Calculate `SUBMITTED_REPORTS` as the nr of ACTIVE facilities (that REPORTED, each month) ------------------------\n",
    "\n",
    "dhis2_routine_submitted <- dhis2_routine_active %>% # OLD: dhis2_routine_reporting_month <- dhis2_routine_reporting %>%\n",
    "  group_by(ADM2_ID, YEAR, MONTH) %>% \n",
    "  summarise(\n",
    "    SUBMITTED_REPORTS = sum(ACTIVE, na.rm = TRUE),\n",
    "    .groups = \"drop\"\n",
    "  ) %>%\n",
    "  ungroup() %>%  \n",
    "    mutate(YEAR = as.integer(YEAR),\n",
    "           MONTH = as.integer(MONTH)\n",
    "          ) \n",
    "\n",
    "print(dim(dhis2_routine_submitted))\n",
    "head(dhis2_routine_submitted, 3)"
   ]
  },
  {
   "cell_type": "code",
   "execution_count": null,
   "id": "a25647e3-5674-44e0-855e-c3a48483310d",
   "metadata": {
    "vscode": {
     "languageId": "r"
    }
   },
   "outputs": [],
   "source": []
  },
  {
   "cell_type": "markdown",
   "id": "ede96b4b-8bb9-4509-ab29-b3e6ff08bdab",
   "metadata": {},
   "source": [
    "### Calculate the **denominator**\n",
    "This is to be used **only when** `DATAELEMENT_METHOD_DENOMINATOR ==`**`ACTIVE_FACILITIES`** "
   ]
  },
  {
   "cell_type": "code",
   "execution_count": null,
   "id": "7a20f8dc-ff79-4b53-9cdb-fe82ca4c8770",
   "metadata": {
    "vscode": {
     "languageId": "r"
    }
   },
   "outputs": [],
   "source": [
    "# DATAELEMENT_METHOD_DENOMINATOR <- \"DHIS2_EXPECTED_REPORTS\" \n",
    "# DATAELEMENT_METHOD_DENOMINATOR <- \"ACTIVE_FACILITIES\"\n",
    "DATAELEMENT_METHOD_DENOMINATOR"
   ]
  },
  {
   "cell_type": "code",
   "execution_count": null,
   "id": "08f03ed1-5831-4fe5-8bde-674a513e8110",
   "metadata": {
    "scrolled": true,
    "vscode": {
     "languageId": "r"
    }
   },
   "outputs": [],
   "source": [
    "# Calculate the tot nr of facilities (distinct OU_ID) based on all HF that appear in the routine data (each YEAR)\n",
    "# meaning: regardless of what indicators they submit data for, as long as they have submitted something\n",
    "\n",
    "if (DATAELEMENT_METHOD_DENOMINATOR == \"ACTIVE_FACILITIES\") {\n",
    "    active_facilities <- dhis2_routine %>%\n",
    "    # Keep only rows where at least one indicator has non-NA value\n",
    "    filter(if_any(any_of(DHIS2_INDICATORS), ~ !is.na(.))) %>%\n",
    "    group_by(YEAR, ADM2_ID) %>%\n",
    "    summarize(\n",
    "      EXPECTED_REPORTS = n_distinct(OU_ID),\n",
    "      .groups = \"drop\" # Optional: Removes the grouping structure from the final output\n",
    "    )\n",
    "\n",
    "    nr_of_rows <- nrow(active_facilities)\n",
    "    log_msg(glue::glue(\"Produced df `active_facilities`, with column `EXPECTED_REPORTS` calculated from DHIS2 routine data. Dataframe `active_facilities` has {nr_of_rows} rows.\"))\n",
    "\n",
    "    head(active_facilities, 3)\n",
    "    \n",
    "} else print(\"NOT calculating `active_facilities` as not needed ... \")\n"
   ]
  },
  {
   "cell_type": "code",
   "execution_count": null,
   "id": "e168ec32-5c21-4d5b-9613-091541c0e226",
   "metadata": {
    "vscode": {
     "languageId": "r"
    }
   },
   "outputs": [],
   "source": []
  },
  {
   "cell_type": "code",
   "execution_count": null,
   "id": "ff1a8537-d093-4d5c-8a44-4b729090cced",
   "metadata": {
    "vscode": {
     "languageId": "r"
    }
   },
   "outputs": [],
   "source": []
  },
  {
   "cell_type": "markdown",
   "id": "811310a9-df85-4fa3-af9a-b931eaffd7e5",
   "metadata": {},
   "source": [
    "### Calculate **Reporting Rate** "
   ]
  },
  {
   "cell_type": "markdown",
   "id": "8827cfd6-479b-4025-a379-d20bf20fcfb4",
   "metadata": {},
   "source": [
    "**Join df for Denominator**\n",
    "\n",
    "**Note**<br>\n",
    "in both df's (`dhis2_reporting_expected` OR `active_facilities`) the col `EXPECTED_REPORTS` has the same name to simplify parametrization: only difference between the 2 options is the df to be joined (right element in `left_join()`)"
   ]
  },
  {
   "cell_type": "code",
   "execution_count": null,
   "id": "9b0c684d-971f-4102-a764-91df7a887cfc",
   "metadata": {
    "vscode": {
     "languageId": "r"
    }
   },
   "outputs": [],
   "source": [
    "# --- 2. Join `dhis2_reporting_expected` OR `dhis2_calculated_expected` to add `EXPECTED_REPORTS` ------------------------------------------------\n",
    "\n",
    "# Parametrized based on DATAELEMENT_METHOD_DENOMINATOR: left_join() the respective df\n",
    "if (DATAELEMENT_METHOD_DENOMINATOR == \"DHIS2_EXPECTED_REPORTS\") {\n",
    "    # Add df of rep rate extracted directly from DHIS2\n",
    "    dhis2_routine_submitted_expected <- left_join(\n",
    "    dhis2_routine_submitted, \n",
    "    dhis2_reporting_expected |> select(ADM2_ID, YEAR, MONTH, EXPECTED_REPORTS), # `dhis2_reporting_expected`\n",
    "    by = join_by(ADM2_ID, YEAR, MONTH)\n",
    "    ) \n",
    "\n",
    "    log_msg(\"Calculating `Data Element` reporting rate, using as denominator `EXPECTED_REPORTS` from DHIS2.\")\n",
    "    \n",
    "} else if (DATAELEMENT_METHOD_DENOMINATOR == \"ACTIVE_FACILITIES\") {\n",
    "    # Add df of rep rate CALCULATED based on submissiosn in dhis2 routine data\n",
    "    dhis2_routine_submitted_expected <- left_join(\n",
    "    dhis2_routine_submitted, \n",
    "    active_facilities, # has only cols: `YEAR`, `ADM2_ID`, `EXPECTED_REPORTS`\n",
    "    by = join_by(ADM2_ID, YEAR) #, MONTH)\n",
    "    ) \n",
    "\n",
    "    log_msg(\"Calculating `Data Element` reporting rate, using as denominator `EXPECTED_REPORTS` as CALCULATED from routine data.\")\n",
    "}\n",
    "\n",
    "# Safety measures ...\n",
    "dhis2_routine_submitted_expected <- dhis2_routine_submitted_expected|>\n",
    "  # ungroup() %>%  \n",
    "  mutate(YEAR = as.integer(YEAR),\n",
    "         MONTH = as.integer(MONTH)\n",
    "          ) \n",
    "\n",
    "\n",
    "print(dim(dhis2_routine_submitted_expected))\n",
    "head(dhis2_routine_submitted_expected, 3)"
   ]
  },
  {
   "cell_type": "code",
   "execution_count": null,
   "id": "6fad303c-b239-4cf9-93a8-fe3ce5c33c37",
   "metadata": {
    "vscode": {
     "languageId": "r"
    }
   },
   "outputs": [],
   "source": [
    "# --- 3. Calculate `REPORTING_RATE` ------------------------------------------------\n",
    "reporting_rate_dataelement <- dhis2_routine_submitted_expected |>\n",
    "mutate(\n",
    "    REPORTING_RATE = SUBMITTED_REPORTS / EXPECTED_REPORTS\n",
    "  ) \n",
    "\n",
    "dim(reporting_rate_dataelement)\n",
    "head(reporting_rate_dataelement, 3)"
   ]
  },
  {
   "cell_type": "code",
   "execution_count": null,
   "id": "3ef417ed-1186-4540-bb0b-811297551300",
   "metadata": {
    "vscode": {
     "languageId": "r"
    }
   },
   "outputs": [],
   "source": []
  },
  {
   "cell_type": "markdown",
   "id": "cdae57f3-d4b6-4fa9-838c-77d259a09740",
   "metadata": {},
   "source": [
    "#### Quick data quality check 🔍"
   ]
  },
  {
   "cell_type": "code",
   "execution_count": null,
   "id": "770bcaa4-677a-4fb8-8569-ea751d7bae7e",
   "metadata": {
    "vscode": {
     "languageId": "r"
    }
   },
   "outputs": [],
   "source": [
    "# inspect_reporting_rate(reporting_rate_conf_month)\n",
    "inspect_reporting_rate(reporting_rate_dataelement)"
   ]
  },
  {
   "cell_type": "markdown",
   "id": "2eee73bb-c39a-42b1-944e-f5e063f6b114",
   "metadata": {},
   "source": [
    "#### Subset cols"
   ]
  },
  {
   "cell_type": "code",
   "execution_count": null,
   "id": "ff394fc2-c0ac-4883-becb-77a0ace86b08",
   "metadata": {
    "scrolled": true,
    "vscode": {
     "languageId": "r"
    }
   },
   "outputs": [],
   "source": [
    "# reporting_rate_conf_month <- reporting_rate_conf_month |> \n",
    "reporting_rate_dataelement <- reporting_rate_dataelement |> \n",
    "select(all_of(fixed_cols_rr))\n",
    "\n",
    "head(reporting_rate_dataelement, 3)"
   ]
  },
  {
   "cell_type": "code",
   "execution_count": null,
   "id": "fd0c2cef-63f3-424e-9ef1-1f33f637be78",
   "metadata": {
    "vscode": {
     "languageId": "r"
    }
   },
   "outputs": [],
   "source": []
  },
  {
   "cell_type": "markdown",
   "id": "7999ca83-783a-4041-8ddc-6481d9a43961",
   "metadata": {},
   "source": [
    "#### Plot by MONTH (heatmap)"
   ]
  },
  {
   "cell_type": "code",
   "execution_count": null,
   "id": "6535e999-574a-4962-880d-0a996b8c3513",
   "metadata": {
    "vscode": {
     "languageId": "r"
    }
   },
   "outputs": [],
   "source": [
    "# Plot reporting rate heatmap\n",
    "options(repr.plot.width = 20, repr.plot.height = 10) \n",
    "\n",
    "# reporting_rate_conf_month %>%\n",
    "reporting_rate_dataelement %>%\n",
    "mutate(\n",
    "    DATE = as.Date(paste0(YEAR, \"-\", MONTH, \"-01\"))\n",
    "    ) %>%\n",
    "ggplot(., aes(x = DATE,  \n",
    "              y = factor(ADM2_ID), \n",
    "              fill = REPORTING_RATE * 100)\n",
    "      ) + \n",
    "  geom_tile() +\n",
    "  scale_fill_viridis_c(\n",
    "    option = \"C\",\n",
    "    direction = 1,  # blue = low, yellow = high\n",
    "    limits = c(0, 100),\n",
    "    name = \"Reporting rate (%)\"\n",
    "  ) +\n",
    "  labs(\n",
    "    title = \"Monthly Reporting Rate by Health District\",\n",
    "    subtitle = \"Each tile represents the reporting completeness per district per month\",\n",
    "    x = \"Month\",\n",
    "    y = \"Health District\"\n",
    "  ) +\n",
    "  theme_minimal(base_size = 13) +\n",
    "  theme(\n",
    "    axis.text.x = element_text(angle = 90, hjust = 1, vjust = 0.5, size = 9),\n",
    "    axis.text.y = element_text(size = 9),\n",
    "    plot.title = element_text(face = \"bold\", hjust = 0.5, size = 14),\n",
    "    plot.subtitle = element_text(hjust = 0.5, size = 12),\n",
    "    legend.position = \"right\",\n",
    "    panel.grid = element_blank()\n",
    "  )"
   ]
  },
  {
   "cell_type": "code",
   "execution_count": null,
   "id": "93f5b7f0-bf5e-4567-9d16-da2091125988",
   "metadata": {
    "vscode": {
     "languageId": "r"
    }
   },
   "outputs": [],
   "source": []
  },
  {
   "cell_type": "markdown",
   "id": "2d0574e3-b29f-46b5-b9fd-edf72aa6032a",
   "metadata": {},
   "source": [
    "### (SILENCED OLD) 3.2. Method \"**ANY**: look at submissions for **_any_ indicator** that is present\n",
    "The list of **indicators** is **defined** in the **config file**!"
   ]
  },
  {
   "cell_type": "markdown",
   "id": "cfdc2b69-d938-4638-b120-7abcd8df399b",
   "metadata": {},
   "source": [
    "`#### Define cols used to evaluate HF \"activity\" (whether a HF is reporting or not)`"
   ]
  },
  {
   "cell_type": "code",
   "execution_count": null,
   "id": "55cf1751-6aa8-45aa-bbf4-2920fb51ec0c",
   "metadata": {
    "vscode": {
     "languageId": "r"
    }
   },
   "outputs": [],
   "source": [
    "# cols_to_subset <- c(fixed_cols, DHIS2_INDICATORS)\n",
    "# print(cols_to_subset)\n",
    "\n",
    "# dhis2_routine_subset = dhis2_routine %>% \n",
    "#   # dplyr::select(all_of(cols_to_subset))  # ⚠️ TEMP switch as config.json was changed but not extracted data (some cols are missing) ⚠️\n",
    "#   dplyr::select(any_of(cols_to_subset))\n",
    "\n",
    "# # Print warning message in case there are indicators defined in the config but not present in the routine data\n",
    "# if (length(cols_to_subset) > length(names(dhis2_routine_subset)) ) {\n",
    "# log_msg(\n",
    "#     paste0(\"🚨 Warning: the following columns are expected, but missing in dhis2_routine : \",  paste(setdiff(cols_to_subset, names(dhis2_routine_subset)), collapse = \", \") ) \n",
    "# )\n",
    "#     }"
   ]
  },
  {
   "cell_type": "markdown",
   "id": "0755cd13-9643-4903-aacb-ae0ed78f86a1",
   "metadata": {},
   "source": [
    "`#### 🚨 Set `0` values to `NA``"
   ]
  },
  {
   "cell_type": "code",
   "execution_count": null,
   "id": "505bc314-d098-4398-bfb0-3f6918516343",
   "metadata": {
    "vscode": {
     "languageId": "r"
    }
   },
   "outputs": [],
   "source": [
    "# # ⚠️ To switch back: issue with changing config and expected cols ... ⚠️\n",
    "# # Temp version of the code to handle missing cols (defined in confg file, hence -> DHIS2_INDICATORS , but missing from routine data)\n",
    "# #  (because config file was changed but there was no new data extraction)\n",
    "\n",
    "# DHIS2_INDICATORS_FILTERED <- intersect(names(dhis2_routine_subset), DHIS2_INDICATORS)\n",
    "\n",
    "# print(DHIS2_INDICATORS)\n",
    "# print(DHIS2_INDICATORS_FILTERED)"
   ]
  },
  {
   "cell_type": "code",
   "execution_count": null,
   "id": "15329d61-7f04-4cbf-a72b-e5178237c9e8",
   "metadata": {
    "editable": true,
    "slideshow": {
     "slide_type": ""
    },
    "tags": [],
    "vscode": {
     "languageId": "r"
    }
   },
   "outputs": [],
   "source": [
    "# # 0 value to NA \n",
    "# if (NA_TREATMENT == 'SET_0_TO_NA') { \n",
    "#     # dhis2_routine_subset[, DHIS2_INDICATORS][dhis2_routine_subset[, DHIS2_INDICATORS] == 0] <- NA  #  ⚠️ REACTIVATE THIS ⚠️\n",
    "#     dhis2_routine_subset[, DHIS2_INDICATORS_FILTERED][dhis2_routine_subset[, DHIS2_INDICATORS_FILTERED] == 0] <- NA  # ⚠️ TEMP switch as config.json was changed but not extracted data ⚠️\n",
    "#     msg <- paste0(\"✍🏽 Set 0 values to NA in cols : \", paste(names(dhis2_routine_subset[, DHIS2_INDICATORS_FILTERED]), collapse=', ') )\n",
    "#     log_msg(msg)\n",
    "# }"
   ]
  },
  {
   "cell_type": "code",
   "execution_count": null,
   "id": "670508a0-3075-4f82-aa2c-d26cf867f13d",
   "metadata": {
    "vscode": {
     "languageId": "r"
    }
   },
   "outputs": [],
   "source": [
    "# # HF considered \"inactif\" when all indicators are NA (= did not submit anything for these indicators), \n",
    "# #     else \"actif\" (= they submitted something)\n",
    "\n",
    "# hf_active = dhis2_routine_subset %>%\n",
    "#     dplyr::mutate(# nomiss = apply(dhis2_routine_subset[,DHIS2_INDICATORS], 1, function(y) sum(!is.na(y))), \n",
    "#                   nomiss = apply(dhis2_routine_subset[,DHIS2_INDICATORS_FILTERED], 1, function(y) sum(!is.na(y))), # ⚠️ TEMP SWITCH (cofing issue ... )\n",
    "#                   varmis =ifelse(nomiss == 0, 0, 1),\n",
    "#                   ACTIVE = ifelse(varmis == 0, FALSE, TRUE)) %>% # 🚨 GP changed to BOOLEAN to save space\n",
    "#     dplyr::arrange(ADM1_ID, ADM2_ID, OU_ID, PERIOD) %>% \n",
    "#     dplyr::group_by(ADM1_ID, ADM2_ID, OU_ID) %>% \n",
    "#     dplyr::mutate(cummiss = sum(nomiss), \n",
    "#                   # inactivity = nomiss/length(DHIS2_INDICATORS) * 100, \n",
    "#                   inactivity = nomiss/length(DHIS2_INDICATORS_FILTERED) * 100, # ⚠️ TEMP SWITCH (cofing issue ... )\n",
    "#                   start_date = ifelse(\n",
    "#                     any(inactivity != 100, na.rm = TRUE),\n",
    "#                     min(PERIOD[inactivity != 100], na.rm = TRUE),\n",
    "#                     NA  # Default to NA if no valid values\n",
    "#                     )) %>%\n",
    "#     dplyr::filter(PERIOD >= start_date)"
   ]
  },
  {
   "cell_type": "code",
   "execution_count": null,
   "id": "68023e8e-f7f6-4201-b097-1996bee57671",
   "metadata": {
    "vscode": {
     "languageId": "r"
    }
   },
   "outputs": [],
   "source": [
    "# head(hf_active, 3)"
   ]
  },
  {
   "cell_type": "markdown",
   "id": "ae3aa127-c20c-4ca5-af0c-4a4260883cac",
   "metadata": {},
   "source": [
    "`#### 🚨 Here 👇 swap denominator: join `dhis2_reporting_expected` to replace `TOTAL_HF` with `EXPECTED_REPORTS``"
   ]
  },
  {
   "cell_type": "code",
   "execution_count": null,
   "id": "a97c7d75-3317-48bc-a2f1-770bf38d141a",
   "metadata": {
    "vscode": {
     "languageId": "r"
    }
   },
   "outputs": [],
   "source": [
    "# Break process: create intermediate df (`hf_active_month`) -> then join `dhis2_reporting_expected`"
   ]
  },
  {
   "cell_type": "code",
   "execution_count": null,
   "id": "92651472-26e2-4131-ac02-288122138b0b",
   "metadata": {
    "vscode": {
     "languageId": "r"
    }
   },
   "outputs": [],
   "source": [
    "# # --- 1. create intermediate df `hf_active_month`: summarize nr of \"active\" (reporting) HF by month ------------------------\n",
    "# hf_active_month <- hf_active %>% \n",
    "# # filter(ADM1_ID == \"rWrCdr321Qu\") |> # ⚠️⚠️⚠️ TEMP subset just for CODE development ... ! ⚠️⚠️⚠️\n",
    "#     dplyr::group_by(ADM2_ID, YEAR, MONTH) %>%\n",
    "#     dplyr::summarize(\n",
    "#                      SUBMITTED_REPORTS = length(which(ACTIVE == TRUE)), # 🚨 GP changed to BOOLEAN to save space\n",
    "#                      .groups = \"drop\") |>\n",
    "# mutate(YEAR = as.integer(YEAR), \n",
    "#        MONTH = as.integer(MONTH)\n",
    "#       )\n",
    "\n",
    "# print(dim(hf_active_month))\n",
    "# head(hf_active_month)"
   ]
  },
  {
   "cell_type": "code",
   "execution_count": null,
   "id": "db5ad094-0601-4a18-9435-db60c1f4e8ff",
   "metadata": {
    "vscode": {
     "languageId": "r"
    }
   },
   "outputs": [],
   "source": [
    "# # --- 2. then join `dhis2_reporting_expected` to `hf_active_month`: add denominator col `REPORTING_RATE` ------------------------\n",
    "# reporting_rate_any_month <- left_join(hf_active_month, \n",
    "#                                       dhis2_reporting_expected |> select(ADM2_ID, YEAR, MONTH, EXPECTED_REPORTS),\n",
    "#                                       by = join_by(ADM2_ID, YEAR, MONTH)   \n",
    "#                                      )  |>\n",
    "#     dplyr::mutate(\n",
    "#         REPORTING_RATE = round(SUBMITTED_REPORTS/EXPECTED_REPORTS,2) # NEW\n",
    "#     ) %>%\n",
    "#     ungroup() %>%  \n",
    "#     mutate(YEAR = as.integer(YEAR),\n",
    "#            MONTH = as.integer(MONTH),\n",
    "#           ) \n",
    "\n",
    "# print(dim(reporting_rate_any_month))\n",
    "# head(reporting_rate_any_month)"
   ]
  },
  {
   "cell_type": "code",
   "execution_count": null,
   "id": "05f94483-1524-426e-9fe3-4b9bf572c05e",
   "metadata": {
    "vscode": {
     "languageId": "r"
    }
   },
   "outputs": [],
   "source": []
  },
  {
   "cell_type": "markdown",
   "id": "73ed8e24-1aab-47af-9d91-5bc4899a40e9",
   "metadata": {},
   "source": [
    "`#### Quick data quality check 🔍`"
   ]
  },
  {
   "cell_type": "code",
   "execution_count": null,
   "id": "713a5ed3-2aeb-4949-8ecc-6ee3f787a719",
   "metadata": {
    "vscode": {
     "languageId": "r"
    }
   },
   "outputs": [],
   "source": [
    "# inspect_reporting_rate(reporting_rate_any_month)"
   ]
  },
  {
   "cell_type": "markdown",
   "id": "a3fe8e1c-8891-4fda-b651-6f37b61f18de",
   "metadata": {},
   "source": [
    "`#### Subset cols`"
   ]
  },
  {
   "cell_type": "code",
   "execution_count": null,
   "id": "d30ad91e-a783-422c-ac0b-89a01c6a4283",
   "metadata": {
    "scrolled": true,
    "vscode": {
     "languageId": "r"
    }
   },
   "outputs": [],
   "source": [
    "# reporting_rate_any_month <- reporting_rate_any_month |> \n",
    "# select(all_of(fixed_cols_rr))\n",
    "\n",
    "# head(reporting_rate_any_month, 3)"
   ]
  },
  {
   "cell_type": "markdown",
   "id": "98f4aa0e-9d6a-4e02-b040-4b833341235f",
   "metadata": {},
   "source": [
    "`#### Plot by MONTH (heatmap)`"
   ]
  },
  {
   "cell_type": "code",
   "execution_count": null,
   "id": "997c66af-c1d5-42e1-99a2-a30f15818461",
   "metadata": {
    "vscode": {
     "languageId": "r"
    }
   },
   "outputs": [],
   "source": [
    "# # Plot heatmap\n",
    "# options(repr.plot.width = 20, repr.plot.height = 10)\n",
    "\n",
    "# reporting_rate_any_month %>%\n",
    "# mutate(\n",
    "#     DATE = as.Date(paste(YEAR, MONTH, \"01\", sep = \"-\")), \n",
    "#     ADM2_ID = factor(ADM2_ID)\n",
    "#     ) %>%\n",
    "# ggplot(., \n",
    "#        aes(x = DATE, y = ADM2_ID, \n",
    "#            fill = REPORTING_RATE * 100) \n",
    "#       ) + \n",
    "#   geom_tile() +\n",
    "#   scale_fill_viridis_c(\n",
    "#     option = \"C\",\n",
    "#     direction = 1,\n",
    "#     limits = c(0, 100), \n",
    "#     name = \"Reporting rate (%)\"\n",
    "#   ) +\n",
    "#   labs(\n",
    "#     title = \"Taux de rapportage mensuel par district sanitaire\",\n",
    "#     subtitle = \"Chaque tuile représente l’exhaustivité du rapportage par district et par mois\",\n",
    "#     x = \"Mois\",\n",
    "#     y = \"District sanitaire\"\n",
    "#   ) +\n",
    "#   theme_minimal(base_size = 13) +\n",
    "#   theme(\n",
    "#     axis.text.x = element_text(angle = 90, hjust = 1, vjust = 0.5, size = 9),\n",
    "#     axis.text.y = element_text(size = 9),\n",
    "#     plot.title = element_text(face = \"bold\", hjust = 0.5, size = 14),\n",
    "#     plot.subtitle = element_text(hjust = 0.5, size = 12),\n",
    "#     legend.position = \"right\",\n",
    "#     panel.grid = element_blank()\n",
    "#   )"
   ]
  },
  {
   "cell_type": "markdown",
   "id": "fb3f84dc-d959-454e-93dd-8d5bc4e736c2",
   "metadata": {},
   "source": [
    "`#### <s>**Year**ly **mean** and **median** per **ADM2**</s>`"
   ]
  },
  {
   "cell_type": "code",
   "execution_count": null,
   "id": "5148b334-5cf7-4675-a916-215d4264402c",
   "metadata": {
    "vscode": {
     "languageId": "r"
    }
   },
   "outputs": [],
   "source": [
    "# # Mean\n",
    "# reporting_rate_any_year_mean = reporting_rate_any_month %>%\n",
    "#     group_by(ADM2_ID, YEAR) %>% \n",
    "#     summarise(REPORTING_RATE = round(mean(REPORTING_RATE, na.rm = T), 2), .groups = \"drop\") %>% \n",
    "#     ungroup() %>%\n",
    "#     mutate(YEAR = as.integer(YEAR)) \n",
    "\n",
    "# print(dim(reporting_rate_any_year_mean))\n",
    "# head(reporting_rate_any_year_mean, 3)"
   ]
  },
  {
   "cell_type": "code",
   "execution_count": null,
   "id": "e1d3dbcd-9b5a-43e1-961b-f41de14ca4e6",
   "metadata": {
    "vscode": {
     "languageId": "r"
    }
   },
   "outputs": [],
   "source": [
    "# # Median\n",
    "# reporting_rate_any_year_median = reporting_rate_any_month %>%\n",
    "#     group_by(ADM2_ID, YEAR) %>% \n",
    "#     summarise(REPORTING_RATE = round(median(REPORTING_RATE, na.rm = T), 2), .groups = \"drop\") %>% \n",
    "#     ungroup() %>%\n",
    "#     mutate(YEAR = as.integer(YEAR))\n",
    "\n",
    "# print(dim(reporting_rate_any_year_median))\n",
    "# head(reporting_rate_any_year_median, 3)"
   ]
  },
  {
   "cell_type": "code",
   "execution_count": null,
   "id": "5dafc91e-ecb7-42d0-96f4-f731b8d82bd8",
   "metadata": {
    "vscode": {
     "languageId": "r"
    }
   },
   "outputs": [],
   "source": []
  },
  {
   "cell_type": "code",
   "execution_count": null,
   "id": "46579950-28c2-4091-8203-abc7b120c03a",
   "metadata": {
    "vscode": {
     "languageId": "r"
    }
   },
   "outputs": [],
   "source": []
  },
  {
   "cell_type": "markdown",
   "id": "3e57f2e8-1ccc-417c-9fa6-e6b1976336bc",
   "metadata": {},
   "source": [
    "# 4. Export"
   ]
  },
  {
   "cell_type": "markdown",
   "id": "6729e183-5395-4fb7-a535-978c61124710",
   "metadata": {},
   "source": [
    "## 4.1. 📁 To /data/ folder"
   ]
  },
  {
   "cell_type": "markdown",
   "id": "6afeb0d8-333a-4f09-9036-dea4e09389d2",
   "metadata": {},
   "source": [
    "#### CSV"
   ]
  },
  {
   "cell_type": "code",
   "execution_count": null,
   "id": "05fdc631-e6ad-4b95-8f74-c036bf6a67d1",
   "metadata": {
    "vscode": {
     "languageId": "r"
    }
   },
   "outputs": [],
   "source": [
    "# Abbreviation for Data Elememnt chosen NUMERATOR\n",
    "if (DATAELEMENT_METHOD_NUMERATOR == \"CONF\" ) {\n",
    "    method_num = \"n1\"\n",
    "} else if (DATAELEMENT_METHOD_NUMERATOR == \"CONF|SUSP|TEST\") {\n",
    "    method_num = \"n2\"\n",
    "    }\n",
    "\n",
    "method_num\n",
    "\n",
    "\n",
    "# Abbreviation for Data Elememnt chosen DENOMINATOR\n",
    "if (DATAELEMENT_METHOD_DENOMINATOR == \"DHIS2_EXPECTED_REPORTS\") {\n",
    "    method_den = \"d1\"\n",
    "} else if (DATAELEMENT_METHOD_DENOMINATOR == \"ACTIVE_FACILITIES\") {\n",
    "    method_den = \"d2\"\n",
    "    }\n",
    "\n",
    "method_den"
   ]
  },
  {
   "cell_type": "code",
   "execution_count": null,
   "id": "fda82cc6-3dc0-4968-9161-b8c17a15ee78",
   "metadata": {
    "vscode": {
     "languageId": "r"
    }
   },
   "outputs": [],
   "source": [
    "# write function\n",
    "snt_write_csv <- function(x, output_data_path, method) {\n",
    "  \n",
    "  full_directory_path <- file.path(output_data_path, \"reporting_rate\")\n",
    "  \n",
    "  if (!dir.exists(full_directory_path)) {\n",
    "    dir.create(full_directory_path, recursive = TRUE)\n",
    "  }\n",
    "\n",
    "  if (method == \"dataelement\") {\n",
    "      file_path <- file.path(full_directory_path, paste0(COUNTRY_CODE, \"_reporting_rate_\", method, \"-\", method_num, \"-\", method_den, \".csv\"))\n",
    "  } else {\n",
    "      file_path <- file.path(full_directory_path, paste0(COUNTRY_CODE, \"_reporting_rate_\", method, \".csv\")) # \"_month.csv\"\n",
    "  }\n",
    "  \n",
    "  write_csv(x, file_path)\n",
    "\n",
    "  log_msg(paste0(\"Exported : \", file_path))\n",
    "}"
   ]
  },
  {
   "cell_type": "code",
   "execution_count": null,
   "id": "14cd7342-812e-48c8-a300-cc4e31cbfd52",
   "metadata": {
    "vscode": {
     "languageId": "r"
    }
   },
   "outputs": [],
   "source": [
    "# Method \"Dataset\"\n",
    "snt_write_csv(x = reporting_rate_dataset, \n",
    "              output_data_path = DATA_PATH, \n",
    "              method = \"dataset\") \n",
    "\n",
    "# Method \"Data Element\"\n",
    "snt_write_csv(x = reporting_rate_dataelement,\n",
    "              output_data_path = DATA_PATH, \n",
    "              method = \"dataelement\")"
   ]
  },
  {
   "cell_type": "markdown",
   "id": "1aaf40aa-0910-4ba3-b95b-16d04b9e22c2",
   "metadata": {},
   "source": [
    "#### parquet"
   ]
  },
  {
   "cell_type": "code",
   "execution_count": null,
   "id": "d37b1ddf-9f2f-43ae-96bf-20dd3b3f13b2",
   "metadata": {
    "vscode": {
     "languageId": "r"
    }
   },
   "outputs": [],
   "source": [
    "# write function\n",
    "snt_write_parquet <- function(x, output_data_path, method) {\n",
    "  \n",
    "  full_directory_path <- file.path(output_data_path, \"reporting_rate\")\n",
    "  \n",
    "  if (!dir.exists(full_directory_path)) {\n",
    "    dir.create(full_directory_path, recursive = TRUE)\n",
    "  }\n",
    "    \n",
    "  if (method == \"dataelement\") {\n",
    "      file_path <- file.path(full_directory_path, paste0(COUNTRY_CODE, \"_reporting_rate_\", method, \"-\", method_num, \"-\", method_den, \".parquet\"))\n",
    "  } else {\n",
    "      file_path <- file.path(full_directory_path, paste0(COUNTRY_CODE, \"_reporting_rate_\", method, \".parquet\")) # \"_month.csv\"\n",
    "  }\n",
    "  \n",
    "  arrow::write_parquet(x, file_path)\n",
    "\n",
    "  log_msg(paste0(\"Exported : \", file_path))\n",
    "}"
   ]
  },
  {
   "cell_type": "code",
   "execution_count": null,
   "id": "b66d327e-2585-4c22-94b5-5caa4aee3fd2",
   "metadata": {
    "vscode": {
     "languageId": "r"
    }
   },
   "outputs": [],
   "source": [
    "# Method \"Dataset\"\n",
    "snt_write_parquet(x = reporting_rate_dataset,\n",
    "                  output_data_path = DATA_PATH,\n",
    "                  method = \"dataset\"\n",
    "                 )\n",
    "\n",
    "# Method \"Data Element\"\n",
    "snt_write_parquet(x = reporting_rate_dataelement,\n",
    "                  output_data_path = DATA_PATH,\n",
    "                  method = \"dataelement\"\n",
    "                 )"
   ]
  },
  {
   "cell_type": "code",
   "execution_count": null,
   "id": "55f4e6a6-89b8-4cc9-b56c-5b5fdb025910",
   "metadata": {
    "vscode": {
     "languageId": "r"
    }
   },
   "outputs": [],
   "source": []
  }
 ],
 "metadata": {
  "kernelspec": {
   "display_name": "R",
   "language": "R",
   "name": "ir"
  },
  "language_info": {
   "codemirror_mode": "r",
   "file_extension": ".r",
   "mimetype": "text/x-r-source",
   "name": "R",
   "pygments_lexer": "r",
   "version": "4.4.3"
  }
 },
 "nbformat": 4,
 "nbformat_minor": 5
}
