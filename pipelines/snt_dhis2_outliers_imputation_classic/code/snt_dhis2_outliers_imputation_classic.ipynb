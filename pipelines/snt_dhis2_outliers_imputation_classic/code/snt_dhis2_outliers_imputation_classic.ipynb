{
 "cells": [
  {
   "cell_type": "markdown",
   "id": "26675878-1d15-4b17-9f93-b92d396b82fc",
   "metadata": {},
   "source": [
    "# Outliers detection classic methods\n",
    "\n",
    "We use the following approaches:\n",
    "* (always) mean ± \\[3] SD \n",
    "* (always) meadian ± \\[3] MAD\n",
    "* (always) IQR x \\[1.5] \n",
    "\n",
    "--------------------\n",
    "\n",
    "**Input**: \n",
    "* **routine DHIS2** data (formatted and aligned)\n",
    "    * from Dataset \"**snt-dhis2-formatted**\", `XXX_routine.parquet`\n",
    "\n",
    "**Output**: \n",
    "All outputs saved to Dataset \"**snt-outliers-detection**\", with the following .parquet files:\n",
    "* **1 comprehensive table** with flags for all outliers methods selected by the user\n",
    "    *  cols: YEAR, MONTH, ADM1_ID, ADM2_ID, OU_ID, INDICATOR, VALUE, **OUTLIER_METHOD_X**, **OUTLIER_METHOD_Y**, **OUTLIER_METHOD_Z** ...\n",
    "    *  Filename: `XXX_flagged_outliers_allmethods.parquet`\n",
    "* **3-5 individual tables** (separated files), each containig the flags for _a given method only_\n",
    "    *   cols: YEAR, MONTH, ADM1_ID, ADM2_ID, OU_ID, INDICATOR, VALUE, **OUTLIER_METHOD_X**\n",
    "    *   Filename: `XXX_outlier_<method_name>.parquet`\n",
    "* 🐘 **Table** in ws **Database** with added cols needed for 📊 **Shiny App: SNT Outliers Explorer**\n",
    "    *   cols: YEAR, MONTH, ADM1_ID, ADM2_ID, OU_ID, INDICATOR, VALUE, OUTLIER_METHOD_X, OUTLIER_METHOD_Y, OUTLIER_METHOD_Z, **ADM1_NAME**, **ADM2_NAME**, **OU_NAME**, **DATE**\n",
    "    *   Table name: `flagged_outliers_allmethods_name_date`\n",
    "\n",
    "---------------------"
   ]
  },
  {
   "cell_type": "code",
   "execution_count": null,
   "id": "dacfeeef-e5e7-42c0-9aff-d63ead982231",
   "metadata": {},
   "outputs": [],
   "source": [
    "# Parameters\n",
    "# DEVIATION_MEAN <- 3\n",
    "# DEVIATION_MEDIAN <- 3\n",
    "# DEVIATION_IQR <- 1.5  "
   ]
  },
  {
   "cell_type": "markdown",
   "id": "02e2d697-b807-42da-bdf8-04391d43282e",
   "metadata": {},
   "source": [
    "## 1. Setup"
   ]
  },
  {
   "cell_type": "code",
   "execution_count": null,
   "id": "0dbf12bf-e036-452f-9227-65f33c687693",
   "metadata": {},
   "outputs": [],
   "source": [
    "# Project folders\n",
    "ROOT_PATH <- \"~/workspace\"  \n",
    "CODE_PATH <- file.path(ROOT_PATH, 'code') \n",
    "CONFIG_PATH <- file.path(ROOT_PATH, 'configuration')\n",
    "DATA_PATH <- file.path(ROOT_PATH, 'data')\n",
    "\n",
    "# Load utils\n",
    "source(file.path(CODE_PATH, \"snt_utils.r\"))\n",
    "\n",
    "# Load libraries \n",
    "required_packages <- c( \"data.table\", \"arrow\", \"tidyverse\", \"jsonlite\", \"DBI\", \"RPostgres\", \"reticulate\", \"glue\", \"zoo\")\n",
    "install_and_load(required_packages)\n",
    "\n",
    "# Environment variables\n",
    "Sys.setenv(PROJ_LIB = \"/opt/conda/share/proj\")\n",
    "Sys.setenv(GDAL_DATA = \"/opt/conda/share/gdal\")\n",
    "Sys.setenv(RETICULATE_PYTHON = \"/opt/conda/bin/python\")\n",
    "\n",
    "# Load OpenHEXA sdk\n",
    "openhexa <- import(\"openhexa.sdk\")"
   ]
  },
  {
   "cell_type": "markdown",
   "id": "f3be4862-fec4-4818-982a-234dcfb1a048",
   "metadata": {},
   "source": [
    "### 1.1. Validate parameters"
   ]
  },
  {
   "cell_type": "code",
   "execution_count": null,
   "id": "eb6e48fb-8c59-43c7-8ec5-63d9de507b0f",
   "metadata": {},
   "outputs": [],
   "source": [
    "if (!exists(\"DEVIATION_MEAN\")) DEVIATION_MEAN <- 3\n",
    "if (!exists(\"DEVIATION_MEDIAN\")) DEVIATION_MEDIAN <- 3\n",
    "if (!exists(\"DEVIATION_IQR\")) DEVIATION_IQR <- 1.5 "
   ]
  },
  {
   "cell_type": "markdown",
   "id": "96c666ca-3de2-4bdc-b95d-2a8428906e72",
   "metadata": {},
   "source": [
    "### 1.2. Load and check `SNT_config` file"
   ]
  },
  {
   "cell_type": "code",
   "execution_count": null,
   "id": "4768a17f-c083-45a2-936f-079a099d67aa",
   "metadata": {},
   "outputs": [],
   "source": [
    "# Load SNT config\n",
    "config_json <- tryCatch({ fromJSON(file.path(CONFIG_PATH, \"SNT_config.json\")) },\n",
    "    error = function(e) {\n",
    "        msg <- glue(\"[ERROR] Error while loading configuration {conditionMessage(e)}\")\n",
    "        log_msg(msg)\n",
    "        stop(msg)\n",
    "    })\n",
    "\n",
    "log_msg(glue(\"SNT configuration loaded from  : {file.path(CONFIG_PATH, 'SNT_config.json')}\"))"
   ]
  },
  {
   "cell_type": "code",
   "execution_count": null,
   "id": "ab185477-313d-499d-abc1-eb2235267282",
   "metadata": {},
   "outputs": [],
   "source": [
    "# Check SNT configuration \n",
    "snt_config_mandatory <- c(\"COUNTRY_CODE\", \"DHIS2_ADMINISTRATION_1\", \"DHIS2_ADMINISTRATION_2\") \n",
    "for (conf in snt_config_mandatory) {\n",
    "    if (is.null(config_json$SNT_CONFIG[[conf]])) {\n",
    "        msg <- paste(\"Missing configuration input:\", conf)\n",
    "        log_msg(msg)\n",
    "        stop(msg)\n",
    "    }\n",
    "}\n",
    "\n",
    "COUNTRY_CODE <- config_json$SNT_CONFIG$COUNTRY_CODE\n",
    "ADMIN_1 <- toupper(config_json$SNT_CONFIG$DHIS2_ADMINISTRATION_1)\n",
    "ADMIN_2 <- toupper(config_json$SNT_CONFIG$DHIS2_ADMINISTRATION_2)\n",
    "DHIS2_INDICATORS <- names(config_json$DHIS2_DATA_DEFINITIONS$DHIS2_INDICATOR_DEFINITIONS)\n",
    "fixed_cols = c('PERIOD', 'YEAR', 'MONTH', 'ADM1_ID', 'ADM2_ID', 'OU_ID')"
   ]
  },
  {
   "cell_type": "markdown",
   "id": "2ba9f196-a041-4a91-8def-c55b9e3c972b",
   "metadata": {},
   "source": [
    "## 2. Load Data"
   ]
  },
  {
   "cell_type": "markdown",
   "id": "5ca268fd-6d97-4400-a0a8-9ef65c4e9a24",
   "metadata": {},
   "source": [
    "### 2.1. **Routine** data (DHIS2) \n",
    "\n",
    "Formatted & aggregated data stored in OpenHEXA Dataset \"**SNT_DHIS2_FORMATTED**\""
   ]
  },
  {
   "cell_type": "code",
   "execution_count": null,
   "id": "bab5973f-5044-4521-8ee0-1490a95a8077",
   "metadata": {},
   "outputs": [],
   "source": [
    "# Load file from dataset (formatting)\n",
    "dataset_name <- config_json$SNT_DATASET_IDENTIFIERS$DHIS2_DATASET_FORMATTED\n",
    "dhis2_routine <- tryCatch({ get_latest_dataset_file_in_memory(dataset_name, paste0(COUNTRY_CODE, \"_routine.parquet\")) }, \n",
    "    error = function(e) {\n",
    "        msg <- glue(\"[ERROR] Error while loading DHIS2 routine data file for {COUNTRY_CODE} : {conditionMessage(e)}\")  # log error message\n",
    "        log_msg(msg)\n",
    "        stop(msg)\n",
    "})\n",
    "\n",
    "log_msg(glue(\"DHIS2 routine data loaded from dataset : {dataset_name}\"))\n",
    "log_msg(glue(\"DHIS2 routine data loaded has dimensions: {nrow(dhis2_routine)} rows, {ncol(dhis2_routine)} columns.\"))\n",
    "print(dim(dhis2_routine))\n",
    "head(dhis2_routine, 2)"
   ]
  },
  {
   "cell_type": "markdown",
   "id": "c7f87c70-ebb2-4251-a5e7-96dd7f8d17a9",
   "metadata": {},
   "source": [
    "🔍 **Assert indicators are present**"
   ]
  },
  {
   "cell_type": "code",
   "execution_count": null,
   "id": "a057008f-cb42-4416-8e01-bbd21f7d8ae5",
   "metadata": {},
   "outputs": [],
   "source": [
    "# Raise an error if any of DHIS2_INDICATORS are not present in the dhis2 routine data.\n",
    "for (ind in DHIS2_INDICATORS) {\n",
    "    if (!(ind %in% colnames(dhis2_routine))) {\n",
    "        msg <- paste(\"[ERROR] Missing indicator column in routine data: \", ind)\n",
    "        log_msg(msg)\n",
    "        stop(msg)\n",
    "    }\n",
    "}"
   ]
  },
  {
   "cell_type": "markdown",
   "id": "7372f6d2-ad9a-4264-965d-db07951d91e3",
   "metadata": {},
   "source": [
    "## 3. Outliers Detection"
   ]
  },
  {
   "cell_type": "markdown",
   "id": "160487f8-b353-4474-ab6d-07288196cc6e",
   "metadata": {},
   "source": [
    "### 3.1. Transform routine data  \n",
    "\n",
    "* **Pivot longer***: cols become rows"
   ]
  },
  {
   "cell_type": "code",
   "execution_count": null,
   "id": "0921f52a-2644-471a-9b17-355a953a45a5",
   "metadata": {},
   "outputs": [],
   "source": [
    "dhis2_routine_long <- dhis2_routine %>%\n",
    "    select(all_of(c(\"ADM1_ID\", \"ADM2_ID\", \"OU_ID\", \"PERIOD\", DHIS2_INDICATORS))) %>%\n",
    "    pivot_longer(cols = all_of(DHIS2_INDICATORS), names_to = \"INDICATOR\", values_to = \"VALUE\")\n",
    "\n",
    "print(dim(dhis2_routine_long))\n",
    "head(dhis2_routine_long, 2)"
   ]
  },
  {
   "cell_type": "markdown",
   "id": "c917eb6f-c745-4ea5-938d-a17633fe2ee6",
   "metadata": {},
   "source": [
    "🔍 **Remove duplicated values**"
   ]
  },
  {
   "cell_type": "code",
   "execution_count": null,
   "id": "bb60628f-4f0a-47d2-ad67-e9f7645ad0fa",
   "metadata": {},
   "outputs": [],
   "source": [
    "# check if there are any duplicates\n",
    "duplicated <- dhis2_routine_long %>%\n",
    "  group_by(ADM1_ID, ADM2_ID, OU_ID, PERIOD, INDICATOR) %>%\n",
    "  summarise(n = dplyr::n(), .groups= \"drop\") %>%\n",
    "  filter(n > 1L)\n",
    "\n",
    "# Remove dups\n",
    "if (nrow(duplicated) > 0) {\n",
    "    log_msg(glue(\"Removing {nrow(duplicated)} duplicated values.\"))\n",
    "    dhis2_routine_long <- dhis2_routine_long %>%\n",
    "        distinct(ADM1_ID, ADM2_ID, OU_ID, PERIOD, INDICATOR, .keep_all = TRUE)\n",
    "    head(duplicated)\n",
    "}"
   ]
  },
  {
   "cell_type": "markdown",
   "id": "d306cbd4-65ff-4f7f-a0ea-f6da8f7aace0",
   "metadata": {},
   "source": [
    "### 3.2. Calculate **summary stats**\n",
    "At `OU_ID` (Health Facility) x `INDICATOR`, calculate:\n",
    "* mean\n",
    "* median\n",
    "* SD\n",
    "* MAD\n",
    "* Q1 (25th)\n",
    "* Q3 (75th)."
   ]
  },
  {
   "cell_type": "code",
   "execution_count": null,
   "id": "1ff16eb1-cbf9-421b-9766-f108346c727f",
   "metadata": {},
   "outputs": [],
   "source": [
    "# stats\n",
    "dhis2_routine_stats <- dhis2_routine_long %>%\n",
    "    group_by(across(all_of(c(\"ADM1_ID\", \"ADM2_ID\", \"OU_ID\", \"INDICATOR\")))) %>%  # , YEAR?\n",
    "    mutate(\n",
    "        # n = n(), # added for inspection  \n",
    "        # n_positive = length(na.omit(VALUE)), # ⚠️ 2025-08-26: added for inspection  \n",
    "        mean = ceiling(mean(VALUE, na.rm = TRUE)),\n",
    "        median = ceiling(median(VALUE, na.rm = TRUE)),\n",
    "        sd = ceiling(sd(VALUE, na.rm = TRUE)),\n",
    "        mad = ceiling(mad(VALUE, constant = 1, na.rm = TRUE)), # 🚨 scale factor: `constant = 1` (default `constant = 1.4826`) \n",
    "        q1 = ceiling(quantile(VALUE, 0.25, na.rm = TRUE)), \n",
    "        q3 = ceiling(quantile(VALUE, 0.75, na.rm = TRUE))\n",
    "      ) %>% \n",
    "      ungroup() \n",
    "\n",
    "dim(dhis2_routine_stats)\n",
    "head(dhis2_routine_stats, 2)"
   ]
  },
  {
   "cell_type": "markdown",
   "id": "f5abf79e-d004-4aa4-bc30-94a25e18d034",
   "metadata": {},
   "source": [
    "### 3.3. Flag outlier values: use the 3 **classic** methods\n",
    "\n",
    "Flagging from *all* the 3 methods in the same table (each method is a column)."
   ]
  },
  {
   "cell_type": "code",
   "execution_count": null,
   "id": "e839258a-f342-4270-93c7-fe5ff6db25ac",
   "metadata": {},
   "outputs": [],
   "source": [
    "# just renaming the method column name\n",
    "DEVIATION_IQR_NAME <- gsub(\"\\\\.\", \"_\", as.character(DEVIATION_IQR))\n",
    "\n",
    "# outliers detection\n",
    "dhis2_routine_outliers <- dhis2_routine_stats %>% \n",
    "    mutate(\n",
    "        mean_lower_bound = mean - DEVIATION_MEAN * sd, \n",
    "        mean_upper_bound = mean + DEVIATION_MEAN * sd,\n",
    "        !!sym(glue(\"OUTLIER_MEAN{DEVIATION_MEAN}SD\")) := if_else(\n",
    "          VALUE < mean_lower_bound | VALUE > mean_upper_bound,\n",
    "          TRUE, # = outlier\n",
    "          FALSE\n",
    "        )) %>% \n",
    "      mutate(\n",
    "        median_lower_bound = median - DEVIATION_MEDIAN * mad,\n",
    "        median_upper_bound = median + DEVIATION_MEDIAN * mad,\n",
    "        !!sym(glue(\"OUTLIER_MEDIAN{DEVIATION_MEDIAN}MAD\")) := if_else(\n",
    "          VALUE < median_lower_bound | VALUE > median_upper_bound,\n",
    "          TRUE,\n",
    "          FALSE\n",
    "        )) %>% \n",
    "      mutate(\n",
    "        iqr = (q3 - q1) * DEVIATION_IQR,\n",
    "        iqr_lower_bound = q1 - iqr,\n",
    "        iqr_upper_bound = q3 + iqr,\n",
    "        !!sym(glue(\"OUTLIER_IQR{DEVIATION_IQR_NAME}\")) := if_else(\n",
    "          VALUE < iqr_lower_bound | VALUE > iqr_upper_bound,\n",
    "          TRUE,\n",
    "          FALSE\n",
    "        )) \n",
    "\n",
    "outlier_cols = dhis2_routine_outliers %>% select(starts_with(\"OUTLIER_\")) %>% names()\n",
    "log_msg(paste0(\"Calculated columns : \", paste(outlier_cols, collapse=\", \")))\n",
    "\n",
    "print(dim(dhis2_routine_outliers))\n",
    "head(dhis2_routine_outliers, 2)"
   ]
  },
  {
   "cell_type": "markdown",
   "id": "1e5ad64f-1faf-4c76-a475-62624a097c1a",
   "metadata": {},
   "source": [
    "### 3.4. Flag `NA`s as non-outliers: \n",
    "\n",
    "This overall eventually makes all `VALUE == 0` into not-outlier, because upstream all `VALUE == 0` where replaced with `NA` to be ignored by the summary stats that defined the bundaries for outliers (mean, median, mad, sd)."
   ]
  },
  {
   "cell_type": "code",
   "execution_count": null,
   "id": "d5d2c321-a745-42ba-ae14-e3646099e01b",
   "metadata": {},
   "outputs": [],
   "source": [
    "dhis2_routine_outliers <- dhis2_routine_outliers %>%\n",
    "  mutate(across(starts_with(\"OUTLIER_\"), ~ if_else(is.na(.x), FALSE, .x)))"
   ]
  },
  {
   "cell_type": "code",
   "execution_count": null,
   "id": "9e3fb49f-a9b8-4161-85b5-747e2069e41e",
   "metadata": {},
   "outputs": [],
   "source": [
    "# dhis2_routine_outliers$OUTLIER_MEAN3SD %>% sum()\n",
    "# dhis2_routine_outliers$OUTLIER_MEDIAN3MAD %>% sum()\n",
    "# dhis2_routine_outliers$OUTLIER_IQR1_5 %>% sum()"
   ]
  },
  {
   "cell_type": "markdown",
   "id": "65b7bd52-4211-42de-bfa4-4abdcc16ce4e",
   "metadata": {},
   "source": [
    "### 3.5. Select outliers columns only\n",
    "\n",
    "This table contains **all values**, **flagged** (bool) based on each (and all) outliers detection method used.\n",
    "\n",
    "**Structure**: contains always the same fixed set of cols (`fixed_cols`, INDICATOR, VALUE) + **1 col for each** implemented **outliers detection method** <br>\n",
    "(so table keeps growing as cols are added to the right end)"
   ]
  },
  {
   "cell_type": "code",
   "execution_count": null,
   "id": "f5c3154f-be9b-4d16-ab60-42ab270c949f",
   "metadata": {},
   "outputs": [],
   "source": [
    "# Select outlier columns\n",
    "dhis2_routine_outliers_selection <- dhis2_routine_outliers %>% \n",
    "    mutate(\n",
    "        YEAR = as.integer(substr(PERIOD, 1, 4)),\n",
    "        MONTH = as.integer(substr(PERIOD, 5, 6))) %>%\n",
    "    select(any_of(c(fixed_cols, \"INDICATOR\", \"VALUE\")), starts_with(\"OUTLIER_\"))\n",
    "\n",
    "print(dim(dhis2_routine_outliers_selection))\n",
    "head(dhis2_routine_outliers_selection, 2) # <----------------------------- OUTLIERS TABLE"
   ]
  },
  {
   "cell_type": "code",
   "execution_count": null,
   "id": "ebc9017b-e649-4691-b51e-38a67a960160",
   "metadata": {},
   "outputs": [],
   "source": [
    "# log detection results\n",
    "outlier_columns <- colnames(dhis2_routine_outliers_selection)[startsWith(colnames(dhis2_routine_outliers_selection), \"OUTLIER_\")]\n",
    "for (outliers_col in outlier_columns) {\n",
    "    if (substr(outliers_col, 1, 12) == \"OUTLIER_MEAN\") outlier_method <- glue(\"{DEVIATION_MEAN}*SD deviation from mean\")\n",
    "    if (substr(outliers_col, 1, 14) == \"OUTLIER_MEDIAN\") outlier_method <- glue(\"{DEVIATION_MEDIAN}*MAD deviation from median\")\n",
    "    if (substr(outliers_col, 1, 11) == \"OUTLIER_IQR\") outlier_method <- glue(\"IQR {DEVIATION_IQR}\")\n",
    "    nr_of_outliers <- nrow(dhis2_routine_outliers_selection[dhis2_routine_outliers_selection[outliers_col] == TRUE, ])\n",
    "    perc_outliers <- nr_of_outliers/nrow(dhis2_routine_outliers_selection) * 100\n",
    "    log_msg(glue(\"Using {outlier_method} method, {nr_of_outliers} outliers were identified ({sprintf('%.3f', perc_outliers)} % of data points).\")) \n",
    "}"
   ]
  },
  {
   "cell_type": "markdown",
   "id": "b1e507d5-9f74-4f55-a83a-9b1b9f4e2c99",
   "metadata": {},
   "source": [
    "## 4. Routine data imputation\n",
    "\n",
    "Generate a routine data version with imputed values for each method."
   ]
  },
  {
   "cell_type": "markdown",
   "id": "1199a115-17ba-46da-a973-4ead680a367b",
   "metadata": {},
   "source": [
    "### 4.1. Impute values to outliers\n",
    "\n",
    "Compute moving average column ([-1, +1] points window) to be used as imputation value."
   ]
  },
  {
   "cell_type": "code",
   "execution_count": null,
   "id": "df00c11c-104a-414e-b3f8-18725cca8c3b",
   "metadata": {},
   "outputs": [],
   "source": [
    "# select columns (these names are dinamycally chosen based on the input, shouldn't be just standard?)\n",
    "mean_column <- grep(\"^OUTLIER_MEAN\", colnames(dhis2_routine_outliers_selection), value = TRUE)[1]\n",
    "median_column <- grep(\"^OUTLIER_MEDIAN\", colnames(dhis2_routine_outliers_selection), value = TRUE)[1]\n",
    "iqr_column <- grep(\"^OUTLIER_IQR\", colnames(dhis2_routine_outliers_selection), value = TRUE)[1]"
   ]
  },
  {
   "cell_type": "code",
   "execution_count": null,
   "id": "f0a35dcf-f163-4404-a00f-4bb707604229",
   "metadata": {},
   "outputs": [],
   "source": [
    "# Define helper function to compute moving average for an outlier column\n",
    "start_time <- Sys.time()\n",
    "\n",
    "impute_outliers_dt <- function(dt, outlier_col) {\n",
    "    dt <- as.data.table(dt)  # transform to datatable\n",
    "    setorder(dt, ADM1_ID, ADM2_ID, OU_ID, INDICATOR, PERIOD)  \n",
    "    dt[, TO_IMPUTE := fifelse(get(outlier_col) == TRUE, NA_real_, VALUE)]  # Compute TO_IMPUTE column\n",
    "    \n",
    "    # Fast rolling mean by group\n",
    "    dt[, MOVING_AVG := frollapply(TO_IMPUTE, n = 3, FUN = function(x) ceiling(mean(x, na.rm = TRUE)), align = \"center\"), \n",
    "     by = .(ADM1_ID, ADM2_ID, OU_ID, INDICATOR)]\n",
    "    \n",
    "    dt[, VALUE_IMPUTED := fifelse(is.na(TO_IMPUTE), MOVING_AVG, TO_IMPUTE)]  \n",
    "    dt[, c(\"TO_IMPUTE\") := NULL]  # clean up \"MOVING_AVG\"\n",
    "                                  \n",
    "    return(as.data.frame(copy(dt)))\n",
    "}"
   ]
  },
  {
   "cell_type": "code",
   "execution_count": null,
   "id": "c9ac0bc3-9226-4593-ba30-f077be78bba2",
   "metadata": {},
   "outputs": [],
   "source": [
    "# impute outliers\n",
    "log_msg(\"Running imputation for outliers detected using Mean method.\")\n",
    "dhis2_routine_outliers_mean_imputed <- impute_outliers_dt(dhis2_routine_outliers_selection, mean_column)\n",
    "\n",
    "log_msg(\"Running imputation for outliers detected using Median (MAD) method.\")\n",
    "dhis2_routine_outliers_median_imputed <- impute_outliers_dt(dhis2_routine_outliers_selection, median_column)\n",
    "\n",
    "log_msg(\"Running imputation for outliers detected using IQR method.\")\n",
    "dhis2_routine_outliers_iqr_imputed <- impute_outliers_dt(dhis2_routine_outliers_selection, iqr_column)\n",
    "                                \n",
    "Sys.time() - start_time"
   ]
  },
  {
   "cell_type": "code",
   "execution_count": null,
   "id": "a3a5e689-c2d2-41f7-8917-7a0bfaef9589",
   "metadata": {},
   "outputs": [],
   "source": [
    "# dhis2_routine_outliers_mean_imputed$OUTLIER_MEAN3SD %>% sum()\n",
    "# dhis2_routine_outliers_median_imputed$OUTLIER_MEDIAN3MAD %>% sum()\n",
    "# dhis2_routine_outliers_iqr_imputed$OUTLIER_IQR1_5 %>% sum()"
   ]
  },
  {
   "cell_type": "markdown",
   "id": "78a329bb-7518-4247-bd87-f39925ce0c85",
   "metadata": {},
   "source": [
    "### 4.2. Routine data imputed tables\n",
    "\n",
    "We create two versions of each table `imputation` and `removed` (outliers)"
   ]
  },
  {
   "cell_type": "code",
   "execution_count": null,
   "id": "296897d4-e296-4c75-a285-1bec53ce7e0e",
   "metadata": {},
   "outputs": [],
   "source": [
    "# get names from routine (This cleaning only applies to DRC names)\n",
    "pyramid_names <- dhis2_routine %>% \n",
    "    distinct(ADM1_NAME, ADM1_ID, ADM2_NAME, ADM2_ID, OU_ID, OU_NAME) %>%\n",
    "    # Simpify strings \n",
    "    mutate(\n",
    "        ADM1_NAME = stringr::str_trim(str_remove_all(ADM1_NAME, \"^[A-Z]{2}| PROVINCE\")),\n",
    "        ADM2_NAME = stringr::str_trim(str_remove_all(ADM2_NAME, \"^[A-Z]{2}| ZONE DE SANTE\"))\n",
    "    )"
   ]
  },
  {
   "cell_type": "code",
   "execution_count": null,
   "id": "3c7a6f18-065e-4c8b-975f-65ce9869b5e5",
   "metadata": {},
   "outputs": [],
   "source": [
    "# Define helper function to format both versions \n",
    "format_routine_data_selection <- function(df, outlier_column, remove = FALSE) {\n",
    "  \n",
    "  # Decide which rows to keep\n",
    "  if (remove) df <- df %>% filter(!.data[[outlier_column]])\n",
    "  \n",
    "  df %>%\n",
    "    select(-VALUE) %>%\n",
    "    rename(VALUE = VALUE_IMPUTED) %>%\n",
    "    select(all_of(fixed_cols), INDICATOR, VALUE) %>%  # global: fixed_cols\n",
    "    mutate(VALUE = ifelse(is.nan(VALUE), NA_real_, VALUE)) %>%\n",
    "    pivot_wider(names_from = \"INDICATOR\", values_from = \"VALUE\") %>%\n",
    "    left_join(pyramid_names, by = c(\"ADM1_ID\", \"ADM2_ID\", \"OU_ID\"))\n",
    "}"
   ]
  },
  {
   "cell_type": "code",
   "execution_count": null,
   "id": "30be2612-785f-4edf-9be6-eee138a9bee3",
   "metadata": {},
   "outputs": [],
   "source": [
    "# format mean tables\n",
    "dhis2_routine_mean_imputed <- format_routine_data_selection(dhis2_routine_outliers_mean_imputed, mean_column)\n",
    "dhis2_routine_mean_removed <- format_routine_data_selection(dhis2_routine_outliers_mean_imputed, mean_column, remove=TRUE)"
   ]
  },
  {
   "cell_type": "code",
   "execution_count": null,
   "id": "19da5cc5-ba43-4d55-8f6d-9b0359f08452",
   "metadata": {},
   "outputs": [],
   "source": [
    "# format median tables\n",
    "dhis2_routine_median_imputed <- format_routine_data_selection(dhis2_routine_outliers_median_imputed, median_column)\n",
    "dhis2_routine_median_removed <- format_routine_data_selection(dhis2_routine_outliers_median_imputed, median_column, remove=TRUE)"
   ]
  },
  {
   "cell_type": "code",
   "execution_count": null,
   "id": "6a9dff41-fc8a-42a8-83e5-2b5b406e9350",
   "metadata": {},
   "outputs": [],
   "source": [
    "# format iqr tables\n",
    "dhis2_routine_iqr_imputed <- format_routine_data_selection(dhis2_routine_outliers_iqr_imputed, iqr_column)\n",
    "dhis2_routine_iqr_removed <- format_routine_data_selection(dhis2_routine_outliers_iqr_imputed, iqr_column, remove=TRUE)"
   ]
  },
  {
   "cell_type": "markdown",
   "id": "6210fdee-4894-417b-be69-04c5a68ce811",
   "metadata": {},
   "source": [
    "## 5. Export Output tables\n",
    "\n",
    "Export tables as `.parquet` files to `data/` folder."
   ]
  },
  {
   "cell_type": "code",
   "execution_count": null,
   "id": "f16af828-1189-44af-98a0-0948603624b7",
   "metadata": {},
   "outputs": [],
   "source": [
    "output_path <- file.path(DATA_PATH , \"dhis2\", \"outliers_imputation\")\n",
    "                         \n",
    "# outliers table \n",
    "routine_outliers_db_table <- dhis2_routine_outliers_selection %>% \n",
    "    mutate(DATE = make_date(year = YEAR, month = MONTH, day = 1L)) %>%\n",
    "    left_join(pyramid_names, by = c(\"ADM1_ID\", \"ADM2_ID\", \"OU_ID\")) \n",
    "write_parquet(routine_outliers_db_table, file.path(output_path, paste0(COUNTRY_CODE, \"_routine_outliers-classic_detection.parquet\")))\n",
    "log_msg(glue(\"Outliers detection table saved.\"))"
   ]
  },
  {
   "cell_type": "code",
   "execution_count": null,
   "id": "e8a4b818-e354-40d4-a134-4213bf7e4983",
   "metadata": {},
   "outputs": [],
   "source": [
    "# Mean table results\n",
    "write_parquet(dhis2_routine_mean_imputed, file.path(output_path, paste0(COUNTRY_CODE, \"_routine_outliers-mean_imputed.parquet\")))\n",
    "write_parquet(dhis2_routine_mean_removed, file.path(output_path, paste0(COUNTRY_CODE, \"_routine_outliers-mean_removed.parquet\")))\n",
    "log_msg(glue(\"Mean deviation detection results saved.\"))"
   ]
  },
  {
   "cell_type": "code",
   "execution_count": null,
   "id": "577a37ea-e6ba-4100-9e91-096dbb62cfb0",
   "metadata": {},
   "outputs": [],
   "source": [
    "# Median table results\n",
    "write_parquet(dhis2_routine_median_imputed, file.path(output_path, paste0(COUNTRY_CODE, \"_routine_outliers-median_imputed.parquet\")))\n",
    "write_parquet(dhis2_routine_median_removed, file.path(output_path, paste0(COUNTRY_CODE, \"_routine_outliers-median_removed.parquet\")))\n",
    "log_msg(glue(\"Median deviation detection results saved.\"))"
   ]
  },
  {
   "cell_type": "code",
   "execution_count": null,
   "id": "2bc0da4a-38d7-4098-b15e-8077f32b6c59",
   "metadata": {},
   "outputs": [],
   "source": [
    "# Mean table results\n",
    "write_parquet(dhis2_routine_iqr_imputed, file.path(output_path, paste0(COUNTRY_CODE, \"_routine_outliers-iqr_imputed.parquet\")))\n",
    "write_parquet(dhis2_routine_iqr_removed, file.path(output_path, paste0(COUNTRY_CODE, \"_routine_outliers-iqr_removed.parquet\")))\n",
    "log_msg(glue(\"IQR detection results saved.\"))"
   ]
  },
  {
   "cell_type": "code",
   "execution_count": null,
   "id": "19fd4410-ba0b-47f4-a62e-5370c209715f",
   "metadata": {},
   "outputs": [],
   "source": [
    "log_msg(glue(\"Results saved under: {output_path}\"))    "
   ]
  }
 ],
 "metadata": {
  "kernelspec": {
   "display_name": "R",
   "language": "R",
   "name": "ir"
  },
  "language_info": {
   "codemirror_mode": "r",
   "file_extension": ".r",
   "mimetype": "text/x-r-source",
   "name": "R",
   "pygments_lexer": "r",
   "version": "4.4.3"
  }
 },
 "nbformat": 4,
 "nbformat_minor": 5
}
